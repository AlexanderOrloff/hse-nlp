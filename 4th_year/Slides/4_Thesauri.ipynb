{
 "cells": [
  {
   "cell_type": "markdown",
   "metadata": {
    "id": "8pH1dDPzlSny",
    "slideshow": {
     "slide_type": "slide"
    }
   },
   "source": [
    "# Тезаурусы и другие представления значений\n",
    "\n",
    "# Еникеева Е.В.\n",
    "\n",
    "# 2022"
   ]
  },
  {
   "cell_type": "markdown",
   "metadata": {
    "slideshow": {
     "slide_type": "notes"
    }
   },
   "source": [
    "# Краткое содержание\n",
    "\n",
    "1. В задаче NER говорили о словарях предметной области (названия профессий, должностей, гео-сущностей и тд)\n",
    "2. Как представить отношения в лексике? Словарь vs. граф\n",
    "3. Типы графических представлений: онтология, тезаурус, семантическая сеть, фрейм ...\n",
    "4. Для чего нужны такие ресурсы? Инфопоиск, WSD, диалоговые системы ..."
   ]
  },
  {
   "cell_type": "markdown",
   "metadata": {
    "slideshow": {
     "slide_type": "slide"
    }
   },
   "source": [
    "# Как хранить лексическую информацию?\n",
    "\n",
    "слово = лексема\n",
    "\n",
    "* (машинный) словарь\n",
    "  - просто bag of words, словарь парадигм ...\n",
    "  - эмбеддинги слов\n",
    "* (традиционный) словарь\n",
    "  - лексические единицы + значение (парадигматика) + особенности употребления (синтагматика) и т.д.\n",
    "* лексическографические ресурсы x базы знаний\n",
    "  - онтологии, тезаурусы, семантические сети"
   ]
  },
  {
   "cell_type": "markdown",
   "metadata": {
    "slideshow": {
     "slide_type": "slide"
    }
   },
   "source": [
    "## База знаний\n",
    "\n",
    "\\- машиночитаемое представление информации о знаниях (понятиях и отношениях между ними) для некоторой предметной области\n",
    "\n",
    "Описание с помощью:\n",
    "- базы данных\n",
    "- языков разметки\n",
    "  - XML\n",
    "Специализированные модели:\n",
    "- RDF - Resource Description Framework\n",
    "- OWL - Web Ontology Language\n",
    "\n",
    "Для NLP может быть полезно:\n",
    "- описание терминологии конкретной области\n",
    "- описание лексической системы языка - лексические ресурсы/базы"
   ]
  },
  {
   "cell_type": "markdown",
   "metadata": {
    "slideshow": {
     "slide_type": "subslide"
    }
   },
   "source": [
    "## Онтология\n",
    "\n",
    "\\-- описание понятий и отношений между ними\n",
    "\n",
    "- экземпляры / instances\n",
    "- понятия / concepts\n",
    "- атрибуты / attributes\n",
    "- отношения / relations\n",
    "\n",
    "Иерархия понятий - **таксономия**\n",
    "\n",
    "!!! Онтология верхнего уровня (высшая онтология) - описание базовых абстрактных понятий"
   ]
  },
  {
   "cell_type": "markdown",
   "metadata": {
    "slideshow": {
     "slide_type": "subslide"
    }
   },
   "source": [
    "## Пример: drink\n",
    "\n",
    "[Drink в Wikidata](https://www.wikidata.org/wiki/Q40050)\n",
    "\n",
    "Пример верхнеуровневого понятия: https://www.wikidata.org/wiki/Q151885"
   ]
  },
  {
   "cell_type": "markdown",
   "metadata": {
    "slideshow": {
     "slide_type": "slide"
    }
   },
   "source": [
    "## Тезаурус\n",
    "\n",
    "\\-- словарь лексических единиц и отношений между ними - семантический граф\n",
    "\n",
    "То есть онтология - описание системы **понятий**, а тезаурус - **лексической системы**.\n",
    "\n",
    "<img src=\"../Slides/4_Thesauri/wn-1.png\" width=500/>"
   ]
  },
  {
   "cell_type": "markdown",
   "metadata": {
    "slideshow": {
     "slide_type": "subslide"
    }
   },
   "source": [
    "## Единица описания\n",
    "\n",
    "- значение / word sense\n",
    "\n",
    "Почему?\n",
    "* омонимия и многозначность (полисемия)\n",
    "* деривация: производное может быть связано с конкретным значением\n",
    "* и тд"
   ]
  },
  {
   "cell_type": "markdown",
   "metadata": {
    "slideshow": {
     "slide_type": "subslide"
    }
   },
   "source": [
    "## Компоненты тезауруса\n",
    "\n",
    "* Категории (supersense)\n",
    "* Вершины : лексемы / значения / синсеты\n",
    "* Ребра : семантические отношения\n",
    "  * Гипо-/гиперонимия (IS A)\n",
    "  * Меронимия (PART OF)\n",
    "  * Причина – следствие\n",
    "  * …"
   ]
  },
  {
   "cell_type": "markdown",
   "metadata": {
    "slideshow": {
     "slide_type": "slide"
    }
   },
   "source": [
    "# WordNet\n",
    "\n",
    "- George Miller, Christiane Fellbaum\n",
    "\n",
    "https://wordnet.princeton.edu/\n",
    "\n",
    "- The WordNet 3.0 : 117798 nouns, 11529 verbs, 22479 adjectives, and 4481 adverbs\n",
    "- среднее количество значений для N: 1.23, для V: 2.16\n",
    "- 3 базы: N(существительные), V(глаголы), A(прилагательные+наречия)"
   ]
  },
  {
   "cell_type": "markdown",
   "metadata": {
    "slideshow": {
     "slide_type": "slide"
    }
   },
   "source": [
    "## Структура WordNet\n",
    "\n",
    "**word** - лексема\n",
    "\n",
    " - **word sense** - значение\n",
    "\n",
    "**synset** - ряд синонимичных значений\n",
    "  - **gloss** ~ толкование\n",
    "  \n",
    "**supersense** - фиксированный набор категорий\n",
    "\n",
    "**relation**"
   ]
  },
  {
   "cell_type": "markdown",
   "metadata": {
    "slideshow": {
     "slide_type": "slide"
    }
   },
   "source": [
    "## Отношения в WordNet\n",
    "\n",
    "- Hypernym / гипероним : $breakfast \\rightarrow meal$\n",
    "- Hyponym / гипоним : $meal \\rightarrow lunch$\n",
    "- Instance : $composer \\rightarrow Bach$\n",
    "- Meronym / has-part / мероним : $table \\rightarrow leg$\n",
    "- Holonym / part-of / холоним : $eye \\rightarrow face$\n",
    "\n",
    "...\n",
    "\n",
    "- Troponym / тропоним : $walk \\rightarrow stroll$\n",
    "- Entails / вывод : $snore \\rightarrow sleep$"
   ]
  },
  {
   "cell_type": "markdown",
   "metadata": {
    "slideshow": {
     "slide_type": "subslide"
    }
   },
   "source": [
    "## Пример\n",
    "\n",
    "<img src=\"../Slides/4_Thesauri/wn-2.png\" width=500/>"
   ]
  },
  {
   "cell_type": "code",
   "execution_count": 4,
   "metadata": {
    "colab": {
     "base_uri": "https://localhost:8080/"
    },
    "id": "X6Ellg_AAOdz",
    "outputId": "5d74ac0a-82ee-4c91-f82d-d80b020ef9ea",
    "slideshow": {
     "slide_type": "slide"
    }
   },
   "outputs": [
    {
     "name": "stderr",
     "output_type": "stream",
     "text": [
      "[nltk_data] Downloading package wordnet to /Users/rhubarb/nltk_data...\n",
      "[nltk_data]   Package wordnet is already up-to-date!\n"
     ]
    },
    {
     "data": {
      "text/plain": [
       "True"
      ]
     },
     "execution_count": 4,
     "metadata": {},
     "output_type": "execute_result"
    }
   ],
   "source": [
    "import nltk\n",
    "nltk.download('wordnet')"
   ]
  },
  {
   "cell_type": "code",
   "execution_count": 5,
   "metadata": {
    "id": "Zm3pvYUaAOd1",
    "slideshow": {
     "slide_type": "slide"
    }
   },
   "outputs": [],
   "source": [
    "from nltk.corpus import wordnet as wn\n",
    "from matplotlib import pyplot as plt\n",
    "%matplotlib inline"
   ]
  },
  {
   "cell_type": "code",
   "execution_count": 6,
   "metadata": {
    "colab": {
     "base_uri": "https://localhost:8080/"
    },
    "id": "5V1Ud2YBAOd2",
    "outputId": "0f0d68f2-7aba-4f4f-8a23-7d4e087a541a",
    "slideshow": {
     "slide_type": "slide"
    }
   },
   "outputs": [
    {
     "data": {
      "text/plain": [
       "117659"
      ]
     },
     "execution_count": 6,
     "metadata": {},
     "output_type": "execute_result"
    }
   ],
   "source": [
    "len(list(wn.all_synsets()))"
   ]
  },
  {
   "cell_type": "markdown",
   "metadata": {
    "id": "cvs9M7atAOd3",
    "slideshow": {
     "slide_type": "fragment"
    }
   },
   "source": [
    "Из них существительных:\n"
   ]
  },
  {
   "cell_type": "code",
   "execution_count": 7,
   "metadata": {
    "colab": {
     "base_uri": "https://localhost:8080/"
    },
    "id": "6i1seJjDAOd3",
    "outputId": "a92d7e8d-df5c-4a36-b4ba-c0e5c4e965c5",
    "slideshow": {
     "slide_type": "fragment"
    }
   },
   "outputs": [
    {
     "data": {
      "text/plain": [
       "82115"
      ]
     },
     "execution_count": 7,
     "metadata": {},
     "output_type": "execute_result"
    }
   ],
   "source": [
    "len(list(wn.all_synsets('n')))"
   ]
  },
  {
   "cell_type": "markdown",
   "metadata": {
    "id": "Qpsh33u-AOd4",
    "slideshow": {
     "slide_type": "fragment"
    }
   },
   "source": [
    "А глаголов:"
   ]
  },
  {
   "cell_type": "code",
   "execution_count": 8,
   "metadata": {
    "colab": {
     "base_uri": "https://localhost:8080/"
    },
    "id": "nFcPg4pxAOd4",
    "outputId": "6d4269f4-be12-452a-cad5-c61334a4d377",
    "slideshow": {
     "slide_type": "fragment"
    }
   },
   "outputs": [
    {
     "data": {
      "text/plain": [
       "13767"
      ]
     },
     "execution_count": 8,
     "metadata": {},
     "output_type": "execute_result"
    }
   ],
   "source": [
    "len(list(wn.all_synsets('v')))"
   ]
  },
  {
   "cell_type": "markdown",
   "metadata": {
    "id": "MOdcclWaAOd6",
    "slideshow": {
     "slide_type": "slide"
    }
   },
   "source": [
    "Синсет для слова можно достать вот так:"
   ]
  },
  {
   "cell_type": "code",
   "execution_count": 9,
   "metadata": {
    "colab": {
     "base_uri": "https://localhost:8080/"
    },
    "id": "aMHq49gGAOd6",
    "outputId": "a5336422-0d1e-4440-8811-51e5a173f286",
    "slideshow": {
     "slide_type": "fragment"
    }
   },
   "outputs": [
    {
     "data": {
      "text/plain": [
       "[Synset('car.n.01'),\n",
       " Synset('car.n.02'),\n",
       " Synset('car.n.03'),\n",
       " Synset('car.n.04'),\n",
       " Synset('cable_car.n.01')]"
      ]
     },
     "execution_count": 9,
     "metadata": {},
     "output_type": "execute_result"
    }
   ],
   "source": [
    "wn.synsets('car')"
   ]
  },
  {
   "cell_type": "markdown",
   "metadata": {
    "id": "EFuCLVDvAOd7",
    "slideshow": {
     "slide_type": "fragment"
    }
   },
   "source": [
    "Можно ограничить часть речи:"
   ]
  },
  {
   "cell_type": "code",
   "execution_count": 10,
   "metadata": {
    "colab": {
     "base_uri": "https://localhost:8080/"
    },
    "id": "obSuUm54AOd7",
    "outputId": "abde0beb-78a8-487d-fb39-c21cf2182f68",
    "slideshow": {
     "slide_type": "fragment"
    }
   },
   "outputs": [
    {
     "data": {
      "text/plain": [
       "[Synset('content.v.01'), Synset('content.v.02')]"
      ]
     },
     "execution_count": 10,
     "metadata": {},
     "output_type": "execute_result"
    }
   ],
   "source": [
    "wn.synsets('content', pos='v')"
   ]
  },
  {
   "cell_type": "markdown",
   "metadata": {
    "id": "fjI6358KAOd8",
    "slideshow": {
     "slide_type": "slide"
    }
   },
   "source": [
    "Можно посмотреть толкования:"
   ]
  },
  {
   "cell_type": "code",
   "execution_count": 11,
   "metadata": {
    "colab": {
     "base_uri": "https://localhost:8080/"
    },
    "id": "LFrNhWnYAOd8",
    "outputId": "dedd32f3-26fd-40aa-f024-add46dde8e93",
    "slideshow": {
     "slide_type": "fragment"
    }
   },
   "outputs": [
    {
     "name": "stdout",
     "output_type": "stream",
     "text": [
      "day - time for Earth to make a complete rotation on its axis\n",
      "day - some point or period in time\n",
      "day - a day assigned to a particular purpose or observance\n",
      "day - the time after sunrise and before sunset while it is light outside\n",
      "day - the recurring hours when you are not sleeping (especially those when you are working)\n",
      "day - an era of existence or influence\n",
      "day - the period of time taken by a particular planet (e.g. Mars) to make a complete rotation on its axis\n",
      "day - the time for one complete rotation of the earth relative to a particular star, about 4 minutes shorter than a mean solar day\n",
      "day - a period of opportunity\n",
      "day - United States writer best known for his autobiographical works (1874-1935)\n"
     ]
    }
   ],
   "source": [
    "word = 'day'\n",
    "for synset in wn.synsets(word):\n",
    "    print(word + ' - ' + synset.definition())\n"
   ]
  },
  {
   "cell_type": "markdown",
   "metadata": {
    "id": "BCeDOq4kAOd9",
    "slideshow": {
     "slide_type": "slide"
    }
   },
   "source": [
    "И даже примеры употребления:"
   ]
  },
  {
   "cell_type": "code",
   "execution_count": 12,
   "metadata": {
    "colab": {
     "base_uri": "https://localhost:8080/"
    },
    "id": "uM3DaOv5AOd9",
    "outputId": "b02a72ad-7316-49a4-8ed9-f83d887eca3e",
    "slideshow": {
     "slide_type": "fragment"
    }
   },
   "outputs": [
    {
     "name": "stdout",
     "output_type": "stream",
     "text": [
      "day - two days later they left | they put on two performances every day | there are 30,000 passengers per day\n",
      "day - it should arrive any day now | after that day she never trusted him again | those were the days | these days it is not unusual\n",
      "day - Mother's Day\n",
      "day - the dawn turned night into day | it is easier to make the repairs in the daytime\n",
      "day - my day began early this morning | it was a busy day on the stock exchange | she called it a day and went to bed\n",
      "day - in the day of the dinosaurs | in the days of the Roman Empire | in the days of sailing ships | he was a successful pianist in his day\n",
      "day - how long is a day on Jupiter?\n",
      "day - \n",
      "day - he deserves his day in court | every dog has his day\n",
      "day - \n"
     ]
    }
   ],
   "source": [
    "word = 'day'\n",
    "for synset in wn.synsets(word):\n",
    "    print(word + ' - ' + ' | '.join(synset.examples()))"
   ]
  },
  {
   "cell_type": "markdown",
   "metadata": {
    "id": "_NRExPhFAOd9",
    "slideshow": {
     "slide_type": "slide"
    }
   },
   "source": [
    "Как перейти от одного синсета к другим, связанным с первым определённым отношением:"
   ]
  },
  {
   "cell_type": "code",
   "execution_count": 14,
   "metadata": {
    "colab": {
     "base_uri": "https://localhost:8080/"
    },
    "id": "QFV1ikfeAOd-",
    "outputId": "cd42dfe1-54fb-41cd-c44c-43b526e00668",
    "slideshow": {
     "slide_type": "fragment"
    }
   },
   "outputs": [
    {
     "name": "stdout",
     "output_type": "stream",
     "text": [
      "Help on Synset in module nltk.corpus.reader.wordnet object:\n",
      "\n",
      "class Synset(_WordNetObject)\n",
      " |  Synset(wordnet_corpus_reader)\n",
      " |  \n",
      " |  Create a Synset from a \"<lemma>.<pos>.<number>\" string where:\n",
      " |  <lemma> is the word's morphological stem\n",
      " |  <pos> is one of the module attributes ADJ, ADJ_SAT, ADV, NOUN or VERB\n",
      " |  <number> is the sense number, counting from 0.\n",
      " |  \n",
      " |  Synset attributes, accessible via methods with the same name:\n",
      " |  \n",
      " |  - name: The canonical name of this synset, formed using the first lemma\n",
      " |    of this synset. Note that this may be different from the name\n",
      " |    passed to the constructor if that string used a different lemma to\n",
      " |    identify the synset.\n",
      " |  - pos: The synset's part of speech, matching one of the module level\n",
      " |    attributes ADJ, ADJ_SAT, ADV, NOUN or VERB.\n",
      " |  - lemmas: A list of the Lemma objects for this synset.\n",
      " |  - definition: The definition for this synset.\n",
      " |  - examples: A list of example strings for this synset.\n",
      " |  - offset: The offset in the WordNet dict file of this synset.\n",
      " |  - lexname: The name of the lexicographer file containing this synset.\n",
      " |  \n",
      " |  Synset methods:\n",
      " |  \n",
      " |  Synsets have the following methods for retrieving related Synsets.\n",
      " |  They correspond to the names for the pointer symbols defined here:\n",
      " |  https://wordnet.princeton.edu/documentation/wninput5wn\n",
      " |  These methods all return lists of Synsets.\n",
      " |  \n",
      " |  - hypernyms, instance_hypernyms\n",
      " |  - hyponyms, instance_hyponyms\n",
      " |  - member_holonyms, substance_holonyms, part_holonyms\n",
      " |  - member_meronyms, substance_meronyms, part_meronyms\n",
      " |  - attributes\n",
      " |  - entailments\n",
      " |  - causes\n",
      " |  - also_sees\n",
      " |  - verb_groups\n",
      " |  - similar_tos\n",
      " |  \n",
      " |  Additionally, Synsets support the following methods specific to the\n",
      " |  hypernym relation:\n",
      " |  \n",
      " |  - root_hypernyms\n",
      " |  - common_hypernyms\n",
      " |  - lowest_common_hypernyms\n",
      " |  \n",
      " |  Note that Synsets do not support the following relations because\n",
      " |  these are defined by WordNet as lexical relations:\n",
      " |  \n",
      " |  - antonyms\n",
      " |  - derivationally_related_forms\n",
      " |  - pertainyms\n",
      " |  \n",
      " |  Method resolution order:\n",
      " |      Synset\n",
      " |      _WordNetObject\n",
      " |      builtins.object\n",
      " |  \n",
      " |  Methods defined here:\n",
      " |  \n",
      " |  __init__(self, wordnet_corpus_reader)\n",
      " |      Initialize self.  See help(type(self)) for accurate signature.\n",
      " |  \n",
      " |  __repr__(self)\n",
      " |      Return repr(self).\n",
      " |  \n",
      " |  acyclic_tree = acyclic_depth_first(tree, children=<built-in function iter>, depth=-1, cut_mark=None, traversed=None)\n",
      " |      Traverse the nodes of a tree in depth-first order,\n",
      " |      discarding eventual cycles within any branch,\n",
      " |      adding cut_mark (when specified) if cycles were truncated.\n",
      " |      \n",
      " |      The first argument should be the tree root;\n",
      " |      children should be a function taking as argument a tree node\n",
      " |      and returning an iterator of the node's children.\n",
      " |      \n",
      " |      Catches all cycles:\n",
      " |      \n",
      " |      >>> import nltk\n",
      " |      >>> from nltk.util import acyclic_depth_first as acyclic_tree\n",
      " |      >>> wn=nltk.corpus.wordnet\n",
      " |      >>> from pprint import pprint\n",
      " |      >>> pprint(acyclic_tree(wn.synset('dog.n.01'), lambda s:s.hypernyms(),cut_mark='...'))\n",
      " |      [Synset('dog.n.01'),\n",
      " |       [Synset('canine.n.02'),\n",
      " |        [Synset('carnivore.n.01'),\n",
      " |         [Synset('placental.n.01'),\n",
      " |          [Synset('mammal.n.01'),\n",
      " |           [Synset('vertebrate.n.01'),\n",
      " |            [Synset('chordate.n.01'),\n",
      " |             [Synset('animal.n.01'),\n",
      " |              [Synset('organism.n.01'),\n",
      " |               [Synset('living_thing.n.01'),\n",
      " |                [Synset('whole.n.02'),\n",
      " |                 [Synset('object.n.01'),\n",
      " |                  [Synset('physical_entity.n.01'),\n",
      " |                   [Synset('entity.n.01')]]]]]]]]]]]]],\n",
      " |       [Synset('domestic_animal.n.01'), \"Cycle(Synset('animal.n.01'),-3,...)\"]]\n",
      " |  \n",
      " |  closure(self, rel, depth=-1)\n",
      " |      Return the transitive closure of source under the rel\n",
      " |      relationship, breadth-first, discarding cycles:\n",
      " |      \n",
      " |      >>> from nltk.corpus import wordnet as wn\n",
      " |      >>> computer = wn.synset('computer.n.01')\n",
      " |      >>> topic = lambda s:s.topic_domains()\n",
      " |      >>> print(list(computer.closure(topic)))\n",
      " |      [Synset('computer_science.n.01')]\n",
      " |      \n",
      " |      UserWarning: Discarded redundant search for Synset('computer.n.01') at depth 2\n",
      " |      \n",
      " |      \n",
      " |      Include redundant paths (but only once), avoiding duplicate searches\n",
      " |      (from 'animal.n.01' to 'entity.n.01'):\n",
      " |      \n",
      " |      >>> dog = wn.synset('dog.n.01')\n",
      " |      >>> hyp = lambda s:s.hypernyms()\n",
      " |      >>> print(list(dog.closure(hyp)))\n",
      " |      [Synset('canine.n.02'), Synset('domestic_animal.n.01'), Synset('carnivore.n.01'),\n",
      " |      Synset('animal.n.01'), Synset('placental.n.01'), Synset('organism.n.01'),\n",
      " |      Synset('mammal.n.01'), Synset('living_thing.n.01'), Synset('vertebrate.n.01'),\n",
      " |      Synset('whole.n.02'), Synset('chordate.n.01'), Synset('object.n.01'),\n",
      " |      Synset('physical_entity.n.01'), Synset('entity.n.01')]\n",
      " |      \n",
      " |      UserWarning: Discarded redundant search for Synset('animal.n.01') at depth 7\n",
      " |  \n",
      " |  common_hypernyms(self, other)\n",
      " |      Find all synsets that are hypernyms of this synset and the\n",
      " |      other synset.\n",
      " |      \n",
      " |      :type other: Synset\n",
      " |      :param other: other input synset.\n",
      " |      :return: The synsets that are hypernyms of both synsets.\n",
      " |  \n",
      " |  definition(self)\n",
      " |  \n",
      " |  examples(self)\n",
      " |  \n",
      " |  frame_ids(self)\n",
      " |  \n",
      " |  hypernym_distances(self, distance=0, simulate_root=False)\n",
      " |      Get the path(s) from this synset to the root, counting the distance\n",
      " |      of each node from the initial node on the way. A set of\n",
      " |      (synset, distance) tuples is returned.\n",
      " |      \n",
      " |      :type distance: int\n",
      " |      :param distance: the distance (number of edges) from this hypernym to\n",
      " |          the original hypernym ``Synset`` on which this method was called.\n",
      " |      :return: A set of ``(Synset, int)`` tuples where each ``Synset`` is\n",
      " |         a hypernym of the first ``Synset``.\n",
      " |  \n",
      " |  hypernym_paths(self)\n",
      " |      Get the path(s) from this synset to the root, where each path is a\n",
      " |      list of the synset nodes traversed on the way to the root.\n",
      " |      \n",
      " |      :return: A list of lists, where each list gives the node sequence\n",
      " |         connecting the initial ``Synset`` node and a root node.\n",
      " |  \n",
      " |  jcn_similarity(self, other, ic, verbose=False)\n",
      " |      Jiang-Conrath Similarity:\n",
      " |      Return a score denoting how similar two word senses are, based on the\n",
      " |      Information Content (IC) of the Least Common Subsumer (most specific\n",
      " |      ancestor node) and that of the two input Synsets. The relationship is\n",
      " |      given by the equation 1 / (IC(s1) + IC(s2) - 2 * IC(lcs)).\n",
      " |      \n",
      " |      :type  other: Synset\n",
      " |      :param other: The ``Synset`` that this ``Synset`` is being compared to.\n",
      " |      :type  ic: dict\n",
      " |      :param ic: an information content object (as returned by\n",
      " |          ``nltk.corpus.wordnet_ic.ic()``).\n",
      " |      :return: A float score denoting the similarity of the two ``Synset``\n",
      " |          objects.\n",
      " |  \n",
      " |  lch_similarity(self, other, verbose=False, simulate_root=True)\n",
      " |      Leacock Chodorow Similarity:\n",
      " |      Return a score denoting how similar two word senses are, based on the\n",
      " |      shortest path that connects the senses (as above) and the maximum depth\n",
      " |      of the taxonomy in which the senses occur. The relationship is given as\n",
      " |      -log(p/2d) where p is the shortest path length and d is the taxonomy\n",
      " |      depth.\n",
      " |      \n",
      " |      :type  other: Synset\n",
      " |      :param other: The ``Synset`` that this ``Synset`` is being compared to.\n",
      " |      :type simulate_root: bool\n",
      " |      :param simulate_root: The various verb taxonomies do not\n",
      " |          share a single root which disallows this metric from working for\n",
      " |          synsets that are not connected. This flag (True by default)\n",
      " |          creates a fake root that connects all the taxonomies. Set it\n",
      " |          to false to disable this behavior. For the noun taxonomy,\n",
      " |          there is usually a default root except for WordNet version 1.6.\n",
      " |          If you are using wordnet 1.6, a fake root will be added for nouns\n",
      " |          as well.\n",
      " |      :return: A score denoting the similarity of the two ``Synset`` objects,\n",
      " |          normally greater than 0. None is returned if no connecting path\n",
      " |          could be found. If a ``Synset`` is compared with itself, the\n",
      " |          maximum score is returned, which varies depending on the taxonomy\n",
      " |          depth.\n",
      " |  \n",
      " |  lemma_names(self, lang='eng')\n",
      " |      Return all the lemma_names associated with the synset\n",
      " |  \n",
      " |  lemmas(self, lang='eng')\n",
      " |      Return all the lemma objects associated with the synset\n",
      " |  \n",
      " |  lexname(self)\n",
      " |  \n",
      " |  lin_similarity(self, other, ic, verbose=False)\n",
      " |      Lin Similarity:\n",
      " |      Return a score denoting how similar two word senses are, based on the\n",
      " |      Information Content (IC) of the Least Common Subsumer (most specific\n",
      " |      ancestor node) and that of the two input Synsets. The relationship is\n",
      " |      given by the equation 2 * IC(lcs) / (IC(s1) + IC(s2)).\n",
      " |      \n",
      " |      :type other: Synset\n",
      " |      :param other: The ``Synset`` that this ``Synset`` is being compared to.\n",
      " |      :type ic: dict\n",
      " |      :param ic: an information content object (as returned by\n",
      " |          ``nltk.corpus.wordnet_ic.ic()``).\n",
      " |      :return: A float score denoting the similarity of the two ``Synset``\n",
      " |          objects, in the range 0 to 1.\n",
      " |  \n",
      " |  lowest_common_hypernyms(self, other, simulate_root=False, use_min_depth=False)\n",
      " |      Get a list of lowest synset(s) that both synsets have as a hypernym.\n",
      " |      When `use_min_depth == False` this means that the synset which appears\n",
      " |      as a hypernym of both `self` and `other` with the lowest maximum depth\n",
      " |      is returned or if there are multiple such synsets at the same depth\n",
      " |      they are all returned\n",
      " |      \n",
      " |      However, if `use_min_depth == True` then the synset(s) which has/have\n",
      " |      the lowest minimum depth and appear(s) in both paths is/are returned.\n",
      " |      \n",
      " |      By setting the use_min_depth flag to True, the behavior of NLTK2 can be\n",
      " |      preserved. This was changed in NLTK3 to give more accurate results in a\n",
      " |      small set of cases, generally with synsets concerning people. (eg:\n",
      " |      'chef.n.01', 'fireman.n.01', etc.)\n",
      " |      \n",
      " |      This method is an implementation of Ted Pedersen's \"Lowest Common\n",
      " |      Subsumer\" method from the Perl Wordnet module. It can return either\n",
      " |      \"self\" or \"other\" if they are a hypernym of the other.\n",
      " |      \n",
      " |      :type other: Synset\n",
      " |      :param other: other input synset\n",
      " |      :type simulate_root: bool\n",
      " |      :param simulate_root: The various verb taxonomies do not\n",
      " |          share a single root which disallows this metric from working for\n",
      " |          synsets that are not connected. This flag (False by default)\n",
      " |          creates a fake root that connects all the taxonomies. Set it\n",
      " |          to True to enable this behavior. For the noun taxonomy,\n",
      " |          there is usually a default root except for WordNet version 1.6.\n",
      " |          If you are using wordnet 1.6, a fake root will need to be added\n",
      " |          for nouns as well.\n",
      " |      :type use_min_depth: bool\n",
      " |      :param use_min_depth: This setting mimics older (v2) behavior of NLTK\n",
      " |          wordnet If True, will use the min_depth function to calculate the\n",
      " |          lowest common hypernyms. This is known to give strange results for\n",
      " |          some synset pairs (eg: 'chef.n.01', 'fireman.n.01') but is retained\n",
      " |          for backwards compatibility\n",
      " |      :return: The synsets that are the lowest common hypernyms of both\n",
      " |          synsets\n",
      " |  \n",
      " |  max_depth(self)\n",
      " |      :return: The length of the longest hypernym path from this\n",
      " |      synset to the root.\n",
      " |  \n",
      " |  min_depth(self)\n",
      " |      :return: The length of the shortest hypernym path from this\n",
      " |      synset to the root.\n",
      " |  \n",
      " |  mst = unweighted_minimum_spanning_tree(tree, children=<built-in function iter>)\n",
      " |      Output a Minimum Spanning Tree (MST) of an unweighted graph,\n",
      " |      by traversing the nodes of a tree in breadth-first order,\n",
      " |      discarding eventual cycles.\n",
      " |      \n",
      " |      The first argument should be the tree root;\n",
      " |      children should be a function taking as argument a tree node\n",
      " |      and returning an iterator of the node's children.\n",
      " |      \n",
      " |      >>> import nltk\n",
      " |      >>> from nltk.util import unweighted_minimum_spanning_tree as mst\n",
      " |      >>> wn=nltk.corpus.wordnet\n",
      " |      >>> from pprint import pprint\n",
      " |      >>> pprint(mst(wn.synset('bound.a.01'), lambda s:s.also_sees()))\n",
      " |      [Synset('bound.a.01'),\n",
      " |       [Synset('unfree.a.02'),\n",
      " |        [Synset('confined.a.02')],\n",
      " |        [Synset('dependent.a.01')],\n",
      " |        [Synset('restricted.a.01'), [Synset('classified.a.02')]]]]\n",
      " |  \n",
      " |  name(self)\n",
      " |  \n",
      " |  offset(self)\n",
      " |  \n",
      " |  path_similarity(self, other, verbose=False, simulate_root=True)\n",
      " |      Path Distance Similarity:\n",
      " |      Return a score denoting how similar two word senses are, based on the\n",
      " |      shortest path that connects the senses in the is-a (hypernym/hypnoym)\n",
      " |      taxonomy. The score is in the range 0 to 1, except in those cases where\n",
      " |      a path cannot be found (will only be true for verbs as there are many\n",
      " |      distinct verb taxonomies), in which case None is returned. A score of\n",
      " |      1 represents identity i.e. comparing a sense with itself will return 1.\n",
      " |      \n",
      " |      :type other: Synset\n",
      " |      :param other: The ``Synset`` that this ``Synset`` is being compared to.\n",
      " |      :type simulate_root: bool\n",
      " |      :param simulate_root: The various verb taxonomies do not\n",
      " |          share a single root which disallows this metric from working for\n",
      " |          synsets that are not connected. This flag (True by default)\n",
      " |          creates a fake root that connects all the taxonomies. Set it\n",
      " |          to false to disable this behavior. For the noun taxonomy,\n",
      " |          there is usually a default root except for WordNet version 1.6.\n",
      " |          If you are using wordnet 1.6, a fake root will be added for nouns\n",
      " |          as well.\n",
      " |      :return: A score denoting the similarity of the two ``Synset`` objects,\n",
      " |          normally between 0 and 1. None is returned if no connecting path\n",
      " |          could be found. 1 is returned if a ``Synset`` is compared with\n",
      " |          itself.\n",
      " |  \n",
      " |  pos(self)\n",
      " |  \n",
      " |  res_similarity(self, other, ic, verbose=False)\n",
      " |      Resnik Similarity:\n",
      " |      Return a score denoting how similar two word senses are, based on the\n",
      " |      Information Content (IC) of the Least Common Subsumer (most specific\n",
      " |      ancestor node).\n",
      " |      \n",
      " |      :type  other: Synset\n",
      " |      :param other: The ``Synset`` that this ``Synset`` is being compared to.\n",
      " |      :type ic: dict\n",
      " |      :param ic: an information content object (as returned by\n",
      " |          ``nltk.corpus.wordnet_ic.ic()``).\n",
      " |      :return: A float score denoting the similarity of the two ``Synset``\n",
      " |          objects. Synsets whose LCS is the root node of the taxonomy will\n",
      " |          have a score of 0 (e.g. N['dog'][0] and N['table'][0]).\n",
      " |  \n",
      " |  root_hypernyms(self)\n",
      " |      Get the topmost hypernyms of this synset in WordNet.\n",
      " |  \n",
      " |  shortest_path_distance(self, other, simulate_root=False)\n",
      " |      Returns the distance of the shortest path linking the two synsets (if\n",
      " |      one exists). For each synset, all the ancestor nodes and their\n",
      " |      distances are recorded and compared. The ancestor node common to both\n",
      " |      synsets that can be reached with the minimum number of traversals is\n",
      " |      used. If no ancestor nodes are common, None is returned. If a node is\n",
      " |      compared with itself 0 is returned.\n",
      " |      \n",
      " |      :type other: Synset\n",
      " |      :param other: The Synset to which the shortest path will be found.\n",
      " |      :return: The number of edges in the shortest path connecting the two\n",
      " |          nodes, or None if no path exists.\n",
      " |  \n",
      " |  tree(self, rel, depth=-1, cut_mark=None)\n",
      " |      Return the full relation tree, including self,\n",
      " |      discarding cycles:\n",
      " |      \n",
      " |      >>> from nltk.corpus import wordnet as wn\n",
      " |      >>> from pprint import pprint\n",
      " |      >>> computer = wn.synset('computer.n.01')\n",
      " |      >>> topic = lambda s:s.topic_domains()\n",
      " |      >>> pprint(computer.tree(topic))\n",
      " |      [Synset('computer.n.01'), [Synset('computer_science.n.01')]]\n",
      " |      \n",
      " |      UserWarning: Discarded redundant search for Synset('computer.n.01') at depth -3\n",
      " |      \n",
      " |      \n",
      " |      But keep duplicate branches (from 'animal.n.01' to 'entity.n.01'):\n",
      " |      \n",
      " |      >>> dog = wn.synset('dog.n.01')\n",
      " |      >>> hyp = lambda s:s.hypernyms()\n",
      " |      >>> pprint(dog.tree(hyp))\n",
      " |      [Synset('dog.n.01'),\n",
      " |       [Synset('canine.n.02'),\n",
      " |        [Synset('carnivore.n.01'),\n",
      " |         [Synset('placental.n.01'),\n",
      " |          [Synset('mammal.n.01'),\n",
      " |           [Synset('vertebrate.n.01'),\n",
      " |            [Synset('chordate.n.01'),\n",
      " |             [Synset('animal.n.01'),\n",
      " |              [Synset('organism.n.01'),\n",
      " |               [Synset('living_thing.n.01'),\n",
      " |                [Synset('whole.n.02'),\n",
      " |                 [Synset('object.n.01'),\n",
      " |                  [Synset('physical_entity.n.01'),\n",
      " |                   [Synset('entity.n.01')]]]]]]]]]]]]],\n",
      " |       [Synset('domestic_animal.n.01'),\n",
      " |        [Synset('animal.n.01'),\n",
      " |         [Synset('organism.n.01'),\n",
      " |          [Synset('living_thing.n.01'),\n",
      " |           [Synset('whole.n.02'),\n",
      " |            [Synset('object.n.01'),\n",
      " |             [Synset('physical_entity.n.01'), [Synset('entity.n.01')]]]]]]]]]\n",
      " |  \n",
      " |  wup_similarity(self, other, verbose=False, simulate_root=True)\n",
      " |      Wu-Palmer Similarity:\n",
      " |      Return a score denoting how similar two word senses are, based on the\n",
      " |      depth of the two senses in the taxonomy and that of their Least Common\n",
      " |      Subsumer (most specific ancestor node). Previously, the scores computed\n",
      " |      by this implementation did _not_ always agree with those given by\n",
      " |      Pedersen's Perl implementation of WordNet Similarity. However, with\n",
      " |      the addition of the simulate_root flag (see below), the score for\n",
      " |      verbs now almost always agree but not always for nouns.\n",
      " |      \n",
      " |      The LCS does not necessarily feature in the shortest path connecting\n",
      " |      the two senses, as it is by definition the common ancestor deepest in\n",
      " |      the taxonomy, not closest to the two senses. Typically, however, it\n",
      " |      will so feature. Where multiple candidates for the LCS exist, that\n",
      " |      whose shortest path to the root node is the longest will be selected.\n",
      " |      Where the LCS has multiple paths to the root, the longer path is used\n",
      " |      for the purposes of the calculation.\n",
      " |      \n",
      " |      :type  other: Synset\n",
      " |      :param other: The ``Synset`` that this ``Synset`` is being compared to.\n",
      " |      :type simulate_root: bool\n",
      " |      :param simulate_root: The various verb taxonomies do not\n",
      " |          share a single root which disallows this metric from working for\n",
      " |          synsets that are not connected. This flag (True by default)\n",
      " |          creates a fake root that connects all the taxonomies. Set it\n",
      " |          to false to disable this behavior. For the noun taxonomy,\n",
      " |          there is usually a default root except for WordNet version 1.6.\n",
      " |          If you are using wordnet 1.6, a fake root will be added for nouns\n",
      " |          as well.\n",
      " |      :return: A float score denoting the similarity of the two ``Synset``\n",
      " |          objects, normally greater than zero. If no connecting path between\n",
      " |          the two senses can be found, None is returned.\n",
      " |  \n",
      " |  ----------------------------------------------------------------------\n",
      " |  Methods inherited from _WordNetObject:\n",
      " |  \n",
      " |  __eq__(self, other)\n",
      " |      Return self==value.\n",
      " |  \n",
      " |  __ge__(self, other, NotImplemented=NotImplemented)\n",
      " |      Return a >= b.  Computed by @total_ordering from (not a < b).\n",
      " |  \n",
      " |  __gt__(self, other, NotImplemented=NotImplemented)\n",
      " |      Return a > b.  Computed by @total_ordering from (not a < b) and (a != b).\n",
      " |  \n",
      " |  __hash__(self)\n",
      " |      Return hash(self).\n",
      " |  \n",
      " |  __le__(self, other, NotImplemented=NotImplemented)\n",
      " |      Return a <= b.  Computed by @total_ordering from (a < b) or (a == b).\n",
      " |  \n",
      " |  __lt__(self, other)\n",
      " |      Return self<value.\n",
      " |  \n",
      " |  __ne__(self, other)\n",
      " |      Return self!=value.\n",
      " |  \n",
      " |  also_sees(self)\n",
      " |  \n",
      " |  attributes(self)\n",
      " |  \n",
      " |  causes(self)\n",
      " |  \n",
      " |  entailments(self)\n",
      " |  \n",
      " |  hypernyms(self)\n",
      " |  \n",
      " |  hyponyms(self)\n",
      " |  \n",
      " |  in_region_domains(self)\n",
      " |  \n",
      " |  in_topic_domains(self)\n",
      " |  \n",
      " |  in_usage_domains(self)\n",
      " |  \n",
      " |  instance_hypernyms(self)\n",
      " |  \n",
      " |  instance_hyponyms(self)\n",
      " |  \n",
      " |  member_holonyms(self)\n",
      " |  \n",
      " |  member_meronyms(self)\n",
      " |  \n",
      " |  part_holonyms(self)\n",
      " |  \n",
      " |  part_meronyms(self)\n",
      " |  \n",
      " |  region_domains(self)\n",
      " |  \n",
      " |  similar_tos(self)\n",
      " |  \n",
      " |  substance_holonyms(self)\n",
      " |  \n",
      " |  substance_meronyms(self)\n",
      " |  \n",
      " |  topic_domains(self)\n",
      " |  \n",
      " |  usage_domains(self)\n",
      " |  \n",
      " |  verb_groups(self)\n",
      " |  \n",
      " |  ----------------------------------------------------------------------\n",
      " |  Data descriptors inherited from _WordNetObject:\n",
      " |  \n",
      " |  __dict__\n",
      " |      dictionary for instance variables (if defined)\n",
      " |  \n",
      " |  __weakref__\n",
      " |      list of weak references to the object (if defined)\n",
      "\n"
     ]
    }
   ],
   "source": [
    "s = wn.synsets('car')[0]\n",
    "# print(s.definition())\n",
    "# s.part_meronyms()\n",
    "help(s)"
   ]
  },
  {
   "cell_type": "markdown",
   "metadata": {
    "id": "XQtbaMPbAOd-",
    "slideshow": {
     "slide_type": "slide"
    }
   },
   "source": [
    "Антонимы только достаются не очень удобно:"
   ]
  },
  {
   "cell_type": "code",
   "execution_count": 15,
   "metadata": {
    "colab": {
     "base_uri": "https://localhost:8080/"
    },
    "id": "lS2HK_kzAOd_",
    "outputId": "2e880faf-f9e9-41e7-de06-ad9429bdd03d",
    "slideshow": {
     "slide_type": "subslide"
    }
   },
   "outputs": [
    {
     "data": {
      "text/plain": [
       "[Lemma('bad.n.01.bad')]"
      ]
     },
     "execution_count": 15,
     "metadata": {},
     "output_type": "execute_result"
    }
   ],
   "source": [
    "wn.synsets('good')[2].lemmas()[0].antonyms()"
   ]
  },
  {
   "cell_type": "markdown",
   "metadata": {
    "slideshow": {
     "slide_type": "slide"
    }
   },
   "source": [
    "Что-нибудь полезное для нашей предыдущей задачи (NER):"
   ]
  },
  {
   "cell_type": "code",
   "execution_count": 16,
   "metadata": {
    "slideshow": {
     "slide_type": "fragment"
    }
   },
   "outputs": [
    {
     "data": {
      "text/plain": [
       "[Lemma('state.n.04.state'),\n",
       " Lemma('state.n.04.nation'),\n",
       " Lemma('state.n.04.country'),\n",
       " Lemma('state.n.04.land'),\n",
       " Lemma('state.n.04.commonwealth'),\n",
       " Lemma('state.n.04.res_publica'),\n",
       " Lemma('state.n.04.body_politic')]"
      ]
     },
     "execution_count": 16,
     "metadata": {},
     "output_type": "execute_result"
    }
   ],
   "source": [
    "wn.synsets('country')[0].lemmas()"
   ]
  },
  {
   "cell_type": "markdown",
   "metadata": {
    "id": "t3clOsffAOd_",
    "slideshow": {
     "slide_type": "slide"
    }
   },
   "source": [
    "Можно засунуть это все в граф и нарисовать:"
   ]
  },
  {
   "cell_type": "code",
   "execution_count": null,
   "metadata": {
    "id": "lwCdFUolAOd_",
    "slideshow": {
     "slide_type": "fragment"
    }
   },
   "outputs": [],
   "source": [
    "#!pip install networkx"
   ]
  },
  {
   "cell_type": "code",
   "execution_count": 17,
   "metadata": {
    "colab": {
     "base_uri": "https://localhost:8080/",
     "height": 575
    },
    "id": "HGoXS6yTAOeA",
    "outputId": "bcf5485c-5f6b-4502-8c6b-77022e64466e",
    "slideshow": {
     "slide_type": "fragment"
    }
   },
   "outputs": [
    {
     "data": {
      "image/png": "[encoded data removed]",
      "text/plain": [
       "<Figure size 720x720 with 1 Axes>"
      ]
     },
     "metadata": {},
     "output_type": "display_data"
    }
   ],
   "source": [
    "import networkx as nx\n",
    "\n",
    "car = wn.synsets('car')\n",
    "hyponyms = car[0].part_meronyms()\n",
    "\n",
    "G=nx.Graph()\n",
    "\n",
    "for w in hyponyms: \n",
    "    G.add_edge(car[0].name().split('.')[0],\n",
    "               w.name().split('.')[0], \n",
    "               weight=car[0].wup_similarity(w))\n",
    "\n",
    "plt.figure(figsize=(10,10))\n",
    "plt.axis('off')\n",
    "\n",
    "nx.draw_networkx(G,with_labels=True,node_size=2000,\n",
    "                 font_size=10,\n",
    "                 node_shape='s',\n",
    "                 alpha=0.9,\n",
    "                 node_color='red')\n",
    "\n"
   ]
  },
  {
   "cell_type": "markdown",
   "metadata": {
    "id": "X6LtF8CVAOeB",
    "slideshow": {
     "slide_type": "slide"
    }
   },
   "source": [
    "# Расстояния в тезаурусе\n",
    "\n",
    "Как оценить, насколько близки понятия/синсеты?\n",
    "\n",
    "- Path similarity : $path = \\frac{1}{|shortest\\_path|}$ - чем плоха такая метрика?\n",
    "\n",
    "<img src=\"../Slides/4_Thesauri/wn-3.png\" width=400/>"
   ]
  },
  {
   "cell_type": "markdown",
   "metadata": {
    "slideshow": {
     "slide_type": "subslide"
    }
   },
   "source": [
    "Другие:\n",
    "- Leacock & Chodorow score : $$lch(w_1,w_2) = -log{\\frac{|shortest\\_path(w_1,w_2)|}{2 * depth}}$$\n",
    "(здесь depth - глубина всего графа)\n",
    "\n",
    "- Wu & Palmer similarity\n",
    "\n",
    "Введем понятие least common subsumer (LCS) - ближайший общий предок\n",
    "$$wp = -log{\\frac{|path(root,LCS(w_1,w_2)|}{|path(root,w_1)|*|path(root,w_2)|}}$$\n",
    "\n",
    "- ..."
   ]
  },
  {
   "cell_type": "code",
   "execution_count": 21,
   "metadata": {
    "slideshow": {
     "slide_type": "subslide"
    }
   },
   "outputs": [
    {
     "name": "stdout",
     "output_type": "stream",
     "text": [
      "Path similarity = 0.08333333333333333\n",
      "Wu&Palmer = 0.26666666666666666\n"
     ]
    }
   ],
   "source": [
    "money = wn.synsets('money')[0]\n",
    "nickel = wn.synsets('nickel')[0]\n",
    "print(\"Path similarity =\", money.path_similarity(nickel))\n",
    "print(\"Wu&Palmer =\", money.wup_similarity(nickel))\n",
    "# help(money)"
   ]
  },
  {
   "cell_type": "code",
   "execution_count": null,
   "metadata": {},
   "outputs": [],
   "source": []
  },
  {
   "cell_type": "markdown",
   "metadata": {
    "slideshow": {
     "slide_type": "subslide"
    }
   },
   "source": [
    "## Information-content measures\n",
    "\n",
    "Что, если использовать ещё информацию из корпуса?\n",
    "\n",
    "- Resnik similarity:\n",
    "$$res(w_1,w_2) = IC(LCS(w_1,w_2))$$\n",
    "где\n",
    "$$IC(w)=log{\\frac{freq(w)}{freq(root)}}$$,\n",
    "а $freq(w)$ - сумма частот всех потомков вершины $w$\n",
    "\n",
    "\n",
    "https://arxiv.org/PS_cache/cmp-lg/pdf/9511/9511007v1.pdf"
   ]
  },
  {
   "cell_type": "code",
   "execution_count": 22,
   "metadata": {
    "slideshow": {
     "slide_type": "fragment"
    }
   },
   "outputs": [
    {
     "name": "stdout",
     "output_type": "stream",
     "text": [
      "Resnik similarity = 0.3749015605004214\n"
     ]
    }
   ],
   "source": [
    "from nltk.corpus import brown\n",
    "brown_ic = wn.ic(brown)  # функция, которая готовит подсчёт частот по корпусу\n",
    "print(\"Resnik similarity =\", nickel.res_similarity(money, brown_ic))"
   ]
  },
  {
   "cell_type": "markdown",
   "metadata": {
    "id": "ZkF6v67kAOeB",
    "slideshow": {
     "slide_type": "slide"
    }
   },
   "source": [
    "# Другие тезаурусы\n",
    "\n",
    "Multilingual:\n",
    "- [BabelNet](https://www.babelnet.org/)\n",
    "- [EuroWordNet](http://projects.illc.uva.nl/EuroWordNet/)\n",
    "- [Wiktionary](https://www.wiktionary.org/)\n",
    "\n",
    "Russian:\n",
    "- [YARN](https://russianword.net/)\n",
    "- [RussNet](http://project.phil.spbu.ru/RussNet/index_ru.shtml)\n",
    "- [RuThez (РуТез)](http://www.labinform.ru/pub/ruthes/index.htm)\n"
   ]
  },
  {
   "cell_type": "markdown",
   "metadata": {
    "id": "W4NfzDh5AOeD",
    "slideshow": {
     "slide_type": "slide"
    }
   },
   "source": [
    "Похожий интерфейс у wiki_ru_wordnet - лексическая база на основе Викисловаря."
   ]
  },
  {
   "cell_type": "code",
   "execution_count": null,
   "metadata": {
    "colab": {
     "base_uri": "https://localhost:8080/"
    },
    "id": "NUTN5bt2AOeD",
    "outputId": "eb730acb-0a89-4125-a2e9-4f63f3846574",
    "slideshow": {
     "slide_type": "fragment"
    }
   },
   "outputs": [],
   "source": [
    "#!pip install wiki_ru_wordnet"
   ]
  },
  {
   "cell_type": "code",
   "execution_count": 23,
   "metadata": {
    "id": "yI3ZtQXeAOeD",
    "slideshow": {
     "slide_type": "fragment"
    }
   },
   "outputs": [],
   "source": [
    "from wiki_ru_wordnet import WikiWordnet\n",
    "import re\n",
    "ruwn = WikiWordnet()"
   ]
  },
  {
   "cell_type": "code",
   "execution_count": 26,
   "metadata": {
    "id": "x0k4jBT2AOeE",
    "slideshow": {
     "slide_type": "subslide"
    }
   },
   "outputs": [],
   "source": [
    "s = ruwn.get_synsets('дерево')[0]"
   ]
  },
  {
   "cell_type": "code",
   "execution_count": 27,
   "metadata": {
    "colab": {
     "base_uri": "https://localhost:8080/"
    },
    "id": "aJxLLTtmAOeE",
    "outputId": "561a565e-6b0a-43b9-fca1-9ccf14c4aecb",
    "slideshow": {
     "slide_type": "fragment"
    }
   },
   "outputs": [
    {
     "name": "stdout",
     "output_type": "stream",
     "text": [
      "дерево\n",
      "дерево~ru~дерево~ru~{{ботан.|ru}} многолетнее, как правило, крупное [[растение]] с твёрдым [[ствол]]ом, мощной корневой системой и образующими крону ветвями, покрытыми листьями или иголками {{пример|Люди с их топорами и пилами … безжалостно губили мощные дубы, широкие осины, стройные берёзки и тополя и другие {{выдел|деревья}}.|Л. А. Чарская|Золотая свирель|1912|источник=НКРЯ}} {{пример|Туманная меланхолия неизменно накреняла {{выдел|дерева́}}. Стояли {{выдел|дерева́}} наклонённые.|Андрей Белый|Северная симфония|1917|источник=НКРЯ}} {{пример|Можжевел{{-}}{{выдел|дерево}} скрытное, колкое, не допускающее в себя, замкнутое, строгое к жизни, самое мудрое из наших {{выдел|дере́в}}.|Л. М. Леонов|Барсуки|1924|источник=НКРЯ}} {{пример|{{--}}Знаешь, по чему у {{выдел|дерёв}} считают года?..|С. А. Клычков|Чертухинский балакирь|1926|источник=НКРЯ}} {{пример|Ми́ны рвали́сь в {{выдел|дерева́х}}.|Виктор Астафьев|Весёлый солдат|дата=1987–1997||Новый Мир|дата издания=1998 г.|источник=НКРЯ}} {{пример|В некоторых районах Африки растёт {{выдел|дерево}} мерула, дающее крупные жёлтые плоды, напоминающие дыню.||Как и люди||Знание{{-}}сила|2003|источник=НКРЯ}}~86691~41721\n",
      "\n"
     ]
    }
   ],
   "source": [
    "for w in s.get_words():\n",
    "    print(w.lemma())\n",
    "    print(w.definition())\n",
    "    print()"
   ]
  },
  {
   "cell_type": "code",
   "execution_count": 28,
   "metadata": {
    "colab": {
     "base_uri": "https://localhost:8080/",
     "height": 575
    },
    "id": "Oe-24ccrAOeF",
    "outputId": "64db350f-d93b-40dd-897f-381baacc5fea",
    "slideshow": {
     "slide_type": "subslide"
    }
   },
   "outputs": [
    {
     "data": {
      "image/png": "[encoded data removed]",
      "text/plain": [
       "<Figure size 720x720 with 1 Axes>"
      ]
     },
     "metadata": {},
     "output_type": "display_data"
    }
   ],
   "source": [
    "words = ruwn.get_synsets('дерево')\n",
    "first_synset = words[0]\n",
    "hyponyms = ruwn.get_hyponyms(first_synset)\n",
    "\n",
    "G=nx.Graph()\n",
    "\n",
    "for w in hyponyms: \n",
    "    G.add_edge('дерево',\n",
    "               list(w.get_words())[0].lemma())\n",
    "\n",
    "plt.figure(figsize=(10,10))\n",
    "plt.axis('off')\n",
    "\n",
    "nx.draw_networkx(G,with_labels=True,node_size=2000,\n",
    "                 font_size=10,\n",
    "                 node_shape='s',\n",
    "                 alpha=0.9,\n",
    "                 node_color='red')"
   ]
  },
  {
   "cell_type": "code",
   "execution_count": 30,
   "metadata": {
    "slideshow": {
     "slide_type": "subslide"
    }
   },
   "outputs": [
    {
     "name": "stdout",
     "output_type": "stream",
     "text": [
      "Гурия\n",
      "Корея\n",
      "держава\n",
      "Ставропольский край\n",
      "вотчина\n",
      "Россия\n",
      "Шумер\n",
      "родина\n",
      "колония\n"
     ]
    }
   ],
   "source": [
    "city_words = ruwn.get_synsets('страна')\n",
    "first_synset = city_words[0]\n",
    "for h in ruwn.get_hyponyms(first_synset):\n",
    "    print(list(h.get_words())[0].lemma())"
   ]
  },
  {
   "cell_type": "markdown",
   "metadata": {
    "id": "lhLNyGWqAOeF",
    "slideshow": {
     "slide_type": "slide"
    }
   },
   "source": [
    "## РуТез\n",
    "[ещё один тезаурус для русского языка](https://www.labinform.ru/pub/ruthes/index.htm)\n",
    "* более 31.5 понятий, 111.5 тысяч различных текстовых входов (слов и выражений русского языка), более 130 тысяч с учетом значений многозначных слов;\n",
    "* раздаётся в XML по запросу, мы будем использовать уже предобработанную версию."
   ]
  },
  {
   "cell_type": "code",
   "execution_count": 31,
   "metadata": {
    "id": "3hQ7DZ0sAOeG",
    "slideshow": {
     "slide_type": "fragment"
    }
   },
   "outputs": [],
   "source": [
    "import csv\n",
    "\n",
    "rels_list = []\n",
    "with open(\"4_Thesauri/relations_with_concepts.csv\", newline='', encoding='utf8') as rels:\n",
    "    reader = csv.DictReader(rels, delimiter=\"\\t\")\n",
    "    for row in reader:\n",
    "        rels_list.append(row)\n",
    "\n",
    "\n",
    "def get_supc2(concept_list, rels_list, has_up=True, depth=0, max_depth=-1):\n",
    "    \"\"\"\n",
    "    Get list of all hypernym chains of the query\n",
    "    - up a level\n",
    "    - add all 'выше' concepts to list\n",
    "    [[level_1, level_2.1, level_3.1], [level_1, level_2.2, level_3.2], etc...]\n",
    "\n",
    "    :param concept_list: search input\n",
    "    :param rels_list: imported set of relations\n",
    "    :param max_depth: maximum allowed number of hypernyms\n",
    "    :param has_up: (internal) bool(current top concept has a superconcept)\n",
    "    :param depth: (internal) current depth in the ontology\n",
    "    :return: list of superconcept for every meaning of query\n",
    "    \"\"\"\n",
    "    new_cl = concept_list[:]\n",
    "    if (not has_up) or depth >= max_depth > 0:\n",
    "        return new_cl\n",
    "    has_up = False\n",
    "    for chain in concept_list:\n",
    "        index = new_cl.index(chain)\n",
    "        word = chain[-1]\n",
    "        for row in rels_list:\n",
    "            new_chain = chain[:]\n",
    "            if row['from'].lower() == word.lower() and row['relation'] == 'ВЫШЕ':\n",
    "                new_chain.append(row['to'].lower())\n",
    "                new_cl.insert(index + 1, new_chain)\n",
    "                has_up = True\n",
    "        if has_up:\n",
    "            new_cl.remove(chain)\n",
    "    return get_supc2(new_cl, rels_list, has_up, depth+1, max_depth)\n",
    "\n",
    "\n",
    "def get_supc(concept_list, rels_list, has_up=True, depth=0, max_depth=-1):\n",
    "    \"\"\"\n",
    "    Find list of all hypernyms of query by level down\n",
    "    [[level_1], [level_2.1, level_2.2], [level_3.1, level_3.2, level_3.3], etc...]\n",
    "\n",
    "    :param concept_list: search input\n",
    "    :param rels_list: imported set of relations\n",
    "    :param max_depth: maximum allowed number of hyponyms\n",
    "    :param has_up: (internal) bool(current top concept has a subconcept)\n",
    "    :param depth: (internal) current depth in the ontology\n",
    "    :return: list of subconcepts for every meaning of query\n",
    "    \"\"\"\n",
    "    if (not has_up) or depth >= max_depth > 0:\n",
    "        return concept_list\n",
    "    has_up = False\n",
    "    new_list = []\n",
    "    for word in concept_list[-1]:\n",
    "        for row in rels_list:\n",
    "            if row['from'].lower() == word.lower() and row['relation'] == 'ВЫШЕ':\n",
    "                if all(row['to'].lower() not in hypo for hypo in concept_list):\n",
    "                    new_list.append(row['to'].lower())\n",
    "                    has_up = True\n",
    "    if has_up:\n",
    "        concept_list.append(new_list)\n",
    "    return get_supc(concept_list, rels_list, has_up, depth + 1, max_depth)\n",
    "\n",
    "\n",
    "def get_subc2(concept_list, rels_list, has_down=True, depth=0, max_depth=-1):\n",
    "    \"\"\"\n",
    "    Get list of all hyponym chains for word in query\n",
    "    - down a level\n",
    "    - add all 'ниже' concepts to list\n",
    "    [[level_1, level_2.1, level_3.1], [level_1, level_2.2, level_3.2], etc...]\n",
    "\n",
    "    :param concept_list: search input\n",
    "    :param rels_list: imported set of relations\n",
    "    :param max_depth: maximum allowed number of hyponyms\n",
    "    :param has_down: (internal) bool(current top concept has a subconcept)\n",
    "    :param depth: (internal) current depth in the ontology\n",
    "    :return: list of subconcepts for every meaning of query\n",
    "    \"\"\"\n",
    "    new_cl = concept_list[:]\n",
    "    if (not has_down) or depth >= max_depth > 0:\n",
    "        return new_cl\n",
    "    for chain in concept_list:\n",
    "        has_down = False\n",
    "        index = new_cl.index(chain)\n",
    "        word = chain[-1]\n",
    "        for row in rels_list:\n",
    "            new_chain = chain[:]\n",
    "            if row['from'].lower() == word.lower() and row['relation'] == 'НИЖЕ':\n",
    "                new_chain.append(row['to'].lower())\n",
    "                new_cl.insert(index + 1, new_chain)\n",
    "                has_down = True\n",
    "        if has_down:\n",
    "            new_cl.remove(chain)\n",
    "    return get_subc2(new_cl, rels_list, has_down, depth+1, max_depth)\n",
    "\n",
    "\n",
    "def get_subc(concept_list, rels_list, has_down=True, depth=0, max_depth=-1):\n",
    "    \"\"\"\n",
    "    Find list of all hyponyms of query by level down\n",
    "    [[level_1], [level_2.1, level_2.2], [level_3.1, level_3.2, level_3.3], etc...]\n",
    "\n",
    "    :param concept_list: search input\n",
    "    :param rels_list: imported set of relations\n",
    "    :param max_depth: maximum allowed number of hyponyms\n",
    "    :param has_down: (internal) bool(current top concept has a subconcept)\n",
    "    :param depth: (internal) current depth in the ontology\n",
    "    :return: list of subconcepts for every meaning of query\n",
    "    \"\"\"\n",
    "    if (not has_down) or depth >= max_depth > 0:\n",
    "        return concept_list\n",
    "    has_down = False\n",
    "    new_list = []\n",
    "    for word in concept_list[-1]:\n",
    "        for row in rels_list:\n",
    "            if row['from'].lower() == word.lower() and row['relation'] == 'НИЖЕ':\n",
    "                if all(row['to'].lower() not in hypo for hypo in concept_list):\n",
    "                    new_list.append(row['to'].lower())\n",
    "                    has_down = True\n",
    "    if has_down:\n",
    "        concept_list.append(new_list)\n",
    "    return get_subc(concept_list, rels_list, has_down, depth+1, max_depth)"
   ]
  },
  {
   "cell_type": "code",
   "execution_count": 32,
   "metadata": {
    "colab": {
     "base_uri": "https://localhost:8080/"
    },
    "id": "uJyHmpWiAOeI",
    "outputId": "c52d9c2d-5295-4175-9604-73e7c2932430",
    "slideshow": {
     "slide_type": "subslide"
    }
   },
   "outputs": [
    {
     "data": {
      "text/plain": [
       "[['собака'],\n",
       " ['кошка'],\n",
       " ['домашнее животное', 'кошачьи'],\n",
       " ['животное', 'хищное млекопитающее'],\n",
       " ['живой организм', 'млекопитающее', 'дикое животное', 'хищное животное'],\n",
       " ['биологическая сущность', 'позвоночное животное'],\n",
       " ['физическая сущность'],\n",
       " ['постоянная сущность']]"
      ]
     },
     "execution_count": 32,
     "metadata": {},
     "output_type": "execute_result"
    }
   ],
   "source": [
    "get_supc([['собака'], ['кошка']], rels_list)"
   ]
  },
  {
   "cell_type": "code",
   "execution_count": null,
   "metadata": {
    "colab": {
     "base_uri": "https://localhost:8080/"
    },
    "id": "k3e8bNy1AOeJ",
    "outputId": "e2d15df6-5888-4544-db1b-ff3c02d0dbc5",
    "slideshow": {
     "slide_type": "subslide"
    }
   },
   "outputs": [],
   "source": [
    "get_supc2([['собака'], [\"кошка\"]], rels_list)"
   ]
  },
  {
   "cell_type": "markdown",
   "metadata": {
    "id": "nVg-Oj1WAOeK",
    "slideshow": {
     "slide_type": "subslide"
    }
   },
   "source": [
    "Получить все гипонимы для списка концептов (объединенные в списки по уровням)."
   ]
  },
  {
   "cell_type": "code",
   "execution_count": null,
   "metadata": {
    "colab": {
     "base_uri": "https://localhost:8080/"
    },
    "id": "pK7buywgAOeL",
    "outputId": "ff7e5979-bbff-416a-cf90-8a2b97be7ae1",
    "slideshow": {
     "slide_type": "fragment"
    }
   },
   "outputs": [],
   "source": [
    "get_subc([['собака']], rels_list)"
   ]
  },
  {
   "cell_type": "markdown",
   "metadata": {
    "id": "-wiQy6v8AOeM",
    "slideshow": {
     "slide_type": "subslide"
    }
   },
   "source": [
    "Получить все гипонимы для списка концептов (объединенные в списки по концепту)."
   ]
  },
  {
   "cell_type": "code",
   "execution_count": null,
   "metadata": {
    "colab": {
     "base_uri": "https://localhost:8080/"
    },
    "id": "FR7bvNA5AOeN",
    "outputId": "7e36536c-7c8b-434a-a268-c26e54c8a366",
    "slideshow": {
     "slide_type": "fragment"
    }
   },
   "outputs": [],
   "source": [
    "get_subc2([['собака']], rels_list)"
   ]
  },
  {
   "cell_type": "code",
   "execution_count": null,
   "metadata": {},
   "outputs": [],
   "source": []
  }
 ],
 "metadata": {
  "celltoolbar": "Slideshow",
  "colab": {
   "collapsed_sections": [
    "S0JsyITIAOeV"
   ],
   "name": "Тезаурусы_Coreference.ipynb\"",
   "provenance": []
  },
  "kernelspec": {
   "display_name": "Python 3",
   "language": "python",
   "name": "python3"
  },
  "language_info": {
   "codemirror_mode": {
    "name": "ipython",
    "version": 3
   },
   "file_extension": ".py",
   "mimetype": "text/x-python",
   "name": "python",
   "nbconvert_exporter": "python",
   "pygments_lexer": "ipython3",
   "version": "3.9.4"
  }
 },
 "nbformat": 4,
 "nbformat_minor": 1
}
