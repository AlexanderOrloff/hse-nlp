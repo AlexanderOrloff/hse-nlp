{
 "cells": [
  {
   "cell_type": "markdown",
   "id": "57ab15e5-def6-49fc-849b-fcfe0e3c397e",
   "metadata": {
    "editable": true,
    "slideshow": {
     "slide_type": "slide"
    },
    "tags": []
   },
   "source": [
    "# Распознавание и синтез речи\n",
    "\n",
    "## 4/12/23\n",
    "\n",
    "## Е.В. Еникеева"
   ]
  },
  {
   "cell_type": "markdown",
   "id": "1136b299-b427-4b14-8a14-410efe59e59c",
   "metadata": {
    "editable": true,
    "slideshow": {
     "slide_type": "slide"
    },
    "tags": []
   },
   "source": [
    "# Automatic Speech Recognition (ASR)\n",
    "\n",
    "звуковой сигнал -> текст\n",
    "\n",
    "# Text-to-Speech (TTS)\n",
    "\n",
    "текст -> звук"
   ]
  },
  {
   "cell_type": "markdown",
   "id": "d50bc554-2f65-44aa-9562-9c5bfb1d130d",
   "metadata": {
    "editable": true,
    "slideshow": {
     "slide_type": "slide"
    },
    "tags": []
   },
   "source": [
    "# Формулировки задачи ASR\n",
    "* ограниченный словарь (closed vocabulary) vs. open-ended tasks\n",
    "  * digit recognition\n",
    "* read speech vs. conversational speech\n",
    "\n",
    "\\+ диалекты и тд"
   ]
  },
  {
   "cell_type": "markdown",
   "id": "1af8408c-a1ca-492f-b9c1-0a3958824617",
   "metadata": {
    "editable": true,
    "slideshow": {
     "slide_type": "slide"
    },
    "tags": []
   },
   "source": [
    "## Данные для ASR\n",
    "- [LibriSpeech](https://www.openslr.org/12) - 1000ч аудиокниг\n",
    "- [Switchboard](https://catalog.ldc.upenn.edu/LDC97S62) - 240ч телефонных разговоров\n",
    "- [CALLHOME](https://ca.talkbank.org/access/CallHome/eng.html) - 60ч телефонных разговоров\n",
    "- CommonVoice\n",
    "  \n",
    "  [и другие](https://github.com/jim-schwoebel/voice_datasets)\n",
    "\n",
    "## Для русского языка\n",
    "- [Golos](https://github.com/sberdevices/golos) (SberDevices)\n",
    "- Russian LibriSpeech\n",
    "- [OpenSTT](https://github.com/snakers4/open_stt/)\n",
    "\n",
    "#### Существуют также датасеты для ограниченных доменов"
   ]
  },
  {
   "cell_type": "markdown",
   "id": "ce2f51e0-6e16-4e50-856a-2450eb1cbaa0",
   "metadata": {
    "editable": true,
    "slideshow": {
     "slide_type": "notes"
    },
    "tags": []
   },
   "source": [
    "Ещё один каталог ресурсов для speech processing https://www.openslr.org/resources.php"
   ]
  },
  {
   "cell_type": "markdown",
   "id": "817a8b67-d31a-407b-bc79-8107e776f611",
   "metadata": {
    "editable": true,
    "slideshow": {
     "slide_type": "slide"
    },
    "tags": []
   },
   "source": [
    "# ASR feature extraction\n",
    "первый этап - преобразовать сигнал (волну, *raw wavefile*) в вектор\n",
    "\n",
    "популярное представление - **log mel spectrum**\n",
    "\n",
    "1. аналого-цифровое преобразование (analog-to-digital conversion)\n",
    "   - *sampling* (дискретизация) - амплитуда сигнала замеряется N раз в секунду, N - sampling rate (частота дискретизации)\n",
    "   - *quantization* (квантизация) - преобразование в целочисленные значения (8 bit / 16 bit)\n",
    "2. *windowing* - разбиваем сигнал на части, которые затем будем анализировать\n",
    "<br/>Hamming window"
   ]
  },
  {
   "cell_type": "markdown",
   "id": "b66b16cd-fac2-4258-9996-3ee805e73546",
   "metadata": {
    "editable": true,
    "jp-MarkdownHeadingCollapsed": true,
    "slideshow": {
     "slide_type": "subslide"
    },
    "tags": []
   },
   "source": [
    "# ASR feature extraction\n",
    "\n",
    "3. дискретное преобразование Фурье - *Discrete Fourier Transform* (DFT) -> FFT\n",
    "   - для каждого из N диапазонов частот - комплексная амплитуда = амплитуда и начальная фаза сигнала\n",
    "4. фильтрация - *mel filter bank*\n",
    "   \n",
    "   <img width=400 src=\"ASR_TTS/mel_filter.png\"/>"
   ]
  },
  {
   "cell_type": "markdown",
   "id": "b63c55ef-8f65-4052-a2d0-650dc8aa6a7f",
   "metadata": {
    "editable": true,
    "slideshow": {
     "slide_type": "slide"
    },
    "tags": []
   },
   "source": [
    "# Архитектура encoder-decoder \n",
    "\n",
    "<img width=550 src=\"ASR_TTS/enc-dec_base.png\"/>"
   ]
  },
  {
   "cell_type": "markdown",
   "id": "e2255b51-039e-47ab-a2e1-0bc28d415a6e",
   "metadata": {
    "editable": true,
    "jp-MarkdownHeadingCollapsed": true,
    "slideshow": {
     "slide_type": "subslide"
    },
    "tags": []
   },
   "source": [
    "# Transformer-based ASR\n",
    "- архитектура encoder-decoder (RNN/Transformer)\n",
    "  <br/> log mel spectrum features -> BPE-tokens\n",
    "  <br/> например, attention-based encoder decoder (AED) / listen attend\n",
    "and spell (LAS)\n",
    "- до энкодера - стадия сжатия (subsampling) - low frame rate\n",
    "\n",
    "  <img width=500 src=\"ASR_TTS/enc-dec.png\"/>"
   ]
  },
  {
   "cell_type": "markdown",
   "id": "df89191a-a042-4f88-83c6-67f350f577d7",
   "metadata": {
    "editable": true,
    "slideshow": {
     "slide_type": "slide"
    },
    "tags": []
   },
   "source": [
    "# Улучшение - LM\n",
    "- мотивация: текстов больше, чем расшифрованного звука\n",
    "- можем использовать больше информации для генерации лучшей последовательности\n",
    "  \n",
    "поэтому можно\n",
    "- сгенерировать топ-N гипотез по вероятности - n-best list\n",
    "- оценить их по языковой модели - rescoring"
   ]
  },
  {
   "cell_type": "markdown",
   "id": "6b5011e8-b2b8-47ef-8618-4bfda9c3dcde",
   "metadata": {
    "editable": true,
    "slideshow": {
     "slide_type": "slide"
    },
    "tags": []
   },
   "source": [
    "# Другие архитектуры ASR\n",
    "\n",
    "- Connectionist Temporal Classification (CTC)\n",
    "  - предсказываем символ для каждого фрейма, затем объединяем последовательно в слова\n",
    "  - удобно для стриминга\n",
    "- CTC + encoder-decoder\n",
    "- ..."
   ]
  },
  {
   "cell_type": "markdown",
   "id": "871477e5-d60b-448d-a834-77c18ffd1f25",
   "metadata": {
    "editable": true,
    "slideshow": {
     "slide_type": "slide"
    },
    "tags": []
   },
   "source": [
    "# ASR Evaluation\n",
    "\n",
    "основная метрика - WER - Word Error Rate\n",
    "1. считаем Minimum Edit Distance : вставки, замены, удаления\n",
    "2. суммируем $$WER = 100 * \\frac{Insertions + Substitutions + Deletions}{Total\\_ words}$$\n",
    "\n",
    "Sentence Error Rate - количество предложений хотя бы с 1 ошибкой"
   ]
  },
  {
   "cell_type": "markdown",
   "id": "827c692d-d025-4ff8-a55b-c1866161669f",
   "metadata": {
    "editable": true,
    "slideshow": {
     "slide_type": "slide"
    },
    "tags": []
   },
   "source": [
    "# Инструменты и модели ASR\n",
    "\n",
    "- Kaldi (C++) -> [PyKaldi](https://github.com/pykaldi/pykaldi)\n",
    "- [MMS](https://github.com/facebookresearch/fairseq/tree/main/examples/mms#mms-scaling-speech-technology-to-1000-languages)\n",
    "- [API](https://github.com/Uberi/speech_recognition):\n",
    "  - Google Cloud Speech API\n",
    "  - Yandex SpeechKit\n",
    "  - OpenAI Whisper\n",
    "  - ...\n",
    "- [ESPnet](https://github.com/espnet/espnet)\n",
    "- [PocketSphinx](https://pocketsphinx.readthedocs.io/en/latest/)"
   ]
  },
  {
   "cell_type": "markdown",
   "id": "a34c6e19-de66-4563-aef9-b49f87f722f6",
   "metadata": {
    "editable": true,
    "slideshow": {
     "slide_type": "notes"
    },
    "tags": []
   },
   "source": [
    "Ещё примеры\n",
    "https://github.com/wit-ai/pywit\n"
   ]
  },
  {
   "cell_type": "markdown",
   "id": "afd10019-1e36-4e62-871b-0a067f164c14",
   "metadata": {
    "editable": true,
    "slideshow": {
     "slide_type": "subslide"
    },
    "tags": []
   },
   "source": [
    "# Пример запуска ASR\n",
    "\n",
    "https://colab.research.google.com/drive/1vb9XKQh8sv9eabdHghUUMm8Joi1yLD_V?usp=sharing"
   ]
  },
  {
   "cell_type": "markdown",
   "id": "5273c2e8-3aa8-4f69-8d81-08b95aa94507",
   "metadata": {
    "editable": true,
    "slideshow": {
     "slide_type": "slide"
    },
    "tags": []
   },
   "source": [
    "# TTS Pipeline\n",
    "\n",
    "1. Предобработка текста\n",
    "2. Spectrogram prediction: текст -> спектрограмма\n",
    "3. Vocoder: спектрограмма -> звуковой сигнал\n",
    "\n",
    "Данные:\n",
    "- для ASR важно распознавать разных спикеров/диалекты/...\n",
    "- для TTS можно учиться на 1 спикере / multispeaker-TTS"
   ]
  },
  {
   "cell_type": "markdown",
   "id": "7db166ac-5297-4e6a-8745-971eb20372b5",
   "metadata": {
    "editable": true,
    "slideshow": {
     "slide_type": "slide"
    },
    "tags": []
   },
   "source": [
    "# TTS Preprocessing\n",
    "\n",
    "- нормализация (вербализация) нестандартных слов\n",
    "\n",
    "<img width=500 src=\"ASR_TTS/tts_norm.png\"/>"
   ]
  },
  {
   "cell_type": "markdown",
   "id": "0c1fb32e-e1e2-4920-a03c-2c8087a1c582",
   "metadata": {
    "editable": true,
    "jp-MarkdownHeadingCollapsed": true,
    "slideshow": {
     "slide_type": "subslide"
    },
    "tags": []
   },
   "source": [
    "## Методы нормализации\n",
    "- rule-based / правиловый: токенизация + вербализация\n",
    "- encoder-decoder: как машинный перевод из исходного текста в нормализованный"
   ]
  },
  {
   "cell_type": "markdown",
   "id": "f1adae95-005a-41fd-aaf6-abf21153a01d",
   "metadata": {
    "editable": true,
    "slideshow": {
     "slide_type": "slide"
    },
    "tags": []
   },
   "source": [
    "# TTS architecture example\n",
    "\n",
    "<img width=550 src=\"ASR_TTS/tacotron2.png\"/>"
   ]
  },
  {
   "cell_type": "markdown",
   "id": "918a2a92-96d5-4a30-9f20-a8d84d5e8f07",
   "metadata": {
    "editable": true,
    "slideshow": {
     "slide_type": "slide"
    },
    "tags": []
   },
   "source": [
    "# TTS Evaluation\n",
    "\n",
    "- MOS (Mean Opinion Score) - ручная оценка по шкале\n",
    "- автоматические метрики - ??? (нет хороших)\n",
    "- AB-tests : сравнение 2 систем на пользователях"
   ]
  },
  {
   "cell_type": "markdown",
   "id": "f7b9833f-2081-4989-93ef-e9fd003cf4b2",
   "metadata": {
    "editable": true,
    "slideshow": {
     "slide_type": "subslide"
    },
    "tags": []
   },
   "source": [
    "# TTS Example\n",
    "\n",
    "[Пример использования модели MMS в тетрадке](https://colab.research.google.com/github/facebookresearch/fairseq/blob/main/examples/mms/tts/tutorial/MMS_TTS_Inference_Colab.ipynb)"
   ]
  },
  {
   "cell_type": "markdown",
   "id": "defc6eae-b975-4686-bf44-dcd198ff97ec",
   "metadata": {
    "editable": true,
    "slideshow": {
     "slide_type": ""
    },
    "tags": []
   },
   "source": [
    "## Дополнительно \n",
    "\n",
    "[Уроки по signal processing с кучей пояснений и картинок](https://makeabilitylab.github.io/physcomp/signals/index)\n",
    "\n",
    "[HuggingFace ASR tutorial](https://huggingface.co/docs/transformers/tasks/asr)\n",
    "\n",
    "[HuggingFace TTS tutorial](https://huggingface.co/docs/transformers/tasks/text-to-speech)\n",
    "\n",
    "[Потестить модельки MMS в удобном интерфейсе](https://huggingface.co/spaces/mms-meta/MMS)"
   ]
  },
  {
   "cell_type": "code",
   "execution_count": null,
   "id": "72735dc8-3edc-432f-8fe5-14c78c285481",
   "metadata": {
    "editable": true,
    "slideshow": {
     "slide_type": ""
    },
    "tags": []
   },
   "outputs": [],
   "source": []
  }
 ],
 "metadata": {
  "kernelspec": {
   "display_name": "Python 3 (ipykernel)",
   "language": "python",
   "name": "python3"
  },
  "language_info": {
   "codemirror_mode": {
    "name": "ipython",
    "version": 3
   },
   "file_extension": ".py",
   "mimetype": "text/x-python",
   "name": "python",
   "nbconvert_exporter": "python",
   "pygments_lexer": "ipython3",
   "version": "3.9.10"
  }
 },
 "nbformat": 4,
 "nbformat_minor": 5
}
