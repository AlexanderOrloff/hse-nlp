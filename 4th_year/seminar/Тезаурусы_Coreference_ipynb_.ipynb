{
  "nbformat": 4,
  "nbformat_minor": 0,
  "metadata": {
    "kernelspec": {
      "display_name": "Python 3",
      "language": "python",
      "name": "python3"
    },
    "language_info": {
      "codemirror_mode": {
        "name": "ipython",
        "version": 3
      },
      "file_extension": ".py",
      "mimetype": "text/x-python",
      "name": "python",
      "nbconvert_exporter": "python",
      "pygments_lexer": "ipython3",
      "version": "3.7.4"
    },
    "colab": {
      "name": "Тезаурусы_Coreference.ipynb\"",
      "provenance": [],
      "collapsed_sections": [
        "S0JsyITIAOeV"
      ]
    }
  },
  "cells": [
    {
      "cell_type": "markdown",
      "metadata": {
        "id": "8pH1dDPzlSny"
      },
      "source": [
        "вы прошли адаграмм.... что это?"
      ]
    },
    {
      "cell_type": "code",
      "metadata": {
        "id": "X6Ellg_AAOdz",
        "colab": {
          "base_uri": "https://localhost:8080/"
        },
        "outputId": "5d74ac0a-82ee-4c91-f82d-d80b020ef9ea"
      },
      "source": [
        "import nltk\n",
        "nltk.download('wordnet')"
      ],
      "execution_count": 1,
      "outputs": [
        {
          "output_type": "stream",
          "text": [
            "[nltk_data] Downloading package wordnet to /root/nltk_data...\n",
            "[nltk_data]   Unzipping corpora/wordnet.zip.\n"
          ],
          "name": "stdout"
        },
        {
          "output_type": "execute_result",
          "data": {
            "text/plain": [
              "True"
            ]
          },
          "metadata": {
            "tags": []
          },
          "execution_count": 1
        }
      ]
    },
    {
      "cell_type": "code",
      "metadata": {
        "id": "Zm3pvYUaAOd1"
      },
      "source": [
        "from nltk.corpus import wordnet as wn\n",
        "from matplotlib import pyplot as plt\n",
        "%matplotlib inline"
      ],
      "execution_count": 2,
      "outputs": []
    },
    {
      "cell_type": "markdown",
      "metadata": {
        "id": "FKNROtKyAOd1"
      },
      "source": [
        "В wordnet все организовано в синсеты - \"наборы синонимов. \""
      ]
    },
    {
      "cell_type": "code",
      "metadata": {
        "id": "5V1Ud2YBAOd2",
        "colab": {
          "base_uri": "https://localhost:8080/"
        },
        "outputId": "0f0d68f2-7aba-4f4f-8a23-7d4e087a541a"
      },
      "source": [
        "len(list(wn.all_synsets()))"
      ],
      "execution_count": 3,
      "outputs": [
        {
          "output_type": "execute_result",
          "data": {
            "text/plain": [
              "117659"
            ]
          },
          "metadata": {
            "tags": []
          },
          "execution_count": 3
        }
      ]
    },
    {
      "cell_type": "markdown",
      "metadata": {
        "id": "cvs9M7atAOd3"
      },
      "source": [
        "Из них существительных:\n"
      ]
    },
    {
      "cell_type": "code",
      "metadata": {
        "id": "6i1seJjDAOd3",
        "colab": {
          "base_uri": "https://localhost:8080/"
        },
        "outputId": "a92d7e8d-df5c-4a36-b4ba-c0e5c4e965c5"
      },
      "source": [
        "len(list(wn.all_synsets('n')))"
      ],
      "execution_count": 4,
      "outputs": [
        {
          "output_type": "execute_result",
          "data": {
            "text/plain": [
              "82115"
            ]
          },
          "metadata": {
            "tags": []
          },
          "execution_count": 4
        }
      ]
    },
    {
      "cell_type": "markdown",
      "metadata": {
        "id": "Qpsh33u-AOd4"
      },
      "source": [
        "А глаголов:"
      ]
    },
    {
      "cell_type": "code",
      "metadata": {
        "id": "nFcPg4pxAOd4",
        "colab": {
          "base_uri": "https://localhost:8080/"
        },
        "outputId": "6d4269f4-be12-452a-cad5-c61334a4d377"
      },
      "source": [
        "len(list(wn.all_synsets('v')))"
      ],
      "execution_count": 5,
      "outputs": [
        {
          "output_type": "execute_result",
          "data": {
            "text/plain": [
              "13767"
            ]
          },
          "metadata": {
            "tags": []
          },
          "execution_count": 5
        }
      ]
    },
    {
      "cell_type": "markdown",
      "metadata": {
        "id": "Xxyw_jPAAOd5"
      },
      "source": [
        "А прилагательных:"
      ]
    },
    {
      "cell_type": "code",
      "metadata": {
        "id": "SzkOhoVjAOd6",
        "colab": {
          "base_uri": "https://localhost:8080/"
        },
        "outputId": "9d5e8065-53bf-4401-a731-e99d67ffbe81"
      },
      "source": [
        "len(list(wn.all_synsets('a')))"
      ],
      "execution_count": null,
      "outputs": [
        {
          "output_type": "execute_result",
          "data": {
            "text/plain": [
              "18156"
            ]
          },
          "metadata": {
            "tags": []
          },
          "execution_count": 7
        }
      ]
    },
    {
      "cell_type": "markdown",
      "metadata": {
        "id": "MOdcclWaAOd6"
      },
      "source": [
        "Синсет для слова можно достать вот так:"
      ]
    },
    {
      "cell_type": "code",
      "metadata": {
        "id": "aMHq49gGAOd6",
        "colab": {
          "base_uri": "https://localhost:8080/"
        },
        "outputId": "a5336422-0d1e-4440-8811-51e5a173f286"
      },
      "source": [
        "wn.synsets('car')"
      ],
      "execution_count": 6,
      "outputs": [
        {
          "output_type": "execute_result",
          "data": {
            "text/plain": [
              "[Synset('car.n.01'),\n",
              " Synset('car.n.02'),\n",
              " Synset('car.n.03'),\n",
              " Synset('car.n.04'),\n",
              " Synset('cable_car.n.01')]"
            ]
          },
          "metadata": {
            "tags": []
          },
          "execution_count": 6
        }
      ]
    },
    {
      "cell_type": "markdown",
      "metadata": {
        "id": "EFuCLVDvAOd7"
      },
      "source": [
        "Можно ограничить часть речи:"
      ]
    },
    {
      "cell_type": "code",
      "metadata": {
        "id": "obSuUm54AOd7",
        "colab": {
          "base_uri": "https://localhost:8080/"
        },
        "outputId": "abde0beb-78a8-487d-fb39-c21cf2182f68"
      },
      "source": [
        "wn.synsets('content', pos='v')"
      ],
      "execution_count": 8,
      "outputs": [
        {
          "output_type": "execute_result",
          "data": {
            "text/plain": [
              "[Synset('content.v.01'), Synset('content.v.02')]"
            ]
          },
          "metadata": {
            "tags": []
          },
          "execution_count": 8
        }
      ]
    },
    {
      "cell_type": "markdown",
      "metadata": {
        "id": "fjI6358KAOd8"
      },
      "source": [
        "У многих из них есть определения:"
      ]
    },
    {
      "cell_type": "code",
      "metadata": {
        "id": "LFrNhWnYAOd8",
        "colab": {
          "base_uri": "https://localhost:8080/"
        },
        "outputId": "dedd32f3-26fd-40aa-f024-add46dde8e93"
      },
      "source": [
        "word = 'day'\n",
        "for synset in wn.synsets(word):\n",
        "    print(word + ' - ' + synset.definition())\n"
      ],
      "execution_count": 7,
      "outputs": [
        {
          "output_type": "stream",
          "text": [
            "day - time for Earth to make a complete rotation on its axis\n",
            "day - some point or period in time\n",
            "day - a day assigned to a particular purpose or observance\n",
            "day - the time after sunrise and before sunset while it is light outside\n",
            "day - the recurring hours when you are not sleeping (especially those when you are working)\n",
            "day - an era of existence or influence\n",
            "day - the period of time taken by a particular planet (e.g. Mars) to make a complete rotation on its axis\n",
            "day - the time for one complete rotation of the earth relative to a particular star, about 4 minutes shorter than a mean solar day\n",
            "day - a period of opportunity\n",
            "day - United States writer best known for his autobiographical works (1874-1935)\n"
          ],
          "name": "stdout"
        }
      ]
    },
    {
      "cell_type": "markdown",
      "metadata": {
        "id": "BCeDOq4kAOd9"
      },
      "source": [
        "И даже примеры употребления:"
      ]
    },
    {
      "cell_type": "code",
      "metadata": {
        "id": "uM3DaOv5AOd9",
        "colab": {
          "base_uri": "https://localhost:8080/"
        },
        "outputId": "b02a72ad-7316-49a4-8ed9-f83d887eca3e"
      },
      "source": [
        "word = 'day'\n",
        "for synset in wn.synsets(word):\n",
        "    print(word + ' - ' + ' | '.join(synset.examples()))"
      ],
      "execution_count": 9,
      "outputs": [
        {
          "output_type": "stream",
          "text": [
            "day - two days later they left | they put on two performances every day | there are 30,000 passengers per day\n",
            "day - it should arrive any day now | after that day she never trusted him again | those were the days | these days it is not unusual\n",
            "day - Mother's Day\n",
            "day - the dawn turned night into day | it is easier to make the repairs in the daytime\n",
            "day - my day began early this morning | it was a busy day on the stock exchange | she called it a day and went to bed\n",
            "day - in the day of the dinosaurs | in the days of the Roman Empire | in the days of sailing ships | he was a successful pianist in his day\n",
            "day - how long is a day on Jupiter?\n",
            "day - \n",
            "day - he deserves his day in court | every dog has his day\n",
            "day - \n"
          ],
          "name": "stdout"
        }
      ]
    },
    {
      "cell_type": "markdown",
      "metadata": {
        "id": "_NRExPhFAOd9"
      },
      "source": [
        "Синсеты связаны между собой стандартными отношениями (гипонимии, гиперонимии, антонимии, синонимии, меронимии)."
      ]
    },
    {
      "cell_type": "code",
      "metadata": {
        "id": "QFV1ikfeAOd-",
        "colab": {
          "base_uri": "https://localhost:8080/"
        },
        "outputId": "cd42dfe1-54fb-41cd-c44c-43b526e00668"
      },
      "source": [
        "s = wn.synsets('car')[0]\n",
        "s.part_meronyms()"
      ],
      "execution_count": 11,
      "outputs": [
        {
          "output_type": "execute_result",
          "data": {
            "text/plain": [
              "[Synset('accelerator.n.01'),\n",
              " Synset('air_bag.n.01'),\n",
              " Synset('auto_accessory.n.01'),\n",
              " Synset('automobile_engine.n.01'),\n",
              " Synset('automobile_horn.n.01'),\n",
              " Synset('buffer.n.06'),\n",
              " Synset('bumper.n.02'),\n",
              " Synset('car_door.n.01'),\n",
              " Synset('car_mirror.n.01'),\n",
              " Synset('car_seat.n.01'),\n",
              " Synset('car_window.n.01'),\n",
              " Synset('fender.n.01'),\n",
              " Synset('first_gear.n.01'),\n",
              " Synset('floorboard.n.02'),\n",
              " Synset('gasoline_engine.n.01'),\n",
              " Synset('glove_compartment.n.01'),\n",
              " Synset('grille.n.02'),\n",
              " Synset('high_gear.n.01'),\n",
              " Synset('hood.n.09'),\n",
              " Synset('luggage_compartment.n.01'),\n",
              " Synset('rear_window.n.01'),\n",
              " Synset('reverse.n.02'),\n",
              " Synset('roof.n.02'),\n",
              " Synset('running_board.n.01'),\n",
              " Synset('stabilizer_bar.n.01'),\n",
              " Synset('sunroof.n.01'),\n",
              " Synset('tail_fin.n.02'),\n",
              " Synset('third_gear.n.01'),\n",
              " Synset('window.n.02')]"
            ]
          },
          "metadata": {
            "tags": []
          },
          "execution_count": 11
        }
      ]
    },
    {
      "cell_type": "markdown",
      "metadata": {
        "id": "XQtbaMPbAOd-"
      },
      "source": [
        "Антонимы только достаются не очень удобно:"
      ]
    },
    {
      "cell_type": "code",
      "metadata": {
        "id": "lS2HK_kzAOd_",
        "colab": {
          "base_uri": "https://localhost:8080/"
        },
        "outputId": "2e880faf-f9e9-41e7-de06-ad9429bdd03d"
      },
      "source": [
        "wn.synsets('good')[2].lemmas()[0].antonyms()"
      ],
      "execution_count": 12,
      "outputs": [
        {
          "output_type": "execute_result",
          "data": {
            "text/plain": [
              "[Lemma('bad.n.01.bad')]"
            ]
          },
          "metadata": {
            "tags": []
          },
          "execution_count": 12
        }
      ]
    },
    {
      "cell_type": "markdown",
      "metadata": {
        "id": "oH67lnSu2tWJ"
      },
      "source": [
        "где это всё можно применять?"
      ]
    },
    {
      "cell_type": "code",
      "metadata": {
        "id": "mqJ96r9OBJS1",
        "colab": {
          "base_uri": "https://localhost:8080/"
        },
        "outputId": "a26c9077-c173-4b11-8506-85bd062d632f"
      },
      "source": [
        "wn.synsets('good')[2]"
      ],
      "execution_count": 13,
      "outputs": [
        {
          "output_type": "execute_result",
          "data": {
            "text/plain": [
              "Synset('good.n.03')"
            ]
          },
          "metadata": {
            "tags": []
          },
          "execution_count": 13
        }
      ]
    },
    {
      "cell_type": "code",
      "metadata": {
        "id": "xSKq3VjbB-11",
        "colab": {
          "base_uri": "https://localhost:8080/"
        },
        "outputId": "ef0bb620-4904-4b8c-fd28-f5438fff1cc7"
      },
      "source": [
        "dog = wn.synset('dog.n.01')\r\n",
        "dog.hypernyms()"
      ],
      "execution_count": 10,
      "outputs": [
        {
          "output_type": "execute_result",
          "data": {
            "text/plain": [
              "[Synset('canine.n.02'), Synset('domestic_animal.n.01')]"
            ]
          },
          "metadata": {
            "tags": []
          },
          "execution_count": 10
        }
      ]
    },
    {
      "cell_type": "code",
      "metadata": {
        "id": "Ivf3MGN6CPMr",
        "colab": {
          "base_uri": "https://localhost:8080/"
        },
        "outputId": "4317bddb-e9a1-4a58-d4f1-527f1b9c6ec2"
      },
      "source": [
        ">>> vocal = wn.lemma('vocal.a.01.vocal')\r\n",
        ">>> vocal.derivationally_related_forms()\r\n",
        "\r\n"
      ],
      "execution_count": 14,
      "outputs": [
        {
          "output_type": "execute_result",
          "data": {
            "text/plain": [
              "[Lemma('vocalize.v.02.vocalize')]"
            ]
          },
          "metadata": {
            "tags": []
          },
          "execution_count": 14
        }
      ]
    },
    {
      "cell_type": "code",
      "metadata": {
        "id": "iYuWX9xmCcqa",
        "colab": {
          "base_uri": "https://localhost:8080/"
        },
        "outputId": "722d46fb-949b-42f0-a5ca-194ac1c27cd3"
      },
      "source": [
        ">>> vocal.pertainyms() #computational linguistics) a word, usually an adjective, which can be defined as \"of or pertaining to\" another word."
      ],
      "execution_count": 15,
      "outputs": [
        {
          "output_type": "execute_result",
          "data": {
            "text/plain": [
              "[Lemma('voice.n.02.voice')]"
            ]
          },
          "metadata": {
            "tags": []
          },
          "execution_count": 15
        }
      ]
    },
    {
      "cell_type": "markdown",
      "metadata": {
        "id": "t3clOsffAOd_"
      },
      "source": [
        "Можно засунуть это все в граф и нарисовать:"
      ]
    },
    {
      "cell_type": "code",
      "metadata": {
        "id": "lwCdFUolAOd_"
      },
      "source": [
        "#!pip install networkx"
      ],
      "execution_count": null,
      "outputs": []
    },
    {
      "cell_type": "code",
      "metadata": {
        "id": "HGoXS6yTAOeA",
        "colab": {
          "base_uri": "https://localhost:8080/",
          "height": 575
        },
        "outputId": "bcf5485c-5f6b-4502-8c6b-77022e64466e"
      },
      "source": [
        "import networkx as nx\n",
        "\n",
        "words = wn.synsets('car')\n",
        "hyponyms = words[0].part_meronyms()\n",
        "\n",
        "G=nx.Graph()\n",
        "\n",
        "for w in hyponyms: \n",
        "    G.add_edge(words[0].name().split('.')[0],\n",
        "               w.name().split('.')[0], \n",
        "               weight=words[0].wup_similarity(w))\n",
        "\n",
        "plt.figure(figsize=(10,10))\n",
        "plt.axis('off')\n",
        "\n",
        "nx.draw_networkx(G,with_labels=True,node_size=2000,\n",
        "                 font_size=10,\n",
        "                 node_shape='s',\n",
        "                 alpha=0.9,\n",
        "                 node_color='red')\n",
        "\n"
      ],
      "execution_count": 17,
      "outputs": [
        {
          "output_type": "display_data",
          "data": {
            "image/png": "[encoded data removed]",
            "text/plain": [
              "<Figure size 720x720 with 1 Axes>"
            ]
          },
          "metadata": {
            "tags": []
          }
        }
      ]
    },
    {
      "cell_type": "markdown",
      "metadata": {
        "id": "X6LtF8CVAOeB"
      },
      "source": [
        "Можно посчитать близость между синсетами\r\n",
        "\r\n",
        "\r\n",
        "Зачем?\r\n",
        "\r\n",
        "Как? Предложите решение?\r\n",
        "\r\n",
        "\r\n"
      ]
    },
    {
      "cell_type": "code",
      "metadata": {
        "id": "2A_A7FWEAOeB",
        "colab": {
          "base_uri": "https://localhost:8080/"
        },
        "outputId": "989d4b58-577c-4f95-cfd0-094a8592f354"
      },
      "source": [
        "car = wn.synsets('car')[0]\n",
        "bike = wn.synsets('bike')[0]\n",
        "wheel = wn.synsets('wheel')[0]\n",
        "\n",
        "bike.path_similarity(car)"
      ],
      "execution_count": 21,
      "outputs": [
        {
          "output_type": "execute_result",
          "data": {
            "text/plain": [
              "0.3333333333333333"
            ]
          },
          "metadata": {
            "tags": []
          },
          "execution_count": 21
        }
      ]
    },
    {
      "cell_type": "markdown",
      "metadata": {
        "id": "2fOmIGQQC-ua"
      },
      "source": [
        "Return a score denoting how similar two word senses are, based on the shortest path that connects the senses in the is-a (hypernym/hypnoym) taxonomy. The score is in the range 0 to 1. By default, there is now a fake root node added to verbs so for cases where previously a path could not be found---and None was returned---it should return a value. The old behavior can be achieved by setting simulate_root to be False. A score of 1 represents identity i.e. comparing a sense with itself will return 1."
      ]
    },
    {
      "cell_type": "markdown",
      "metadata": {
        "id": "0Tl0s9hFDKTF"
      },
      "source": [
        "synset1.lch_similarity(synset2): Leacock-Chodorow Similarity: Return a score denoting how similar two word senses are, based on the shortest path that connects the senses (as above) and the maximum depth of the taxonomy in which the senses occur. The relationship is given as -log(p/2d) where p is the shortest path length and d the taxonomy depth."
      ]
    },
    {
      "cell_type": "markdown",
      "metadata": {
        "id": "ZkF6v67kAOeB"
      },
      "source": [
        "Есть и другие метрики:"
      ]
    },
    {
      "cell_type": "code",
      "metadata": {
        "id": "ZOXgLatrAOeC",
        "colab": {
          "base_uri": "https://localhost:8080/"
        },
        "outputId": "6433ebb4-830d-4921-8d4c-15710578a76d"
      },
      "source": [
        "wn.lch_similarity(wheel, car)"
      ],
      "execution_count": 22,
      "outputs": [
        {
          "output_type": "execute_result",
          "data": {
            "text/plain": [
              "1.2396908869280152"
            ]
          },
          "metadata": {
            "tags": []
          },
          "execution_count": 22
        }
      ]
    },
    {
      "cell_type": "code",
      "metadata": {
        "id": "kcHl3sOSAOeC",
        "colab": {
          "base_uri": "https://localhost:8080/"
        },
        "outputId": "2c0be598-5250-4aba-875b-f1b30f129f87"
      },
      "source": [
        "wn.lch_similarity(bike, car)"
      ],
      "execution_count": null,
      "outputs": [
        {
          "output_type": "execute_result",
          "data": {
            "text/plain": [
              "2.538973871058276"
            ]
          },
          "metadata": {
            "tags": []
          },
          "execution_count": 23
        }
      ]
    },
    {
      "cell_type": "markdown",
      "metadata": {
        "id": "W4NfzDh5AOeD"
      },
      "source": [
        "Есть ещё ворднет для русского. С похожим интерфейсом."
      ]
    },
    {
      "cell_type": "code",
      "metadata": {
        "id": "NUTN5bt2AOeD",
        "colab": {
          "base_uri": "https://localhost:8080/"
        },
        "outputId": "eb730acb-0a89-4125-a2e9-4f63f3846574"
      },
      "source": [
        "!pip install wiki_ru_wordnet"
      ],
      "execution_count": 23,
      "outputs": [
        {
          "output_type": "stream",
          "text": [
            "Collecting wiki_ru_wordnet\n",
            "\u001b[?25l  Downloading https://files.pythonhosted.org/packages/4a/94/0bd5cb96f0b92bc98908194721a1d49f122e3c670fc2705aae19535dee39/wiki_ru_wordnet-1.0.3.tar.gz (20.6MB)\n",
            "\u001b[K     |████████████████████████████████| 20.6MB 42.1MB/s \n",
            "\u001b[?25hBuilding wheels for collected packages: wiki-ru-wordnet\n",
            "  Building wheel for wiki-ru-wordnet (setup.py) ... \u001b[?25l\u001b[?25hdone\n",
            "  Created wheel for wiki-ru-wordnet: filename=wiki_ru_wordnet-1.0.3-cp36-none-any.whl size=20890443 sha256=7d6832beadb454ee585a2d22580de78a48a0aa41991b199b5036aac80f6c2ffc\n",
            "  Stored in directory: /root/.cache/pip/wheels/48/6a/c8/22758a66c35b21c1491861e8ab4809b1fd466d1d2445e99fda\n",
            "Successfully built wiki-ru-wordnet\n",
            "Installing collected packages: wiki-ru-wordnet\n",
            "Successfully installed wiki-ru-wordnet-1.0.3\n"
          ],
          "name": "stdout"
        }
      ]
    },
    {
      "cell_type": "code",
      "metadata": {
        "id": "yI3ZtQXeAOeD"
      },
      "source": [
        "from wiki_ru_wordnet import WikiWordnet\n",
        "import re\n",
        "ruwn = WikiWordnet()"
      ],
      "execution_count": 24,
      "outputs": []
    },
    {
      "cell_type": "code",
      "metadata": {
        "id": "x0k4jBT2AOeE"
      },
      "source": [
        "s = ruwn.get_synsets('дерево')[0]"
      ],
      "execution_count": 25,
      "outputs": []
    },
    {
      "cell_type": "code",
      "metadata": {
        "id": "aJxLLTtmAOeE",
        "colab": {
          "base_uri": "https://localhost:8080/"
        },
        "outputId": "561a565e-6b0a-43b9-fca1-9ccf14c4aecb"
      },
      "source": [
        "for w in s.get_words():\n",
        "    print(w.lemma())\n",
        "    print(w.definition())\n",
        "    print()"
      ],
      "execution_count": 26,
      "outputs": [
        {
          "output_type": "stream",
          "text": [
            "дерево\n",
            "дерево~ru~дерево~ru~{{ботан.|ru}} многолетнее, как правило, крупное [[растение]] с твёрдым [[ствол]]ом, мощной корневой системой и образующими крону ветвями, покрытыми листьями или иголками {{пример|Люди с их топорами и пилами … безжалостно губили мощные дубы, широкие осины, стройные берёзки и тополя и другие {{выдел|деревья}}.|Л. А. Чарская|Золотая свирель|1912|источник=НКРЯ}} {{пример|Туманная меланхолия неизменно накреняла {{выдел|дерева́}}. Стояли {{выдел|дерева́}} наклонённые.|Андрей Белый|Северная симфония|1917|источник=НКРЯ}} {{пример|Можжевел{{-}}{{выдел|дерево}} скрытное, колкое, не допускающее в себя, замкнутое, строгое к жизни, самое мудрое из наших {{выдел|дере́в}}.|Л. М. Леонов|Барсуки|1924|источник=НКРЯ}} {{пример|{{--}}Знаешь, по чему у {{выдел|дерёв}} считают года?..|С. А. Клычков|Чертухинский балакирь|1926|источник=НКРЯ}} {{пример|Ми́ны рвали́сь в {{выдел|дерева́х}}.|Виктор Астафьев|Весёлый солдат|дата=1987–1997||Новый Мир|дата издания=1998 г.|источник=НКРЯ}} {{пример|В некоторых районах Африки растёт {{выдел|дерево}} мерула, дающее крупные жёлтые плоды, напоминающие дыню.||Как и люди||Знание{{-}}сила|2003|источник=НКРЯ}}~86691~41721\n",
            "\n"
          ],
          "name": "stdout"
        }
      ]
    },
    {
      "cell_type": "code",
      "metadata": {
        "id": "Oe-24ccrAOeF",
        "colab": {
          "base_uri": "https://localhost:8080/",
          "height": 575
        },
        "outputId": "64db350f-d93b-40dd-897f-381baacc5fea"
      },
      "source": [
        "words = ruwn.get_synsets('дерево')\n",
        "first_synset = words[0]\n",
        "hyponyms = ruwn.get_hyponyms(first_synset)\n",
        "\n",
        "G=nx.Graph()\n",
        "\n",
        "for w in hyponyms: \n",
        "    G.add_edge('дерево',\n",
        "               list(w.get_words())[0].lemma())\n",
        "\n",
        "plt.figure(figsize=(10,10))\n",
        "plt.axis('off')\n",
        "\n",
        "nx.draw_networkx(G,with_labels=True,node_size=2000,\n",
        "                 font_size=10,\n",
        "                 node_shape='s',\n",
        "                 alpha=0.9,\n",
        "                 node_color='red')"
      ],
      "execution_count": 27,
      "outputs": [
        {
          "output_type": "display_data",
          "data": {
            "image/png": "[encoded data removed]",
            "text/plain": [
              "<Figure size 720x720 with 1 Axes>"
            ]
          },
          "metadata": {
            "tags": []
          }
        }
      ]
    },
    {
      "cell_type": "markdown",
      "metadata": {
        "id": "lhLNyGWqAOeF"
      },
      "source": [
        "## РуТез\n",
        "[ещё один тезаурус для русского языка](https://www.labinform.ru/pub/ruthes/index.htm)\n",
        "* более 31.5 понятий, 111.5 тысяч различных текстовых входов (слов и выражений русского языка), более 130 тысяч с учетом значений многозначных слов;\n",
        "* раздаётся в XML по запросу, мы будем использовать уже предобработанную версию."
      ]
    },
    {
      "cell_type": "code",
      "metadata": {
        "id": "vTtLT10pAOeF",
        "colab": {
          "base_uri": "https://localhost:8080/"
        },
        "outputId": "7dfab972-cee6-498c-ec94-6f2aa3ffcbef"
      },
      "source": [
        "!wget https://github.com/sjut/HSE-Compling/raw/master/seminars/data/relations_with_concepts.csv"
      ],
      "execution_count": 28,
      "outputs": [
        {
          "output_type": "stream",
          "text": [
            "--2020-12-17 13:51:23--  https://github.com/sjut/HSE-Compling/raw/master/seminars/data/relations_with_concepts.csv\n",
            "Resolving github.com (github.com)... 140.82.114.3\n",
            "Connecting to github.com (github.com)|140.82.114.3|:443... connected.\n",
            "HTTP request sent, awaiting response... 302 Found\n",
            "Location: https://raw.githubusercontent.com/sjut/HSE-Compling/master/seminars/data/relations_with_concepts.csv [following]\n",
            "--2020-12-17 13:51:24--  https://raw.githubusercontent.com/sjut/HSE-Compling/master/seminars/data/relations_with_concepts.csv\n",
            "Resolving raw.githubusercontent.com (raw.githubusercontent.com)... 151.101.0.133, 151.101.64.133, 151.101.128.133, ...\n",
            "Connecting to raw.githubusercontent.com (raw.githubusercontent.com)|151.101.0.133|:443... connected.\n",
            "HTTP request sent, awaiting response... 200 OK\n",
            "Length: 10359319 (9.9M) [text/plain]\n",
            "Saving to: ‘relations_with_concepts.csv’\n",
            "\n",
            "relations_with_conc 100%[===================>]   9.88M  31.1MB/s    in 0.3s    \n",
            "\n",
            "2020-12-17 13:51:25 (31.1 MB/s) - ‘relations_with_concepts.csv’ saved [10359319/10359319]\n",
            "\n"
          ],
          "name": "stdout"
        }
      ]
    },
    {
      "cell_type": "code",
      "metadata": {
        "id": "3hQ7DZ0sAOeG"
      },
      "source": [
        "import csv\n",
        "\n",
        "rels_list = []\n",
        "with open(\"relations_with_concepts.csv\", newline='', encoding='utf8') as rels:\n",
        "    reader = csv.DictReader(rels, delimiter=\"\\t\")\n",
        "    for row in reader:\n",
        "        rels_list.append(row)\n",
        "\n",
        "\n",
        "def get_supc2(concept_list, rels_list, has_up=True, depth=0, max_depth=-1):\n",
        "    \"\"\"\n",
        "    Get list of all hypernym chains of the query\n",
        "    - up a level\n",
        "    - add all 'выше' concepts to list\n",
        "    [[level_1, level_2.1, level_3.1], [level_1, level_2.2, level_3.2], etc...]\n",
        "\n",
        "    :param concept_list: search input\n",
        "    :param rels_list: imported set of relations\n",
        "    :param max_depth: maximum allowed number of hypernyms\n",
        "    :param has_up: (internal) bool(current top concept has a superconcept)\n",
        "    :param depth: (internal) current depth in the ontology\n",
        "    :return: list of superconcept for every meaning of query\n",
        "    \"\"\"\n",
        "    new_cl = concept_list[:]\n",
        "    if (not has_up) or depth >= max_depth > 0:\n",
        "        return new_cl\n",
        "    has_up = False\n",
        "    for chain in concept_list:\n",
        "        index = new_cl.index(chain)\n",
        "        word = chain[-1]\n",
        "        for row in rels_list:\n",
        "            new_chain = chain[:]\n",
        "            if row['from'].lower() == word.lower() and row['relation'] == 'ВЫШЕ':\n",
        "                new_chain.append(row['to'].lower())\n",
        "                new_cl.insert(index + 1, new_chain)\n",
        "                has_up = True\n",
        "        if has_up:\n",
        "            new_cl.remove(chain)\n",
        "    return get_supc2(new_cl, rels_list, has_up, depth+1, max_depth)\n",
        "\n",
        "\n",
        "def get_supc(concept_list, rels_list, has_up=True, depth=0, max_depth=-1):\n",
        "    \"\"\"\n",
        "    Find list of all hypernyms of query by level down\n",
        "    [[level_1], [level_2.1, level_2.2], [level_3.1, level_3.2, level_3.3], etc...]\n",
        "\n",
        "    :param concept_list: search input\n",
        "    :param rels_list: imported set of relations\n",
        "    :param max_depth: maximum allowed number of hyponyms\n",
        "    :param has_up: (internal) bool(current top concept has a subconcept)\n",
        "    :param depth: (internal) current depth in the ontology\n",
        "    :return: list of subconcepts for every meaning of query\n",
        "    \"\"\"\n",
        "    if (not has_up) or depth >= max_depth > 0:\n",
        "        return concept_list\n",
        "    has_up = False\n",
        "    new_list = []\n",
        "    for word in concept_list[-1]:\n",
        "        for row in rels_list:\n",
        "            if row['from'].lower() == word.lower() and row['relation'] == 'ВЫШЕ':\n",
        "                if all(row['to'].lower() not in hypo for hypo in concept_list):\n",
        "                    new_list.append(row['to'].lower())\n",
        "                    has_up = True\n",
        "    if has_up:\n",
        "        concept_list.append(new_list)\n",
        "    return get_supc(concept_list, rels_list, has_up, depth + 1, max_depth)\n",
        "\n",
        "\n",
        "def get_subc2(concept_list, rels_list, has_down=True, depth=0, max_depth=-1):\n",
        "    \"\"\"\n",
        "    Get list of all hyponym chains for word in query\n",
        "    - down a level\n",
        "    - add all 'ниже' concepts to list\n",
        "    [[level_1, level_2.1, level_3.1], [level_1, level_2.2, level_3.2], etc...]\n",
        "\n",
        "    :param concept_list: search input\n",
        "    :param rels_list: imported set of relations\n",
        "    :param max_depth: maximum allowed number of hyponyms\n",
        "    :param has_down: (internal) bool(current top concept has a subconcept)\n",
        "    :param depth: (internal) current depth in the ontology\n",
        "    :return: list of subconcepts for every meaning of query\n",
        "    \"\"\"\n",
        "    new_cl = concept_list[:]\n",
        "    if (not has_down) or depth >= max_depth > 0:\n",
        "        return new_cl\n",
        "    for chain in concept_list:\n",
        "        has_down = False\n",
        "        index = new_cl.index(chain)\n",
        "        word = chain[-1]\n",
        "        for row in rels_list:\n",
        "            new_chain = chain[:]\n",
        "            if row['from'].lower() == word.lower() and row['relation'] == 'НИЖЕ':\n",
        "                new_chain.append(row['to'].lower())\n",
        "                new_cl.insert(index + 1, new_chain)\n",
        "                has_down = True\n",
        "        if has_down:\n",
        "            new_cl.remove(chain)\n",
        "    return get_subc2(new_cl, rels_list, has_down, depth+1, max_depth)\n",
        "\n",
        "\n",
        "def get_subc(concept_list, rels_list, has_down=True, depth=0, max_depth=-1):\n",
        "    \"\"\"\n",
        "    Find list of all hyponyms of query by level down\n",
        "    [[level_1], [level_2.1, level_2.2], [level_3.1, level_3.2, level_3.3], etc...]\n",
        "\n",
        "    :param concept_list: search input\n",
        "    :param rels_list: imported set of relations\n",
        "    :param max_depth: maximum allowed number of hyponyms\n",
        "    :param has_down: (internal) bool(current top concept has a subconcept)\n",
        "    :param depth: (internal) current depth in the ontology\n",
        "    :return: list of subconcepts for every meaning of query\n",
        "    \"\"\"\n",
        "    if (not has_down) or depth >= max_depth > 0:\n",
        "        return concept_list\n",
        "    has_down = False\n",
        "    new_list = []\n",
        "    for word in concept_list[-1]:\n",
        "        for row in rels_list:\n",
        "            if row['from'].lower() == word.lower() and row['relation'] == 'НИЖЕ':\n",
        "                if all(row['to'].lower() not in hypo for hypo in concept_list):\n",
        "                    new_list.append(row['to'].lower())\n",
        "                    has_down = True\n",
        "    if has_down:\n",
        "        concept_list.append(new_list)\n",
        "    return get_subc(concept_list, rels_list, has_down, depth+1, max_depth)"
      ],
      "execution_count": 29,
      "outputs": []
    },
    {
      "cell_type": "markdown",
      "metadata": {
        "id": "OTeSqBGDAOeH"
      },
      "source": [
        "Внизу есть 2 функции. Как думаете, ччем они отличаются?"
      ]
    },
    {
      "cell_type": "code",
      "metadata": {
        "id": "uJyHmpWiAOeI",
        "colab": {
          "base_uri": "https://localhost:8080/"
        },
        "outputId": "c52d9c2d-5295-4175-9604-73e7c2932430"
      },
      "source": [
        "get_supc([['собака'], ['кошка']], rels_list)"
      ],
      "execution_count": 30,
      "outputs": [
        {
          "output_type": "execute_result",
          "data": {
            "text/plain": [
              "[['собака'],\n",
              " ['кошка'],\n",
              " ['домашнее животное', 'кошачьи'],\n",
              " ['животное', 'хищное млекопитающее'],\n",
              " ['живой организм', 'млекопитающее', 'дикое животное', 'хищное животное'],\n",
              " ['биологическая сущность', 'позвоночное животное'],\n",
              " ['физическая сущность'],\n",
              " ['постоянная сущность']]"
            ]
          },
          "metadata": {
            "tags": []
          },
          "execution_count": 30
        }
      ]
    },
    {
      "cell_type": "markdown",
      "metadata": {
        "id": "0la1-D2UAOeJ"
      },
      "source": [
        ""
      ]
    },
    {
      "cell_type": "code",
      "metadata": {
        "id": "k3e8bNy1AOeJ",
        "colab": {
          "base_uri": "https://localhost:8080/"
        },
        "outputId": "e2d15df6-5888-4544-db1b-ff3c02d0dbc5"
      },
      "source": [
        "get_supc2([['собака'], [\"кошка\"]], rels_list)"
      ],
      "execution_count": 31,
      "outputs": [
        {
          "output_type": "execute_result",
          "data": {
            "text/plain": [
              "[['собака',\n",
              "  'домашнее животное',\n",
              "  'животное',\n",
              "  'живой организм',\n",
              "  'биологическая сущность',\n",
              "  'физическая сущность',\n",
              "  'постоянная сущность'],\n",
              " ['собака',\n",
              "  'млекопитающее',\n",
              "  'позвоночное животное',\n",
              "  'животное',\n",
              "  'живой организм',\n",
              "  'биологическая сущность',\n",
              "  'физическая сущность',\n",
              "  'постоянная сущность'],\n",
              " ['кошка',\n",
              "  'кошачьи',\n",
              "  'хищное млекопитающее',\n",
              "  'хищное животное',\n",
              "  'животное',\n",
              "  'живой организм',\n",
              "  'биологическая сущность',\n",
              "  'физическая сущность',\n",
              "  'постоянная сущность'],\n",
              " ['кошка',\n",
              "  'кошачьи',\n",
              "  'хищное млекопитающее',\n",
              "  'дикое животное',\n",
              "  'животное',\n",
              "  'живой организм',\n",
              "  'биологическая сущность',\n",
              "  'физическая сущность',\n",
              "  'постоянная сущность'],\n",
              " ['кошка',\n",
              "  'кошачьи',\n",
              "  'хищное млекопитающее',\n",
              "  'млекопитающее',\n",
              "  'позвоночное животное',\n",
              "  'животное',\n",
              "  'живой организм',\n",
              "  'биологическая сущность',\n",
              "  'физическая сущность',\n",
              "  'постоянная сущность']]"
            ]
          },
          "metadata": {
            "tags": []
          },
          "execution_count": 31
        }
      ]
    },
    {
      "cell_type": "markdown",
      "metadata": {
        "id": "nVg-Oj1WAOeK"
      },
      "source": [
        "Получить все гипонимы для списка концептов (объединенные в списки по уровням)."
      ]
    },
    {
      "cell_type": "code",
      "metadata": {
        "id": "pK7buywgAOeL",
        "colab": {
          "base_uri": "https://localhost:8080/"
        },
        "outputId": "ff7e5979-bbff-416a-cf90-8a2b97be7ae1"
      },
      "source": [
        "get_subc([['собака']], rels_list)"
      ],
      "execution_count": null,
      "outputs": [
        {
          "output_type": "execute_result",
          "data": {
            "text/plain": [
              "[['собака'],\n",
              " ['служебная собака',\n",
              "  'охотничья собака',\n",
              "  'комнатная собака',\n",
              "  'пудель',\n",
              "  'бульдог',\n",
              "  'пинчер',\n",
              "  'щенок (собака)',\n",
              "  'кобель (собака)',\n",
              "  'беспородная собака',\n",
              "  'ротвейлер',\n",
              "  'лабрадор (порода собак)',\n",
              "  'чихуахуа (порода собак)'],\n",
              " ['поисковая собака',\n",
              "  'овчарка',\n",
              "  'боксер (собака)',\n",
              "  'такса (собака)',\n",
              "  'волкодав',\n",
              "  'лайка (собака)',\n",
              "  'спаниель',\n",
              "  'терьер',\n",
              "  'борзая собака',\n",
              "  'легавая собака',\n",
              "  'болонка',\n",
              "  'доберман'],\n",
              " ['немецкая овчарка',\n",
              "  'кокер-спаниель',\n",
              "  'питбультерьер',\n",
              "  'йоркширский терьер',\n",
              "  'стаффордширский терьер',\n",
              "  'сеттер']]"
            ]
          },
          "metadata": {
            "tags": []
          },
          "execution_count": 38
        }
      ]
    },
    {
      "cell_type": "markdown",
      "metadata": {
        "id": "-wiQy6v8AOeM"
      },
      "source": [
        "Получить все гипонимы для списка концептов (объединенные в списки по концепту)."
      ]
    },
    {
      "cell_type": "code",
      "metadata": {
        "id": "FR7bvNA5AOeN",
        "colab": {
          "base_uri": "https://localhost:8080/"
        },
        "outputId": "7e36536c-7c8b-434a-a268-c26e54c8a366"
      },
      "source": [
        "get_subc2([['собака']], rels_list)"
      ],
      "execution_count": null,
      "outputs": [
        {
          "output_type": "execute_result",
          "data": {
            "text/plain": [
              "[['собака', 'чихуахуа (порода собак)'],\n",
              " ['собака', 'лабрадор (порода собак)'],\n",
              " ['собака', 'ротвейлер'],\n",
              " ['собака', 'беспородная собака'],\n",
              " ['собака', 'кобель (собака)'],\n",
              " ['собака', 'щенок (собака)'],\n",
              " ['собака', 'пинчер', 'доберман'],\n",
              " ['собака', 'бульдог'],\n",
              " ['собака', 'пудель'],\n",
              " ['собака', 'комнатная собака', 'болонка'],\n",
              " ['собака', 'комнатная собака', 'пудель'],\n",
              " ['собака', 'охотничья собака', 'легавая собака', 'сеттер'],\n",
              " ['собака', 'охотничья собака', 'борзая собака'],\n",
              " ['собака', 'охотничья собака', 'терьер', 'стаффордширский терьер'],\n",
              " ['собака', 'охотничья собака', 'терьер', 'йоркширский терьер'],\n",
              " ['собака', 'охотничья собака', 'терьер', 'питбультерьер'],\n",
              " ['собака', 'охотничья собака', 'спаниель', 'кокер-спаниель'],\n",
              " ['собака', 'охотничья собака', 'лайка (собака)'],\n",
              " ['собака', 'охотничья собака', 'волкодав'],\n",
              " ['собака', 'охотничья собака', 'такса (собака)'],\n",
              " ['собака', 'служебная собака', 'боксер (собака)'],\n",
              " ['собака', 'служебная собака', 'овчарка', 'немецкая овчарка'],\n",
              " ['собака', 'служебная собака', 'поисковая собака']]"
            ]
          },
          "metadata": {
            "tags": []
          },
          "execution_count": 39
        }
      ]
    },
    {
      "cell_type": "markdown",
      "metadata": {
        "id": "e9wml8A42Eqe"
      },
      "source": [
        "Зачем мы это делаем?"
      ]
    },
    {
      "cell_type": "markdown",
      "metadata": {
        "id": "oKxsIsB6AOdn"
      },
      "source": [
        "\n",
        "Традиционный подход к разрешению анафоры/кореференции — классификация пар именных групп (являются кореферентными или нет). В таком случае самая содержательная задача — придумать признаки для классификации. Какие они могут быть:\n",
        "\n",
        "* морфологические (согласование)\n",
        "* синтаксические (роль в предложении, расстояние по дереву, тип вершины и т.д.)\n",
        "* онтологические (один класс, расстояние и т.д.)\n",
        "* ..."
      ]
    },
    {
      "cell_type": "markdown",
      "metadata": {
        "id": "03YaXpVEAOeO"
      },
      "source": [
        "## Классификатор кореферентности\n",
        "— является ли пара упоминаний (именных групп) кореферентными?\n",
        "Что нужно?\n",
        "* собрать список пар;\n",
        "* представить в виде признаков;\n",
        "* обучить классификатор.\n",
        "\n",
        "Будем использовать данные корпуса [RuCor](http://rucoref.maimbava.net/) и [код М. Ионова](https://github.com/max-ionov/rucoref) для соревнований Диалога.\n",
        "\n",
        "Для оценки качества классификации кореферентности используются специальные метрики, описанные в [статье](https://www.aclweb.org/anthology/P14-2006.pdf)"
      ]
    },
    {
      "cell_type": "markdown",
      "metadata": {
        "id": "4TwWwfvl4FaF"
      },
      "source": [
        ""
      ]
    },
    {
      "cell_type": "markdown",
      "metadata": {
        "id": "jnNii4k04FnW"
      },
      "source": [
        ""
      ]
    },
    {
      "cell_type": "markdown",
      "metadata": {
        "id": "I4kuXXGR4F08"
      },
      "source": [
        ""
      ]
    },
    {
      "cell_type": "markdown",
      "metadata": {
        "id": "cW8IbOWI4F6S"
      },
      "source": [
        ""
      ]
    },
    {
      "cell_type": "markdown",
      "metadata": {
        "id": "8hXUvZng4F_B"
      },
      "source": [
        ""
      ]
    },
    {
      "cell_type": "code",
      "metadata": {
        "id": "pXrzb81UAOeP",
        "colab": {
          "base_uri": "https://localhost:8080/"
        },
        "outputId": "ffd114d7-9778-4b15-8622-00b8b5c70fdf"
      },
      "source": [
        "!git clone https://github.com/max-ionov/rucoref.git\n",
        "!rm -rf rucoref/external/reference-coreference-scorers\n",
        "!cd rucoref/external && git clone https://github.com/conll/reference-coreference-scorers.git && cd -"
      ],
      "execution_count": null,
      "outputs": [
        {
          "output_type": "stream",
          "text": [
            "Cloning into 'rucoref'...\n",
            "remote: Enumerating objects: 178, done.\u001b[K\n",
            "remote: Total 178 (delta 0), reused 0 (delta 0), pack-reused 178\u001b[K\n",
            "Receiving objects: 100% (178/178), 883.07 KiB | 6.79 MiB/s, done.\n",
            "Resolving deltas: 100% (89/89), done.\n",
            "Cloning into 'reference-coreference-scorers'...\n",
            "remote: Enumerating objects: 591, done.\u001b[K\n",
            "remote: Total 591 (delta 0), reused 0 (delta 0), pack-reused 591\u001b[K\n",
            "Receiving objects: 100% (591/591), 168.31 KiB | 2.19 MiB/s, done.\n",
            "Resolving deltas: 100% (318/318), done.\n",
            "/content\n"
          ],
          "name": "stdout"
        }
      ]
    },
    {
      "cell_type": "markdown",
      "metadata": {
        "id": "sXmaK85rAOeP"
      },
      "source": [
        "Скачиваем размеченные данные - группы (упоминания + кореф-связи) и сам корпус (тексты разобраны Malt-парсером)."
      ]
    },
    {
      "cell_type": "code",
      "metadata": {
        "id": "3dQRBwUeAOeQ",
        "colab": {
          "base_uri": "https://localhost:8080/"
        },
        "outputId": "74da0aec-1e73-407d-cfb3-a36742482303"
      },
      "source": [
        "!wget https://github.com/sjut/HSE-Compling/raw/master/seminars/data/Groups.test.txt\n",
        "!wget https://github.com/sjut/HSE-Compling/raw/master/seminars/data/Groups.train.txt\n",
        "!wget https://github.com/sjut/HSE-Compling/raw/master/seminars/data/Tokens.parsed.train.txt\n",
        "!wget https://github.com/sjut/HSE-Compling/raw/master/seminars/data/Tokens.parsed.test.txt"
      ],
      "execution_count": null,
      "outputs": [
        {
          "output_type": "stream",
          "text": [
            "--2020-12-16 09:26:45--  https://github.com/sjut/HSE-Compling/raw/master/seminars/data/Groups.test.txt\n",
            "Resolving github.com (github.com)... 140.82.112.4\n",
            "Connecting to github.com (github.com)|140.82.112.4|:443... connected.\n",
            "HTTP request sent, awaiting response... 302 Found\n",
            "Location: https://raw.githubusercontent.com/sjut/HSE-Compling/master/seminars/data/Groups.test.txt [following]\n",
            "--2020-12-16 09:26:45--  https://raw.githubusercontent.com/sjut/HSE-Compling/master/seminars/data/Groups.test.txt\n",
            "Resolving raw.githubusercontent.com (raw.githubusercontent.com)... 151.101.0.133, 151.101.64.133, 151.101.128.133, ...\n",
            "Connecting to raw.githubusercontent.com (raw.githubusercontent.com)|151.101.0.133|:443... connected.\n",
            "HTTP request sent, awaiting response... 200 OK\n",
            "Length: 540437 (528K) [text/plain]\n",
            "Saving to: ‘Groups.test.txt’\n",
            "\n",
            "Groups.test.txt     100%[===================>] 527.77K  --.-KB/s    in 0.04s   \n",
            "\n",
            "2020-12-16 09:26:45 (12.6 MB/s) - ‘Groups.test.txt’ saved [540437/540437]\n",
            "\n",
            "--2020-12-16 09:26:45--  https://github.com/sjut/HSE-Compling/raw/master/seminars/data/Groups.train.txt\n",
            "Resolving github.com (github.com)... 140.82.112.3\n",
            "Connecting to github.com (github.com)|140.82.112.3|:443... connected.\n",
            "HTTP request sent, awaiting response... 302 Found\n",
            "Location: https://raw.githubusercontent.com/sjut/HSE-Compling/master/seminars/data/Groups.train.txt [following]\n",
            "--2020-12-16 09:26:46--  https://raw.githubusercontent.com/sjut/HSE-Compling/master/seminars/data/Groups.train.txt\n",
            "Resolving raw.githubusercontent.com (raw.githubusercontent.com)... 151.101.0.133, 151.101.64.133, 151.101.128.133, ...\n",
            "Connecting to raw.githubusercontent.com (raw.githubusercontent.com)|151.101.0.133|:443... connected.\n",
            "HTTP request sent, awaiting response... 200 OK\n",
            "Length: 1066303 (1.0M) [text/plain]\n",
            "Saving to: ‘Groups.train.txt’\n",
            "\n",
            "Groups.train.txt    100%[===================>]   1.02M  --.-KB/s    in 0.06s   \n",
            "\n",
            "2020-12-16 09:26:46 (16.4 MB/s) - ‘Groups.train.txt’ saved [1066303/1066303]\n",
            "\n",
            "--2020-12-16 09:26:46--  https://github.com/sjut/HSE-Compling/raw/master/seminars/data/Tokens.parsed.train.txt\n",
            "Resolving github.com (github.com)... 140.82.114.4\n",
            "Connecting to github.com (github.com)|140.82.114.4|:443... connected.\n",
            "HTTP request sent, awaiting response... 302 Found\n",
            "Location: https://raw.githubusercontent.com/sjut/HSE-Compling/master/seminars/data/Tokens.parsed.train.txt [following]\n",
            "--2020-12-16 09:26:47--  https://raw.githubusercontent.com/sjut/HSE-Compling/master/seminars/data/Tokens.parsed.train.txt\n",
            "Resolving raw.githubusercontent.com (raw.githubusercontent.com)... 151.101.0.133, 151.101.64.133, 151.101.128.133, ...\n",
            "Connecting to raw.githubusercontent.com (raw.githubusercontent.com)|151.101.0.133|:443... connected.\n",
            "HTTP request sent, awaiting response... 200 OK\n",
            "Length: 5565629 (5.3M) [text/plain]\n",
            "Saving to: ‘Tokens.parsed.train.txt’\n",
            "\n",
            "Tokens.parsed.train 100%[===================>]   5.31M  29.2MB/s    in 0.2s    \n",
            "\n",
            "2020-12-16 09:26:47 (29.2 MB/s) - ‘Tokens.parsed.train.txt’ saved [5565629/5565629]\n",
            "\n",
            "--2020-12-16 09:26:47--  https://github.com/sjut/HSE-Compling/raw/master/seminars/data/Tokens.parsed.test.txt\n",
            "Resolving github.com (github.com)... 140.82.114.4\n",
            "Connecting to github.com (github.com)|140.82.114.4|:443... connected.\n",
            "HTTP request sent, awaiting response... 302 Found\n",
            "Location: https://raw.githubusercontent.com/sjut/HSE-Compling/master/seminars/data/Tokens.parsed.test.txt [following]\n",
            "--2020-12-16 09:26:48--  https://raw.githubusercontent.com/sjut/HSE-Compling/master/seminars/data/Tokens.parsed.test.txt\n",
            "Resolving raw.githubusercontent.com (raw.githubusercontent.com)... 151.101.0.133, 151.101.64.133, 151.101.128.133, ...\n",
            "Connecting to raw.githubusercontent.com (raw.githubusercontent.com)|151.101.0.133|:443... connected.\n",
            "HTTP request sent, awaiting response... 200 OK\n",
            "Length: 2672254 (2.5M) [text/plain]\n",
            "Saving to: ‘Tokens.parsed.test.txt’\n",
            "\n",
            "Tokens.parsed.test. 100%[===================>]   2.55M  --.-KB/s    in 0.1s    \n",
            "\n",
            "2020-12-16 09:26:48 (23.3 MB/s) - ‘Tokens.parsed.test.txt’ saved [2672254/2672254]\n",
            "\n"
          ],
          "name": "stdout"
        }
      ]
    },
    {
      "cell_type": "code",
      "metadata": {
        "id": "sOwWhSANAOeQ",
        "colab": {
          "base_uri": "https://localhost:8080/"
        },
        "outputId": "a3942473-cd99-4d90-b7d0-eb7ee102aeb6"
      },
      "source": [
        "%cd 'rucoref'\n",
        "from anaphoralib.corpora import rueval\n",
        "from anaphoralib.tagsets import multeast\n",
        "from anaphoralib.tagsets.utils import same_grammemmes\n",
        "from anaphoralib.experiments import mentionpair\n",
        "from anaphoralib.experiments import coref_utils\n",
        "from anaphoralib import utils\n",
        "from anaphoralib.experiments import utils as exp_utils\n",
        "%cd '..'\n",
        "\n",
        "scorer_path = 'rucoref/external/reference-coreference-scorers/scorer.pl'"
      ],
      "execution_count": null,
      "outputs": [
        {
          "output_type": "stream",
          "text": [
            "/content/rucoref\n",
            "/content\n"
          ],
          "name": "stdout"
        }
      ]
    },
    {
      "cell_type": "code",
      "metadata": {
        "id": "STaYwkw9AOeR"
      },
      "source": [
        "from sklearn.svm import LinearSVC\n",
        "from sklearn.svm import SVC\n",
        "from sklearn.tree import DecisionTreeClassifier\n",
        "from sklearn.ensemble import RandomForestClassifier\n",
        "from sklearn.naive_bayes import MultinomialNB\n",
        "from sklearn.tree import export_graphviz"
      ],
      "execution_count": null,
      "outputs": []
    },
    {
      "cell_type": "code",
      "metadata": {
        "id": "Y0oOB0S1AOeR"
      },
      "source": [
        "rucoref_train = rueval.RuCorefCorpus(multeast, rueval)\n",
        "rucoref_test = rueval.RuCorefCorpus(multeast, rueval)"
      ],
      "execution_count": null,
      "outputs": []
    },
    {
      "cell_type": "code",
      "metadata": {
        "id": "1qHovhztAOeS",
        "colab": {
          "base_uri": "https://localhost:8080/",
          "height": 303
        },
        "outputId": "a998efff-f33f-4cb0-db23-8ec15311b478"
      },
      "source": [
        "exp_utils.load_corpus(rucoref_train, 'Tokens.parsed.train.txt', 'Groups.train.txt')"
      ],
      "execution_count": null,
      "outputs": [
        {
          "output_type": "error",
          "ename": "TypeError",
          "evalue": "ignored",
          "traceback": [
            "\u001b[0;31m---------------------------------------------------------------------------\u001b[0m",
            "\u001b[0;31mTypeError\u001b[0m                                 Traceback (most recent call last)",
            "\u001b[0;32m<ipython-input-34-3f08131ce607>\u001b[0m in \u001b[0;36m<module>\u001b[0;34m()\u001b[0m\n\u001b[0;32m----> 1\u001b[0;31m \u001b[0mexp_utils\u001b[0m\u001b[0;34m.\u001b[0m\u001b[0mload_corpus\u001b[0m\u001b[0;34m(\u001b[0m\u001b[0mrucoref_train\u001b[0m\u001b[0;34m,\u001b[0m \u001b[0;34m'Tokens.parsed.train.txt'\u001b[0m\u001b[0;34m,\u001b[0m \u001b[0;34m'Groups.train.txt'\u001b[0m\u001b[0;34m)\u001b[0m\u001b[0;34m\u001b[0m\u001b[0;34m\u001b[0m\u001b[0m\n\u001b[0m",
            "\u001b[0;32m/content/rucoref/anaphoralib/experiments/utils.py\u001b[0m in \u001b[0;36mload_corpus\u001b[0;34m(corpus, texts_path, gs_path)\u001b[0m\n\u001b[1;32m    149\u001b[0m     \u001b[0mcorpus\u001b[0m\u001b[0;34m.\u001b[0m\u001b[0mload_texts\u001b[0m\u001b[0;34m(\u001b[0m\u001b[0mtexts_path\u001b[0m\u001b[0;34m)\u001b[0m\u001b[0;34m\u001b[0m\u001b[0;34m\u001b[0m\u001b[0m\n\u001b[1;32m    150\u001b[0m     \u001b[0mcorpus\u001b[0m\u001b[0;34m.\u001b[0m\u001b[0mload_gs\u001b[0m\u001b[0;34m(\u001b[0m\u001b[0mgs_path\u001b[0m\u001b[0;34m)\u001b[0m\u001b[0;34m\u001b[0m\u001b[0;34m\u001b[0m\u001b[0m\n\u001b[0;32m--> 151\u001b[0;31m     \u001b[0mcorpus\u001b[0m\u001b[0;34m.\u001b[0m\u001b[0mfind_groups\u001b[0m\u001b[0;34m(\u001b[0m\u001b[0;34m)\u001b[0m\u001b[0;34m\u001b[0m\u001b[0;34m\u001b[0m\u001b[0m\n\u001b[0m\u001b[1;32m    152\u001b[0m     \u001b[0mcorpus\u001b[0m\u001b[0;34m.\u001b[0m\u001b[0mcreate_indices\u001b[0m\u001b[0;34m(\u001b[0m\u001b[0;34m)\u001b[0m\u001b[0;34m\u001b[0m\u001b[0;34m\u001b[0m\u001b[0m\n\u001b[1;32m    153\u001b[0m \u001b[0;34m\u001b[0m\u001b[0m\n",
            "\u001b[0;32m/content/rucoref/anaphoralib/corpora/base.py\u001b[0m in \u001b[0;36mfind_groups\u001b[0;34m(self, use_parses)\u001b[0m\n\u001b[1;32m     62\u001b[0m             \u001b[0mparses\u001b[0m \u001b[0;34m=\u001b[0m \u001b[0mself\u001b[0m\u001b[0;34m.\u001b[0m\u001b[0mparses\u001b[0m \u001b[0;32mif\u001b[0m \u001b[0mself\u001b[0m\u001b[0;34m.\u001b[0m\u001b[0mparses\u001b[0m \u001b[0;32mand\u001b[0m \u001b[0muse_parses\u001b[0m \u001b[0;32melse\u001b[0m \u001b[0;32mFalse\u001b[0m\u001b[0;34m\u001b[0m\u001b[0;34m\u001b[0m\u001b[0m\n\u001b[1;32m     63\u001b[0m             self.groups = [utils.find_groups(text,\n\u001b[0;32m---> 64\u001b[0;31m                                              self.tagset, parses) for i, text in enumerate(self.texts)]\n\u001b[0m\u001b[1;32m     65\u001b[0m             \u001b[0mself\u001b[0m\u001b[0;34m.\u001b[0m\u001b[0mmentions\u001b[0m \u001b[0;34m=\u001b[0m \u001b[0;34m[\u001b[0m\u001b[0mutils\u001b[0m\u001b[0;34m.\u001b[0m\u001b[0mfind_mentions\u001b[0m\u001b[0;34m(\u001b[0m\u001b[0mtext\u001b[0m\u001b[0;34m,\u001b[0m \u001b[0mself\u001b[0m\u001b[0;34m.\u001b[0m\u001b[0mtagset\u001b[0m\u001b[0;34m)\u001b[0m \u001b[0;32mfor\u001b[0m \u001b[0mtext\u001b[0m \u001b[0;32min\u001b[0m \u001b[0mself\u001b[0m\u001b[0;34m.\u001b[0m\u001b[0mtexts\u001b[0m\u001b[0;34m]\u001b[0m\u001b[0;34m\u001b[0m\u001b[0;34m\u001b[0m\u001b[0m\n\u001b[1;32m     66\u001b[0m             \u001b[0mself\u001b[0m\u001b[0;34m.\u001b[0m\u001b[0mgroups_loaded_\u001b[0m \u001b[0;34m=\u001b[0m \u001b[0;32mTrue\u001b[0m\u001b[0;34m\u001b[0m\u001b[0;34m\u001b[0m\u001b[0m\n",
            "\u001b[0;32m/content/rucoref/anaphoralib/corpora/base.py\u001b[0m in \u001b[0;36m<listcomp>\u001b[0;34m(.0)\u001b[0m\n\u001b[1;32m     62\u001b[0m             \u001b[0mparses\u001b[0m \u001b[0;34m=\u001b[0m \u001b[0mself\u001b[0m\u001b[0;34m.\u001b[0m\u001b[0mparses\u001b[0m \u001b[0;32mif\u001b[0m \u001b[0mself\u001b[0m\u001b[0;34m.\u001b[0m\u001b[0mparses\u001b[0m \u001b[0;32mand\u001b[0m \u001b[0muse_parses\u001b[0m \u001b[0;32melse\u001b[0m \u001b[0;32mFalse\u001b[0m\u001b[0;34m\u001b[0m\u001b[0;34m\u001b[0m\u001b[0m\n\u001b[1;32m     63\u001b[0m             self.groups = [utils.find_groups(text,\n\u001b[0;32m---> 64\u001b[0;31m                                              self.tagset, parses) for i, text in enumerate(self.texts)]\n\u001b[0m\u001b[1;32m     65\u001b[0m             \u001b[0mself\u001b[0m\u001b[0;34m.\u001b[0m\u001b[0mmentions\u001b[0m \u001b[0;34m=\u001b[0m \u001b[0;34m[\u001b[0m\u001b[0mutils\u001b[0m\u001b[0;34m.\u001b[0m\u001b[0mfind_mentions\u001b[0m\u001b[0;34m(\u001b[0m\u001b[0mtext\u001b[0m\u001b[0;34m,\u001b[0m \u001b[0mself\u001b[0m\u001b[0;34m.\u001b[0m\u001b[0mtagset\u001b[0m\u001b[0;34m)\u001b[0m \u001b[0;32mfor\u001b[0m \u001b[0mtext\u001b[0m \u001b[0;32min\u001b[0m \u001b[0mself\u001b[0m\u001b[0;34m.\u001b[0m\u001b[0mtexts\u001b[0m\u001b[0;34m]\u001b[0m\u001b[0;34m\u001b[0m\u001b[0;34m\u001b[0m\u001b[0m\n\u001b[1;32m     66\u001b[0m             \u001b[0mself\u001b[0m\u001b[0;34m.\u001b[0m\u001b[0mgroups_loaded_\u001b[0m \u001b[0;34m=\u001b[0m \u001b[0;32mTrue\u001b[0m\u001b[0;34m\u001b[0m\u001b[0;34m\u001b[0m\u001b[0m\n",
            "\u001b[0;32m/content/rucoref/anaphoralib/utils.py\u001b[0m in \u001b[0;36mfind_groups\u001b[0;34m(text, tagset, parses)\u001b[0m\n\u001b[1;32m    149\u001b[0m \u001b[0;32mdef\u001b[0m \u001b[0mfind_groups\u001b[0m\u001b[0;34m(\u001b[0m\u001b[0mtext\u001b[0m\u001b[0;34m,\u001b[0m \u001b[0mtagset\u001b[0m\u001b[0;34m,\u001b[0m \u001b[0mparses\u001b[0m\u001b[0;34m=\u001b[0m\u001b[0;32mNone\u001b[0m\u001b[0;34m)\u001b[0m\u001b[0;34m:\u001b[0m\u001b[0;34m\u001b[0m\u001b[0;34m\u001b[0m\u001b[0m\n\u001b[1;32m    150\u001b[0m     \u001b[0;32mif\u001b[0m \u001b[0mparses\u001b[0m\u001b[0;34m:\u001b[0m\u001b[0;34m\u001b[0m\u001b[0;34m\u001b[0m\u001b[0m\n\u001b[0;32m--> 151\u001b[0;31m         \u001b[0;32mreturn\u001b[0m \u001b[0mfind_groups_syntax\u001b[0m\u001b[0;34m(\u001b[0m\u001b[0mtext\u001b[0m\u001b[0;34m,\u001b[0m \u001b[0mtagset\u001b[0m\u001b[0;34m,\u001b[0m \u001b[0mparses\u001b[0m\u001b[0;34m)\u001b[0m\u001b[0;34m\u001b[0m\u001b[0;34m\u001b[0m\u001b[0m\n\u001b[0m\u001b[1;32m    152\u001b[0m \u001b[0;34m\u001b[0m\u001b[0m\n\u001b[1;32m    153\u001b[0m     \u001b[0mgroups\u001b[0m \u001b[0;34m=\u001b[0m \u001b[0mtext\u001b[0m\u001b[0;34m[\u001b[0m\u001b[0;34m:\u001b[0m\u001b[0;34m]\u001b[0m\u001b[0;34m\u001b[0m\u001b[0;34m\u001b[0m\u001b[0m\n",
            "\u001b[0;32m/content/rucoref/anaphoralib/utils.py\u001b[0m in \u001b[0;36mfind_groups_syntax\u001b[0;34m(text, tagset, parses)\u001b[0m\n\u001b[1;32m    125\u001b[0m         \u001b[0;32mreturn\u001b[0m \u001b[0mdependencies\u001b[0m\u001b[0;34m\u001b[0m\u001b[0;34m\u001b[0m\u001b[0m\n\u001b[1;32m    126\u001b[0m \u001b[0;34m\u001b[0m\u001b[0m\n\u001b[0;32m--> 127\u001b[0;31m     \u001b[0mdep_ind\u001b[0m \u001b[0;34m=\u001b[0m \u001b[0mbuild_dependency_index\u001b[0m\u001b[0;34m(\u001b[0m\u001b[0;34m)\u001b[0m\u001b[0;34m\u001b[0m\u001b[0;34m\u001b[0m\u001b[0m\n\u001b[0m\u001b[1;32m    128\u001b[0m     \u001b[0;32mfor\u001b[0m \u001b[0mi\u001b[0m\u001b[0;34m,\u001b[0m \u001b[0mword\u001b[0m \u001b[0;32min\u001b[0m \u001b[0menumerate\u001b[0m\u001b[0;34m(\u001b[0m\u001b[0mtext\u001b[0m\u001b[0;34m)\u001b[0m\u001b[0;34m:\u001b[0m\u001b[0;34m\u001b[0m\u001b[0;34m\u001b[0m\u001b[0m\n\u001b[1;32m    129\u001b[0m         \u001b[0;32mif\u001b[0m \u001b[0mtagset\u001b[0m\u001b[0;34m.\u001b[0m\u001b[0mis_np_head\u001b[0m\u001b[0;34m(\u001b[0m\u001b[0mword\u001b[0m\u001b[0;34m)\u001b[0m\u001b[0;34m:\u001b[0m\u001b[0;34m\u001b[0m\u001b[0;34m\u001b[0m\u001b[0m\n",
            "\u001b[0;32m/content/rucoref/anaphoralib/utils.py\u001b[0m in \u001b[0;36mbuild_dependency_index\u001b[0;34m()\u001b[0m\n\u001b[1;32m    118\u001b[0m         \u001b[0mdependencies\u001b[0m \u001b[0;34m=\u001b[0m \u001b[0mcollections\u001b[0m\u001b[0;34m.\u001b[0m\u001b[0mdefaultdict\u001b[0m\u001b[0;34m(\u001b[0m\u001b[0mset\u001b[0m\u001b[0;34m)\u001b[0m\u001b[0;34m\u001b[0m\u001b[0;34m\u001b[0m\u001b[0m\n\u001b[1;32m    119\u001b[0m         \u001b[0;32mfor\u001b[0m \u001b[0mw2_ind\u001b[0m\u001b[0;34m,\u001b[0m \u001b[0mword2\u001b[0m \u001b[0;32min\u001b[0m \u001b[0menumerate\u001b[0m\u001b[0;34m(\u001b[0m\u001b[0mtext\u001b[0m\u001b[0;34m)\u001b[0m\u001b[0;34m:\u001b[0m\u001b[0;34m\u001b[0m\u001b[0;34m\u001b[0m\u001b[0m\n\u001b[0;32m--> 120\u001b[0;31m             \u001b[0mw1_ind\u001b[0m \u001b[0;34m=\u001b[0m \u001b[0mparses\u001b[0m\u001b[0;34m[\u001b[0m\u001b[0mw2_ind\u001b[0m\u001b[0;34m]\u001b[0m\u001b[0;34m[\u001b[0m\u001b[0;36m0\u001b[0m\u001b[0;34m]\u001b[0m \u001b[0;34m-\u001b[0m \u001b[0;36m1\u001b[0m\u001b[0;34m\u001b[0m\u001b[0;34m\u001b[0m\u001b[0m\n\u001b[0m\u001b[1;32m    121\u001b[0m             \u001b[0mrel\u001b[0m \u001b[0;34m=\u001b[0m \u001b[0mparses\u001b[0m\u001b[0;34m[\u001b[0m\u001b[0mw2_ind\u001b[0m\u001b[0;34m]\u001b[0m\u001b[0;34m[\u001b[0m\u001b[0;36m1\u001b[0m\u001b[0;34m]\u001b[0m\u001b[0;34m\u001b[0m\u001b[0;34m\u001b[0m\u001b[0m\n\u001b[1;32m    122\u001b[0m \u001b[0;34m\u001b[0m\u001b[0m\n",
            "\u001b[0;31mTypeError\u001b[0m: unsupported operand type(s) for -: 'tuple' and 'int'"
          ]
        }
      ]
    },
    {
      "cell_type": "code",
      "metadata": {
        "id": "uaRrvw5zAOeS",
        "colab": {
          "base_uri": "https://localhost:8080/",
          "height": 303
        },
        "outputId": "19b7cf7e-228a-42a7-d7e4-495fe46dea30"
      },
      "source": [
        "exp_utils.load_corpus(rucoref_test, 'Tokens.parsed.test.txt', 'Groups.test.txt')"
      ],
      "execution_count": null,
      "outputs": [
        {
          "output_type": "error",
          "ename": "TypeError",
          "evalue": "ignored",
          "traceback": [
            "\u001b[0;31m---------------------------------------------------------------------------\u001b[0m",
            "\u001b[0;31mTypeError\u001b[0m                                 Traceback (most recent call last)",
            "\u001b[0;32m<ipython-input-35-b9b701941361>\u001b[0m in \u001b[0;36m<module>\u001b[0;34m()\u001b[0m\n\u001b[0;32m----> 1\u001b[0;31m \u001b[0mexp_utils\u001b[0m\u001b[0;34m.\u001b[0m\u001b[0mload_corpus\u001b[0m\u001b[0;34m(\u001b[0m\u001b[0mrucoref_test\u001b[0m\u001b[0;34m,\u001b[0m \u001b[0;34m'Tokens.parsed.test.txt'\u001b[0m\u001b[0;34m,\u001b[0m \u001b[0;34m'Groups.test.txt'\u001b[0m\u001b[0;34m)\u001b[0m\u001b[0;34m\u001b[0m\u001b[0;34m\u001b[0m\u001b[0m\n\u001b[0m",
            "\u001b[0;32m/content/rucoref/anaphoralib/experiments/utils.py\u001b[0m in \u001b[0;36mload_corpus\u001b[0;34m(corpus, texts_path, gs_path)\u001b[0m\n\u001b[1;32m    149\u001b[0m     \u001b[0mcorpus\u001b[0m\u001b[0;34m.\u001b[0m\u001b[0mload_texts\u001b[0m\u001b[0;34m(\u001b[0m\u001b[0mtexts_path\u001b[0m\u001b[0;34m)\u001b[0m\u001b[0;34m\u001b[0m\u001b[0;34m\u001b[0m\u001b[0m\n\u001b[1;32m    150\u001b[0m     \u001b[0mcorpus\u001b[0m\u001b[0;34m.\u001b[0m\u001b[0mload_gs\u001b[0m\u001b[0;34m(\u001b[0m\u001b[0mgs_path\u001b[0m\u001b[0;34m)\u001b[0m\u001b[0;34m\u001b[0m\u001b[0;34m\u001b[0m\u001b[0m\n\u001b[0;32m--> 151\u001b[0;31m     \u001b[0mcorpus\u001b[0m\u001b[0;34m.\u001b[0m\u001b[0mfind_groups\u001b[0m\u001b[0;34m(\u001b[0m\u001b[0;34m)\u001b[0m\u001b[0;34m\u001b[0m\u001b[0;34m\u001b[0m\u001b[0m\n\u001b[0m\u001b[1;32m    152\u001b[0m     \u001b[0mcorpus\u001b[0m\u001b[0;34m.\u001b[0m\u001b[0mcreate_indices\u001b[0m\u001b[0;34m(\u001b[0m\u001b[0;34m)\u001b[0m\u001b[0;34m\u001b[0m\u001b[0;34m\u001b[0m\u001b[0m\n\u001b[1;32m    153\u001b[0m \u001b[0;34m\u001b[0m\u001b[0m\n",
            "\u001b[0;32m/content/rucoref/anaphoralib/corpora/base.py\u001b[0m in \u001b[0;36mfind_groups\u001b[0;34m(self, use_parses)\u001b[0m\n\u001b[1;32m     62\u001b[0m             \u001b[0mparses\u001b[0m \u001b[0;34m=\u001b[0m \u001b[0mself\u001b[0m\u001b[0;34m.\u001b[0m\u001b[0mparses\u001b[0m \u001b[0;32mif\u001b[0m \u001b[0mself\u001b[0m\u001b[0;34m.\u001b[0m\u001b[0mparses\u001b[0m \u001b[0;32mand\u001b[0m \u001b[0muse_parses\u001b[0m \u001b[0;32melse\u001b[0m \u001b[0;32mFalse\u001b[0m\u001b[0;34m\u001b[0m\u001b[0;34m\u001b[0m\u001b[0m\n\u001b[1;32m     63\u001b[0m             self.groups = [utils.find_groups(text,\n\u001b[0;32m---> 64\u001b[0;31m                                              self.tagset, parses) for i, text in enumerate(self.texts)]\n\u001b[0m\u001b[1;32m     65\u001b[0m             \u001b[0mself\u001b[0m\u001b[0;34m.\u001b[0m\u001b[0mmentions\u001b[0m \u001b[0;34m=\u001b[0m \u001b[0;34m[\u001b[0m\u001b[0mutils\u001b[0m\u001b[0;34m.\u001b[0m\u001b[0mfind_mentions\u001b[0m\u001b[0;34m(\u001b[0m\u001b[0mtext\u001b[0m\u001b[0;34m,\u001b[0m \u001b[0mself\u001b[0m\u001b[0;34m.\u001b[0m\u001b[0mtagset\u001b[0m\u001b[0;34m)\u001b[0m \u001b[0;32mfor\u001b[0m \u001b[0mtext\u001b[0m \u001b[0;32min\u001b[0m \u001b[0mself\u001b[0m\u001b[0;34m.\u001b[0m\u001b[0mtexts\u001b[0m\u001b[0;34m]\u001b[0m\u001b[0;34m\u001b[0m\u001b[0;34m\u001b[0m\u001b[0m\n\u001b[1;32m     66\u001b[0m             \u001b[0mself\u001b[0m\u001b[0;34m.\u001b[0m\u001b[0mgroups_loaded_\u001b[0m \u001b[0;34m=\u001b[0m \u001b[0;32mTrue\u001b[0m\u001b[0;34m\u001b[0m\u001b[0;34m\u001b[0m\u001b[0m\n",
            "\u001b[0;32m/content/rucoref/anaphoralib/corpora/base.py\u001b[0m in \u001b[0;36m<listcomp>\u001b[0;34m(.0)\u001b[0m\n\u001b[1;32m     62\u001b[0m             \u001b[0mparses\u001b[0m \u001b[0;34m=\u001b[0m \u001b[0mself\u001b[0m\u001b[0;34m.\u001b[0m\u001b[0mparses\u001b[0m \u001b[0;32mif\u001b[0m \u001b[0mself\u001b[0m\u001b[0;34m.\u001b[0m\u001b[0mparses\u001b[0m \u001b[0;32mand\u001b[0m \u001b[0muse_parses\u001b[0m \u001b[0;32melse\u001b[0m \u001b[0;32mFalse\u001b[0m\u001b[0;34m\u001b[0m\u001b[0;34m\u001b[0m\u001b[0m\n\u001b[1;32m     63\u001b[0m             self.groups = [utils.find_groups(text,\n\u001b[0;32m---> 64\u001b[0;31m                                              self.tagset, parses) for i, text in enumerate(self.texts)]\n\u001b[0m\u001b[1;32m     65\u001b[0m             \u001b[0mself\u001b[0m\u001b[0;34m.\u001b[0m\u001b[0mmentions\u001b[0m \u001b[0;34m=\u001b[0m \u001b[0;34m[\u001b[0m\u001b[0mutils\u001b[0m\u001b[0;34m.\u001b[0m\u001b[0mfind_mentions\u001b[0m\u001b[0;34m(\u001b[0m\u001b[0mtext\u001b[0m\u001b[0;34m,\u001b[0m \u001b[0mself\u001b[0m\u001b[0;34m.\u001b[0m\u001b[0mtagset\u001b[0m\u001b[0;34m)\u001b[0m \u001b[0;32mfor\u001b[0m \u001b[0mtext\u001b[0m \u001b[0;32min\u001b[0m \u001b[0mself\u001b[0m\u001b[0;34m.\u001b[0m\u001b[0mtexts\u001b[0m\u001b[0;34m]\u001b[0m\u001b[0;34m\u001b[0m\u001b[0;34m\u001b[0m\u001b[0m\n\u001b[1;32m     66\u001b[0m             \u001b[0mself\u001b[0m\u001b[0;34m.\u001b[0m\u001b[0mgroups_loaded_\u001b[0m \u001b[0;34m=\u001b[0m \u001b[0;32mTrue\u001b[0m\u001b[0;34m\u001b[0m\u001b[0;34m\u001b[0m\u001b[0m\n",
            "\u001b[0;32m/content/rucoref/anaphoralib/utils.py\u001b[0m in \u001b[0;36mfind_groups\u001b[0;34m(text, tagset, parses)\u001b[0m\n\u001b[1;32m    149\u001b[0m \u001b[0;32mdef\u001b[0m \u001b[0mfind_groups\u001b[0m\u001b[0;34m(\u001b[0m\u001b[0mtext\u001b[0m\u001b[0;34m,\u001b[0m \u001b[0mtagset\u001b[0m\u001b[0;34m,\u001b[0m \u001b[0mparses\u001b[0m\u001b[0;34m=\u001b[0m\u001b[0;32mNone\u001b[0m\u001b[0;34m)\u001b[0m\u001b[0;34m:\u001b[0m\u001b[0;34m\u001b[0m\u001b[0;34m\u001b[0m\u001b[0m\n\u001b[1;32m    150\u001b[0m     \u001b[0;32mif\u001b[0m \u001b[0mparses\u001b[0m\u001b[0;34m:\u001b[0m\u001b[0;34m\u001b[0m\u001b[0;34m\u001b[0m\u001b[0m\n\u001b[0;32m--> 151\u001b[0;31m         \u001b[0;32mreturn\u001b[0m \u001b[0mfind_groups_syntax\u001b[0m\u001b[0;34m(\u001b[0m\u001b[0mtext\u001b[0m\u001b[0;34m,\u001b[0m \u001b[0mtagset\u001b[0m\u001b[0;34m,\u001b[0m \u001b[0mparses\u001b[0m\u001b[0;34m)\u001b[0m\u001b[0;34m\u001b[0m\u001b[0;34m\u001b[0m\u001b[0m\n\u001b[0m\u001b[1;32m    152\u001b[0m \u001b[0;34m\u001b[0m\u001b[0m\n\u001b[1;32m    153\u001b[0m     \u001b[0mgroups\u001b[0m \u001b[0;34m=\u001b[0m \u001b[0mtext\u001b[0m\u001b[0;34m[\u001b[0m\u001b[0;34m:\u001b[0m\u001b[0;34m]\u001b[0m\u001b[0;34m\u001b[0m\u001b[0;34m\u001b[0m\u001b[0m\n",
            "\u001b[0;32m/content/rucoref/anaphoralib/utils.py\u001b[0m in \u001b[0;36mfind_groups_syntax\u001b[0;34m(text, tagset, parses)\u001b[0m\n\u001b[1;32m    125\u001b[0m         \u001b[0;32mreturn\u001b[0m \u001b[0mdependencies\u001b[0m\u001b[0;34m\u001b[0m\u001b[0;34m\u001b[0m\u001b[0m\n\u001b[1;32m    126\u001b[0m \u001b[0;34m\u001b[0m\u001b[0m\n\u001b[0;32m--> 127\u001b[0;31m     \u001b[0mdep_ind\u001b[0m \u001b[0;34m=\u001b[0m \u001b[0mbuild_dependency_index\u001b[0m\u001b[0;34m(\u001b[0m\u001b[0;34m)\u001b[0m\u001b[0;34m\u001b[0m\u001b[0;34m\u001b[0m\u001b[0m\n\u001b[0m\u001b[1;32m    128\u001b[0m     \u001b[0;32mfor\u001b[0m \u001b[0mi\u001b[0m\u001b[0;34m,\u001b[0m \u001b[0mword\u001b[0m \u001b[0;32min\u001b[0m \u001b[0menumerate\u001b[0m\u001b[0;34m(\u001b[0m\u001b[0mtext\u001b[0m\u001b[0;34m)\u001b[0m\u001b[0;34m:\u001b[0m\u001b[0;34m\u001b[0m\u001b[0;34m\u001b[0m\u001b[0m\n\u001b[1;32m    129\u001b[0m         \u001b[0;32mif\u001b[0m \u001b[0mtagset\u001b[0m\u001b[0;34m.\u001b[0m\u001b[0mis_np_head\u001b[0m\u001b[0;34m(\u001b[0m\u001b[0mword\u001b[0m\u001b[0;34m)\u001b[0m\u001b[0;34m:\u001b[0m\u001b[0;34m\u001b[0m\u001b[0;34m\u001b[0m\u001b[0m\n",
            "\u001b[0;32m/content/rucoref/anaphoralib/utils.py\u001b[0m in \u001b[0;36mbuild_dependency_index\u001b[0;34m()\u001b[0m\n\u001b[1;32m    118\u001b[0m         \u001b[0mdependencies\u001b[0m \u001b[0;34m=\u001b[0m \u001b[0mcollections\u001b[0m\u001b[0;34m.\u001b[0m\u001b[0mdefaultdict\u001b[0m\u001b[0;34m(\u001b[0m\u001b[0mset\u001b[0m\u001b[0;34m)\u001b[0m\u001b[0;34m\u001b[0m\u001b[0;34m\u001b[0m\u001b[0m\n\u001b[1;32m    119\u001b[0m         \u001b[0;32mfor\u001b[0m \u001b[0mw2_ind\u001b[0m\u001b[0;34m,\u001b[0m \u001b[0mword2\u001b[0m \u001b[0;32min\u001b[0m \u001b[0menumerate\u001b[0m\u001b[0;34m(\u001b[0m\u001b[0mtext\u001b[0m\u001b[0;34m)\u001b[0m\u001b[0;34m:\u001b[0m\u001b[0;34m\u001b[0m\u001b[0;34m\u001b[0m\u001b[0m\n\u001b[0;32m--> 120\u001b[0;31m             \u001b[0mw1_ind\u001b[0m \u001b[0;34m=\u001b[0m \u001b[0mparses\u001b[0m\u001b[0;34m[\u001b[0m\u001b[0mw2_ind\u001b[0m\u001b[0;34m]\u001b[0m\u001b[0;34m[\u001b[0m\u001b[0;36m0\u001b[0m\u001b[0;34m]\u001b[0m \u001b[0;34m-\u001b[0m \u001b[0;36m1\u001b[0m\u001b[0;34m\u001b[0m\u001b[0;34m\u001b[0m\u001b[0m\n\u001b[0m\u001b[1;32m    121\u001b[0m             \u001b[0mrel\u001b[0m \u001b[0;34m=\u001b[0m \u001b[0mparses\u001b[0m\u001b[0;34m[\u001b[0m\u001b[0mw2_ind\u001b[0m\u001b[0;34m]\u001b[0m\u001b[0;34m[\u001b[0m\u001b[0;36m1\u001b[0m\u001b[0;34m]\u001b[0m\u001b[0;34m\u001b[0m\u001b[0;34m\u001b[0m\u001b[0m\n\u001b[1;32m    122\u001b[0m \u001b[0;34m\u001b[0m\u001b[0m\n",
            "\u001b[0;31mTypeError\u001b[0m: unsupported operand type(s) for -: 'tuple' and 'int'"
          ]
        }
      ]
    },
    {
      "cell_type": "code",
      "metadata": {
        "id": "qNyklyXyAOeS"
      },
      "source": [
        "group_ok = lambda g: g.tag.startswith('N') or (g.tag.startswith('P') and g.lemma[0] in multeast.coref_pronouns)"
      ],
      "execution_count": null,
      "outputs": []
    },
    {
      "cell_type": "code",
      "metadata": {
        "id": "zKKAjCFsAOeT",
        "colab": {
          "base_uri": "https://localhost:8080/",
          "height": 370
        },
        "outputId": "f37e327c-fa63-4cef-f5b6-2b26320b76e4"
      },
      "source": [
        "gs_mentions, gs_group_ids = coref_utils.get_gs_groups(rucoref_test)\n",
        "gs_groups = gs_mentions\n",
        "\n",
        "pred_mentions, pred_group_ids = coref_utils.get_pred_groups(rucoref_test, group_ok)\n",
        "pred_groups = rucoref_test.groups\n",
        "\n",
        "pred_mentions_gold_bound, pred_gold_bounds_ids = coref_utils.get_pred_groups_gold_boundaries(rucoref_test, group_ok)\n",
        "pred_groups_gold_bound = rucoref_test.groups"
      ],
      "execution_count": null,
      "outputs": [
        {
          "output_type": "error",
          "ename": "IndexError",
          "evalue": "ignored",
          "traceback": [
            "\u001b[0;31m---------------------------------------------------------------------------\u001b[0m",
            "\u001b[0;31mIndexError\u001b[0m                                Traceback (most recent call last)",
            "\u001b[0;32m<ipython-input-37-f06d291f67cd>\u001b[0m in \u001b[0;36m<module>\u001b[0;34m()\u001b[0m\n\u001b[0;32m----> 1\u001b[0;31m \u001b[0mgs_mentions\u001b[0m\u001b[0;34m,\u001b[0m \u001b[0mgs_group_ids\u001b[0m \u001b[0;34m=\u001b[0m \u001b[0mcoref_utils\u001b[0m\u001b[0;34m.\u001b[0m\u001b[0mget_gs_groups\u001b[0m\u001b[0;34m(\u001b[0m\u001b[0mrucoref_test\u001b[0m\u001b[0;34m)\u001b[0m\u001b[0;34m\u001b[0m\u001b[0;34m\u001b[0m\u001b[0m\n\u001b[0m\u001b[1;32m      2\u001b[0m \u001b[0mgs_groups\u001b[0m \u001b[0;34m=\u001b[0m \u001b[0mgs_mentions\u001b[0m\u001b[0;34m\u001b[0m\u001b[0;34m\u001b[0m\u001b[0m\n\u001b[1;32m      3\u001b[0m \u001b[0;34m\u001b[0m\u001b[0m\n\u001b[1;32m      4\u001b[0m \u001b[0mpred_mentions\u001b[0m\u001b[0;34m,\u001b[0m \u001b[0mpred_group_ids\u001b[0m \u001b[0;34m=\u001b[0m \u001b[0mcoref_utils\u001b[0m\u001b[0;34m.\u001b[0m\u001b[0mget_pred_groups\u001b[0m\u001b[0;34m(\u001b[0m\u001b[0mrucoref_test\u001b[0m\u001b[0;34m,\u001b[0m \u001b[0mgroup_ok\u001b[0m\u001b[0;34m)\u001b[0m\u001b[0;34m\u001b[0m\u001b[0;34m\u001b[0m\u001b[0m\n\u001b[1;32m      5\u001b[0m \u001b[0mpred_groups\u001b[0m \u001b[0;34m=\u001b[0m \u001b[0mrucoref_test\u001b[0m\u001b[0;34m.\u001b[0m\u001b[0mgroups\u001b[0m\u001b[0;34m\u001b[0m\u001b[0;34m\u001b[0m\u001b[0m\n",
            "\u001b[0;32m/content/rucoref/anaphoralib/experiments/coref_utils.py\u001b[0m in \u001b[0;36mget_gs_groups\u001b[0;34m(corpus)\u001b[0m\n\u001b[1;32m     81\u001b[0m                                               len(corpus.gs[i]['groups'][g]['tokens_shifts']))):\n\u001b[1;32m     82\u001b[0m             \u001b[0mgroup\u001b[0m \u001b[0;34m=\u001b[0m \u001b[0mcorpus\u001b[0m\u001b[0;34m.\u001b[0m\u001b[0mgs\u001b[0m\u001b[0;34m[\u001b[0m\u001b[0mi\u001b[0m\u001b[0;34m]\u001b[0m\u001b[0;34m[\u001b[0m\u001b[0;34m'groups'\u001b[0m\u001b[0;34m]\u001b[0m\u001b[0;34m[\u001b[0m\u001b[0mgroup_id\u001b[0m\u001b[0;34m]\u001b[0m\u001b[0;34m\u001b[0m\u001b[0;34m\u001b[0m\u001b[0m\n\u001b[0;32m---> 83\u001b[0;31m             \u001b[0mwords\u001b[0m \u001b[0;34m=\u001b[0m \u001b[0;34m[\u001b[0m\u001b[0mtext\u001b[0m\u001b[0;34m[\u001b[0m\u001b[0mcorpus\u001b[0m\u001b[0;34m.\u001b[0m\u001b[0mwords_index\u001b[0m\u001b[0;34m[\u001b[0m\u001b[0mi\u001b[0m\u001b[0;34m]\u001b[0m\u001b[0;34m[\u001b[0m\u001b[0mshift\u001b[0m\u001b[0;34m]\u001b[0m\u001b[0;34m]\u001b[0m \u001b[0;32mfor\u001b[0m \u001b[0mshift\u001b[0m \u001b[0;32min\u001b[0m \u001b[0mgroup\u001b[0m\u001b[0;34m[\u001b[0m\u001b[0;34m'tokens_shifts'\u001b[0m\u001b[0;34m]\u001b[0m\u001b[0;34m]\u001b[0m\u001b[0;34m\u001b[0m\u001b[0;34m\u001b[0m\u001b[0m\n\u001b[0m\u001b[1;32m     84\u001b[0m             \u001b[0mhead\u001b[0m \u001b[0;34m=\u001b[0m \u001b[0mtext\u001b[0m\u001b[0;34m[\u001b[0m\u001b[0mcorpus\u001b[0m\u001b[0;34m.\u001b[0m\u001b[0mwords_index\u001b[0m\u001b[0;34m[\u001b[0m\u001b[0mi\u001b[0m\u001b[0;34m]\u001b[0m\u001b[0;34m[\u001b[0m\u001b[0mgroup\u001b[0m\u001b[0;34m[\u001b[0m\u001b[0;34m'head_shift'\u001b[0m\u001b[0;34m]\u001b[0m\u001b[0;34m[\u001b[0m\u001b[0;36m0\u001b[0m\u001b[0;34m]\u001b[0m\u001b[0;34m]\u001b[0m\u001b[0;34m]\u001b[0m\u001b[0;34m\u001b[0m\u001b[0;34m\u001b[0m\u001b[0m\n\u001b[1;32m     85\u001b[0m \u001b[0;34m\u001b[0m\u001b[0m\n",
            "\u001b[0;32m/content/rucoref/anaphoralib/experiments/coref_utils.py\u001b[0m in \u001b[0;36m<listcomp>\u001b[0;34m(.0)\u001b[0m\n\u001b[1;32m     81\u001b[0m                                               len(corpus.gs[i]['groups'][g]['tokens_shifts']))):\n\u001b[1;32m     82\u001b[0m             \u001b[0mgroup\u001b[0m \u001b[0;34m=\u001b[0m \u001b[0mcorpus\u001b[0m\u001b[0;34m.\u001b[0m\u001b[0mgs\u001b[0m\u001b[0;34m[\u001b[0m\u001b[0mi\u001b[0m\u001b[0;34m]\u001b[0m\u001b[0;34m[\u001b[0m\u001b[0;34m'groups'\u001b[0m\u001b[0;34m]\u001b[0m\u001b[0;34m[\u001b[0m\u001b[0mgroup_id\u001b[0m\u001b[0;34m]\u001b[0m\u001b[0;34m\u001b[0m\u001b[0;34m\u001b[0m\u001b[0m\n\u001b[0;32m---> 83\u001b[0;31m             \u001b[0mwords\u001b[0m \u001b[0;34m=\u001b[0m \u001b[0;34m[\u001b[0m\u001b[0mtext\u001b[0m\u001b[0;34m[\u001b[0m\u001b[0mcorpus\u001b[0m\u001b[0;34m.\u001b[0m\u001b[0mwords_index\u001b[0m\u001b[0;34m[\u001b[0m\u001b[0mi\u001b[0m\u001b[0;34m]\u001b[0m\u001b[0;34m[\u001b[0m\u001b[0mshift\u001b[0m\u001b[0;34m]\u001b[0m\u001b[0;34m]\u001b[0m \u001b[0;32mfor\u001b[0m \u001b[0mshift\u001b[0m \u001b[0;32min\u001b[0m \u001b[0mgroup\u001b[0m\u001b[0;34m[\u001b[0m\u001b[0;34m'tokens_shifts'\u001b[0m\u001b[0;34m]\u001b[0m\u001b[0;34m]\u001b[0m\u001b[0;34m\u001b[0m\u001b[0;34m\u001b[0m\u001b[0m\n\u001b[0m\u001b[1;32m     84\u001b[0m             \u001b[0mhead\u001b[0m \u001b[0;34m=\u001b[0m \u001b[0mtext\u001b[0m\u001b[0;34m[\u001b[0m\u001b[0mcorpus\u001b[0m\u001b[0;34m.\u001b[0m\u001b[0mwords_index\u001b[0m\u001b[0;34m[\u001b[0m\u001b[0mi\u001b[0m\u001b[0;34m]\u001b[0m\u001b[0;34m[\u001b[0m\u001b[0mgroup\u001b[0m\u001b[0;34m[\u001b[0m\u001b[0;34m'head_shift'\u001b[0m\u001b[0;34m]\u001b[0m\u001b[0;34m[\u001b[0m\u001b[0;36m0\u001b[0m\u001b[0;34m]\u001b[0m\u001b[0;34m]\u001b[0m\u001b[0;34m]\u001b[0m\u001b[0;34m\u001b[0m\u001b[0;34m\u001b[0m\u001b[0m\n\u001b[1;32m     85\u001b[0m \u001b[0;34m\u001b[0m\u001b[0m\n",
            "\u001b[0;31mIndexError\u001b[0m: list index out of range"
          ]
        }
      ]
    },
    {
      "cell_type": "code",
      "metadata": {
        "id": "a4Cgz-NzAOeT"
      },
      "source": [
        "gs_mentions_train, gs_group_ids_train = coref_utils.get_gs_groups(rucoref_train)\n",
        "gs_groups_train = gs_mentions_train\n",
        "\n",
        "pred_mentions_train, pred_group_ids_train = coref_utils.get_pred_groups(rucoref_train, group_ok)\n",
        "pred_groups_train = rucoref_train.groups\n",
        "\n",
        "pred_mentions_gold_bound_train, pred_gold_bounds_ids = coref_utils.get_pred_groups_gold_boundaries(rucoref_train, group_ok)\n",
        "pred_groups_gold_bound_train = rucoref_train.groups"
      ],
      "execution_count": null,
      "outputs": []
    },
    {
      "cell_type": "code",
      "metadata": {
        "id": "EUVhdcczAOeT"
      },
      "source": [
        "class MLMentionPairClassifier(mentionpair.MentionPairClassifier):\n",
        "    NEEDS_TRAINING = True\n",
        "    def __init__(self, scorer_path=None):\n",
        "        self.scorer_path = scorer_path\n",
        "    \n",
        "    def train(self, clf, corpus, mentions):\n",
        "        self.data_x = []\n",
        "        self.data_y = []\n",
        "        self.appositives = []\n",
        "        \n",
        "        self.tagset = corpus.tagset\n",
        "        \n",
        "        for i, text in enumerate(corpus.texts):\n",
        "            all_mentions = utils.find_mentions(corpus.groups[i], corpus.tagset)\n",
        "            gs = corpus.gs[i]\n",
        "            words_index = corpus.words_index[i]\n",
        "\n",
        "            \n",
        "            for chain_id in gs['chains']:\n",
        "                chain = gs['chains'][chain_id]\n",
        "                for pair in ((chain[i], chain[i+1]) for i in range(len(chain)-1)):\n",
        "                    text_groups = []\n",
        "                    for pair_elem in pair:\n",
        "                        gs_group = gs['groups'][pair_elem]\n",
        "                        \n",
        "                        words = [text[words_index[shift]] for shift in gs_group['tokens_shifts']]\n",
        "                        head = text[words_index[gs_group['head_shift'][0]]]\n",
        "                        text_groups.append(coref_utils.create_gs_group(gs_group, words, head))\n",
        "                    \n",
        "                    self.data_x.append(self.get_feature_vector(corpus.texts[i], *text_groups))\n",
        "                    self.data_y.append(True)\n",
        "                    \n",
        "                    neg_first = None\n",
        "                    neg_last = None\n",
        "\n",
        "                    for i_mention, mention in enumerate(all_mentions):\n",
        "                        if mention.offset == text_groups[0].offset:\n",
        "                            neg_first = i_mention\n",
        "                        if mention.offset == text_groups[1].offset:\n",
        "                            neg_last = i_mention\n",
        "                        if neg_first and neg_last:\n",
        "                            break\n",
        "                    \n",
        "                    if not neg_first or not neg_last:\n",
        "                        continue\n",
        "                        \n",
        "                    neg_text_groups = all_mentions[neg_first+1:neg_last]\n",
        "                    for neg_pair in ((neg_text_groups[i], neg_text_groups[i+1]) for i in range(len(neg_text_groups)-1)):\n",
        "                        self.data_x.append(self.get_feature_vector(corpus.texts[i], *neg_pair))\n",
        "                        self.data_y.append(False)\n",
        "        \n",
        "        self.clf = clf\n",
        "        self.clf.fit(self.data_x, self.data_y)\n",
        "    \n",
        "    def pair_coreferent(self, pair, groups, words, parse):\n",
        "        vctr = self.get_feature_vector(words, *pair)\n",
        "        return self.clf.predict([vctr])[0]\n",
        "    \n",
        "    def get_feature_vector(self, words, group_1, group_2):\n",
        "        # group_1 — possible antecedent\n",
        "        # group_2 — anaphor\n",
        "        \n",
        "        head_1 = group_1.words[group_1.head] if group_1.type != 'word' else group_1\n",
        "        head_2 = group_2.words[group_2.head] if group_2.type != 'word' else group_2\n",
        "        \n",
        "        is_appo = False\n",
        "        \n",
        "        if not head_1 in words or not head_2 in words:\n",
        "            n_sentences = -1\n",
        "            print('no alignment found')\n",
        "        else:\n",
        "            i = words.index(head_1)\n",
        "            j = words.index(head_2)\n",
        "            \n",
        "            between_groups = words[i+1:j]\n",
        "            n_sentences = sum(1 for gr in between_groups if gr.tag == 'SENT')\n",
        "            \n",
        "            if j - i == 2 and words[i+1].tag.startswith(',') \\\n",
        "                and same_grammemmes('case', (group_1, group_2), self.tagset) \\\n",
        "                and same_grammemmes('number', (group_1, group_2), self.tagset) \\\n",
        "                and same_grammemmes('gender', (group_1, group_2), self.tagset) \\\n",
        "                and group_1.tag.startswith('N') and group_2.tag.startswith('N'):\n",
        "                is_appo = True\n",
        "                self.appositives.append((group_1, group_2, i, j))\n",
        "        \n",
        "        is_demonstrative = lambda w: [tag.startswith('Pd') or w.lemma[i] in {u'этот', u'тот'} for i, tag in enumerate(w.tags)]\n",
        "        demonstr_1 = is_demonstrative(group_1) if len(group_1.lemma) > 1 else [0]\n",
        "        demonstr_2 = is_demonstrative(group_2) if len(group_2.lemma) > 1 else [0]\n",
        "        \n",
        "        filtered_lemma_1 = ' '.join(lemma for (i, lemma) in enumerate(group_1.lemma) if not demonstr_1[i])\n",
        "        filtered_lemma_2 = ' '.join(lemma for (i, lemma) in enumerate(group_2.lemma) if not demonstr_2[i])\n",
        "        \n",
        "        vctr = []\n",
        "        feat_names = []\n",
        "        \n",
        "        pronoun_1 = self.tagset.pos_filters['pronoun'](group_1) and group_ok(group_1)\n",
        "        pronoun_2 = self.tagset.pos_filters['pronoun'](group_2) and group_ok(group_1)\n",
        "        \n",
        "        vctr.append(pronoun_2 and n_sentences == 1)\n",
        "        feat_names.append('dist==1')\n",
        "        \n",
        "        #vctr.append(pronoun_2 and n_sentences == 0)\n",
        "        #feat_names.append('dist==0')\n",
        "        \n",
        "        vctr.append(not pronoun_1 and not pronoun_2 and filtered_lemma_1 == filtered_lemma_2)\n",
        "        feat_names.append('str_match')\n",
        "        \n",
        "        is_animate_1 = self.tagset.extract_feature('animate', group_1) in ('y', 'a')\n",
        "        is_animate_2 = self.tagset.extract_feature('animate', group_2) in ('y', 'a')\n",
        "        sem_class_agreement = (is_animate_1 and is_animate_2) or (not is_animate_1 and not is_animate_2)\n",
        "        \n",
        "        if not pronoun_1:\n",
        "            sem_class_agreement &= group_1.lemma[group_1.head] == group_2.lemma[group_2.head]\n",
        "        \n",
        "        vctr.append(sem_class_agreement)\n",
        "        feat_names.append('sem_class_agreement')\n",
        "        \n",
        "        vctr.append(pronoun_1)\n",
        "        vctr.append(pronoun_2)\n",
        "        feat_names.extend(('i_pronoun', 'j_pronoun'))\n",
        "        \n",
        "        vctr.append(vctr[-1] and vctr[-2])\n",
        "        feat_names.append('both_pronouns')\n",
        "        \n",
        "        vctr.append(self.tagset.extract_feature('number', group_1) == self.tagset.extract_feature('number', group_2))\n",
        "        vctr.append(self.tagset.extract_feature('gender', group_1) == self.tagset.extract_feature('gender', group_2))\n",
        "        feat_names.extend(('number-agr', 'gender-agr'))\n",
        "        \n",
        "        vctr.append(self.tagset.extract_feature('proper', group_1) == 'p' \n",
        "                    and self.tagset.extract_feature('proper', group_2) == 'p')\n",
        "        feat_names.append('both-proper')\n",
        "        vctr.append(any(demonstr_2[:group_2.head+1]))\n",
        "        feat_names.append('anaphor-is-demonstrative')\n",
        "        \n",
        "        vctr.append(is_appo)\n",
        "        feat_names.append('appositive')\n",
        "        \n",
        "        self.feat_names = feat_names\n",
        "        return vctr"
      ],
      "execution_count": null,
      "outputs": []
    },
    {
      "cell_type": "code",
      "metadata": {
        "id": "mSimFkBGAOeU"
      },
      "source": [
        "from pprint import pprint"
      ],
      "execution_count": null,
      "outputs": []
    },
    {
      "cell_type": "code",
      "metadata": {
        "id": "TiNOoTYUAOeU"
      },
      "source": [
        "clf1 = MLMentionPairClassifier(scorer_path)\n",
        "clf1.train(DecisionTreeClassifier(random_state=42), rucoref_train, gs_mentions_train)\n",
        "scores, _, _ = clf1.score(rucoref_test, gs_mentions, gs_groups, metrics=('muc', 'bcub', 'ceafm'), heads_only=False)\n",
        "pprint(scores)"
      ],
      "execution_count": null,
      "outputs": []
    },
    {
      "cell_type": "code",
      "metadata": {
        "id": "QC_GfcKbAOeU"
      },
      "source": [
        "clf2 = MLMentionPairClassifier(scorer_path)\n",
        "clf2.train(LinearSVC(random_state=42), rucoref_train, gs_mentions_train)\n",
        "scores2, _, _ = clf2.score(rucoref_test, gs_mentions, gs_groups, metrics=('muc', 'bcub', 'ceafm'), heads_only=False)\n",
        "pprint(scores2)"
      ],
      "execution_count": null,
      "outputs": []
    },
    {
      "cell_type": "code",
      "metadata": {
        "id": "incrHPwzAOeV"
      },
      "source": [
        "# Возьмем один текст из тестового набора и попробуем предсказать для всех пар из разметки,\n",
        "# являются ли они кореферентными\n",
        "\n",
        "i = 0\n",
        "corpus = rucoref_test\n",
        "text = corpus.texts[0]\n",
        "all_mentions = utils.find_mentions(corpus.groups[i], corpus.tagset)\n",
        "gs = corpus.gs[i]\n",
        "words_index = corpus.words_index[i]\n",
        "\n",
        "\n",
        "for chain_id in gs['chains']:\n",
        "    chain = gs['chains'][chain_id]\n",
        "    for pair in ((chain[i], chain[i+1]) for i in range(len(chain)-1)):\n",
        "        text_groups = []\n",
        "        for pair_elem in pair:\n",
        "            gs_group = gs['groups'][pair_elem]\n",
        "            \n",
        "            words = [text[words_index[shift]] for shift in gs_group['tokens_shifts']]\n",
        "            head = text[words_index[gs_group['head_shift'][0]]]\n",
        "            text_groups.append(coref_utils.create_gs_group(gs_group, words, head))\n",
        "    v = clf1.get_feature_vector(corpus.texts[i], *text_groups)\n",
        "    if len(text_groups):\n",
        "        for g in text_groups:\n",
        "            print(g)\n",
        "    print(v)\n",
        "    print(clf1.clf.predict([v]))"
      ],
      "execution_count": null,
      "outputs": []
    },
    {
      "cell_type": "markdown",
      "metadata": {
        "id": "S0JsyITIAOeV"
      },
      "source": [
        "## Задание\n",
        "Добавьте к морфосинтаксическим фичам что-нибудь, связанное с онтологиями (можно использовать Викисловарь, можно РуТез). Можно скопировать код `MLMentionPairClassifier` и изменить функцию для вычисления вектора фичей.\n",
        "Оцените качество нового классификатора."
      ]
    },
    {
      "cell_type": "code",
      "metadata": {
        "id": "gJTidniwAOeV"
      },
      "source": [
        ""
      ],
      "execution_count": null,
      "outputs": []
    }
  ]
}