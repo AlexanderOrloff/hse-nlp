{
 "cells": [
  {
   "cell_type": "markdown",
   "metadata": {},
   "source": [
    "## UDPipe\n",
    "\n",
    "[Инструмент](http://ufal.mff.cuni.cz/udpipe) в основе которого лежит код на  С. Он реализует пайплайн морфологического и синтаксического анализа, работает с разметкой Universal Dependencies ( это теория зависимостей, что это?). \n",
    "\n",
    "\n",
    "Есть модели, обученные на корпусах с UD (в том числе для русского).\n",
    "\n",
    "Возьмем (почти) случайную статью из Википедии и распарсим её."
   ]
  },
  {
   "cell_type": "code",
   "execution_count": 1,
   "metadata": {},
   "outputs": [],
   "source": [
    "wiki_text = \"\"\"\n",
    "Мальтийский язык (собств. наименование — malti) — язык мальтийцев, официальный язык Республики Мальта (наряду с английским), один из официальных языков Европейского союза.\n",
    "Относится к семитской семье афразийской (семито-хамитской) макросемьи языков. Язык близок к арабскому, особенно к его магрибскому диалекту, однако в настоящее время считается отдельным языком со своими синтаксическими, фонетическими и лексическими особенностями.\n",
    "\n",
    "Лингвогеография\n",
    "Число говорящих — 372 тыс. чел.\n",
    "\n",
    "Статус мальтийского языка определяется в статье 5 главы I конституции Мальты:\n",
    "\n",
    "Национальным языком Мальты является мальтийский.\n",
    "Мальтийский и английский языки, а также и другой язык, который может быть утверждён Парламентом (по закону, одобренному не менее, чем 2/3 всех членов Палаты представителей), должны быть официальными языками Мальты, и Администрация может использовать во всех своих официальных целях любой из этих языков, при условии, что любое лицо вправе обратиться к Администрации на любом из официальных языков и ответ Администрации данному лицу должен быть дан на том же языке.\n",
    "Языком судопроизводства должен быть мальтийский, при условии, что парламент может издать постановление об использовании английского языка в случаях, и на условиях, определяемых в данном постановлении.\n",
    "Палата представителей может, регулируя свои собственные процессуальные нормы, определить язык или языки, которые должны использоваться в работе парламента и в протоколировании.\n",
    "Большинство населения Мальты двуязычно. Мальтийский язык используется в повседневном общении, в парламенте, в церкви, в СМИ, в Интернете. В разговоре мальтийский часто смешивается с английским.\n",
    "\n",
    "На мальтийский как на официальный язык ЕС должны переводиться все официальные документы ЕС. В Интернете существует мальтийская версия портала Европейского союза.\n",
    "\n",
    "На мальтийском языке также говорят в Австралии, в среде выходцев из Мальты и их потомков. У них сложился свой диалект — Maltraljan (Maltese Australian).\n",
    "\n",
    "История\n",
    "Во время финикийской, позже карфагенской колонизации (800 до н. э. — 218 до н. э.) население мальтийских островов говорило на одном из финикийских (пунических) языков. На финикийском наречии продолжали говорить также в период римского (с 218 до н. э.), а после разделения империи на Западную и Восточную — «восточно-римского» (византийского) владычества (в 395—870 н. э.).\n",
    "\n",
    "В 870 году острова были завоёваны арабами. Арабский язык распространился и среди коренного населения, в частности, благодаря своему родству с финикийским. При этом разговорная речь арабов и, соответственно, местного населения отличалась от классического письменного арабского. В этот период можно говорить о существовании двух диалектов: классический арабский письменный язык и сицилийско-арабский народно-разговорный язык, центром распространения которого стал Сицилийский эмират. После вторжения норманнов сицилийско-арабский язык был постепенно вытеснен с Сицилии, однако он сохранился на небольшом периферийном острове Мальта (хотя и испытал на себе сильное романское влияние). Именно от него и происходит нынешний мальтийский язык.\n",
    "\n",
    "Новый этап начался с норманнским завоеванием Мальты в 1090 году и присоединением её к Сицилии. Язык администрации относился к романским, и в это время произошёл новый языковой семито-романский контакт. Полной романизации населения, как и в римскую эпоху, не произошло, так как арабы продолжительное время оставались на островах и оказывали значительное культурное и языковое влияние, однако уже тогда в язык попали первые романские заимствования. Арабы покинули Мальту через 100—150 лет, и вследствие этого произошло размежевание мальтийского и арабского.\n",
    "\n",
    "Мальта была связана с Сицилией на протяжении 440 лет, переходила вместе с ней от одной феодальной юрисдикции к другой, и в течение этого времени количество романских заимствований увеличивалось. К XV веку относится первый известный литературный текст на мальтийском языке — поэма «Il Cantilena».\n",
    "\n",
    "Наиболее сильное романское воздействие язык получил во время правления на Мальте рыцарского ордена Святого Иоанна — с 1530 по 1798 гг. В это время письменными языками были латынь и итальянский (сицилийский и классический), однако известны отдельные попытки писать и на мальтийском, например поэма Бонамико (Bonamico), 1672. Первая опубликованная книга на мальтийском языке — катехизис Виццино (Wizzino), датируется 1752 годом.\n",
    "\n",
    "В 1800 году Мальта была присоединена к Великобритании. Несмотря на это, в течение XIX века английский язык не занимал той важной позиции на Мальте, которую занимает сегодня, официальным письменным языком оставался итальянский, разговорным — мальтийский.\n",
    "\n",
    "Говоря об истории мальтийского языка, следует отметить деятельность Микиля Антона Вассалли (Mikiel Anton Vassalli, 1764—1829). Он составил словарь мальтийского языка и описание мальтийской грамматики, перевёл на мальтийский часть Нового Завета.\n",
    "\n",
    "В 1921 году Мальте было предоставлено самоуправление, по конституции официальными языками стали итальянский и английский. В 1936 году мальтийский получил статус официального языка, взамен итальянского. Мальтийский и английский остались государственными языками и после провозглашения независимости Мальты в 1964 году.\n",
    "\n",
    "1 мая 2004 года, в связи со вступлением Мальты в ЕС, мальтийский язык стал официальным языком ЕС.\n",
    "\n",
    "Письменность\n",
    "Мальтийский — единственный из семитских языков с письменностью на основе латинского алфавита.\n",
    "В алфавит иногда включают букву c (сортируется после ċ), однако эта буква встречается только в заимствованных словах, в основном итальянского и английского происхождения, напр. camping — «кэмпинг» (с другой стороны, во многих словах c заменяется на k, напр. kompjuter — «компьютер», от англ. computer).\n",
    "\n",
    "Лингвистическая характеристика\n",
    "Просодия\n",
    "Ударение в мальтийском, как правило, падает на предпоследний слог, если иной слог не является долгим.\n",
    "\n",
    "Морфология\n",
    "Грамматика мальтийского языка семитского типа, с романским влиянием. Прилагательные следуют за существительными, отсутствует наречие как самостоятельная форма, порядок слов достаточно гибок. Имеется определённый артикль. Как в арабском и иврите, артикль ставится и перед существительными, и перед прилагательными, напр. L-Art l-Imqaddsa — «Святая земля» (дословный перевод — «Земля Святая»; ср. также араб. الأرض المقدسة‎, ʾAl-ʾArḍ ʾal-Muqaddasa с тем же значением). Однако это правило относится только к семитским словам и не действует при употреблении существительных и прилагательных романского происхождения.\n",
    "\n",
    "Существительные изменяются по числам. У существительных романского происхождения множественное число образуется добавлением -i или -jiet: lingwa («язык», ср. итал. lingua) — lingwi; arti («искусство», ср. итал. arte) — artijiet. С существительными семитского происхождения всё гораздо сложнее. Такие существительные делятся на правильные и неправильные. У правильных существительных множественное число образуется добавлением -iet / -jiet (соответствует -at в арабском и -ot в иврите) или -in (соответствует -im в иврите). У неправильных же существительных множественное число образуется изменением гласных внутри: ktieb («книга») — kotba, raġel («человек») — irġiel. Такая система очень развита в арабском и встречается в иврите.\n",
    "\n",
    "Кроме множественного числа в мальтийском языке также имеется двойственное. Оно образуется с помощью суффикса -ejn или -ajn и употребляется при указании двух или парных предметов, напр. jum («день») — jumejn («два дня»), id («рука») — idejn («обе руки»).\n",
    "\n",
    "В глаголах можно выделить семитский корень, состоящий из трёх согласных. Глагол спрягается добавлением к этому корню внутренних гласных, а также суффиксов и приставок. Пример: ktb — корень, означающий «писать», ktibna — «мы написали» (ср. араб. katabna, иврит. katavnu с теми же значениями). Существуют два времени: настоящее и прошедшее (перфект). Для выражения будущего используются формы настоящего времени с добавлением частиц или вспомогательных глаголов.\n",
    "\n",
    "Особенностью мальтийской глагольной системы является то, что к романским по происхождению глаголам добавляются арабские суффиксы и приставки, напр. iddeċidejna — «мы решили», где (i)ddeċieda — глагол (ср. итал. decidere), -ejna — арабский элемент, образующий форму 1-го лица множественного числа прошедшего времени. В литературном арабском и иврите такое происходит крайне редко, однако подобные формы встречаются в некоторых арабских диалектах.\n",
    "\n",
    "Лексика\n",
    "Наряду с исконным слоем семитской лексики большую роль играют романские (в основном сицилийско-итальянские, реже тосканско-итальянские) заимствования.\n",
    "\n",
    "В базовой лексике преобладают слова арабского происхождения, а для обозначения новых идей и предметов, в качестве терминов, относящихся к государственной деятельности, юриспруденции, образованию, искусству, литературе широко используются итальянизмы. Такие слова, как raġel («человек»), mara («женщина»), tifel («ребёнок»), dar («дом»), xemx («солнце»), sajf («лето») по происхождению арабские, а skola («школа»), gvern («правительство»), repubblika («республика»), re («король»), natura («природа»), pulizija («полиция»), ċentru («центр»), teatru («театр»), differenza («разница») — романские.\n",
    "\n",
    "Итальянские по происхождению слова обычно отражают сицилийское произношение, в то время как литературный итальянский язык происходит из тосканского диалекта. Так, конечному -o в тосканском диалекте итальянского соответствует -u в мальтийском языке, как и в сицилийском диалекте, например, teatru, а не teatro. Также тосканскому -e соответствует -i, напр. arti — «искусство», fidi — «вера», lokali — «местный житель» (ср. литературные итальянские arte, fede, locale). Как и в некоторых романских языках, звук «ш» передается буквой x, в отличие от итальянского, где для этой цели используется диграф sc: ambaxxata — «посольство» (ср. итал. ambasciata), xena — «сцена» (ср. итал. scena).\n",
    "\n",
    "Обычным делом в современном мальтийском языке является заимствование слов из английского, например, strajk — «забастовка» (от англ. strike), televixin — «телевидение» (от англ. television), tim — «команда» (от англ. team). Некоторые слова сохраняют английское написание, например, union — «союз», «объединение», leave — «отпуск», bonus — «премия».\"\"\""
   ]
  },
  {
   "cell_type": "code",
   "execution_count": 2,
   "metadata": {},
   "outputs": [],
   "source": [
    "with open('wiki_text.txt', 'w', encoding ='UTF-8') as f:\n",
    "    f.write(wiki_text)"
   ]
  },
  {
   "cell_type": "markdown",
   "metadata": {},
   "source": [
    "**Стандартный запуск UDPipe** — последовательное применение анализаторов (токенизация, морфология, синтаксис).\n",
    "Что тут можно менять: \n",
    "* формат входа\n",
    "* формат вывода\n",
    "* настройки анализаторов"
   ]
  },
  {
   "cell_type": "markdown",
   "metadata": {},
   "source": [
    "На самом деле, у UDPipe есть обертка для питона, но она не очень удобная, поэтому сначала записываем в файл, а потом распарсим в питонячьи структуры."
   ]
  },
  {
   "cell_type": "markdown",
   "metadata": {},
   "source": [
    "Первый Файлик, адрес которого надо написать берётся [отсюда](https://github.com/ufal/udpipe/releases/download/v1.2.0/udpipe-1.2.0-bin.zip)\n",
    "\n",
    "Второй  [отсюда](https://vk.com/away.php?to=https%3A%2F%2Flindat.mff.cuni.cz%2Frepository%2Fxmlui%2Fbitstream%2Fhandle%2F11234%2F1-2998%2Frussian-syntagrus-ud-2.4-190531.udpipe%3Fsequence%3D74%26isAllowed%3Dy&cc_key=)"
   ]
  },
  {
   "cell_type": "markdown",
   "metadata": {},
   "source": [
    "    Вместо моих путей - вставьте туда свои. \n",
    "    \n",
    "    Для этого разархивируйте первый файл и скопируйте путь до ПАПКИ с вашей системой (в моем случае до bin-win64) внутрь квадратных скобок, после чего просто удалите скобки\n",
    "     Ко второму файлу просто пропишите полный адрес внутрь квадратных скобок и удалите скобки"
   ]
  },
  {
   "cell_type": "markdown",
   "metadata": {},
   "source": [
    "Ниже есть пример"
   ]
  },
  {
   "cell_type": "code",
   "execution_count": 3,
   "metadata": {},
   "outputs": [
    {
     "name": "stderr",
     "output_type": "stream",
     "text": [
      "‘ЁбвҐ¬Ґ ­Ґ г¤ Ґвбп ­ ©вЁ гЄ § ­­л© Їгвм.\n"
     ]
    }
   ],
   "source": [
    "![Полный_путь_до_вашего_бинарника]\\udpipe --input horizontal --output conllu \\\n",
    "--tokenize --tag --parse \\\n",
    "[Полный_путь_до_модели_russian-syntagrus] \\\n",
    "< wiki_text.txt > wiki_text.conllu"
   ]
  },
  {
   "cell_type": "code",
   "execution_count": 4,
   "metadata": {},
   "outputs": [
    {
     "name": "stderr",
     "output_type": "stream",
     "text": [
      "Loading UDPipe model: done.\n"
     ]
    }
   ],
   "source": [
    "!C:\\Users\\avorl\\Downloads\\udpipe-1.2.0-bin\\udpipe-1.2.0-bin\\bin-win64\\udpipe --input horizontal --output conllu \\\n",
    "--tokenize --tag --parse \\\n",
    "C:\\Users\\avorl\\Downloads\\russian-syntagrus-ud-2.4-190531.udpipe \\\n",
    "< wiki_text.txt > wiki_text.conllu"
   ]
  },
  {
   "cell_type": "markdown",
   "metadata": {},
   "source": [
    "Нам капнул файлик с текстом .conllu. Давайте его посмотрим, а потом поймём как подсосать это в питоне"
   ]
  },
  {
   "cell_type": "code",
   "execution_count": 6,
   "metadata": {},
   "outputs": [],
   "source": [
    "from nltk.parse import DependencyGraph"
   ]
  },
  {
   "cell_type": "code",
   "execution_count": 7,
   "metadata": {},
   "outputs": [],
   "source": [
    "trees = []\n",
    "\n",
    "with open('wiki_text.conllu', 'r', encoding = 'utf-8') as f:\n",
    "    parsed_sents = f.read().split('\\n\\n')\n",
    "\n",
    "    for sent in parsed_sents:\n",
    "        tree = [line for line in sent.split('\\n') if line and line[0] != '#']\n",
    "        trees.append('\\n'.join(tree))"
   ]
  },
  {
   "cell_type": "markdown",
   "metadata": {},
   "source": [
    "Давайте посмотрим на разметку"
   ]
  },
  {
   "cell_type": "code",
   "execution_count": 8,
   "metadata": {},
   "outputs": [
    {
     "name": "stdout",
     "output_type": "stream",
     "text": [
      "1\tНациональным\tнациональный\tADJ\t_\tCase=Ins|Degree=Pos|Gender=Masc|Number=Sing\t2\tamod\t_\t_\n",
      "2\tязыком\tязык\tNOUN\t_\tAnimacy=Inan|Case=Ins|Gender=Masc|Number=Sing\t4\tobl\t_\t_\n",
      "3\tМальты\tМальта\tPROPN\t_\tAnimacy=Inan|Case=Gen|Gender=Fem|Number=Sing\t2\tnmod\t_\t_\n",
      "4\tявляется\tявляться\tVERB\t_\tAspect=Imp|Mood=Ind|Number=Sing|Person=3|Tense=Pres|VerbForm=Fin|Voice=Mid\t0\troot\t_\t_\n",
      "5\tмальтийский\tмальтийский\tADJ\t_\tCase=Nom|Degree=Pos|Gender=Masc|Number=Sing\t4\tnsubj\t_\tSpaceAfter=No\n",
      "6\t.\t.\tPUNCT\t_\t_\t4\tpunct\t_\tSpacesAfter=\\r\\n\n"
     ]
    }
   ],
   "source": [
    "print(trees[5])"
   ]
  },
  {
   "cell_type": "code",
   "execution_count": 9,
   "metadata": {},
   "outputs": [
    {
     "name": "stdout",
     "output_type": "stream",
     "text": [
      "1\tМальтийский\tМальтийский\tADJ\t_\tCase=Nom|Degree=Pos|Gender=Masc|Number=Sing\t4\tamod\t_\t_\n",
      "2\tи\tи\tCCONJ\t_\t_\t3\tcc\t_\t_\n",
      "3\tанглийский\tанглийский\tADJ\t_\tCase=Nom|Degree=Pos|Gender=Masc|Number=Sing\t1\tconj\t_\t_\n",
      "4\tязыки\tязык\tNOUN\t_\tAnimacy=Inan|Case=Nom|Gender=Masc|Number=Plur\t35\tnsubj\t_\tSpaceAfter=No\n",
      "5\t,\t,\tPUNCT\t_\t_\t10\tpunct\t_\t_\n",
      "6\tа\tа\tCCONJ\t_\t_\t10\tcc\t_\t_\n",
      "7\tтакже\tтакже\tPART\t_\t_\t6\tfixed\t_\t_\n",
      "8\tи\tи\tPART\t_\t_\t9\tadvmod\t_\t_\n",
      "9\tдругой\tдругой\tADJ\t_\tCase=Nom|Degree=Pos|Gender=Masc|Number=Sing\t10\tamod\t_\t_\n",
      "10\tязык\tязык\tNOUN\t_\tAnimacy=Inan|Case=Nom|Gender=Masc|Number=Sing\t4\tconj\t_\tSpaceAfter=No\n",
      "11\t,\t,\tPUNCT\t_\t_\t13\tpunct\t_\t_\n",
      "12\tкоторый\tкоторый\tPRON\t_\tCase=Nom\t13\tnsubj:pass\t_\t_\n",
      "13\tможет\tмочь\tVERB\t_\tAspect=Imp|Mood=Ind|Number=Sing|Person=3|Tense=Pres|VerbForm=Fin|Voice=Act\t10\tacl:relcl\t_\t_\n",
      "14\tбыть\tбыть\tAUX\t_\tAspect=Imp|VerbForm=Inf|Voice=Act\t15\taux:pass\t_\t_\n",
      "15\tутверждён\tутвердить\tVERB\t_\tAspect=Perf|Gender=Masc|Number=Sing|Tense=Past|Variant=Short|VerbForm=Part|Voice=Pass\t13\txcomp\t_\t_\n",
      "16\tПарламентом\tПарламент\tPROPN\t_\tAnimacy=Inan|Case=Ins|Gender=Masc|Number=Sing\t15\tobl\t_\t_\n",
      "17\t(\t(\tPUNCT\t_\t_\t21\tpunct\t_\tSpaceAfter=No\n",
      "18\tпо\tпо\tADP\t_\t_\t19\tcase\t_\t_\n",
      "19\tзакону\tзакон\tNOUN\t_\tAnimacy=Inan|Case=Dat|Gender=Masc|Number=Sing\t21\tparataxis\t_\tSpaceAfter=No\n",
      "20\t,\t,\tPUNCT\t_\t_\t19\tpunct\t_\t_\n",
      "21\tодобренному\tодобрить\tVERB\t_\tAspect=Perf|Case=Dat|Gender=Neut|Number=Sing|Tense=Past|VerbForm=Part|Voice=Pass\t16\tparataxis\t_\t_\n",
      "22\tне\tне\tPART\t_\t_\t23\tadvmod\t_\t_\n",
      "23\tменее\tменее\tADV\t_\tDegree=Cmp\t30\tnummod:gov\t_\tSpaceAfter=No\n",
      "24\t,\t,\tPUNCT\t_\t_\t26\tpunct\t_\t_\n",
      "25\tчем\tчем\tSCONJ\t_\t_\t26\tmark\t_\t_\n",
      "26\t2\t2\tNUM\t_\t_\t23\tadvcl\t_\tSpaceAfter=No\n",
      "27\t/\t/\tPUNCT\t_\t_\t26\tpunct\t_\tSpaceAfter=No\n",
      "28\t3\t3\tNUM\t_\t_\t30\tnummod\t_\t_\n",
      "29\tвсех\tвесь\tDET\t_\tCase=Gen|Number=Plur\t30\tdet\t_\t_\n",
      "30\tчленов\tчлен\tNOUN\t_\tAnimacy=Anim|Case=Gen|Gender=Masc|Number=Plur\t21\tobl\t_\t_\n",
      "31\tПалаты\tПалата\tPROPN\t_\tAnimacy=Inan|Case=Gen|Gender=Fem|Number=Sing\t30\tnmod\t_\t_\n",
      "32\tпредставителей\tпредставитель\tNOUN\t_\tAnimacy=Anim|Case=Gen|Gender=Masc|Number=Plur\t31\tnmod\t_\tSpaceAfter=No\n",
      "33\t)\t)\tPUNCT\t_\t_\t21\tpunct\t_\tSpaceAfter=No\n",
      "34\t,\t,\tPUNCT\t_\t_\t15\tpunct\t_\t_\n",
      "35\tдолжны\tдолжен\tADJ\t_\tDegree=Pos|Number=Plur|Variant=Short\t0\troot\t_\t_\n",
      "36\tбыть\tбыть\tAUX\t_\tAspect=Imp|VerbForm=Inf|Voice=Act\t38\tcop\t_\t_\n",
      "37\tофициальными\tофициальный\tADJ\t_\tCase=Ins|Degree=Pos|Number=Plur\t38\tamod\t_\t_\n",
      "38\tязыками\tязык\tNOUN\t_\tAnimacy=Inan|Case=Ins|Gender=Masc|Number=Plur\t35\txcomp\t_\t_\n",
      "39\tМальты\tМальта\tPROPN\t_\tAnimacy=Inan|Case=Gen|Gender=Fem|Number=Sing\t38\tnmod\t_\tSpaceAfter=No\n",
      "40\t,\t,\tPUNCT\t_\t_\t43\tpunct\t_\t_\n",
      "41\tи\tи\tCCONJ\t_\t_\t43\tcc\t_\t_\n",
      "42\tАдминистрация\tадминистрация\tPROPN\t_\tAnimacy=Inan|Case=Nom|Gender=Fem|Number=Sing\t43\tnsubj\t_\t_\n",
      "43\tможет\tмочь\tVERB\t_\tAspect=Imp|Mood=Ind|Number=Sing|Person=3|Tense=Pres|VerbForm=Fin|Voice=Act\t35\tconj\t_\t_\n",
      "44\tиспользовать\tиспользовать\tVERB\t_\tAspect=Imp|VerbForm=Inf|Voice=Act\t43\txcomp\t_\t_\n",
      "45\tво\tв\tADP\t_\t_\t49\tcase\t_\t_\n",
      "46\tвсех\tвесь\tDET\t_\tCase=Loc|Number=Plur\t49\tdet\t_\t_\n",
      "47\tсвоих\tсвой\tDET\t_\tCase=Loc|Number=Plur\t49\tdet\t_\t_\n",
      "48\tофициальных\tофициальный\tADJ\t_\tCase=Loc|Degree=Pos|Number=Plur\t49\tamod\t_\t_\n",
      "49\tцелях\tцель\tNOUN\t_\tAnimacy=Inan|Case=Loc|Gender=Fem|Number=Plur\t44\tobl\t_\t_\n",
      "50\tлюбой\tлюбой\tDET\t_\tCase=Nom|Gender=Masc|Number=Sing\t44\tdet\t_\t_\n",
      "51\tиз\tиз\tADP\t_\t_\t53\tcase\t_\t_\n",
      "52\tэтих\tэтот\tDET\t_\tCase=Gen|Number=Plur\t53\tdet\t_\t_\n",
      "53\tязыков\tязык\tNOUN\t_\tAnimacy=Inan|Case=Gen|Gender=Masc|Number=Plur\t50\tnmod\t_\tSpaceAfter=No\n",
      "54\t,\t,\tPUNCT\t_\t_\t56\tpunct\t_\t_\n",
      "55\tпри\tпри\tADP\t_\t_\t56\tcase\t_\t_\n",
      "56\tусловии\tусловие\tNOUN\t_\tAnimacy=Inan|Case=Loc|Gender=Neut|Number=Sing\t44\tobl\t_\tSpaceAfter=No\n",
      "57\t,\t,\tPUNCT\t_\t_\t61\tpunct\t_\t_\n",
      "58\tчто\tчто\tSCONJ\t_\t_\t61\tmark\t_\t_\n",
      "59\tлюбое\tлюбой\tDET\t_\tCase=Nom|Gender=Neut|Number=Sing\t60\tdet\t_\t_\n",
      "60\tлицо\tлицо\tNOUN\t_\tAnimacy=Inan|Case=Nom|Gender=Neut|Number=Sing\t61\tnsubj\t_\t_\n",
      "61\tвправе\tвправе\tADV\t_\tDegree=Pos\t56\tacl\t_\t_\n",
      "62\tобратиться\tобратиться\tVERB\t_\tAspect=Perf|VerbForm=Inf|Voice=Mid\t75\txcomp\t_\t_\n",
      "63\tк\tк\tADP\t_\t_\t64\tcase\t_\t_\n",
      "64\tАдминистрации\tадминистрация\tPROPN\t_\tAnimacy=Inan|Case=Loc|Gender=Fem|Number=Sing\t62\tobl\t_\t_\n",
      "65\tна\tна\tADP\t_\t_\t75\tcase\t_\t_\n",
      "66\tлюбом\tлюбой\tDET\t_\tCase=Loc|Gender=Neut|Number=Sing\t75\tdet\t_\t_\n",
      "67\tиз\tиз\tADP\t_\t_\t69\tcase\t_\t_\n",
      "68\tофициальных\tофициальный\tADJ\t_\tCase=Gen|Degree=Pos|Number=Plur\t69\tamod\t_\t_\n",
      "69\tязыков\tязык\tNOUN\t_\tAnimacy=Inan|Case=Gen|Gender=Masc|Number=Plur\t66\tnmod\t_\t_\n",
      "70\tи\tи\tCCONJ\t_\t_\t71\tcc\t_\t_\n",
      "71\tответ\tответ\tNOUN\t_\tAnimacy=Inan|Case=Nom|Gender=Masc|Number=Sing\t75\tnsubj:pass\t_\t_\n",
      "72\tАдминистрации\tадминистрация\tPROPN\t_\tAnimacy=Inan|Case=Gen|Gender=Fem|Number=Sing\t71\tnmod\t_\t_\n",
      "73\tданному\tданный\tADJ\t_\tCase=Dat|Degree=Pos|Gender=Neut|Number=Sing\t74\tamod\t_\t_\n",
      "74\tлицу\tлицо\tNOUN\t_\tAnimacy=Inan|Case=Dat|Gender=Neut|Number=Sing\t71\tnmod\t_\t_\n",
      "75\tдолжен\tдолжен\tADJ\t_\tDegree=Pos|Gender=Masc|Number=Sing|Variant=Short\t61\tobl\t_\t_\n",
      "76\tбыть\tбыть\tAUX\t_\tAspect=Imp|VerbForm=Inf|Voice=Act\t77\taux:pass\t_\t_\n",
      "77\tдан\tдать\tVERB\t_\tAspect=Perf|Gender=Masc|Number=Sing|Tense=Past|Variant=Short|VerbForm=Part|Voice=Pass\t75\txcomp\t_\t_\n",
      "78\tна\tна\tADP\t_\t_\t81\tcase\t_\t_\n",
      "79\tтом\tтот\tDET\t_\tCase=Loc|Gender=Masc|Number=Sing\t81\tdet\t_\t_\n",
      "80\tже\tже\tPART\t_\t_\t79\tadvmod\t_\t_\n",
      "81\tязыке\tязык\tNOUN\t_\tAnimacy=Inan|Case=Loc|Gender=Masc|Number=Sing\t77\tobl\t_\tSpaceAfter=No\n",
      "82\t.\t.\tPUNCT\t_\t_\t75\tpunct\t_\tSpacesAfter=\\r\\n\n"
     ]
    }
   ],
   "source": [
    "print(trees[6])"
   ]
  },
  {
   "cell_type": "markdown",
   "metadata": {},
   "source": [
    "Есть разные модели -- у каждого своё решение"
   ]
  },
  {
   "cell_type": "markdown",
   "metadata": {},
   "source": [
    "Ага, кул, как с этим работать и что-то достать?"
   ]
  },
  {
   "cell_type": "markdown",
   "metadata": {},
   "source": [
    "Ну, во-первых, есть conllu файл, если хочется работать руками или если надо (поправить руками) и скормить это"
   ]
  },
  {
   "cell_type": "code",
   "execution_count": 10,
   "metadata": {},
   "outputs": [],
   "source": [
    "g = DependencyGraph(trees[5], top_relation_label='root')"
   ]
  },
  {
   "cell_type": "code",
   "execution_count": 11,
   "metadata": {},
   "outputs": [
    {
     "name": "stdout",
     "output_type": "stream",
     "text": [
      "Help on DependencyGraph in module nltk.parse.dependencygraph object:\n",
      "\n",
      "class DependencyGraph(builtins.object)\n",
      " |  DependencyGraph(tree_str=None, cell_extractor=None, zero_based=False, cell_separator=None, top_relation_label='ROOT')\n",
      " |  \n",
      " |  A container for the nodes and labelled edges of a dependency structure.\n",
      " |  \n",
      " |  Methods defined here:\n",
      " |  \n",
      " |  __init__(self, tree_str=None, cell_extractor=None, zero_based=False, cell_separator=None, top_relation_label='ROOT')\n",
      " |      Dependency graph.\n",
      " |      \n",
      " |      We place a dummy `TOP` node with the index 0, since the root node is\n",
      " |      often assigned 0 as its head. This also means that the indexing of the\n",
      " |      nodes corresponds directly to the Malt-TAB format, which starts at 1.\n",
      " |      \n",
      " |      If zero-based is True, then Malt-TAB-like input with node numbers\n",
      " |      starting at 0 and the root node assigned -1 (as produced by, e.g.,\n",
      " |      zpar).\n",
      " |      \n",
      " |      :param str cell_separator: the cell separator. If not provided, cells\n",
      " |      are split by whitespace.\n",
      " |      \n",
      " |      :param str top_relation_label: the label by which the top relation is\n",
      " |      identified, for examlple, `ROOT`, `null` or `TOP`.\n",
      " |  \n",
      " |  __repr__(self)\n",
      " |      Return repr(self).\n",
      " |  \n",
      " |  __str__(self)\n",
      " |      Return str(self).\n",
      " |  \n",
      " |  add_arc(self, head_address, mod_address)\n",
      " |      Adds an arc from the node specified by head_address to the\n",
      " |      node specified by the mod address.\n",
      " |  \n",
      " |  add_node(self, node)\n",
      " |  \n",
      " |  connect_graph(self)\n",
      " |      Fully connects all non-root nodes.  All nodes are set to be dependents\n",
      " |      of the root node.\n",
      " |  \n",
      " |  contains_address(self, node_address)\n",
      " |      Returns true if the graph contains a node with the given node\n",
      " |      address, false otherwise.\n",
      " |  \n",
      " |  contains_cycle(self)\n",
      " |      Check whether there are cycles.\n",
      " |      \n",
      " |      >>> dg = DependencyGraph(treebank_data)\n",
      " |      >>> dg.contains_cycle()\n",
      " |      False\n",
      " |      \n",
      " |      >>> cyclic_dg = DependencyGraph()\n",
      " |      >>> top = {'word': None, 'deps': [1], 'rel': 'TOP', 'address': 0}\n",
      " |      >>> child1 = {'word': None, 'deps': [2], 'rel': 'NTOP', 'address': 1}\n",
      " |      >>> child2 = {'word': None, 'deps': [4], 'rel': 'NTOP', 'address': 2}\n",
      " |      >>> child3 = {'word': None, 'deps': [1], 'rel': 'NTOP', 'address': 3}\n",
      " |      >>> child4 = {'word': None, 'deps': [3], 'rel': 'NTOP', 'address': 4}\n",
      " |      >>> cyclic_dg.nodes = {\n",
      " |      ...     0: top,\n",
      " |      ...     1: child1,\n",
      " |      ...     2: child2,\n",
      " |      ...     3: child3,\n",
      " |      ...     4: child4,\n",
      " |      ... }\n",
      " |      >>> cyclic_dg.root = top\n",
      " |      \n",
      " |      >>> cyclic_dg.contains_cycle()\n",
      " |      [3, 1, 2, 4]\n",
      " |  \n",
      " |  get_by_address(self, node_address)\n",
      " |      Return the node with the given address.\n",
      " |  \n",
      " |  get_cycle_path(self, curr_node, goal_node_index)\n",
      " |  \n",
      " |  left_children(self, node_index)\n",
      " |      Returns the number of left children under the node specified\n",
      " |      by the given address.\n",
      " |  \n",
      " |  nx_graph(self)\n",
      " |      Convert the data in a ``nodelist`` into a networkx labeled directed graph.\n",
      " |  \n",
      " |  redirect_arcs(self, originals, redirect)\n",
      " |      Redirects arcs to any of the nodes in the originals list\n",
      " |      to the redirect node address.\n",
      " |  \n",
      " |  remove_by_address(self, address)\n",
      " |      Removes the node with the given address.  References\n",
      " |      to this node in others will still exist.\n",
      " |  \n",
      " |  right_children(self, node_index)\n",
      " |      Returns the number of right children under the node specified\n",
      " |      by the given address.\n",
      " |  \n",
      " |  to_conll(self, style)\n",
      " |      The dependency graph in CoNLL format.\n",
      " |      \n",
      " |      :param style: the style to use for the format (3, 4, 10 columns)\n",
      " |      :type style: int\n",
      " |      :rtype: str\n",
      " |  \n",
      " |  to_dot(self)\n",
      " |      Return a dot representation suitable for using with Graphviz.\n",
      " |      \n",
      " |      >>> dg = DependencyGraph(\n",
      " |      ...     'John N 2\\n'\n",
      " |      ...     'loves V 0\\n'\n",
      " |      ...     'Mary N 2'\n",
      " |      ... )\n",
      " |      >>> print(dg.to_dot())\n",
      " |      digraph G{\n",
      " |      edge [dir=forward]\n",
      " |      node [shape=plaintext]\n",
      " |      <BLANKLINE>\n",
      " |      0 [label=\"0 (None)\"]\n",
      " |      0 -> 2 [label=\"ROOT\"]\n",
      " |      1 [label=\"1 (John)\"]\n",
      " |      2 [label=\"2 (loves)\"]\n",
      " |      2 -> 1 [label=\"\"]\n",
      " |      2 -> 3 [label=\"\"]\n",
      " |      3 [label=\"3 (Mary)\"]\n",
      " |      }\n",
      " |  \n",
      " |  tree(self)\n",
      " |      Starting with the ``root`` node, build a dependency tree using the NLTK\n",
      " |      ``Tree`` constructor. Dependency labels are omitted.\n",
      " |  \n",
      " |  triples(self, node=None)\n",
      " |      Extract dependency triples of the form:\n",
      " |      ((head word, head tag), rel, (dep word, dep tag))\n",
      " |  \n",
      " |  ----------------------------------------------------------------------\n",
      " |  Static methods defined here:\n",
      " |  \n",
      " |  load(filename, zero_based=False, cell_separator=None, top_relation_label='ROOT')\n",
      " |      :param filename: a name of a file in Malt-TAB format\n",
      " |      :param zero_based: nodes in the input file are numbered starting from 0\n",
      " |      rather than 1 (as produced by, e.g., zpar)\n",
      " |      :param str cell_separator: the cell separator. If not provided, cells\n",
      " |      are split by whitespace.\n",
      " |      :param str top_relation_label: the label by which the top relation is\n",
      " |      identified, for examlple, `ROOT`, `null` or `TOP`.\n",
      " |      \n",
      " |      :return: a list of DependencyGraphs\n",
      " |  \n",
      " |  ----------------------------------------------------------------------\n",
      " |  Data descriptors defined here:\n",
      " |  \n",
      " |  __dict__\n",
      " |      dictionary for instance variables (if defined)\n",
      " |  \n",
      " |  __weakref__\n",
      " |      list of weak references to the object (if defined)\n",
      "\n"
     ]
    }
   ],
   "source": [
    "help(g)"
   ]
  },
  {
   "cell_type": "code",
   "execution_count": 12,
   "metadata": {},
   "outputs": [
    {
     "name": "stdout",
     "output_type": "stream",
     "text": [
      "{'address': 4, 'word': 'является', 'lemma': 'являться', 'ctag': 'VERB', 'tag': '_', 'feats': 'Aspect=Imp|Mood=Ind|Number=Sing|Person=3|Tense=Pres|VerbForm=Fin|Voice=Mid', 'head': 0, 'deps': defaultdict(<class 'list'>, {'obl': [2], 'nsubj': [5], 'punct': [6]}), 'rel': 'root'}\n"
     ]
    }
   ],
   "source": [
    "print(g.root)"
   ]
  },
  {
   "cell_type": "code",
   "execution_count": 13,
   "metadata": {},
   "outputs": [
    {
     "name": "stdout",
     "output_type": "stream",
     "text": [
      "(('является', 'VERB'), 'obl', ('языком', 'NOUN'))\n",
      "(('языком', 'NOUN'), 'amod', ('Национальным', 'ADJ'))\n",
      "(('языком', 'NOUN'), 'nmod', ('Мальты', 'PROPN'))\n",
      "(('является', 'VERB'), 'nsubj', ('мальтийский', 'ADJ'))\n",
      "(('является', 'VERB'), 'punct', ('.', 'PUNCT'))\n"
     ]
    }
   ],
   "source": [
    "for t in g.triples():\n",
    "    print(t)"
   ]
  },
  {
   "cell_type": "code",
   "execution_count": 14,
   "metadata": {},
   "outputs": [
    {
     "name": "stdout",
     "output_type": "stream",
     "text": [
      "0\n",
      "1\n",
      "2\n",
      "4\n",
      "3\n",
      "5\n",
      "6\n"
     ]
    }
   ],
   "source": [
    "for n in g.nodes:\n",
    "    print(n)"
   ]
  },
  {
   "cell_type": "code",
   "execution_count": 15,
   "metadata": {},
   "outputs": [
    {
     "name": "stdout",
     "output_type": "stream",
     "text": [
      "{'address': 0, 'word': None, 'lemma': None, 'ctag': 'TOP', 'tag': 'TOP', 'feats': None, 'head': None, 'deps': defaultdict(<class 'list'>, {'root': [4]}), 'rel': None}\n",
      "{'address': 1, 'word': 'Национальным', 'lemma': 'национальный', 'ctag': 'ADJ', 'tag': '_', 'feats': 'Case=Ins|Degree=Pos|Gender=Masc|Number=Sing', 'head': 2, 'deps': defaultdict(<class 'list'>, {}), 'rel': 'amod'}\n",
      "{'address': 2, 'word': 'языком', 'lemma': 'язык', 'ctag': 'NOUN', 'tag': '_', 'feats': 'Animacy=Inan|Case=Ins|Gender=Masc|Number=Sing', 'head': 4, 'deps': defaultdict(<class 'list'>, {'amod': [1], 'nmod': [3]}), 'rel': 'obl'}\n",
      "{'address': 4, 'word': 'является', 'lemma': 'являться', 'ctag': 'VERB', 'tag': '_', 'feats': 'Aspect=Imp|Mood=Ind|Number=Sing|Person=3|Tense=Pres|VerbForm=Fin|Voice=Mid', 'head': 0, 'deps': defaultdict(<class 'list'>, {'obl': [2], 'nsubj': [5], 'punct': [6]}), 'rel': 'root'}\n",
      "{'address': 3, 'word': 'Мальты', 'lemma': 'Мальта', 'ctag': 'PROPN', 'tag': '_', 'feats': 'Animacy=Inan|Case=Gen|Gender=Fem|Number=Sing', 'head': 2, 'deps': defaultdict(<class 'list'>, {}), 'rel': 'nmod'}\n",
      "{'address': 5, 'word': 'мальтийский', 'lemma': 'мальтийский', 'ctag': 'ADJ', 'tag': '_', 'feats': 'Case=Nom|Degree=Pos|Gender=Masc|Number=Sing', 'head': 4, 'deps': defaultdict(<class 'list'>, {}), 'rel': 'nsubj'}\n",
      "{'address': 6, 'word': '.', 'lemma': '.', 'ctag': 'PUNCT', 'tag': '_', 'feats': '_', 'head': 4, 'deps': defaultdict(<class 'list'>, {}), 'rel': 'punct'}\n"
     ]
    }
   ],
   "source": [
    "for n in g.nodes:\n",
    "    print(g.nodes[n])"
   ]
  },
  {
   "cell_type": "code",
   "execution_count": 16,
   "metadata": {},
   "outputs": [
    {
     "name": "stdout",
     "output_type": "stream",
     "text": [
      "2 {'address': 2, 'word': 'языком', 'lemma': 'язык', 'ctag': 'NOUN', 'tag': '_', 'feats': 'Animacy=Inan|Case=Ins|Gender=Masc|Number=Sing', 'head': 4, 'deps': defaultdict(<class 'list'>, {'amod': [1], 'nmod': [3]}), 'rel': 'obl'}\n"
     ]
    }
   ],
   "source": [
    "for n in g.nodes:\n",
    "    if g.nodes[n]['ctag'] == 'NOUN':\n",
    "        print(n, g.nodes[n])"
   ]
  },
  {
   "cell_type": "code",
   "execution_count": null,
   "metadata": {},
   "outputs": [],
   "source": []
  },
  {
   "cell_type": "markdown",
   "metadata": {},
   "source": [
    "Давайте заведем функцию, которая будет собирать (максимальное) поддерево, корнем которого является заданная вершина."
   ]
  },
  {
   "cell_type": "code",
   "execution_count": 17,
   "metadata": {},
   "outputs": [],
   "source": [
    "_FILTER_RELS = ['punct', 'conj', 'parataxis']\n",
    "def get_subtree(nodes, node):\n",
    "    if not nodes[node]['deps']:\n",
    "        return [node]\n",
    "    else:\n",
    "        return [node] + [get_subtree(nodes, dep) for rel in nodes[node]['deps'] \n",
    "                         if rel not in _FILTER_RELS\n",
    "                         for dep in nodes[node]['deps'][rel]]"
   ]
  },
  {
   "cell_type": "markdown",
   "metadata": {},
   "source": [
    "Чтобы потом получить просто индексы для выделения групп, нужно разобраться со вложенностью."
   ]
  },
  {
   "cell_type": "code",
   "execution_count": 18,
   "metadata": {},
   "outputs": [],
   "source": [
    "def flatten(l):\n",
    "    flat = []\n",
    "    for el in l:\n",
    "        if not isinstance(el, list):\n",
    "            flat.append(el)\n",
    "        else:\n",
    "            flat += flatten(el)\n",
    "    return flat"
   ]
  },
  {
   "cell_type": "markdown",
   "metadata": {},
   "source": [
    "Всё готово, чтобы попробовать достать именные группы."
   ]
  },
  {
   "cell_type": "code",
   "execution_count": 19,
   "metadata": {},
   "outputs": [],
   "source": [
    "g = DependencyGraph(trees[4], top_relation_label='root')"
   ]
  },
  {
   "cell_type": "code",
   "execution_count": 20,
   "metadata": {},
   "outputs": [],
   "source": [
    "np_list = []\n",
    "for n in g.nodes:\n",
    "    if g.nodes[n]['ctag'] == 'NOUN':\n",
    "        np = list(sorted(flatten(get_subtree(g.nodes, n))))\n",
    "        np_list.append(\n",
    "            ' '.join([g.nodes[i]['word'] for i in np])\n",
    "        )"
   ]
  },
  {
   "cell_type": "code",
   "execution_count": 21,
   "metadata": {},
   "outputs": [
    {
     "data": {
      "text/plain": [
       "['Статус мальтийского языка',\n",
       " 'мальтийского языка',\n",
       " 'в статье 5 главы I конституции Мальты',\n",
       " '5 главы I конституции Мальты',\n",
       " 'I конституции Мальты']"
      ]
     },
     "execution_count": 21,
     "metadata": {},
     "output_type": "execute_result"
    }
   ],
   "source": [
    "np_list"
   ]
  },
  {
   "cell_type": "markdown",
   "metadata": {},
   "source": [
    "А теперь всё то же самое для всего текста."
   ]
  },
  {
   "cell_type": "code",
   "execution_count": 72,
   "metadata": {},
   "outputs": [],
   "source": [
    "### YOUR CODE HERE ###\n"
   ]
  },
  {
   "cell_type": "code",
   "execution_count": 73,
   "metadata": {},
   "outputs": [
    {
     "data": {
      "text/plain": [
       "[['Мальтийский язык',\n",
       "  'собств',\n",
       "  'наименование malti',\n",
       "  'язык мальтийцев',\n",
       "  'мальтийцев',\n",
       "  'официальный язык Республики Мальта',\n",
       "  'из официальных языков Европейского союза',\n",
       "  'Европейского союза'],\n",
       " ['к семитской семье афразийской семито-хамитской макросемьи языков',\n",
       "  'афразийской семито-хамитской макросемьи языков',\n",
       "  'языков'],\n",
       " ['Язык',\n",
       "  'особенно к его магрибскому диалекту',\n",
       "  'время',\n",
       "  'отдельным языком',\n",
       "  'со своими синтаксическими особенностями'],\n",
       " ['Лингвогеография',\n",
       "  'Лингвогеография Число говорящих 372 тыс. чел',\n",
       "  '372 тыс. чел',\n",
       "  'чел'],\n",
       " ['Статус мальтийского языка',\n",
       "  'мальтийского языка',\n",
       "  'в статье 5 главы I конституции Мальты',\n",
       "  '5 главы I конституции Мальты',\n",
       "  'I конституции Мальты'],\n",
       " ['Национальным языком Мальты'],\n",
       " ['Мальтийский языки',\n",
       "  'а также и другой язык который может быть утверждён Парламентом',\n",
       "  'по закону',\n",
       "  'не менее чем 2 3 всех членов Палаты представителей',\n",
       "  'представителей',\n",
       "  'быть официальными языками Мальты',\n",
       "  'во всех своих официальных целях',\n",
       "  'из этих языков',\n",
       "  'при условии что любое лицо вправе обратиться к Администрации на любом из официальных языков и ответ Администрации данному лицу должен быть дан на том же языке',\n",
       "  'любое лицо',\n",
       "  'из официальных языков',\n",
       "  'и ответ Администрации данному лицу',\n",
       "  'данному лицу',\n",
       "  'на том же языке'],\n",
       " ['Языком судопроизводства быть',\n",
       "  'судопроизводства',\n",
       "  'при условии что парламент может издать постановление об использовании английского языка в случаях',\n",
       "  'парламент',\n",
       "  'постановление об использовании английского языка в случаях',\n",
       "  'об использовании английского языка в случаях',\n",
       "  'английского языка',\n",
       "  'в случаях',\n",
       "  'и на условиях определяемых в данном постановлении',\n",
       "  'в данном постановлении'],\n",
       " ['Палата представителей',\n",
       "  'представителей',\n",
       "  'свои собственные процессуальные нормы',\n",
       "  'язык которые должны использоваться в работе парламента',\n",
       "  'или языки',\n",
       "  'в работе парламента',\n",
       "  'парламента',\n",
       "  'и в протоколировании'],\n",
       " ['Большинство населения Мальты', 'населения Мальты'],\n",
       " ['Мальтийский язык',\n",
       "  'в повседневном общении',\n",
       "  'в парламенте',\n",
       "  'в церкви',\n",
       "  'в СМИ'],\n",
       " ['В разговоре'],\n",
       " ['как на официальный язык', 'все официальные документы ЕС'],\n",
       " ['мальтийская версия портала Европейского союза',\n",
       "  'портала Европейского союза',\n",
       "  'Европейского союза'],\n",
       " ['На мальтийском языке',\n",
       "  'в среде выходцев из Мальты',\n",
       "  'выходцев из Мальты',\n",
       "  'и их потомков'],\n",
       " ['свой диалект Maltraljan Maltese Australian'],\n",
       " ['История',\n",
       "  'Во время финикийской позже карфагенской колонизации',\n",
       "  'время',\n",
       "  'до н. э. 218 до н. э.',\n",
       "  'до н. э.',\n",
       "  'население мальтийских островов',\n",
       "  'мальтийских островов',\n",
       "  'из финикийских пунических языков'],\n",
       " ['На финикийском наречии',\n",
       "  'в период римского с 218 до н. э.',\n",
       "  'до н. э.',\n",
       "  'а после разделения империи на Западную',\n",
       "  'империи',\n",
       "  '«восточно римского» владычества',\n",
       "  'владычества',\n",
       "  'в 395 870 н. э.'],\n",
       " ['В 870 году', 'острова', 'арабами'],\n",
       " ['Арабский язык',\n",
       "  'и среди коренного населения',\n",
       "  'в частности благодаря своему родству с финикийским',\n",
       "  'частности'],\n",
       " ['При этом разговорная речь арабов', 'арабов', 'местного населения'],\n",
       " ['В этот период',\n",
       "  'о существовании двух диалектов',\n",
       "  'двух диалектов',\n",
       "  'классический арабский письменный язык центром распространения которого стал Сицилийский эмират',\n",
       "  'и сицилийско арабский народно разговорный язык',\n",
       "  'центром распространения которого',\n",
       "  'распространения которого',\n",
       "  'Сицилийский эмират'],\n",
       " ['После вторжения норманнов',\n",
       "  'норманнов',\n",
       "  'сицилийско арабский язык',\n",
       "  'на небольшом периферийном острове Мальта',\n",
       "  'сильное романское влияние'],\n",
       " ['нынешний мальтийский язык'],\n",
       " ['Новый этап',\n",
       "  'с норманнским завоеванием Мальты',\n",
       "  'в 1090 году',\n",
       "  'и присоединением её к Сицилии',\n",
       "  'к Сицилии'],\n",
       " ['Язык администрации',\n",
       "  'администрации',\n",
       "  'в это время',\n",
       "  'новый языковой семито-романский контакт'],\n",
       " ['Полной романизации населения как и в римскую эпоху',\n",
       "  'населения',\n",
       "  'как и в римскую эпоху',\n",
       "  'продолжительное время',\n",
       "  'на островах',\n",
       "  'значительное культурное влияние',\n",
       "  'в язык',\n",
       "  'первые романские заимствования'],\n",
       " ['через 100 150 лет', 'размежевание мальтийского'],\n",
       " ['Мальта',\n",
       "  'на протяжении 440 лет',\n",
       "  '440 лет',\n",
       "  'от одной феодальной юрисдикции к другой',\n",
       "  'в течение этого времени',\n",
       "  'течение',\n",
       "  'количество романских заимствований',\n",
       "  'романских заимствований'],\n",
       " ['К XV веку',\n",
       "  'первый известный литературный текст на мальтийском языке поэма «Il Cantilena»',\n",
       "  'на мальтийском языке',\n",
       "  'поэма «Il Cantilena»',\n",
       "  'Cantilena»'],\n",
       " ['Наиболее сильное романское воздействие язык',\n",
       "  'язык',\n",
       "  'во время правления на Мальте рыцарского ордена Святого Иоанна',\n",
       "  'время',\n",
       "  'рыцарского ордена Святого Иоанна',\n",
       "  'по 1798 гг'],\n",
       " ['В это время',\n",
       "  'В это время письменными языками были латынь',\n",
       "  'латынь',\n",
       "  'отдельные попытки писать'],\n",
       " ['Первая опубликованная книга на мальтийском языке катехизис Виццино Wizzino',\n",
       "  'на мальтийском языке',\n",
       "  'катехизис Виццино Wizzino',\n",
       "  '1752 годом'],\n",
       " ['В 1800 году'],\n",
       " ['в течение XIX века',\n",
       "  'течение',\n",
       "  'английский язык',\n",
       "  'той важной позиции на Мальте которую занимает сегодня',\n",
       "  'официальным письменным языком'],\n",
       " ['об истории мальтийского языка',\n",
       "  'мальтийского языка',\n",
       "  'деятельность Микиля Антона Вассалли Mikiel Anton Vassalli 1764 1829'],\n",
       " ['словарь мальтийского языка',\n",
       "  'мальтийского языка',\n",
       "  'и описание мальтийской грамматики',\n",
       "  'мальтийской грамматики',\n",
       "  'на мальтийский часть Нового Завета'],\n",
       " ['В 1921 году',\n",
       "  'самоуправление',\n",
       "  'по конституции официальными языками',\n",
       "  'официальными языками'],\n",
       " ['В 1936 году', 'статус официального языка', 'официального языка'],\n",
       " ['государственными языками',\n",
       "  'и после провозглашения независимости Мальты в 1964 году',\n",
       "  'независимости Мальты',\n",
       "  'в 1964 году'],\n",
       " ['мая',\n",
       "  '2004 года',\n",
       "  'в связи со вступлением Мальты в ЕС',\n",
       "  'связи',\n",
       "  'мальтийский язык',\n",
       "  'официальным языком ЕС'],\n",
       " ['Письменность Мальтийский единственный из семитских языков с письменностью на основе латинского алфавита',\n",
       "  'из семитских языков',\n",
       "  'с письменностью на основе латинского алфавита',\n",
       "  'на основе латинского алфавита',\n",
       "  'латинского алфавита'],\n",
       " ['В алфавит',\n",
       "  'букву c',\n",
       "  'после ċ',\n",
       "  'эта буква',\n",
       "  'только в заимствованных словах',\n",
       "  'в основном итальянского происхождения',\n",
       "  '«кэмпинг»',\n",
       "  'с другой стороны',\n",
       "  'во многих словах',\n",
       "  'напр'],\n",
       " ['«компьютер»', 'от англ. computer'],\n",
       " ['Лингвистическая характеристика Просодия',\n",
       "  'Лингвистическая характеристика Просодия Ударение в мальтийском',\n",
       "  'как правило',\n",
       "  'на предпоследний слог',\n",
       "  'иной слог'],\n",
       " ['Морфология Грамматика мальтийского языка семитского типа с романским влиянием',\n",
       "  'Грамматика мальтийского языка семитского типа',\n",
       "  'семитского типа',\n",
       "  'с романским влиянием'],\n",
       " ['наречие',\n",
       "  'как самостоятельная форма',\n",
       "  'порядок слов достаточно гибок',\n",
       "  'порядок слов',\n",
       "  'слов'],\n",
       " ['определённый артикль'],\n",
       " ['и иврите',\n",
       "  'артикль',\n",
       "  'напр. L-Art l-Imqaddsa «Святая земля»',\n",
       "  '«Святая земля»',\n",
       "  'дословный перевод «Земля Святая»',\n",
       "  '«Земля Святая»',\n",
       "  'Святая»',\n",
       "  'араб الأرض المقدسة\\u200e ʾAl-ʾArḍ ʾal-Muqaddasa с тем же значением',\n",
       "  'الأرض المقدسة\\u200e ʾAl-ʾArḍ ʾal-Muqaddasa',\n",
       "  'المقدسة\\u200e ʾAl-ʾArḍ ʾal-Muqaddasa',\n",
       "  'ʾAl-ʾArḍ ʾal-Muqaddasa',\n",
       "  'с тем же значением'],\n",
       " ['это правило',\n",
       "  'только к семитским словам',\n",
       "  'при употреблении существительных романского происхождения',\n",
       "  'существительных романского происхождения'],\n",
       " ['по числам'],\n",
       " ['У существительных романского происхождения',\n",
       "  'множественное число',\n",
       "  'добавлением i',\n",
       "  '«язык» ср. итал lingua lingwi',\n",
       "  '«искусство» ср. итал arte artijiet'],\n",
       " ['С существительными семитского происхождения'],\n",
       " [],\n",
       " ['У правильных существительных множественное число',\n",
       "  'добавлением',\n",
       "  'в иврите',\n",
       "  'im в иврите'],\n",
       " ['У неправильных же существительных множественное число',\n",
       "  'изменением гласных внутри',\n",
       "  'ktieb «книга» kotba raġel irġiel',\n",
       "  '«книга»',\n",
       "  '«человек»'],\n",
       " ['Такая система', 'в иврите'],\n",
       " ['Кроме множественного числа в мальтийском языке', 'в мальтийском языке'],\n",
       " ['с помощью суффикса',\n",
       "  'помощью',\n",
       "  'ejn',\n",
       "  'или ajn',\n",
       "  'при указании двух предметов',\n",
       "  'двух предметов',\n",
       "  'напр'],\n",
       " ['«день»', '«два дня»', '«рука»', 'руки»'],\n",
       " ['В глаголах', 'семитский корень состоящий из трёх согласных'],\n",
       " ['Глагол',\n",
       "  'добавлением',\n",
       "  'к этому корню внутренних гласных',\n",
       "  'а также суффиксов',\n",
       "  'и приставок'],\n",
       " ['Пример',\n",
       "  'ktb',\n",
       "  'корень означающий «писать» ktibna «мы написали»',\n",
       "  '«писать» ktibna «мы написали»',\n",
       "  '«мы написали»',\n",
       "  'написали»',\n",
       "  'араб',\n",
       "  'с теми же значениями'],\n",
       " ['два времени', 'перфект'],\n",
       " ['Для выражения будущего',\n",
       "  'будущего',\n",
       "  'формы настоящего времени с добавлением частиц',\n",
       "  'настоящего времени',\n",
       "  'с добавлением частиц',\n",
       "  'частиц',\n",
       "  'или вспомогательных глаголов'],\n",
       " ['Особенностью мальтийской глагольной системы',\n",
       "  'мальтийской глагольной системы',\n",
       "  'по происхождению',\n",
       "  'арабские суффиксы',\n",
       "  'и приставки',\n",
       "  '«мы решили» где i)ddeċieda',\n",
       "  'решили» где i)ddeċieda',\n",
       "  'глагол -ejna',\n",
       "  'арабский элемент образующий форму 1-го лица множественного числа прошедшего времени',\n",
       "  'форму 1-го лица множественного числа прошедшего времени',\n",
       "  '1-го лица множественного числа прошедшего времени',\n",
       "  'множественного числа прошедшего времени',\n",
       "  'прошедшего времени'],\n",
       " ['и иврите', 'подобные формы', 'в некоторых арабских диалектах'],\n",
       " ['Лексика',\n",
       "  'с исконным слоем семитской лексики',\n",
       "  'семитской лексики',\n",
       "  'большую роль',\n",
       "  'романские заимствования'],\n",
       " ['В базовой лексике',\n",
       "  'слова арабского происхождения',\n",
       "  'арабского происхождения',\n",
       "  'а для обозначения новых идей',\n",
       "  'новых идей',\n",
       "  'и предметов относящихся к государственной деятельности',\n",
       "  'в качестве терминов',\n",
       "  'качестве',\n",
       "  'к государственной деятельности',\n",
       "  'юриспруденции',\n",
       "  'образованию',\n",
       "  'искусству',\n",
       "  'литературе',\n",
       "  'итальянизмы'],\n",
       " ['Такие слова',\n",
       "  '«человек»',\n",
       "  '«женщина»',\n",
       "  '«ребёнок»',\n",
       "  '«дом»',\n",
       "  '«солнце»',\n",
       "  '«лето»',\n",
       "  'по происхождению арабские',\n",
       "  '«школа»',\n",
       "  '«правительство»',\n",
       "  '«республика»',\n",
       "  '«король»',\n",
       "  '«природа»',\n",
       "  '«полиция»',\n",
       "  '«центр»',\n",
       "  '«театр»',\n",
       "  '«разница»'],\n",
       " ['по происхождению слова',\n",
       "  'слова',\n",
       "  'сицилийское произношение',\n",
       "  'время',\n",
       "  'литературный итальянский язык',\n",
       "  'из тосканского диалекта'],\n",
       " ['конечному -o',\n",
       "  'в тосканском диалекте итальянского',\n",
       "  'в мальтийском языке как и в сицилийском диалекте',\n",
       "  'как и в сицилийском диалекте',\n",
       "  'а не teatro'],\n",
       " ['напр. arti «искусство» fidi «вера» lokali «местный житель»',\n",
       "  '«искусство» fidi «вера» lokali «местный житель»',\n",
       "  '«вера» lokali «местный житель»',\n",
       "  '«местный житель»'],\n",
       " ['Как и в некоторых романских языках',\n",
       "  'звук «ш»',\n",
       "  '«ш»',\n",
       "  'отличие',\n",
       "  'для этой цели',\n",
       "  'диграф sc',\n",
       "  '«посольство» ср.',\n",
       "  '«сцена»'],\n",
       " ['Обычным делом в современном мальтийском языке',\n",
       "  'в современном мальтийском языке',\n",
       "  'заимствование слов из английского',\n",
       "  'слов из английского',\n",
       "  '«забастовка» televixin',\n",
       "  '«телевидение» tim',\n",
       "  '«команда»'],\n",
       " ['Некоторые слова',\n",
       "  'английское написание',\n",
       "  '«союз»',\n",
       "  '«объединение»',\n",
       "  '«отпуск»',\n",
       "  '«премия»'],\n",
       " []]"
      ]
     },
     "execution_count": 73,
     "metadata": {},
     "output_type": "execute_result"
    }
   ],
   "source": [
    "result"
   ]
  },
  {
   "cell_type": "markdown",
   "metadata": {},
   "source": [
    "## Синтаксис в NLTK\n",
    " #### Грамматика составляющих (помните такую?)\n"
   ]
  },
  {
   "cell_type": "code",
   "execution_count": 3,
   "metadata": {},
   "outputs": [],
   "source": [
    "import nltk"
   ]
  },
  {
   "cell_type": "code",
   "execution_count": 4,
   "metadata": {},
   "outputs": [],
   "source": [
    "rules = \"\"\"\n",
    "    S -> NP VP\n",
    "    NP -> Det ADJ N | Det N | NN\n",
    "    VP -> V NP \n",
    "    Det -> 'a'\n",
    "    ADJ -> 'tasty' | ADV ADJ\n",
    "    ADV -> 'very'\n",
    "    N -> 'fish' | 'fork' | 'dog' | 'boy'\n",
    "    NN -> 'Mary' | 'John'\n",
    "    V -> 'eats'\n",
    "\"\"\""
   ]
  },
  {
   "cell_type": "code",
   "execution_count": 5,
   "metadata": {},
   "outputs": [],
   "source": [
    "# сделали парсер\n",
    "grammar = nltk.CFG.fromstring(rules)\n",
    "cp = nltk.EarleyChartParser(grammar)"
   ]
  },
  {
   "cell_type": "code",
   "execution_count": 6,
   "metadata": {},
   "outputs": [
    {
     "name": "stdout",
     "output_type": "stream",
     "text": [
      "(S (NP (NN Mary)) (VP (V eats) (NP (Det a) (N fish))))\n"
     ]
    }
   ],
   "source": [
    "def print_parses(parser, sentence):\n",
    "    for tree in parser.parse(sentence.split()):\n",
    "        print(tree)\n",
    "        \n",
    "print_parses(cp, \"Mary eats a fish\")"
   ]
  },
  {
   "cell_type": "markdown",
   "metadata": {},
   "source": [
    "Давайте посмотрим на иконичное предложение с 2 прочтениями I shot an elephant in my pajamas. NLTK умеет выдавать сразу несколько деревьев, если вы ему дадите предложение с возможной неоднозначностью -- главное настроить так грамматику, чтобы он ловил эту неоднозначность и не ломался.\n",
    "\n",
    "Вывод ниже."
   ]
  },
  {
   "cell_type": "code",
   "execution_count": 7,
   "metadata": {},
   "outputs": [],
   "source": [
    ">>> el_grammar = nltk.CFG.fromstring(\"\"\"\n",
    "\n",
    "# Your Code here\n",
    "\n",
    "... \"\"\")"
   ]
  },
  {
   "cell_type": "markdown",
   "metadata": {},
   "source": [
    "Заметьте, что парсер поменялся -- там и в NLTK штук 10, но по факту отличаеются они мало."
   ]
  },
  {
   "cell_type": "code",
   "execution_count": 8,
   "metadata": {},
   "outputs": [
    {
     "name": "stdout",
     "output_type": "stream",
     "text": [
      "(S\n",
      "  (NP I)\n",
      "  (VP\n",
      "    (VP (V shot) (NP (Det an) (N elephant)))\n",
      "    (PP (P in) (NP (Det my) (N pajamas)))))\n",
      "(S\n",
      "  (NP I)\n",
      "  (VP\n",
      "    (V shot)\n",
      "    (NP\n",
      "      (NP (Det an) (N elephant))\n",
      "      (PP (P in) (NP (Det my) (N pajamas))))))\n"
     ]
    }
   ],
   "source": [
    ">>> sent = ['I', 'shot', 'an', 'elephant', 'in', 'my', 'pajamas']\n",
    ">>> parser = nltk.ChartParser(el_grammar) #\n",
    ">>> for tree in parser.parse(sent):\n",
    "...     print(tree)"
   ]
  },
  {
   "cell_type": "markdown",
   "metadata": {},
   "source": [
    "Если Вам нужно обрабатывать большие тексты таким образом (и, соответственно, у вас там будет большая грамматика), то лучше создать текстовый файлик и брать правила из него. Расширение должно быть .cfg. You can then load it into NLTK and parse with it as follows:"
   ]
  },
  {
   "cell_type": "markdown",
   "metadata": {},
   "source": [
    "When you write CFGs for parsing in NLTK, you cannot combine grammatical categories with lexical items on the righthand side of the same production. Thus, a production such as* PP -> 'of' NP* is disallowed. In addition, you are not permitted to place multi-word lexical items on the righthand side of a production. So rather than writing NP -> 'New\n",
    "York' *Курсив*, you have to resort to something like NP -> 'New_York' instead."
   ]
  },
  {
   "cell_type": "markdown",
   "metadata": {},
   "source": [
    "## Грамматики зависимостей ( а это что?)\n",
    "Можно использовать то же предложение, поскольку неоднозначность проявляется и в представлении зависимостей.\n",
    "В NLTK можно примерно одинаково работать с CFG и зависимостями (`DependencyGrammar`)"
   ]
  },
  {
   "cell_type": "code",
   "execution_count": 9,
   "metadata": {},
   "outputs": [],
   "source": [
    "dep_rules = \"\"\"\n",
    "... 'shot' -> 'I' | 'elephant' | 'in' | 'morning'\n",
    "... 'morning' -> 'One'\n",
    "... 'elephant' -> 'an' | 'in'\n",
    "... 'in' -> 'pajamas'\n",
    "... 'pajamas' -> 'my'\n",
    "... \"\"\""
   ]
  },
  {
   "cell_type": "code",
   "execution_count": 10,
   "metadata": {},
   "outputs": [],
   "source": [
    "dep_grammar = nltk.DependencyGrammar.fromstring(dep_rules)"
   ]
  },
  {
   "cell_type": "code",
   "execution_count": 11,
   "metadata": {},
   "outputs": [
    {
     "name": "stdout",
     "output_type": "stream",
     "text": [
      "(shot (morning One) I (elephant an (in (pajamas my))))\n",
      "(shot (morning One) I (elephant an) (in (pajamas my)))\n"
     ]
    }
   ],
   "source": [
    "pdp = nltk.ProjectiveDependencyParser(dep_grammar)\n",
    "sent = 'One morning I shot an elephant in my pajamas'\n",
    "print_parses(pdp, sent)"
   ]
  },
  {
   "cell_type": "markdown",
   "metadata": {},
   "source": [
    "## Встроенные корпуса и грамматики NLTK"
   ]
  },
  {
   "cell_type": "markdown",
   "metadata": {},
   "source": [
    "В NLTK лежат уже размеченные корпуса деревьев. Они нам потом пригодятся."
   ]
  },
  {
   "cell_type": "code",
   "execution_count": 12,
   "metadata": {},
   "outputs": [
    {
     "name": "stderr",
     "output_type": "stream",
     "text": [
      "[nltk_data] Downloading package treebank to\n",
      "[nltk_data]     C:\\Users\\avorl\\AppData\\Roaming\\nltk_data...\n",
      "[nltk_data]   Unzipping corpora\\treebank.zip.\n"
     ]
    },
    {
     "data": {
      "text/plain": [
       "True"
      ]
     },
     "execution_count": 12,
     "metadata": {},
     "output_type": "execute_result"
    }
   ],
   "source": [
    "nltk.download('treebank')"
   ]
  },
  {
   "cell_type": "code",
   "execution_count": 13,
   "metadata": {},
   "outputs": [
    {
     "name": "stdout",
     "output_type": "stream",
     "text": [
      "[Tree('S', [Tree('NP-SBJ', [Tree('NP', [Tree('NNP', ['Pierre']), Tree('NNP', ['Vinken'])]), Tree(',', [',']), Tree('ADJP', [Tree('NP', [Tree('CD', ['61']), Tree('NNS', ['years'])]), Tree('JJ', ['old'])]), Tree(',', [','])]), Tree('VP', [Tree('MD', ['will']), Tree('VP', [Tree('VB', ['join']), Tree('NP', [Tree('DT', ['the']), Tree('NN', ['board'])]), Tree('PP-CLR', [Tree('IN', ['as']), Tree('NP', [Tree('DT', ['a']), Tree('JJ', ['nonexecutive']), Tree('NN', ['director'])])]), Tree('NP-TMP', [Tree('NNP', ['Nov.']), Tree('CD', ['29'])])])]), Tree('.', ['.'])]), Tree('S', [Tree('NP-SBJ', [Tree('NNP', ['Mr.']), Tree('NNP', ['Vinken'])]), Tree('VP', [Tree('VBZ', ['is']), Tree('NP-PRD', [Tree('NP', [Tree('NN', ['chairman'])]), Tree('PP', [Tree('IN', ['of']), Tree('NP', [Tree('NP', [Tree('NNP', ['Elsevier']), Tree('NNP', ['N.V.'])]), Tree(',', [',']), Tree('NP', [Tree('DT', ['the']), Tree('NNP', ['Dutch']), Tree('VBG', ['publishing']), Tree('NN', ['group'])])])])])]), Tree('.', ['.'])])]\n"
     ]
    }
   ],
   "source": [
    ">>> from nltk.corpus import treebank\n",
    ">>> t = treebank.parsed_sents('wsj_0001.mrg')\n",
    ">>> print(t)\n"
   ]
  },
  {
   "cell_type": "markdown",
   "metadata": {},
   "source": [
    "Посмотрите на эту программу и скажите, что она делает?"
   ]
  },
  {
   "cell_type": "code",
   "execution_count": 14,
   "metadata": {},
   "outputs": [],
   "source": [
    "def filter(tree):\n",
    "    child_nodes = [child.label() for child in tree\n",
    "                   if isinstance(child, nltk.Tree)]\n",
    "    return  (tree.label() == 'VP') and ('S' in child_nodes)"
   ]
  },
  {
   "cell_type": "code",
   "execution_count": 15,
   "metadata": {},
   "outputs": [
    {
     "name": "stdout",
     "output_type": "stream",
     "text": [
      "(S\n",
      "  (NP-SBJ\n",
      "    (NP (NNP Pierre) (NNP Vinken))\n",
      "    (, ,)\n",
      "    (ADJP (NP (CD 61) (NNS years)) (JJ old))\n",
      "    (, ,))\n",
      "  (VP\n",
      "    (MD will)\n",
      "    (VP\n",
      "      (VB join)\n",
      "      (NP (DT the) (NN board))\n",
      "      (PP-CLR (IN as) (NP (DT a) (JJ nonexecutive) (NN director)))\n",
      "      (NP-TMP (NNP Nov.) (CD 29))))\n",
      "  (. .))\n",
      "False\n",
      "(S\n",
      "  (NP-SBJ (NNP Mr.) (NNP Vinken))\n",
      "  (VP\n",
      "    (VBZ is)\n",
      "    (NP-PRD\n",
      "      (NP (NN chairman))\n",
      "      (PP\n",
      "        (IN of)\n",
      "        (NP\n",
      "          (NP (NNP Elsevier) (NNP N.V.))\n",
      "          (, ,)\n",
      "          (NP (DT the) (NNP Dutch) (VBG publishing) (NN group))))))\n",
      "  (. .))\n",
      "False\n"
     ]
    }
   ],
   "source": [
    "for tr in t:\n",
    "  print(tr)\n",
    "  print(filter(tr))"
   ]
  },
  {
   "cell_type": "markdown",
   "metadata": {},
   "source": [
    "Окей, но что нам делать с неоднозначностью?\n",
    "\n",
    "Когда размер грамматики увеличивается, то пропорционально увеливается и количество разборов. Не редко NLTK дают ложные разборы (потому что относительно точную грамматику составить, конечно, можно, но сложно)"
   ]
  },
  {
   "cell_type": "markdown",
   "metadata": {},
   "source": [
    "1. Плодить сущности"
   ]
  },
  {
   "cell_type": "code",
   "execution_count": 16,
   "metadata": {},
   "outputs": [],
   "source": [
    "rule_grammar = nltk.CFG.fromstring(\"\"\"\n",
    "VPpred -> Vpred Adj\n",
    "VPn -> Vn NP\t\n",
    "VPs -> Vs S\t\n",
    "VPdat -> Vdat Np NP\n",
    "VPphrase -> Vphrase NP PP\t\n",
    "Vpred -> 'was'\n",
    "Vn -> 'saw'\n",
    "Vs -> 'thought'\n",
    "Vphrase -> 'put'\n",
    "Vdat -> 'give'\n",
    " \"\"\")\n"
   ]
  },
  {
   "cell_type": "markdown",
   "metadata": {},
   "source": [
    "2. Weighted grammar"
   ]
  },
  {
   "cell_type": "markdown",
   "metadata": {},
   "source": [
    "У нас есть большой корпус деревьев в NLTK. Можно посчитать вероятность каждой конструкции. Чуть выше мы видели код, который найдет все Vp -> V S. Можно такие вычисления проделать для всего и добавить это в нашу грамматику в таком формате."
   ]
  },
  {
   "cell_type": "code",
   "execution_count": 17,
   "metadata": {},
   "outputs": [],
   "source": [
    "grammar = nltk.PCFG.fromstring(\"\"\"\n",
    "    S    -> NP VP              [1.0]\n",
    "    VP   -> TV NP              [0.4]\n",
    "    VP   -> IV                 [0.3]\n",
    "    VP   -> DatV NP NP         [0.3]\n",
    "    TV   -> 'saw'              [1.0]\n",
    "    IV   -> 'ate'              [1.0]\n",
    "    DatV -> 'gave'             [1.0]\n",
    "    NP   -> 'telescopes'       [0.8]\n",
    "    NP   -> 'Jack'             [0.2]\n",
    "    \"\"\")"
   ]
  },
  {
   "cell_type": "code",
   "execution_count": 18,
   "metadata": {},
   "outputs": [
    {
     "name": "stdout",
     "output_type": "stream",
     "text": [
      "(S (NP Jack) (VP (TV saw) (NP telescopes))) (p=0.064)\n"
     ]
    }
   ],
   "source": [
    ">>> viterbi_parser = nltk.ViterbiParser(grammar) #снова новый парсер\n",
    ">>> for tree in viterbi_parser.parse(['Jack', 'saw', 'telescopes']):\n",
    "...     print(tree)"
   ]
  },
  {
   "cell_type": "markdown",
   "metadata": {},
   "source": [
    "3. Морфлогия"
   ]
  },
  {
   "cell_type": "code",
   "execution_count": null,
   "metadata": {},
   "outputs": [],
   "source": [
    "VP[TENSE=?t, NUM=?n] -> V[SUBCAT=intrans, TENSE=?t, NUM=?n]\n",
    "VP[TENSE=?t, NUM=?n] -> V[SUBCAT=trans, TENSE=?t, NUM=?n] NP\n",
    "VP[TENSE=?t, NUM=?n] -> V[SUBCAT=clause, TENSE=?t, NUM=?n] SBar\n",
    "\n",
    "V[SUBCAT=intrans, TENSE=pres, NUM=sg] -> 'disappears' | 'walks'\n",
    "V[SUBCAT=trans, TENSE=pres, NUM=sg] -> 'sees' | 'likes'\n",
    "V[SUBCAT=clause, TENSE=pres, NUM=sg] -> 'says' | 'claims'\n",
    "\n",
    "V[SUBCAT=intrans, TENSE=pres, NUM=pl] -> 'disappear' | 'walk'\n",
    "V[SUBCAT=trans, TENSE=pres, NUM=pl] -> 'see' | 'like'\n",
    "V[SUBCAT=clause, TENSE=pres, NUM=pl] -> 'say' | 'claim'\n",
    "\n",
    "V[SUBCAT=intrans, TENSE=past, NUM=?n] -> 'disappeared' | 'walked'\n",
    "V[SUBCAT=trans, TENSE=past, NUM=?n] -> 'saw' | 'liked'\n",
    "V[SUBCAT=clause, TENSE=past, NUM=?n] -> 'said' | 'claimed'"
   ]
  },
  {
   "cell_type": "markdown",
   "metadata": {},
   "source": [
    "4. Всё вместе"
   ]
  },
  {
   "cell_type": "markdown",
   "metadata": {},
   "source": [
    "Задание 1.\n",
    "\n",
    "Любым доступным способом сделайте дерево для  Buffalo buffalo Buffalo buffalo buffalo buffalo Buffalo buffalo. Посмотрите на дерево по ссылке и напишите грамматику, чтобы получилось также и был только один вариант  http://en.wikipedia.org/wiki/Buffalo_buffalo_Buffalo_buffalo_buffalo_buffalo_Buffalo_buffalo. \n",
    "\n",
    "(можно сделать без применения средств дисамбигуации)"
   ]
  },
  {
   "cell_type": "code",
   "execution_count": 19,
   "metadata": {},
   "outputs": [],
   "source": [
    "# Your code"
   ]
  },
  {
   "cell_type": "markdown",
   "metadata": {},
   "source": [
    "## Разумеется, всё у нас уже готово в NLTK"
   ]
  },
  {
   "cell_type": "code",
   "execution_count": 20,
   "metadata": {},
   "outputs": [
    {
     "name": "stderr",
     "output_type": "stream",
     "text": [
      "[nltk_data] Downloading package book_grammars to\n",
      "[nltk_data]     C:\\Users\\avorl\\AppData\\Roaming\\nltk_data...\n",
      "[nltk_data]   Unzipping grammars\\book_grammars.zip.\n"
     ]
    },
    {
     "data": {
      "text/plain": [
       "True"
      ]
     },
     "execution_count": 20,
     "metadata": {},
     "output_type": "execute_result"
    }
   ],
   "source": [
    "nltk.download ('book_grammars')"
   ]
  },
  {
   "cell_type": "code",
   "execution_count": 21,
   "metadata": {},
   "outputs": [
    {
     "name": "stdout",
     "output_type": "stream",
     "text": [
      "% start S\n",
      "# ###################\n",
      "# Grammar Productions\n",
      "# ###################\n",
      "S[-INV] -> NP VP\n",
      "S[-INV]/?x -> NP VP/?x\n",
      "S[-INV] -> NP S/NP\n",
      "S[-INV] -> Adv[+NEG] S[+INV]\n",
      "S[+INV] -> V[+AUX] NP VP\n",
      "S[+INV]/?x -> V[+AUX] NP VP/?x\n",
      "SBar -> Comp S[-INV]\n",
      "SBar/?x -> Comp S[-INV]/?x\n",
      "VP -> V[SUBCAT=intrans, -AUX]\n",
      "VP -> V[SUBCAT=trans, -AUX] NP\n",
      "VP/?x -> V[SUBCAT=trans, -AUX] NP/?x\n",
      "VP -> V[SUBCAT=clause, -AUX] SBar\n",
      "VP/?x -> V[SUBCAT=clause, -AUX] SBar/?x\n",
      "VP -> V[+AUX] VP\n",
      "VP/?x -> V[+AUX] VP/?x\n",
      "# ###################\n",
      "# Lexical Productions\n",
      "# ###################\n",
      "V[SUBCAT=intrans, -AUX] -> 'walk' | 'sing'\n",
      "V[SUBCAT=trans, -AUX] -> 'see' | 'like'\n",
      "V[SUBCAT=clause, -AUX] -> 'say' | 'claim'\n",
      "V[+AUX] -> 'do' | 'can'\n",
      "NP[-WH] -> 'you' | 'cats'\n",
      "NP[+WH] -> 'who'\n",
      "Adv[+NEG] -> 'rarely' | 'never'\n",
      "NP/NP ->\n",
      "Comp -> 'that'\n"
     ]
    }
   ],
   "source": [
    "nltk.data.show_cfg('grammars/book_grammars/feat1.fcfg')"
   ]
  },
  {
   "cell_type": "code",
   "execution_count": 22,
   "metadata": {},
   "outputs": [
    {
     "name": "stdout",
     "output_type": "stream",
     "text": [
      "(S[-INV]\n",
      "  (NP[+WH] who)\n",
      "  (S[+INV]/NP[]\n",
      "    (V[+AUX] do)\n",
      "    (NP[-WH] you)\n",
      "    (VP[]/NP[]\n",
      "      (V[-AUX, SUBCAT='clause'] claim)\n",
      "      (SBar[]/NP[]\n",
      "        (Comp[] that)\n",
      "        (S[-INV]/NP[]\n",
      "          (NP[-WH] you)\n",
      "          (VP[]/NP[] (V[-AUX, SUBCAT='trans'] like) (NP[]/NP[] )))))))\n"
     ]
    }
   ],
   "source": [
    ">>> tokens = 'who do you claim that you like'.split()\n",
    ">>> from nltk import load_parser\n",
    ">>> cp = load_parser('grammars/book_grammars/feat1.fcfg')\n",
    ">>> for tree in cp.parse(tokens):\n",
    "...     print(tree)"
   ]
  },
  {
   "cell_type": "code",
   "execution_count": null,
   "metadata": {},
   "outputs": [],
   "source": []
  },
  {
   "cell_type": "markdown",
   "metadata": {},
   "source": [
    "## Выделение ключевых слов (keyword extraction)\n",
    "\n",
    "Наконец перейдем к основной теме занятия (UDPipe тоже может понадобиться).\n",
    "\n",
    "В основном алгоритмы выделения ключевых слов - \"unsupervised\", используют какие-то количественные данные о встречаемости слов в текстах, чтобы выделить самые значимые (звучит логично).\n",
    "\n",
    "Итак, от простого к сложному:\n",
    "* частоты слов / словосочетаний\n",
    "* ${tf} \\cdot {idf}$\n",
    "* C-value\n",
    "* RAKE\n",
    "* TextRank\n",
    "* ...\n",
    "\n",
    "Какие могут быть проблемы?.."
   ]
  },
  {
   "cell_type": "code",
   "execution_count": null,
   "metadata": {},
   "outputs": [],
   "source": [
    "#!pip3.7 install python-rake"
   ]
  },
  {
   "cell_type": "markdown",
   "metadata": {},
   "source": [
    "**RAKE** — это алгоритм для извлечения ключевых слов, который учитывает частоты отдельных слов и их совместную встречаемость. Сначала делим текст на слова (токены), затем по стоп-словам и маркерам границ фраз делим на фразы. Потом строим матрицу совместной встречаемости (все слова * все слова). Значимость слова оценивается, как отношение степени слова (сколько других слов встретилось с ним в фразе) к частоте слова.\n",
    "\n",
    "*Подробнее в слайдах к лекции.*"
   ]
  },
  {
   "cell_type": "markdown",
   "metadata": {},
   "source": [
    "Итак, нам нужны стоп-слова (забудем пока о границах фраз) и токенизация -> NLTK."
   ]
  },
  {
   "cell_type": "code",
   "execution_count": null,
   "metadata": {},
   "outputs": [],
   "source": [
    "import RAKE"
   ]
  },
  {
   "cell_type": "code",
   "execution_count": null,
   "metadata": {},
   "outputs": [],
   "source": [
    "import nltk"
   ]
  },
  {
   "cell_type": "code",
   "execution_count": null,
   "metadata": {},
   "outputs": [],
   "source": [
    "nltk.download('stopwords')"
   ]
  },
  {
   "cell_type": "code",
   "execution_count": null,
   "metadata": {},
   "outputs": [],
   "source": [
    "from nltk.corpus import stopwords"
   ]
  },
  {
   "cell_type": "code",
   "execution_count": null,
   "metadata": {},
   "outputs": [],
   "source": [
    "stop = stopwords.words('russian')"
   ]
  },
  {
   "cell_type": "code",
   "execution_count": null,
   "metadata": {},
   "outputs": [],
   "source": [
    "stop"
   ]
  },
  {
   "cell_type": "code",
   "execution_count": null,
   "metadata": {},
   "outputs": [],
   "source": [
    "# Инициализируем анализатор списком стоп-слов\n",
    "rake = RAKE.Rake(stop)"
   ]
  },
  {
   "cell_type": "code",
   "execution_count": null,
   "metadata": {},
   "outputs": [],
   "source": [
    "# Запускаем\n",
    "wiki_kw_list = rake.run(wiki_text, maxWords=3, minFrequency=2)"
   ]
  },
  {
   "cell_type": "code",
   "execution_count": null,
   "metadata": {},
   "outputs": [],
   "source": [
    "wiki_kw_list"
   ]
  },
  {
   "cell_type": "markdown",
   "metadata": {},
   "source": [
    "Можно вспомнить, что мы вытаскивали из этого текста именные группы. А часто именно они представляют собой ключевые фразы."
   ]
  },
  {
   "cell_type": "code",
   "execution_count": null,
   "metadata": {},
   "outputs": [],
   "source": [
    "set([x[0] for x in wiki_kw_list]) & set(flatten(result))"
   ]
  },
  {
   "cell_type": "markdown",
   "metadata": {},
   "source": [
    "Похоже, для отдельных слов можно применить лемматизацию и станет лучше.\n",
    "А ещё токенизировать красиво."
   ]
  },
  {
   "cell_type": "code",
   "execution_count": null,
   "metadata": {},
   "outputs": [],
   "source": [
    "from pymorphy2 import MorphAnalyzer\n",
    "from pymorphy2.tokenizers import simple_word_tokenize"
   ]
  },
  {
   "cell_type": "code",
   "execution_count": null,
   "metadata": {},
   "outputs": [],
   "source": [
    "m = MorphAnalyzer()\n",
    "def normalize_text(text):\n",
    "    lemmas = []\n",
    "    for t in simple_word_tokenize(text):\n",
    "        lemmas.append(\n",
    "            m.parse(t)[0].normal_form\n",
    "        )\n",
    "    return ' '.join(lemmas)"
   ]
  },
  {
   "cell_type": "code",
   "execution_count": null,
   "metadata": {},
   "outputs": [],
   "source": [
    "rake.run(normalize_text(wiki_text), maxWords=3, minFrequency=2)"
   ]
  },
  {
   "cell_type": "markdown",
   "metadata": {},
   "source": [
    "Выглядит симпатичнее. И словосочетания появились. \n",
    "\n",
    "*Бонус-трек для домашки*: можно оставить в тексте только именные группы и посмотреть, что получится."
   ]
  },
  {
   "cell_type": "markdown",
   "metadata": {},
   "source": [
    "Попробуем какой-нибудь другой жанр, например, **новости**."
   ]
  },
  {
   "cell_type": "code",
   "execution_count": null,
   "metadata": {},
   "outputs": [],
   "source": [
    "bbc_text = \"\"\"\n",
    "Королева Британии Елизавета II приняла решение отказаться от одежды и аксессуаров из натурального меха, сообщил Букингемский дворец. Некоторые королевские наряды уже перешиты.\n",
    "О том, что королева отказывается от натурального меха, написала в своей книге \"Другая сторона монеты: королева, модельер и платяной шкаф\" личный костюмер королевы Анджела Келли.\n",
    "\"Если Ее Величеству придется посещать какое-либо мероприятие в очень холодную погоду, с 2019 года, чтобы не замерзнуть, она будет надевать одежду из искусственного меха\", - рассказала личный костюмер королевы Анджела Келли.\n",
    "Пресс-секретарь Букингемского дворца подтвердил, что для пошива новой одежды для королевы при необходимости будет использоваться только искусственный мех.\n",
    "При этом, как уточнили в Букингемском дворце, королева продолжит носить те меховые изделия, которые были приобретены или созданы для нее ранее - от шляп до церемониальных мантий.\n",
    "В своей книге Анджела Келли рассказывает, что мех норки на пальто, которое было на королеве во время ее визита в Словакию в 2008 году, сейчас заменен на искусственный.\n",
    "Королеву неоднократно критиковали за то, что она продолжала носить меховые изделия, когда от использования меха отказались почти все модные дома, признав использование меха для изготовления одежды и аксессуаров жестоким решением.\n",
    "\"\"\""
   ]
  },
  {
   "cell_type": "code",
   "execution_count": null,
   "metadata": {},
   "outputs": [],
   "source": [
    "rake.run(bbc_text, minFrequency=2, maxWords=3)"
   ]
  },
  {
   "cell_type": "code",
   "execution_count": null,
   "metadata": {},
   "outputs": [],
   "source": [
    "rake.run(normalize_text(bbc_text), minFrequency=2, maxWords=3)"
   ]
  },
  {
   "cell_type": "markdown",
   "metadata": {},
   "source": [
    "А стоп-слова вообще работают? Давайте добавим слово \"который\"."
   ]
  },
  {
   "cell_type": "code",
   "execution_count": null,
   "metadata": {},
   "outputs": [],
   "source": [
    "stop.append('который')"
   ]
  },
  {
   "cell_type": "code",
   "execution_count": null,
   "metadata": {},
   "outputs": [],
   "source": [
    "rake = RAKE.Rake(stop)\n",
    "rake.run(normalize_text(bbc_text), minFrequency=2, maxWords=3)"
   ]
  },
  {
   "cell_type": "markdown",
   "metadata": {},
   "source": [
    "Ну и наконец сложно формализуемый текст."
   ]
  },
  {
   "cell_type": "code",
   "execution_count": null,
   "metadata": {},
   "outputs": [],
   "source": [
    "fiction_text = \"\"\"\n",
    "Ваши превосходительства, высокородия, благородия, граждане!\n",
    "– –\n",
    "Что есть Русская Империя наша?\n",
    "Русская Империя наша есть географическое единство, что значит: часть известной планеты. И Русская Империя заключает: во-первых – великую, малую, белую и червонную Русь; во-вторых – грузинское, польское, казанское и астраханское царство; в-третьих, она заключает… Но – прочая, прочая, прочая.\n",
    "Русская Империя наша состоит из множества городов: столичных, губернских, уездных, заштатных; и далее: – из первопрестольного града и матери градов русских.\n",
    "Град первопрестольный – Москва; и мать градов русских есть Киев.\n",
    "Петербург, или Санкт-Петербург, или Питер (что – то же) подлинно принадлежит Российской Империи. А Царьград, Константиноград (или, как говорят, Константинополь), принадлежит по праву наследия. И о нем распространяться не будем.\n",
    "Распространимся более о Петербурге: есть – Петербург, или Санкт-Петербург, или Питер (что – то же). На основании тех же суждений Невский Проспект есть петербургский Проспект.\n",
    "Невский Проспект обладает разительным свойством: он состоит из пространства для циркуляции публики; нумерованные дома ограничивают его; нумерация идет в порядке домов – и поиски нужного дома весьма облегчаются. Невский Проспект, как и всякий проспект, есть публичный проспект; то есть: проспект для циркуляции публики (не воздуха, например); образующие его боковые границы дома суть – гм… да:… для публики. Невский Проспект по вечерам освещается электричеством. Днем же Невский Проспект не требует освещения.\n",
    "Невский Проспект прямолинеен (говоря между нами), потому что он – европейский проспект; всякий же европейский проспект есть не просто проспект, а (как я уже сказал) проспект европейский, потому что… да…\n",
    "Потому что Невский Проспект – прямолинейный проспект.\n",
    "Невский Проспект – немаловажный проспект в сем не русском – столичном – граде. Прочие русские города представляют собой деревянную кучу домишек.\n",
    "И разительно от них всех отличается Петербург.\n",
    "Если же вы продолжаете утверждать нелепейшую легенду – существование полуторамиллионного московского населения – то придется сознаться, что столицей будет Москва, ибо только в столицах бывает полуторамиллионное население; а в городах же губернских никакого полуторамиллионного населения нет, не бывало, не будет. И согласно нелепой легенде окажется, что столица не Петербург.\n",
    "Если же Петербург не столица, то – нет Петербурга. Это только кажется, что он существует.\n",
    "Как бы то ни было, Петербург не только нам кажется, но и оказывается – на картах: в виде двух друг в друге сидящих кружков с черной точкою в центре; и из этой вот математической точки, не имеющей измерения, заявляет он энергично о том, что он – есть: оттуда, из этой вот точки, несется потоком рой отпечатанной книги; несется из этой невидимой точки стремительно циркуляр.\n",
    "\"\"\""
   ]
  },
  {
   "cell_type": "code",
   "execution_count": null,
   "metadata": {},
   "outputs": [],
   "source": [
    "rake.run(normalize_text(fiction_text), minFrequency=2, maxWords=3)"
   ]
  },
  {
   "cell_type": "markdown",
   "metadata": {},
   "source": [
    "**TextRank** — алгоритм, основанный на PageRank, но для текстов и слов, а не документов и запросов.\n",
    "\n",
    "Совместная встречаемость описывается графом, веса ребер которого — частоты. Затем запускаем случайное блуждание по графу и смотрим, в какие вершины попадали чаще всего.\n",
    "\n",
    "*Подробнее в слайдах к лекции.*"
   ]
  },
  {
   "cell_type": "code",
   "execution_count": null,
   "metadata": {},
   "outputs": [],
   "source": [
    "from gensim.summarization import keywords as kw"
   ]
  },
  {
   "cell_type": "code",
   "execution_count": null,
   "metadata": {},
   "outputs": [],
   "source": [
    "help(kw)"
   ]
  },
  {
   "cell_type": "code",
   "execution_count": null,
   "metadata": {},
   "outputs": [],
   "source": [
    "kw(normalize_text(fiction_text), pos_filter=[], scores=True)"
   ]
  },
  {
   "cell_type": "markdown",
   "metadata": {},
   "source": [
    "GenSim не фильтрует стоп-слова, но пытается внутри лемматизировать текст и приписать словам POS-теги.\n",
    "Для русского из коробки это не работает, но всегда можно отфильтровать именные группы, как сделано выше."
   ]
  },
  {
   "cell_type": "markdown",
   "metadata": {},
   "source": [
    "Другая библиотечка для суммаризации — **summa**. Она даже позволяет посмотреть на граф, по которому мы блуждаем."
   ]
  },
  {
   "cell_type": "code",
   "execution_count": null,
   "metadata": {},
   "outputs": [],
   "source": [
    "#!pip3.7 install summa"
   ]
  },
  {
   "cell_type": "code",
   "execution_count": null,
   "metadata": {},
   "outputs": [],
   "source": [
    "from summa import keywords"
   ]
  },
  {
   "cell_type": "code",
   "execution_count": null,
   "metadata": {},
   "outputs": [],
   "source": [
    "help(keywords)"
   ]
  },
  {
   "cell_type": "code",
   "execution_count": null,
   "metadata": {},
   "outputs": [],
   "source": [
    "keywords.keywords(normalize_text(wiki_text), additional_stopwords=stop, scores=True)"
   ]
  },
  {
   "cell_type": "code",
   "execution_count": null,
   "metadata": {},
   "outputs": [],
   "source": [
    "G = keywords.get_graph(wiki_text)"
   ]
  },
  {
   "cell_type": "code",
   "execution_count": null,
   "metadata": {},
   "outputs": [],
   "source": [
    "help(G)"
   ]
  },
  {
   "cell_type": "code",
   "execution_count": null,
   "metadata": {},
   "outputs": [],
   "source": [
    "for edge in G.edges():\n",
    "    print(edge, G.edge_weight(edge))"
   ]
  },
  {
   "cell_type": "code",
   "execution_count": null,
   "metadata": {},
   "outputs": [],
   "source": []
  }
 ],
 "metadata": {
  "kernelspec": {
   "display_name": "Python 3",
   "language": "python",
   "name": "python3"
  },
  "language_info": {
   "codemirror_mode": {
    "name": "ipython",
    "version": 3
   },
   "file_extension": ".py",
   "mimetype": "text/x-python",
   "name": "python",
   "nbconvert_exporter": "python",
   "pygments_lexer": "ipython3",
   "version": "3.8.3"
  }
 },
 "nbformat": 4,
 "nbformat_minor": 2
}
