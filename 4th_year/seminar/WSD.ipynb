{
 "cells": [
  {
   "cell_type": "code",
   "execution_count": 1,
   "metadata": {},
   "outputs": [
    {
     "name": "stdout",
     "output_type": "stream",
     "text": [
      "Collecting simple-elmo\n",
      "  Downloading https://files.pythonhosted.org/packages/76/20/41f8a3a194786c1dd815e07a071eadb709a9ea7420163ec828829dd863ea/simple_elmo-0.6.0-py3-none-any.whl\n",
      "Requirement already satisfied: pandas in /usr/local/lib/python3.7/site-packages (from simple-elmo) (0.24.2)\n",
      "Requirement already satisfied: smart-open>1.8.1 in /usr/local/lib/python3.7/site-packages (from simple-elmo) (1.8.3)\n",
      "Requirement already satisfied: h5py in /usr/local/lib/python3.7/site-packages (from simple-elmo) (2.10.0)\n",
      "Requirement already satisfied: numpy in /usr/local/lib/python3.7/site-packages (from simple-elmo) (1.16.4)\n",
      "Requirement already satisfied: python-dateutil>=2.5.0 in /usr/local/lib/python3.7/site-packages (from pandas->simple-elmo) (2.8.0)\n",
      "Requirement already satisfied: pytz>=2011k in /usr/local/lib/python3.7/site-packages (from pandas->simple-elmo) (2019.1)\n",
      "Requirement already satisfied: requests in /usr/local/lib/python3.7/site-packages (from smart-open>1.8.1->simple-elmo) (2.21.0)\n",
      "Requirement already satisfied: boto3 in /usr/local/lib/python3.7/site-packages (from smart-open>1.8.1->simple-elmo) (1.9.158)\n",
      "Requirement already satisfied: boto>=2.32 in /usr/local/lib/python3.7/site-packages (from smart-open>1.8.1->simple-elmo) (2.49.0)\n",
      "Requirement already satisfied: six in /usr/local/lib/python3.7/site-packages (from h5py->simple-elmo) (1.12.0)\n",
      "Requirement already satisfied: chardet<3.1.0,>=3.0.2 in /usr/local/lib/python3.7/site-packages (from requests->smart-open>1.8.1->simple-elmo) (3.0.4)\n",
      "Requirement already satisfied: idna<2.9,>=2.5 in /usr/local/lib/python3.7/site-packages (from requests->smart-open>1.8.1->simple-elmo) (2.8)\n",
      "Requirement already satisfied: certifi>=2017.4.17 in /usr/local/lib/python3.7/site-packages (from requests->smart-open>1.8.1->simple-elmo) (2019.3.9)\n",
      "Requirement already satisfied: urllib3<1.25,>=1.21.1 in /usr/local/lib/python3.7/site-packages (from requests->smart-open>1.8.1->simple-elmo) (1.24.3)\n",
      "Requirement already satisfied: botocore<1.13.0,>=1.12.158 in /usr/local/lib/python3.7/site-packages (from boto3->smart-open>1.8.1->simple-elmo) (1.12.158)\n",
      "Requirement already satisfied: jmespath<1.0.0,>=0.7.1 in /usr/local/lib/python3.7/site-packages (from boto3->smart-open>1.8.1->simple-elmo) (0.9.4)\n",
      "Requirement already satisfied: s3transfer<0.3.0,>=0.2.0 in /usr/local/lib/python3.7/site-packages (from boto3->smart-open>1.8.1->simple-elmo) (0.2.0)\n",
      "Requirement already satisfied: docutils>=0.10 in /usr/local/lib/python3.7/site-packages (from botocore<1.13.0,>=1.12.158->boto3->smart-open>1.8.1->simple-elmo) (0.14)\n",
      "Installing collected packages: simple-elmo\n",
      "Successfully installed simple-elmo-0.6.0\n"
     ]
    }
   ],
   "source": [
    "!pip3.7 install simple-elmo"
   ]
  },
  {
   "cell_type": "code",
   "execution_count": 15,
   "metadata": {},
   "outputs": [],
   "source": [
    "# библиотеки для работы с эмбеддингами\n",
    "import adagram\n",
    "from simple_elmo import ElmoModel\n",
    "\n",
    "# обработка данных и ML\n",
    "import pandas as pd\n",
    "from lxml import html\n",
    "from nltk.tokenize import RegexpTokenizer\n",
    "from nltk.corpus import stopwords\n",
    "from pymorphy2 import MorphAnalyzer\n",
    "from pymystem3 import Mystem\n",
    "from tqdm.notebook import tqdm\n",
    "from sklearn.metrics import adjusted_rand_score\n",
    "from sklearn.decomposition import PCA\n",
    "from sklearn.cluster import *\n",
    "from collections import Counter\n",
    "import numpy as np\n",
    "from matplotlib import pyplot as plt\n",
    "%matplotlib inline\n",
    "import warnings\n",
    "warnings.filterwarnings('ignore')\n",
    "\n",
    "\n",
    "morph = MorphAnalyzer()\n",
    "token = RegexpTokenizer('\\w+')\n",
    "stops = set(stopwords.words('russian'))\n",
    "\n",
    "def normalize(text):\n",
    "    words = [morph.parse(word)[0].normal_form for word in tokenize(text) if word]\n",
    "    return words\n",
    "\n",
    "def tokenize(text):\n",
    "    return token.tokenize(text)"
   ]
  },
  {
   "cell_type": "markdown",
   "metadata": {},
   "source": [
    "## Адаграм"
   ]
  },
  {
   "cell_type": "markdown",
   "metadata": {},
   "source": [
    "Word2Vec и многие другие векторные модели сопоставляют 1 вектор. Это значит, что у каждого слова в векторном пространстве только 1 значение. У многозначных слов векторы будут просто каким-то усреднением или обобщением всех его значений. \n",
    "\n",
    "В работе https://arxiv.org/pdf/1502.07257.pdf предлагается способ улучшить Skip Gram, так чтобы каждому слову сопоставлялось K различных векторов, так что каждый из них представляет какое-то из его значений. При этом сам параметр K задавать не нужно, модель сама находит нужное количество \"значений\" для каждого слова.\n",
    "\n",
    "Изначально этот  подход реализован на julia, но есть реализация на питоне - https://github.com/lopuhin/python-adagram"
   ]
  },
  {
   "cell_type": "code",
   "execution_count": 4,
   "metadata": {},
   "outputs": [
    {
     "name": "stdout",
     "output_type": "stream",
     "text": [
      "  % Total    % Received % Xferd  Average Speed   Time    Time     Time  Current\n",
      "                                 Dload  Upload   Total   Spent    Left  Speed\n",
      "100 1394M  100 1394M    0     0  12.1M      0  0:01:55  0:01:55 --:--:-- 13.1M9653k:01:53  0:00:11  0:01:42 13.3M0  0:00:15  0:01:35 13.3M:01:13 10.9M\n"
     ]
    }
   ],
   "source": [
    "!curl \"https://s3.amazonaws.com/kostia.lopuhin/all.a010.p10.d300.w5.m100.nonorm.slim.joblib\" > all.a010.p10.d300.w5.m100.nonorm.slim.joblib"
   ]
  },
  {
   "cell_type": "code",
   "execution_count": 5,
   "metadata": {},
   "outputs": [],
   "source": [
    "vm = adagram.VectorModel.load('all.a010.p10.d300.w5.m100.nonorm.slim.joblib')"
   ]
  },
  {
   "cell_type": "markdown",
   "metadata": {},
   "source": [
    "Посмотрим на значения каких-нибудь слов: эти \"значения\"  задаются индексами, у каждого есть вероятность."
   ]
  },
  {
   "cell_type": "code",
   "execution_count": 7,
   "metadata": {},
   "outputs": [
    {
     "data": {
      "text/plain": [
       "[(0, 0.13080149644282904),\n",
       " (1, 0.21073024350994726),\n",
       " (2, 0.2956921249405029),\n",
       " (3, 0.14701596077005963),\n",
       " (4, 0.21575999977552957)]"
      ]
     },
     "execution_count": 7,
     "metadata": {},
     "output_type": "execute_result"
    }
   ],
   "source": [
    "vm.word_sense_probs('вечер')"
   ]
  },
  {
   "cell_type": "markdown",
   "metadata": {},
   "source": [
    "Посмотрим какие слова близки к каждому из значений."
   ]
  },
  {
   "cell_type": "code",
   "execution_count": 8,
   "metadata": {},
   "outputs": [
    {
     "data": {
      "text/plain": [
       "[('концерт', 0, 0.7144409),\n",
       " ('абонемент', 2, 0.6624344),\n",
       " ('гала-концерт', 0, 0.6443357),\n",
       " ('программа', 5, 0.64056844),\n",
       " ('бал', 0, 0.6292274),\n",
       " ('музыкально-поэтический', 0, 0.60767984),\n",
       " ('выступление', 2, 0.60689574),\n",
       " ('цдри', 0, 0.60517657),\n",
       " ('состояться', 1, 0.594547),\n",
       " ('органный', 0, 0.5825637)]"
      ]
     },
     "execution_count": 8,
     "metadata": {},
     "output_type": "execute_result"
    }
   ],
   "source": [
    "vm.sense_neighbors('вечер', 0)"
   ]
  },
  {
   "cell_type": "code",
   "execution_count": 9,
   "metadata": {},
   "outputs": [
    {
     "data": {
      "text/plain": [
       "[('утро', 3, 0.7549074),\n",
       " ('ночь', 0, 0.72731614),\n",
       " ('полдень', 0, 0.6854935),\n",
       " ('зимний', 1, 0.6458328),\n",
       " ('апрельский', 1, 0.63833475),\n",
       " ('летний', 0, 0.61566144),\n",
       " ('августовский', 1, 0.61506253),\n",
       " ('погожий', 0, 0.60568976),\n",
       " ('осенний', 0, 0.60227585),\n",
       " ('январский', 0, 0.59733826)]"
      ]
     },
     "execution_count": 9,
     "metadata": {},
     "output_type": "execute_result"
    }
   ],
   "source": [
    "vm.sense_neighbors('вечер', 1)"
   ]
  },
  {
   "cell_type": "code",
   "execution_count": 10,
   "metadata": {},
   "outputs": [
    {
     "data": {
      "text/plain": [
       "[('ночь', 3, 0.75746113),\n",
       " ('утро', 2, 0.7372704),\n",
       " ('завтра', 1, 0.65727353),\n",
       " ('сегодня', 2, 0.61901164),\n",
       " ('утро', 6, 0.58885354),\n",
       " ('день', 0, 0.5881707),\n",
       " ('вчера', 1, 0.586063),\n",
       " ('обед', 3, 0.578071),\n",
       " ('полдень', 3, 0.5492313),\n",
       " ('приходить', 0, 0.5457571)]"
      ]
     },
     "execution_count": 10,
     "metadata": {},
     "output_type": "execute_result"
    }
   ],
   "source": [
    "vm.sense_neighbors('вечер', 2)"
   ]
  },
  {
   "cell_type": "markdown",
   "metadata": {},
   "source": [
    "ВОПРОС! Как можно дизамбигуировать контексты, используя соседей для каждого значения?"
   ]
  },
  {
   "cell_type": "markdown",
   "metadata": {},
   "source": [
    "Можно посмотреть на все слова у которых есть хотя бы 2 устойчивых значения."
   ]
  },
  {
   "cell_type": "code",
   "execution_count": 11,
   "metadata": {},
   "outputs": [
    {
     "name": "stdout",
     "output_type": "stream",
     "text": [
      "['и', 'в', 'не', 'на', 'быть', 'что', 'я', 'с', 'он', 'а', 'как', 'это', 'по', 'этот', 'к', 'они', 'то', 'но', 'она', 'который', 'из', 'год', 'мы', 'свой', 'весь', 'от', 'у', 'за', 'для', 'вы', 'так', 'о', 'все', 'мочь', 'же', 'человек', 'ты', 'один', 'тот', 'такой', 'или', 'его', 'если', 'только', 'себя', 'бы', 'время', 'до', 'еще', 'когда']\n"
     ]
    }
   ],
   "source": [
    "ambiguous = []\n",
    "for i, word in enumerate(vm.dictionary.id2word):\n",
    "    probs = vm.word_sense_probs(word)\n",
    "    if len(probs) > 1:\n",
    "        ambiguous.append(word)\n",
    "print(ambiguous[:50])"
   ]
  },
  {
   "cell_type": "code",
   "execution_count": 16,
   "metadata": {},
   "outputs": [],
   "source": [
    "means = vm.disambiguate('вечер', normalize(\"Ради любви родителей, ради того, чтобы они снова также танцевали в их гостиной, наслаждаясь милыми семейными\"))"
   ]
  },
  {
   "cell_type": "code",
   "execution_count": 17,
   "metadata": {},
   "outputs": [
    {
     "data": {
      "text/plain": [
       "[('ночь', 2, 0.71722674),\n",
       " ('утро', 0, 0.67342365),\n",
       " ('воскресение', 2, 0.6373367),\n",
       " ('утро', 5, 0.63327533),\n",
       " ('выходной', 2, 0.60548764),\n",
       " ('просыпаться', 0, 0.59937185),\n",
       " ('полдень', 3, 0.5965072),\n",
       " ('пятница', 3, 0.5960661),\n",
       " ('вечерок', 0, 0.589052),\n",
       " ('обед', 1, 0.57446516)]"
      ]
     },
     "execution_count": 17,
     "metadata": {},
     "output_type": "execute_result"
    }
   ],
   "source": [
    "vm.sense_neighbors('вечер', np.argmax(means))"
   ]
  },
  {
   "cell_type": "code",
   "execution_count": 18,
   "metadata": {},
   "outputs": [],
   "source": [
    "means = vm.disambiguate('вечер', normalize(\"абонемент № 19 \\\"Камерные \\\" включает в себя и концерт лауреата последнего Конкурса Чайковского\"))"
   ]
  },
  {
   "cell_type": "code",
   "execution_count": 19,
   "metadata": {},
   "outputs": [
    {
     "data": {
      "text/plain": [
       "[('концерт', 0, 0.7144409),\n",
       " ('абонемент', 2, 0.6624344),\n",
       " ('гала-концерт', 0, 0.6443357),\n",
       " ('программа', 5, 0.64056844),\n",
       " ('бал', 0, 0.6292274),\n",
       " ('музыкально-поэтический', 0, 0.60767984),\n",
       " ('выступление', 2, 0.60689574),\n",
       " ('цдри', 0, 0.60517657),\n",
       " ('состояться', 1, 0.594547),\n",
       " ('органный', 0, 0.5825637)]"
      ]
     },
     "execution_count": 19,
     "metadata": {},
     "output_type": "execute_result"
    }
   ],
   "source": [
    "vm.sense_neighbors('вечер', np.argmax(means))"
   ]
  },
  {
   "cell_type": "markdown",
   "metadata": {},
   "source": [
    "## WSD / WSI\n",
    "Разрешение семантической/лексической неоднозначности/омонимии\n",
    "\n",
    "Проверим, насколько хорошо выбирается значение на данных с [соревнования Диалога](http://www.dialog-21.ru/evaluation/2018/disambiguation/) (переиспользую [baseline](https://github.com/nlpub/russe-wsi-kit) соревнования)\n",
    "\n",
    "**NB!** Большая модель AdaGram для русского языка, которую мы используем, обучена на корпусе с нормализацией *mystem*. Так что немного модифицируем нашу функцию нормализации."
   ]
  },
  {
   "cell_type": "code",
   "execution_count": 20,
   "metadata": {},
   "outputs": [],
   "source": [
    "mystem = Mystem()\n",
    "\n",
    "def lemmatized_context(s):\n",
    "    return [w.lower() for w in mystem.lemmatize(\" \".join(tokenize(s)))]\n",
    "\n",
    "def disambiguate(model, word, context):\n",
    "    word, _ = lemmatized_context(word)\n",
    "    probs = model.disambiguate(word, lemmatized_context(context))\n",
    "    return 1 + probs.argmax()\n"
   ]
  },
  {
   "cell_type": "code",
   "execution_count": 22,
   "metadata": {},
   "outputs": [],
   "source": [
    "df = pd.read_csv('../train.baseline-adagram.csv', sep='\\t')"
   ]
  },
  {
   "cell_type": "code",
   "execution_count": 23,
   "metadata": {},
   "outputs": [],
   "source": [
    "pd.set_option('display.max_colwidth', 1000)"
   ]
  },
  {
   "cell_type": "code",
   "execution_count": 24,
   "metadata": {
    "scrolled": true
   },
   "outputs": [
    {
     "data": {
      "text/html": [
       "<div>\n",
       "<style scoped>\n",
       "    .dataframe tbody tr th:only-of-type {\n",
       "        vertical-align: middle;\n",
       "    }\n",
       "\n",
       "    .dataframe tbody tr th {\n",
       "        vertical-align: top;\n",
       "    }\n",
       "\n",
       "    .dataframe thead th {\n",
       "        text-align: right;\n",
       "    }\n",
       "</style>\n",
       "<table border=\"1\" class=\"dataframe\">\n",
       "  <thead>\n",
       "    <tr style=\"text-align: right;\">\n",
       "      <th></th>\n",
       "      <th>context_id</th>\n",
       "      <th>word</th>\n",
       "      <th>gold_sense_id</th>\n",
       "      <th>predict_sense_id</th>\n",
       "      <th>positions</th>\n",
       "      <th>context</th>\n",
       "    </tr>\n",
       "  </thead>\n",
       "  <tbody>\n",
       "    <tr>\n",
       "      <th>0</th>\n",
       "      <td>1</td>\n",
       "      <td>замок</td>\n",
       "      <td>1</td>\n",
       "      <td>1</td>\n",
       "      <td>0-5, 339-344</td>\n",
       "      <td>замок владимира мономаха в любече . многочисленные укрепленные монастыри также не являлись замками как таковыми — это были крепости . ранние европейские замки строились преимущественно из дерева они опоясывались деревянной оградой — палисадом уже тогда вокруг замков стали появляться рвы . примером такого замка может служить вышгородский замок киевских князей . каменное замковое строительство распространилось в западной и центральной европе лишь к xii веку . главной частью средневекового замка являлась центральная башня — донжон , выполнявшая функции цитадели . помимо своих оборонительных функций , донжон являлся непосредственным жилищем феодала . также в главной башне</td>\n",
       "    </tr>\n",
       "    <tr>\n",
       "      <th>1</th>\n",
       "      <td>2</td>\n",
       "      <td>замок</td>\n",
       "      <td>1</td>\n",
       "      <td>1</td>\n",
       "      <td>11-16, 17-22, 188-193</td>\n",
       "      <td>шильонский замок замок шильйон ( ) , известный в русскоязычной литературе как шильо́нский за́мок , расположен на швейцарской ривьере , у кромки женевского озера , в  км от города монтре . замок представляет собой комплекс из элементов разного времени постройки .</td>\n",
       "    </tr>\n",
       "    <tr>\n",
       "      <th>2</th>\n",
       "      <td>3</td>\n",
       "      <td>замок</td>\n",
       "      <td>1</td>\n",
       "      <td>1</td>\n",
       "      <td>299-304</td>\n",
       "      <td>проведения архитектурно - археологических работ эстонским реставрационным управлением под руководством архитектора х .  и .  потти , искусствоведа е .  а .  кальюнди и при научной консультации доктора исторических наук п .  а .  рапопорта . с года музей называется государственным музеем выборгский замок .</td>\n",
       "    </tr>\n",
       "    <tr>\n",
       "      <th>3</th>\n",
       "      <td>4</td>\n",
       "      <td>замок</td>\n",
       "      <td>1</td>\n",
       "      <td>1</td>\n",
       "      <td>111-116</td>\n",
       "      <td>топи с . , л . белокуров легенда о завещании мавра с . , н . юсупов день рождения с . , р . янушкевич янтарный замок с . .</td>\n",
       "    </tr>\n",
       "    <tr>\n",
       "      <th>4</th>\n",
       "      <td>5</td>\n",
       "      <td>замок</td>\n",
       "      <td>1</td>\n",
       "      <td>1</td>\n",
       "      <td>134-139, 262-267</td>\n",
       "      <td>великий князь литовский гедимин после успешной охоты обнаружил прекрасное место недалеко от города кернаве , решил воздвигнуть на нем замок и перенести сюда столицу . во второй половине xiv века здесь , в старых троках ( \" сянейи тракай \" ) , уже стоял каменный замок . правил им в — сын гедимина трокский князь кейстут . около года в этом замке родился витовт . в году кейстут перенес свою столицу из старых трок</td>\n",
       "    </tr>\n",
       "  </tbody>\n",
       "</table>\n",
       "</div>"
      ],
      "text/plain": [
       "   context_id   word  gold_sense_id  predict_sense_id              positions  \\\n",
       "0           1  замок              1                 1           0-5, 339-344   \n",
       "1           2  замок              1                 1  11-16, 17-22, 188-193   \n",
       "2           3  замок              1                 1                299-304   \n",
       "3           4  замок              1                 1                111-116   \n",
       "4           5  замок              1                 1       134-139, 262-267   \n",
       "\n",
       "                                                                                                                                                                                                                                                                                                                                                                                                                                                                                                                                                                                                                                                                                                context  \n",
       "0  замок владимира мономаха в любече . многочисленные укрепленные монастыри также не являлись замками как таковыми — это были крепости . ранние европейские замки строились преимущественно из дерева они опоясывались деревянной оградой — палисадом уже тогда вокруг замков стали появляться рвы . примером такого замка может служить вышгородский замок киевских князей . каменное замковое строительство распространилось в западной и центральной европе лишь к xii веку . главной частью средневекового замка являлась центральная башня — донжон , выполнявшая функции цитадели . помимо своих оборонительных функций , донжон являлся непосредственным жилищем феодала . также в главной башне  \n",
       "1                                                                                                                                                                                                                                                                                                                                                                                                                                шильонский замок замок шильйон ( ) , известный в русскоязычной литературе как шильо́нский за́мок , расположен на швейцарской ривьере , у кромки женевского озера , в  км от города монтре . замок представляет собой комплекс из элементов разного времени постройки .  \n",
       "2                                                                                                                                                                                                                                                                                                                                                                                    проведения архитектурно - археологических работ эстонским реставрационным управлением под руководством архитектора х .  и .  потти , искусствоведа е .  а .  кальюнди и при научной консультации доктора исторических наук п .  а .  рапопорта . с года музей называется государственным музеем выборгский замок .  \n",
       "3                                                                                                                                                                                                                                                                                                                                                                                                                                                                                                                                                                            топи с . , л . белокуров легенда о завещании мавра с . , н . юсупов день рождения с . , р . янушкевич янтарный замок с . .  \n",
       "4                                                                                                                                                                                                                                                                         великий князь литовский гедимин после успешной охоты обнаружил прекрасное место недалеко от города кернаве , решил воздвигнуть на нем замок и перенести сюда столицу . во второй половине xiv века здесь , в старых троках ( \" сянейи тракай \" ) , уже стоял каменный замок . правил им в — сын гедимина трокский князь кейстут . около года в этом замке родился витовт . в году кейстут перенес свою столицу из старых трок  "
      ]
     },
     "execution_count": 24,
     "metadata": {},
     "output_type": "execute_result"
    }
   ],
   "source": [
    "df.head(5)"
   ]
  },
  {
   "cell_type": "code",
   "execution_count": 25,
   "metadata": {
    "scrolled": true
   },
   "outputs": [
    {
     "data": {
      "application/vnd.jupyter.widget-view+json": {
       "model_id": "d739c208f74e429c919ecf101df11e45",
       "version_major": 2,
       "version_minor": 0
      },
      "text/plain": [
       "HBox(children=(IntProgress(value=0, max=439), HTML(value='')))"
      ]
     },
     "metadata": {},
     "output_type": "display_data"
    },
    {
     "name": "stdout",
     "output_type": "stream",
     "text": [
      "\n"
     ]
    }
   ],
   "source": [
    "df['predict_sense_id'] = [disambiguate(vm, word, context)\n",
    "                          for word, context in tqdm(zip(df['word'], df['context']), total=len(df))]"
   ]
  },
  {
   "cell_type": "code",
   "execution_count": 26,
   "metadata": {},
   "outputs": [
    {
     "name": "stdout",
     "output_type": "stream",
     "text": [
      "Mean word ARI: 0.4323\n"
     ]
    }
   ],
   "source": [
    "per_word = df.groupby('word').apply(\n",
    "    lambda f: adjusted_rand_score(f['gold_sense_id'], f['predict_sense_id'])\n",
    ").to_frame('ARI')\n",
    "per_word_ari = per_word['ARI']\n",
    "print('Mean word ARI: %.4f' % np.mean(per_word_ari))"
   ]
  },
  {
   "cell_type": "code",
   "execution_count": 27,
   "metadata": {},
   "outputs": [
    {
     "data": {
      "text/html": [
       "<div>\n",
       "<style scoped>\n",
       "    .dataframe tbody tr th:only-of-type {\n",
       "        vertical-align: middle;\n",
       "    }\n",
       "\n",
       "    .dataframe tbody tr th {\n",
       "        vertical-align: top;\n",
       "    }\n",
       "\n",
       "    .dataframe thead th {\n",
       "        text-align: right;\n",
       "    }\n",
       "</style>\n",
       "<table border=\"1\" class=\"dataframe\">\n",
       "  <thead>\n",
       "    <tr style=\"text-align: right;\">\n",
       "      <th></th>\n",
       "      <th>ARI</th>\n",
       "    </tr>\n",
       "    <tr>\n",
       "      <th>word</th>\n",
       "      <th></th>\n",
       "    </tr>\n",
       "  </thead>\n",
       "  <tbody>\n",
       "    <tr>\n",
       "      <th>бор</th>\n",
       "      <td>0.591175</td>\n",
       "    </tr>\n",
       "    <tr>\n",
       "      <th>замок</th>\n",
       "      <td>0.495386</td>\n",
       "    </tr>\n",
       "    <tr>\n",
       "      <th>лук</th>\n",
       "      <td>0.637076</td>\n",
       "    </tr>\n",
       "    <tr>\n",
       "      <th>суда</th>\n",
       "      <td>0.005465</td>\n",
       "    </tr>\n",
       "  </tbody>\n",
       "</table>\n",
       "</div>"
      ],
      "text/plain": [
       "            ARI\n",
       "word           \n",
       "бор    0.591175\n",
       "замок  0.495386\n",
       "лук    0.637076\n",
       "суда   0.005465"
      ]
     },
     "execution_count": 27,
     "metadata": {},
     "output_type": "execute_result"
    }
   ],
   "source": [
    "per_word"
   ]
  },
  {
   "cell_type": "markdown",
   "metadata": {},
   "source": [
    "В качестве метрики используется [Adjuster Rand Index](https://en.wikipedia.org/wiki/Rand_index), а [вот ссылка на документацию](http://scikit-learn.org/stable/modules/generated/sklearn.metrics.adjusted_rand_score.html)."
   ]
  },
  {
   "cell_type": "markdown",
   "metadata": {},
   "source": [
    "## Contextualized embeddings\n",
    "[ELMo](https://arxiv.org/pdf/1802.05365.pdf) — модель, которая позволяет получить не просто вектор слова W,\n",
    "а _вектор слова W в контексте C_.\n",
    "Что происходит?\n",
    "Обучаем двунаправленную (bidirectional) языковую модель примерно так*:\n",
    "\n",
    "<img src=\"https://jalammar.github.io/images/Bert-language-modeling.png\" alt=\"elmo\" width=\"400\"/>\n",
    "\n",
    "Но затем мы не просто берем какие-то представления отдельных слов, а сохраняем все веса и пропускаем каждое \n",
    "предложение для новой задачи через такую сетку с этими весами. Получаем вектора для всех слов в предложении из нескольких слоев!\n",
    "\n",
    "\\* картинка из [блога](https://jalammar.github.io/) чувака по имени Jay Allamar, кстати, очень доступные объяснения всяких NLP-штук с картинками"
   ]
  },
  {
   "cell_type": "markdown",
   "metadata": {},
   "source": [
    "С ELMo легко работать с помощью библиотеки simple_elmo."
   ]
  },
  {
   "cell_type": "code",
   "execution_count": 28,
   "metadata": {},
   "outputs": [
    {
     "name": "stderr",
     "output_type": "stream",
     "text": [
      "2020-12-10 16:16:51,103 : INFO : Loading model from 196...\n",
      "2020-12-10 16:16:51,121 : INFO : We will cache the vocabulary of 100 tokens.\n"
     ]
    },
    {
     "name": "stdout",
     "output_type": "stream",
     "text": [
      "WARNING:tensorflow:From /usr/local/lib/python3.7/site-packages/simple_elmo/model.py:531: LSTMCell.__init__ (from tensorflow.python.ops.rnn_cell_impl) is deprecated and will be removed in a future version.\n",
      "Instructions for updating:\n",
      "This class is equivalent as tf.keras.layers.LSTMCell, and will be replaced by that in Tensorflow 2.0.\n"
     ]
    },
    {
     "name": "stderr",
     "output_type": "stream",
     "text": [
      "2020-12-10 16:16:52,959 : WARNING : From /usr/local/lib/python3.7/site-packages/simple_elmo/model.py:531: LSTMCell.__init__ (from tensorflow.python.ops.rnn_cell_impl) is deprecated and will be removed in a future version.\n",
      "Instructions for updating:\n",
      "This class is equivalent as tf.keras.layers.LSTMCell, and will be replaced by that in Tensorflow 2.0.\n"
     ]
    },
    {
     "name": "stdout",
     "output_type": "stream",
     "text": [
      "WARNING:tensorflow:From /usr/local/lib/python3.7/site-packages/simple_elmo/model.py:575: dynamic_rnn (from tensorflow.python.ops.rnn) is deprecated and will be removed in a future version.\n",
      "Instructions for updating:\n",
      "Please use `keras.layers.RNN(cell)`, which is equivalent to this API\n"
     ]
    },
    {
     "name": "stderr",
     "output_type": "stream",
     "text": [
      "2020-12-10 16:16:52,976 : WARNING : From /usr/local/lib/python3.7/site-packages/simple_elmo/model.py:575: dynamic_rnn (from tensorflow.python.ops.rnn) is deprecated and will be removed in a future version.\n",
      "Instructions for updating:\n",
      "Please use `keras.layers.RNN(cell)`, which is equivalent to this API\n"
     ]
    },
    {
     "name": "stdout",
     "output_type": "stream",
     "text": [
      "WARNING:tensorflow:From /usr/local/lib/python3.7/site-packages/tensorflow/python/ops/init_ops.py:1251: calling VarianceScaling.__init__ (from tensorflow.python.ops.init_ops) with dtype is deprecated and will be removed in a future version.\n",
      "Instructions for updating:\n",
      "Call initializer instance with the dtype argument instead of passing it to the constructor\n"
     ]
    },
    {
     "name": "stderr",
     "output_type": "stream",
     "text": [
      "2020-12-10 16:16:53,064 : WARNING : From /usr/local/lib/python3.7/site-packages/tensorflow/python/ops/init_ops.py:1251: calling VarianceScaling.__init__ (from tensorflow.python.ops.init_ops) with dtype is deprecated and will be removed in a future version.\n",
      "Instructions for updating:\n",
      "Call initializer instance with the dtype argument instead of passing it to the constructor\n"
     ]
    },
    {
     "name": "stdout",
     "output_type": "stream",
     "text": [
      "WARNING:tensorflow:From /usr/local/lib/python3.7/site-packages/tensorflow/python/ops/rnn_cell_impl.py:961: calling Zeros.__init__ (from tensorflow.python.ops.init_ops) with dtype is deprecated and will be removed in a future version.\n",
      "Instructions for updating:\n",
      "Call initializer instance with the dtype argument instead of passing it to the constructor\n"
     ]
    },
    {
     "name": "stderr",
     "output_type": "stream",
     "text": [
      "2020-12-10 16:16:53,399 : WARNING : From /usr/local/lib/python3.7/site-packages/tensorflow/python/ops/rnn_cell_impl.py:961: calling Zeros.__init__ (from tensorflow.python.ops.init_ops) with dtype is deprecated and will be removed in a future version.\n",
      "Instructions for updating:\n",
      "Call initializer instance with the dtype argument instead of passing it to the constructor\n"
     ]
    },
    {
     "name": "stdout",
     "output_type": "stream",
     "text": [
      "WARNING:tensorflow:From /usr/local/lib/python3.7/site-packages/tensorflow/python/ops/rnn.py:244: add_dispatch_support.<locals>.wrapper (from tensorflow.python.ops.array_ops) is deprecated and will be removed in a future version.\n",
      "Instructions for updating:\n",
      "Use tf.where in 2.0, which has the same broadcast rule as np.where\n"
     ]
    },
    {
     "name": "stderr",
     "output_type": "stream",
     "text": [
      "2020-12-10 16:16:54,015 : WARNING : From /usr/local/lib/python3.7/site-packages/tensorflow/python/ops/rnn.py:244: add_dispatch_support.<locals>.wrapper (from tensorflow.python.ops.array_ops) is deprecated and will be removed in a future version.\n",
      "Instructions for updating:\n",
      "Use tf.where in 2.0, which has the same broadcast rule as np.where\n"
     ]
    },
    {
     "data": {
      "text/plain": [
       "'The model is now loaded.'"
      ]
     },
     "execution_count": 28,
     "metadata": {},
     "output_type": "execute_result"
    }
   ],
   "source": [
    "model = ElmoModel()\n",
    "model.load(\"196\")"
   ]
  },
  {
   "cell_type": "markdown",
   "metadata": {},
   "source": [
    "У модели есть метод `get_elmo_vectors`, который возвращает массив матриц векторов - для каждого слова каждого входного текста.\n",
    "Нормализуем предложение и достанем контекстуализированный вектор неоднозначного слова."
   ]
  },
  {
   "cell_type": "code",
   "execution_count": 33,
   "metadata": {},
   "outputs": [
    {
     "name": "stderr",
     "output_type": "stream",
     "text": [
      "2020-12-10 16:20:56,747 : INFO : Warming up ELMo on 1 sentences...\n",
      "2020-12-10 16:20:57,744 : INFO : Warming up finished.\n",
      "2020-12-10 16:20:57,745 : INFO : Texts in the current batch: 1\n"
     ]
    }
   ],
   "source": [
    "sentence = \"многочисленные укрепленные монастыри также не являлись замками как таковыми — это были крепости\"\n",
    "tokens = normalize(sentence)\n",
    "word_idx = tokens.index(\"замок\")\n",
    "word_vector = model.get_elmo_vectors([tokens])[0][word_idx]"
   ]
  },
  {
   "cell_type": "markdown",
   "metadata": {},
   "source": [
    "Чтобы каждый раз не повторять эту процедуру, обернём в свою функцию."
   ]
  },
  {
   "cell_type": "code",
   "execution_count": 105,
   "metadata": {},
   "outputs": [],
   "source": [
    "def get_elmo_vectors(word, contexts, model):\n",
    "    tokens = [normalize(c) for c in contexts]\n",
    "    all_vectors = model.get_elmo_vectors(tokens)\n",
    "    word_vecs = []\n",
    "    for i in range(len(contexts)):\n",
    "        try:\n",
    "            word_vecs.append(all_vectors[i][tokens[i].index(word)])\n",
    "        except ValueError:  # если нормализация накосячила и лемму не найти\n",
    "            continue\n",
    "    return word_vecs"
   ]
  },
  {
   "cell_type": "markdown",
   "metadata": {},
   "source": [
    "Попробуем сначала нарисовать, какие получаются вектора одного и того же слова в разных контекстах (пропустим немного заранее заготовленной магии matplotlib и PCA)"
   ]
  },
  {
   "cell_type": "code",
   "execution_count": 35,
   "metadata": {},
   "outputs": [],
   "source": [
    "def dim_reduction(X, n):\n",
    "    pca = PCA(n_components=n)\n",
    "    print(\"size of X: {}\".format(X.shape))\n",
    "    results = pca.fit_transform(X)\n",
    "    print(\"size of reduced X: {}\".format(results.shape))\n",
    "\n",
    "    for i, ratio in enumerate(pca.explained_variance_ratio_):\n",
    "        print(\"Variance retained ratio of PCA-{}: {}\".format(i+1, ratio))\n",
    "\n",
    "    return results"
   ]
  },
  {
   "cell_type": "code",
   "execution_count": 77,
   "metadata": {},
   "outputs": [],
   "source": [
    "def plot(word, contexts, labels, reduced_X):\n",
    "    fig, ax = plt.subplots()\n",
    "    colors = ['ro', 'bo', 'yo', 'go', 'co']\n",
    "    label_color = {}\n",
    "    for i, l in enumerate(set(labels)):\n",
    "        label_color[l] = colors[i]\n",
    "\n",
    "    i = 0\n",
    "    points = []\n",
    "    tokens_list = []\n",
    "    for j, (c, l) in enumerate(zip(contexts, labels)):\n",
    "        tokens = normalize(c)\n",
    "        tokens_list.append(tokens)\n",
    "        color = label_color[l[0]]\n",
    "        for k, w in enumerate(tokens):\n",
    "            if w == word:\n",
    "                ax.plot(reduced_X[j, 0], reduced_X[j, 1], color)\n",
    "                points.append((j, k, reduced_X[j, 0], reduced_X[j, 1]))\n",
    "            i += 1\n",
    "\n",
    "    for p in points:\n",
    "        s = tokens_list[p[0]]\n",
    "        text = ' '.join(s[min(0, p[1] - 20):min(p[1] + 20, len(s))])\n",
    "\n",
    "        # bold the word of interest in the sentence\n",
    "        text = text.replace(word, r\"$\\bf{\" + word + \"}$\")\n",
    "\n",
    "        plt.annotate(text, xy=p[2:])\n",
    "    ax.set_xlabel(\"PCA 1\")\n",
    "    ax.set_ylabel(\"PCA 2\")"
   ]
  },
  {
   "cell_type": "code",
   "execution_count": 79,
   "metadata": {},
   "outputs": [],
   "source": [
    "df = pd.read_csv('../train.csv', sep='\\t')"
   ]
  },
  {
   "cell_type": "code",
   "execution_count": 80,
   "metadata": {},
   "outputs": [
    {
     "data": {
      "text/html": [
       "<div>\n",
       "<style scoped>\n",
       "    .dataframe tbody tr th:only-of-type {\n",
       "        vertical-align: middle;\n",
       "    }\n",
       "\n",
       "    .dataframe tbody tr th {\n",
       "        vertical-align: top;\n",
       "    }\n",
       "\n",
       "    .dataframe thead th {\n",
       "        text-align: right;\n",
       "    }\n",
       "</style>\n",
       "<table border=\"1\" class=\"dataframe\">\n",
       "  <thead>\n",
       "    <tr style=\"text-align: right;\">\n",
       "      <th></th>\n",
       "      <th>context_id</th>\n",
       "      <th>word</th>\n",
       "      <th>gold_sense_id</th>\n",
       "      <th>predict_sense_id</th>\n",
       "      <th>positions</th>\n",
       "      <th>context</th>\n",
       "    </tr>\n",
       "  </thead>\n",
       "  <tbody>\n",
       "    <tr>\n",
       "      <th>0</th>\n",
       "      <td>1</td>\n",
       "      <td>замок</td>\n",
       "      <td>1</td>\n",
       "      <td>NaN</td>\n",
       "      <td>0-5, 339-344</td>\n",
       "      <td>замок владимира мономаха в любече . многочисленные укрепленные монастыри также не являлись замками как таковыми — это были крепости . ранние европейские замки строились преимущественно из дерева они опоясывались деревянной оградой — палисадом уже тогда вокруг замков стали появляться рвы . примером такого замка может служить вышгородский замок киевских князей . каменное замковое строительство распространилось в западной и центральной европе лишь к xii веку . главной частью средневекового замка являлась центральная башня — донжон , выполнявшая функции цитадели . помимо своих оборонительных функций , донжон являлся непосредственным жилищем феодала . также в главной башне</td>\n",
       "    </tr>\n",
       "    <tr>\n",
       "      <th>1</th>\n",
       "      <td>2</td>\n",
       "      <td>замок</td>\n",
       "      <td>1</td>\n",
       "      <td>NaN</td>\n",
       "      <td>11-16, 17-22, 188-193</td>\n",
       "      <td>шильонский замок замок шильйон ( ) , известный в русскоязычной литературе как шильо́нский за́мок , расположен на швейцарской ривьере , у кромки женевского озера , в  км от города монтре . замок представляет собой комплекс из элементов разного времени постройки .</td>\n",
       "    </tr>\n",
       "    <tr>\n",
       "      <th>2</th>\n",
       "      <td>3</td>\n",
       "      <td>замок</td>\n",
       "      <td>1</td>\n",
       "      <td>NaN</td>\n",
       "      <td>299-304</td>\n",
       "      <td>проведения архитектурно - археологических работ эстонским реставрационным управлением под руководством архитектора х .  и .  потти , искусствоведа е .  а .  кальюнди и при научной консультации доктора исторических наук п .  а .  рапопорта . с года музей называется государственным музеем выборгский замок .</td>\n",
       "    </tr>\n",
       "    <tr>\n",
       "      <th>3</th>\n",
       "      <td>4</td>\n",
       "      <td>замок</td>\n",
       "      <td>1</td>\n",
       "      <td>NaN</td>\n",
       "      <td>111-116</td>\n",
       "      <td>топи с . , л . белокуров легенда о завещании мавра с . , н . юсупов день рождения с . , р . янушкевич янтарный замок с . .</td>\n",
       "    </tr>\n",
       "    <tr>\n",
       "      <th>4</th>\n",
       "      <td>5</td>\n",
       "      <td>замок</td>\n",
       "      <td>1</td>\n",
       "      <td>NaN</td>\n",
       "      <td>134-139, 262-267</td>\n",
       "      <td>великий князь литовский гедимин после успешной охоты обнаружил прекрасное место недалеко от города кернаве , решил воздвигнуть на нем замок и перенести сюда столицу . во второй половине xiv века здесь , в старых троках ( \" сянейи тракай \" ) , уже стоял каменный замок . правил им в — сын гедимина трокский князь кейстут . около года в этом замке родился витовт . в году кейстут перенес свою столицу из старых трок</td>\n",
       "    </tr>\n",
       "    <tr>\n",
       "      <th>5</th>\n",
       "      <td>6</td>\n",
       "      <td>замок</td>\n",
       "      <td>1</td>\n",
       "      <td>NaN</td>\n",
       "      <td>42-47, 281-286</td>\n",
       "      <td>его без боя . в начале xviii века высокий замок захватили и сильно разрушили шведские войска под командованием карла xii . после этого крепость потеряла стратегическое значение . со второй половины xviii в . башни и стены постепенно разбирают на строительный материал . в xix веке замок был разобран . возвышенность укрепили , насадили на склонах деревья , в организовали парк . от старого замка сохранился лишь фрагмент южной каменной стены с бойницами , ограждавшей въезд на территорию замка . памятники градостроительства и архитектуры украинской сср .</td>\n",
       "    </tr>\n",
       "    <tr>\n",
       "      <th>6</th>\n",
       "      <td>7</td>\n",
       "      <td>замок</td>\n",
       "      <td>1</td>\n",
       "      <td>NaN</td>\n",
       "      <td>260-265, 495-500</td>\n",
       "      <td>, колодец , хозяйственные помещения ( склады продовольствия и др . ) . часто в донжоне располагался крупный парадный зал для приемов . элементы донжона можно найти в замковой архитектуре западной и центральной европы , кавказа , средней азии и т .  п . обычно замок имел небольшой внутренний двор , который окружали массивные зубчатые стены с башнями и хорошо укрепленными воротами . далее следовал внешний двор , включавший в себя хозяйственные постройки , а также замковые сад и огород . весь замок был окружен вторым рядом стен и рвом , через который</td>\n",
       "    </tr>\n",
       "    <tr>\n",
       "      <th>7</th>\n",
       "      <td>8</td>\n",
       "      <td>замок</td>\n",
       "      <td>1</td>\n",
       "      <td>NaN</td>\n",
       "      <td>197-202, 205-210, 415-420</td>\n",
       "      <td>— сын гедимина трокский князь кейстут . около года в этом замке родился витовт . в году кейстут перенес свою столицу из старых трок в защищенные озером новые троки , где был построен полуостровной замок . замок в старых троках в году был разрушен и больше не восстанавливался . участок земли с остатками замка витовт в году подарил монахам бенедиктинцам . монастырь стоит на старом замчище . трокский полуостровной замок</td>\n",
       "    </tr>\n",
       "    <tr>\n",
       "      <th>8</th>\n",
       "      <td>9</td>\n",
       "      <td>замок</td>\n",
       "      <td>1</td>\n",
       "      <td>NaN</td>\n",
       "      <td>28-33, 196-201, 257-262, 417-422</td>\n",
       "      <td>одним из кэмпбеллов — отдал замок в обмен на восьмивесельную лодку - верейку . сталкер вернулся к стюартам только в  г . , но после поражения в битве при данкелде , сюартов обязали вновь передать замок кэмпбеллам . стюарты отказались , и кэмпбеллы осаждали замок в течение нескольких месяцев , пока наконец не захватили его . кэмпбеллы жили в замке примерно до  г . , потом перебрались с острова на большую землю , а замок использовали как склад , пока в  г .</td>\n",
       "    </tr>\n",
       "    <tr>\n",
       "      <th>9</th>\n",
       "      <td>10</td>\n",
       "      <td>замок</td>\n",
       "      <td>1</td>\n",
       "      <td>NaN</td>\n",
       "      <td>0-5, 14-19, 175-180</td>\n",
       "      <td>замок сталкер замок был построен в  г . и первоначально представлял собой небольшое укрепление , принадлежащее клану макдугалов . в  г . право владения на эти земли , включая замок , перешло к стюартам . считается , что сэр джон</td>\n",
       "    </tr>\n",
       "    <tr>\n",
       "      <th>10</th>\n",
       "      <td>11</td>\n",
       "      <td>замок</td>\n",
       "      <td>1</td>\n",
       "      <td>NaN</td>\n",
       "      <td>0-5, 16-21, 179-184, 291-296, 468-473</td>\n",
       "      <td>замок данноттар замок данноттар ( ) расположен на восточном побережье шотландии в двух милях к югу от стонхейвена и в милях от абердина . ранняя история . утес , на котором стоит замок , словно специально был создан для того , чтобы данноттар стал самой неприступной крепостью шотландии . в замок можно было попасть всего двумя способами через хорошо укрытый в расселине скалы главный вход либо по узкой крутой тропинке , которая вела через пещеры к потайному входу в замок</td>\n",
       "    </tr>\n",
       "    <tr>\n",
       "      <th>11</th>\n",
       "      <td>12</td>\n",
       "      <td>замок</td>\n",
       "      <td>1</td>\n",
       "      <td>NaN</td>\n",
       "      <td>0-5, 176-181, 292-297</td>\n",
       "      <td>замок был выстроен из дерева на месте прусского городища тувангсте и на протяжении всего xiii века неоднократно подвергался нападениям восставших пруссов и литовских отрядов . замок был основан в январе года как деревянное строение , двумя годами позже началось возведение кирпичного замка . замок служил резиденцией маршалов тевтонского ордена и был центром сбора рыцарских походов в великое княжество литовское в xiv веке . с по год в замке находилась резиденция великого магистра ордена . строительство продолжилось в xiv веке .</td>\n",
       "    </tr>\n",
       "    <tr>\n",
       "      <th>12</th>\n",
       "      <td>13</td>\n",
       "      <td>замок</td>\n",
       "      <td>1</td>\n",
       "      <td>NaN</td>\n",
       "      <td>14-19, 22-27, 232-237</td>\n",
       "      <td>полуостровной замок . замок в старых троках в году был разрушен и больше не восстанавливался . участок земли с остатками замка витовт в году подарил монахам бенедиктинцам . монастырь стоит на старом замчище . трокский полуостровной замок был построен кейстутом в - е годы на берегу озера гальве ( или трокского озера ) . он был разрушен во время междоусобиц — годов и вновь отстроен лишь в конце правления витовта</td>\n",
       "    </tr>\n",
       "    <tr>\n",
       "      <th>13</th>\n",
       "      <td>14</td>\n",
       "      <td>замок</td>\n",
       "      <td>1</td>\n",
       "      <td>NaN</td>\n",
       "      <td>252-257</td>\n",
       "      <td>башня эта долгое время считалась самым высоким донжоном скандинавии . толщина крепостных стен составляла , — метра , а толщина стен башни — м . сверху стены завершались зубцами , а по периметру шла навесная деревянная галерея , боевой ход . выборгский замок стал центром выборгского лена , надежным форпостом распространения шведского влияния на земли карельского перешейка , оставаясь неприступным вплоть до года . новгородская республика не желала мириться с потерей карельских земель , и уже в году дружина новгорода великого</td>\n",
       "    </tr>\n",
       "    <tr>\n",
       "      <th>14</th>\n",
       "      <td>15</td>\n",
       "      <td>замок</td>\n",
       "      <td>1</td>\n",
       "      <td>NaN</td>\n",
       "      <td>11-16, 17-22, 188-193, 274-279</td>\n",
       "      <td>шильонский замок замок шильйон ( ) , известный в русскоязычной литературе как шильо́нский за́мок , расположен на швейцарской ривьере , у кромки женевского озера , в  км от города монтре . замок представляет собой комплекс из элементов разного времени постройки . шильонский замок стоит на скале , незначительно возвышающейся над поверхностью озера , и соединен с берегом мостом . сочетание природных условий и особенностей постройки позволяли замку контролировать стратегически важную дорогу , пролегавшую между озером и</td>\n",
       "    </tr>\n",
       "    <tr>\n",
       "      <th>15</th>\n",
       "      <td>16</td>\n",
       "      <td>замок</td>\n",
       "      <td>1</td>\n",
       "      <td>NaN</td>\n",
       "      <td>94-99, 226-231</td>\n",
       "      <td>, каменной стеной с башнями и бастионами , земляным валом и рвом , наполненным водой . старый замок постепенно превратился в тыловую позицию крепости . . новый этап серьезных строительных работ начался после того , как в году замок посетил шведский король густав ваза . башни и здания вновь перестраиваются . береговая линия дополнительно укрепляется деревянными шканцами и больверками . в году главная башня надстраивается до этажей , причем верхняя часть получила восьмигранную форму с прорезанными в трехметровых</td>\n",
       "    </tr>\n",
       "    <tr>\n",
       "      <th>16</th>\n",
       "      <td>17</td>\n",
       "      <td>замок</td>\n",
       "      <td>1</td>\n",
       "      <td>NaN</td>\n",
       "      <td>124-129, 233-238</td>\n",
       "      <td>г . шотландский король яков vi взошел на английский трон и после столетий войн на границе наступил мир . к концу xviii века замок стал популярной туристической достопримечательностью , а в г . был передан под государственную опеку . замок открыт на протяжении всего года . с апреля по сентябрь — ежедневно с . по . . с октября по март — ежедневно с . по .</td>\n",
       "    </tr>\n",
       "    <tr>\n",
       "      <th>17</th>\n",
       "      <td>18</td>\n",
       "      <td>замок</td>\n",
       "      <td>1</td>\n",
       "      <td>NaN</td>\n",
       "      <td>11-16, 19-24, 82-87, 275-280</td>\n",
       "      <td>стерлинг ( замок ) замок стерлинг ( ) — находится в шотландии в городе стерлинг . замок стерлинг является одним из крупнейших и важнейших замков шотландии , как с исторической , так и с архитектурной точки зрения . он располагается на вершине замкового холма . с трех сторон замок окружен крутыми обрывами , что создает сильную оборонительную позицию . большинство главных строений замка</td>\n",
       "    </tr>\n",
       "    <tr>\n",
       "      <th>18</th>\n",
       "      <td>19</td>\n",
       "      <td>замок</td>\n",
       "      <td>1</td>\n",
       "      <td>NaN</td>\n",
       "      <td>59-64, 285-290</td>\n",
       "      <td>попытки отреставрировать разрушившийся с годами тракайский замок предпринимались еще в конце xix века , однако основные работы не столько по реставрации , сколько по консервации приходятся на начало xx века . в году археолог в . шукевич взял у городского магистрата трокский островной замок в аренду на двенадцать лет , обязуясь охранять его от дальнейшего разрушения . с года уход за замками стал постоянным . руины на острове были измерены , было решено их законсервировать , а замки объявлены памятником . основное внимание уделялось островному</td>\n",
       "    </tr>\n",
       "    <tr>\n",
       "      <th>19</th>\n",
       "      <td>20</td>\n",
       "      <td>замок</td>\n",
       "      <td>1</td>\n",
       "      <td>NaN</td>\n",
       "      <td>336-341, 494-499, 540-545</td>\n",
       "      <td>( замки крестоносцев ) и испании . с окончанием эпохи средневековья замки стали утрачивать свою первоначальную — оборонительную — задачу , которая уступила теперь место жилой . с развитием артиллерии оборонительная задача замков исчезла окончательно черты замковой архитектуры сохранялись лишь в качестве элементов декора ( французский замок пьерфон , конец xiv века ) . возобладала регулярная планировка с четко выраженной симметрией , главное здание приобрело дворцовый характер ( мадридский замок в париже , xv—xvi века ) или несвижский замок в белоруссии ( xvi век ) в xvi веке замковая архитектура</td>\n",
       "    </tr>\n",
       "    <tr>\n",
       "      <th>20</th>\n",
       "      <td>21</td>\n",
       "      <td>замок</td>\n",
       "      <td>1</td>\n",
       "      <td>NaN</td>\n",
       "      <td>59-64, 79-84, 223-228, 256-261, 291-296</td>\n",
       "      <td>если позволял рельеф местности , то ров заполнялся водой и замок превращался в замок на воде . со временем структура замков усложнялась в территорию замков включались уже казармы , суд , храм , тюрьма и другие сооружения ( замок куси во франции , xiii век замок вартбург в германии , xi век замок харлек в великобритании , xiii век ) . с началом массового применения пороха начинается закат эпохи строительства замков . так , осаждающие начали проводить в случае , если это позволял грунт , саперные работы — незаметно копать сапы ,</td>\n",
       "    </tr>\n",
       "    <tr>\n",
       "      <th>21</th>\n",
       "      <td>22</td>\n",
       "      <td>замок</td>\n",
       "      <td>1</td>\n",
       "      <td>NaN</td>\n",
       "      <td>238-243, 366-371</td>\n",
       "      <td>, , ) . внутри замка с года находится музей истории тракая и сувенирные лавки . по летописной легенде , великий князь литовский гедимин после успешной охоты обнаружил прекрасное место недалеко от города кернаве , решил воздвигнуть на нем замок и перенести сюда столицу . во второй половине xiv века здесь , в старых троках ( \" сянейи тракай \" ) , уже стоял каменный замок . правил им в — сын гедимина трокский князь</td>\n",
       "    </tr>\n",
       "    <tr>\n",
       "      <th>22</th>\n",
       "      <td>23</td>\n",
       "      <td>замок</td>\n",
       "      <td>1</td>\n",
       "      <td>NaN</td>\n",
       "      <td>174-179</td>\n",
       "      <td>в - е годы на берегу озера гальве ( или трокского озера ) . он был разрушен во время междоусобиц — годов и вновь отстроен лишь в конце правления витовта . трокский островной замок был окончен в году . он был мощнейшим и наиболее величественным во всем великом княжестве литовском . это была одна из самых неприступных крепостей во всей восточной европе ни разу за всю историю врагам не удалось его завоевать . островной</td>\n",
       "    </tr>\n",
       "    <tr>\n",
       "      <th>23</th>\n",
       "      <td>24</td>\n",
       "      <td>замок</td>\n",
       "      <td>1</td>\n",
       "      <td>NaN</td>\n",
       "      <td>135-140, 285-290, 305-310, 449-454, 482-487, 517-522</td>\n",
       "      <td>укрепленными воротами . далее следовал внешний двор , включавший в себя хозяйственные постройки , а также замковые сад и огород . весь замок был окружен вторым рядом стен и рвом , через который перебрасывался подъемный мост . если позволял рельеф местности , то ров заполнялся водой и замок превращался в замок на воде . со временем структура замков усложнялась в территорию замков включались уже казармы , суд , храм , тюрьма и другие сооружения ( замок куси во франции , xiii век замок вартбург в германии , xi век замок харлек в</td>\n",
       "    </tr>\n",
       "    <tr>\n",
       "      <th>24</th>\n",
       "      <td>25</td>\n",
       "      <td>замок</td>\n",
       "      <td>1</td>\n",
       "      <td>NaN</td>\n",
       "      <td>104-109, 280-285, 506-511</td>\n",
       "      <td>путей привела город к экономическому упадку . вскоре троки становятся местом ссылок неугодной знати , а замок использовался как тюрьма . после войны с москвой — годов развалины заброшенного замка постепенно разрушались . попытки отреставрировать разрушившийся с годами тракайский замок предпринимались еще в конце xix века , однако основные работы не столько по реставрации , сколько по консервации приходятся на начало xx века . в году археолог в . шукевич взял у городского магистрата трокский островной замок в аренду на двенадцать лет</td>\n",
       "    </tr>\n",
       "    <tr>\n",
       "      <th>25</th>\n",
       "      <td>26</td>\n",
       "      <td>замок</td>\n",
       "      <td>1</td>\n",
       "      <td>NaN</td>\n",
       "      <td>198-203</td>\n",
       "      <td>- м лордом максвеллом , и его сыном робертом , - м лордом максвеллом , а в xvi в . керлаверок вновь фигурирует в описаниях конфликтов между англией и шотландией . в г . перед битвой при солвей мосс замок посетил король яков v . в том сражении шотландцы потерпели сокрушительное поражение , кроме того англичане пленили роберта , - го лорда максвелла . вскоре он был освобожден , но ненадолго — в г . англичане вновь взяли его</td>\n",
       "    </tr>\n",
       "    <tr>\n",
       "      <th>26</th>\n",
       "      <td>27</td>\n",
       "      <td>замок</td>\n",
       "      <td>1</td>\n",
       "      <td>NaN</td>\n",
       "      <td>132-137, 298-303</td>\n",
       "      <td>приобрел форму вытянутого прямоугольника с четырьмя башнями на углах , из которых самая высокая , западная , была дозорной . внутри замок разделялся на два двора зданием княжеского дворца . внутри стен находились казармы , склады боеприпасов в скале был вырублен глубокий колодец . впервые высокий замок был взят штурмом в году казаками под предводительством максима кривоноса . после  г . из него вывели гарнизон , и в р . турки заняли его без боя . в начале</td>\n",
       "    </tr>\n",
       "    <tr>\n",
       "      <th>27</th>\n",
       "      <td>28</td>\n",
       "      <td>замок</td>\n",
       "      <td>1</td>\n",
       "      <td>NaN</td>\n",
       "      <td>221-226, 380-385</td>\n",
       "      <td>принести ему клятву верности . среди присягнувших был герберт максвелл и его сын джон . вскоре шотландцы подняли мятеж . в г . эдуард вторгся в галлоуэй , один из очагов сопротивления , и обрушил свой гнев в том числе на замок керлаверок . армия эдуарда i состояла из рыцарей и воинов . осада длилась недолго , и вскоре лорд максвелл и его гарнизон из человек были взяты в плен . замок оставался в руках англичан вплоть</td>\n",
       "    </tr>\n",
       "    <tr>\n",
       "      <th>28</th>\n",
       "      <td>29</td>\n",
       "      <td>замок</td>\n",
       "      <td>1</td>\n",
       "      <td>NaN</td>\n",
       "      <td>195-200, 203-208, 413-418</td>\n",
       "      <td>сын гедимина трокский князь кейстут . около года в этом замке родился витовт . в году кейстут перенес свою столицу из старых трок в защищенные озером новые троки , где был построен полуостровной замок . замок в старых троках в году был разрушен и больше не восстанавливался . участок земли с остатками замка витовт в году подарил монахам бенедиктинцам . монастырь стоит на старом замчище . трокский полуостровной замок был построен кейстутом</td>\n",
       "    </tr>\n",
       "    <tr>\n",
       "      <th>29</th>\n",
       "      <td>30</td>\n",
       "      <td>замок</td>\n",
       "      <td>1</td>\n",
       "      <td>NaN</td>\n",
       "      <td>208-213</td>\n",
       "      <td>, но главные башни и стены к году еще сохранились . несмотря на протесты , в году , по решению первого секретаря обкома кпсс николая коновалова развалины замка были взорваны . вершина горы , на которой стоял замок , была на несколько метров срыта . приблизительно на месте юго - восточной части замка в настоящее время стоит строившийся ( и недостроенный ) в советское время дом советов . с по годы (</td>\n",
       "    </tr>\n",
       "    <tr>\n",
       "      <th>...</th>\n",
       "      <td>...</td>\n",
       "      <td>...</td>\n",
       "      <td>...</td>\n",
       "      <td>...</td>\n",
       "      <td>...</td>\n",
       "      <td>...</td>\n",
       "    </tr>\n",
       "    <tr>\n",
       "      <th>108</th>\n",
       "      <td>109</td>\n",
       "      <td>замок</td>\n",
       "      <td>2</td>\n",
       "      <td>NaN</td>\n",
       "      <td>10-15, 212-217</td>\n",
       "      <td>изготовил замок ,  м х ,  м весом  кг , но это была кодовая система с пятью нажимными кнопками . соревнование в споре ключевых замков продолжил снова пакистанец джавед икбал хаджи кхохар , который в  г . показал замок высотой ,  м , шириной ,  м и толщиной ,  см . вес этого гиганта составил  кг , да плюс три ключа весом  кг . впрочем , в середине была и цифровая электронная</td>\n",
       "    </tr>\n",
       "    <tr>\n",
       "      <th>109</th>\n",
       "      <td>110</td>\n",
       "      <td>замок</td>\n",
       "      <td>2</td>\n",
       "      <td>NaN</td>\n",
       "      <td>87-92, 168-173, 276-281</td>\n",
       "      <td>( изготовлен из латуни и алюминия ) и его раскачивает ветром , так как поперек корпуса замок прихвачен к воротам железной полосой . среди рекордсменов назовем навесной замок пакистанского мастера мухаммада рафика , который в  г . после трех лет работы вручную зарегистрировал замок высотой ( с дужкой ) ,  см , шириной ,  см , толщиной ,  см и весом ,  кг . лишь в  г . пальму первенства перехватил бельгиец анджело лупо с замком</td>\n",
       "    </tr>\n",
       "    <tr>\n",
       "      <th>110</th>\n",
       "      <td>111</td>\n",
       "      <td>замок</td>\n",
       "      <td>2</td>\n",
       "      <td>NaN</td>\n",
       "      <td>13-18, 32-37, 312-317</td>\n",
       "      <td>молекулярный замок молекулярный замок — блокирующая система , предназначенная для выработки сигнала на открытие электронного замка , то есть датчик , реагирующий не на набор электрических сигналов от клавиатуры или считывающего устройства , а датчик реагирующий на набор химических веществ , в также электронный замок стеганографического типа , то есть</td>\n",
       "    </tr>\n",
       "    <tr>\n",
       "      <th>111</th>\n",
       "      <td>112</td>\n",
       "      <td>замок</td>\n",
       "      <td>2</td>\n",
       "      <td>NaN</td>\n",
       "      <td>80-85, 201-206, 325-330</td>\n",
       "      <td>г . сын первого рекордсмена вернул рекорд в пакистан . зафар икбал шейх создал замок ,  см х ,  см х ,  см весом ,  кг . уже на следующий год также пакистанец джавед икбал хаджи хохар зарегистрировал замок высотой ,  м х ,  м х  см . вес гиганта достиг  кг , а вес ключа —  кг . в  г . немецкий мастер дитер сенфт изготовил замок ,</td>\n",
       "    </tr>\n",
       "    <tr>\n",
       "      <th>112</th>\n",
       "      <td>113</td>\n",
       "      <td>замок</td>\n",
       "      <td>2</td>\n",
       "      <td>NaN</td>\n",
       "      <td>73-78, 235-240, 316-321, 424-429</td>\n",
       "      <td>( длиной более , дюймов ) находятся в храме . это самый большой навесной замок , который фактически используется . похоже , что вес замка небольшой ( изготовлен из латуни и алюминия ) и его раскачивает ветром , так как поперек корпуса замок прихвачен к воротам железной полосой . среди рекордсменов назовем навесной замок пакистанского мастера мухаммада рафика , который в  г . после трех лет работы вручную зарегистрировал замок высотой ( с дужкой ) ,  см , шириной ,</td>\n",
       "    </tr>\n",
       "    <tr>\n",
       "      <th>113</th>\n",
       "      <td>114</td>\n",
       "      <td>замок</td>\n",
       "      <td>2</td>\n",
       "      <td>NaN</td>\n",
       "      <td>325-330</td>\n",
       "      <td>такие системы за характерную форму пластины - базы получили название секирные . в период позднего средневековья произошло разделение кузнечного ремесла на собственно кузнецов ( обработка металла с обязательным нагреванием ) и специалистов по холодной обработке металла — слесарей ( происходит от немецкого schlosser schloß — замок , schlüssel — ключ ) . название профессии и слесарная , а затем замочная терминология попали ко многим народам центральной и восточной европы . например , засов стали именовать ригель . период технической революции конца xviii—xix вв . дал мощный толчок и замочному делу</td>\n",
       "    </tr>\n",
       "    <tr>\n",
       "      <th>114</th>\n",
       "      <td>115</td>\n",
       "      <td>замок</td>\n",
       "      <td>2</td>\n",
       "      <td>NaN</td>\n",
       "      <td>13-18, 32-37, 312-317, 365-370</td>\n",
       "      <td>молекулярный замок молекулярный замок — блокирующая система , предназначенная для выработки сигнала на открытие электронного замка , то есть датчик , реагирующий не на набор электрических сигналов от клавиатуры или считывающего устройства , а датчик реагирующий на набор химических веществ , в также электронный замок стеганографического типа , то есть электронный замок , о существовании которого знает только человек , имеющий доступ к информации о нем и молекулярный ключ . история создания молекулярных замков . первая подобная блокирующая система была представлена в году профессором абрахамом шанцером</td>\n",
       "    </tr>\n",
       "    <tr>\n",
       "      <th>115</th>\n",
       "      <td>116</td>\n",
       "      <td>замок</td>\n",
       "      <td>2</td>\n",
       "      <td>NaN</td>\n",
       "      <td>73-78, 101-106</td>\n",
       "      <td>высота м  см , ширина м  см , толщина  см . вес замка с ключом ,  кг , ( замок ,  кг , ключ , кг ) . замок был зарегистрирован в книге рекордов россии и книге рекордов гиннеса . говорят , что если повернуть ключ , то играет мелодия на семи холмах  — гимн павлово , но эту деталь , как и декоративные гербы , заказали на стороне .</td>\n",
       "    </tr>\n",
       "    <tr>\n",
       "      <th>116</th>\n",
       "      <td>117</td>\n",
       "      <td>замок</td>\n",
       "      <td>2</td>\n",
       "      <td>NaN</td>\n",
       "      <td>275-280</td>\n",
       "      <td>. изобретатель поставил в тыльный конец ригеля круглую пластину , которая препятствовала передвижению засова ключом , пока пластина ( вращаемая часовым механизмом ) не становилась на ось ригеля пазом . в  г . в сша джеймс саргент запатентовал первый перестраиваемый ключевой замок . среди прочих знаменитых замков отметим protector , патент на который в ( ? ) г . получил теодор кромер ( theodor kromer ) из фрайбурга ( германия ) .</td>\n",
       "    </tr>\n",
       "    <tr>\n",
       "      <th>117</th>\n",
       "      <td>118</td>\n",
       "      <td>замок</td>\n",
       "      <td>2</td>\n",
       "      <td>NaN</td>\n",
       "      <td>273-278, 474-479</td>\n",
       "      <td>когда американский изобретатель линус йейл - старший ( linus yale sr . ) запатентовал конструкцию , в которой использовал принцип древнеегипетского замка . позже его сын линус йейл - младший ( linus yale jr . ) творчески переработал наработки отца и запатентовал штифтовой замок с маленьким плоским ключом , ставший наиболее распространенным замком хх века . отдельным видом замков стали сейфовые системы . в  г . вильям русерфорд ( william rutherford ) запатентовал первый замок с часовым механизмом . изобретатель поставил в тыльный</td>\n",
       "    </tr>\n",
       "    <tr>\n",
       "      <th>118</th>\n",
       "      <td>119</td>\n",
       "      <td>замок</td>\n",
       "      <td>2</td>\n",
       "      <td>NaN</td>\n",
       "      <td>208-213, 310-315</td>\n",
       "      <td>) , который запирает ворота храма джаганнатха . по верованиям индусов божество когда - то заглянет в храм , и для этого одна из стен выполнена в виде огромных ворот . а до той поры , с  г . , ворота запирает замок , три ключа к которому ( длиной более , дюймов ) находятся в храме . это самый большой навесной замок , который фактически используется . похоже , что вес замка небольшой ( изготовлен из латуни и алюминия ) и его</td>\n",
       "    </tr>\n",
       "    <tr>\n",
       "      <th>119</th>\n",
       "      <td>120</td>\n",
       "      <td>замок</td>\n",
       "      <td>2</td>\n",
       "      <td>NaN</td>\n",
       "      <td>13-18, 293-298, 346-351</td>\n",
       "      <td>молекулярный замок — блокирующая система , предназначенная для выработки сигнала на открытие электронного замка , то есть датчик , реагирующий не на набор электрических сигналов от клавиатуры или считывающего устройства , а датчик реагирующий на набор химических веществ , в также электронный замок стеганографического типа , то есть электронный замок , о существовании которого знает только человек , имеющий доступ к информации о нем и молекулярный ключ . история создания молекулярных замков . первая подобная блокирующая система была представлена в году профессором абрахамом шанцером ( abraham shanzer ) и руководимой</td>\n",
       "    </tr>\n",
       "    <tr>\n",
       "      <th>120</th>\n",
       "      <td>121</td>\n",
       "      <td>замок</td>\n",
       "      <td>2</td>\n",
       "      <td>NaN</td>\n",
       "      <td>253-258, 427-432</td>\n",
       "      <td>дужку изготавливают -  см длины . зародившаяся в италии мода замыкать на мостах и т .  п . людных местах замки на неразрывность отношений покорила весь мир . но везде гирлянды замков безжалостно срезают коммунальные службы . например , полутораметровый замок с инициалами в декабре  г . украсил перила пешеходного моста в вологде , рф . на следующий день его срезали , и более  кг металла , пошло в утиль . близкий по размерам замок замкнули еще</td>\n",
       "    </tr>\n",
       "    <tr>\n",
       "      <th>121</th>\n",
       "      <td>122</td>\n",
       "      <td>замок</td>\n",
       "      <td>2</td>\n",
       "      <td>NaN</td>\n",
       "      <td>26-31, 211-216, 372-377</td>\n",
       "      <td>сын изготовили гигантский замок - метровой высоты ( с дужкой ) , . метра шириной и сантиметров толщиной . изготовители — семья наследственных слесарь - замочников — уже более лет занимается этим ремеслом . этот замок не первый , с которым мастер участвовал в национальном смотре достижений ( national festival for heritage and culture ) . в году он выставил самый тяжелый замок в саудовской аравии весом  кг и ключами по  кг .</td>\n",
       "    </tr>\n",
       "    <tr>\n",
       "      <th>122</th>\n",
       "      <td>123</td>\n",
       "      <td>замок</td>\n",
       "      <td>2</td>\n",
       "      <td>NaN</td>\n",
       "      <td>238-243, 423-428</td>\n",
       "      <td>три ключа весом  кг . впрочем , в середине была и цифровая электронная система . рекорд по максимальной величине с начала  г . принадлежит изделию мастера из саудовской аравии . мастер анас мохаммад раджаб и его сын изготовили гигантский замок - метровой высоты ( с дужкой ) , . метра шириной и сантиметров толщиной . изготовители — семья наследственных слесарь - замочников — уже более лет занимается этим ремеслом . этот замок не первый</td>\n",
       "    </tr>\n",
       "    <tr>\n",
       "      <th>123</th>\n",
       "      <td>124</td>\n",
       "      <td>замок</td>\n",
       "      <td>2</td>\n",
       "      <td>NaN</td>\n",
       "      <td>0-5</td>\n",
       "      <td>замок ( устройство ) замо́к — механическое , электронное или комбинированное устройство фиксации . применяется для запирания дверей , крышек , емкостей и пр . , а также для обеспечения блокировки предметов с целью предотвращения их похищения . в зависимости от принципа действия привода различают</td>\n",
       "    </tr>\n",
       "    <tr>\n",
       "      <th>124</th>\n",
       "      <td>125</td>\n",
       "      <td>замок</td>\n",
       "      <td>2</td>\n",
       "      <td>NaN</td>\n",
       "      <td>69-74, 230-235, 337-342</td>\n",
       "      <td>слесарь - замочников — уже более лет занимается этим ремеслом . этот замок не первый , с которым мастер участвовал в национальном смотре достижений ( national festival for heritage and culture ) . в году он выставил самый тяжелый замок в саудовской аравии весом  кг и ключами по  кг . из российских замков - рекордсменов назовем крупный замок , который заказал и хранит в своем ресторане династия бизнесмен из российского города павлово ( на оке ) . размеры замка</td>\n",
       "    </tr>\n",
       "    <tr>\n",
       "      <th>125</th>\n",
       "      <td>126</td>\n",
       "      <td>замок</td>\n",
       "      <td>2</td>\n",
       "      <td>NaN</td>\n",
       "      <td>257-262</td>\n",
       "      <td>на семи холмах  — гимн павлово , но эту деталь , как и декоративные гербы , заказали на стороне . основную работу выполнили мастера и учащиеся местного пту . также в городском музее г . павлово среди других работ мастера павла куликова хранится миниатюрный замок длиной около х мм , диаметром  мм , весом , грамма с ключиком весом , г . на замочке надпись павлово и фамилия мастера . тип замка — винтовой , дужка продета в ушко иглы . официальным</td>\n",
       "    </tr>\n",
       "    <tr>\n",
       "      <th>126</th>\n",
       "      <td>127</td>\n",
       "      <td>замок</td>\n",
       "      <td>2</td>\n",
       "      <td>NaN</td>\n",
       "      <td>178-183, 299-304</td>\n",
       "      <td>г . пальму первенства перехватил бельгиец анджело лупо с замком ,  м в высоту и весом  кг . но в  г . сын первого рекордсмена вернул рекорд в пакистан . зафар икбал шейх создал замок ,  см х ,  см х ,  см весом ,  кг . уже на следующий год также пакистанец джавед икбал хаджи хохар зарегистрировал замок высотой ,  м х ,  м х  см .</td>\n",
       "    </tr>\n",
       "    <tr>\n",
       "      <th>127</th>\n",
       "      <td>128</td>\n",
       "      <td>замок</td>\n",
       "      <td>2</td>\n",
       "      <td>NaN</td>\n",
       "      <td>265-270</td>\n",
       "      <td>- либо , не повредив , просто невозможно , так что продемонстрировать работу нельзя . в пересчете из золота , равного весу замку куликова или сабраманьямы , украинский мастер мог бы изготовить несколько десятков тысяч замков . сядристый так же изготовил бо ' льший замок , который , как на полке , стоит на хоботке комара . его фото можно увидать в книге тайны микротехники . ) , а также в фотокаталоге , который в  г . вышел на украинском , английском и немецком</td>\n",
       "    </tr>\n",
       "    <tr>\n",
       "      <th>128</th>\n",
       "      <td>129</td>\n",
       "      <td>замок</td>\n",
       "      <td>2</td>\n",
       "      <td>NaN</td>\n",
       "      <td>268-273</td>\n",
       "      <td>в вертикальных пазах свободно перемещались штифты . к сожалению , дворец был давно разрушен , и установить , куда вели двери , на которых висел этот единственный в комплексе из более чем отдельных помещений и открытых дворов , соединенных многочисленными коридорами , замок , невозможно . но это не были ни спальня царя , ни сокровищница , ни хранилище железных заготовок ( огромная ценность в то время ) , ни женская половина . отметим , что находка замка не вызвала интереса в европе . и дело не</td>\n",
       "    </tr>\n",
       "    <tr>\n",
       "      <th>129</th>\n",
       "      <td>130</td>\n",
       "      <td>замок</td>\n",
       "      <td>2</td>\n",
       "      <td>NaN</td>\n",
       "      <td>6-11, 292-297</td>\n",
       "      <td>такой замок называли финским . с развитием строительства крупных зданий ( офисов и гостиниц ) возникла необходимость разработки быстро перестраиваемых замочных систем . распространение получили электронно - механические системы . в середине - х тор сернес предложил легко перепрограммируемый замок , названный ving card . в  г . в киеве группой разработчиков во главе с в .  ф .  бардаченко был получен патент на перенастраиваемый ключ . в этом устройстве на центральном стержне надеты несколько пластин , на концах</td>\n",
       "    </tr>\n",
       "    <tr>\n",
       "      <th>130</th>\n",
       "      <td>131</td>\n",
       "      <td>замок</td>\n",
       "      <td>2</td>\n",
       "      <td>NaN</td>\n",
       "      <td>140-145, 218-223</td>\n",
       "      <td>технической революции конца xviii—xix вв . дал мощный толчок и замочному делу . в  г . англичанин роберт баррон ( r . barron ) запатентовал замок качающимися рычага двойного направления . прототипом его был томпольный замок . в  г . англичанин джозеф брейма ( joseph bramax ) запатентовал принципиально новую конструкцию замка , получившего название помповый . ключ в таком замке не имел бородки в привычном понимании — это был цилиндр , на конце которого</td>\n",
       "    </tr>\n",
       "    <tr>\n",
       "      <th>131</th>\n",
       "      <td>132</td>\n",
       "      <td>замок</td>\n",
       "      <td>2</td>\n",
       "      <td>NaN</td>\n",
       "      <td>30-35, 204-209, 323-328</td>\n",
       "      <td>. например , полутораметровый замок с инициалами в декабре  г . украсил перила пешеходного моста в вологде , рф . на следующий день его срезали , и более  кг металла , пошло в утиль . близкий по размерам замок замкнули еще в  г . на дереве счастья в калуге , но его дальнейшая судьба мне неизвестна . другое дело , крупный замок в индийском храмовом комплексе в пури ( восточный штат орисса ) , который запирает</td>\n",
       "    </tr>\n",
       "    <tr>\n",
       "      <th>132</th>\n",
       "      <td>133</td>\n",
       "      <td>замок</td>\n",
       "      <td>2</td>\n",
       "      <td>NaN</td>\n",
       "      <td>12-17</td>\n",
       "      <td>электронный замок</td>\n",
       "    </tr>\n",
       "    <tr>\n",
       "      <th>133</th>\n",
       "      <td>134</td>\n",
       "      <td>замок</td>\n",
       "      <td>2</td>\n",
       "      <td>NaN</td>\n",
       "      <td>292-297</td>\n",
       "      <td>с корпусом из дуба , вяза и других твердых пород дерева , усиленных просечными металлическими накладками и крепящимися к дверному полотну с помощью фигурных скоб . существовало два основных типа замка . первый известен как старонемецкий , в нем засов заканчивался скошенной площадкой . такой замок защелкивался при захлопывании двери , но требовал металлическую приемную планку на откосе . для отпирания ключ вставляли в замочную скважину замка и разворачивали на — ° . при этом бородка ключа смещала засов внутрь корпуса . во время движения засов задней</td>\n",
       "    </tr>\n",
       "    <tr>\n",
       "      <th>134</th>\n",
       "      <td>135</td>\n",
       "      <td>замок</td>\n",
       "      <td>2</td>\n",
       "      <td>NaN</td>\n",
       "      <td>223-228</td>\n",
       "      <td>ключ в таком замке не имел бородки в привычном понимании — это был цилиндр , на конце которого прорезаны продольные пазы разной длины . в  г . англичане братья джереми и чарльз чебб ( chubb ) получили патент на детекторный замок , который принято считать базовым для современных сувальдных систем . прологом настоящей революции стал  г . , когда американский изобретатель линус йейл - старший ( linus yale sr . ) запатентовал конструкцию , в которой использовал принцип древнеегипетского</td>\n",
       "    </tr>\n",
       "    <tr>\n",
       "      <th>135</th>\n",
       "      <td>136</td>\n",
       "      <td>замок</td>\n",
       "      <td>2</td>\n",
       "      <td>NaN</td>\n",
       "      <td>140-145, 168-173</td>\n",
       "      <td>бизнесмен из российского города павлово ( на оке ) . размеры замка высота м  см , ширина м  см , толщина  см . вес замка с ключом ,  кг , ( замок ,  кг , ключ , кг ) . замок был зарегистрирован в книге рекордов россии и книге рекордов гиннеса . говорят , что если повернуть ключ , то играет мелодия на семи холмах  — гимн</td>\n",
       "    </tr>\n",
       "    <tr>\n",
       "      <th>136</th>\n",
       "      <td>137</td>\n",
       "      <td>замок</td>\n",
       "      <td>2</td>\n",
       "      <td>NaN</td>\n",
       "      <td>64-69, 265-270</td>\n",
       "      <td>) творчески переработал наработки отца и запатентовал штифтовой замок с маленьким плоским ключом , ставший наиболее распространенным замком хх века . отдельным видом замков стали сейфовые системы . в  г . вильям русерфорд ( william rutherford ) запатентовал первый замок с часовым механизмом . изобретатель поставил в тыльный конец ригеля круглую пластину , которая препятствовала передвижению засова ключом , пока пластина ( вращаемая часовым механизмом ) не становилась на ось ригеля пазом . в  г . в сша джеймс саргент</td>\n",
       "    </tr>\n",
       "    <tr>\n",
       "      <th>137</th>\n",
       "      <td>138</td>\n",
       "      <td>замок</td>\n",
       "      <td>2</td>\n",
       "      <td>NaN</td>\n",
       "      <td>126-131, 233-238</td>\n",
       "      <td>участвовал в национальном смотре достижений ( national festival for heritage and culture ) . в году он выставил самый тяжелый замок в саудовской аравии весом  кг и ключами по  кг . из российских замков - рекордсменов назовем крупный замок , который заказал и хранит в своем ресторане династия бизнесмен из российского города павлово ( на оке ) . размеры замка высота м  см , ширина м  см , толщина  см . вес</td>\n",
       "    </tr>\n",
       "  </tbody>\n",
       "</table>\n",
       "<p>138 rows × 6 columns</p>\n",
       "</div>"
      ],
      "text/plain": [
       "     context_id   word gold_sense_id  predict_sense_id  \\\n",
       "0             1  замок             1               NaN   \n",
       "1             2  замок             1               NaN   \n",
       "2             3  замок             1               NaN   \n",
       "3             4  замок             1               NaN   \n",
       "4             5  замок             1               NaN   \n",
       "5             6  замок             1               NaN   \n",
       "6             7  замок             1               NaN   \n",
       "7             8  замок             1               NaN   \n",
       "8             9  замок             1               NaN   \n",
       "9            10  замок             1               NaN   \n",
       "10           11  замок             1               NaN   \n",
       "11           12  замок             1               NaN   \n",
       "12           13  замок             1               NaN   \n",
       "13           14  замок             1               NaN   \n",
       "14           15  замок             1               NaN   \n",
       "15           16  замок             1               NaN   \n",
       "16           17  замок             1               NaN   \n",
       "17           18  замок             1               NaN   \n",
       "18           19  замок             1               NaN   \n",
       "19           20  замок             1               NaN   \n",
       "20           21  замок             1               NaN   \n",
       "21           22  замок             1               NaN   \n",
       "22           23  замок             1               NaN   \n",
       "23           24  замок             1               NaN   \n",
       "24           25  замок             1               NaN   \n",
       "25           26  замок             1               NaN   \n",
       "26           27  замок             1               NaN   \n",
       "27           28  замок             1               NaN   \n",
       "28           29  замок             1               NaN   \n",
       "29           30  замок             1               NaN   \n",
       "..          ...    ...           ...               ...   \n",
       "108         109  замок             2               NaN   \n",
       "109         110  замок             2               NaN   \n",
       "110         111  замок             2               NaN   \n",
       "111         112  замок             2               NaN   \n",
       "112         113  замок             2               NaN   \n",
       "113         114  замок             2               NaN   \n",
       "114         115  замок             2               NaN   \n",
       "115         116  замок             2               NaN   \n",
       "116         117  замок             2               NaN   \n",
       "117         118  замок             2               NaN   \n",
       "118         119  замок             2               NaN   \n",
       "119         120  замок             2               NaN   \n",
       "120         121  замок             2               NaN   \n",
       "121         122  замок             2               NaN   \n",
       "122         123  замок             2               NaN   \n",
       "123         124  замок             2               NaN   \n",
       "124         125  замок             2               NaN   \n",
       "125         126  замок             2               NaN   \n",
       "126         127  замок             2               NaN   \n",
       "127         128  замок             2               NaN   \n",
       "128         129  замок             2               NaN   \n",
       "129         130  замок             2               NaN   \n",
       "130         131  замок             2               NaN   \n",
       "131         132  замок             2               NaN   \n",
       "132         133  замок             2               NaN   \n",
       "133         134  замок             2               NaN   \n",
       "134         135  замок             2               NaN   \n",
       "135         136  замок             2               NaN   \n",
       "136         137  замок             2               NaN   \n",
       "137         138  замок             2               NaN   \n",
       "\n",
       "                                                positions  \\\n",
       "0                                            0-5, 339-344   \n",
       "1                                   11-16, 17-22, 188-193   \n",
       "2                                                 299-304   \n",
       "3                                                 111-116   \n",
       "4                                        134-139, 262-267   \n",
       "5                                          42-47, 281-286   \n",
       "6                                        260-265, 495-500   \n",
       "7                               197-202, 205-210, 415-420   \n",
       "8                        28-33, 196-201, 257-262, 417-422   \n",
       "9                                     0-5, 14-19, 175-180   \n",
       "10                  0-5, 16-21, 179-184, 291-296, 468-473   \n",
       "11                                  0-5, 176-181, 292-297   \n",
       "12                                  14-19, 22-27, 232-237   \n",
       "13                                                252-257   \n",
       "14                         11-16, 17-22, 188-193, 274-279   \n",
       "15                                         94-99, 226-231   \n",
       "16                                       124-129, 233-238   \n",
       "17                           11-16, 19-24, 82-87, 275-280   \n",
       "18                                         59-64, 285-290   \n",
       "19                              336-341, 494-499, 540-545   \n",
       "20                59-64, 79-84, 223-228, 256-261, 291-296   \n",
       "21                                       238-243, 366-371   \n",
       "22                                                174-179   \n",
       "23   135-140, 285-290, 305-310, 449-454, 482-487, 517-522   \n",
       "24                              104-109, 280-285, 506-511   \n",
       "25                                                198-203   \n",
       "26                                       132-137, 298-303   \n",
       "27                                       221-226, 380-385   \n",
       "28                              195-200, 203-208, 413-418   \n",
       "29                                                208-213   \n",
       "..                                                    ...   \n",
       "108                                        10-15, 212-217   \n",
       "109                               87-92, 168-173, 276-281   \n",
       "110                                 13-18, 32-37, 312-317   \n",
       "111                               80-85, 201-206, 325-330   \n",
       "112                      73-78, 235-240, 316-321, 424-429   \n",
       "113                                               325-330   \n",
       "114                        13-18, 32-37, 312-317, 365-370   \n",
       "115                                        73-78, 101-106   \n",
       "116                                               275-280   \n",
       "117                                      273-278, 474-479   \n",
       "118                                      208-213, 310-315   \n",
       "119                               13-18, 293-298, 346-351   \n",
       "120                                      253-258, 427-432   \n",
       "121                               26-31, 211-216, 372-377   \n",
       "122                                      238-243, 423-428   \n",
       "123                                                   0-5   \n",
       "124                               69-74, 230-235, 337-342   \n",
       "125                                               257-262   \n",
       "126                                      178-183, 299-304   \n",
       "127                                               265-270   \n",
       "128                                               268-273   \n",
       "129                                         6-11, 292-297   \n",
       "130                                      140-145, 218-223   \n",
       "131                               30-35, 204-209, 323-328   \n",
       "132                                                 12-17   \n",
       "133                                               292-297   \n",
       "134                                               223-228   \n",
       "135                                      140-145, 168-173   \n",
       "136                                        64-69, 265-270   \n",
       "137                                      126-131, 233-238   \n",
       "\n",
       "                                                                                                                                                                                                                                                                                                                                                                                                                                                                                                                                                                                                                                                                                                  context  \n",
       "0    замок владимира мономаха в любече . многочисленные укрепленные монастыри также не являлись замками как таковыми — это были крепости . ранние европейские замки строились преимущественно из дерева они опоясывались деревянной оградой — палисадом уже тогда вокруг замков стали появляться рвы . примером такого замка может служить вышгородский замок киевских князей . каменное замковое строительство распространилось в западной и центральной европе лишь к xii веку . главной частью средневекового замка являлась центральная башня — донжон , выполнявшая функции цитадели . помимо своих оборонительных функций , донжон являлся непосредственным жилищем феодала . также в главной башне  \n",
       "1                                                                                                                                                                                                                                                                                                                                                                                                                                  шильонский замок замок шильйон ( ) , известный в русскоязычной литературе как шильо́нский за́мок , расположен на швейцарской ривьере , у кромки женевского озера , в  км от города монтре . замок представляет собой комплекс из элементов разного времени постройки .  \n",
       "2                                                                                                                                                                                                                                                                                                                                                                                      проведения архитектурно - археологических работ эстонским реставрационным управлением под руководством архитектора х .  и .  потти , искусствоведа е .  а .  кальюнди и при научной консультации доктора исторических наук п .  а .  рапопорта . с года музей называется государственным музеем выборгский замок .  \n",
       "3                                                                                                                                                                                                                                                                                                                                                                                                                                                                                                                                                                              топи с . , л . белокуров легенда о завещании мавра с . , н . юсупов день рождения с . , р . янушкевич янтарный замок с . .  \n",
       "4                                                                                                                                                                                                                                                                           великий князь литовский гедимин после успешной охоты обнаружил прекрасное место недалеко от города кернаве , решил воздвигнуть на нем замок и перенести сюда столицу . во второй половине xiv века здесь , в старых троках ( \" сянейи тракай \" ) , уже стоял каменный замок . правил им в — сын гедимина трокский князь кейстут . около года в этом замке родился витовт . в году кейстут перенес свою столицу из старых трок  \n",
       "5                                                                                                                             его без боя . в начале xviii века высокий замок захватили и сильно разрушили шведские войска под командованием карла xii . после этого крепость потеряла стратегическое значение . со второй половины xviii в . башни и стены постепенно разбирают на строительный материал . в xix веке замок был разобран . возвышенность укрепили , насадили на склонах деревья , в организовали парк . от старого замка сохранился лишь фрагмент южной каменной стены с бойницами , ограждавшей въезд на территорию замка . памятники градостроительства и архитектуры украинской сср .  \n",
       "6                                                                                                                               , колодец , хозяйственные помещения ( склады продовольствия и др . ) . часто в донжоне располагался крупный парадный зал для приемов . элементы донжона можно найти в замковой архитектуре западной и центральной европы , кавказа , средней азии и т .  п . обычно замок имел небольшой внутренний двор , который окружали массивные зубчатые стены с башнями и хорошо укрепленными воротами . далее следовал внешний двор , включавший в себя хозяйственные постройки , а также замковые сад и огород . весь замок был окружен вторым рядом стен и рвом , через который  \n",
       "7                                                                                                                                                                                                                                                                    — сын гедимина трокский князь кейстут . около года в этом замке родился витовт . в году кейстут перенес свою столицу из старых трок в защищенные озером новые троки , где был построен полуостровной замок . замок в старых троках в году был разрушен и больше не восстанавливался . участок земли с остатками замка витовт в году подарил монахам бенедиктинцам . монастырь стоит на старом замчище . трокский полуостровной замок  \n",
       "8                                                                                                                                                                                                                             одним из кэмпбеллов — отдал замок в обмен на восьмивесельную лодку - верейку . сталкер вернулся к стюартам только в  г . , но после поражения в битве при данкелде , сюартов обязали вновь передать замок кэмпбеллам . стюарты отказались , и кэмпбеллы осаждали замок в течение нескольких месяцев , пока наконец не захватили его . кэмпбеллы жили в замке примерно до  г . , потом перебрались с острова на большую землю , а замок использовали как склад , пока в  г .  \n",
       "9                                                                                                                                                                                                                                                                                                                                                                                                                                                                    замок сталкер замок был построен в  г . и первоначально представлял собой небольшое укрепление , принадлежащее клану макдугалов . в  г . право владения на эти земли , включая замок , перешло к стюартам . считается , что сэр джон  \n",
       "10                                                                                                                                                                                                              замок данноттар замок данноттар ( ) расположен на восточном побережье шотландии в двух милях к югу от стонхейвена и в милях от абердина . ранняя история . утес , на котором стоит замок , словно специально был создан для того , чтобы данноттар стал самой неприступной крепостью шотландии . в замок можно было попасть всего двумя способами через хорошо укрытый в расселине скалы главный вход либо по узкой крутой тропинке , которая вела через пещеры к потайному входу в замок  \n",
       "11                                                                                                                                                    замок был выстроен из дерева на месте прусского городища тувангсте и на протяжении всего xiii века неоднократно подвергался нападениям восставших пруссов и литовских отрядов . замок был основан в январе года как деревянное строение , двумя годами позже началось возведение кирпичного замка . замок служил резиденцией маршалов тевтонского ордена и был центром сбора рыцарских походов в великое княжество литовское в xiv веке . с по год в замке находилась резиденция великого магистра ордена . строительство продолжилось в xiv веке .  \n",
       "12                                                                                                                                                                                                                                                                          полуостровной замок . замок в старых троках в году был разрушен и больше не восстанавливался . участок земли с остатками замка витовт в году подарил монахам бенедиктинцам . монастырь стоит на старом замчище . трокский полуостровной замок был построен кейстутом в - е годы на берегу озера гальве ( или трокского озера ) . он был разрушен во время междоусобиц — годов и вновь отстроен лишь в конце правления витовта  \n",
       "13                                                                                                                                                       башня эта долгое время считалась самым высоким донжоном скандинавии . толщина крепостных стен составляла , — метра , а толщина стен башни — м . сверху стены завершались зубцами , а по периметру шла навесная деревянная галерея , боевой ход . выборгский замок стал центром выборгского лена , надежным форпостом распространения шведского влияния на земли карельского перешейка , оставаясь неприступным вплоть до года . новгородская республика не желала мириться с потерей карельских земель , и уже в году дружина новгорода великого  \n",
       "14                                                                                                                                                               шильонский замок замок шильйон ( ) , известный в русскоязычной литературе как шильо́нский за́мок , расположен на швейцарской ривьере , у кромки женевского озера , в  км от города монтре . замок представляет собой комплекс из элементов разного времени постройки . шильонский замок стоит на скале , незначительно возвышающейся над поверхностью озера , и соединен с берегом мостом . сочетание природных условий и особенностей постройки позволяли замку контролировать стратегически важную дорогу , пролегавшую между озером и  \n",
       "15                                                                                                                                                                    , каменной стеной с башнями и бастионами , земляным валом и рвом , наполненным водой . старый замок постепенно превратился в тыловую позицию крепости . . новый этап серьезных строительных работ начался после того , как в году замок посетил шведский король густав ваза . башни и здания вновь перестраиваются . береговая линия дополнительно укрепляется деревянными шканцами и больверками . в году главная башня надстраивается до этажей , причем верхняя часть получила восьмигранную форму с прорезанными в трехметровых  \n",
       "16                                                                                                                                                                                                                                                                                                                                    г . шотландский король яков vi взошел на английский трон и после столетий войн на границе наступил мир . к концу xviii века замок стал популярной туристической достопримечательностью , а в г . был передан под государственную опеку . замок открыт на протяжении всего года . с апреля по сентябрь — ежедневно с . по . . с октября по март — ежедневно с . по .  \n",
       "17                                                                                                                                                                                                                                                                                                    стерлинг ( замок ) замок стерлинг ( ) — находится в шотландии в городе стерлинг . замок стерлинг является одним из крупнейших и важнейших замков шотландии , как с исторической , так и с архитектурной точки зрения . он располагается на вершине замкового холма . с трех сторон замок окружен крутыми обрывами , что создает сильную оборонительную позицию . большинство главных строений замка  \n",
       "18                                                                                                                                    попытки отреставрировать разрушившийся с годами тракайский замок предпринимались еще в конце xix века , однако основные работы не столько по реставрации , сколько по консервации приходятся на начало xx века . в году археолог в . шукевич взял у городского магистрата трокский островной замок в аренду на двенадцать лет , обязуясь охранять его от дальнейшего разрушения . с года уход за замками стал постоянным . руины на острове были измерены , было решено их законсервировать , а замки объявлены памятником . основное внимание уделялось островному  \n",
       "19                                                                             ( замки крестоносцев ) и испании . с окончанием эпохи средневековья замки стали утрачивать свою первоначальную — оборонительную — задачу , которая уступила теперь место жилой . с развитием артиллерии оборонительная задача замков исчезла окончательно черты замковой архитектуры сохранялись лишь в качестве элементов декора ( французский замок пьерфон , конец xiv века ) . возобладала регулярная планировка с четко выраженной симметрией , главное здание приобрело дворцовый характер ( мадридский замок в париже , xv—xvi века ) или несвижский замок в белоруссии ( xvi век ) в xvi веке замковая архитектура  \n",
       "20                                                                                                                                                   если позволял рельеф местности , то ров заполнялся водой и замок превращался в замок на воде . со временем структура замков усложнялась в территорию замков включались уже казармы , суд , храм , тюрьма и другие сооружения ( замок куси во франции , xiii век замок вартбург в германии , xi век замок харлек в великобритании , xiii век ) . с началом массового применения пороха начинается закат эпохи строительства замков . так , осаждающие начали проводить в случае , если это позволял грунт , саперные работы — незаметно копать сапы ,  \n",
       "21                                                                                                                                                                                                                                                                        , , ) . внутри замка с года находится музей истории тракая и сувенирные лавки . по летописной легенде , великий князь литовский гедимин после успешной охоты обнаружил прекрасное место недалеко от города кернаве , решил воздвигнуть на нем замок и перенести сюда столицу . во второй половине xiv века здесь , в старых троках ( \" сянейи тракай \" ) , уже стоял каменный замок . правил им в — сын гедимина трокский князь  \n",
       "22                                                                                                                                                                                                                                                                    в - е годы на берегу озера гальве ( или трокского озера ) . он был разрушен во время междоусобиц — годов и вновь отстроен лишь в конце правления витовта . трокский островной замок был окончен в году . он был мощнейшим и наиболее величественным во всем великом княжестве литовском . это была одна из самых неприступных крепостей во всей восточной европе ни разу за всю историю врагам не удалось его завоевать . островной  \n",
       "23                                                                                                                                                    укрепленными воротами . далее следовал внешний двор , включавший в себя хозяйственные постройки , а также замковые сад и огород . весь замок был окружен вторым рядом стен и рвом , через который перебрасывался подъемный мост . если позволял рельеф местности , то ров заполнялся водой и замок превращался в замок на воде . со временем структура замков усложнялась в территорию замков включались уже казармы , суд , храм , тюрьма и другие сооружения ( замок куси во франции , xiii век замок вартбург в германии , xi век замок харлек в  \n",
       "24                                                                                                                                             путей привела город к экономическому упадку . вскоре троки становятся местом ссылок неугодной знати , а замок использовался как тюрьма . после войны с москвой — годов развалины заброшенного замка постепенно разрушались . попытки отреставрировать разрушившийся с годами тракайский замок предпринимались еще в конце xix века , однако основные работы не столько по реставрации , сколько по консервации приходятся на начало xx века . в году археолог в . шукевич взял у городского магистрата трокский островной замок в аренду на двенадцать лет  \n",
       "25                                                                                                                                                                                                                                                              - м лордом максвеллом , и его сыном робертом , - м лордом максвеллом , а в xvi в . керлаверок вновь фигурирует в описаниях конфликтов между англией и шотландией . в г . перед битвой при солвей мосс замок посетил король яков v . в том сражении шотландцы потерпели сокрушительное поражение , кроме того англичане пленили роберта , - го лорда максвелла . вскоре он был освобожден , но ненадолго — в г . англичане вновь взяли его  \n",
       "26                                                                                                                                                                                                                            приобрел форму вытянутого прямоугольника с четырьмя башнями на углах , из которых самая высокая , западная , была дозорной . внутри замок разделялся на два двора зданием княжеского дворца . внутри стен находились казармы , склады боеприпасов в скале был вырублен глубокий колодец . впервые высокий замок был взят штурмом в году казаками под предводительством максима кривоноса . после  г . из него вывели гарнизон , и в р . турки заняли его без боя . в начале  \n",
       "27                                                                                                                                                                                                                                                                    принести ему клятву верности . среди присягнувших был герберт максвелл и его сын джон . вскоре шотландцы подняли мятеж . в г . эдуард вторгся в галлоуэй , один из очагов сопротивления , и обрушил свой гнев в том числе на замок керлаверок . армия эдуарда i состояла из рыцарей и воинов . осада длилась недолго , и вскоре лорд максвелл и его гарнизон из человек были взяты в плен . замок оставался в руках англичан вплоть  \n",
       "28                                                                                                                                                                                                                                              сын гедимина трокский князь кейстут . около года в этом замке родился витовт . в году кейстут перенес свою столицу из старых трок в защищенные озером новые троки , где был построен полуостровной замок . замок в старых троках в году был разрушен и больше не восстанавливался . участок земли с остатками замка витовт в году подарил монахам бенедиктинцам . монастырь стоит на старом замчище . трокский полуостровной замок был построен кейстутом  \n",
       "29                                                                                                                                                                                                                                                                                       , но главные башни и стены к году еще сохранились . несмотря на протесты , в году , по решению первого секретаря обкома кпсс николая коновалова развалины замка были взорваны . вершина горы , на которой стоял замок , была на несколько метров срыта . приблизительно на месте юго - восточной части замка в настоящее время стоит строившийся ( и недостроенный ) в советское время дом советов . с по годы (  \n",
       "..                                                                                                                                                                                                                                                                                                                                                                                                                                                                                                                                                                                                                                                                                                    ...  \n",
       "108                                                                                                                                                                                                                                                                                                              изготовил замок ,  м х ,  м весом  кг , но это была кодовая система с пятью нажимными кнопками . соревнование в споре ключевых замков продолжил снова пакистанец джавед икбал хаджи кхохар , который в  г . показал замок высотой ,  м , шириной ,  м и толщиной ,  см . вес этого гиганта составил  кг , да плюс три ключа весом  кг . впрочем , в середине была и цифровая электронная  \n",
       "109                                                                                                                                                                                                                                                         ( изготовлен из латуни и алюминия ) и его раскачивает ветром , так как поперек корпуса замок прихвачен к воротам железной полосой . среди рекордсменов назовем навесной замок пакистанского мастера мухаммада рафика , который в  г . после трех лет работы вручную зарегистрировал замок высотой ( с дужкой ) ,  см , шириной ,  см , толщиной ,  см и весом ,  кг . лишь в  г . пальму первенства перехватил бельгиец анджело лупо с замком  \n",
       "110                                                                                                                                                                                                                                                                                                                                      молекулярный замок молекулярный замок — блокирующая система , предназначенная для выработки сигнала на открытие электронного замка , то есть датчик , реагирующий не на набор электрических сигналов от клавиатуры или считывающего устройства , а датчик реагирующий на набор химических веществ , в также электронный замок стеганографического типа , то есть  \n",
       "111                                                                                                                                                                                                                                                                                                                                                           г . сын первого рекордсмена вернул рекорд в пакистан . зафар икбал шейх создал замок ,  см х ,  см х ,  см весом ,  кг . уже на следующий год также пакистанец джавед икбал хаджи хохар зарегистрировал замок высотой ,  м х ,  м х  см . вес гиганта достиг  кг , а вес ключа —  кг . в  г . немецкий мастер дитер сенфт изготовил замок ,  \n",
       "112                                                                                                                                                                                                                  ( длиной более , дюймов ) находятся в храме . это самый большой навесной замок , который фактически используется . похоже , что вес замка небольшой ( изготовлен из латуни и алюминия ) и его раскачивает ветром , так как поперек корпуса замок прихвачен к воротам железной полосой . среди рекордсменов назовем навесной замок пакистанского мастера мухаммада рафика , который в  г . после трех лет работы вручную зарегистрировал замок высотой ( с дужкой ) ,  см , шириной ,  \n",
       "113                                                                             такие системы за характерную форму пластины - базы получили название секирные . в период позднего средневековья произошло разделение кузнечного ремесла на собственно кузнецов ( обработка металла с обязательным нагреванием ) и специалистов по холодной обработке металла — слесарей ( происходит от немецкого schlosser schloß — замок , schlüssel — ключ ) . название профессии и слесарная , а затем замочная терминология попали ко многим народам центральной и восточной европы . например , засов стали именовать ригель . период технической революции конца xviii—xix вв . дал мощный толчок и замочному делу  \n",
       "114                                                                       молекулярный замок молекулярный замок — блокирующая система , предназначенная для выработки сигнала на открытие электронного замка , то есть датчик , реагирующий не на набор электрических сигналов от клавиатуры или считывающего устройства , а датчик реагирующий на набор химических веществ , в также электронный замок стеганографического типа , то есть электронный замок , о существовании которого знает только человек , имеющий доступ к информации о нем и молекулярный ключ . история создания молекулярных замков . первая подобная блокирующая система была представлена в году профессором абрахамом шанцером  \n",
       "115                                                                                                                                                                                                                                                                                                                                                             высота м  см , ширина м  см , толщина  см . вес замка с ключом ,  кг , ( замок ,  кг , ключ , кг ) . замок был зарегистрирован в книге рекордов россии и книге рекордов гиннеса . говорят , что если повернуть ключ , то играет мелодия на семи холмах  — гимн павлово , но эту деталь , как и декоративные гербы , заказали на стороне .  \n",
       "116                                                                                                                                                                                                                                                      . изобретатель поставил в тыльный конец ригеля круглую пластину , которая препятствовала передвижению засова ключом , пока пластина ( вращаемая часовым механизмом ) не становилась на ось ригеля пазом . в  г . в сша джеймс саргент запатентовал первый перестраиваемый ключевой замок . среди прочих знаменитых замков отметим protector , патент на который в ( ? ) г . получил теодор кромер ( theodor kromer ) из фрайбурга ( германия ) .  \n",
       "117                                                                                                                                                когда американский изобретатель линус йейл - старший ( linus yale sr . ) запатентовал конструкцию , в которой использовал принцип древнеегипетского замка . позже его сын линус йейл - младший ( linus yale jr . ) творчески переработал наработки отца и запатентовал штифтовой замок с маленьким плоским ключом , ставший наиболее распространенным замком хх века . отдельным видом замков стали сейфовые системы . в  г . вильям русерфорд ( william rutherford ) запатентовал первый замок с часовым механизмом . изобретатель поставил в тыльный  \n",
       "118                                                                                                                                                                                                                                                            ) , который запирает ворота храма джаганнатха . по верованиям индусов божество когда - то заглянет в храм , и для этого одна из стен выполнена в виде огромных ворот . а до той поры , с  г . , ворота запирает замок , три ключа к которому ( длиной более , дюймов ) находятся в храме . это самый большой навесной замок , который фактически используется . похоже , что вес замка небольшой ( изготовлен из латуни и алюминия ) и его  \n",
       "119                                                        молекулярный замок — блокирующая система , предназначенная для выработки сигнала на открытие электронного замка , то есть датчик , реагирующий не на набор электрических сигналов от клавиатуры или считывающего устройства , а датчик реагирующий на набор химических веществ , в также электронный замок стеганографического типа , то есть электронный замок , о существовании которого знает только человек , имеющий доступ к информации о нем и молекулярный ключ . история создания молекулярных замков . первая подобная блокирующая система была представлена в году профессором абрахамом шанцером ( abraham shanzer ) и руководимой  \n",
       "120                                                                                                                                                                                                                                         дужку изготавливают -  см длины . зародившаяся в италии мода замыкать на мостах и т .  п . людных местах замки на неразрывность отношений покорила весь мир . но везде гирлянды замков безжалостно срезают коммунальные службы . например , полутораметровый замок с инициалами в декабре  г . украсил перила пешеходного моста в вологде , рф . на следующий день его срезали , и более  кг металла , пошло в утиль . близкий по размерам замок замкнули еще  \n",
       "121                                                                                                                                                                                                                                                            сын изготовили гигантский замок - метровой высоты ( с дужкой ) , . метра шириной и сантиметров толщиной . изготовители — семья наследственных слесарь - замочников — уже более лет занимается этим ремеслом . этот замок не первый , с которым мастер участвовал в национальном смотре достижений ( national festival for heritage and culture ) . в году он выставил самый тяжелый замок в саудовской аравии весом  кг и ключами по  кг .  \n",
       "122                                                                                                                                                                                                                                                три ключа весом  кг . впрочем , в середине была и цифровая электронная система . рекорд по максимальной величине с начала  г . принадлежит изделию мастера из саудовской аравии . мастер анас мохаммад раджаб и его сын изготовили гигантский замок - метровой высоты ( с дужкой ) , . метра шириной и сантиметров толщиной . изготовители — семья наследственных слесарь - замочников — уже более лет занимается этим ремеслом . этот замок не первый  \n",
       "123                                                                                                                                                                                                                                                                                                                                                                                              замок ( устройство ) замо́к — механическое , электронное или комбинированное устройство фиксации . применяется для запирания дверей , крышек , емкостей и пр . , а также для обеспечения блокировки предметов с целью предотвращения их похищения . в зависимости от принципа действия привода различают  \n",
       "124                                                                                                                                                                                                                       слесарь - замочников — уже более лет занимается этим ремеслом . этот замок не первый , с которым мастер участвовал в национальном смотре достижений ( national festival for heritage and culture ) . в году он выставил самый тяжелый замок в саудовской аравии весом  кг и ключами по  кг . из российских замков - рекордсменов назовем крупный замок , который заказал и хранит в своем ресторане династия бизнесмен из российского города павлово ( на оке ) . размеры замка  \n",
       "125                                                                                                                                                                                                                                        на семи холмах  — гимн павлово , но эту деталь , как и декоративные гербы , заказали на стороне . основную работу выполнили мастера и учащиеся местного пту . также в городском музее г . павлово среди других работ мастера павла куликова хранится миниатюрный замок длиной около х мм , диаметром  мм , весом , грамма с ключиком весом , г . на замочке надпись павлово и фамилия мастера . тип замка — винтовой , дужка продета в ушко иглы . официальным  \n",
       "126                                                                                                                                                                                                                                                                                                                                                           г . пальму первенства перехватил бельгиец анджело лупо с замком ,  м в высоту и весом  кг . но в  г . сын первого рекордсмена вернул рекорд в пакистан . зафар икбал шейх создал замок ,  см х ,  см х ,  см весом ,  кг . уже на следующий год также пакистанец джавед икбал хаджи хохар зарегистрировал замок высотой ,  м х ,  м х  см .  \n",
       "127                                                                                                                                                                                                                       - либо , не повредив , просто невозможно , так что продемонстрировать работу нельзя . в пересчете из золота , равного весу замку куликова или сабраманьямы , украинский мастер мог бы изготовить несколько десятков тысяч замков . сядристый так же изготовил бо ' льший замок , который , как на полке , стоит на хоботке комара . его фото можно увидать в книге тайны микротехники . ) , а также в фотокаталоге , который в  г . вышел на украинском , английском и немецком  \n",
       "128                                                                                                                                                                                     в вертикальных пазах свободно перемещались штифты . к сожалению , дворец был давно разрушен , и установить , куда вели двери , на которых висел этот единственный в комплексе из более чем отдельных помещений и открытых дворов , соединенных многочисленными коридорами , замок , невозможно . но это не были ни спальня царя , ни сокровищница , ни хранилище железных заготовок ( огромная ценность в то время ) , ни женская половина . отметим , что находка замка не вызвала интереса в европе . и дело не  \n",
       "129                                                                                                                                                                   такой замок называли финским . с развитием строительства крупных зданий ( офисов и гостиниц ) возникла необходимость разработки быстро перестраиваемых замочных систем . распространение получили электронно - механические системы . в середине - х тор сернес предложил легко перепрограммируемый замок , названный ving card . в  г . в киеве группой разработчиков во главе с в .  ф .  бардаченко был получен патент на перенастраиваемый ключ . в этом устройстве на центральном стержне надеты несколько пластин , на концах  \n",
       "130                                                                                                                                                                                                                               технической революции конца xviii—xix вв . дал мощный толчок и замочному делу . в  г . англичанин роберт баррон ( r . barron ) запатентовал замок качающимися рычага двойного направления . прототипом его был томпольный замок . в  г . англичанин джозеф брейма ( joseph bramax ) запатентовал принципиально новую конструкцию замка , получившего название помповый . ключ в таком замке не имел бородки в привычном понимании — это был цилиндр , на конце которого  \n",
       "131                                                                                                                                                                                                                                                                           . например , полутораметровый замок с инициалами в декабре  г . украсил перила пешеходного моста в вологде , рф . на следующий день его срезали , и более  кг металла , пошло в утиль . близкий по размерам замок замкнули еще в  г . на дереве счастья в калуге , но его дальнейшая судьба мне неизвестна . другое дело , крупный замок в индийском храмовом комплексе в пури ( восточный штат орисса ) , который запирает  \n",
       "132                                                                                                                                                                                                                                                                                                                                                                                                                                                                                                                                                                                                                                                                                     электронный замок  \n",
       "133                                                                                                                            с корпусом из дуба , вяза и других твердых пород дерева , усиленных просечными металлическими накладками и крепящимися к дверному полотну с помощью фигурных скоб . существовало два основных типа замка . первый известен как старонемецкий , в нем засов заканчивался скошенной площадкой . такой замок защелкивался при захлопывании двери , но требовал металлическую приемную планку на откосе . для отпирания ключ вставляли в замочную скважину замка и разворачивали на — ° . при этом бородка ключа смещала засов внутрь корпуса . во время движения засов задней  \n",
       "134                                                                                                                                                                                               ключ в таком замке не имел бородки в привычном понимании — это был цилиндр , на конце которого прорезаны продольные пазы разной длины . в  г . англичане братья джереми и чарльз чебб ( chubb ) получили патент на детекторный замок , который принято считать базовым для современных сувальдных систем . прологом настоящей революции стал  г . , когда американский изобретатель линус йейл - старший ( linus yale sr . ) запатентовал конструкцию , в которой использовал принцип древнеегипетского  \n",
       "135                                                                                                                                                                                                                                                                                                                                                                     бизнесмен из российского города павлово ( на оке ) . размеры замка высота м  см , ширина м  см , толщина  см . вес замка с ключом ,  кг , ( замок ,  кг , ключ , кг ) . замок был зарегистрирован в книге рекордов россии и книге рекордов гиннеса . говорят , что если повернуть ключ , то играет мелодия на семи холмах  — гимн  \n",
       "136                                                                                                                                                             ) творчески переработал наработки отца и запатентовал штифтовой замок с маленьким плоским ключом , ставший наиболее распространенным замком хх века . отдельным видом замков стали сейфовые системы . в  г . вильям русерфорд ( william rutherford ) запатентовал первый замок с часовым механизмом . изобретатель поставил в тыльный конец ригеля круглую пластину , которая препятствовала передвижению засова ключом , пока пластина ( вращаемая часовым механизмом ) не становилась на ось ригеля пазом . в  г . в сша джеймс саргент  \n",
       "137                                                                                                                                                                                                                                                                               участвовал в национальном смотре достижений ( national festival for heritage and culture ) . в году он выставил самый тяжелый замок в саудовской аравии весом  кг и ключами по  кг . из российских замков - рекордсменов назовем крупный замок , который заказал и хранит в своем ресторане династия бизнесмен из российского города павлово ( на оке ) . размеры замка высота м  см , ширина м  см , толщина  см . вес  \n",
       "\n",
       "[138 rows x 6 columns]"
      ]
     },
     "execution_count": 80,
     "metadata": {},
     "output_type": "execute_result"
    }
   ],
   "source": [
    "df[df['word'] == 'замок']"
   ]
  },
  {
   "cell_type": "code",
   "execution_count": 88,
   "metadata": {},
   "outputs": [],
   "source": [
    "sentences_1 = df[df['word']=='замок'][df['gold_sense_id']=='1'].sample(4, random_state=2020)\n",
    "sentences_2 = df[df['word']=='замок'][df['gold_sense_id']=='2'].sample(4, random_state=2020)"
   ]
  },
  {
   "cell_type": "code",
   "execution_count": 89,
   "metadata": {},
   "outputs": [],
   "source": [
    "sentences = list(sentences_1['context']) + list(sentences_2['context'])\n",
    "labels = list(sentences_1['gold_sense_id']) + list(sentences_2['gold_sense_id'])"
   ]
  },
  {
   "cell_type": "code",
   "execution_count": 90,
   "metadata": {},
   "outputs": [
    {
     "data": {
      "text/plain": [
       "['замок дамбартон в году в замке содержался под стражей заместитель командующего королевской армии в шотландии генерал уильям драммонд , которого обвинили в тайных симпатиях к мятежным ковенантерам .',\n",
       " 'полуостровной замок . замок в старых троках в году был разрушен и больше не восстанавливался . участок земли с остатками замка витовт в году подарил монахам бенедиктинцам . монастырь стоит на старом замчище . трокский полуостровной замок был построен кейстутом в - е годы на берегу озера гальве ( или трокского озера ) . он был разрушен во время междоусобиц — годов и вновь отстроен лишь в конце правления витовта',\n",
       " 'году , хотя , по некоторым сведениям , замок мог быть заложен еще раньше , в ix веке . во время раскопок в году были найдены следы пребывания на этом месте римлян\\xa0— в частности , римские монеты . в период правления петра савойского замок был укреплен и расширен придворным архитектором менье . активная перестройка замка продолжалась вплоть до xv века . именно в этот период были возведены основные сооружения , определившие его исторический облик . традиционно замок служил также тюрьмой . людовик благочестивый держал здесь в заключении аббата валу',\n",
       " 'укрепленными воротами . далее следовал внешний двор , включавший в себя хозяйственные постройки , а также замковые сад и огород . весь замок был окружен вторым рядом стен и рвом , через который перебрасывался подъемный мост . если позволял рельеф местности , то ров заполнялся водой и замок превращался в замок на воде . со временем структура замков усложнялась в территорию замков включались уже казармы , суд , храм , тюрьма и другие сооружения ( замок куси во франции , xiii век замок вартбург в германии , xi век замок харлек в',\n",
       " '( длиной более , дюймов ) находятся в храме . это самый большой навесной замок , который фактически используется . похоже , что вес замка небольшой ( изготовлен из латуни и алюминия ) и его раскачивает ветром , так как поперек корпуса замок прихвачен к воротам железной полосой . среди рекордсменов назовем навесной замок пакистанского мастера мухаммада рафика , который в \\xa0г . после трех лет работы вручную зарегистрировал замок высотой ( с дужкой ) , \\xa0см , шириной ,',\n",
       " 'с корпусом из дуба , вяза и других твердых пород дерева , усиленных просечными металлическими накладками и крепящимися к дверному полотну с помощью фигурных скоб . существовало два основных типа замка . первый известен как старонемецкий , в нем засов заканчивался скошенной площадкой . такой замок защелкивался при захлопывании двери , но требовал металлическую приемную планку на откосе . для отпирания ключ вставляли в замочную скважину замка и разворачивали на — ° . при этом бородка ключа смещала засов внутрь корпуса . во время движения засов задней',\n",
       " 'дужку изготавливают - \\xa0см длины . зародившаяся в италии мода замыкать на мостах и\\xa0т . \\xa0п . людных местах замки на неразрывность отношений покорила весь мир . но везде гирлянды замков безжалостно срезают коммунальные службы . например , полутораметровый замок с инициалами в декабре \\xa0г . украсил перила пешеходного моста в вологде , рф . на следующий день его срезали , и более \\xa0кг металла , пошло в утиль . близкий по размерам замок замкнули еще',\n",
       " 'высота м \\xa0см , ширина м \\xa0см , толщина \\xa0см . вес замка с ключом , \\xa0кг , ( замок , \\xa0кг , ключ , кг ) . замок был зарегистрирован в книге рекордов россии и книге рекордов гиннеса . говорят , что если повернуть ключ , то играет мелодия на семи холмах \\xa0— гимн павлово , но эту деталь , как и декоративные гербы , заказали на стороне .']"
      ]
     },
     "execution_count": 90,
     "metadata": {},
     "output_type": "execute_result"
    }
   ],
   "source": [
    "sentences"
   ]
  },
  {
   "cell_type": "code",
   "execution_count": 91,
   "metadata": {},
   "outputs": [
    {
     "name": "stderr",
     "output_type": "stream",
     "text": [
      "2020-12-10 16:45:13,695 : INFO : Warming up ELMo on 8 sentences...\n",
      "2020-12-10 16:45:15,392 : INFO : Warming up finished.\n",
      "2020-12-10 16:45:15,398 : INFO : Texts in the current batch: 8\n"
     ]
    }
   ],
   "source": [
    "X = get_elmo_vectors('замок', sentences, model)"
   ]
  },
  {
   "cell_type": "code",
   "execution_count": 92,
   "metadata": {},
   "outputs": [
    {
     "data": {
      "text/plain": [
       "(8, 1024)"
      ]
     },
     "execution_count": 92,
     "metadata": {},
     "output_type": "execute_result"
    }
   ],
   "source": [
    "X = np.array(X)\n",
    "X.shape"
   ]
  },
  {
   "cell_type": "code",
   "execution_count": 93,
   "metadata": {},
   "outputs": [
    {
     "name": "stdout",
     "output_type": "stream",
     "text": [
      "size of X: (8, 1024)\n",
      "size of reduced X: (8, 2)\n",
      "Variance retained ratio of PCA-1: 0.2257143363833148\n",
      "Variance retained ratio of PCA-2: 0.20281282054112404\n"
     ]
    }
   ],
   "source": [
    "X_reduce = dim_reduction(X=X, n=2)"
   ]
  },
  {
   "cell_type": "code",
   "execution_count": 94,
   "metadata": {},
   "outputs": [
    {
     "data": {
      "image/png": "[encoded data removed]",
      "text/plain": [
       "<Figure size 432x288 with 1 Axes>"
      ]
     },
     "metadata": {
      "needs_background": "light"
     },
     "output_type": "display_data"
    }
   ],
   "source": [
    "plot('замок', sentences, labels, X_reduce)"
   ]
  },
  {
   "cell_type": "markdown",
   "metadata": {},
   "source": [
    "Что можно сделать с этими векторами в целях WSD?\n",
    "* классификатор\n",
    "* кластеризация\n",
    "\n",
    "Попробуем разные методы кластеризации."
   ]
  },
  {
   "cell_type": "code",
   "execution_count": 95,
   "metadata": {},
   "outputs": [],
   "source": [
    "grouped_df = df.groupby('word')[['word', 'context', 'gold_sense_id']]"
   ]
  },
  {
   "cell_type": "code",
   "execution_count": 108,
   "metadata": {
    "scrolled": true
   },
   "outputs": [
    {
     "name": "stderr",
     "output_type": "stream",
     "text": [
      "2020-12-10 18:02:33,209 : INFO : Warming up ELMo on 32 sentences...\n",
      "2020-12-10 18:02:35,440 : INFO : Warming up finished.\n",
      "2020-12-10 18:02:35,447 : INFO : Texts in the current batch: 32\n",
      "2020-12-10 18:02:36,286 : INFO : Texts in the current batch: 32\n",
      "2020-12-10 18:02:37,233 : INFO : Texts in the current batch: 32\n",
      "2020-12-10 18:02:38,163 : INFO : Texts in the current batch: 23\n"
     ]
    },
    {
     "name": "stdout",
     "output_type": "stream",
     "text": [
      "балка    0.06647921321170024\n"
     ]
    },
    {
     "name": "stderr",
     "output_type": "stream",
     "text": [
      "2020-12-10 18:02:50,472 : INFO : Warming up ELMo on 32 sentences...\n",
      "2020-12-10 18:02:54,302 : INFO : Warming up finished.\n",
      "2020-12-10 18:02:54,322 : INFO : Texts in the current batch: 32\n",
      "2020-12-10 18:02:56,705 : INFO : Texts in the current batch: 24\n",
      "2020-12-10 18:03:08,955 : INFO : Warming up ELMo on 32 sentences...\n",
      "2020-12-10 18:03:10,554 : INFO : Warming up finished.\n",
      "2020-12-10 18:03:10,560 : INFO : Texts in the current batch: 32\n",
      "2020-12-10 18:03:11,294 : INFO : Texts in the current batch: 32\n",
      "2020-12-10 18:03:11,983 : INFO : Texts in the current batch: 13\n"
     ]
    },
    {
     "name": "stdout",
     "output_type": "stream",
     "text": [
      "вид    0.25664504465816335\n"
     ]
    },
    {
     "name": "stderr",
     "output_type": "stream",
     "text": [
      "2020-12-10 18:03:22,667 : INFO : Warming up ELMo on 32 sentences...\n",
      "2020-12-10 18:03:24,268 : INFO : Warming up finished.\n",
      "2020-12-10 18:03:24,274 : INFO : Texts in the current batch: 32\n",
      "2020-12-10 18:03:24,968 : INFO : Texts in the current batch: 32\n",
      "2020-12-10 18:03:25,652 : INFO : Texts in the current batch: 32\n",
      "2020-12-10 18:03:26,373 : INFO : Texts in the current batch: 27\n"
     ]
    },
    {
     "name": "stdout",
     "output_type": "stream",
     "text": [
      "винт    0.07523607178327468\n"
     ]
    },
    {
     "name": "stderr",
     "output_type": "stream",
     "text": [
      "2020-12-10 18:03:36,452 : INFO : Warming up ELMo on 32 sentences...\n",
      "2020-12-10 18:03:37,883 : INFO : Warming up finished.\n",
      "2020-12-10 18:03:37,889 : INFO : Texts in the current batch: 32\n",
      "2020-12-10 18:03:38,552 : INFO : Texts in the current batch: 19\n",
      "2020-12-10 18:03:49,928 : INFO : Warming up ELMo on 32 sentences...\n",
      "2020-12-10 18:03:51,686 : INFO : Warming up finished.\n",
      "2020-12-10 18:03:51,692 : INFO : Texts in the current batch: 32\n",
      "2020-12-10 18:03:52,425 : INFO : Texts in the current batch: 32\n",
      "2020-12-10 18:03:53,137 : INFO : Texts in the current batch: 32\n",
      "2020-12-10 18:03:53,831 : INFO : Texts in the current batch: 32\n",
      "2020-12-10 18:03:54,550 : INFO : Texts in the current batch: 9\n"
     ]
    },
    {
     "name": "stdout",
     "output_type": "stream",
     "text": [
      "губа    0.011203499312489646\n"
     ]
    },
    {
     "name": "stderr",
     "output_type": "stream",
     "text": [
      "2020-12-10 18:04:05,473 : INFO : Warming up ELMo on 32 sentences...\n",
      "2020-12-10 18:04:07,355 : INFO : Warming up finished.\n",
      "2020-12-10 18:04:07,359 : INFO : Texts in the current batch: 32\n",
      "2020-12-10 18:04:08,405 : INFO : Texts in the current batch: 4\n",
      "2020-12-10 18:04:18,812 : INFO : Warming up ELMo on 15 sentences...\n",
      "2020-12-10 18:04:19,864 : INFO : Warming up finished.\n",
      "2020-12-10 18:04:19,866 : INFO : Texts in the current batch: 15\n",
      "2020-12-10 18:04:30,866 : INFO : Warming up ELMo on 25 sentences...\n",
      "2020-12-10 18:04:32,516 : INFO : Warming up finished.\n",
      "2020-12-10 18:04:32,519 : INFO : Texts in the current batch: 25\n"
     ]
    },
    {
     "name": "stdout",
     "output_type": "stream",
     "text": [
      "двойник    -0.010005215989378346\n"
     ]
    },
    {
     "name": "stderr",
     "output_type": "stream",
     "text": [
      "2020-12-10 18:04:44,347 : INFO : Warming up ELMo on 13 sentences...\n",
      "2020-12-10 18:04:45,693 : INFO : Warming up finished.\n",
      "2020-12-10 18:04:45,695 : INFO : Texts in the current batch: 13\n"
     ]
    },
    {
     "name": "stdout",
     "output_type": "stream",
     "text": [
      "дворец    0.3486973947895791\n"
     ]
    },
    {
     "name": "stderr",
     "output_type": "stream",
     "text": [
      "2020-12-10 18:04:56,204 : INFO : Warming up ELMo on 32 sentences...\n",
      "2020-12-10 18:04:57,709 : INFO : Warming up finished.\n",
      "2020-12-10 18:04:57,713 : INFO : Texts in the current batch: 32\n",
      "2020-12-10 18:04:58,301 : INFO : Texts in the current batch: 15\n"
     ]
    },
    {
     "name": "stdout",
     "output_type": "stream",
     "text": [
      "девятка    0.10893567463738525\n"
     ]
    },
    {
     "name": "stderr",
     "output_type": "stream",
     "text": [
      "2020-12-10 18:05:09,580 : INFO : Warming up ELMo on 9 sentences...\n",
      "2020-12-10 18:05:10,797 : INFO : Warming up finished.\n",
      "2020-12-10 18:05:10,799 : INFO : Texts in the current batch: 9\n"
     ]
    },
    {
     "name": "stdout",
     "output_type": "stream",
     "text": [
      "дедушка    0.41558441558441556\n"
     ]
    },
    {
     "name": "stderr",
     "output_type": "stream",
     "text": [
      "2020-12-10 18:05:22,558 : INFO : Warming up ELMo on 12 sentences...\n",
      "2020-12-10 18:05:23,900 : INFO : Warming up finished.\n",
      "2020-12-10 18:05:23,902 : INFO : Texts in the current batch: 12\n",
      "2020-12-10 18:05:36,334 : INFO : Warming up ELMo on 13 sentences...\n",
      "2020-12-10 18:05:37,578 : INFO : Warming up finished.\n",
      "2020-12-10 18:05:37,581 : INFO : Texts in the current batch: 13\n"
     ]
    },
    {
     "name": "stdout",
     "output_type": "stream",
     "text": [
      "дежурный    0.06185567010309281\n"
     ]
    },
    {
     "name": "stderr",
     "output_type": "stream",
     "text": [
      "2020-12-10 18:05:50,152 : INFO : Warming up ELMo on 11 sentences...\n",
      "2020-12-10 18:05:51,473 : INFO : Warming up finished.\n",
      "2020-12-10 18:05:51,476 : INFO : Texts in the current batch: 11\n"
     ]
    },
    {
     "name": "stdout",
     "output_type": "stream",
     "text": [
      "декабрист    0.013289036544850487\n"
     ]
    },
    {
     "name": "stderr",
     "output_type": "stream",
     "text": [
      "2020-12-10 18:06:01,813 : INFO : Warming up ELMo on 12 sentences...\n",
      "2020-12-10 18:06:02,832 : INFO : Warming up finished.\n",
      "2020-12-10 18:06:02,834 : INFO : Texts in the current batch: 12\n"
     ]
    },
    {
     "name": "stdout",
     "output_type": "stream",
     "text": [
      "декрет    0.5378151260504201\n"
     ]
    },
    {
     "name": "stderr",
     "output_type": "stream",
     "text": [
      "2020-12-10 18:06:13,493 : INFO : Warming up ELMo on 32 sentences...\n",
      "2020-12-10 18:06:15,211 : INFO : Warming up finished.\n",
      "2020-12-10 18:06:15,215 : INFO : Texts in the current batch: 32\n",
      "2020-12-10 18:06:16,143 : INFO : Texts in the current batch: 32\n",
      "2020-12-10 18:06:17,044 : INFO : Texts in the current batch: 32\n",
      "2020-12-10 18:06:17,691 : INFO : Texts in the current batch: 32\n",
      "2020-12-10 18:06:18,364 : INFO : Texts in the current batch: 2\n",
      "2020-12-10 18:06:28,584 : INFO : Warming up ELMo on 14 sentences...\n",
      "2020-12-10 18:06:29,682 : INFO : Warming up finished.\n",
      "2020-12-10 18:06:29,684 : INFO : Texts in the current batch: 14\n"
     ]
    },
    {
     "name": "stdout",
     "output_type": "stream",
     "text": [
      "демобилизация    0.2280439121756487\n"
     ]
    },
    {
     "name": "stderr",
     "output_type": "stream",
     "text": [
      "2020-12-10 18:06:39,601 : INFO : Warming up ELMo on 18 sentences...\n",
      "2020-12-10 18:06:40,872 : INFO : Warming up finished.\n",
      "2020-12-10 18:06:40,875 : INFO : Texts in the current batch: 18\n"
     ]
    },
    {
     "name": "stdout",
     "output_type": "stream",
     "text": [
      "демократ    0.0\n"
     ]
    },
    {
     "name": "stderr",
     "output_type": "stream",
     "text": [
      "2020-12-10 18:06:53,276 : INFO : Warming up ELMo on 32 sentences...\n",
      "2020-12-10 18:06:55,513 : INFO : Warming up finished.\n",
      "2020-12-10 18:06:55,517 : INFO : Texts in the current batch: 32\n",
      "2020-12-10 18:06:56,138 : INFO : Texts in the current batch: 6\n",
      "2020-12-10 18:07:07,144 : INFO : Warming up ELMo on 21 sentences...\n",
      "2020-12-10 18:07:08,410 : INFO : Warming up finished.\n",
      "2020-12-10 18:07:08,413 : INFO : Texts in the current batch: 21\n"
     ]
    },
    {
     "name": "stdout",
     "output_type": "stream",
     "text": [
      "дерево    0.16254416961130744\n"
     ]
    },
    {
     "name": "stderr",
     "output_type": "stream",
     "text": [
      "2020-12-10 18:07:17,825 : INFO : Warming up ELMo on 15 sentences...\n",
      "2020-12-10 18:07:18,851 : INFO : Warming up finished.\n",
      "2020-12-10 18:07:18,854 : INFO : Texts in the current batch: 15\n"
     ]
    },
    {
     "name": "stdout",
     "output_type": "stream",
     "text": [
      "держава    0.09266409266409262\n"
     ]
    },
    {
     "name": "stderr",
     "output_type": "stream",
     "text": [
      "2020-12-10 18:07:29,285 : INFO : Warming up ELMo on 32 sentences...\n",
      "2020-12-10 18:07:31,133 : INFO : Warming up finished.\n",
      "2020-12-10 18:07:31,138 : INFO : Texts in the current batch: 32\n",
      "2020-12-10 18:07:32,095 : INFO : Texts in the current batch: 5\n"
     ]
    },
    {
     "name": "stdout",
     "output_type": "stream",
     "text": [
      "дерзость    0.0\n"
     ]
    },
    {
     "name": "stderr",
     "output_type": "stream",
     "text": [
      "2020-12-10 18:07:41,407 : INFO : Warming up ELMo on 32 sentences...\n",
      "2020-12-10 18:07:42,925 : INFO : Warming up finished.\n",
      "2020-12-10 18:07:42,929 : INFO : Texts in the current batch: 32\n",
      "2020-12-10 18:07:43,761 : INFO : Texts in the current batch: 4\n"
     ]
    },
    {
     "name": "stdout",
     "output_type": "stream",
     "text": [
      "десятка    0.04660732656438699\n"
     ]
    },
    {
     "name": "stderr",
     "output_type": "stream",
     "text": [
      "2020-12-10 18:07:54,258 : INFO : Warming up ELMo on 21 sentences...\n",
      "2020-12-10 18:07:56,136 : INFO : Warming up finished.\n",
      "2020-12-10 18:07:56,139 : INFO : Texts in the current batch: 21\n",
      "2020-12-10 18:08:06,897 : INFO : Warming up ELMo on 14 sentences...\n",
      "2020-12-10 18:08:08,015 : INFO : Warming up finished.\n",
      "2020-12-10 18:08:08,017 : INFO : Texts in the current batch: 14\n"
     ]
    },
    {
     "name": "stdout",
     "output_type": "stream",
     "text": [
      "деятель    0.7130730050933786\n"
     ]
    },
    {
     "name": "stderr",
     "output_type": "stream",
     "text": [
      "2020-12-10 18:08:18,745 : INFO : Warming up ELMo on 14 sentences...\n",
      "2020-12-10 18:08:20,036 : INFO : Warming up finished.\n",
      "2020-12-10 18:08:20,040 : INFO : Texts in the current batch: 14\n"
     ]
    },
    {
     "name": "stdout",
     "output_type": "stream",
     "text": [
      "диалог    0.42882249560632685\n"
     ]
    },
    {
     "name": "stderr",
     "output_type": "stream",
     "text": [
      "2020-12-10 18:08:30,459 : INFO : Warming up ELMo on 18 sentences...\n",
      "2020-12-10 18:08:31,782 : INFO : Warming up finished.\n",
      "2020-12-10 18:08:31,786 : INFO : Texts in the current batch: 18\n"
     ]
    },
    {
     "name": "stdout",
     "output_type": "stream",
     "text": [
      "диаметр    -0.025802519301097133\n"
     ]
    },
    {
     "name": "stderr",
     "output_type": "stream",
     "text": [
      "2020-12-10 18:08:42,496 : INFO : Warming up ELMo on 25 sentences...\n",
      "2020-12-10 18:08:43,843 : INFO : Warming up finished.\n",
      "2020-12-10 18:08:43,846 : INFO : Texts in the current batch: 25\n"
     ]
    },
    {
     "name": "stdout",
     "output_type": "stream",
     "text": [
      "диплом    0.09793814432989689\n"
     ]
    },
    {
     "name": "stderr",
     "output_type": "stream",
     "text": [
      "2020-12-10 18:08:53,943 : INFO : Warming up ELMo on 11 sentences...\n",
      "2020-12-10 18:08:55,002 : INFO : Warming up finished.\n",
      "2020-12-10 18:08:55,004 : INFO : Texts in the current batch: 11\n"
     ]
    },
    {
     "name": "stdout",
     "output_type": "stream",
     "text": [
      "директор    -0.022576361221779515\n"
     ]
    },
    {
     "name": "stderr",
     "output_type": "stream",
     "text": [
      "2020-12-10 18:09:06,668 : INFO : Warming up ELMo on 32 sentences...\n",
      "2020-12-10 18:09:08,232 : INFO : Warming up finished.\n",
      "2020-12-10 18:09:08,236 : INFO : Texts in the current batch: 32\n",
      "2020-12-10 18:09:08,943 : INFO : Texts in the current batch: 31\n",
      "2020-12-10 18:09:19,313 : INFO : Warming up ELMo on 18 sentences...\n",
      "2020-12-10 18:09:20,564 : INFO : Warming up finished.\n",
      "2020-12-10 18:09:20,566 : INFO : Texts in the current batch: 18\n"
     ]
    },
    {
     "name": "stdout",
     "output_type": "stream",
     "text": [
      "дичь    -0.04286770140428679\n"
     ]
    },
    {
     "name": "stderr",
     "output_type": "stream",
     "text": [
      "2020-12-10 18:09:29,425 : INFO : Warming up ELMo on 21 sentences...\n",
      "2020-12-10 18:09:30,495 : INFO : Warming up finished.\n",
      "2020-12-10 18:09:30,497 : INFO : Texts in the current batch: 21\n"
     ]
    },
    {
     "name": "stdout",
     "output_type": "stream",
     "text": [
      "длина    -0.08562197092084003\n"
     ]
    },
    {
     "name": "stderr",
     "output_type": "stream",
     "text": [
      "2020-12-10 18:09:38,778 : INFO : Warming up ELMo on 12 sentences...\n",
      "2020-12-10 18:09:39,735 : INFO : Warming up finished.\n",
      "2020-12-10 18:09:39,737 : INFO : Texts in the current batch: 12\n"
     ]
    },
    {
     "name": "stdout",
     "output_type": "stream",
     "text": [
      "доброволец    -0.054794520547945265\n"
     ]
    },
    {
     "name": "stderr",
     "output_type": "stream",
     "text": [
      "2020-12-10 18:09:49,575 : INFO : Warming up ELMo on 32 sentences...\n",
      "2020-12-10 18:09:50,919 : INFO : Warming up finished.\n",
      "2020-12-10 18:09:50,922 : INFO : Texts in the current batch: 32\n",
      "2020-12-10 18:09:51,515 : INFO : Texts in the current batch: 3\n"
     ]
    },
    {
     "name": "stdout",
     "output_type": "stream",
     "text": [
      "добыча    0.1644894172914734\n"
     ]
    },
    {
     "name": "stderr",
     "output_type": "stream",
     "text": [
      "2020-12-10 18:10:01,866 : INFO : Warming up ELMo on 24 sentences...\n",
      "2020-12-10 18:10:03,491 : INFO : Warming up finished.\n",
      "2020-12-10 18:10:03,495 : INFO : Texts in the current batch: 24\n"
     ]
    },
    {
     "name": "stdout",
     "output_type": "stream",
     "text": [
      "доказательство    0.07292912040990605\n"
     ]
    },
    {
     "name": "stderr",
     "output_type": "stream",
     "text": [
      "2020-12-10 18:10:15,920 : INFO : Warming up ELMo on 17 sentences...\n",
      "2020-12-10 18:10:18,009 : INFO : Warming up finished.\n",
      "2020-12-10 18:10:18,014 : INFO : Texts in the current batch: 17\n"
     ]
    },
    {
     "name": "stdout",
     "output_type": "stream",
     "text": [
      "доктор    0.1933751119068935\n"
     ]
    },
    {
     "name": "stderr",
     "output_type": "stream",
     "text": [
      "2020-12-10 18:10:28,973 : INFO : Warming up ELMo on 13 sentences...\n",
      "2020-12-10 18:10:30,130 : INFO : Warming up finished.\n",
      "2020-12-10 18:10:30,133 : INFO : Texts in the current batch: 13\n"
     ]
    },
    {
     "name": "stdout",
     "output_type": "stream",
     "text": [
      "долгота    -0.06557377049180323\n"
     ]
    },
    {
     "name": "stderr",
     "output_type": "stream",
     "text": [
      "2020-12-10 18:10:40,324 : INFO : Warming up ELMo on 32 sentences...\n",
      "2020-12-10 18:10:42,025 : INFO : Warming up finished.\n",
      "2020-12-10 18:10:42,029 : INFO : Texts in the current batch: 32\n",
      "2020-12-10 18:10:42,966 : INFO : Texts in the current batch: 13\n",
      "2020-12-10 18:10:53,361 : INFO : Warming up ELMo on 32 sentences...\n",
      "2020-12-10 18:10:54,692 : INFO : Warming up finished.\n",
      "2020-12-10 18:10:54,695 : INFO : Texts in the current batch: 32\n",
      "2020-12-10 18:10:55,244 : INFO : Texts in the current batch: 6\n",
      "2020-12-10 18:11:04,470 : INFO : Warming up ELMo on 32 sentences...\n",
      "2020-12-10 18:11:05,914 : INFO : Warming up finished.\n",
      "2020-12-10 18:11:05,917 : INFO : Texts in the current batch: 32\n",
      "2020-12-10 18:11:06,497 : INFO : Texts in the current batch: 15\n",
      "2020-12-10 18:11:16,571 : INFO : Warming up ELMo on 22 sentences...\n",
      "2020-12-10 18:11:17,923 : INFO : Warming up finished.\n",
      "2020-12-10 18:11:17,927 : INFO : Texts in the current batch: 22\n"
     ]
    },
    {
     "name": "stdout",
     "output_type": "stream",
     "text": [
      "достижение    0.22129186602870815\n"
     ]
    },
    {
     "name": "stderr",
     "output_type": "stream",
     "text": [
      "2020-12-10 18:11:28,761 : INFO : Warming up ELMo on 16 sentences...\n",
      "2020-12-10 18:11:29,968 : INFO : Warming up finished.\n",
      "2020-12-10 18:11:29,971 : INFO : Texts in the current batch: 16\n"
     ]
    },
    {
     "name": "stdout",
     "output_type": "stream",
     "text": [
      "древесина    -0.08936170212765958\n"
     ]
    },
    {
     "name": "stderr",
     "output_type": "stream",
     "text": [
      "2020-12-10 18:11:41,434 : INFO : Warming up ELMo on 15 sentences...\n",
      "2020-12-10 18:11:42,722 : INFO : Warming up finished.\n",
      "2020-12-10 18:11:42,725 : INFO : Texts in the current batch: 15\n"
     ]
    },
    {
     "name": "stdout",
     "output_type": "stream",
     "text": [
      "дупло    0.011080332409972329\n"
     ]
    },
    {
     "name": "stderr",
     "output_type": "stream",
     "text": [
      "2020-12-10 18:11:53,513 : INFO : Warming up ELMo on 12 sentences...\n",
      "2020-12-10 18:11:54,833 : INFO : Warming up finished.\n",
      "2020-12-10 18:11:54,835 : INFO : Texts in the current batch: 12\n"
     ]
    },
    {
     "name": "stdout",
     "output_type": "stream",
     "text": [
      "дура    -0.06648199445983385\n"
     ]
    },
    {
     "name": "stderr",
     "output_type": "stream",
     "text": [
      "2020-12-10 18:12:05,995 : INFO : Warming up ELMo on 32 sentences...\n",
      "2020-12-10 18:12:07,641 : INFO : Warming up finished.\n",
      "2020-12-10 18:12:07,645 : INFO : Texts in the current batch: 32\n",
      "2020-12-10 18:12:08,423 : INFO : Texts in the current batch: 32\n",
      "2020-12-10 18:12:09,164 : INFO : Texts in the current batch: 13\n",
      "2020-12-10 18:12:18,145 : INFO : Warming up ELMo on 28 sentences...\n",
      "2020-12-10 18:12:19,723 : INFO : Warming up finished.\n",
      "2020-12-10 18:12:19,727 : INFO : Texts in the current batch: 28\n"
     ]
    },
    {
     "name": "stdout",
     "output_type": "stream",
     "text": [
      "дым    0.1997758475763519\n"
     ]
    },
    {
     "name": "stderr",
     "output_type": "stream",
     "text": [
      "2020-12-10 18:12:30,578 : INFO : Warming up ELMo on 18 sentences...\n",
      "2020-12-10 18:12:31,880 : INFO : Warming up finished.\n",
      "2020-12-10 18:12:31,883 : INFO : Texts in the current batch: 18\n"
     ]
    },
    {
     "name": "stdout",
     "output_type": "stream",
     "text": [
      "дымка    0.028571428571428564\n"
     ]
    },
    {
     "name": "stderr",
     "output_type": "stream",
     "text": [
      "2020-12-10 18:12:42,784 : INFO : Warming up ELMo on 32 sentences...\n",
      "2020-12-10 18:12:44,369 : INFO : Warming up finished.\n",
      "2020-12-10 18:12:44,372 : INFO : Texts in the current batch: 32\n",
      "2020-12-10 18:12:45,013 : INFO : Texts in the current batch: 24\n",
      "2020-12-10 18:12:57,736 : INFO : Warming up ELMo on 22 sentences...\n",
      "2020-12-10 18:12:59,390 : INFO : Warming up finished.\n",
      "2020-12-10 18:12:59,394 : INFO : Texts in the current batch: 22\n"
     ]
    },
    {
     "name": "stdout",
     "output_type": "stream",
     "text": [
      "дьявол    0.11923743500866553\n"
     ]
    },
    {
     "name": "stderr",
     "output_type": "stream",
     "text": [
      "2020-12-10 18:13:09,427 : INFO : Warming up ELMo on 8 sentences...\n",
      "2020-12-10 18:13:10,571 : INFO : Warming up finished.\n",
      "2020-12-10 18:13:10,573 : INFO : Texts in the current batch: 8\n"
     ]
    },
    {
     "name": "stdout",
     "output_type": "stream",
     "text": [
      "евро    0.0\n"
     ]
    },
    {
     "name": "stderr",
     "output_type": "stream",
     "text": [
      "2020-12-10 18:13:22,329 : INFO : Warming up ELMo on 14 sentences...\n",
      "2020-12-10 18:13:24,304 : INFO : Warming up finished.\n",
      "2020-12-10 18:13:24,307 : INFO : Texts in the current batch: 14\n"
     ]
    },
    {
     "name": "stdout",
     "output_type": "stream",
     "text": [
      "езда    0.21401151631477927\n"
     ]
    },
    {
     "name": "stderr",
     "output_type": "stream",
     "text": [
      "2020-12-10 18:13:36,712 : INFO : Warming up ELMo on 32 sentences...\n",
      "2020-12-10 18:13:38,373 : INFO : Warming up finished.\n",
      "2020-12-10 18:13:38,379 : INFO : Texts in the current batch: 32\n",
      "2020-12-10 18:13:39,110 : INFO : Texts in the current batch: 32\n",
      "2020-12-10 18:13:39,837 : INFO : Texts in the current batch: 32\n",
      "2020-12-10 18:13:40,590 : INFO : Texts in the current batch: 25\n"
     ]
    },
    {
     "name": "stdout",
     "output_type": "stream",
     "text": [
      "жаба    0.02181015615011207\n"
     ]
    },
    {
     "name": "stderr",
     "output_type": "stream",
     "text": [
      "2020-12-10 18:13:52,136 : INFO : Warming up ELMo on 11 sentences...\n",
      "2020-12-10 18:13:53,435 : INFO : Warming up finished.\n",
      "2020-12-10 18:13:53,437 : INFO : Texts in the current batch: 11\n",
      "2020-12-10 18:14:03,519 : INFO : Warming up ELMo on 11 sentences...\n",
      "2020-12-10 18:14:04,623 : INFO : Warming up finished.\n",
      "2020-12-10 18:14:04,627 : INFO : Texts in the current batch: 11\n"
     ]
    },
    {
     "name": "stdout",
     "output_type": "stream",
     "text": [
      "жало    0.020547945205479434\n"
     ]
    },
    {
     "name": "stderr",
     "output_type": "stream",
     "text": [
      "2020-12-10 18:14:15,921 : INFO : Warming up ELMo on 32 sentences...\n",
      "2020-12-10 18:14:17,620 : INFO : Warming up finished.\n",
      "2020-12-10 18:14:17,624 : INFO : Texts in the current batch: 32\n",
      "2020-12-10 18:14:18,426 : INFO : Texts in the current batch: 5\n"
     ]
    },
    {
     "name": "stdout",
     "output_type": "stream",
     "text": [
      "жертва    0.09852647959928028\n"
     ]
    },
    {
     "name": "stderr",
     "output_type": "stream",
     "text": [
      "2020-12-10 18:14:28,876 : INFO : Warming up ELMo on 14 sentences...\n",
      "2020-12-10 18:14:30,050 : INFO : Warming up finished.\n",
      "2020-12-10 18:14:30,053 : INFO : Texts in the current batch: 14\n"
     ]
    },
    {
     "name": "stdout",
     "output_type": "stream",
     "text": [
      "жестокость    -0.08149405772495757\n"
     ]
    },
    {
     "name": "stderr",
     "output_type": "stream",
     "text": [
      "2020-12-10 18:14:41,136 : INFO : Warming up ELMo on 12 sentences...\n",
      "2020-12-10 18:14:42,318 : INFO : Warming up finished.\n",
      "2020-12-10 18:14:42,320 : INFO : Texts in the current batch: 12\n"
     ]
    },
    {
     "name": "stdout",
     "output_type": "stream",
     "text": [
      "жидкость    -0.043360433604336\n"
     ]
    },
    {
     "name": "stderr",
     "output_type": "stream",
     "text": [
      "2020-12-10 18:14:52,848 : INFO : Warming up ELMo on 17 sentences...\n",
      "2020-12-10 18:14:54,139 : INFO : Warming up finished.\n",
      "2020-12-10 18:14:54,142 : INFO : Texts in the current batch: 17\n",
      "2020-12-10 18:15:04,434 : INFO : Warming up ELMo on 16 sentences...\n",
      "2020-12-10 18:15:05,674 : INFO : Warming up finished.\n",
      "2020-12-10 18:15:05,677 : INFO : Texts in the current batch: 16\n",
      "2020-12-10 18:15:15,333 : INFO : Warming up ELMo on 15 sentences...\n",
      "2020-12-10 18:15:16,340 : INFO : Warming up finished.\n",
      "2020-12-10 18:15:16,342 : INFO : Texts in the current batch: 15\n"
     ]
    },
    {
     "name": "stdout",
     "output_type": "stream",
     "text": [
      "жир    -0.06451612903225812\n"
     ]
    },
    {
     "name": "stderr",
     "output_type": "stream",
     "text": [
      "2020-12-10 18:15:26,140 : INFO : Warming up ELMo on 15 sentences...\n",
      "2020-12-10 18:15:27,387 : INFO : Warming up finished.\n",
      "2020-12-10 18:15:27,389 : INFO : Texts in the current batch: 15\n"
     ]
    },
    {
     "name": "stdout",
     "output_type": "stream",
     "text": [
      "жребий    0.4444444444444444\n"
     ]
    },
    {
     "name": "stderr",
     "output_type": "stream",
     "text": [
      "2020-12-10 18:15:37,998 : INFO : Warming up ELMo on 14 sentences...\n",
      "2020-12-10 18:15:39,348 : INFO : Warming up finished.\n",
      "2020-12-10 18:15:39,350 : INFO : Texts in the current batch: 14\n",
      "2020-12-10 18:15:50,223 : INFO : Warming up ELMo on 16 sentences...\n",
      "2020-12-10 18:15:51,602 : INFO : Warming up finished.\n",
      "2020-12-10 18:15:51,606 : INFO : Texts in the current batch: 16\n"
     ]
    },
    {
     "name": "stdout",
     "output_type": "stream",
     "text": [
      "завещание    0.08333333333333333\n"
     ]
    },
    {
     "name": "stderr",
     "output_type": "stream",
     "text": [
      "2020-12-10 18:16:01,915 : INFO : Warming up ELMo on 21 sentences...\n",
      "2020-12-10 18:16:03,340 : INFO : Warming up finished.\n",
      "2020-12-10 18:16:03,343 : INFO : Texts in the current batch: 21\n"
     ]
    },
    {
     "name": "stdout",
     "output_type": "stream",
     "text": [
      "зависимость    0.13112667091024827\n"
     ]
    },
    {
     "name": "stderr",
     "output_type": "stream",
     "text": [
      "2020-12-10 18:16:13,505 : INFO : Warming up ELMo on 22 sentences...\n",
      "2020-12-10 18:16:14,788 : INFO : Warming up finished.\n",
      "2020-12-10 18:16:14,791 : INFO : Texts in the current batch: 22\n"
     ]
    },
    {
     "name": "stdout",
     "output_type": "stream",
     "text": [
      "заголовок    0.02746148693904889\n"
     ]
    },
    {
     "name": "stderr",
     "output_type": "stream",
     "text": [
      "2020-12-10 18:16:25,649 : INFO : Warming up ELMo on 26 sentences...\n",
      "2020-12-10 18:16:27,216 : INFO : Warming up finished.\n",
      "2020-12-10 18:16:27,220 : INFO : Texts in the current batch: 26\n"
     ]
    },
    {
     "name": "stdout",
     "output_type": "stream",
     "text": [
      "заготовка    0.09080312390721529\n"
     ]
    },
    {
     "name": "stderr",
     "output_type": "stream",
     "text": [
      "2020-12-10 18:16:37,794 : INFO : Warming up ELMo on 32 sentences...\n",
      "2020-12-10 18:16:39,422 : INFO : Warming up finished.\n",
      "2020-12-10 18:16:39,427 : INFO : Texts in the current batch: 32\n",
      "2020-12-10 18:16:40,054 : INFO : Texts in the current batch: 1\n"
     ]
    },
    {
     "name": "stdout",
     "output_type": "stream",
     "text": [
      "задание    0.3622258783347564\n"
     ]
    },
    {
     "name": "stderr",
     "output_type": "stream",
     "text": [
      "2020-12-10 18:16:50,428 : INFO : Warming up ELMo on 32 sentences...\n",
      "2020-12-10 18:16:51,951 : INFO : Warming up finished.\n",
      "2020-12-10 18:16:51,954 : INFO : Texts in the current batch: 32\n",
      "2020-12-10 18:16:52,622 : INFO : Texts in the current batch: 4\n"
     ]
    },
    {
     "name": "stdout",
     "output_type": "stream",
     "text": [
      "задача    0.03817476886370414\n"
     ]
    },
    {
     "name": "stderr",
     "output_type": "stream",
     "text": [
      "2020-12-10 18:17:02,906 : INFO : Warming up ELMo on 32 sentences...\n",
      "2020-12-10 18:17:04,756 : INFO : Warming up finished.\n",
      "2020-12-10 18:17:04,760 : INFO : Texts in the current batch: 32\n",
      "2020-12-10 18:17:05,721 : INFO : Texts in the current batch: 28\n",
      "2020-12-10 18:17:16,100 : INFO : Warming up ELMo on 13 sentences...\n",
      "2020-12-10 18:17:17,359 : INFO : Warming up finished.\n",
      "2020-12-10 18:17:17,362 : INFO : Texts in the current batch: 13\n"
     ]
    },
    {
     "name": "stdout",
     "output_type": "stream",
     "text": [
      "зажигалка    0.036072144288577114\n"
     ]
    },
    {
     "name": "stderr",
     "output_type": "stream",
     "text": [
      "2020-12-10 18:17:27,898 : INFO : Warming up ELMo on 32 sentences...\n",
      "2020-12-10 18:17:29,324 : INFO : Warming up finished.\n",
      "2020-12-10 18:17:29,327 : INFO : Texts in the current batch: 32\n",
      "2020-12-10 18:17:29,938 : INFO : Texts in the current batch: 24\n"
     ]
    },
    {
     "name": "stdout",
     "output_type": "stream",
     "text": [
      "закон    0.1072302034457146\n"
     ]
    },
    {
     "name": "stderr",
     "output_type": "stream",
     "text": [
      "2020-12-10 18:17:39,911 : INFO : Warming up ELMo on 32 sentences...\n",
      "2020-12-10 18:17:41,197 : INFO : Warming up finished.\n",
      "2020-12-10 18:17:41,201 : INFO : Texts in the current batch: 32\n",
      "2020-12-10 18:17:41,797 : INFO : Texts in the current batch: 6\n",
      "2020-12-10 18:17:51,662 : INFO : Warming up ELMo on 13 sentences...\n",
      "2020-12-10 18:17:52,833 : INFO : Warming up finished.\n",
      "2020-12-10 18:17:52,836 : INFO : Texts in the current batch: 13\n"
     ]
    },
    {
     "name": "stdout",
     "output_type": "stream",
     "text": [
      "заложник    0.06952965235173827\n"
     ]
    },
    {
     "name": "stderr",
     "output_type": "stream",
     "text": [
      "2020-12-10 18:18:02,273 : INFO : Warming up ELMo on 18 sentences...\n",
      "2020-12-10 18:18:03,723 : INFO : Warming up finished.\n",
      "2020-12-10 18:18:03,727 : INFO : Texts in the current batch: 18\n",
      "2020-12-10 18:18:16,384 : INFO : Warming up ELMo on 32 sentences...\n",
      "2020-12-10 18:18:19,302 : INFO : Warming up finished.\n",
      "2020-12-10 18:18:19,315 : INFO : Texts in the current batch: 32\n",
      "2020-12-10 18:18:21,514 : INFO : Texts in the current batch: 32\n",
      "2020-12-10 18:18:23,857 : INFO : Texts in the current batch: 32\n",
      "2020-12-10 18:18:26,117 : INFO : Texts in the current batch: 32\n",
      "2020-12-10 18:18:28,296 : INFO : Texts in the current batch: 10\n"
     ]
    },
    {
     "name": "stdout",
     "output_type": "stream",
     "text": [
      "замок    0.06390117789120352\n"
     ]
    },
    {
     "name": "stderr",
     "output_type": "stream",
     "text": [
      "2020-12-10 18:18:38,593 : INFO : Warming up ELMo on 11 sentences...\n",
      "2020-12-10 18:18:39,815 : INFO : Warming up finished.\n",
      "2020-12-10 18:18:39,817 : INFO : Texts in the current batch: 11\n",
      "2020-12-10 18:18:49,923 : INFO : Warming up ELMo on 14 sentences...\n",
      "2020-12-10 18:18:51,098 : INFO : Warming up finished.\n",
      "2020-12-10 18:18:51,100 : INFO : Texts in the current batch: 14\n"
     ]
    },
    {
     "name": "stdout",
     "output_type": "stream",
     "text": [
      "запятая    0.0\n"
     ]
    },
    {
     "name": "stderr",
     "output_type": "stream",
     "text": [
      "2020-12-10 18:19:02,644 : INFO : Warming up ELMo on 13 sentences...\n",
      "2020-12-10 18:19:03,940 : INFO : Warming up finished.\n",
      "2020-12-10 18:19:03,943 : INFO : Texts in the current batch: 13\n"
     ]
    },
    {
     "name": "stdout",
     "output_type": "stream",
     "text": [
      "застой    0.44399185336048874\n"
     ]
    },
    {
     "name": "stderr",
     "output_type": "stream",
     "text": [
      "2020-12-10 18:19:14,562 : INFO : Warming up ELMo on 12 sentences...\n",
      "2020-12-10 18:19:15,680 : INFO : Warming up finished.\n",
      "2020-12-10 18:19:15,685 : INFO : Texts in the current batch: 12\n"
     ]
    },
    {
     "name": "stdout",
     "output_type": "stream",
     "text": [
      "затея    -0.10344827586206896\n"
     ]
    },
    {
     "name": "stderr",
     "output_type": "stream",
     "text": [
      "2020-12-10 18:19:25,711 : INFO : Warming up ELMo on 16 sentences...\n",
      "2020-12-10 18:19:26,974 : INFO : Warming up finished.\n",
      "2020-12-10 18:19:26,977 : INFO : Texts in the current batch: 16\n"
     ]
    },
    {
     "name": "stdout",
     "output_type": "stream",
     "text": [
      "затишье    0.0\n"
     ]
    },
    {
     "name": "stderr",
     "output_type": "stream",
     "text": [
      "2020-12-10 18:19:37,573 : INFO : Warming up ELMo on 12 sentences...\n",
      "2020-12-10 18:19:38,914 : INFO : Warming up finished.\n",
      "2020-12-10 18:19:38,916 : INFO : Texts in the current batch: 12\n"
     ]
    },
    {
     "name": "stdout",
     "output_type": "stream",
     "text": [
      "затмение    0.0\n"
     ]
    },
    {
     "name": "stderr",
     "output_type": "stream",
     "text": [
      "2020-12-10 18:19:50,119 : INFO : Warming up ELMo on 15 sentences...\n",
      "2020-12-10 18:19:51,356 : INFO : Warming up finished.\n",
      "2020-12-10 18:19:51,358 : INFO : Texts in the current batch: 15\n"
     ]
    },
    {
     "name": "stdout",
     "output_type": "stream",
     "text": [
      "затруднение    0.1350906095551895\n"
     ]
    },
    {
     "name": "stderr",
     "output_type": "stream",
     "text": [
      "2020-12-10 18:20:01,385 : INFO : Warming up ELMo on 22 sentences...\n",
      "2020-12-10 18:20:02,699 : INFO : Warming up finished.\n",
      "2020-12-10 18:20:02,702 : INFO : Texts in the current batch: 22\n"
     ]
    },
    {
     "name": "stdout",
     "output_type": "stream",
     "text": [
      "захоронение    0.0\n"
     ]
    },
    {
     "name": "stderr",
     "output_type": "stream",
     "text": [
      "2020-12-10 18:20:12,973 : INFO : Warming up ELMo on 32 sentences...\n",
      "2020-12-10 18:20:14,625 : INFO : Warming up finished.\n",
      "2020-12-10 18:20:14,629 : INFO : Texts in the current batch: 32\n",
      "2020-12-10 18:20:15,393 : INFO : Texts in the current batch: 8\n"
     ]
    },
    {
     "name": "stdout",
     "output_type": "stream",
     "text": [
      "звезда    0.2673117436229492\n"
     ]
    },
    {
     "name": "stderr",
     "output_type": "stream",
     "text": [
      "2020-12-10 18:20:25,818 : INFO : Warming up ELMo on 14 sentences...\n",
      "2020-12-10 18:20:27,361 : INFO : Warming up finished.\n",
      "2020-12-10 18:20:27,364 : INFO : Texts in the current batch: 14\n"
     ]
    },
    {
     "name": "stdout",
     "output_type": "stream",
     "text": [
      "звон    -0.0550724637681159\n"
     ]
    },
    {
     "name": "stderr",
     "output_type": "stream",
     "text": [
      "2020-12-10 18:20:38,371 : INFO : Warming up ELMo on 21 sentences...\n",
      "2020-12-10 18:20:39,676 : INFO : Warming up finished.\n",
      "2020-12-10 18:20:39,679 : INFO : Texts in the current batch: 21\n",
      "2020-12-10 18:20:49,878 : INFO : Warming up ELMo on 23 sentences...\n",
      "2020-12-10 18:20:51,230 : INFO : Warming up finished.\n",
      "2020-12-10 18:20:51,233 : INFO : Texts in the current batch: 23\n",
      "2020-12-10 18:21:00,266 : INFO : Warming up ELMo on 12 sentences...\n",
      "2020-12-10 18:21:01,279 : INFO : Warming up finished.\n",
      "2020-12-10 18:21:01,281 : INFO : Texts in the current batch: 12\n"
     ]
    },
    {
     "name": "stdout",
     "output_type": "stream",
     "text": [
      "злоупотребление    0.0\n"
     ]
    },
    {
     "name": "stderr",
     "output_type": "stream",
     "text": [
      "2020-12-10 18:21:10,667 : INFO : Warming up ELMo on 32 sentences...\n",
      "2020-12-10 18:21:12,271 : INFO : Warming up finished.\n",
      "2020-12-10 18:21:12,274 : INFO : Texts in the current batch: 32\n",
      "2020-12-10 18:21:13,035 : INFO : Texts in the current batch: 23\n"
     ]
    },
    {
     "name": "stdout",
     "output_type": "stream",
     "text": [
      "знак    0.06979070641493346\n"
     ]
    },
    {
     "name": "stderr",
     "output_type": "stream",
     "text": [
      "2020-12-10 18:21:23,059 : INFO : Warming up ELMo on 14 sentences...\n",
      "2020-12-10 18:21:24,267 : INFO : Warming up finished.\n",
      "2020-12-10 18:21:24,270 : INFO : Texts in the current batch: 14\n"
     ]
    },
    {
     "name": "stdout",
     "output_type": "stream",
     "text": [
      "знамя    0.2551757342320655\n"
     ]
    },
    {
     "name": "stderr",
     "output_type": "stream",
     "text": [
      "2020-12-10 18:21:35,386 : INFO : Warming up ELMo on 30 sentences...\n",
      "2020-12-10 18:21:36,892 : INFO : Warming up finished.\n",
      "2020-12-10 18:21:36,896 : INFO : Texts in the current batch: 30\n"
     ]
    },
    {
     "name": "stdout",
     "output_type": "stream",
     "text": [
      "значение    0.26902131632176757\n"
     ]
    },
    {
     "name": "stderr",
     "output_type": "stream",
     "text": [
      "2020-12-10 18:21:48,009 : INFO : Warming up ELMo on 9 sentences...\n",
      "2020-12-10 18:21:49,024 : INFO : Warming up finished.\n",
      "2020-12-10 18:21:49,028 : INFO : Texts in the current batch: 9\n"
     ]
    },
    {
     "name": "stdout",
     "output_type": "stream",
     "text": [
      "зонт    -0.012499999999999956\n"
     ]
    },
    {
     "name": "stderr",
     "output_type": "stream",
     "text": [
      "2020-12-10 18:22:00,828 : INFO : Warming up ELMo on 32 sentences...\n",
      "2020-12-10 18:22:02,399 : INFO : Warming up finished.\n",
      "2020-12-10 18:22:02,405 : INFO : Texts in the current batch: 32\n",
      "2020-12-10 18:22:03,119 : INFO : Texts in the current batch: 32\n",
      "2020-12-10 18:22:03,832 : INFO : Texts in the current batch: 32\n",
      "2020-12-10 18:22:04,536 : INFO : Texts in the current batch: 32\n",
      "2020-12-10 18:22:05,266 : INFO : Texts in the current batch: 22\n"
     ]
    },
    {
     "name": "stdout",
     "output_type": "stream",
     "text": [
      "клетка    0.10562563509847385\n"
     ]
    },
    {
     "name": "stderr",
     "output_type": "stream",
     "text": [
      "2020-12-10 18:22:14,577 : INFO : Warming up ELMo on 32 sentences...\n",
      "2020-12-10 18:22:16,032 : INFO : Warming up finished.\n",
      "2020-12-10 18:22:16,038 : INFO : Texts in the current batch: 32\n",
      "2020-12-10 18:22:16,762 : INFO : Texts in the current batch: 32\n",
      "2020-12-10 18:22:17,484 : INFO : Texts in the current batch: 27\n"
     ]
    },
    {
     "name": "stdout",
     "output_type": "stream",
     "text": [
      "крыло    0.23059789699044392\n"
     ]
    },
    {
     "name": "stderr",
     "output_type": "stream",
     "text": [
      "2020-12-10 18:22:29,374 : INFO : Warming up ELMo on 32 sentences...\n",
      "2020-12-10 18:22:31,435 : INFO : Warming up finished.\n",
      "2020-12-10 18:22:31,443 : INFO : Texts in the current batch: 32\n",
      "2020-12-10 18:22:32,261 : INFO : Texts in the current batch: 32\n",
      "2020-12-10 18:22:32,954 : INFO : Texts in the current batch: 32\n",
      "2020-12-10 18:22:33,672 : INFO : Texts in the current batch: 32\n",
      "2020-12-10 18:22:34,392 : INFO : Texts in the current batch: 22\n"
     ]
    },
    {
     "name": "stdout",
     "output_type": "stream",
     "text": [
      "купюра    -0.011130781047003116\n"
     ]
    },
    {
     "name": "stderr",
     "output_type": "stream",
     "text": [
      "2020-12-10 18:22:45,125 : INFO : Warming up ELMo on 32 sentences...\n",
      "2020-12-10 18:22:46,785 : INFO : Warming up finished.\n",
      "2020-12-10 18:22:46,791 : INFO : Texts in the current batch: 32\n",
      "2020-12-10 18:22:47,690 : INFO : Texts in the current batch: 32\n",
      "2020-12-10 18:22:48,497 : INFO : Texts in the current batch: 29\n",
      "2020-12-10 18:22:59,118 : INFO : Warming up ELMo on 32 sentences...\n",
      "2020-12-10 18:23:00,609 : INFO : Warming up finished.\n",
      "2020-12-10 18:23:00,616 : INFO : Texts in the current batch: 32\n",
      "2020-12-10 18:23:01,482 : INFO : Texts in the current batch: 32\n",
      "2020-12-10 18:23:02,318 : INFO : Texts in the current batch: 32\n",
      "2020-12-10 18:23:03,019 : INFO : Texts in the current batch: 32\n",
      "2020-12-10 18:23:03,705 : INFO : Texts in the current batch: 21\n",
      "2020-12-10 18:23:14,697 : INFO : Warming up ELMo on 32 sentences...\n",
      "2020-12-10 18:23:16,093 : INFO : Warming up finished.\n",
      "2020-12-10 18:23:16,099 : INFO : Texts in the current batch: 32\n",
      "2020-12-10 18:23:16,796 : INFO : Texts in the current batch: 32\n",
      "2020-12-10 18:23:17,487 : INFO : Texts in the current batch: 32\n",
      "2020-12-10 18:23:18,185 : INFO : Texts in the current batch: 3\n",
      "2020-12-10 18:23:28,728 : INFO : Warming up ELMo on 32 sentences...\n",
      "2020-12-10 18:23:30,549 : INFO : Warming up finished.\n",
      "2020-12-10 18:23:30,556 : INFO : Texts in the current batch: 32\n",
      "2020-12-10 18:23:31,333 : INFO : Texts in the current batch: 12\n",
      "2020-12-10 18:23:41,805 : INFO : Warming up ELMo on 32 sentences...\n",
      "2020-12-10 18:23:43,508 : INFO : Warming up finished.\n",
      "2020-12-10 18:23:43,515 : INFO : Texts in the current batch: 32\n",
      "2020-12-10 18:23:44,308 : INFO : Texts in the current batch: 17\n"
     ]
    },
    {
     "name": "stdout",
     "output_type": "stream",
     "text": [
      "лира    0.20545715029955716\n"
     ]
    },
    {
     "name": "stderr",
     "output_type": "stream",
     "text": [
      "2020-12-10 18:23:57,450 : INFO : Warming up ELMo on 32 sentences...\n",
      "2020-12-10 18:24:00,780 : INFO : Warming up finished.\n",
      "2020-12-10 18:24:00,799 : INFO : Texts in the current batch: 32\n",
      "2020-12-10 18:24:03,150 : INFO : Texts in the current batch: 32\n",
      "2020-12-10 18:24:05,376 : INFO : Texts in the current batch: 32\n",
      "2020-12-10 18:24:07,843 : INFO : Texts in the current batch: 14\n",
      "2020-12-10 18:24:19,569 : INFO : Warming up ELMo on 32 sentences...\n",
      "2020-12-10 18:24:21,243 : INFO : Warming up finished.\n",
      "2020-12-10 18:24:21,250 : INFO : Texts in the current batch: 32\n",
      "2020-12-10 18:24:22,064 : INFO : Texts in the current batch: 32\n",
      "2020-12-10 18:24:22,927 : INFO : Texts in the current batch: 1\n"
     ]
    },
    {
     "name": "stdout",
     "output_type": "stream",
     "text": [
      "мина    0.08448877407392058\n"
     ]
    },
    {
     "name": "stderr",
     "output_type": "stream",
     "text": [
      "2020-12-10 18:24:33,009 : INFO : Warming up ELMo on 32 sentences...\n",
      "2020-12-10 18:24:34,450 : INFO : Warming up finished.\n",
      "2020-12-10 18:24:34,456 : INFO : Texts in the current batch: 32\n",
      "2020-12-10 18:24:35,111 : INFO : Texts in the current batch: 32\n",
      "2020-12-10 18:24:35,786 : INFO : Texts in the current batch: 32\n",
      "2020-12-10 18:24:36,484 : INFO : Texts in the current batch: 25\n"
     ]
    },
    {
     "name": "stdout",
     "output_type": "stream",
     "text": [
      "мишень    0.10445262805490457\n"
     ]
    },
    {
     "name": "stderr",
     "output_type": "stream",
     "text": [
      "2020-12-10 18:24:49,052 : INFO : Warming up ELMo on 32 sentences...\n",
      "2020-12-10 18:24:50,687 : INFO : Warming up finished.\n",
      "2020-12-10 18:24:50,693 : INFO : Texts in the current batch: 32\n",
      "2020-12-10 18:24:51,411 : INFO : Texts in the current batch: 32\n",
      "2020-12-10 18:24:52,167 : INFO : Texts in the current batch: 32\n",
      "2020-12-10 18:24:52,968 : INFO : Texts in the current batch: 4\n"
     ]
    },
    {
     "name": "stdout",
     "output_type": "stream",
     "text": [
      "обед    0.04797500304311245\n"
     ]
    },
    {
     "name": "stderr",
     "output_type": "stream",
     "text": [
      "2020-12-10 18:25:03,786 : INFO : Warming up ELMo on 32 sentences...\n",
      "2020-12-10 18:25:05,269 : INFO : Warming up finished.\n",
      "2020-12-10 18:25:05,275 : INFO : Texts in the current batch: 32\n",
      "2020-12-10 18:25:05,976 : INFO : Texts in the current batch: 32\n",
      "2020-12-10 18:25:06,673 : INFO : Texts in the current batch: 32\n",
      "2020-12-10 18:25:07,396 : INFO : Texts in the current batch: 32\n",
      "2020-12-10 18:25:08,130 : INFO : Texts in the current batch: 18\n"
     ]
    },
    {
     "name": "stdout",
     "output_type": "stream",
     "text": [
      "оклад    0.002499209848594987\n"
     ]
    },
    {
     "name": "stderr",
     "output_type": "stream",
     "text": [
      "2020-12-10 18:25:19,114 : INFO : Warming up ELMo on 32 sentences...\n",
      "2020-12-10 18:25:20,573 : INFO : Warming up finished.\n",
      "2020-12-10 18:25:20,579 : INFO : Texts in the current batch: 32\n",
      "2020-12-10 18:25:21,293 : INFO : Texts in the current batch: 32\n",
      "2020-12-10 18:25:21,993 : INFO : Texts in the current batch: 32\n",
      "2020-12-10 18:25:22,736 : INFO : Texts in the current batch: 32\n",
      "2020-12-10 18:25:23,436 : INFO : Texts in the current batch: 20\n"
     ]
    },
    {
     "name": "stdout",
     "output_type": "stream",
     "text": [
      "опушка    0.02071859295161064\n"
     ]
    },
    {
     "name": "stderr",
     "output_type": "stream",
     "text": [
      "2020-12-10 18:25:35,367 : INFO : Warming up ELMo on 32 sentences...\n",
      "2020-12-10 18:25:36,899 : INFO : Warming up finished.\n",
      "2020-12-10 18:25:36,906 : INFO : Texts in the current batch: 32\n",
      "2020-12-10 18:25:37,603 : INFO : Texts in the current batch: 32\n",
      "2020-12-10 18:25:38,305 : INFO : Texts in the current batch: 32\n",
      "2020-12-10 18:25:39,141 : INFO : Texts in the current batch: 32\n",
      "2020-12-10 18:25:39,832 : INFO : Texts in the current batch: 14\n"
     ]
    },
    {
     "name": "stdout",
     "output_type": "stream",
     "text": [
      "полис    -5.834749910896263e-05\n"
     ]
    },
    {
     "name": "stderr",
     "output_type": "stream",
     "text": [
      "2020-12-10 18:25:51,349 : INFO : Warming up ELMo on 32 sentences...\n",
      "2020-12-10 18:25:52,905 : INFO : Warming up finished.\n",
      "2020-12-10 18:25:52,911 : INFO : Texts in the current batch: 32\n",
      "2020-12-10 18:25:53,634 : INFO : Texts in the current batch: 32\n",
      "2020-12-10 18:25:54,348 : INFO : Texts in the current batch: 32\n",
      "2020-12-10 18:25:55,140 : INFO : Texts in the current batch: 32\n",
      "2020-12-10 18:25:55,920 : INFO : Texts in the current batch: 16\n"
     ]
    },
    {
     "name": "stdout",
     "output_type": "stream",
     "text": [
      "пост    0.12283407332460511\n"
     ]
    },
    {
     "name": "stderr",
     "output_type": "stream",
     "text": [
      "2020-12-10 18:26:06,839 : INFO : Warming up ELMo on 32 sentences...\n",
      "2020-12-10 18:26:08,338 : INFO : Warming up finished.\n",
      "2020-12-10 18:26:08,344 : INFO : Texts in the current batch: 32\n",
      "2020-12-10 18:26:09,048 : INFO : Texts in the current batch: 32\n",
      "2020-12-10 18:26:09,756 : INFO : Texts in the current batch: 32\n",
      "2020-12-10 18:26:10,467 : INFO : Texts in the current batch: 32\n",
      "2020-12-10 18:26:11,154 : INFO : Texts in the current batch: 8\n"
     ]
    },
    {
     "name": "stdout",
     "output_type": "stream",
     "text": [
      "поток    0.002997840203430462\n"
     ]
    },
    {
     "name": "stderr",
     "output_type": "stream",
     "text": [
      "2020-12-10 18:26:22,645 : INFO : Warming up ELMo on 32 sentences...\n",
      "2020-12-10 18:26:24,244 : INFO : Warming up finished.\n",
      "2020-12-10 18:26:24,250 : INFO : Texts in the current batch: 32\n",
      "2020-12-10 18:26:24,954 : INFO : Texts in the current batch: 32\n",
      "2020-12-10 18:26:25,671 : INFO : Texts in the current batch: 32\n",
      "2020-12-10 18:26:26,419 : INFO : Texts in the current batch: 32\n",
      "2020-12-10 18:26:27,145 : INFO : Texts in the current batch: 18\n"
     ]
    },
    {
     "name": "stdout",
     "output_type": "stream",
     "text": [
      "проказа    0.04153634931852885\n"
     ]
    },
    {
     "name": "stderr",
     "output_type": "stream",
     "text": [
      "2020-12-10 18:26:39,713 : INFO : Warming up ELMo on 32 sentences...\n",
      "2020-12-10 18:26:41,309 : INFO : Warming up finished.\n",
      "2020-12-10 18:26:41,315 : INFO : Texts in the current batch: 32\n",
      "2020-12-10 18:26:42,026 : INFO : Texts in the current batch: 32\n",
      "2020-12-10 18:26:42,730 : INFO : Texts in the current batch: 32\n",
      "2020-12-10 18:26:43,477 : INFO : Texts in the current batch: 31\n"
     ]
    },
    {
     "name": "stdout",
     "output_type": "stream",
     "text": [
      "пропасть    0.14676044916347974\n"
     ]
    },
    {
     "name": "stderr",
     "output_type": "stream",
     "text": [
      "2020-12-10 18:26:55,372 : INFO : Warming up ELMo on 32 sentences...\n",
      "2020-12-10 18:26:56,950 : INFO : Warming up finished.\n",
      "2020-12-10 18:26:56,956 : INFO : Texts in the current batch: 32\n",
      "2020-12-10 18:26:57,711 : INFO : Texts in the current batch: 32\n",
      "2020-12-10 18:26:58,451 : INFO : Texts in the current batch: 32\n",
      "2020-12-10 18:26:59,210 : INFO : Texts in the current batch: 32\n",
      "2020-12-10 18:26:59,930 : INFO : Texts in the current batch: 11\n"
     ]
    },
    {
     "name": "stdout",
     "output_type": "stream",
     "text": [
      "проспект    0.05487698315553946\n"
     ]
    },
    {
     "name": "stderr",
     "output_type": "stream",
     "text": [
      "2020-12-10 18:27:11,633 : INFO : Warming up ELMo on 32 sentences...\n",
      "2020-12-10 18:27:13,207 : INFO : Warming up finished.\n",
      "2020-12-10 18:27:13,213 : INFO : Texts in the current batch: 32\n",
      "2020-12-10 18:27:13,947 : INFO : Texts in the current batch: 32\n",
      "2020-12-10 18:27:14,674 : INFO : Texts in the current batch: 32\n",
      "2020-12-10 18:27:15,377 : INFO : Texts in the current batch: 32\n",
      "2020-12-10 18:27:16,095 : INFO : Texts in the current batch: 15\n"
     ]
    },
    {
     "name": "stdout",
     "output_type": "stream",
     "text": [
      "пытка    -0.005727951275127827\n"
     ]
    },
    {
     "name": "stderr",
     "output_type": "stream",
     "text": [
      "2020-12-10 18:27:26,546 : INFO : Warming up ELMo on 32 sentences...\n",
      "2020-12-10 18:27:27,970 : INFO : Warming up finished.\n",
      "2020-12-10 18:27:27,976 : INFO : Texts in the current batch: 32\n",
      "2020-12-10 18:27:28,682 : INFO : Texts in the current batch: 32\n",
      "2020-12-10 18:27:29,404 : INFO : Texts in the current batch: 32\n",
      "2020-12-10 18:27:30,089 : INFO : Texts in the current batch: 24\n",
      "2020-12-10 18:27:41,154 : INFO : Warming up ELMo on 32 sentences...\n",
      "2020-12-10 18:27:42,651 : INFO : Warming up finished.\n",
      "2020-12-10 18:27:42,657 : INFO : Texts in the current batch: 32\n",
      "2020-12-10 18:27:43,455 : INFO : Texts in the current batch: 32\n",
      "2020-12-10 18:27:44,256 : INFO : Texts in the current batch: 32\n",
      "2020-12-10 18:27:44,958 : INFO : Texts in the current batch: 32\n",
      "2020-12-10 18:27:45,721 : INFO : Texts in the current batch: 16\n"
     ]
    },
    {
     "name": "stdout",
     "output_type": "stream",
     "text": [
      "среда    0.18837795653739944\n"
     ]
    },
    {
     "name": "stderr",
     "output_type": "stream",
     "text": [
      "2020-12-10 18:27:57,543 : INFO : Warming up ELMo on 32 sentences...\n",
      "2020-12-10 18:28:00,845 : INFO : Warming up finished.\n",
      "2020-12-10 18:28:00,859 : INFO : Texts in the current batch: 32\n",
      "2020-12-10 18:28:03,082 : INFO : Texts in the current batch: 32\n",
      "2020-12-10 18:28:06,013 : INFO : Texts in the current batch: 32\n",
      "2020-12-10 18:28:10,013 : INFO : Texts in the current batch: 32\n",
      "2020-12-10 18:28:13,859 : INFO : Texts in the current batch: 7\n",
      "2020-12-10 18:28:28,571 : INFO : Warming up ELMo on 32 sentences...\n",
      "2020-12-10 18:28:30,384 : INFO : Warming up finished.\n",
      "2020-12-10 18:28:30,390 : INFO : Texts in the current batch: 32\n",
      "2020-12-10 18:28:31,099 : INFO : Texts in the current batch: 32\n",
      "2020-12-10 18:28:31,846 : INFO : Texts in the current batch: 32\n",
      "2020-12-10 18:28:32,550 : INFO : Texts in the current batch: 25\n"
     ]
    },
    {
     "name": "stdout",
     "output_type": "stream",
     "text": [
      "хвост    0.07267165155171218\n"
     ]
    },
    {
     "name": "stderr",
     "output_type": "stream",
     "text": [
      "2020-12-10 18:28:46,267 : INFO : Warming up ELMo on 32 sentences...\n",
      "2020-12-10 18:28:47,955 : INFO : Warming up finished.\n",
      "2020-12-10 18:28:47,961 : INFO : Texts in the current batch: 32\n",
      "2020-12-10 18:28:48,676 : INFO : Texts in the current batch: 32\n",
      "2020-12-10 18:28:49,448 : INFO : Texts in the current batch: 32\n"
     ]
    },
    {
     "name": "stdout",
     "output_type": "stream",
     "text": [
      "штамп    0.0811555966944767\n",
      "0.09770906126639806\n"
     ]
    }
   ],
   "source": [
    "ARI = []\n",
    "\n",
    "for key, _ in grouped_df:\n",
    "    texts = grouped_df.get_group(key)['context']\n",
    "    gold_labels = grouped_df.get_group(key)['gold_sense_id'].to_list()\n",
    "    X = get_elmo_vectors(key, texts, model)\n",
    "    if len(X) != len(gold_labels):\n",
    "        continue\n",
    "    \n",
    "    cluster = AffinityPropagation(damping=0.9)\n",
    "    cluster.fit(X)\n",
    "    labels = np.array(cluster.labels_) + 1\n",
    "    \n",
    "    ARI.append(adjusted_rand_score(gold_labels, labels))\n",
    "    \n",
    "    print(key, '  ', adjusted_rand_score(gold_labels, labels))\n",
    "print(np.mean(ARI))"
   ]
  },
  {
   "cell_type": "code",
   "execution_count": null,
   "metadata": {},
   "outputs": [],
   "source": []
  }
 ],
 "metadata": {
  "kernelspec": {
   "display_name": "Python 3",
   "language": "python",
   "name": "python3"
  },
  "language_info": {
   "codemirror_mode": {
    "name": "ipython",
    "version": 3
   },
   "file_extension": ".py",
   "mimetype": "text/x-python",
   "name": "python",
   "nbconvert_exporter": "python",
   "pygments_lexer": "ipython3",
   "version": "3.7.4"
  }
 },
 "nbformat": 4,
 "nbformat_minor": 2
}
