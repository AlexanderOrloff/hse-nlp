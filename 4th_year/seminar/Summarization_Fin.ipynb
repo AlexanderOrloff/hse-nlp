{
  "nbformat": 4,
  "nbformat_minor": 0,
  "metadata": {
    "colab": {
      "name": "Summarization_Fin.ipynb",
      "provenance": [],
      "collapsed_sections": []
    },
    "kernelspec": {
      "name": "python3",
      "display_name": "Python 3"
    }
  },
  "cells": [
    {
      "cell_type": "markdown",
      "metadata": {
        "id": "4jjRL-sHkp8p"
      },
      "source": [
        "Why Summarize Texts\n",
        "There are a number of valid reasons in favor of the automatic summarization of documents:\n",
        "\n",
        "Каких же?"
      ]
    },
    {
      "cell_type": "markdown",
      "metadata": {
        "id": "NtLe5pkPk05p"
      },
      "source": [
        "In general, summarization algorithms are either **extractive** or **abstractive** based on the summary generated. \n",
        "\n",
        "\n",
        "Extractive algorithms form summaries by identifying and pasting together relevant sections of the input text. \n",
        "\n",
        "bstractive algorithms are most human-like and mimic the process of paraphrasing a text, which may generate new text that is not present in the initial document. Texts summarized using this technique looks more human-like and produces condensed summaries. \n",
        "\n",
        "Как вы думаете, в чём плюсы и минусы каждого?\n",
        "\n",
        "\n",
        "Thus, they depend only on extraction of sentences from the original text. For such a reason, extractive methods yield naturally grammatical summaries and require relatively little linguistic analysis."
      ]
    },
    {
      "cell_type": "code",
      "metadata": {
        "id": "0Fit4061kV9V",
        "outputId": "92789ba0-f2fb-4e44-9f86-6d1caa21616c",
        "colab": {
          "base_uri": "https://localhost:8080/"
        }
      },
      "source": [
        "! pip install -U spacy\n",
        "! pip install -U scikit-learn"
      ],
      "execution_count": 30,
      "outputs": [
        {
          "output_type": "stream",
          "text": [
            "Requirement already up-to-date: spacy in /usr/local/lib/python3.6/dist-packages (2.3.2)\n",
            "Requirement already satisfied, skipping upgrade: wasabi<1.1.0,>=0.4.0 in /usr/local/lib/python3.6/dist-packages (from spacy) (0.8.0)\n",
            "Requirement already satisfied, skipping upgrade: plac<1.2.0,>=0.9.6 in /usr/local/lib/python3.6/dist-packages (from spacy) (1.1.3)\n",
            "Requirement already satisfied, skipping upgrade: requests<3.0.0,>=2.13.0 in /usr/local/lib/python3.6/dist-packages (from spacy) (2.23.0)\n",
            "Requirement already satisfied, skipping upgrade: preshed<3.1.0,>=3.0.2 in /usr/local/lib/python3.6/dist-packages (from spacy) (3.0.2)\n",
            "Requirement already satisfied, skipping upgrade: thinc==7.4.1 in /usr/local/lib/python3.6/dist-packages (from spacy) (7.4.1)\n",
            "Requirement already satisfied, skipping upgrade: cymem<2.1.0,>=2.0.2 in /usr/local/lib/python3.6/dist-packages (from spacy) (2.0.4)\n",
            "Requirement already satisfied, skipping upgrade: catalogue<1.1.0,>=0.0.7 in /usr/local/lib/python3.6/dist-packages (from spacy) (1.0.0)\n",
            "Requirement already satisfied, skipping upgrade: murmurhash<1.1.0,>=0.28.0 in /usr/local/lib/python3.6/dist-packages (from spacy) (1.0.3)\n",
            "Requirement already satisfied, skipping upgrade: tqdm<5.0.0,>=4.38.0 in /usr/local/lib/python3.6/dist-packages (from spacy) (4.41.1)\n",
            "Requirement already satisfied, skipping upgrade: numpy>=1.15.0 in /usr/local/lib/python3.6/dist-packages (from spacy) (1.18.5)\n",
            "Requirement already satisfied, skipping upgrade: setuptools in /usr/local/lib/python3.6/dist-packages (from spacy) (50.3.2)\n",
            "Requirement already satisfied, skipping upgrade: srsly<1.1.0,>=1.0.2 in /usr/local/lib/python3.6/dist-packages (from spacy) (1.0.2)\n",
            "Requirement already satisfied, skipping upgrade: blis<0.5.0,>=0.4.0 in /usr/local/lib/python3.6/dist-packages (from spacy) (0.4.1)\n",
            "Requirement already satisfied, skipping upgrade: chardet<4,>=3.0.2 in /usr/local/lib/python3.6/dist-packages (from requests<3.0.0,>=2.13.0->spacy) (3.0.4)\n",
            "Requirement already satisfied, skipping upgrade: idna<3,>=2.5 in /usr/local/lib/python3.6/dist-packages (from requests<3.0.0,>=2.13.0->spacy) (2.10)\n",
            "Requirement already satisfied, skipping upgrade: certifi>=2017.4.17 in /usr/local/lib/python3.6/dist-packages (from requests<3.0.0,>=2.13.0->spacy) (2020.6.20)\n",
            "Requirement already satisfied, skipping upgrade: urllib3!=1.25.0,!=1.25.1,<1.26,>=1.21.1 in /usr/local/lib/python3.6/dist-packages (from requests<3.0.0,>=2.13.0->spacy) (1.24.3)\n",
            "Requirement already satisfied, skipping upgrade: importlib-metadata>=0.20; python_version < \"3.8\" in /usr/local/lib/python3.6/dist-packages (from catalogue<1.1.0,>=0.0.7->spacy) (2.0.0)\n",
            "Requirement already satisfied, skipping upgrade: zipp>=0.5 in /usr/local/lib/python3.6/dist-packages (from importlib-metadata>=0.20; python_version < \"3.8\"->catalogue<1.1.0,>=0.0.7->spacy) (3.4.0)\n",
            "Requirement already up-to-date: scikit-learn in /usr/local/lib/python3.6/dist-packages (0.23.2)\n",
            "Requirement already satisfied, skipping upgrade: joblib>=0.11 in /usr/local/lib/python3.6/dist-packages (from scikit-learn) (0.17.0)\n",
            "Requirement already satisfied, skipping upgrade: numpy>=1.13.3 in /usr/local/lib/python3.6/dist-packages (from scikit-learn) (1.18.5)\n",
            "Requirement already satisfied, skipping upgrade: threadpoolctl>=2.0.0 in /usr/local/lib/python3.6/dist-packages (from scikit-learn) (2.1.0)\n",
            "Requirement already satisfied, skipping upgrade: scipy>=0.19.1 in /usr/local/lib/python3.6/dist-packages (from scikit-learn) (1.4.1)\n"
          ],
          "name": "stdout"
        }
      ]
    },
    {
      "cell_type": "code",
      "metadata": {
        "id": "kxPX3uvDlHOk",
        "outputId": "f45cca6e-c271-485b-cf5d-84d363c86e05",
        "colab": {
          "base_uri": "https://localhost:8080/"
        }
      },
      "source": [
        "! python -m spacy download en_core_web_sm"
      ],
      "execution_count": 31,
      "outputs": [
        {
          "output_type": "stream",
          "text": [
            "Requirement already satisfied: en_core_web_sm==2.3.1 from https://github.com/explosion/spacy-models/releases/download/en_core_web_sm-2.3.1/en_core_web_sm-2.3.1.tar.gz#egg=en_core_web_sm==2.3.1 in /usr/local/lib/python3.6/dist-packages (2.3.1)\n",
            "Requirement already satisfied: spacy<2.4.0,>=2.3.0 in /usr/local/lib/python3.6/dist-packages (from en_core_web_sm==2.3.1) (2.3.2)\n",
            "Requirement already satisfied: cymem<2.1.0,>=2.0.2 in /usr/local/lib/python3.6/dist-packages (from spacy<2.4.0,>=2.3.0->en_core_web_sm==2.3.1) (2.0.4)\n",
            "Requirement already satisfied: setuptools in /usr/local/lib/python3.6/dist-packages (from spacy<2.4.0,>=2.3.0->en_core_web_sm==2.3.1) (50.3.2)\n",
            "Requirement already satisfied: srsly<1.1.0,>=1.0.2 in /usr/local/lib/python3.6/dist-packages (from spacy<2.4.0,>=2.3.0->en_core_web_sm==2.3.1) (1.0.2)\n",
            "Requirement already satisfied: wasabi<1.1.0,>=0.4.0 in /usr/local/lib/python3.6/dist-packages (from spacy<2.4.0,>=2.3.0->en_core_web_sm==2.3.1) (0.8.0)\n",
            "Requirement already satisfied: plac<1.2.0,>=0.9.6 in /usr/local/lib/python3.6/dist-packages (from spacy<2.4.0,>=2.3.0->en_core_web_sm==2.3.1) (1.1.3)\n",
            "Requirement already satisfied: requests<3.0.0,>=2.13.0 in /usr/local/lib/python3.6/dist-packages (from spacy<2.4.0,>=2.3.0->en_core_web_sm==2.3.1) (2.23.0)\n",
            "Requirement already satisfied: murmurhash<1.1.0,>=0.28.0 in /usr/local/lib/python3.6/dist-packages (from spacy<2.4.0,>=2.3.0->en_core_web_sm==2.3.1) (1.0.3)\n",
            "Requirement already satisfied: thinc==7.4.1 in /usr/local/lib/python3.6/dist-packages (from spacy<2.4.0,>=2.3.0->en_core_web_sm==2.3.1) (7.4.1)\n",
            "Requirement already satisfied: numpy>=1.15.0 in /usr/local/lib/python3.6/dist-packages (from spacy<2.4.0,>=2.3.0->en_core_web_sm==2.3.1) (1.18.5)\n",
            "Requirement already satisfied: blis<0.5.0,>=0.4.0 in /usr/local/lib/python3.6/dist-packages (from spacy<2.4.0,>=2.3.0->en_core_web_sm==2.3.1) (0.4.1)\n",
            "Requirement already satisfied: catalogue<1.1.0,>=0.0.7 in /usr/local/lib/python3.6/dist-packages (from spacy<2.4.0,>=2.3.0->en_core_web_sm==2.3.1) (1.0.0)\n",
            "Requirement already satisfied: tqdm<5.0.0,>=4.38.0 in /usr/local/lib/python3.6/dist-packages (from spacy<2.4.0,>=2.3.0->en_core_web_sm==2.3.1) (4.41.1)\n",
            "Requirement already satisfied: preshed<3.1.0,>=3.0.2 in /usr/local/lib/python3.6/dist-packages (from spacy<2.4.0,>=2.3.0->en_core_web_sm==2.3.1) (3.0.2)\n",
            "Requirement already satisfied: idna<3,>=2.5 in /usr/local/lib/python3.6/dist-packages (from requests<3.0.0,>=2.13.0->spacy<2.4.0,>=2.3.0->en_core_web_sm==2.3.1) (2.10)\n",
            "Requirement already satisfied: urllib3!=1.25.0,!=1.25.1,<1.26,>=1.21.1 in /usr/local/lib/python3.6/dist-packages (from requests<3.0.0,>=2.13.0->spacy<2.4.0,>=2.3.0->en_core_web_sm==2.3.1) (1.24.3)\n",
            "Requirement already satisfied: certifi>=2017.4.17 in /usr/local/lib/python3.6/dist-packages (from requests<3.0.0,>=2.13.0->spacy<2.4.0,>=2.3.0->en_core_web_sm==2.3.1) (2020.6.20)\n",
            "Requirement already satisfied: chardet<4,>=3.0.2 in /usr/local/lib/python3.6/dist-packages (from requests<3.0.0,>=2.13.0->spacy<2.4.0,>=2.3.0->en_core_web_sm==2.3.1) (3.0.4)\n",
            "Requirement already satisfied: importlib-metadata>=0.20; python_version < \"3.8\" in /usr/local/lib/python3.6/dist-packages (from catalogue<1.1.0,>=0.0.7->spacy<2.4.0,>=2.3.0->en_core_web_sm==2.3.1) (2.0.0)\n",
            "Requirement already satisfied: zipp>=0.5 in /usr/local/lib/python3.6/dist-packages (from importlib-metadata>=0.20; python_version < \"3.8\"->catalogue<1.1.0,>=0.0.7->spacy<2.4.0,>=2.3.0->en_core_web_sm==2.3.1) (3.4.0)\n",
            "\u001b[38;5;2m✔ Download and installation successful\u001b[0m\n",
            "You can now load the model via spacy.load('en_core_web_sm')\n"
          ],
          "name": "stdout"
        }
      ]
    },
    {
      "cell_type": "markdown",
      "metadata": {
        "id": "7xGcy_5Vq_Hx"
      },
      "source": [
        "https://spacy.io/usage/models (зайдём?)\n",
        "\n",
        "nlp = spacy.load('en_core_web_sm')\n",
        "\n",
        "Будем пользоваться этой моделью. Для русского нету (официально).\n",
        "гит"
      ]
    },
    {
      "cell_type": "code",
      "metadata": {
        "id": "eYrGq21nm9wS",
        "outputId": "d0449371-ef1a-4690-f9ae-afce6215e909",
        "colab": {
          "resources": {
            "http://localhost:8080/nbextensions/google.colab/files.js": {
              "data": "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",
              "ok": true,
              "headers": [
                [
                  "content-type",
                  "application/javascript"
                ]
              ],
              "status": 200,
              "status_text": ""
            }
          },
          "base_uri": "https://localhost:8080/",
          "height": 73
        }
      },
      "source": [
        "from google.colab import files\n",
        "\n",
        "uploaded = files.upload()"
      ],
      "execution_count": 9,
      "outputs": [
        {
          "output_type": "display_data",
          "data": {
            "text/html": [
              "\n",
              "     <input type=\"file\" id=\"files-ab82200a-dc5b-4170-ac6a-085c3843453e\" name=\"files[]\" multiple disabled\n",
              "        style=\"border:none\" />\n",
              "     <output id=\"result-ab82200a-dc5b-4170-ac6a-085c3843453e\">\n",
              "      Upload widget is only available when the cell has been executed in the\n",
              "      current browser session. Please rerun this cell to enable.\n",
              "      </output>\n",
              "      <script src=\"/nbextensions/google.colab/files.js\"></script> "
            ],
            "text/plain": [
              "<IPython.core.display.HTML object>"
            ]
          },
          "metadata": {
            "tags": []
          }
        },
        {
          "output_type": "stream",
          "text": [
            "Saving text.txt to text.txt\n"
          ],
          "name": "stdout"
        }
      ]
    },
    {
      "cell_type": "code",
      "metadata": {
        "id": "IfsOU-i_lNT0"
      },
      "source": [
        "import spacy\n",
        "nlp = spacy.load('en_core_web_sm')\n",
        "\n",
        "from spacy.lang.en.stop_words import STOP_WORDS\n",
        "from sklearn.feature_extraction.text import CountVectorizer\n",
        "\n",
        "with open(\"text.txt\", \"r\", encoding=\"utf-8\") as f:\n",
        "        text = \" \".join(f.readlines())\n",
        "doc = nlp(text)        \n"
      ],
      "execution_count": 32,
      "outputs": []
    },
    {
      "cell_type": "markdown",
      "metadata": {
        "id": "cAzttaF9rbdL"
      },
      "source": [
        "The text is further divided into sentences and then we convert them to a matrix of token counts. Next, we create a dictionary that contains the extracted words and their respective frequencies. Besides, we discard unnecessary words like a, an, the, is, of, and others, which are known as stop words. These are high-frequency words that do not carry any information and don’t serve any purpose towards our goal of summarization."
      ]
    },
    {
      "cell_type": "code",
      "metadata": {
        "id": "3AbX3zBhvBWo"
      },
      "source": [
        "#Уберем стоп слова и создадим словарь по схеме ниже ( с relative frequency от нуля до единицы)"
      ],
      "execution_count": null,
      "outputs": []
    },
    {
      "cell_type": "code",
      "metadata": {
        "id": "PYOB_Lgvrcxc",
        "outputId": "9740ae89-5d91-4380-d55a-2d3b5eb87f02",
        "colab": {
          "base_uri": "https://localhost:8080/"
        }
      },
      "source": [
        "word_frequency"
      ],
      "execution_count": 37,
      "outputs": [
        {
          "output_type": "execute_result",
          "data": {
            "text/plain": [
              "{'000': 0.13333333333333333,\n",
              " '07': 0.06666666666666667,\n",
              " '10pm': 0.06666666666666667,\n",
              " '30': 0.06666666666666667,\n",
              " '31': 0.06666666666666667,\n",
              " '33': 0.06666666666666667,\n",
              " '37': 0.06666666666666667,\n",
              " '40s': 0.06666666666666667,\n",
              " '99': 0.06666666666666667,\n",
              " 'able': 0.13333333333333333,\n",
              " 'accident': 0.06666666666666667,\n",
              " 'aches': 0.06666666666666667,\n",
              " 'admiration': 0.06666666666666667,\n",
              " 'admit': 0.06666666666666667,\n",
              " 'advisory': 0.06666666666666667,\n",
              " 'age': 0.06666666666666667,\n",
              " 'ago': 0.06666666666666667,\n",
              " 'amazing': 0.13333333333333333,\n",
              " 'anxiety': 0.06666666666666667,\n",
              " 'anxious': 0.06666666666666667,\n",
              " 'appetite': 0.06666666666666667,\n",
              " 'areas': 0.06666666666666667,\n",
              " 'aren': 0.06666666666666667,\n",
              " 'associate': 0.13333333333333333,\n",
              " 'august': 0.13333333333333333,\n",
              " 'avalanche': 0.06666666666666667,\n",
              " 'awake': 0.06666666666666667,\n",
              " 'away': 0.06666666666666667,\n",
              " 'backache': 0.06666666666666667,\n",
              " 'barnes': 0.06666666666666667,\n",
              " 'base': 0.06666666666666667,\n",
              " 'bathroom': 0.06666666666666667,\n",
              " 'battling': 0.13333333333333333,\n",
              " 'bear': 0.13333333333333333,\n",
              " 'beds': 0.06666666666666667,\n",
              " 'beginning': 0.13333333333333333,\n",
              " 'begun': 0.06666666666666667,\n",
              " 'better': 0.2,\n",
              " 'biggest': 0.06666666666666667,\n",
              " 'bit': 0.13333333333333333,\n",
              " 'booklets': 0.06666666666666667,\n",
              " 'bracing': 0.06666666666666667,\n",
              " 'bradford': 0.2,\n",
              " 'brave': 0.06666666666666667,\n",
              " 'break': 0.06666666666666667,\n",
              " 'breath': 0.06666666666666667,\n",
              " 'bri': 0.06666666666666667,\n",
              " 'brunt': 0.06666666666666667,\n",
              " 'brutal': 0.06666666666666667,\n",
              " 'busy': 0.06666666666666667,\n",
              " 'came': 0.06666666666666667,\n",
              " 'cancelled': 0.06666666666666667,\n",
              " 'capacity': 0.06666666666666667,\n",
              " 'car': 0.06666666666666667,\n",
              " 'caravan': 0.06666666666666667,\n",
              " 'careers': 0.06666666666666667,\n",
              " 'changed': 0.06666666666666667,\n",
              " 'changing': 0.06666666666666667,\n",
              " 'chief': 0.06666666666666667,\n",
              " 'children': 0.06666666666666667,\n",
              " 'circuit': 0.06666666666666667,\n",
              " 'climb': 0.06666666666666667,\n",
              " 'clinic': 0.06666666666666667,\n",
              " 'colleagues': 0.06666666666666667,\n",
              " 'come': 0.2,\n",
              " 'coming': 0.13333333333333333,\n",
              " 'comprehension': 0.06666666666666667,\n",
              " 'concentrate': 0.06666666666666667,\n",
              " 'constantly': 0.06666666666666667,\n",
              " 'conversation': 0.06666666666666667,\n",
              " 'coronavirus': 0.06666666666666667,\n",
              " 'couldn': 0.26666666666666666,\n",
              " 'counselling': 0.06666666666666667,\n",
              " 'covid': 0.5333333333333333,\n",
              " 'cried': 0.06666666666666667,\n",
              " 'cry': 0.06666666666666667,\n",
              " 'crying': 0.13333333333333333,\n",
              " 'dad': 0.06666666666666667,\n",
              " 'daughter': 0.2,\n",
              " 'dawber': 0.13333333333333333,\n",
              " 'day': 0.3333333333333333,\n",
              " 'days': 0.2,\n",
              " 'dedicated': 0.06666666666666667,\n",
              " 'describe': 0.13333333333333333,\n",
              " 'deteriorate': 0.06666666666666667,\n",
              " 'devastating': 0.06666666666666667,\n",
              " 'devastation': 0.06666666666666667,\n",
              " 'didn': 0.13333333333333333,\n",
              " 'died': 0.13333333333333333,\n",
              " 'different': 0.06666666666666667,\n",
              " 'difficulties': 0.06666666666666667,\n",
              " 'distraction': 0.06666666666666667,\n",
              " 'doctor': 0.13333333333333333,\n",
              " 'doctors': 0.06666666666666667,\n",
              " 'doesn': 0.06666666666666667,\n",
              " 'don': 0.06666666666666667,\n",
              " 'door': 0.06666666666666667,\n",
              " 'downtime': 0.06666666666666667,\n",
              " 'dr': 0.06666666666666667,\n",
              " 'driving': 0.06666666666666667,\n",
              " 'dwelling': 0.06666666666666667,\n",
              " 'dying': 0.13333333333333333,\n",
              " 'easier': 0.06666666666666667,\n",
              " 'effect': 0.06666666666666667,\n",
              " 'email': 0.06666666666666667,\n",
              " 'emergency': 0.06666666666666667,\n",
              " 'emma': 0.06666666666666667,\n",
              " 'end': 0.06666666666666667,\n",
              " 'ended': 0.13333333333333333,\n",
              " 'enormity': 0.06666666666666667,\n",
              " 'episodes': 0.06666666666666667,\n",
              " 'extra': 0.06666666666666667,\n",
              " 'fact': 0.06666666666666667,\n",
              " 'families': 0.13333333333333333,\n",
              " 'fatigue': 0.06666666666666667,\n",
              " 'fearful': 0.06666666666666667,\n",
              " 'feel': 0.13333333333333333,\n",
              " 'feeling': 0.13333333333333333,\n",
              " 'felt': 0.26666666666666666,\n",
              " 'figure': 0.06666666666666667,\n",
              " 'flat': 0.06666666666666667,\n",
              " 'focus': 0.06666666666666667,\n",
              " 'force': 0.06666666666666667,\n",
              " 'forever': 0.06666666666666667,\n",
              " 'fortnight': 0.06666666666666667,\n",
              " 'funny': 0.06666666666666667,\n",
              " 'germs': 0.06666666666666667,\n",
              " 'getting': 0.2,\n",
              " 'going': 0.4666666666666667,\n",
              " 'got': 0.4666666666666667,\n",
              " 'government': 0.06666666666666667,\n",
              " 'great': 0.13333333333333333,\n",
              " 'group': 0.06666666666666667,\n",
              " 'hadn': 0.13333333333333333,\n",
              " 'hand': 0.06666666666666667,\n",
              " 'hands': 0.06666666666666667,\n",
              " 'hannah': 0.13333333333333333,\n",
              " 'happening': 0.06666666666666667,\n",
              " 'hard': 0.06666666666666667,\n",
              " 'haven': 0.06666666666666667,\n",
              " 'having': 0.06666666666666667,\n",
              " 'headache': 0.06666666666666667,\n",
              " 'hearts': 0.13333333333333333,\n",
              " 'hold': 0.06666666666666667,\n",
              " 'holidays': 0.06666666666666667,\n",
              " 'home': 0.4,\n",
              " 'hope': 0.06666666666666667,\n",
              " 'hopefully': 0.06666666666666667,\n",
              " 'hospital': 0.3333333333333333,\n",
              " 'hospitals': 0.06666666666666667,\n",
              " 'huge': 0.06666666666666667,\n",
              " 'husband': 0.2,\n",
              " 'idea': 0.06666666666666667,\n",
              " 'ill': 0.06666666666666667,\n",
              " 'illnesses': 0.06666666666666667,\n",
              " 'impact': 0.26666666666666666,\n",
              " 'infected': 0.13333333333333333,\n",
              " 'infectious': 0.06666666666666667,\n",
              " 'infirmary': 0.13333333333333333,\n",
              " 'introduces': 0.06666666666666667,\n",
              " 'job': 0.06666666666666667,\n",
              " 'john': 0.06666666666666667,\n",
              " 'july': 0.06666666666666667,\n",
              " 'june': 0.2,\n",
              " 'karen': 0.13333333333333333,\n",
              " 'keeping': 0.06666666666666667,\n",
              " 'kept': 0.06666666666666667,\n",
              " 'kind': 0.06666666666666667,\n",
              " 'know': 0.2,\n",
              " 'lancashire': 0.06666666666666667,\n",
              " 'learning': 0.06666666666666667,\n",
              " 'learnt': 0.13333333333333333,\n",
              " 'left': 0.06666666666666667,\n",
              " 'life': 0.06666666666666667,\n",
              " 'like': 0.3333333333333333,\n",
              " 'liked': 0.06666666666666667,\n",
              " 'live': 0.2,\n",
              " 'living': 0.13333333333333333,\n",
              " 'long': 0.06666666666666667,\n",
              " 'looking': 0.13333333333333333,\n",
              " 'looks': 0.06666666666666667,\n",
              " 'lot': 0.4,\n",
              " 'love': 0.06666666666666667,\n",
              " 'loved': 0.06666666666666667,\n",
              " 'low': 0.06666666666666667,\n",
              " 'lower': 0.06666666666666667,\n",
              " 'luck': 0.06666666666666667,\n",
              " 'majority': 0.06666666666666667,\n",
              " 'making': 0.06666666666666667,\n",
              " 'man': 0.06666666666666667,\n",
              " 'matter': 0.13333333333333333,\n",
              " 'messages': 0.06666666666666667,\n",
              " 'moira': 0.13333333333333333,\n",
              " 'moment': 0.06666666666666667,\n",
              " 'month': 0.06666666666666667,\n",
              " 'months': 0.06666666666666667,\n",
              " 'mood': 0.06666666666666667,\n",
              " 'morning': 0.06666666666666667,\n",
              " 'mortality': 0.06666666666666667,\n",
              " 'mountain': 0.06666666666666667,\n",
              " 'moved': 0.06666666666666667,\n",
              " 'multiple': 0.06666666666666667,\n",
              " 'muscle': 0.06666666666666667,\n",
              " 'nearer': 0.06666666666666667,\n",
              " 'nearly': 0.13333333333333333,\n",
              " 'need': 0.13333333333333333,\n",
              " 'needs': 0.06666666666666667,\n",
              " 'negative': 0.06666666666666667,\n",
              " 'new': 0.06666666666666667,\n",
              " 'nice': 0.06666666666666667,\n",
              " 'night': 0.2,\n",
              " 'notice': 0.06666666666666667,\n",
              " 'noticed': 0.06666666666666667,\n",
              " 'nurse': 0.3333333333333333,\n",
              " 'nurses': 0.5333333333333333,\n",
              " 'nursing': 0.13333333333333333,\n",
              " 'october': 0.06666666666666667,\n",
              " 'older': 0.06666666666666667,\n",
              " 'ones': 0.06666666666666667,\n",
              " 'opening': 0.2,\n",
              " 'operation': 0.06666666666666667,\n",
              " 'operations': 0.06666666666666667,\n",
              " 'order': 0.06666666666666667,\n",
              " 'orthopaedic': 0.06666666666666667,\n",
              " 'pain': 0.06666666666666667,\n",
              " 'pains': 0.06666666666666667,\n",
              " 'palpitations': 0.06666666666666667,\n",
              " 'pandemic': 0.13333333333333333,\n",
              " 'partner': 0.06666666666666667,\n",
              " 'pass': 0.06666666666666667,\n",
              " 'patient': 0.06666666666666667,\n",
              " 'patients': 0.4,\n",
              " 'people': 0.4666666666666667,\n",
              " 'person': 0.13333333333333333,\n",
              " 'phone': 0.06666666666666667,\n",
              " 'physios': 0.06666666666666667,\n",
              " 'physiotherapists': 0.06666666666666667,\n",
              " 'picking': 0.06666666666666667,\n",
              " 'place': 0.06666666666666667,\n",
              " 'population': 0.06666666666666667,\n",
              " 'positive': 0.2,\n",
              " 'pot': 0.06666666666666667,\n",
              " 'ppe': 0.13333333333333333,\n",
              " 'pressure': 0.06666666666666667,\n",
              " 'prevalence': 0.06666666666666667,\n",
              " 'problem': 0.06666666666666667,\n",
              " 'protect': 0.06666666666666667,\n",
              " 'prouder': 0.06666666666666667,\n",
              " 'puzzle': 0.06666666666666667,\n",
              " 'qualified': 0.06666666666666667,\n",
              " 'quicker': 0.06666666666666667,\n",
              " 'ray': 0.06666666666666667,\n",
              " 'reached': 0.06666666666666667,\n",
              " 'readying': 0.06666666666666667,\n",
              " 'recently': 0.06666666666666667,\n",
              " 'recommending': 0.06666666666666667,\n",
              " 'red': 0.13333333333333333,\n",
              " 'redeploy': 0.06666666666666667,\n",
              " 'registered': 0.06666666666666667,\n",
              " 'related': 0.06666666666666667,\n",
              " 'relatives': 0.06666666666666667,\n",
              " 'relentless': 0.06666666666666667,\n",
              " 'relentlessness': 0.06666666666666667,\n",
              " 'remember': 0.06666666666666667,\n",
              " 'repeat': 0.06666666666666667,\n",
              " 'right': 0.13333333333333333,\n",
              " 'role': 0.06666666666666667,\n",
              " 'round': 0.13333333333333333,\n",
              " 'routine': 0.06666666666666667,\n",
              " 'royal': 0.13333333333333333,\n",
              " 'run': 0.06666666666666667,\n",
              " 'running': 0.06666666666666667,\n",
              " 'sacrifices': 0.06666666666666667,\n",
              " 'safer': 0.06666666666666667,\n",
              " 'sage': 0.06666666666666667,\n",
              " 'said': 0.06666666666666667,\n",
              " 'sat': 0.06666666666666667,\n",
              " 'scarves': 0.06666666666666667,\n",
              " 'school': 0.2,\n",
              " 'schooling': 0.06666666666666667,\n",
              " 'scientific': 0.06666666666666667,\n",
              " 'sclerosis': 0.06666666666666667,\n",
              " 'second': 0.06666666666666667,\n",
              " 'seeing': 0.13333333333333333,\n",
              " 'seen': 0.13333333333333333,\n",
              " 'selfless': 0.06666666666666667,\n",
              " 'sent': 0.06666666666666667,\n",
              " 'september': 0.06666666666666667,\n",
              " 'set': 0.06666666666666667,\n",
              " 'settled': 0.06666666666666667,\n",
              " 'seven': 0.06666666666666667,\n",
              " 'shift': 0.06666666666666667,\n",
              " 'shocked': 0.06666666666666667,\n",
              " 'shopping': 0.06666666666666667,\n",
              " 'short': 0.06666666666666667,\n",
              " 'showed': 0.06666666666666667,\n",
              " 'sicker': 0.06666666666666667,\n",
              " 'signing': 0.06666666666666667,\n",
              " 'single': 0.06666666666666667,\n",
              " 'sleep': 0.06666666666666667,\n",
              " 'slept': 0.06666666666666667,\n",
              " 'son': 0.06666666666666667,\n",
              " 'sort': 0.06666666666666667,\n",
              " 'spasms': 0.06666666666666667,\n",
              " 'speak': 0.06666666666666667,\n",
              " 'special': 0.06666666666666667,\n",
              " 'spread': 0.06666666666666667,\n",
              " 'spreading': 0.06666666666666667,\n",
              " 'staff': 0.6666666666666666,\n",
              " 'staffing': 0.06666666666666667,\n",
              " 'stairs': 0.13333333333333333,\n",
              " 'stalled': 0.06666666666666667,\n",
              " 'start': 0.13333333333333333,\n",
              " 'started': 0.26666666666666666,\n",
              " 'starting': 0.06666666666666667,\n",
              " 'station': 0.06666666666666667,\n",
              " 'staying': 0.06666666666666667,\n",
              " 'step': 0.06666666666666667,\n",
              " 'sticking': 0.06666666666666667,\n",
              " 'strain': 0.06666666666666667,\n",
              " 'stress': 0.2,\n",
              " 'strong': 0.06666666666666667,\n",
              " 'student': 0.06666666666666667,\n",
              " 'suddenly': 0.06666666666666667,\n",
              " 'sudoku': 0.06666666666666667,\n",
              " 'supplies': 0.06666666666666667,\n",
              " 'support': 0.06666666666666667,\n",
              " 'surgery': 0.06666666666666667,\n",
              " 'surrounded': 0.06666666666666667,\n",
              " 'surviving': 0.06666666666666667,\n",
              " 'talk': 0.06666666666666667,\n",
              " 'talked': 0.06666666666666667,\n",
              " 'talking': 0.06666666666666667,\n",
              " 'team': 0.13333333333333333,\n",
              " 'tension': 0.06666666666666667,\n",
              " 'tested': 0.13333333333333333,\n",
              " 'tests': 0.06666666666666667,\n",
              " 'texting': 0.06666666666666667,\n",
              " 'things': 0.13333333333333333,\n",
              " 'think': 0.26666666666666666,\n",
              " 'thinking': 0.13333333333333333,\n",
              " 'thought': 0.26666666666666666,\n",
              " 'time': 0.6666666666666666,\n",
              " 'times': 0.06666666666666667,\n",
              " 'tired': 0.06666666666666667,\n",
              " 'toilet': 0.06666666666666667,\n",
              " 'told': 0.06666666666666667,\n",
              " 'toll': 0.06666666666666667,\n",
              " 'took': 0.06666666666666667,\n",
              " 'trainee': 0.06666666666666667,\n",
              " 'try': 0.06666666666666667,\n",
              " 'tummy': 0.06666666666666667,\n",
              " 'twice': 0.06666666666666667,\n",
              " 'unbelievable': 0.06666666666666667,\n",
              " 'uncertain': 0.06666666666666667,\n",
              " 'unlucky': 0.06666666666666667,\n",
              " 'unreal': 0.06666666666666667,\n",
              " 'unstoppable': 0.06666666666666667,\n",
              " 'upsetting': 0.06666666666666667,\n",
              " 'urgency': 0.06666666666666667,\n",
              " 'vaccine': 0.06666666666666667,\n",
              " 'vast': 0.06666666666666667,\n",
              " 've': 1.0,\n",
              " 'ventilators': 0.06666666666666667,\n",
              " 'virus': 0.06666666666666667,\n",
              " 'waiting': 0.06666666666666667,\n",
              " 'want': 0.06666666666666667,\n",
              " 'wanted': 0.06666666666666667,\n",
              " 'ward': 0.2,\n",
              " 'wards': 0.26666666666666666,\n",
              " 'washing': 0.06666666666666667,\n",
              " 'wasn': 0.13333333333333333,\n",
              " 'watching': 0.06666666666666667,\n",
              " 'wave': 0.13333333333333333,\n",
              " 'way': 0.06666666666666667,\n",
              " 'wearing': 0.06666666666666667,\n",
              " 'weary': 0.06666666666666667,\n",
              " 'week': 0.06666666666666667,\n",
              " 'weekdays': 0.06666666666666667,\n",
              " 'weeks': 0.2,\n",
              " 'went': 0.26666666666666666,\n",
              " 'whiting': 0.13333333333333333,\n",
              " 'wife': 0.13333333333333333,\n",
              " 'win': 0.06666666666666667,\n",
              " 'winter': 0.06666666666666667,\n",
              " 'witnesses': 0.06666666666666667,\n",
              " 'woken': 0.06666666666666667,\n",
              " 'work': 0.4666666666666667,\n",
              " 'working': 0.06666666666666667,\n",
              " 'worse': 0.06666666666666667,\n",
              " 'wouldn': 0.06666666666666667,\n",
              " 'wright': 0.06666666666666667,\n",
              " 'writes': 0.06666666666666667,\n",
              " 'yorkshire': 0.06666666666666667,\n",
              " 'young': 0.06666666666666667,\n",
              " 'younger': 0.13333333333333333,\n",
              " 'youngest': 0.06666666666666667}"
            ]
          },
          "metadata": {
            "tags": []
          },
          "execution_count": 37
        }
      ]
    },
    {
      "cell_type": "markdown",
      "metadata": {
        "id": "TYy0qeZBsAxm"
      },
      "source": [
        "Almost all extractive summarization methods have three main obstacles.\n",
        "\n",
        " The first one is how you rank sentences or words. ____Идеи?\n",
        "\n",
        " The second obstacle is how to select the ranked units. ___Какие тут могут быть проблемы и как их решать?\n",
        "\n",
        " The third obstacle is how to ensure that the selected units form an understandable summary rather than being a set of disconnected words or sentences.  ____А вот это сложно и отдельная NLP тема.\n",
        " \n",
        " \n",
        " To solve the ranking problem, we will use a simple algorithm that determines the relevance of sentences based on the cumulative frequency of their words. Then, firstly we compute the relative frequency of each word:"
      ]
    },
    {
      "cell_type": "markdown",
      "metadata": {
        "id": "lBBEeoedtWo_"
      },
      "source": [
        "Каким путём они тут пошли?"
      ]
    },
    {
      "cell_type": "code",
      "metadata": {
        "id": "Kl2m_szooUQP",
        "outputId": "9a29a20f-e596-4654-a034-80daad13c773",
        "colab": {
          "base_uri": "https://localhost:8080/"
        }
      },
      "source": [
        "val=sorted(word_frequency.values())\n",
        "higher_word_frequencies = [word for word,freq in word_frequency.items() if freq in val[-3:]]\n",
        "print(\"\\nWords with higher frequencies: \", higher_word_frequencies)\n",
        "# gets relative frequency of words\n",
        "higher_frequency = val[-1]\n",
        "for word in word_frequency.keys():  \n",
        "    word_frequency[word] = (word_frequency[word]/higher_frequency)"
      ],
      "execution_count": 27,
      "outputs": [
        {
          "output_type": "stream",
          "text": [
            "\n",
            "Words with higher frequencies:  ['staff', 'time', 've']\n"
          ],
          "name": "stdout"
        }
      ]
    },
    {
      "cell_type": "code",
      "metadata": {
        "id": "dZJP6Xgpoe1-"
      },
      "source": [
        "sentence_rank={}\n",
        "for sent in doc.sents:\n",
        "    for word in sent :       \n",
        "        if word.text.lower() in word_frequency.keys():            \n",
        "            if sent in sentence_rank.keys():\n",
        "                sentence_rank[sent]+=word_frequency[word.text.lower()]\n",
        "            else:\n",
        "                sentence_rank[sent]=word_frequency[word.text.lower()]\n",
        "top_sentences=(sorted(sentence_rank.values())[::-1])\n",
        "top_sent=top_sentences[:6]"
      ],
      "execution_count": 43,
      "outputs": []
    },
    {
      "cell_type": "markdown",
      "metadata": {
        "id": "im6suMi-tiS_"
      },
      "source": [
        "А можете написать код с ключевыми словами? Потом сравним)"
      ]
    },
    {
      "cell_type": "code",
      "metadata": {
        "id": "vID_nXkytotA"
      },
      "source": [
        "#YouRCODE"
      ],
      "execution_count": null,
      "outputs": []
    },
    {
      "cell_type": "code",
      "metadata": {
        "id": "mLVgyTx5ogKS",
        "outputId": "c9a6be27-b5f0-4bff-9b18-b5e46c76eb56",
        "colab": {
          "base_uri": "https://localhost:8080/"
        }
      },
      "source": [
        "summary=[]\n",
        "for sent,strength in sentence_rank.items():  \n",
        "    if strength in top_sent:\n",
        "        summary.append(sent)\n",
        "    else:\n",
        "        continue\n",
        "for i in summary:\n",
        "    print(i,end=\" \")"
      ],
      "execution_count": 44,
      "outputs": [
        {
          "output_type": "stream",
          "text": [
            "At the beginning, we didn't know how brutal the impact of Covid would be, and the toll it would take watching people you've got to know over a matter of days or weeks just deteriorate. I went to live in a flat in Bradford for the first few months of the pandemic to be nearer the hospital, and because it was safer - my partner has multiple sclerosis and my daughter has learning difficulties and special needs, and I didn't want to take Covid back home. I started living there weekdays after I ended up driving in at 10pm at night because we were opening a red ward (for infectious Covid patients) at very short notice. We have staff who have moved out to live elsewhere in order to protect relatives at home, staff who have cancelled holidays, who aren't seeing their loved ones because they're dedicated to working here The counselling we were getting ended in August, but in the last two weeks it started again, because I had staff just crying - staff texting me to say they're crying in the car, on the way home. Last time the vast majority were older patients, this time most are in their 40s and we've got a lot more going on ventilators - they seem younger and sicker. "
          ],
          "name": "stdout"
        }
      ]
    },
    {
      "cell_type": "markdown",
      "metadata": {
        "id": "14yoF-7_uXDf"
      },
      "source": [
        "В чём \"минусы\" нашего текста для анализа? Как это можно поправить?\n",
        "Какой \"идеальный\" текст для такой метрики?\n"
      ]
    },
    {
      "cell_type": "markdown",
      "metadata": {
        "id": "I0kGNR-Au88i"
      },
      "source": [
        "# ОТВЕТЫ"
      ]
    },
    {
      "cell_type": "code",
      "metadata": {
        "id": "J0B0-rwillnt",
        "outputId": "6b38de93-dcfc-4a14-9505-0b7cdd49511b",
        "colab": {
          "base_uri": "https://localhost:8080/"
        }
      },
      "source": [
        "corpus = [sent.text.lower() for sent in doc.sents ]\n",
        "cv = CountVectorizer(stop_words=list(STOP_WORDS))   \n",
        "cv_fit=cv.fit_transform(corpus)    \n",
        "word_list = cv.get_feature_names();    \n",
        "count_list = cv_fit.toarray().sum(axis=0)\n",
        "word_frequency = dict(zip(word_list,count_list))"
      ],
      "execution_count": 26,
      "outputs": [
        {
          "output_type": "stream",
          "text": [
            "/usr/local/lib/python3.6/dist-packages/sklearn/feature_extraction/text.py:386: UserWarning: Your stop_words may be inconsistent with your preprocessing. Tokenizing the stop words generated tokens ['ll', 've'] not in stop_words.\n",
            "  'stop_words.' % sorted(inconsistent))\n"
          ],
          "name": "stderr"
        }
      ]
    },
    {
      "cell_type": "markdown",
      "metadata": {
        "id": "DGKd_d3zx20B"
      },
      "source": [
        "### Теор, нейро и Latent Semantic Analysis"
      ]
    },
    {
      "cell_type": "markdown",
      "metadata": {
        "id": "Z5824z54xnup"
      },
      "source": [
        "https://www.researchgate.net/publication/220195824_Text_summarization_using_Latent_Semantic_Analysis    -- обзорная статья (история, классификация....)"
      ]
    },
    {
      "cell_type": "markdown",
      "metadata": {
        "id": "AOQ5-JjWzklp"
      },
      "source": [
        "Другие подходы:"
      ]
    },
    {
      "cell_type": "markdown",
      "metadata": {
        "id": "aQpqR6dwz1qv"
      },
      "source": [
        "Концепты\n",
        "\n",
        "Как эти концепты определить?\n",
        "\n",
        "\n",
        "  LSA (Latent Semantic Analysis) assumes that words that are close in meaning will occur in similar pieces of text (the distributional hypothesis). A matrix containing word counts per document (rows represent unique words and columns represent each document) is constructed from a large piece of text and a mathematical technique called singular value decomposition (SVD) is used to reduce the number of rows while preserving the similarity structure among columns. \n",
        "\n",
        "\n",
        "  Documents are then compared by taking the cosine of the angle between the two vectors (or the dot product between the normalizations of the two vectors) formed by any two columns. Values close to 1 represent very similar documents while values close to 0 represent very dissimilar documents."
      ]
    },
    {
      "cell_type": "markdown",
      "metadata": {
        "id": "Me2FOYqK0FHs"
      },
      "source": [
        "Какие недостатки? "
      ]
    },
    {
      "cell_type": "markdown",
      "metadata": {
        "id": "_ZpQwKBQzrhI"
      },
      "source": [
        "The approach of Gong and Liu has some disadvantages that are defined by Steinberger and Jezek [5]. The first disad-vantage is that the number of sentences to be collected is the same with the reduced dimension. If the given predefinednumber is large, sentences from less significant concepts are chosen. The second disadvantage is related to choosingonly one sentence from each concept. Some concepts, especially important ones, can contain sentences that are highlyrelated to the concept, but do not have the highest cell value. The last disadvantage is that all chosen concepts areassumed to be in the same importance level, which may not be true.н"
      ]
    },
    {
      "cell_type": "markdown",
      "metadata": {
        "id": "2EiYBHWzrbtE"
      },
      "source": [
        " Steinberger and Jezek (2004) и Ozsoy et al - способ вычленить не по одному, а по нескольку предложений в зависимости от релевантности топика (SVD разложение).[Текст ссылки](https://)"
      ]
    },
    {
      "cell_type": "markdown",
      "metadata": {
        "id": "FI5IT8RBrrgO"
      },
      "source": [
        "+ некоторые работы предлагают смотреть на длину предложения (почему эту переменную надо использовать аккуратно?)"
      ]
    },
    {
      "cell_type": "markdown",
      "metadata": {
        "id": "k7q_YDalu1E_"
      },
      "source": [
        "##  Теперь чуть-чуть про более продвинутые виды.\n",
        "\n",
        "Encoder-Decoder, Seq to Seq model.\n",
        "\n",
        "Очень прогрессивно, но пока что не очень адекватно - сами по себе они не работают."
      ]
    },
    {
      "cell_type": "markdown",
      "metadata": {
        "id": "14qGJNd4wpDn"
      },
      "source": [
        "https://github.com/lancopku/Global-Encoding"
      ]
    },
    {
      "cell_type": "code",
      "metadata": {
        "id": "gGovhWTjwsti"
      },
      "source": [
        ""
      ],
      "execution_count": null,
      "outputs": []
    },
    {
      "cell_type": "code",
      "metadata": {
        "id": "2lKBU2LRx0Pf"
      },
      "source": [
        ""
      ],
      "execution_count": null,
      "outputs": []
    },
    {
      "cell_type": "code",
      "metadata": {
        "id": "RbuWhMo2rq01"
      },
      "source": [
        ""
      ],
      "execution_count": null,
      "outputs": []
    },
    {
      "cell_type": "code",
      "metadata": {
        "id": "ukb3P-vB00o2"
      },
      "source": [
        ""
      ],
      "execution_count": null,
      "outputs": []
    },
    {
      "cell_type": "code",
      "metadata": {
        "id": "PEFp0ZOdzrBi"
      },
      "source": [
        ""
      ],
      "execution_count": null,
      "outputs": []
    },
    {
      "cell_type": "code",
      "metadata": {
        "id": "_UmETA7tzjgs"
      },
      "source": [
        ""
      ],
      "execution_count": null,
      "outputs": []
    },
    {
      "cell_type": "markdown",
      "metadata": {
        "id": "Z4JEkJ7SviX3"
      },
      "source": [
        " Latent Semantic AnalysisLatent Semantic Analysis is an algebraic-statistical method that extracts hidden semantic structures of words and sen-tences. It is an unsupervised approach"
      ]
    },
    {
      "cell_type": "code",
      "metadata": {
        "id": "7SS1X6BKxnNV"
      },
      "source": [
        ""
      ],
      "execution_count": null,
      "outputs": []
    }
  ]
}