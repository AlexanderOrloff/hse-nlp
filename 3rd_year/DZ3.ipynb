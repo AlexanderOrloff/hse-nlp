{
  "nbformat": 4,
  "nbformat_minor": 0,
  "metadata": {
    "colab": {
      "name": "DZ3.ipynb",
      "provenance": [],
      "collapsed_sections": []
    },
    "kernelspec": {
      "name": "python3",
      "display_name": "Python 3"
    }
  },
  "cells": [
    {
      "cell_type": "markdown",
      "metadata": {
        "id": "cam76t4vXJVG"
      },
      "source": [
        "В этой домашней работе вам предстоит составить csv или pandas таблицу, в которой будет хранится информация о широком или узком топике текста.\n",
        "\n",
        "Мы будем работать с тем же датасетом, что и на последнем семинаре по gensim.\n",
        "\n",
        "Для начала определим широкий топик текста с помощью gensim. Так,  На семинаре мы познакомились с \"обычным\" встроенным дженсимом, но у него есть улучшенная версия - mallet, для запуска которой надо скачать zip file, распокавать его, дать обертке для маллета path к файлу.... и просто запустить.\n",
        "\n",
        "За \"прогон\" дженсима в его базовой версии вы получите - один балл, за прогон с маллетом - 2."
      ]
    },
    {
      "cell_type": "markdown",
      "metadata": {
        "id": "fL7mkOW0Y3-e"
      },
      "source": [
        "Создайте функцию или серию функций, через которую будет удобно подобрать оптимальное число групп - 1 балл за нахождение оптимального числа групп, 1 балл - если этобудет не руками, а через функцию"
      ]
    },
    {
      "cell_type": "code",
      "metadata": {
        "id": "zZejQsFDVZYn"
      },
      "source": [
        "# Download File: http://mallet.cs.umass.edu/dist/mallet-2.0.8.zip\n",
        "mallet_path = 'path/to/mallet-2.0.8/bin/mallet' # update this path\n",
        "ldamallet = gensim.models.wrappers.LdaMallet(mallet_path, corpus=corpus, num_topics=20, id2word=id2word)\n",
        "\n",
        "\n",
        "# Show Topics\n",
        "pprint(ldamallet.show_topics(formatted=False))\n",
        "\n",
        "# Compute Coherence Score\n",
        "coherence_model_ldamallet = CoherenceModel(model=ldamallet, texts=data_lemmatized, dictionary=id2word, coherence='c_v')\n",
        "coherence_ldamallet = coherence_model_ldamallet.get_coherence()\n",
        "print('\\nCoherence Score: ', coherence_ldamallet)"
      ],
      "execution_count": null,
      "outputs": []
    },
    {
      "cell_type": "markdown",
      "metadata": {
        "id": "Ugl6zjvGWVLA"
      },
      "source": [
        "Как вы знаете, gensim считает, что каждый текст содержит несколько топиков, но на следвующем этапе вам будет надо создать функцию, которая будет для каждого текста определять один широкий топик, самый главный....  Создайте счётчик, и каждый раз, когда в тексте будет встречаться одно из слов, соответсвующих данной теме, добавляйте к счетчику его вес. 2 балла"
      ]
    },
    {
      "cell_type": "markdown",
      "metadata": {
        "id": "gFmkbZCLYwhC"
      },
      "source": [
        "После того, как у вас получится какое-то число групп, внутри каждой из этих групп посчитайте тф_идф. Каждому тексту определите слова с пятью самыми высокими тф_идф"
      ]
    },
    {
      "cell_type": "markdown",
      "metadata": {
        "id": "EcRj4sbtZbbm"
      },
      "source": [
        "вывод - excel, csv или pandas таблица с текстом, его широким топиком по дженсиму и 5 тф_идф словами - 1 балл\n",
        "\n",
        "\n",
        "Логичность и красота кода - 1 балл\n",
        "\n",
        "\n",
        "бонус балл: описать как работает coherence score (не успели обсудить на паре) на русском - словами "
      ]
    },
    {
      "cell_type": "markdown",
      "metadata": {
        "id": "UK4CP37_ZxFf"
      },
      "source": [
        "дэдлайн 19 окт 23:59"
      ]
    }
  ]
}