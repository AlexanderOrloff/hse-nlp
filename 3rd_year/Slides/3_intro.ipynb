{
 "cells": [
  {
   "cell_type": "markdown",
   "id": "9738c832",
   "metadata": {},
   "source": [
    "# Токенизация\n",
    "\n",
    "Как разделить текст на предложения?"
   ]
  },
  {
   "cell_type": "code",
   "execution_count": null,
   "id": "9332edeb",
   "metadata": {},
   "outputs": [],
   "source": [
    "text = \"Mr. Smith bought ticket to San Francisco. He was very happy.\"\n",
    "text.split('.')"
   ]
  },
  {
   "cell_type": "code",
   "execution_count": null,
   "id": "6bd5f62a",
   "metadata": {},
   "outputs": [],
   "source": [
    "#!pip install nltk"
   ]
  },
  {
   "cell_type": "code",
   "execution_count": null,
   "id": "c6ff6a09",
   "metadata": {},
   "outputs": [],
   "source": [
    "#nltk.download('punkt')"
   ]
  },
  {
   "cell_type": "code",
   "execution_count": null,
   "id": "921a00e8",
   "metadata": {},
   "outputs": [],
   "source": [
    "import nltk"
   ]
  },
  {
   "cell_type": "code",
   "execution_count": null,
   "id": "26d63090",
   "metadata": {},
   "outputs": [],
   "source": [
    "nltk.sent_tokenize(text)"
   ]
  },
  {
   "cell_type": "markdown",
   "id": "6231389a",
   "metadata": {},
   "source": [
    "## По пробелам"
   ]
  },
  {
   "cell_type": "code",
   "execution_count": null,
   "id": "699c64be",
   "metadata": {},
   "outputs": [],
   "source": [
    "en_sentence = nltk.sent_tokenize(text)[0]\n",
    "en_sentence.split()"
   ]
  },
  {
   "cell_type": "code",
   "execution_count": null,
   "id": "7aca5d52",
   "metadata": {},
   "outputs": [],
   "source": [
    "ru_sentence = \"Мистер Смит купил билет до Сан-Франциско.\"\n",
    "ru_sentence.split()"
   ]
  },
  {
   "cell_type": "markdown",
   "id": "49c6936c",
   "metadata": {},
   "source": [
    "## NLTK"
   ]
  },
  {
   "cell_type": "code",
   "execution_count": null,
   "id": "85699852",
   "metadata": {},
   "outputs": [],
   "source": [
    "nltk.word_tokenize(en_sentence)"
   ]
  },
  {
   "cell_type": "code",
   "execution_count": null,
   "id": "efdf1e73",
   "metadata": {},
   "outputs": [],
   "source": [
    "nltk.word_tokenize(ru_sentence)"
   ]
  },
  {
   "cell_type": "markdown",
   "id": "7fce7531",
   "metadata": {},
   "source": [
    "## pymorphy2"
   ]
  },
  {
   "cell_type": "code",
   "execution_count": null,
   "id": "9ac2eef6",
   "metadata": {},
   "outputs": [],
   "source": [
    "import pymorphy2\n",
    "m = pymorphy2.MorphAnalyzer()\n",
    "for t in nltk.word_tokenize(ru_sentence):\n",
    "    print(m.parse(t)[0])"
   ]
  },
  {
   "cell_type": "code",
   "execution_count": null,
   "id": "72c1e387",
   "metadata": {},
   "outputs": [],
   "source": [
    "for t, p in nltk.pos_tag(nltk.word_tokenize(en_sentence)):\n",
    "    print(t, p)"
   ]
  },
  {
   "cell_type": "markdown",
   "id": "cfeac6c1",
   "metadata": {},
   "source": [
    "## Вопрос на подумать\n",
    "А что делать с языками без пробелов?\n",
    "\n",
    "..."
   ]
  },
  {
   "cell_type": "markdown",
   "id": "99e1cd33",
   "metadata": {},
   "source": [
    "# BPE / Subword segmentation"
   ]
  },
  {
   "cell_type": "code",
   "execution_count": null,
   "id": "b9fab739",
   "metadata": {},
   "outputs": [],
   "source": [
    "!pip3 install subword-nmt"
   ]
  },
  {
   "cell_type": "markdown",
   "id": "d7be101e",
   "metadata": {},
   "source": [
    "Посмотрим по шагам на обучение BPE-токенизации:\n",
    "\n",
    "увеличивая количество операций (`-s`), получаем новые токены в _словаре_."
   ]
  },
  {
   "cell_type": "code",
   "execution_count": null,
   "id": "28bdf25d",
   "metadata": {},
   "outputs": [],
   "source": [
    "!subword-nmt learn-bpe -s 1 < train.txt > bpe_result.txt"
   ]
  },
  {
   "cell_type": "code",
   "execution_count": null,
   "id": "65db408c",
   "metadata": {},
   "outputs": [],
   "source": [
    "!echo \"newer lower\" | subword-nmt apply-bpe -c bpe_result.txt"
   ]
  },
  {
   "cell_type": "markdown",
   "id": "fb0d76c3",
   "metadata": {},
   "source": [
    "# Toy language model\n",
    "Научимся быстро считать частоты токенов/n-грамм в корпусе:"
   ]
  },
  {
   "cell_type": "code",
   "execution_count": null,
   "id": "2f1e7f7f",
   "metadata": {},
   "outputs": [],
   "source": [
    "from collections import Counter"
   ]
  },
  {
   "cell_type": "code",
   "execution_count": null,
   "id": "d681f8c7",
   "metadata": {},
   "outputs": [],
   "source": [
    "corpus = \"\"\"\n",
    "Лингви́стика (от лат. lingua «язык»), языкозна́ние, языкове́дение — наука, изучающая языки.\n",
    "Это наука о естественном человеческом языке вообще и обо всех языках мира как его индивидуализированных представителях.\n",
    "В широком смысле слова лингвистика подразделяется на научную и практическую. Чаще всего под лингвистикой подразумевается именно научная лингвистика. Является частью семиотики как науки о знаках.\n",
    "\"\"\""
   ]
  },
  {
   "cell_type": "code",
   "execution_count": null,
   "id": "6706a6bd",
   "metadata": {},
   "outputs": [],
   "source": [
    "tokenized_corpus = nltk.word_tokenize(corpus)"
   ]
  },
  {
   "cell_type": "markdown",
   "id": "71bad3ec",
   "metadata": {},
   "source": [
    "Как получить биграммы и триграммы"
   ]
  },
  {
   "cell_type": "code",
   "execution_count": null,
   "id": "0eafb948",
   "metadata": {},
   "outputs": [],
   "source": [
    "# Приводим к списку, потому что nltk возвращает генератор\n",
    "list(nltk.bigrams(tokenized_corpus))"
   ]
  },
  {
   "cell_type": "code",
   "execution_count": null,
   "id": "2947ebdb",
   "metadata": {},
   "outputs": [],
   "source": [
    "list(nltk.trigrams(tokenized_corpus))"
   ]
  },
  {
   "cell_type": "markdown",
   "id": "26fab283",
   "metadata": {},
   "source": [
    "Посчитать количество каждого элемента в списке - Counter"
   ]
  },
  {
   "cell_type": "code",
   "execution_count": null,
   "id": "1e2b2456",
   "metadata": {},
   "outputs": [],
   "source": [
    "unigrams = Counter(tokenized_corpus)"
   ]
  },
  {
   "cell_type": "code",
   "execution_count": null,
   "id": "772a7676",
   "metadata": {},
   "outputs": [],
   "source": [
    "unigrams"
   ]
  },
  {
   "cell_type": "markdown",
   "id": "b2aef8af",
   "metadata": {},
   "source": [
    "Выведем топ по частоте"
   ]
  },
  {
   "cell_type": "code",
   "execution_count": null,
   "id": "48b54704",
   "metadata": {},
   "outputs": [],
   "source": [
    "unigrams.most_common(10)"
   ]
  },
  {
   "cell_type": "markdown",
   "id": "5ab3dee2",
   "metadata": {},
   "source": [
    "## Нормализуем частоты\n",
    "Чтобы получить вероятности униграмм"
   ]
  },
  {
   "cell_type": "code",
   "execution_count": null,
   "id": "4a7485c7",
   "metadata": {},
   "outputs": [],
   "source": [
    "n = len(tokenized_corpus)\n",
    "for k in unigrams:\n",
    "    unigrams[k] /= n"
   ]
  },
  {
   "cell_type": "code",
   "execution_count": null,
   "id": "4e22fd98",
   "metadata": {},
   "outputs": [],
   "source": [
    "unigrams.most_common(10)"
   ]
  },
  {
   "cell_type": "markdown",
   "id": "e0a35e36",
   "metadata": {},
   "source": [
    "Оценим вероятность тестового предложения:"
   ]
  },
  {
   "cell_type": "code",
   "execution_count": null,
   "id": "462851ed",
   "metadata": {},
   "outputs": [],
   "source": [
    "test_sentence = nltk.word_tokenize(\"Лингвистика - это наука о языке.\")"
   ]
  },
  {
   "cell_type": "code",
   "execution_count": null,
   "id": "6b859101",
   "metadata": {},
   "outputs": [],
   "source": [
    "p = 1.\n",
    "for token in test_sentence:\n",
    "    p *= unigrams[token]\n",
    "print(p)"
   ]
  },
  {
   "cell_type": "markdown",
   "id": "7ca327b2",
   "metadata": {},
   "source": [
    "!! Почему тут 0?\n",
    "\n",
    "Применим простейшее сглаживание:"
   ]
  },
  {
   "cell_type": "code",
   "execution_count": null,
   "id": "5a23f5a5",
   "metadata": {},
   "outputs": [],
   "source": [
    "p = 1.\n",
    "for token in test_sentence:\n",
    "    if unigrams[token]:\n",
    "        p *= unigrams[token]\n",
    "    else:\n",
    "        p *= 1 / n\n",
    "print(p)"
   ]
  },
  {
   "cell_type": "markdown",
   "id": "a7837af7",
   "metadata": {},
   "source": [
    "Приведем вероятность к более удобочитаемому виду:"
   ]
  },
  {
   "cell_type": "code",
   "execution_count": null,
   "id": "140f897c",
   "metadata": {},
   "outputs": [],
   "source": [
    "from math import log\n",
    "log(p)"
   ]
  }
 ],
 "metadata": {
  "kernelspec": {
   "display_name": "Python 3",
   "language": "python",
   "name": "python3"
  },
  "language_info": {
   "codemirror_mode": {
    "name": "ipython",
    "version": 3
   },
   "file_extension": ".py",
   "mimetype": "text/x-python",
   "name": "python",
   "nbconvert_exporter": "python",
   "pygments_lexer": "ipython3",
   "version": "3.9.4"
  }
 },
 "nbformat": 4,
 "nbformat_minor": 5
}
