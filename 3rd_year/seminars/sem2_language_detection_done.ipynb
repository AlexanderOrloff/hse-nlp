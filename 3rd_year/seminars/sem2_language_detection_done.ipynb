{
  "cells": [
    {
      "cell_type": "code",
      "execution_count": 1,
      "metadata": {
        "colab": {
          "base_uri": "https://localhost:8080/"
        },
        "id": "oqv6WonHnRjS",
        "outputId": "963e28c6-c8cc-4173-f664-d84e3d2c948b"
      },
      "outputs": [
        {
          "name": "stdout",
          "output_type": "stream",
          "text": [
            "  Preparing metadata (setup.py) ... \u001b[?25l\u001b[?25hdone\n",
            "\u001b[2K     \u001b[90m━━━━━━━━━━━━━━━━━━━━━━━━━━━━━━━━━━━━━━━━\u001b[0m \u001b[32m36.6/36.6 MB\u001b[0m \u001b[31m9.4 MB/s\u001b[0m eta \u001b[36m0:00:00\u001b[0m\n",
            "\u001b[?25h  Preparing metadata (setup.py) ... \u001b[?25l\u001b[?25hdone\n",
            "\u001b[2K   \u001b[90m━━━━━━━━━━━━━━━━━━━━━━━━━━━━━━━━━━━━━━━━\u001b[0m \u001b[32m292.8/292.8 kB\u001b[0m \u001b[31m8.1 MB/s\u001b[0m eta \u001b[36m0:00:00\u001b[0m\n",
            "\u001b[?25h  Building wheel for matplotlib (setup.py) ... \u001b[?25l\u001b[?25hdone\n",
            "  Building wheel for wikipedia (setup.py) ... \u001b[?25l\u001b[?25hdone\n",
            "\u001b[31mERROR: pip's dependency resolver does not currently take into account all the packages that are installed. This behaviour is the source of the following dependency conflicts.\n",
            "arviz 0.18.0 requires matplotlib>=3.5, but you have matplotlib 3.0.3 which is incompatible.\n",
            "bigframes 1.17.0 requires matplotlib>=3.7.1, but you have matplotlib 3.0.3 which is incompatible.\n",
            "mizani 0.9.3 requires matplotlib>=3.5.0, but you have matplotlib 3.0.3 which is incompatible.\n",
            "plotnine 0.12.4 requires matplotlib>=3.6.0, but you have matplotlib 3.0.3 which is incompatible.\u001b[0m\u001b[31m\n",
            "\u001b[0m"
          ]
        }
      ],
      "source": [
        "!pip install wikipedia matplotlib==3.0.3 seaborn -q"
      ]
    },
    {
      "cell_type": "markdown",
      "metadata": {
        "id": "xjuIY_8cwmP6"
      },
      "source": [
        "# Вспоминаем, что было на прошлом семинаре:\n",
        "1. Какие этапы работы с данными существуют?\n",
        "2. Какие могут быть особенности в токенизации?\n",
        "3. Какие бывают метрики?\n",
        "4. Какой итоговый пайплайн для создания спеллчеккера?"
      ]
    },
    {
      "cell_type": "markdown",
      "metadata": {
        "id": "59nhi4k7QcaF"
      },
      "source": [
        "# Семинар 2. Препроцессинг. Определение языка"
      ]
    },
    {
      "cell_type": "code",
      "execution_count": 44,
      "metadata": {
        "colab": {
          "base_uri": "https://localhost:8080/"
        },
        "id": "bT6hE5lhRPF4",
        "outputId": "03b15cc9-41b0-4185-ad17-3efe786cfb66"
      },
      "outputs": [
        {
          "name": "stderr",
          "output_type": "stream",
          "text": [
            "[nltk_data] Downloading package punkt to /root/nltk_data...\n",
            "[nltk_data]   Package punkt is already up-to-date!\n"
          ]
        }
      ],
      "source": [
        "from collections import Counter\n",
        "import wikipedia\n",
        "import re\n",
        "\n",
        "import nltk\n",
        "nltk.download(\"punkt\")\n",
        "\n",
        "import random\n",
        "random.seed(0)"
      ]
    },
    {
      "cell_type": "markdown",
      "metadata": {
        "id": "silpiRbxQ3RI"
      },
      "source": [
        "## 1. Данные\n",
        "Независимо от способа определения языка, нам нужны данные. Для этого выкачаем для нужных нам языков страницы с Википедии."
      ]
    },
    {
      "cell_type": "code",
      "execution_count": 3,
      "metadata": {
        "id": "cQRRBq4yUWku"
      },
      "outputs": [],
      "source": [
        "TEST_LANGS = ('es', 'it', 'kk', 'ru', 'uk', 'be')"
      ]
    },
    {
      "cell_type": "code",
      "execution_count": 4,
      "metadata": {
        "id": "3kws74nSUbMA"
      },
      "outputs": [],
      "source": [
        "def get_texts_for_lang(lang, n=10):\n",
        "    wiki_content = []\n",
        "    wikipedia.set_lang(lang)\n",
        "    pages = wikipedia.random(n+10)\n",
        "    page_idx = 0\n",
        "    while len(wiki_content) != n and len(pages) != page_idx:\n",
        "        try:\n",
        "            page_name = pages[page_idx]\n",
        "            page = wikipedia.page(page_name)\n",
        "            wiki_content.append(f\"{page.title}\\n{page.content.replace('=', '')}\")  # = используется в названиях глав\n",
        "        except wikipedia.exceptions.WikipediaException:\n",
        "            print(\"Skip %s\" % page_name)\n",
        "        page_idx += 1\n",
        "    return wiki_content"
      ]
    },
    {
      "cell_type": "code",
      "execution_count": 5,
      "metadata": {
        "colab": {
          "base_uri": "https://localhost:8080/"
        },
        "collapsed": true,
        "id": "i8qL86m4Ud9W",
        "outputId": "ed27f63a-4c3f-49b5-9924-ae7b3af65a6a"
      },
      "outputs": [
        {
          "name": "stdout",
          "output_type": "stream",
          "text": [
            "es 30\n"
          ]
        },
        {
          "name": "stderr",
          "output_type": "stream",
          "text": [
            "/usr/local/lib/python3.10/dist-packages/wikipedia/wikipedia.py:389: GuessedAtParserWarning: No parser was explicitly specified, so I'm using the best available HTML parser for this system (\"lxml\"). This usually isn't a problem, but if you run this code on another system, or in a different virtual environment, it may use a different parser and behave differently.\n",
            "\n",
            "The code that caused this warning is on line 389 of the file /usr/local/lib/python3.10/dist-packages/wikipedia/wikipedia.py. To get rid of this warning, pass the additional argument 'features=\"lxml\"' to the BeautifulSoup constructor.\n",
            "\n",
            "  lis = BeautifulSoup(html).find_all('li')\n"
          ]
        },
        {
          "name": "stdout",
          "output_type": "stream",
          "text": [
            "Skip Viva Voce\n",
            "Skip Campobellesi\n",
            "Skip Diocesi di Macon\n",
            "it 30\n",
            "kk 30\n",
            "Skip Купер, Дерек\n",
            "Skip Дейд (округ, Джорджия)\n",
            "ru 30\n",
            "Skip Садово (значення)\n",
            "uk 30\n",
            "Skip Бруханаў\n",
            "Skip Грыфін\n",
            "Skip Пятроўцы\n",
            "be 30\n"
          ]
        }
      ],
      "source": [
        "wiki_texts = {}\n",
        "for lang in TEST_LANGS:\n",
        "    wiki_texts[lang] = get_texts_for_lang(lang, 30)\n",
        "    print(lang, len(wiki_texts[lang]))"
      ]
    },
    {
      "cell_type": "markdown",
      "metadata": {
        "id": "le1WD8OnH8jE"
      },
      "source": [
        "## 2. Методы определения языка"
      ]
    },
    {
      "cell_type": "markdown",
      "metadata": {
        "id": "-uvK5UozWJig"
      },
      "source": [
        "### Идея 1. Определим по частотным словам.\n",
        "\n",
        "Попробуем выделить частотные слова для каждого языка и по ним определять язык. Для начала давайте создадим счетчик с самыми частотными словами. Не забудьте:\n",
        "- токенизировать любым удобным вам образом\n",
        "- избавиться от цифр и прочего мусора\n",
        "- вывод должен быть в виде словаря из ста самых частых слов"
      ]
    },
    {
      "cell_type": "code",
      "execution_count": 6,
      "metadata": {
        "id": "AOHoLEhhYbHf"
      },
      "outputs": [],
      "source": [
        "from string import punctuation\n",
        "\n",
        "def collect_freqlist(wiki_pages, max_len=100):\n",
        "    freqlist = Counter()\n",
        "    for text in wiki_pages:\n",
        "        for word in nltk.word_tokenize(text.lower()):\n",
        "            word = re.sub('\\d', '', word)\n",
        "            if word.isalpha():\n",
        "                freqlist[word] += 1\n",
        "    return dict(freqlist.most_common(max_len))"
      ]
    },
    {
      "cell_type": "code",
      "execution_count": null,
      "metadata": {
        "collapsed": true,
        "id": "at82HAeTYqEI"
      },
      "outputs": [],
      "source": [
        "collect_freqlist(wiki_texts['ru'])"
      ]
    },
    {
      "cell_type": "markdown",
      "metadata": {
        "id": "ktI4i85kfpoc"
      },
      "source": [
        "__Вопросы:__\n",
        "- почему не стоит брать совсем редкие слова? (встретились 2-3 раза)\n",
        "- почему стоит параметр размера словаря - 100? Как можно определить оптимальный?\n",
        "- в данном случае мы не выкидываем формы одного слова. Какие могут быть минусы и плюсы подобного подхода?"
      ]
    },
    {
      "cell_type": "code",
      "execution_count": 8,
      "metadata": {
        "id": "QjwbmGHhYrIH"
      },
      "outputs": [],
      "source": [
        "freq_lists = {}\n",
        "for lang in TEST_LANGS:\n",
        "    freq_lists[lang] = collect_freqlist(wiki_texts[lang])"
      ]
    },
    {
      "cell_type": "code",
      "execution_count": 9,
      "metadata": {
        "id": "Z9Kq7R4RYv9-"
      },
      "outputs": [],
      "source": [
        "def simple_lang_detect(freq_lists, text):\n",
        "    counts = Counter()\n",
        "    for lang, freq_list in freq_lists.items():\n",
        "        freq_list = Counter(freq_list)\n",
        "        for word in nltk.word_tokenize(text):\n",
        "            word = re.sub('\\d', '', word)\n",
        "            counts[lang] += int(freq_list[word] > 0)\n",
        "    return counts.most_common()"
      ]
    },
    {
      "cell_type": "code",
      "execution_count": 10,
      "metadata": {
        "colab": {
          "base_uri": "https://localhost:8080/"
        },
        "id": "pHdyBIDHLCcc",
        "outputId": "5d2b413d-bf2c-401b-fec3-2487134d235c"
      },
      "outputs": [
        {
          "name": "stdout",
          "output_type": "stream",
          "text": [
            "Tratta di esseri umani\n",
            "La tratta di esseri umani o tratta di persone è un'attività criminale finalizzata alla cattura, il sequestro o il reclutamento, nonché il trasporto, il trasferimento, l'alloggio o l'accoglienza di una o più persone, usando mezzi illeciti e ai fini dello sfruttamento delle stesse. Nel Protocollo delle Nazioni Unite contro la tratta delle persone viene definita come: A differenza del traffico di migranti, la tratta di persone avviene senza il consenso degli individui oggetto della stessa ed è finalizzata non al trasporto in un altro Stato, bensì al loro sfruttamento.\n",
            "Nonostante la notevole quantità di provvedimenti legislativi, resta l'inadeguatezza delle organizzazioni internazionali a delineare almeno per grandi numeri le proporzioni del fenomeno. Ad oggi non si dispone di dati precisi ed univoci sul mercato nero degli esseri umani destinati allo sfruttamento sessuale e non, poiché le stime eseguite dalle Organizzazioni non governative e dalle Nazioni Unite non o\n"
          ]
        }
      ],
      "source": [
        "test_texts = get_texts_for_lang('it', n = 1)[0]\n",
        "print(test_texts[:1000])"
      ]
    },
    {
      "cell_type": "code",
      "execution_count": 11,
      "metadata": {
        "colab": {
          "base_uri": "https://localhost:8080/"
        },
        "id": "YrUOLtXBZR-T",
        "outputId": "6c62c646-0519-4f75-88f9-e5625f1fb25e"
      },
      "outputs": [
        {
          "data": {
            "text/plain": [
              "[('it', 1591), ('es', 541), ('kk', 0), ('ru', 0), ('uk', 0), ('be', 0)]"
            ]
          },
          "execution_count": 11,
          "metadata": {},
          "output_type": "execute_result"
        }
      ],
      "source": [
        "simple_lang_detect(freq_lists, test_texts)"
      ]
    },
    {
      "cell_type": "markdown",
      "metadata": {
        "id": "mB9GX0I0TjiF"
      },
      "source": [
        "#### Accuracy нашего метода\n",
        "\n",
        "Создадим отдельную тестовую выборку, на основе которой будем сравнивать работу методов."
      ]
    },
    {
      "cell_type": "code",
      "execution_count": 12,
      "metadata": {
        "colab": {
          "base_uri": "https://localhost:8080/"
        },
        "id": "6NwSrclyURex",
        "outputId": "0a6133f5-3013-4377-ffec-963f7a25634f"
      },
      "outputs": [
        {
          "name": "stdout",
          "output_type": "stream",
          "text": [
            "es 10\n",
            "Skip Hrbov\n",
            "it 10\n",
            "kk 10\n",
            "ru 10\n",
            "Skip Бінь\n",
            "uk 10\n",
            "be 10\n"
          ]
        }
      ],
      "source": [
        "wiki_texts_test = {}\n",
        "test_size = 10\n",
        "for lang in TEST_LANGS:\n",
        "    wiki_texts_test[lang] = get_texts_for_lang(lang, test_size)\n",
        "    print(lang, len(wiki_texts_test[lang]))"
      ]
    },
    {
      "cell_type": "code",
      "execution_count": 13,
      "metadata": {
        "id": "EgFxFIaiZmLm"
      },
      "outputs": [],
      "source": [
        "from sklearn.metrics import accuracy_score\n",
        "\n",
        "def test_simple_lang_detect(freq_lists, wiki_texts_test):\n",
        "    results = []  # сюда будем писать результаты\n",
        "    gold = []     # сюда будем писать исходный язык\n",
        "    mistakes = []\n",
        "    for lang in TEST_LANGS:\n",
        "        lang_texts = wiki_texts_test[lang]\n",
        "        for text in lang_texts:\n",
        "            predicted_lang = simple_lang_detect(freq_lists, text)\n",
        "            results.append(predicted_lang[0][0])\n",
        "            gold.append(lang)\n",
        "\n",
        "            if predicted_lang[0][0] != lang:\n",
        "                mistakes.append([text.split('\\n')[0], lang, predicted_lang])\n",
        "    print(\"RESULTS:\")\n",
        "    print(f\"{len(TEST_LANGS)} languages\")\n",
        "    print(f\"Test size: {len(lang_texts)} texts per language\")\n",
        "    print(f\"Accuracy: {accuracy_score(results, gold):.4f}\")\n",
        "    return mistakes"
      ]
    },
    {
      "cell_type": "code",
      "execution_count": 14,
      "metadata": {
        "colab": {
          "base_uri": "https://localhost:8080/"
        },
        "id": "1acKi4S7Zujh",
        "outputId": "ac05de0a-64d6-4a04-c948-6cd5bae60499"
      },
      "outputs": [
        {
          "name": "stdout",
          "output_type": "stream",
          "text": [
            "RESULTS:\n",
            "6 languages\n",
            "Test size: 10 texts per language\n",
            "Accuracy: 0.9667\n"
          ]
        }
      ],
      "source": [
        "# проверка\n",
        "mistakes = test_simple_lang_detect(freq_lists, wiki_texts_test)"
      ]
    },
    {
      "cell_type": "code",
      "execution_count": 15,
      "metadata": {
        "colab": {
          "base_uri": "https://localhost:8080/"
        },
        "id": "1MMEl7fOYLo7",
        "outputId": "558cd396-47d7-40ff-db39-181e8bf5b97b"
      },
      "outputs": [
        {
          "data": {
            "text/plain": [
              "[['Футболдан Өзбекстан чемпионаты 1998',\n",
              "  'kk',\n",
              "  [('es', 0), ('it', 0), ('kk', 0), ('ru', 0), ('uk', 0), ('be', 0)]],\n",
              " ['Ілія II Александрійський',\n",
              "  'uk',\n",
              "  [('it', 12), ('uk', 5), ('be', 2), ('es', 1), ('ru', 1), ('kk', 0)]]]"
            ]
          },
          "execution_count": 15,
          "metadata": {},
          "output_type": "execute_result"
        }
      ],
      "source": [
        "mistakes"
      ]
    },
    {
      "cell_type": "markdown",
      "metadata": {
        "id": "S1EQSskKS0G2"
      },
      "source": [
        "__Как можно доработать этот подход?__\n",
        "\n",
        "Считать не количество слов каждого языка, а некоторый коэффициент, основанный на частоте встречаемости слова в языке. Т.е. если слово встречается в этом языке часто, то выше вероятность, что текст написан на нём. (м.б. что-то похожее на tf-idf)"
      ]
    },
    {
      "cell_type": "markdown",
      "metadata": {
        "id": "0WQfP4Kfb_Mh"
      },
      "source": [
        "### Идея 2. Префиксы-суффиксы\n"
      ]
    },
    {
      "cell_type": "markdown",
      "metadata": {
        "id": "N5st3qMgdoqY"
      },
      "source": [
        "Что если мы хотим учитывать морфологию при анализе? Тут сразу появляется проблема: пока мы не знаем, какой язык перед нами, мы не знаем, как в нём работает морфология."
      ]
    },
    {
      "cell_type": "code",
      "execution_count": 16,
      "metadata": {
        "colab": {
          "base_uri": "https://localhost:8080/",
          "height": 35
        },
        "id": "eu3oW4N_dE63",
        "outputId": "4b467082-064e-4769-c472-a4c079605045"
      },
      "outputs": [
        {
          "data": {
            "application/vnd.google.colaboratory.intrinsic+json": {
              "type": "string"
            },
            "text/plain": [
              "'машины'"
            ]
          },
          "execution_count": 16,
          "metadata": {},
          "output_type": "execute_result"
        }
      ],
      "source": [
        "import nltk\n",
        "ps = nltk.stem.PorterStemmer()\n",
        "ps.stem('машины')"
      ]
    },
    {
      "cell_type": "markdown",
      "metadata": {
        "id": "fbAd0mgzmtk6"
      },
      "source": [
        "Попробуем вариант \"в лоб\": соберём список частотных префиксов и суффиксов. Для этого возьмём все те же тексты, и для каждого слова будем сохранять все его преффиксы и суффиксы. Например, для слова *машина* мы сохраним следующий набор: *машина*, *машин*, *маши*, *маш*, *ма*, *м*, *ашина*, *шина*, *ина*, *на*, *а*"
      ]
    },
    {
      "cell_type": "code",
      "execution_count": 17,
      "metadata": {
        "id": "nhal3D9TGrWs"
      },
      "outputs": [],
      "source": [
        "def collect_pref_suff_freqlist(wiki_pages, max_len=200):\n",
        "    freqlist = Counter()\n",
        "    for text in wiki_pages:\n",
        "        for word in nltk.word_tokenize(text):\n",
        "            word = re.sub('\\d', '', word)\n",
        "            if word.isalpha():\n",
        "                for i in range(len(word)+ 1):\n",
        "                    if len(word[i:]) >= 1:\n",
        "                        freqlist[word[i:]] += 1\n",
        "                    if len(word[:i]) >= 1:\n",
        "                        freqlist[word[:i]] += 1\n",
        "    return dict(freqlist.most_common(max_len))"
      ]
    },
    {
      "cell_type": "code",
      "execution_count": 18,
      "metadata": {
        "id": "7RMCV1ybA7NT"
      },
      "outputs": [],
      "source": [
        "# collect_pref_suff_freqlist(wiki_texts['ru'])"
      ]
    },
    {
      "cell_type": "code",
      "execution_count": 19,
      "metadata": {
        "id": "s0E279XVKI0R"
      },
      "outputs": [],
      "source": [
        "freq_pref_suff_lists = {}\n",
        "for lang in TEST_LANGS:\n",
        "    freq_pref_suff_lists[lang] = collect_pref_suff_freqlist(wiki_texts[lang])"
      ]
    },
    {
      "cell_type": "code",
      "execution_count": 20,
      "metadata": {
        "id": "WEWn7x0FKRBD"
      },
      "outputs": [],
      "source": [
        "def new_simple_lang_detect(freq_lists, text):\n",
        "    counts = Counter()\n",
        "    for lang, freq_list in freq_lists.items():\n",
        "        freq_list = Counter(freq_list)\n",
        "        for word in nltk.word_tokenize(text):\n",
        "           word = re.sub('\\d', '', word)\n",
        "           for i in range(len(word)+ 1):\n",
        "                if len(word[i:]) > 1:\n",
        "                    counts[lang] += int(freq_list[word[i:]] > 0)\n",
        "                if len(word[:i]) > 1:\n",
        "                    counts[lang] += int(freq_list[word[:i]] > 0)\n",
        "    return counts.most_common()"
      ]
    },
    {
      "cell_type": "code",
      "execution_count": 21,
      "metadata": {
        "colab": {
          "base_uri": "https://localhost:8080/"
        },
        "id": "89dPy4sRqMZP",
        "outputId": "f4052a61-9e45-4c8e-9c00-9ba59eac9c2c"
      },
      "outputs": [
        {
          "data": {
            "text/plain": [
              "[('it', 1496), ('es', 1018), ('uk', 151), ('ru', 120), ('kk', 0), ('be', 0)]"
            ]
          },
          "execution_count": 21,
          "metadata": {},
          "output_type": "execute_result"
        }
      ],
      "source": [
        "simple_lang_detect(freq_pref_suff_lists, test_texts)"
      ]
    },
    {
      "cell_type": "code",
      "execution_count": 22,
      "metadata": {
        "colab": {
          "base_uri": "https://localhost:8080/"
        },
        "id": "1ivmBF8JRQvC",
        "outputId": "c46800ae-4ddc-473a-d504-68fd35f14163"
      },
      "outputs": [
        {
          "name": "stdout",
          "output_type": "stream",
          "text": [
            "RESULTS:\n",
            "6 languages\n",
            "Test size: 10 texts per language\n",
            "Accuracy: 0.9500\n"
          ]
        }
      ],
      "source": [
        "mistakes = test_simple_lang_detect(freq_pref_suff_lists, wiki_texts_test)"
      ]
    },
    {
      "cell_type": "code",
      "execution_count": 23,
      "metadata": {
        "colab": {
          "base_uri": "https://localhost:8080/"
        },
        "id": "DCrvOZjaRnA2",
        "outputId": "202d715a-c891-4cc4-d0f2-ee13b21a00f4"
      },
      "outputs": [
        {
          "data": {
            "text/plain": [
              "[['Футболдан Өзбекстан чемпионаты 1998',\n",
              "  'kk',\n",
              "  [('es', 0), ('it', 0), ('kk', 0), ('ru', 0), ('uk', 0), ('be', 0)]],\n",
              " ['Триплатинасвинец',\n",
              "  'ru',\n",
              "  [('es', 14), ('it', 14), ('ru', 4), ('uk', 4), ('kk', 2), ('be', 1)]],\n",
              " ['Ілія II Александрійський',\n",
              "  'uk',\n",
              "  [('it', 11), ('uk', 6), ('ru', 5), ('es', 4), ('kk', 4), ('be', 4)]]]"
            ]
          },
          "execution_count": 23,
          "metadata": {},
          "output_type": "execute_result"
        }
      ],
      "source": [
        "mistakes"
      ]
    },
    {
      "cell_type": "markdown",
      "metadata": {
        "id": "seM7Fod_VTgI"
      },
      "source": [
        "- А какие проблемы могут возникнуть тут?"
      ]
    },
    {
      "cell_type": "markdown",
      "metadata": {
        "id": "lUgjpSwmcDA6"
      },
      "source": [
        "### Идея 3. Машинное обучение"
      ]
    },
    {
      "cell_type": "markdown",
      "metadata": {
        "id": "ew1upUqAA-kg"
      },
      "source": [
        "Будем говорить о **supervised** методах (обучение с учителем):\n",
        "\n",
        "* У нас есть пары `(признаки, класс)`\n",
        "* Классификатор обучается на них — подбирает подходящую функцию отображения признаков в множество классов\n",
        "* После этого можно применять полученную модель для предсказаний на новых данных\n",
        "\n",
        "Признаки могут быть разные:\n",
        "* средняя/минимальная/максимальная длина слова\n",
        "* векторизированные слова/символы/топ-n слов\n",
        "* векторизированные предложения/тексты"
      ]
    },
    {
      "cell_type": "markdown",
      "metadata": {
        "id": "lfE1HQrdBY16"
      },
      "source": [
        "Для определения языка часто используют не слова, а последовательности символов (символьные n-граммы / character ngrams). Например, 3-граммы:\n",
        "```\n",
        "сим, имв, мво, вол, оло, лов\n",
        "```\n",
        "\n",
        "Из обучающих данных соберем словарь символьных n-грамм $V$.\n",
        "Тогда каждый текст сможем представить в виде вектора длины $|V|$, где каждый признак показывает, присутствует ли соответствующая n-грамма в тексте.\n",
        "\n",
        "Будем использовать $tf \\cdot idf$, чтобы учитывалась важность символов для строки:\n",
        "\n",
        "$tf \\cdot idf (n, d) = \\frac{count(n_d)}{\\sum_{w \\in d}count(w)} \\cdot log\\frac{|D|}{|\\{d \\in D | n \\in d\\}|}$\n",
        "\n",
        "где $n$ - n-грамма, $d$ - документ, а $D$ - весь корпус (на данном языке)"
      ]
    },
    {
      "cell_type": "markdown",
      "metadata": {
        "id": "2ClWgbvaeDSq"
      },
      "source": [
        "#### Векторизация"
      ]
    },
    {
      "cell_type": "code",
      "execution_count": 24,
      "metadata": {
        "colab": {
          "base_uri": "https://localhost:8080/",
          "height": 75
        },
        "collapsed": true,
        "id": "4x9TANOmBczu",
        "outputId": "8922bf9f-042d-4b50-9225-e61a323d781b"
      },
      "outputs": [
        {
          "data": {
            "text/html": [
              "<style>#sk-container-id-1 {color: black;}#sk-container-id-1 pre{padding: 0;}#sk-container-id-1 div.sk-toggleable {background-color: white;}#sk-container-id-1 label.sk-toggleable__label {cursor: pointer;display: block;width: 100%;margin-bottom: 0;padding: 0.3em;box-sizing: border-box;text-align: center;}#sk-container-id-1 label.sk-toggleable__label-arrow:before {content: \"▸\";float: left;margin-right: 0.25em;color: #696969;}#sk-container-id-1 label.sk-toggleable__label-arrow:hover:before {color: black;}#sk-container-id-1 div.sk-estimator:hover label.sk-toggleable__label-arrow:before {color: black;}#sk-container-id-1 div.sk-toggleable__content {max-height: 0;max-width: 0;overflow: hidden;text-align: left;background-color: #f0f8ff;}#sk-container-id-1 div.sk-toggleable__content pre {margin: 0.2em;color: black;border-radius: 0.25em;background-color: #f0f8ff;}#sk-container-id-1 input.sk-toggleable__control:checked~div.sk-toggleable__content {max-height: 200px;max-width: 100%;overflow: auto;}#sk-container-id-1 input.sk-toggleable__control:checked~label.sk-toggleable__label-arrow:before {content: \"▾\";}#sk-container-id-1 div.sk-estimator input.sk-toggleable__control:checked~label.sk-toggleable__label {background-color: #d4ebff;}#sk-container-id-1 div.sk-label input.sk-toggleable__control:checked~label.sk-toggleable__label {background-color: #d4ebff;}#sk-container-id-1 input.sk-hidden--visually {border: 0;clip: rect(1px 1px 1px 1px);clip: rect(1px, 1px, 1px, 1px);height: 1px;margin: -1px;overflow: hidden;padding: 0;position: absolute;width: 1px;}#sk-container-id-1 div.sk-estimator {font-family: monospace;background-color: #f0f8ff;border: 1px dotted black;border-radius: 0.25em;box-sizing: border-box;margin-bottom: 0.5em;}#sk-container-id-1 div.sk-estimator:hover {background-color: #d4ebff;}#sk-container-id-1 div.sk-parallel-item::after {content: \"\";width: 100%;border-bottom: 1px solid gray;flex-grow: 1;}#sk-container-id-1 div.sk-label:hover label.sk-toggleable__label {background-color: #d4ebff;}#sk-container-id-1 div.sk-serial::before {content: \"\";position: absolute;border-left: 1px solid gray;box-sizing: border-box;top: 0;bottom: 0;left: 50%;z-index: 0;}#sk-container-id-1 div.sk-serial {display: flex;flex-direction: column;align-items: center;background-color: white;padding-right: 0.2em;padding-left: 0.2em;position: relative;}#sk-container-id-1 div.sk-item {position: relative;z-index: 1;}#sk-container-id-1 div.sk-parallel {display: flex;align-items: stretch;justify-content: center;background-color: white;position: relative;}#sk-container-id-1 div.sk-item::before, #sk-container-id-1 div.sk-parallel-item::before {content: \"\";position: absolute;border-left: 1px solid gray;box-sizing: border-box;top: 0;bottom: 0;left: 50%;z-index: -1;}#sk-container-id-1 div.sk-parallel-item {display: flex;flex-direction: column;z-index: 1;position: relative;background-color: white;}#sk-container-id-1 div.sk-parallel-item:first-child::after {align-self: flex-end;width: 50%;}#sk-container-id-1 div.sk-parallel-item:last-child::after {align-self: flex-start;width: 50%;}#sk-container-id-1 div.sk-parallel-item:only-child::after {width: 0;}#sk-container-id-1 div.sk-dashed-wrapped {border: 1px dashed gray;margin: 0 0.4em 0.5em 0.4em;box-sizing: border-box;padding-bottom: 0.4em;background-color: white;}#sk-container-id-1 div.sk-label label {font-family: monospace;font-weight: bold;display: inline-block;line-height: 1.2em;}#sk-container-id-1 div.sk-label-container {text-align: center;}#sk-container-id-1 div.sk-container {/* jupyter's `normalize.less` sets `[hidden] { display: none; }` but bootstrap.min.css set `[hidden] { display: none !important; }` so we also need the `!important` here to be able to override the default hidden behavior on the sphinx rendered scikit-learn.org. See: https://github.com/scikit-learn/scikit-learn/issues/21755 */display: inline-block !important;position: relative;}#sk-container-id-1 div.sk-text-repr-fallback {display: none;}</style><div id=\"sk-container-id-1\" class=\"sk-top-container\"><div class=\"sk-text-repr-fallback\"><pre>TfidfVectorizer(analyzer=&#x27;char&#x27;, ngram_range=(1, 5))</pre><b>In a Jupyter environment, please rerun this cell to show the HTML representation or trust the notebook. <br />On GitHub, the HTML representation is unable to render, please try loading this page with nbviewer.org.</b></div><div class=\"sk-container\" hidden><div class=\"sk-item\"><div class=\"sk-estimator sk-toggleable\"><input class=\"sk-toggleable__control sk-hidden--visually\" id=\"sk-estimator-id-1\" type=\"checkbox\" checked><label for=\"sk-estimator-id-1\" class=\"sk-toggleable__label sk-toggleable__label-arrow\">TfidfVectorizer</label><div class=\"sk-toggleable__content\"><pre>TfidfVectorizer(analyzer=&#x27;char&#x27;, ngram_range=(1, 5))</pre></div></div></div></div></div>"
            ],
            "text/plain": [
              "TfidfVectorizer(analyzer='char', ngram_range=(1, 5))"
            ]
          },
          "execution_count": 24,
          "metadata": {},
          "output_type": "execute_result"
        }
      ],
      "source": [
        "from sklearn import feature_extraction\n",
        "\n",
        "vectorizer = feature_extraction.text.TfidfVectorizer(ngram_range=(1, 5), analyzer='char')\n",
        "vectorizer.fit(wiki_texts['ru'])\n",
        "# for item in vectorizer.get_feature_names_out()[:100]:\n",
        "#    print(item)"
      ]
    },
    {
      "cell_type": "code",
      "execution_count": 43,
      "metadata": {
        "colab": {
          "base_uri": "https://localhost:8080/"
        },
        "id": "9QhWuTD3gQ7r",
        "outputId": "0740e34e-229d-498f-f3f2-98ef442e5278"
      },
      "outputs": [
        {
          "name": "stdout",
          "output_type": "stream",
          "text": [
            "(1, 81245)\n"
          ]
        }
      ],
      "source": [
        "print(vectorizer.transform(wiki_texts['ru'])[0].shape)"
      ]
    },
    {
      "cell_type": "markdown",
      "metadata": {
        "id": "hzMWow_ceF4-"
      },
      "source": [
        "#### Пайплайн обучения"
      ]
    },
    {
      "cell_type": "code",
      "execution_count": 26,
      "metadata": {
        "id": "9ACMG3YXBhdS"
      },
      "outputs": [],
      "source": [
        "from sklearn import pipeline\n",
        "from sklearn import naive_bayes\n",
        "import numpy as np\n",
        "\n",
        "#%pylab inline\n",
        "import matplotlib.pyplot as plt\n",
        "import seaborn as sns"
      ]
    },
    {
      "cell_type": "markdown",
      "metadata": {
        "id": "FlhLnELygOW6"
      },
      "source": [
        "1. Строим пайплайн классификатора"
      ]
    },
    {
      "cell_type": "code",
      "execution_count": 27,
      "metadata": {
        "id": "UJXQRTrrBmOo"
      },
      "outputs": [],
      "source": [
        "clf = pipeline.Pipeline([\n",
        "    ('vctr', feature_extraction.text.TfidfVectorizer(ngram_range=(1, 2), analyzer='char')), #на какие фичи смотрим\n",
        "    ('clf', naive_bayes.MultinomialNB()) #параметр\n",
        "])"
      ]
    },
    {
      "cell_type": "markdown",
      "metadata": {
        "id": "Hxk6WEjugRXY"
      },
      "source": [
        "2. Делаем обучающую и тестовую выборки"
      ]
    },
    {
      "cell_type": "code",
      "execution_count": 28,
      "metadata": {
        "id": "jNCIUziZBn8o"
      },
      "outputs": [],
      "source": [
        "all_texts = []\n",
        "lang_indices = []\n",
        "for lang in wiki_texts:\n",
        "    all_texts.extend(wiki_texts[lang])\n",
        "    lang_indices.extend([lang]*len(wiki_texts[lang])) # массив с названиями языками\n",
        "\n",
        "test_texts = []\n",
        "test_lang_indices = []\n",
        "for lang in wiki_texts:\n",
        "    test_texts.extend(wiki_texts_test[lang])\n",
        "    test_lang_indices.extend([lang]*len(wiki_texts_test[lang])) # массив с названиями языками"
      ]
    },
    {
      "cell_type": "markdown",
      "metadata": {
        "id": "Xf4ABDnzgU_5"
      },
      "source": [
        "3. Обучаем классификатор\n",
        "\n",
        "Так как мы сделали тестовую выборку, которой сравниваем результаты по разным методам, пусть будет три выборки: обучающая, валидационная и тестовая."
      ]
    },
    {
      "cell_type": "code",
      "execution_count": 29,
      "metadata": {
        "id": "-ek88YfyFcap"
      },
      "outputs": [],
      "source": [
        "from sklearn.model_selection import train_test_split\n",
        "from sklearn import metrics\n",
        "\n",
        "X_train, X_val, y_train, y_val = train_test_split(all_texts,\n",
        "                                                    lang_indices,\n",
        "                                                    test_size=0.2,\n",
        "                                                    random_state=0)\n",
        "clf.fit(X_train, y_train)\n",
        "y_predicted = clf.predict(X_val)\n",
        "cm = metrics.confusion_matrix(y_val, y_predicted)"
      ]
    },
    {
      "cell_type": "code",
      "execution_count": 30,
      "metadata": {
        "colab": {
          "base_uri": "https://localhost:8080/"
        },
        "id": "cahxXJayFe3l",
        "outputId": "44bb8d53-65be-4767-8020-67e12b7de1f3"
      },
      "outputs": [
        {
          "name": "stdout",
          "output_type": "stream",
          "text": [
            "['ru' 'es' 'uk' 'be' 'uk' 'kk' 'it' 'be' 'be' 'ru' 'it' 'be' 'be' 'es'\n",
            " 'es' 'ru' 'be' 'uk' 'it' 'ru' 'uk' 'kk' 'kk' 'it' 'uk' 'be' 'ru' 'be'\n",
            " 'be' 'kk' 'it' 'es' 'ru' 'uk' 'kk' 'it']\n",
            "['ru', 'es', 'uk', 'be', 'uk', 'kk', 'it', 'be', 'be', 'ru', 'it', 'be', 'be', 'es', 'es', 'ru', 'be', 'uk', 'it', 'ru', 'uk', 'kk', 'kk', 'es', 'uk', 'be', 'ru', 'be', 'be', 'kk', 'it', 'es', 'ru', 'uk', 'kk', 'es']\n"
          ]
        }
      ],
      "source": [
        "print(y_predicted)\n",
        "print(y_val)"
      ]
    },
    {
      "cell_type": "code",
      "execution_count": 31,
      "metadata": {
        "id": "i0h4HLyfeYMh"
      },
      "outputs": [],
      "source": [
        "y_test_predicted = clf.predict(test_texts)\n",
        "cm_test = metrics.confusion_matrix(test_lang_indices, y_test_predicted)"
      ]
    },
    {
      "cell_type": "code",
      "execution_count": 32,
      "metadata": {
        "id": "nTOUoXwCFgvx"
      },
      "outputs": [],
      "source": [
        "# Нарисуем confusion matrix и оценим качество\n",
        "def test_classify(y_test, y_predicted, label_names):\n",
        "    cm = metrics.confusion_matrix(y_test, y_predicted)\n",
        "\n",
        "    plt.figure(figsize=(10, 10))\n",
        "    plt.ylim(10.5, -0.5)\n",
        "    sns.heatmap(cm, annot=True,  fmt='', xticklabels=label_names, yticklabels=label_names)\n",
        "    plt.title('Confusion Matrix')\n",
        "\n",
        "    print(metrics.classification_report(y_test, y_predicted,\n",
        "                                        target_names=label_names))"
      ]
    },
    {
      "cell_type": "code",
      "execution_count": 33,
      "metadata": {
        "colab": {
          "base_uri": "https://localhost:8080/",
          "height": 1000
        },
        "id": "PqCxxBuCgEoA",
        "outputId": "54fb6228-907d-4f86-cd7d-60006556a4aa"
      },
      "outputs": [
        {
          "name": "stdout",
          "output_type": "stream",
          "text": [
            "              precision    recall  f1-score   support\n",
            "\n",
            "          be       1.00      1.00      1.00        10\n",
            "          es       1.00      0.70      0.82        10\n",
            "          it       0.67      1.00      0.80        10\n",
            "          kk       1.00      1.00      1.00        10\n",
            "          ru       1.00      0.90      0.95        10\n",
            "          uk       1.00      0.90      0.95        10\n",
            "\n",
            "    accuracy                           0.92        60\n",
            "   macro avg       0.94      0.92      0.92        60\n",
            "weighted avg       0.94      0.92      0.92        60\n",
            "\n"
          ]
        },
        {
          "data": {
            "image/png": "[encoded data removed]",
            "text/plain": [
              "<Figure size 1000x1000 with 2 Axes>"
            ]
          },
          "metadata": {},
          "output_type": "display_data"
        }
      ],
      "source": [
        "test_classify(test_lang_indices, y_test_predicted, clf.classes_)"
      ]
    },
    {
      "cell_type": "code",
      "execution_count": 34,
      "metadata": {
        "colab": {
          "base_uri": "https://localhost:8080/",
          "height": 1000
        },
        "id": "gtCV2RbOFha5",
        "outputId": "67159be3-e4d1-448e-8a24-74cad70a7233"
      },
      "outputs": [
        {
          "name": "stdout",
          "output_type": "stream",
          "text": [
            "              precision    recall  f1-score   support\n",
            "\n",
            "          be       1.00      1.00      1.00         9\n",
            "          es       1.00      0.67      0.80         6\n",
            "          it       0.67      1.00      0.80         4\n",
            "          kk       1.00      1.00      1.00         5\n",
            "          ru       1.00      1.00      1.00         6\n",
            "          uk       1.00      1.00      1.00         6\n",
            "\n",
            "    accuracy                           0.94        36\n",
            "   macro avg       0.94      0.94      0.93        36\n",
            "weighted avg       0.96      0.94      0.94        36\n",
            "\n"
          ]
        },
        {
          "data": {
            "image/png": "[encoded data removed]",
            "text/plain": [
              "<Figure size 1000x1000 with 2 Axes>"
            ]
          },
          "metadata": {},
          "output_type": "display_data"
        }
      ],
      "source": [
        "test_classify(y_val, y_predicted, clf.classes_)"
      ]
    },
    {
      "cell_type": "code",
      "execution_count": 45,
      "metadata": {
        "colab": {
          "base_uri": "https://localhost:8080/",
          "height": 1000
        },
        "id": "RnvrHqiAKKbD",
        "outputId": "20314191-9400-4e7e-a622-0d8f78bb0422"
      },
      "outputs": [
        {
          "name": "stdout",
          "output_type": "stream",
          "text": [
            "              precision    recall  f1-score   support\n",
            "\n",
            "          be       1.00      1.00      1.00         9\n",
            "          es       1.00      0.83      0.91         6\n",
            "          it       0.80      1.00      0.89         4\n",
            "          kk       1.00      1.00      1.00         5\n",
            "          ru       1.00      1.00      1.00         6\n",
            "          uk       1.00      1.00      1.00         6\n",
            "\n",
            "    accuracy                           0.97        36\n",
            "   macro avg       0.97      0.97      0.97        36\n",
            "weighted avg       0.98      0.97      0.97        36\n",
            "\n"
          ]
        },
        {
          "data": {
            "image/png": "[encoded data removed]",
            "text/plain": [
              "<Figure size 1000x1000 with 2 Axes>"
            ]
          },
          "metadata": {},
          "output_type": "display_data"
        }
      ],
      "source": [
        "# Проверим на случайных отрывках из тестовых текстов\n",
        "import random\n",
        "\n",
        "small_texts = []\n",
        "for text in X_val:\n",
        "    begin = random.randint(0, len(text) - 50)\n",
        "    small_texts.append(text[begin:begin+50])\n",
        "y_predicted_small = clf.predict(small_texts)\n",
        "test_classify(y_val, y_predicted_small, clf.classes_)"
      ]
    },
    {
      "cell_type": "markdown",
      "metadata": {
        "id": "SA8NINB2aXiF"
      },
      "source": [
        "## Задание\n",
        "\n",
        "[Здесь](https://disk.yandex.ru/d/O0r3gHiUwTRmmg) лежит текст Анны Карениной на английском. Ваше задание -- взять текст и один из рассмотренных в ходе семинара методов определения языка и извлечь несколько предложений на французском из текста."
      ]
    }
  ],
  "metadata": {
    "colab": {
      "provenance": []
    },
    "kernelspec": {
      "display_name": "Python 3",
      "name": "python3"
    },
    "language_info": {
      "name": "python"
    }
  },
  "nbformat": 4,
  "nbformat_minor": 0
}
