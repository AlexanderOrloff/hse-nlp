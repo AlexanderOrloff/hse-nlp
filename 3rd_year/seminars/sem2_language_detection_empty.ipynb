{
  "nbformat": 4,
  "nbformat_minor": 0,
  "metadata": {
    "colab": {
      "provenance": []
    },
    "kernelspec": {
      "name": "python3",
      "display_name": "Python 3"
    },
    "language_info": {
      "name": "python"
    }
  },
  "cells": [
    {
      "cell_type": "code",
      "source": [
        "!pip install wikipedia matplotlib==3.0.3 seaborn -q"
      ],
      "metadata": {
        "colab": {
          "base_uri": "https://localhost:8080/"
        },
        "id": "oqv6WonHnRjS",
        "outputId": "e134c3e1-a425-4af5-9899-b9dbdcfd6ebe"
      },
      "execution_count": null,
      "outputs": [
        {
          "output_type": "stream",
          "name": "stdout",
          "text": [
            "  Preparing metadata (setup.py) ... \u001b[?25l\u001b[?25hdone\n",
            "\u001b[2K     \u001b[90m━━━━━━━━━━━━━━━━━━━━━━━━━━━━━━━━━━━━━━━━\u001b[0m \u001b[32m36.6/36.6 MB\u001b[0m \u001b[31m13.2 MB/s\u001b[0m eta \u001b[36m0:00:00\u001b[0m\n",
            "\u001b[?25h  Preparing metadata (setup.py) ... \u001b[?25l\u001b[?25hdone\n",
            "\u001b[2K   \u001b[90m━━━━━━━━━━━━━━━━━━━━━━━━━━━━━━━━━━━━━━━━\u001b[0m \u001b[32m292.8/292.8 kB\u001b[0m \u001b[31m11.4 MB/s\u001b[0m eta \u001b[36m0:00:00\u001b[0m\n",
            "\u001b[?25h  Building wheel for matplotlib (setup.py) ... \u001b[?25l\u001b[?25hdone\n",
            "  Building wheel for wikipedia (setup.py) ... \u001b[?25l\u001b[?25hdone\n",
            "\u001b[31mERROR: pip's dependency resolver does not currently take into account all the packages that are installed. This behaviour is the source of the following dependency conflicts.\n",
            "arviz 0.18.0 requires matplotlib>=3.5, but you have matplotlib 3.0.3 which is incompatible.\n",
            "bigframes 1.17.0 requires matplotlib>=3.7.1, but you have matplotlib 3.0.3 which is incompatible.\n",
            "mizani 0.9.3 requires matplotlib>=3.5.0, but you have matplotlib 3.0.3 which is incompatible.\n",
            "plotnine 0.12.4 requires matplotlib>=3.6.0, but you have matplotlib 3.0.3 which is incompatible.\u001b[0m\u001b[31m\n",
            "\u001b[0m"
          ]
        }
      ]
    },
    {
      "cell_type": "markdown",
      "source": [
        "# Вспоминаем, что было на прошлом семинаре:\n",
        "1. Какие этапы работы с данными существуют?\n",
        "2. Какие могут быть особенности в токенизации?\n",
        "3. Какие бывают метрики?\n",
        "4. Какой итоговый пайплайн для создания спеллчеккера?"
      ],
      "metadata": {
        "id": "xjuIY_8cwmP6"
      }
    },
    {
      "cell_type": "markdown",
      "source": [
        "# Семинар 2. Препроцессинг. Определение языка"
      ],
      "metadata": {
        "id": "59nhi4k7QcaF"
      }
    },
    {
      "cell_type": "code",
      "source": [
        "from collections import Counter\n",
        "import wikipedia\n",
        "import re\n",
        "\n",
        "import nltk\n",
        "nltk.download(\"punkt\")\n",
        "\n",
        "import random\n",
        "random.seed(0)"
      ],
      "metadata": {
        "id": "bT6hE5lhRPF4",
        "colab": {
          "base_uri": "https://localhost:8080/"
        },
        "outputId": "d504af56-5a74-4036-ad29-03c89387feee"
      },
      "execution_count": null,
      "outputs": [
        {
          "output_type": "stream",
          "name": "stderr",
          "text": [
            "[nltk_data] Downloading package punkt to /root/nltk_data...\n",
            "[nltk_data]   Unzipping tokenizers/punkt.zip.\n"
          ]
        },
        {
          "output_type": "execute_result",
          "data": {
            "text/plain": [
              "True"
            ]
          },
          "metadata": {},
          "execution_count": 2
        }
      ]
    },
    {
      "cell_type": "markdown",
      "source": [
        "## 1. Данные\n",
        "Независимо от способа определения языка, нам нужны данные. Для этого выкачаем для нужных нам языков страницы с Википедии."
      ],
      "metadata": {
        "id": "silpiRbxQ3RI"
      }
    },
    {
      "cell_type": "code",
      "source": [
        "TEST_LANGS = ('es', 'it', 'kk', 'ru', 'uk', 'be')"
      ],
      "metadata": {
        "id": "cQRRBq4yUWku"
      },
      "execution_count": null,
      "outputs": []
    },
    {
      "cell_type": "code",
      "source": [
        "def get_texts_for_lang(lang, n=10):\n",
        "    wiki_content = []\n",
        "    wikipedia.set_lang(lang)\n",
        "    pages = wikipedia.random(n+10)\n",
        "    page_idx = 0\n",
        "    while len(wiki_content) != n and len(pages) != n:\n",
        "        try:\n",
        "            page_name = pages[page_idx]\n",
        "            page = wikipedia.page(page_name)\n",
        "            wiki_content.append(f\"{page.title}\\n{page.content.replace('=', '')}\")  # = используется в названиях глав\n",
        "        except wikipedia.exceptions.WikipediaException:\n",
        "            print(\"Skip %s\" % page_name)\n",
        "        page_idx += 1\n",
        "    return wiki_content"
      ],
      "metadata": {
        "id": "3kws74nSUbMA"
      },
      "execution_count": null,
      "outputs": []
    },
    {
      "cell_type": "code",
      "source": [
        "wiki_texts = {}\n",
        "for lang in TEST_LANGS:\n",
        "    wiki_texts[lang] = get_texts_for_lang(lang, 30)\n",
        "    print(lang, len(wiki_texts[lang]))"
      ],
      "metadata": {
        "id": "i8qL86m4Ud9W",
        "colab": {
          "base_uri": "https://localhost:8080/"
        },
        "outputId": "10ba2072-c373-40f3-9c73-40ffea2d00af",
        "collapsed": true
      },
      "execution_count": null,
      "outputs": [
        {
          "output_type": "stream",
          "name": "stdout",
          "text": [
            "es 30\n",
            "it 30\n"
          ]
        },
        {
          "output_type": "stream",
          "name": "stderr",
          "text": [
            "/usr/local/lib/python3.10/dist-packages/wikipedia/wikipedia.py:389: GuessedAtParserWarning: No parser was explicitly specified, so I'm using the best available HTML parser for this system (\"lxml\"). This usually isn't a problem, but if you run this code on another system, or in a different virtual environment, it may use a different parser and behave differently.\n",
            "\n",
            "The code that caused this warning is on line 389 of the file /usr/local/lib/python3.10/dist-packages/wikipedia/wikipedia.py. To get rid of this warning, pass the additional argument 'features=\"lxml\"' to the BeautifulSoup constructor.\n",
            "\n",
            "  lis = BeautifulSoup(html).find_all('li')\n"
          ]
        },
        {
          "output_type": "stream",
          "name": "stdout",
          "text": [
            "Skip Славянка\n",
            "kk 30\n",
            "ru 30\n",
            "Skip Мулон\n",
            "Skip Токмаков\n",
            "uk 30\n",
            "Skip Гольцаў\n",
            "Skip Дзявяткавічы\n",
            "Skip Строй (значэнні)\n",
            "Skip Харакова\n",
            "be 30\n"
          ]
        }
      ]
    },
    {
      "cell_type": "markdown",
      "source": [
        "## 2. Методы определения языка"
      ],
      "metadata": {
        "id": "le1WD8OnH8jE"
      }
    },
    {
      "cell_type": "markdown",
      "source": [
        "### Идея 1. Определим по частотным словам.\n",
        "\n",
        "Попробуем выделить частотные слова для каждого языка и по ним определять язык. Для начала давайте создадим счетчик с самыми частотными словами. Не забудьте:\n",
        "- токенизировать любым удобным вам образом\n",
        "- избавиться от цифр и прочего мусора\n",
        "- вывод должен быть в виде словаря из ста самых частых слов"
      ],
      "metadata": {
        "id": "-uvK5UozWJig"
      }
    },
    {
      "cell_type": "code",
      "source": [
        "def collect_freqlist(wiki_pages, max_len=100):\n",
        "    \"\"\"\n",
        "    Функция токенизирует и чистит текст, после чего выводит топ-100 слов.\n",
        "    :param wiki_pages (list): тексты\n",
        "    :param max_len (int): количество наиболее частых слов\n",
        "    :returns dict: словарь наиболее частых слов размера max_len\n",
        "    \"\"\"\n",
        "    pass"
      ],
      "metadata": {
        "id": "AOHoLEhhYbHf"
      },
      "execution_count": null,
      "outputs": []
    },
    {
      "cell_type": "code",
      "source": [
        "# collect_freqlist(wiki_texts['ru'])"
      ],
      "metadata": {
        "id": "at82HAeTYqEI",
        "collapsed": true
      },
      "execution_count": null,
      "outputs": []
    },
    {
      "cell_type": "markdown",
      "source": [
        "__Вопросы:__\n",
        "- почему не стоит брать совсем редкие слова? (встретились 2-3 раза)\n",
        "- почему стоит параметр размера словаря - 100? Как можно определить оптимальный?\n",
        "- в данном случае мы не выкидываем формы одного слова. Какие могут быть минусы и плюсы подобного подхода?"
      ],
      "metadata": {
        "id": "trZdCPoIgMYh"
      }
    },
    {
      "cell_type": "code",
      "source": [
        "freq_lists = {}\n",
        "for lang in TEST_LANGS:\n",
        "    freq_lists[lang] = collect_freqlist(wiki_texts[lang])"
      ],
      "metadata": {
        "id": "QjwbmGHhYrIH"
      },
      "execution_count": null,
      "outputs": []
    },
    {
      "cell_type": "code",
      "source": [
        "def simple_lang_detect(freq_lists, text):\n",
        "    \"\"\"\n",
        "    Счётчик, который для каждого языка хранит информацию о том,\n",
        "    сколько слов из входного текста являются словами этого языка\n",
        "    :param freq_lists (dict): словарь топ-n слов для каждого языка\n",
        "    :param text (str): текст, для которого нужно определить язык\n",
        "    :returns: отсортированный список пар (язык, количество слов)\n",
        "    \"\"\"\n",
        "    pass"
      ],
      "metadata": {
        "id": "Z9Kq7R4RYv9-"
      },
      "execution_count": null,
      "outputs": []
    },
    {
      "cell_type": "code",
      "source": [
        "test_texts = get_texts_for_lang('it', n = 1)[0]\n",
        "print(test_texts[:1000])"
      ],
      "metadata": {
        "colab": {
          "base_uri": "https://localhost:8080/"
        },
        "id": "pHdyBIDHLCcc",
        "outputId": "715a365d-e974-4b0a-fb37-7fd75cb587b1"
      },
      "execution_count": null,
      "outputs": [
        {
          "output_type": "stream",
          "name": "stdout",
          "text": [
            "Corps of Colonial Marines\n",
            "Il nome Corps of Colonial Marines fu usato per indicare due differenti unità di fanteria di marina britanniche reclutate tra ex schiavi neri nelle Americhe, agli ordini di Alexander Cochrane.\n",
            "Le unità furono costituite in due posti diversi per due guerre diverse (Guerre napoleoniche, Guerra del 1812), e furono poi disciolte una volta che fu scomparsa la minaccia militare. A parte il fatto che in entrambi i casi il \"creatore\" fu Cochrane, non avevano nulla in comune.\n",
            "\n",
            "\n",
            " Primo corps \n",
            "\n",
            "Il primo Corps era una piccola unità attiva nei Caraibi dal 1808 al 12 ottobre 1810, reclutata tra ex schiavi per ovviare alla penuria di personale militare nella zona. I soldati arruolati sul posto erano meno soggetti alle malattie tropicali di quanto non fossero le truppe inviate dalla Gran Bretagna. Il Corps replicava il modello praticato dai West India Regiments nel reclutare ex schiavi come soldati. \n",
            "L'anno precedente, il Mutiny Act del 1807 aveva emancipato tutti gli schiavi \n"
          ]
        }
      ]
    },
    {
      "cell_type": "code",
      "source": [
        "simple_lang_detect(freq_lists, test_texts)"
      ],
      "metadata": {
        "id": "YrUOLtXBZR-T",
        "colab": {
          "base_uri": "https://localhost:8080/"
        },
        "outputId": "a8af126d-ce46-42b0-a505-44c08b1278f5"
      },
      "execution_count": null,
      "outputs": [
        {
          "output_type": "execute_result",
          "data": {
            "text/plain": [
              "[('it', 786), ('es', 270), ('kk', 58), ('uk', 21), ('ru', 0), ('be', 0)]"
            ]
          },
          "metadata": {},
          "execution_count": 11
        }
      ]
    },
    {
      "cell_type": "markdown",
      "source": [
        "#### Accuracy нашего метода"
      ],
      "metadata": {
        "id": "mB9GX0I0TjiF"
      }
    },
    {
      "cell_type": "markdown",
      "source": [
        "Создадим отдельную тестовую выборку, на основе которой будем сравнивать работу методов."
      ],
      "metadata": {
        "id": "rg7gwgujh2YP"
      }
    },
    {
      "cell_type": "code",
      "source": [
        "wiki_texts_test = {}\n",
        "test_size = 10\n",
        "for lang in TEST_LANGS:\n",
        "    wiki_texts_test[lang] = get_texts_for_lang(lang, test_size)\n",
        "    print(lang, len(wiki_texts_test[lang]))"
      ],
      "metadata": {
        "colab": {
          "base_uri": "https://localhost:8080/"
        },
        "id": "6NwSrclyURex",
        "outputId": "dc99cdc2-cb3d-45b2-a3e4-32ef4a26f515"
      },
      "execution_count": null,
      "outputs": [
        {
          "output_type": "stream",
          "name": "stdout",
          "text": [
            "es 10\n",
            "Skip Bom Jesus do Tocantins (Tocantins)\n",
            "it 10\n",
            "kk 10\n",
            "ru 10\n",
            "Skip Любешинек\n",
            "uk 10\n",
            "Skip Даркевіч\n",
            "Skip Прыстань\n",
            "be 10\n"
          ]
        }
      ]
    },
    {
      "cell_type": "code",
      "source": [
        "from sklearn.metrics import accuracy_score\n",
        "\n",
        "def test_simple_lang_detect(freq_lists, wiki_texts_test):\n",
        "    results = []  # сюда будем писать результаты\n",
        "    gold = []     # сюда будем писать исходный язык\n",
        "    mistakes = []\n",
        "    for lang in TEST_LANGS:\n",
        "        lang_texts = wiki_texts_test[lang]\n",
        "        for text in lang_texts:\n",
        "            predicted_lang = simple_lang_detect(freq_lists, text)\n",
        "            results.append(predicted_lang[0][0])\n",
        "            gold.append(lang)\n",
        "\n",
        "            if predicted_lang[0][0] != lang:\n",
        "                mistakes.append([text.split('\\n')[0], lang, predicted_lang])\n",
        "    print(\"RESULTS:\")\n",
        "    print(f\"{len(TEST_LANGS)} languages\")\n",
        "    print(f\"Test size: {len(lang_texts)} texts per language\")\n",
        "    print(f\"Accuracy: {accuracy_score(results, gold):.4f}\")\n",
        "    return mistakes"
      ],
      "metadata": {
        "id": "EgFxFIaiZmLm"
      },
      "execution_count": null,
      "outputs": []
    },
    {
      "cell_type": "code",
      "source": [
        "# проверка\n",
        "mistakes = test_simple_lang_detect(freq_lists, wiki_texts_test)"
      ],
      "metadata": {
        "id": "1acKi4S7Zujh",
        "colab": {
          "base_uri": "https://localhost:8080/"
        },
        "outputId": "d8c7e71d-e54f-4cfe-afc7-686c28a4f8fd"
      },
      "execution_count": null,
      "outputs": [
        {
          "output_type": "stream",
          "name": "stdout",
          "text": [
            "RESULTS:\n",
            "6 languages\n",
            "Test size: 10 texts per language\n",
            "Accuracy: 0.9667\n"
          ]
        }
      ]
    },
    {
      "cell_type": "code",
      "source": [
        "mistakes"
      ],
      "metadata": {
        "colab": {
          "base_uri": "https://localhost:8080/"
        },
        "id": "1MMEl7fOYLo7",
        "outputId": "5b23db1e-99f1-41ad-abba-72bc91064fa7"
      },
      "execution_count": null,
      "outputs": [
        {
          "output_type": "execute_result",
          "data": {
            "text/plain": [
              "[['Формациялар кешені',\n",
              "  'kk',\n",
              "  [('es', 0), ('it', 0), ('kk', 0), ('ru', 0), ('uk', 0), ('be', 0)]],\n",
              " ['Андрэ Гоміш',\n",
              "  'be',\n",
              "  [('uk', 1), ('be', 1), ('es', 0), ('it', 0), ('kk', 0), ('ru', 0)]]]"
            ]
          },
          "metadata": {},
          "execution_count": 15
        }
      ]
    },
    {
      "cell_type": "markdown",
      "source": [
        "__Как можно доработать этот подход?__\n",
        "\n",
        "Считать не количество слов каждого языка, а некоторый коэффициент, основанный на частоте встречаемости слова в языке. Т.е. если слово встречается в этом языке часто, то выше вероятность, что текст написан на нём. (м.б. что-то похожее на tf-idf)"
      ],
      "metadata": {
        "id": "S1EQSskKS0G2"
      }
    },
    {
      "cell_type": "markdown",
      "source": [
        "### Идея 2. Префиксы-суффиксы\n"
      ],
      "metadata": {
        "id": "0WQfP4Kfb_Mh"
      }
    },
    {
      "cell_type": "markdown",
      "source": [
        "Что если мы хотим учитывать морфологию при анализе? Тут сразу появляется проблема: пока мы не знаем, какой язык перед нами, мы не знаем, как в нём работает морфология."
      ],
      "metadata": {
        "id": "N5st3qMgdoqY"
      }
    },
    {
      "cell_type": "code",
      "source": [
        "import nltk\n",
        "ps = nltk.stem.PorterStemmer()\n",
        "ps.stem('машины')"
      ],
      "metadata": {
        "colab": {
          "base_uri": "https://localhost:8080/",
          "height": 35
        },
        "id": "eu3oW4N_dE63",
        "outputId": "03420504-8ee5-4352-fcd5-2952608198a7"
      },
      "execution_count": null,
      "outputs": [
        {
          "output_type": "execute_result",
          "data": {
            "text/plain": [
              "'машины'"
            ],
            "application/vnd.google.colaboratory.intrinsic+json": {
              "type": "string"
            }
          },
          "metadata": {},
          "execution_count": 16
        }
      ]
    },
    {
      "cell_type": "markdown",
      "source": [
        "Попробуем вариант \"в лоб\": соберём список частотных префиксов и суффиксов. Для этого возьмём все те же тексты, и для каждого слова будем сохранять все его преффиксы и суффиксы. Например, для слова *машина* мы сохраним следующий набор: *машина*, *машин*, *маши*, *маш*, *ма*, *м*, *ашина*, *шина*, *ина*, *на*, *а*"
      ],
      "metadata": {
        "id": "fbAd0mgzmtk6"
      }
    },
    {
      "cell_type": "code",
      "source": [
        "def collect_pref_suff_freqlist(wiki_pages, max_len=200):\n",
        "    freqlist = Counter()\n",
        "    for text in wiki_pages:\n",
        "        for word in nltk.word_tokenize(text):\n",
        "            word = re.sub('\\d', '', word)\n",
        "            if word.isalpha():\n",
        "                for i in range(len(word)+ 1):\n",
        "                    if len(word[i:]) >= 1:\n",
        "                        freqlist[word[i:]] += 1\n",
        "                    if len(word[:i]) >= 1:\n",
        "                        freqlist[word[:i]] += 1\n",
        "    return dict(freqlist.most_common(max_len))"
      ],
      "metadata": {
        "id": "nhal3D9TGrWs"
      },
      "execution_count": null,
      "outputs": []
    },
    {
      "cell_type": "code",
      "source": [
        "# collect_pref_suff_freqlist(wiki_texts['ru'])"
      ],
      "metadata": {
        "id": "7RMCV1ybA7NT"
      },
      "execution_count": null,
      "outputs": []
    },
    {
      "cell_type": "code",
      "source": [
        "freq_pref_suff_lists = {}\n",
        "for lang in TEST_LANGS:\n",
        "    freq_pref_suff_lists[lang] = collect_pref_suff_freqlist(wiki_texts[lang])"
      ],
      "metadata": {
        "id": "s0E279XVKI0R"
      },
      "execution_count": null,
      "outputs": []
    },
    {
      "cell_type": "code",
      "source": [
        "def new_simple_lang_detect(freq_lists, text):\n",
        "    counts = Counter()\n",
        "    for lang, freq_list in freq_lists.items():\n",
        "        freq_list = Counter(freq_list)\n",
        "        for word in nltk.word_tokenize(text):\n",
        "            word = re.sub('\\d', '', word)\n",
        "            for i in range(len(word)+ 1):\n",
        "                if len(word[i:]) > 1:\n",
        "                    counts[lang] += int(freq_list[word[i:]] > 0)\n",
        "                if len(word[:i]) > 1:\n",
        "                    counts[lang] += int(freq_list[word[:i]] > 0)\n",
        "    return counts.most_common()"
      ],
      "metadata": {
        "id": "WEWn7x0FKRBD"
      },
      "execution_count": null,
      "outputs": []
    },
    {
      "cell_type": "code",
      "source": [
        "simple_lang_detect(freq_pref_suff_lists, test_texts)"
      ],
      "metadata": {
        "colab": {
          "base_uri": "https://localhost:8080/"
        },
        "id": "89dPy4sRqMZP",
        "outputId": "098c64da-6e37-4d1a-97c3-c462738182d9"
      },
      "execution_count": null,
      "outputs": [
        {
          "output_type": "execute_result",
          "data": {
            "text/plain": [
              "[('it', 743), ('es', 508), ('be', 99), ('ru', 95), ('kk', 82), ('uk', 67)]"
            ]
          },
          "metadata": {},
          "execution_count": 21
        }
      ]
    },
    {
      "cell_type": "code",
      "source": [
        "mistakes = test_simple_lang_detect(freq_pref_suff_lists, wiki_texts_test)"
      ],
      "metadata": {
        "colab": {
          "base_uri": "https://localhost:8080/"
        },
        "id": "1ivmBF8JRQvC",
        "outputId": "353b4999-1f6b-41a8-dad4-747317282d1b"
      },
      "execution_count": null,
      "outputs": [
        {
          "output_type": "stream",
          "name": "stdout",
          "text": [
            "RESULTS:\n",
            "6 languages\n",
            "Test size: 10 texts per language\n",
            "Accuracy: 0.9333\n"
          ]
        }
      ]
    },
    {
      "cell_type": "code",
      "source": [
        "mistakes"
      ],
      "metadata": {
        "colab": {
          "base_uri": "https://localhost:8080/"
        },
        "id": "DCrvOZjaRnA2",
        "outputId": "2cc82c85-b32d-4197-9f98-7afcddfce2f7"
      },
      "execution_count": null,
      "outputs": [
        {
          "output_type": "execute_result",
          "data": {
            "text/plain": [
              "[['Сүр',\n",
              "  'kk',\n",
              "  [('ru', 13), ('kk', 10), ('uk', 4), ('be', 2), ('es', 0), ('it', 0)]],\n",
              " ['Геращенко, Анатолий Николаевич',\n",
              "  'ru',\n",
              "  [('uk', 25), ('ru', 24), ('be', 20), ('kk', 17), ('es', 1), ('it', 1)]],\n",
              " ['Зоряний склеп',\n",
              "  'uk',\n",
              "  [('be', 13), ('uk', 12), ('kk', 8), ('ru', 8), ('es', 0), ('it', 0)]],\n",
              " ['Андрэ Гоміш',\n",
              "  'be',\n",
              "  [('kk', 1), ('uk', 1), ('be', 1), ('es', 0), ('it', 0), ('ru', 0)]]]"
            ]
          },
          "metadata": {},
          "execution_count": 23
        }
      ]
    },
    {
      "cell_type": "markdown",
      "source": [
        "### Идея 3. Машинное обучение"
      ],
      "metadata": {
        "id": "lUgjpSwmcDA6"
      }
    },
    {
      "cell_type": "markdown",
      "source": [
        "Будем говорить о **supervised** методах (обучение с учителем):\n",
        "\n",
        "* У нас есть пары `(признаки, класс)`\n",
        "* Классификатор обучается на них — подбирает подходящую функцию отображения признаков в множество классов\n",
        "* После этого можно применять полученную модель для предсказаний на новых данных\n",
        "\n",
        "Признаки могут быть разные:\n",
        "* средняя/минимальная/максимальная длина слова\n",
        "* векторизированные слова/символы/топ-n слов\n",
        "* векторизированные предложения/тексты"
      ],
      "metadata": {
        "id": "ew1upUqAA-kg"
      }
    },
    {
      "cell_type": "markdown",
      "source": [
        "Для определения языка часто используют не слова, а последовательности символов (символьные n-граммы / character ngrams). Например, 3-граммы:\n",
        "```\n",
        "сим, имв, мво, вол, оло, лов\n",
        "```\n",
        "\n",
        "Из обучающих данных соберем словарь символьных n-грамм $V$.\n",
        "Тогда каждый текст сможем представить в виде вектора длины $|V|$, где каждый признак показывает, присутствует ли соответствующая n-грамма в тексте.\n",
        "\n",
        "Будем использовать $tf \\cdot idf$, чтобы учитывалась важность символов для строки:\n",
        "\n",
        "$tf \\cdot idf (n, d) = \\frac{count(n_d)}{\\sum_{w \\in d}count(w)} \\cdot log\\frac{|D|}{|\\{d \\in D | n \\in d\\}|}$\n",
        "\n",
        "где $n$ - n-грамма, $d$ - документ, а $D$ - весь корпус (на данном языке)"
      ],
      "metadata": {
        "id": "lfE1HQrdBY16"
      }
    },
    {
      "cell_type": "markdown",
      "source": [
        "#### Векторизация"
      ],
      "metadata": {
        "id": "2ClWgbvaeDSq"
      }
    },
    {
      "cell_type": "code",
      "source": [
        "from sklearn import feature_extraction\n",
        "\n",
        "vectorizer = feature_extraction.text.TfidfVectorizer(ngram_range=(1, 5), analyzer='char')\n",
        "vectorizer.fit(wiki_texts['ru'])\n",
        "# for item in vectorizer.get_feature_names_out()[:100]:\n",
        "#    print(item)"
      ],
      "metadata": {
        "colab": {
          "base_uri": "https://localhost:8080/",
          "height": 75
        },
        "id": "4x9TANOmBczu",
        "outputId": "423a7070-677f-42e0-eedd-419bcb89505f",
        "collapsed": true
      },
      "execution_count": null,
      "outputs": [
        {
          "output_type": "execute_result",
          "data": {
            "text/plain": [
              "TfidfVectorizer(analyzer='char', ngram_range=(1, 5))"
            ],
            "text/html": [
              "<style>#sk-container-id-1 {color: black;}#sk-container-id-1 pre{padding: 0;}#sk-container-id-1 div.sk-toggleable {background-color: white;}#sk-container-id-1 label.sk-toggleable__label {cursor: pointer;display: block;width: 100%;margin-bottom: 0;padding: 0.3em;box-sizing: border-box;text-align: center;}#sk-container-id-1 label.sk-toggleable__label-arrow:before {content: \"▸\";float: left;margin-right: 0.25em;color: #696969;}#sk-container-id-1 label.sk-toggleable__label-arrow:hover:before {color: black;}#sk-container-id-1 div.sk-estimator:hover label.sk-toggleable__label-arrow:before {color: black;}#sk-container-id-1 div.sk-toggleable__content {max-height: 0;max-width: 0;overflow: hidden;text-align: left;background-color: #f0f8ff;}#sk-container-id-1 div.sk-toggleable__content pre {margin: 0.2em;color: black;border-radius: 0.25em;background-color: #f0f8ff;}#sk-container-id-1 input.sk-toggleable__control:checked~div.sk-toggleable__content {max-height: 200px;max-width: 100%;overflow: auto;}#sk-container-id-1 input.sk-toggleable__control:checked~label.sk-toggleable__label-arrow:before {content: \"▾\";}#sk-container-id-1 div.sk-estimator input.sk-toggleable__control:checked~label.sk-toggleable__label {background-color: #d4ebff;}#sk-container-id-1 div.sk-label input.sk-toggleable__control:checked~label.sk-toggleable__label {background-color: #d4ebff;}#sk-container-id-1 input.sk-hidden--visually {border: 0;clip: rect(1px 1px 1px 1px);clip: rect(1px, 1px, 1px, 1px);height: 1px;margin: -1px;overflow: hidden;padding: 0;position: absolute;width: 1px;}#sk-container-id-1 div.sk-estimator {font-family: monospace;background-color: #f0f8ff;border: 1px dotted black;border-radius: 0.25em;box-sizing: border-box;margin-bottom: 0.5em;}#sk-container-id-1 div.sk-estimator:hover {background-color: #d4ebff;}#sk-container-id-1 div.sk-parallel-item::after {content: \"\";width: 100%;border-bottom: 1px solid gray;flex-grow: 1;}#sk-container-id-1 div.sk-label:hover label.sk-toggleable__label {background-color: #d4ebff;}#sk-container-id-1 div.sk-serial::before {content: \"\";position: absolute;border-left: 1px solid gray;box-sizing: border-box;top: 0;bottom: 0;left: 50%;z-index: 0;}#sk-container-id-1 div.sk-serial {display: flex;flex-direction: column;align-items: center;background-color: white;padding-right: 0.2em;padding-left: 0.2em;position: relative;}#sk-container-id-1 div.sk-item {position: relative;z-index: 1;}#sk-container-id-1 div.sk-parallel {display: flex;align-items: stretch;justify-content: center;background-color: white;position: relative;}#sk-container-id-1 div.sk-item::before, #sk-container-id-1 div.sk-parallel-item::before {content: \"\";position: absolute;border-left: 1px solid gray;box-sizing: border-box;top: 0;bottom: 0;left: 50%;z-index: -1;}#sk-container-id-1 div.sk-parallel-item {display: flex;flex-direction: column;z-index: 1;position: relative;background-color: white;}#sk-container-id-1 div.sk-parallel-item:first-child::after {align-self: flex-end;width: 50%;}#sk-container-id-1 div.sk-parallel-item:last-child::after {align-self: flex-start;width: 50%;}#sk-container-id-1 div.sk-parallel-item:only-child::after {width: 0;}#sk-container-id-1 div.sk-dashed-wrapped {border: 1px dashed gray;margin: 0 0.4em 0.5em 0.4em;box-sizing: border-box;padding-bottom: 0.4em;background-color: white;}#sk-container-id-1 div.sk-label label {font-family: monospace;font-weight: bold;display: inline-block;line-height: 1.2em;}#sk-container-id-1 div.sk-label-container {text-align: center;}#sk-container-id-1 div.sk-container {/* jupyter's `normalize.less` sets `[hidden] { display: none; }` but bootstrap.min.css set `[hidden] { display: none !important; }` so we also need the `!important` here to be able to override the default hidden behavior on the sphinx rendered scikit-learn.org. See: https://github.com/scikit-learn/scikit-learn/issues/21755 */display: inline-block !important;position: relative;}#sk-container-id-1 div.sk-text-repr-fallback {display: none;}</style><div id=\"sk-container-id-1\" class=\"sk-top-container\"><div class=\"sk-text-repr-fallback\"><pre>TfidfVectorizer(analyzer=&#x27;char&#x27;, ngram_range=(1, 5))</pre><b>In a Jupyter environment, please rerun this cell to show the HTML representation or trust the notebook. <br />On GitHub, the HTML representation is unable to render, please try loading this page with nbviewer.org.</b></div><div class=\"sk-container\" hidden><div class=\"sk-item\"><div class=\"sk-estimator sk-toggleable\"><input class=\"sk-toggleable__control sk-hidden--visually\" id=\"sk-estimator-id-1\" type=\"checkbox\" checked><label for=\"sk-estimator-id-1\" class=\"sk-toggleable__label sk-toggleable__label-arrow\">TfidfVectorizer</label><div class=\"sk-toggleable__content\"><pre>TfidfVectorizer(analyzer=&#x27;char&#x27;, ngram_range=(1, 5))</pre></div></div></div></div></div>"
            ]
          },
          "metadata": {},
          "execution_count": 24
        }
      ]
    },
    {
      "cell_type": "code",
      "source": [
        "# print(vectorizer.transform(wiki_texts['ru'])[0])"
      ],
      "metadata": {
        "id": "9QhWuTD3gQ7r"
      },
      "execution_count": null,
      "outputs": []
    },
    {
      "cell_type": "markdown",
      "source": [
        "#### Пайплайн обучения"
      ],
      "metadata": {
        "id": "hzMWow_ceF4-"
      }
    },
    {
      "cell_type": "code",
      "source": [
        "from sklearn import pipeline\n",
        "from sklearn import naive_bayes\n",
        "import numpy as np\n",
        "\n",
        "#%pylab inline\n",
        "import matplotlib.pyplot as plt\n",
        "import seaborn as sns"
      ],
      "metadata": {
        "id": "9ACMG3YXBhdS"
      },
      "execution_count": null,
      "outputs": []
    },
    {
      "cell_type": "markdown",
      "source": [
        "1. Строим пайплайн классификатора"
      ],
      "metadata": {
        "id": "FlhLnELygOW6"
      }
    },
    {
      "cell_type": "code",
      "source": [
        "clf = pipeline.Pipeline([\n",
        "    ('vctr', feature_extraction.text.TfidfVectorizer(ngram_range=(1, 2), analyzer='char')),\n",
        "    ('clf', naive_bayes.MultinomialNB()) #параметр\n",
        "])"
      ],
      "metadata": {
        "id": "UJXQRTrrBmOo"
      },
      "execution_count": null,
      "outputs": []
    },
    {
      "cell_type": "markdown",
      "source": [
        "2. Делаем обучающую и тестовую выборки"
      ],
      "metadata": {
        "id": "Hxk6WEjugRXY"
      }
    },
    {
      "cell_type": "code",
      "source": [
        "all_texts = []\n",
        "lang_indices = []\n",
        "for lang in wiki_texts:\n",
        "    all_texts.extend(wiki_texts[lang])\n",
        "    lang_indices.extend([lang]*len(wiki_texts[lang]))\n",
        "\n",
        "test_texts = []\n",
        "test_lang_indices = []\n",
        "for lang in wiki_texts:\n",
        "    test_texts.extend(wiki_texts_test[lang])\n",
        "    test_lang_indices.extend([lang]*len(wiki_texts_test[lang]))"
      ],
      "metadata": {
        "id": "jNCIUziZBn8o"
      },
      "execution_count": null,
      "outputs": []
    },
    {
      "cell_type": "markdown",
      "source": [
        "3. Обучаем классификатор\n",
        "\n",
        "Так как мы сделали тестовую выборку, которой сравниваем результаты по разным методам, пусть будет три выборки: обучающая, валидационная и тестовая."
      ],
      "metadata": {
        "id": "Xf4ABDnzgU_5"
      }
    },
    {
      "cell_type": "code",
      "source": [
        "from sklearn.model_selection import train_test_split\n",
        "from sklearn import metrics\n",
        "\n",
        "X_train, X_val, y_train, y_val = train_test_split(\n",
        "    all_texts,\n",
        "    lang_indices,\n",
        "    test_size=0.2,\n",
        "    random_state=0\n",
        ")\n",
        "clf.fit(X_train, y_train)\n",
        "y_val_predicted = clf.predict(X_val)\n",
        "cm = metrics.confusion_matrix(y_val, y_val_predicted)"
      ],
      "metadata": {
        "id": "-ek88YfyFcap"
      },
      "execution_count": null,
      "outputs": []
    },
    {
      "cell_type": "code",
      "source": [
        "print(y_predicted)\n",
        "print(y_val)"
      ],
      "metadata": {
        "colab": {
          "base_uri": "https://localhost:8080/"
        },
        "id": "cahxXJayFe3l",
        "outputId": "027171d7-3387-47eb-bde2-a5e893c2f583"
      },
      "execution_count": null,
      "outputs": [
        {
          "output_type": "stream",
          "name": "stdout",
          "text": [
            "['ru' 'es' 'uk' 'ru' 'it' 'kk' 'it' 'be' 'be' 'ru' 'it' 'be' 'be' 'es'\n",
            " 'es' 'ru' 'be' 'uk' 'it' 'ru' 'uk' 'kk' 'kk' 'es' 'uk' 'be' 'ru' 'be'\n",
            " 'be' 'kk' 'it' 'es' 'ru' 'uk' 'kk' 'es']\n",
            "['ru', 'es', 'uk', 'be', 'uk', 'kk', 'it', 'be', 'be', 'ru', 'it', 'be', 'be', 'es', 'es', 'ru', 'be', 'uk', 'it', 'ru', 'uk', 'kk', 'kk', 'es', 'uk', 'be', 'ru', 'be', 'be', 'kk', 'it', 'es', 'ru', 'uk', 'kk', 'es']\n"
          ]
        }
      ]
    },
    {
      "cell_type": "code",
      "source": [
        "y_test_predicted = clf.predict(test_texts)\n",
        "cm_test = metrics.confusion_matrix(test_lang_indices, y_test_predicted)"
      ],
      "metadata": {
        "id": "i0h4HLyfeYMh"
      },
      "execution_count": null,
      "outputs": []
    },
    {
      "cell_type": "code",
      "source": [
        "# Нарисуем confusion matrix и оценим качество\n",
        "def test_classify(y_test, y_predicted, label_names):\n",
        "    cm = metrics.confusion_matrix(y_test, y_predicted)\n",
        "\n",
        "    plt.figure(figsize=(10, 10))\n",
        "    plt.ylim(10.5, -0.5)\n",
        "    sns.heatmap(cm, annot=True,  fmt='', xticklabels=label_names, yticklabels=label_names)\n",
        "    plt.title('Confusion Matrix')\n",
        "\n",
        "    print(metrics.classification_report(y_test, y_predicted,\n",
        "                                        target_names=label_names))"
      ],
      "metadata": {
        "id": "nTOUoXwCFgvx"
      },
      "execution_count": null,
      "outputs": []
    },
    {
      "cell_type": "code",
      "source": [
        "test_classify(test_lang_indices, y_test_predicted, clf.classes_)"
      ],
      "metadata": {
        "colab": {
          "base_uri": "https://localhost:8080/",
          "height": 1000
        },
        "id": "PqCxxBuCgEoA",
        "outputId": "0d629f5c-da59-43f9-e023-8f75d16ea5bc"
      },
      "execution_count": null,
      "outputs": [
        {
          "output_type": "stream",
          "name": "stdout",
          "text": [
            "              precision    recall  f1-score   support\n",
            "\n",
            "          be       1.00      0.90      0.95        10\n",
            "          es       1.00      1.00      1.00        10\n",
            "          it       0.91      1.00      0.95        10\n",
            "          kk       1.00      1.00      1.00        10\n",
            "          ru       1.00      1.00      1.00        10\n",
            "          uk       1.00      1.00      1.00        10\n",
            "\n",
            "    accuracy                           0.98        60\n",
            "   macro avg       0.98      0.98      0.98        60\n",
            "weighted avg       0.98      0.98      0.98        60\n",
            "\n"
          ]
        },
        {
          "output_type": "display_data",
          "data": {
            "text/plain": [
              "<Figure size 1000x1000 with 2 Axes>"
            ],
            "image/png": "[encoded data removed]"
          },
          "metadata": {}
        }
      ]
    },
    {
      "cell_type": "code",
      "source": [
        "test_classify(y_val, y_predicted, clf.classes_)"
      ],
      "metadata": {
        "colab": {
          "base_uri": "https://localhost:8080/",
          "height": 1000
        },
        "id": "gtCV2RbOFha5",
        "outputId": "35f24cef-c588-49bb-a94b-bb4c2fe41c40"
      },
      "execution_count": null,
      "outputs": [
        {
          "output_type": "stream",
          "name": "stdout",
          "text": [
            "              precision    recall  f1-score   support\n",
            "\n",
            "          be       1.00      0.89      0.94         9\n",
            "          es       1.00      1.00      1.00         6\n",
            "          it       0.80      1.00      0.89         4\n",
            "          kk       1.00      1.00      1.00         5\n",
            "          ru       0.86      1.00      0.92         6\n",
            "          uk       1.00      0.83      0.91         6\n",
            "\n",
            "    accuracy                           0.94        36\n",
            "   macro avg       0.94      0.95      0.94        36\n",
            "weighted avg       0.95      0.94      0.94        36\n",
            "\n"
          ]
        },
        {
          "output_type": "display_data",
          "data": {
            "text/plain": [
              "<Figure size 1000x1000 with 2 Axes>"
            ],
            "image/png": "[encoded data removed]"
          },
          "metadata": {}
        }
      ]
    },
    {
      "cell_type": "code",
      "source": [
        "# Проверим на случайных отрывках из тестовых текстов\n",
        "import random\n",
        "\n",
        "small_texts = []\n",
        "for text in X_val:\n",
        "    begin = random.randint(0, len(text) - 50)\n",
        "    small_texts.append(text[begin:begin+50])\n",
        "y_predicted_small = clf.predict(small_texts)\n",
        "test_classify(y_val, y_predicted_small, clf.classes_)"
      ],
      "metadata": {
        "id": "W0F_gJVtlb5n"
      },
      "execution_count": null,
      "outputs": []
    },
    {
      "cell_type": "markdown",
      "source": [
        "## Задание\n",
        "\n",
        "[Здесь](https://disk.yandex.ru/d/O0r3gHiUwTRmmg) лежит текст Анны Карениной на английском. Ваше задание -- взять текст и один из рассмотренных в ходе семинара методов определения языка и извлечь несколько предложений на французском из текста."
      ],
      "metadata": {
        "id": "SA8NINB2aXiF"
      }
    }
  ]
}