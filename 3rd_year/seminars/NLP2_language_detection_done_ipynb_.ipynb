{
 "cells": [
  {
   "cell_type": "markdown",
   "metadata": {
    "colab_type": "text",
    "id": "7Jm3LqcY3Io4"
   },
   "source": [
    "## Препроцессинг и определение языка / Preprocessing and language detection\n",
    "\n",
    "Предыдущая часть была посвящена предобработке текстовых данных, теперь применим эти методы на практике и заодно узнаем, как можно решать задачу определения языка.\n",
    "\n",
    "**Идеи?**"
   ]
  },
  {
   "cell_type": "markdown",
   "metadata": {
    "colab_type": "text",
    "id": "OFMHW4Ci3Io5"
   },
   "source": [
    "Нам понадобятся некоторые пакеты для Питона, установите себе недостающие:\n",
    "* wikipedia\n",
    "* nltk"
   ]
  },
  {
   "cell_type": "code",
   "execution_count": 1,
   "metadata": {
    "colab": {
     "base_uri": "https://localhost:8080/",
     "height": 269
    },
    "colab_type": "code",
    "id": "v9kJxTkI3Io6",
    "outputId": "f59fd729-f3cd-4545-adb1-0e55fd3794c9"
   },
   "outputs": [
    {
     "name": "stdout",
     "output_type": "stream",
     "text": [
      "Collecting wikipedia\n",
      "  Downloading https://files.pythonhosted.org/packages/67/35/25e68fbc99e672127cc6fbb14b8ec1ba3dfef035bf1e4c90f78f24a80b7d/wikipedia-1.4.0.tar.gz\n",
      "Requirement already satisfied: beautifulsoup4 in /usr/local/lib/python3.6/dist-packages (from wikipedia) (4.6.3)\n",
      "Requirement already satisfied: requests<3.0.0,>=2.0.0 in /usr/local/lib/python3.6/dist-packages (from wikipedia) (2.23.0)\n",
      "Requirement already satisfied: chardet<4,>=3.0.2 in /usr/local/lib/python3.6/dist-packages (from requests<3.0.0,>=2.0.0->wikipedia) (3.0.4)\n",
      "Requirement already satisfied: certifi>=2017.4.17 in /usr/local/lib/python3.6/dist-packages (from requests<3.0.0,>=2.0.0->wikipedia) (2020.6.20)\n",
      "Requirement already satisfied: urllib3!=1.25.0,!=1.25.1,<1.26,>=1.21.1 in /usr/local/lib/python3.6/dist-packages (from requests<3.0.0,>=2.0.0->wikipedia) (1.24.3)\n",
      "Requirement already satisfied: idna<3,>=2.5 in /usr/local/lib/python3.6/dist-packages (from requests<3.0.0,>=2.0.0->wikipedia) (2.10)\n",
      "Building wheels for collected packages: wikipedia\n",
      "  Building wheel for wikipedia (setup.py) ... \u001b[?25l\u001b[?25hdone\n",
      "  Created wheel for wikipedia: filename=wikipedia-1.4.0-cp36-none-any.whl size=11686 sha256=13882319424d0ce3e8773073111209142399ceb0c23634eeac8f4e5ef4657b7f\n",
      "  Stored in directory: /root/.cache/pip/wheels/87/2a/18/4e471fd96d12114d16fe4a446d00c3b38fb9efcb744bd31f4a\n",
      "Successfully built wikipedia\n",
      "Installing collected packages: wikipedia\n",
      "Successfully installed wikipedia-1.4.0\n"
     ]
    }
   ],
   "source": [
    "!pip install wikipedia"
   ]
  },
  {
   "cell_type": "code",
   "execution_count": 2,
   "metadata": {
    "colab": {
     "base_uri": "https://localhost:8080/",
     "height": 50
    },
    "colab_type": "code",
    "id": "urgPFXaE3Io8",
    "outputId": "62d80d6e-a7e4-41d0-a5b7-b4081c3cedd3"
   },
   "outputs": [
    {
     "name": "stdout",
     "output_type": "stream",
     "text": [
      "Requirement already satisfied: nltk in /usr/local/lib/python3.6/dist-packages (3.2.5)\n",
      "Requirement already satisfied: six in /usr/local/lib/python3.6/dist-packages (from nltk) (1.15.0)\n"
     ]
    }
   ],
   "source": [
    "!pip install nltk"
   ]
  },
  {
   "cell_type": "code",
   "execution_count": 3,
   "metadata": {
    "colab": {},
    "colab_type": "code",
    "id": "IzpLP1ve3Io-"
   },
   "outputs": [],
   "source": [
    "from collections import Counter  # нужно объяснять, что это?\n",
    "\n",
    "import nltk\n",
    "import wikipedia"
   ]
  },
  {
   "cell_type": "markdown",
   "metadata": {
    "colab_type": "text",
    "id": "VZM66tLa3IpA"
   },
   "source": [
    "Возможно, перед первым запуском `nltk` нужно скачать немного данных:"
   ]
  },
  {
   "cell_type": "code",
   "execution_count": 4,
   "metadata": {
    "colab": {
     "base_uri": "https://localhost:8080/",
     "height": 67
    },
    "colab_type": "code",
    "id": "tCpai7Yc3IpA",
    "outputId": "99938264-a11f-420d-bf4e-fda9b669121b"
   },
   "outputs": [
    {
     "name": "stdout",
     "output_type": "stream",
     "text": [
      "[nltk_data] Downloading package punkt to /root/nltk_data...\n",
      "[nltk_data]   Unzipping tokenizers/punkt.zip.\n"
     ]
    },
    {
     "data": {
      "text/plain": [
       "True"
      ]
     },
     "execution_count": 4,
     "metadata": {
      "tags": []
     },
     "output_type": "execute_result"
    }
   ],
   "source": [
    "nltk.download(\"punkt\")"
   ]
  },
  {
   "cell_type": "markdown",
   "metadata": {
    "colab_type": "text",
    "id": "ABmBn1Sz3IpC"
   },
   "source": [
    "Теперь посмотрим, как можно скачивать тексты из Википедии с помощью пакета `wikipedia`."
   ]
  },
  {
   "cell_type": "markdown",
   "metadata": {
    "colab_type": "text",
    "id": "MQRQF5n93IpE"
   },
   "source": [
    "Поскольку мы будем выбирать из нескольких языков, лучше сразу завести функцию, которая будет \n",
    "скачивать нужное количество страниц для заданного языка."
   ]
  },
  {
   "cell_type": "code",
   "execution_count": 5,
   "metadata": {
    "colab": {},
    "colab_type": "code",
    "id": "uZ0EfvHG3IpF"
   },
   "outputs": [],
   "source": [
    "TEST_LANGS = ('es', 'it', 'kk', 'ru', 'uk', 'be')"
   ]
  },
  {
   "cell_type": "code",
   "execution_count": 6,
   "metadata": {
    "colab": {},
    "colab_type": "code",
    "id": "yA5fu5vo3IpG"
   },
   "outputs": [],
   "source": [
    "def get_texts_for_lang(lang, n=10):\n",
    "    wiki_content = []\n",
    "    wikipedia.set_lang(lang)\n",
    "    pages = wikipedia.random(n)\n",
    "    for page_name in pages:\n",
    "        try:\n",
    "            page = wikipedia.page(page_name)\n",
    "            wiki_content.append(\"%s\\n%s\" % (page.title, page.content.replace('=', '')))\n",
    "        except wikipedia.exceptions.WikipediaException:\n",
    "            print(\"Skip %s\" % page_name)\n",
    "    return wiki_content"
   ]
  },
  {
   "cell_type": "code",
   "execution_count": 7,
   "metadata": {
    "colab": {
     "base_uri": "https://localhost:8080/",
     "height": 423
    },
    "colab_type": "code",
    "id": "6a1XLXXb3IpI",
    "outputId": "f669f329-0641-4458-81d7-568b66b64f7a"
   },
   "outputs": [
    {
     "name": "stderr",
     "output_type": "stream",
     "text": [
      "/usr/local/lib/python3.6/dist-packages/wikipedia/wikipedia.py:389: UserWarning: No parser was explicitly specified, so I'm using the best available HTML parser for this system (\"lxml\"). This usually isn't a problem, but if you run this code on another system, or in a different virtual environment, it may use a different parser and behave differently.\n",
      "\n",
      "The code that caused this warning is on line 389 of the file /usr/local/lib/python3.6/dist-packages/wikipedia/wikipedia.py. To get rid of this warning, pass the additional argument 'features=\"lxml\"' to the BeautifulSoup constructor.\n",
      "\n",
      "  lis = BeautifulSoup(html).find_all('li')\n"
     ]
    },
    {
     "name": "stdout",
     "output_type": "stream",
     "text": [
      "Skip Sorbo\n",
      "Skip Crowder\n",
      "es 48\n",
      "Skip GCP\n",
      "it 49\n",
      "kk 50\n",
      "Skip Малагола\n",
      "Skip Коскинен\n",
      "Skip Тызыл\n",
      "Skip Список хокимов\n",
      "ru 46\n",
      "Skip Сандікрік Тауншип (округ Венанго, Пенсильванія)\n",
      "Skip Митрофанов\n",
      "uk 48\n",
      "Skip Дыярбакыр (значэнні)\n",
      "Skip Валынцы\n",
      "Skip Шубін\n",
      "be 47\n"
     ]
    }
   ],
   "source": [
    "wiki_texts = {}\n",
    "for lang in TEST_LANGS:\n",
    "    wiki_texts[lang] = get_texts_for_lang(lang, 50)\n",
    "    print(lang, len(wiki_texts[lang]))"
   ]
  },
  {
   "cell_type": "markdown",
   "metadata": {
    "colab_type": "text",
    "id": "lVhAr9k1IlBL"
   },
   "source": [
    "1. Почему в данном случае мы можем не париться, что у нас разное число статей?\n",
    "\n",
    "2. Что такое трай-эксепт? В каких случаях его можно использовать?\n",
    "(логическте ошибки vs программные исключения)\n",
    "\n",
    "3. Какие еще костыли/частые ошибки в коде вы знаете?"
   ]
  },
  {
   "cell_type": "code",
   "execution_count": 8,
   "metadata": {
    "colab": {
     "base_uri": "https://localhost:8080/",
     "height": 558
    },
    "colab_type": "code",
    "id": "ZQmCT_J23IpL",
    "outputId": "53261cf9-2c30-4e5f-88ef-902e1025e5d3"
   },
   "outputs": [
    {
     "name": "stdout",
     "output_type": "stream",
     "text": [
      "Теней (Алье)\n",
      "Теней (фр. Theneuille) — Франциядағы коммуна. Овернь аймағына қарасты Алье департаментінде орналасқан. Монлюсон округінің құрамына енеді. Алып жатқан жер аумағы 39,73 км² шамасында.\n",
      "Коммунаның INSEE коды — 03282, пошта индексі — 03350.\n",
      "\n",
      "\n",
      " Демографиясы \n",
      "2009 жылғы мәліметтер бойынша тұрғындарының саны 392 адамды құрады. Халық тығыздығы — 9,87 адам/км².\n",
      "Халық динамикасы (INSEE ):\n",
      "\n",
      "Тұрғындарының жас шамасы және жынысы бойынша құрамы (2006):\n",
      "\n",
      "\n",
      " Тағы қараңыз \n",
      "Алье департаментінің коммуналары\n",
      "\n",
      "\n",
      " Дереккөздер \n",
      "\n",
      "\n",
      " Сыртқы сілтемелер \n",
      "Францияның ұлттық статистика және экономикалық зерттеулер институты сайтындағы парақшасы\n",
      "«Mapquest» картасында орналасуы\n",
      "Sinistra Democratica (Irlanda)\n",
      "Sinistra Democratica (in inglese Democratic Left) è stato un partito politico attivo in Irlanda dal 1992 al 1999. \n",
      "Esso si è affermato in seguito ad una scissione dal Partito dei Lavoratori, di cui ha raccolto la quasi totalità dell'elettorato, ed ha concluso la sua esperienza confluendo nel Partito Laburista.\n",
      "La sua ideologia era il socialismo democratico. Suo leader è stato Proinsias De Rossa.\n",
      "\n",
      "\n",
      " Collegamenti esterni \n",
      "\n",
      "(EN) Sinistra Democratica, su Enciclopedia Britannica, Encyclopædia Britannica, Inc.\n"
     ]
    }
   ],
   "source": [
    "print(wiki_texts['kk'][0])\n",
    "print(wiki_texts['it'][0])"
   ]
  },
  {
   "cell_type": "markdown",
   "metadata": {
    "colab_type": "text",
    "id": "UBOLiySe3IpN"
   },
   "source": [
    "**Идея 1**\n",
    "\n",
    "Можно найти самые частотные слова для каждого языка, а потом считать их количество в каждом новом тексте."
   ]
  },
  {
   "cell_type": "code",
   "execution_count": 9,
   "metadata": {
    "colab": {},
    "colab_type": "code",
    "id": "5SqFWksT3IpN"
   },
   "outputs": [],
   "source": [
    "def collect_freqlist(wiki_pages, max_len=100):\n",
    "    #давайте создам счётчик со ста самыми частотными словами для каждого языка\n",
    "    #сначала токенизируйте всё, потом избавтесь от цифр и прочего\n",
    "    # вернем словарь из ста самых частых \n",
    "    \n",
    "    freqlist = Counter()\n",
    "    # не забудем про токенизацию - nltk.word_tokenize\n",
    "    for text in wiki_pages:\n",
    "        for word in nltk.word_tokenize(text.lower()):\n",
    "            if word.isalpha():\n",
    "                freqlist[word] += 1\n",
    "    return dict(freqlist.most_common(max_len))"
   ]
  },
  {
   "cell_type": "markdown",
   "metadata": {
    "colab_type": "text",
    "id": "LOyVPjE5PMh0"
   },
   "source": [
    "1. Почему мы не берем совсем редкие слова? Условно встретилось одно 2-3 раза?\n",
    "\n",
    "2. Я использовал тут значение сто. От чего вообще зависит этот параметр? Есть ли какой-то способ его более менее объективно померить?"
   ]
  },
  {
   "cell_type": "markdown",
   "metadata": {
    "colab_type": "text",
    "id": "JhFB3xDvPiv3"
   },
   "source": [
    "feature engineering --- это либо руками, либо с помощью программ, которые вам заменят руки (термин из нейросетей, там есть специальные пакеты)\n",
    "\n",
    "Цитаты великих людей С. Ю. Толдова \"Автобрея - это руками\" (ровно поэтому и мы и искали нового преподавателя сюда очень долго)"
   ]
  },
  {
   "cell_type": "markdown",
   "metadata": {
    "colab_type": "text",
    "id": "TIh2oWdtVCCD"
   },
   "source": [
    "3. Заметьте, тут мы не выкидываем похожие слова. Какие есть минусы в сторону обеих подходов?"
   ]
  },
  {
   "cell_type": "code",
   "execution_count": 10,
   "metadata": {
    "colab": {
     "base_uri": "https://localhost:8080/",
     "height": 1000
    },
    "colab_type": "code",
    "id": "Yrb4JNpk3IpQ",
    "outputId": "30f43d62-1fac-40be-811f-907375ba47c5"
   },
   "outputs": [
    {
     "data": {
      "text/plain": [
       "{'ampex': 97,\n",
       " 'de': 44,\n",
       " 'et': 33,\n",
       " 'isbn': 37,\n",
       " 'а': 159,\n",
       " 'англ': 33,\n",
       " 'более': 59,\n",
       " 'был': 163,\n",
       " 'была': 90,\n",
       " 'были': 105,\n",
       " 'было': 78,\n",
       " 'в': 2057,\n",
       " 'во': 88,\n",
       " 'войны': 31,\n",
       " 'времени': 31,\n",
       " 'время': 100,\n",
       " 'все': 37,\n",
       " 'всего': 30,\n",
       " 'где': 53,\n",
       " 'гевара': 107,\n",
       " 'гевары': 52,\n",
       " 'год': 36,\n",
       " 'года': 260,\n",
       " 'году': 180,\n",
       " 'группы': 30,\n",
       " 'для': 249,\n",
       " 'до': 177,\n",
       " 'дороги': 40,\n",
       " 'других': 33,\n",
       " 'его': 247,\n",
       " 'ему': 45,\n",
       " 'её': 36,\n",
       " 'же': 66,\n",
       " 'за': 145,\n",
       " 'и': 1484,\n",
       " 'из': 239,\n",
       " 'или': 105,\n",
       " 'их': 80,\n",
       " 'к': 300,\n",
       " 'как': 140,\n",
       " 'когда': 44,\n",
       " 'компании': 33,\n",
       " 'которые': 44,\n",
       " 'который': 61,\n",
       " 'лет': 36,\n",
       " 'марк': 33,\n",
       " 'марка': 31,\n",
       " 'между': 42,\n",
       " 'на': 715,\n",
       " 'не': 288,\n",
       " 'но': 107,\n",
       " 'о': 209,\n",
       " 'об': 42,\n",
       " 'области': 32,\n",
       " 'один': 30,\n",
       " 'однако': 44,\n",
       " 'октября': 30,\n",
       " 'он': 226,\n",
       " 'они': 55,\n",
       " 'от': 174,\n",
       " 'первый': 34,\n",
       " 'перед': 34,\n",
       " 'по': 297,\n",
       " 'под': 48,\n",
       " 'после': 71,\n",
       " 'при': 94,\n",
       " 'примечания': 36,\n",
       " 'против': 50,\n",
       " 'революции': 32,\n",
       " 'республики': 50,\n",
       " 'речи': 43,\n",
       " 'с': 565,\n",
       " 'своей': 29,\n",
       " 'своих': 31,\n",
       " 'со': 60,\n",
       " 'сочинений': 32,\n",
       " 'стал': 39,\n",
       " 'сша': 29,\n",
       " 'так': 49,\n",
       " 'также': 97,\n",
       " 'тем': 36,\n",
       " 'то': 45,\n",
       " 'того': 39,\n",
       " 'только': 51,\n",
       " 'том': 35,\n",
       " 'у': 77,\n",
       " 'уже': 38,\n",
       " 'узбекистан': 33,\n",
       " 'фаи': 54,\n",
       " 'цицерон': 169,\n",
       " 'цицерона': 205,\n",
       " 'че': 233,\n",
       " 'через': 32,\n",
       " 'что': 240,\n",
       " 'эрнесто': 75,\n",
       " 'это': 75,\n",
       " 'этого': 50,\n",
       " 'этом': 46,\n",
       " 'этот': 37,\n",
       " 'я': 30}"
      ]
     },
     "execution_count": 10,
     "metadata": {
      "tags": []
     },
     "output_type": "execute_result"
    }
   ],
   "source": [
    "# проверка\n",
    "collect_freqlist(wiki_texts['ru'])"
   ]
  },
  {
   "cell_type": "code",
   "execution_count": 11,
   "metadata": {
    "colab": {},
    "colab_type": "code",
    "id": "PVCHWvJ53IpR"
   },
   "outputs": [],
   "source": [
    "freq_lists = {}\n",
    "for lang in TEST_LANGS:\n",
    "    freq_lists[lang] = collect_freqlist(wiki_texts[lang])"
   ]
  },
  {
   "cell_type": "markdown",
   "metadata": {
    "colab_type": "text",
    "id": "twrmWoH-3IpT"
   },
   "source": [
    "Теперь всё готово, чтобы сделать первую определялку языка!"
   ]
  },
  {
   "cell_type": "code",
   "execution_count": 12,
   "metadata": {
    "colab": {},
    "colab_type": "code",
    "id": "s303QEYg3IpT"
   },
   "outputs": [],
   "source": [
    "def simple_lang_detect(freq_lists, text):\n",
    "  #тожже убрать\n",
    "  #создадим счётчик, который будет для каждого языка хранить информацию о том, сколько слов из поданного текста являются словами этого языка \n",
    "  #или нет \n",
    "    counts = Counter()\n",
    "    for lang, freq_list in freq_lists.items():\n",
    "        freq_list = Counter(freq_list)\n",
    "        for word in nltk.word_tokenize(text):\n",
    "            counts[lang] += int(freq_list[word] > 0)\n",
    "    return counts.most_common()"
   ]
  },
  {
   "cell_type": "code",
   "execution_count": 13,
   "metadata": {
    "colab": {
     "base_uri": "https://localhost:8080/",
     "height": 742
    },
    "colab_type": "code",
    "id": "R3CtzkM73IpV",
    "outputId": "9913b12e-d523-4752-a9ac-1f48eb3d374e"
   },
   "outputs": [
    {
     "name": "stderr",
     "output_type": "stream",
     "text": [
      "/usr/local/lib/python3.6/dist-packages/wikipedia/wikipedia.py:389: UserWarning: No parser was explicitly specified, so I'm using the best available HTML parser for this system (\"lxml\"). This usually isn't a problem, but if you run this code on another system, or in a different virtual environment, it may use a different parser and behave differently.\n",
      "\n",
      "The code that caused this warning is on line 389 of the file /usr/local/lib/python3.6/dist-packages/wikipedia/wikipedia.py. To get rid of this warning, pass the additional argument 'features=\"lxml\"' to the BeautifulSoup constructor.\n",
      "\n",
      "  lis = BeautifulSoup(html).find_all('li')\n"
     ]
    },
    {
     "name": "stdout",
     "output_type": "stream",
     "text": [
      "Skip A-Division 2002\n",
      "Athīna Manoukian\n",
      "Athīna Manoukian (in greco: Αθηνά Μανουκιάν, in armeno: Աթենա Մանուկյան?, traslitterato: At’ena Manowkyan; Atene, 22 maggio 1994) è una cantante greca con origini armene.\n",
      "Avrebbe dovuto rappresentare l'Armenia all'Eurovision Song Contest 2020 con il brano Chains on You, ma l'evento è stato annullato a causa della pandemia di COVID-19.\n",
      "\n",
      "\n",
      " Biografia \n",
      "Athīna Manoukian è salita alla ribalta nel 2007, con la sua vittoria al talent show televisivo This Is What's Missing trasmesso sulla rete greca Alpha Television Network. Nel 2008 ha partecipato alle selezioni greche per il Junior Eurovision Song Contest cantando To fili tīs Afroditīs e piazzandosi settima. Nel 2011 ha dato la voce al singolo Party Like a Freak, prodotto da DJ Kas. Nel 2017 una canzone scritta da lei, Palia mou agapī, è stata registrata da Elena Paparizou e inclusa nel suo album Ouranio toxo.Il 15 febbraio 2020 la cantante ha partecipato a Depi Evratesil, la selezione eurovisiva armena, cantando Chains on You. Avendo vinto la selezione, ha guadagnato il diritto di rappresentare il paese all'Eurovision Song Contest 2020 a Rotterdam. L'evento è stato tuttavia cancellato due mesi prima a causa della pandemia di COVID-19.\n",
      "\n",
      "\n",
      " Discografia \n",
      "\n",
      "\n",
      " Singoli \n",
      "2011 - Party Like a Freak (feat. DJ Kas)\n",
      "2012 - Na les pōs m' agapas\n",
      "2012 - I Surrender\n",
      "2014 - XO\n",
      "2020 - Chains on You\n",
      "2020 - Dolla\n",
      "\n",
      "\n",
      " Note \n",
      "\n",
      "\n",
      " Altri progetti \n",
      "\n",
      " Wikimedia Commons contiene immagini o altri file su Athena Manoukian\n",
      "\n",
      "\n",
      " Collegamenti esterni \n",
      "\n",
      " Sito ufficiale, su athenamanoukian.com. \n",
      "(EN) Athīna Manoukian, su Discogs, Zink Media. \n",
      "(EN) Athīna Manoukian, su MusicBrainz, MetaBrainz Foundation. \n",
      " Athena Manoukian, iTunes.\n",
      " Athena Manoukian, Spotify.\n"
     ]
    }
   ],
   "source": [
    "test_texts = get_texts_for_lang('it')[0]\n",
    "print(test_texts)"
   ]
  },
  {
   "cell_type": "code",
   "execution_count": 14,
   "metadata": {
    "colab": {
     "base_uri": "https://localhost:8080/",
     "height": 34
    },
    "colab_type": "code",
    "id": "u6Z7VdXI3IpW",
    "outputId": "4191fdb3-fe73-4d0f-8d3f-23344e063e4c"
   },
   "outputs": [
    {
     "data": {
      "text/plain": [
       "[('it', 66), ('es', 27), ('uk', 7), ('kk', 0), ('ru', 0), ('be', 0)]"
      ]
     },
     "execution_count": 14,
     "metadata": {
      "tags": []
     },
     "output_type": "execute_result"
    }
   ],
   "source": [
    "simple_lang_detect(freq_lists, test_texts)"
   ]
  },
  {
   "cell_type": "markdown",
   "metadata": {
    "colab_type": "text",
    "id": "fnfJHW843IpY"
   },
   "source": [
    "Попробуем оценить качество нашей определялки. Для этого установим `sklearn`, если его ещё нет, и возьмем оттуда функцию для подсчёта accuracy."
   ]
  },
  {
   "cell_type": "code",
   "execution_count": 15,
   "metadata": {
    "colab": {
     "base_uri": "https://localhost:8080/",
     "height": 101
    },
    "colab_type": "code",
    "id": "y9kUURxH3IpY",
    "outputId": "d02bfbeb-c1f2-4492-c25d-030ec8066215"
   },
   "outputs": [
    {
     "name": "stdout",
     "output_type": "stream",
     "text": [
      "Requirement already satisfied: sklearn in /usr/local/lib/python3.6/dist-packages (0.0)\n",
      "Requirement already satisfied: scikit-learn in /usr/local/lib/python3.6/dist-packages (from sklearn) (0.22.2.post1)\n",
      "Requirement already satisfied: numpy>=1.11.0 in /usr/local/lib/python3.6/dist-packages (from scikit-learn->sklearn) (1.18.5)\n",
      "Requirement already satisfied: scipy>=0.17.0 in /usr/local/lib/python3.6/dist-packages (from scikit-learn->sklearn) (1.4.1)\n",
      "Requirement already satisfied: joblib>=0.11 in /usr/local/lib/python3.6/dist-packages (from scikit-learn->sklearn) (0.16.0)\n"
     ]
    }
   ],
   "source": [
    "!pip install sklearn"
   ]
  },
  {
   "cell_type": "code",
   "execution_count": 16,
   "metadata": {
    "colab": {},
    "colab_type": "code",
    "id": "Q25dDPmw3IpZ"
   },
   "outputs": [],
   "source": [
    "from sklearn.metrics import accuracy_score"
   ]
  },
  {
   "cell_type": "markdown",
   "metadata": {
    "colab_type": "text",
    "id": "We4Wh48khKH9"
   },
   "source": [
    "вот и пригодился поставленный по порядку массив"
   ]
  },
  {
   "cell_type": "code",
   "execution_count": 17,
   "metadata": {
    "colab": {},
    "colab_type": "code",
    "id": "3ullc9-O3Ipb"
   },
   "outputs": [],
   "source": [
    "def test_simple_lang_detect(freq_lists, test_size):\n",
    "    results = []  # сюда будем писать результаты\n",
    "    gold = []     # сюда будем писать исходный язык\n",
    "    for lang in TEST_LANGS:\n",
    "        for text in get_texts_for_lang(lang, test_size):\n",
    "            predicted_lang = simple_lang_detect(freq_lists, text)[0][0]\n",
    "            results.append(predicted_lang)\n",
    "            gold.append(lang)\n",
    "    print(\"RESULTS:\")\n",
    "    print(\"%d languages\" % len(TEST_LANGS))\n",
    "    print(\"Test size: %d texts per language\" % test_size)\n",
    "    print(\"Accuracy: %.4f\" % accuracy_score(results, gold))"
   ]
  },
  {
   "cell_type": "code",
   "execution_count": 18,
   "metadata": {
    "colab": {
     "base_uri": "https://localhost:8080/",
     "height": 238
    },
    "colab_type": "code",
    "id": "MDavJybX3Ipd",
    "outputId": "a0446fab-d1ad-41a1-b6cc-4544154bd2d4"
   },
   "outputs": [
    {
     "name": "stderr",
     "output_type": "stream",
     "text": [
      "/usr/local/lib/python3.6/dist-packages/wikipedia/wikipedia.py:389: UserWarning: No parser was explicitly specified, so I'm using the best available HTML parser for this system (\"lxml\"). This usually isn't a problem, but if you run this code on another system, or in a different virtual environment, it may use a different parser and behave differently.\n",
      "\n",
      "The code that caused this warning is on line 389 of the file /usr/local/lib/python3.6/dist-packages/wikipedia/wikipedia.py. To get rid of this warning, pass the additional argument 'features=\"lxml\"' to the BeautifulSoup constructor.\n",
      "\n",
      "  lis = BeautifulSoup(html).find_all('li')\n"
     ]
    },
    {
     "name": "stdout",
     "output_type": "stream",
     "text": [
      "Skip BKJ\n",
      "Skip Фащівка\n",
      "Skip Тузла\n",
      "RESULTS:\n",
      "6 languages\n",
      "Test size: 10 texts per language\n",
      "Accuracy: 1.0000\n"
     ]
    }
   ],
   "source": [
    "# проверка\n",
    "test_simple_lang_detect(freq_lists, 10)"
   ]
  },
  {
   "cell_type": "markdown",
   "metadata": {
    "colab_type": "text",
    "id": "OA3Jks17hZNs"
   },
   "source": [
    "### ТУТ КВИЗ!!!!!!!!!!!"
   ]
  },
  {
   "cell_type": "markdown",
   "metadata": {
    "colab_type": "text",
    "id": "TiXZGRXM3Ipf"
   },
   "source": [
    "## Машинное обучение - если успеем\n",
    "\n",
    "Будем говорить о **supervised** методах (обучение с учителем):\n",
    "\n",
    "* У нас есть пары `(признаки, класс)`\n",
    "* Классификатор обучается на них — подбирает подходящую функцию отображения признаков в множество классов\n",
    "* После этого можно применять полученную модель для предсказаний на новых данных\n",
    "\n",
    "Признаки могут быть разные:\n",
    "* средняя длина слова\n",
    "* минимальная длина слова\n",
    "* максимальная длина слова\n",
    "* …"
   ]
  },
  {
   "cell_type": "markdown",
   "metadata": {
    "colab_type": "text",
    "id": "MWOfXYQb3Ipg"
   },
   "source": [
    "Для определения языка часто используют не слова, а последовательности символов (символьные энграммы / character ngrams). Например, 3-граммы:\n",
    "```\n",
    "сим, имв, мво, вол, оло, лов\n",
    "```\n",
    "\n",
    "Из обучающих данных соберем словарь символьных энграмм $V$. \n",
    "Тогда каждый текст сможем представить в виде вектора длины $|V|$, где каждый признак показывает, присутствует ли соответствующая энграмма в тексте. Если эти значения будут просто $0$/$1$, то не учитывается \"важность\" последовательности для языка.\n",
    "\n",
    "Будем использовать $tf \\cdot idf$:\n",
    "\n",
    "$tf \\cdot idf (n, d) = \\frac{count(n_d)}{\\sum_{w \\in d}count(w)} \\cdot log\\frac{|D|}{|\\{d \\in D | n \\in d\\}|}$\n",
    "\n",
    "где $n$ - энграмма, $d$ - документ, а $D$ - весь корпус (на данном языке)"
   ]
  },
  {
   "cell_type": "code",
   "execution_count": 20,
   "metadata": {
    "colab": {
     "base_uri": "https://localhost:8080/",
     "height": 1000
    },
    "colab_type": "code",
    "id": "QYCDVKsX3Iph",
    "outputId": "99faf9fc-cb86-4621-871b-b6b7bf948909"
   },
   "outputs": [
    {
     "name": "stdout",
     "output_type": "stream",
     "text": [
      "\n",
      "\n",
      "\n",
      "0\n",
      "\n",
      "01\n",
      "\n",
      "01 \n",
      "\n",
      "01 о\n",
      "\n",
      "1\n",
      "\n",
      "1 \n",
      "\n",
      "1 а\n",
      "\n",
      "1 ап\n",
      "\n",
      "10\n",
      "\n",
      "10 \n",
      "\n",
      "10 и\n",
      "\n",
      "10\"\n",
      "\n",
      "10\" \n",
      "\n",
      "10x\n",
      "\n",
      "10x8\n",
      "\n",
      "11\n",
      "\n",
      "11 \n",
      "\n",
      "11 д\n",
      "\n",
      "11 к\n",
      "\n",
      "12\n",
      "\n",
      "12 \n",
      "\n",
      "12 о\n",
      "\n",
      "12x\n",
      "\n",
      "12x1\n",
      "\n",
      "13\n",
      "\n",
      "13 \n",
      "\n",
      "13 ф\n",
      "\n",
      "14\n",
      "\n",
      "14 \n",
      "\n",
      "14 м\n",
      "\n",
      "14\"\n",
      "\n",
      "14\" \n",
      "\n",
      "14x\n",
      "\n",
      "14x5\n",
      "\n",
      "15\n",
      "\n",
      "15 \n",
      "\n",
      "15 о\n",
      "\n",
      "16\n",
      "\n",
      "16x\n",
      "\n",
      "16x1\n",
      "\n",
      "17\n",
      "\n",
      "17 \n",
      "\n",
      "17 и\n",
      "\n",
      "18\n",
      "\n",
      "18\"\n",
      "\n",
      "18\" \n",
      "\n",
      "189\n",
      "\n",
      "1895\n",
      "\n",
      "18x\n",
      "\n",
      "18x1\n",
      "\n",
      "19\n",
      "\n",
      "19\"\n",
      "\n",
      "19\" \n",
      "\n",
      "191\n",
      "\n",
      "1913\n",
      "\n",
      "194\n",
      "\n",
      "1944\n",
      "\n",
      "195\n",
      "\n",
      "1950\n",
      "\n",
      "1951\n",
      "\n",
      "1954\n",
      "\n",
      "1955\n",
      "\n",
      "1958\n",
      "\n",
      "1959\n",
      "\n",
      "196\n",
      "\n",
      "1960\n",
      "\n",
      "1961\n",
      "\n",
      "1963\n",
      "\n",
      "1966\n",
      "\n",
      "1968\n",
      "\n",
      "1969\n",
      "\n",
      "197\n",
      "\n",
      "1970\n",
      "\n",
      "1972\n",
      "\n",
      "1975\n",
      "\n",
      "1977\n",
      "\n",
      "1978\n",
      "\n",
      "198\n",
      "\n",
      "1982\n",
      "\n",
      "1983\n",
      "\n",
      "1985\n",
      "\n",
      "1987\n",
      "\n",
      "1988\n",
      "\n",
      "199\n",
      "\n",
      "1991\n",
      "\n",
      "1992\n",
      "\n",
      "1995\n",
      "\n",
      "1997\n",
      "\n",
      "1998\n",
      "\n",
      "2\n",
      "\n",
      "2 \n",
      "\n",
      "2 и\n",
      "\n",
      "2 ию\n",
      "\n",
      "2 м\n",
      "\n",
      "2 ма\n",
      "\n",
      "2 о\n",
      "\n",
      "2 ок\n",
      "\n",
      "2 ф\n",
      "\n",
      "2 фе\n"
     ]
    }
   ],
   "source": [
    "from sklearn import feature_extraction\n",
    "\n",
    "vectorizer = feature_extraction.text.TfidfVectorizer(ngram_range=(1, 5), analyzer='char')\n",
    "vectorizer.fit(wiki_texts['ru'])\n",
    "for item in vectorizer.get_feature_names()[:100]:\n",
    "    print(item)"
   ]
  },
  {
   "cell_type": "code",
   "execution_count": 21,
   "metadata": {
    "colab": {
     "base_uri": "https://localhost:8080/",
     "height": 874
    },
    "colab_type": "code",
    "id": "7WHMuiAF3Ipj",
    "outputId": "22abafb6-794f-45b1-d06f-ccac5727da79"
   },
   "outputs": [
    {
     "name": "stdout",
     "output_type": "stream",
     "text": [
      "  (0, 188008)\t0.01715788435409392\n",
      "  (0, 188005)\t0.013375924089611878\n",
      "  (0, 187989)\t0.008324830704024896\n",
      "  (0, 187678)\t0.00421623371674364\n",
      "  (0, 187677)\t0.00421623371674364\n",
      "  (0, 185314)\t0.008088911205547208\n",
      "  (0, 185313)\t0.008088911205547208\n",
      "  (0, 185306)\t0.007452659276361862\n",
      "  (0, 185302)\t0.007452659276361862\n",
      "  (0, 184578)\t0.01715788435409392\n",
      "  (0, 184577)\t0.007260649421286288\n",
      "  (0, 184487)\t0.004793096598973769\n",
      "  (0, 183885)\t0.0464530208300998\n",
      "  (0, 183879)\t0.02572517059036742\n",
      "  (0, 183813)\t0.013775150338447475\n",
      "  (0, 183579)\t0.012623397779820562\n",
      "  (0, 183576)\t0.007865750504099423\n",
      "  (0, 183549)\t0.006901512786061823\n",
      "  (0, 183488)\t0.024764805315098132\n",
      "  (0, 183463)\t0.028892272867614487\n",
      "  (0, 180858)\t0.013375924089611878\n",
      "  (0, 180857)\t0.013375924089611878\n",
      "  (0, 180856)\t0.012623397779820562\n",
      "  (0, 180825)\t0.005980495018459153\n",
      "  (0, 180751)\t0.007865750504099423\n",
      "  :\t:\n",
      "  (0, 2556)\t0.027935526719461517\n",
      "  (0, 2231)\t0.023455893208600764\n",
      "  (0, 1823)\t0.01715788435409392\n",
      "  (0, 1821)\t0.012623397779820562\n",
      "  (0, 1781)\t0.009126203353755847\n",
      "  (0, 1428)\t0.004127467552516356\n",
      "  (0, 1382)\t0.28066779357111216\n",
      "  (0, 1072)\t0.01715788435409392\n",
      "  (0, 1071)\t0.011435999360335177\n",
      "  (0, 1070)\t0.010121591918165656\n",
      "  (0, 1052)\t0.01715788435409392\n",
      "  (0, 1049)\t0.014296941857214546\n",
      "  (0, 1044)\t0.013375924089611878\n",
      "  (0, 1043)\t0.01415435242724602\n",
      "  (0, 569)\t0.01715788435409392\n",
      "  (0, 568)\t0.01715788435409392\n",
      "  (0, 521)\t0.009762455282941193\n",
      "  (0, 519)\t0.009762455282941193\n",
      "  (0, 518)\t0.014905318552723723\n",
      "  (0, 517)\t0.011428228733152876\n",
      "  (0, 132)\t0.01715788435409392\n",
      "  (0, 131)\t0.01715788435409392\n",
      "  (0, 130)\t0.01715788435409392\n",
      "  (0, 90)\t0.010121591918165656\n",
      "  (0, 0)\t0.020637337762581778\n"
     ]
    }
   ],
   "source": [
    "print(vectorizer.transform(wiki_texts['ru'])[0])  # первый документ в векторном представлении"
   ]
  },
  {
   "cell_type": "code",
   "execution_count": 22,
   "metadata": {
    "colab": {
     "base_uri": "https://localhost:8080/",
     "height": 572
    },
    "colab_type": "code",
    "id": "CTmIMc9A3Ipl",
    "outputId": "43b1ead9-c1fa-4c8e-f60e-a362dcbdfc6a"
   },
   "outputs": [
    {
     "name": "stdout",
     "output_type": "stream",
     "text": [
      "Collecting matplotlib==3.0.3\n",
      "\u001b[?25l  Downloading https://files.pythonhosted.org/packages/e9/69/f5e05f578585ed9935247be3788b374f90701296a70c8871bcd6d21edb00/matplotlib-3.0.3-cp36-cp36m-manylinux1_x86_64.whl (13.0MB)\n",
      "\u001b[K     |████████████████████████████████| 13.0MB 317kB/s \n",
      "\u001b[?25hRequirement already satisfied: pyparsing!=2.0.4,!=2.1.2,!=2.1.6,>=2.0.1 in /usr/local/lib/python3.6/dist-packages (from matplotlib==3.0.3) (2.4.7)\n",
      "Requirement already satisfied: python-dateutil>=2.1 in /usr/local/lib/python3.6/dist-packages (from matplotlib==3.0.3) (2.8.1)\n",
      "Requirement already satisfied: numpy>=1.10.0 in /usr/local/lib/python3.6/dist-packages (from matplotlib==3.0.3) (1.18.5)\n",
      "Requirement already satisfied: cycler>=0.10 in /usr/local/lib/python3.6/dist-packages (from matplotlib==3.0.3) (0.10.0)\n",
      "Requirement already satisfied: kiwisolver>=1.0.1 in /usr/local/lib/python3.6/dist-packages (from matplotlib==3.0.3) (1.2.0)\n",
      "Requirement already satisfied: six>=1.5 in /usr/local/lib/python3.6/dist-packages (from python-dateutil>=2.1->matplotlib==3.0.3) (1.15.0)\n",
      "\u001b[31mERROR: plotnine 0.6.0 has requirement matplotlib>=3.1.1, but you'll have matplotlib 3.0.3 which is incompatible.\u001b[0m\n",
      "\u001b[31mERROR: mizani 0.6.0 has requirement matplotlib>=3.1.1, but you'll have matplotlib 3.0.3 which is incompatible.\u001b[0m\n",
      "\u001b[31mERROR: albumentations 0.1.12 has requirement imgaug<0.2.7,>=0.2.5, but you'll have imgaug 0.2.9 which is incompatible.\u001b[0m\n",
      "Installing collected packages: matplotlib\n",
      "  Found existing installation: matplotlib 3.2.2\n",
      "    Uninstalling matplotlib-3.2.2:\n",
      "      Successfully uninstalled matplotlib-3.2.2\n",
      "Successfully installed matplotlib-3.0.3\n"
     ]
    },
    {
     "data": {
      "application/vnd.colab-display-data+json": {
       "pip_warning": {
        "packages": [
         "matplotlib",
         "mpl_toolkits"
        ]
       }
      }
     },
     "metadata": {
      "tags": []
     },
     "output_type": "display_data"
    },
    {
     "name": "stdout",
     "output_type": "stream",
     "text": [
      "Requirement already satisfied: seaborn in /usr/local/lib/python3.6/dist-packages (0.10.1)\n",
      "Requirement already satisfied: numpy>=1.13.3 in /usr/local/lib/python3.6/dist-packages (from seaborn) (1.18.5)\n",
      "Requirement already satisfied: scipy>=1.0.1 in /usr/local/lib/python3.6/dist-packages (from seaborn) (1.4.1)\n",
      "Requirement already satisfied: pandas>=0.22.0 in /usr/local/lib/python3.6/dist-packages (from seaborn) (1.0.5)\n",
      "Requirement already satisfied: matplotlib>=2.1.2 in /usr/local/lib/python3.6/dist-packages (from seaborn) (3.0.3)\n",
      "Requirement already satisfied: python-dateutil>=2.6.1 in /usr/local/lib/python3.6/dist-packages (from pandas>=0.22.0->seaborn) (2.8.1)\n",
      "Requirement already satisfied: pytz>=2017.2 in /usr/local/lib/python3.6/dist-packages (from pandas>=0.22.0->seaborn) (2018.9)\n",
      "Requirement already satisfied: cycler>=0.10 in /usr/local/lib/python3.6/dist-packages (from matplotlib>=2.1.2->seaborn) (0.10.0)\n",
      "Requirement already satisfied: kiwisolver>=1.0.1 in /usr/local/lib/python3.6/dist-packages (from matplotlib>=2.1.2->seaborn) (1.2.0)\n",
      "Requirement already satisfied: pyparsing!=2.0.4,!=2.1.2,!=2.1.6,>=2.0.1 in /usr/local/lib/python3.6/dist-packages (from matplotlib>=2.1.2->seaborn) (2.4.7)\n",
      "Requirement already satisfied: six>=1.5 in /usr/local/lib/python3.6/dist-packages (from python-dateutil>=2.6.1->pandas>=0.22.0->seaborn) (1.15.0)\n"
     ]
    }
   ],
   "source": [
    "!pip install matplotlib==3.0.3\n",
    "!pip install seaborn"
   ]
  },
  {
   "cell_type": "code",
   "execution_count": 61,
   "metadata": {
    "colab": {
     "base_uri": "https://localhost:8080/",
     "height": 1000
    },
    "colab_type": "code",
    "id": "DSZMMiwBmyin",
    "outputId": "8f41832e-a4de-4d2d-e21b-10c92ff208b6"
   },
   "outputs": [
    {
     "name": "stdout",
     "output_type": "stream",
     "text": [
      "Collecting amap\n",
      "  Downloading https://files.pythonhosted.org/packages/76/ea/3fa652224ee8962aea1afa7c73617375f368030bcda87c152a531c7ed5e3/amap-0.1.26-py3-none-any.whl\n",
      "Collecting dask>=2.15.0\n",
      "\u001b[?25l  Downloading https://files.pythonhosted.org/packages/22/dd/9838205f3842c7b1c0d179ab88acac01abc11c85d4f48281795db93c6580/dask-2.26.0-py3-none-any.whl (843kB)\n",
      "\u001b[K     |████████████████████████████████| 849kB 5.7MB/s \n",
      "\u001b[?25hCollecting pandas<=0.25.3,>=0.25.1\n",
      "\u001b[?25l  Downloading https://files.pythonhosted.org/packages/52/3f/f6a428599e0d4497e1595030965b5ba455fd8ade6e977e3c819973c4b41d/pandas-0.25.3-cp36-cp36m-manylinux1_x86_64.whl (10.4MB)\n",
      "\u001b[K     |████████████████████████████████| 10.4MB 12.7MB/s \n",
      "\u001b[?25hCollecting brainio>=0.0.19\n",
      "  Downloading https://files.pythonhosted.org/packages/2d/99/bfafb4d7354dedff50cc2b7afd559f49a7d0a6881fee77c1f28304c9d659/brainio-0.0.20-py3-none-any.whl\n",
      "Requirement already satisfied: numpy in /usr/local/lib/python3.6/dist-packages (from amap) (1.18.5)\n",
      "Collecting multiprocessing-logging\n",
      "  Downloading https://files.pythonhosted.org/packages/2a/3f/9a123bb0f98b37956651dbc86d8a8821b6267ab96603c8a8b47d333e7f03/multiprocessing_logging-0.3.1-py2.py3-none-any.whl\n",
      "Collecting neuro>=0.0.13\n",
      "\u001b[?25l  Downloading https://files.pythonhosted.org/packages/18/66/010187e4e15d2fa561fcf3e75348059a06539827e1ffa9d6e85abf88ad52/neuro-0.0.20-py3-none-any.whl (43kB)\n",
      "\u001b[K     |████████████████████████████████| 51kB 5.5MB/s \n",
      "\u001b[?25hRequirement already satisfied: nibabel in /usr/local/lib/python3.6/dist-packages (from amap) (3.0.2)\n",
      "Collecting slurmio\n",
      "  Downloading https://files.pythonhosted.org/packages/bd/bc/9360d4f0faa3915af8443ecf1a2e9db88e53e80451e555b778e56a038119/slurmio-0.0.5-py3-none-any.whl\n",
      "Collecting configobj\n",
      "  Downloading https://files.pythonhosted.org/packages/64/61/079eb60459c44929e684fa7d9e2fdca403f67d64dd9dbac27296be2e0fab/configobj-5.0.6.tar.gz\n",
      "Collecting micrometa\n",
      "  Downloading https://files.pythonhosted.org/packages/3c/4c/aff23eba7ad4d0c8ab272dc8b4ee86f28e69c3ff801dbc849d5257d2009b/micrometa-0.0.11-py3-none-any.whl\n",
      "Requirement already satisfied: scikit-image in /usr/local/lib/python3.6/dist-packages (from amap) (0.16.2)\n",
      "Collecting napari[pyqt5]>=0.3.0\n",
      "\u001b[?25l  Downloading https://files.pythonhosted.org/packages/41/8a/373b39cc6a728bddf4b19aeb426314c7ef23b1f73465abd079516b3b7a46/napari-0.3.7-py3-none-any.whl (848kB)\n",
      "\u001b[K     |████████████████████████████████| 849kB 45.5MB/s \n",
      "\u001b[?25hCollecting fancylog\n",
      "  Downloading https://files.pythonhosted.org/packages/d3/ad/24b8fac49bfeb503e0a27021d429a0e779f6145e6ea909d85cd182331b17/fancylog-0.0.8-py3-none-any.whl\n",
      "Collecting configparser\n",
      "  Downloading https://files.pythonhosted.org/packages/4b/6b/01baa293090240cf0562cc5eccb69c6f5006282127f2b846fad011305c79/configparser-5.0.0-py3-none-any.whl\n",
      "Collecting imlib>=0.0.25\n",
      "\u001b[?25l  Downloading https://files.pythonhosted.org/packages/7e/fc/8cfd2a1cb3df58e3fa7c735a8f5e0a7169af2489ae07b3f5500898f27320/imlib-0.0.26-py3-none-any.whl (13.4MB)\n",
      "\u001b[K     |████████████████████████████████| 13.5MB 317kB/s \n",
      "\u001b[?25hRequirement already satisfied: tqdm in /usr/local/lib/python3.6/dist-packages (from amap) (4.41.1)\n",
      "Requirement already satisfied: natsort in /usr/local/lib/python3.6/dist-packages (from amap) (5.5.0)\n",
      "Requirement already satisfied: pyyaml in /usr/local/lib/python3.6/dist-packages (from dask>=2.15.0->amap) (3.13)\n",
      "Requirement already satisfied: python-dateutil>=2.6.1 in /usr/local/lib/python3.6/dist-packages (from pandas<=0.25.3,>=0.25.1->amap) (2.8.1)\n",
      "Requirement already satisfied: pytz>=2017.2 in /usr/local/lib/python3.6/dist-packages (from pandas<=0.25.3,>=0.25.1->amap) (2018.9)\n",
      "Requirement already satisfied: tifffile in /usr/local/lib/python3.6/dist-packages (from brainio>=0.0.19->amap) (2020.9.3)\n",
      "Collecting pynrrd\n",
      "  Downloading https://files.pythonhosted.org/packages/92/00/ef17d52fd125f357d7ead95e823091b2344194d34ce94e2fe839184f48e7/pynrrd-0.4.2-py2.py3-none-any.whl\n",
      "Requirement already satisfied: psutil in /usr/local/lib/python3.6/dist-packages (from brainio>=0.0.19->amap) (5.4.8)\n",
      "Collecting brainrender==0.4.0.0\n",
      "\u001b[?25l  Downloading https://files.pythonhosted.org/packages/6f/54/6d597b086b714f215fb047c5f077a9666a8c65d9613f4b945f00852b3c3f/brainrender-0.4.0.0-py3-none-any.whl (107kB)\n",
      "\u001b[K     |████████████████████████████████| 112kB 47.8MB/s \n",
      "\u001b[?25hRequirement already satisfied: six in /usr/local/lib/python3.6/dist-packages (from configobj->amap) (1.15.0)\n",
      "Collecting luddite\n",
      "  Downloading https://files.pythonhosted.org/packages/d8/1d/63007b9ca00d811785c83d2ae34776a1a1c015d6e58bd9e5fb5b3c4a4ae9/luddite-1.0.1-py2.py3-none-any.whl\n",
      "Requirement already satisfied: networkx>=2.0 in /usr/local/lib/python3.6/dist-packages (from scikit-image->amap) (2.5)\n",
      "Requirement already satisfied: pillow>=4.3.0 in /usr/local/lib/python3.6/dist-packages (from scikit-image->amap) (7.0.0)\n",
      "Requirement already satisfied: matplotlib!=3.0.0,>=2.0.0 in /usr/local/lib/python3.6/dist-packages (from scikit-image->amap) (3.0.3)\n",
      "Requirement already satisfied: imageio>=2.3.0 in /usr/local/lib/python3.6/dist-packages (from scikit-image->amap) (2.4.1)\n",
      "Requirement already satisfied: scipy>=0.19.0 in /usr/local/lib/python3.6/dist-packages (from scikit-image->amap) (1.4.1)\n",
      "Requirement already satisfied: PyWavelets>=0.4.0 in /usr/local/lib/python3.6/dist-packages (from scikit-image->amap) (1.1.1)\n",
      "Collecting cachey>=0.2.1\n",
      "  Downloading https://files.pythonhosted.org/packages/57/f0/e24f3e5d5d539abeb783087b87c26cfb99c259f1126700569e000243745a/cachey-0.2.1-py3-none-any.whl\n",
      "Collecting vispy>=0.6.4\n",
      "\u001b[?25l  Downloading https://files.pythonhosted.org/packages/cf/29/899797a9af4446d3ddf594f49b0fbd43076eafa1552e24690cfd99b0e2ff/vispy-0.6.4-cp36-cp36m-manylinux2010_x86_64.whl (2.3MB)\n",
      "\u001b[K     |████████████████████████████████| 2.3MB 46.0MB/s \n",
      "\u001b[?25hCollecting IPython>=7.7.0\n",
      "\u001b[?25l  Downloading https://files.pythonhosted.org/packages/23/6a/210816c943c9aeeb29e4e18a298f14bf0e118fe222a23e13bfcc2d41b0a4/ipython-7.16.1-py3-none-any.whl (785kB)\n",
      "\u001b[K     |████████████████████████████████| 788kB 43.3MB/s \n",
      "\u001b[?25hRequirement already satisfied: qtpy>=1.7.0 in /usr/local/lib/python3.6/dist-packages (from napari[pyqt5]>=0.3.0->amap) (1.9.0)\n",
      "Requirement already satisfied: toolz>=0.10.0 in /usr/local/lib/python3.6/dist-packages (from napari[pyqt5]>=0.3.0->amap) (0.10.0)\n",
      "Collecting napari-plugin-engine>=0.1.5\n",
      "  Downloading https://files.pythonhosted.org/packages/ef/6a/70e7c1b7074749f8301c9bd85e5d6f08c0b43cec4860a053ca5776040146/napari_plugin_engine-0.1.8-py3-none-any.whl\n",
      "Requirement already satisfied: wrapt>=1.11.1 in /usr/local/lib/python3.6/dist-packages (from napari[pyqt5]>=0.3.0->amap) (1.12.1)\n",
      "Collecting numpydoc>=0.9.2\n",
      "\u001b[?25l  Downloading https://files.pythonhosted.org/packages/60/1d/9e398c53d6ae27d5ab312ddc16a9ffe1bee0dfdf1d6ec88c40b0ca97582e/numpydoc-1.1.0-py3-none-any.whl (47kB)\n",
      "\u001b[K     |████████████████████████████████| 51kB 6.6MB/s \n",
      "\u001b[?25hCollecting napari-svg>=0.1.3\n",
      "  Downloading https://files.pythonhosted.org/packages/da/48/a8bbfc4a598b2699b597d760979e13e325321da4484aa120240fcc4e2216/napari-svg-0.1.4.tar.gz\n",
      "Requirement already satisfied: qtconsole>=4.5.1 in /usr/local/lib/python3.6/dist-packages (from napari[pyqt5]>=0.3.0->amap) (4.7.7)\n",
      "Requirement already satisfied: typing-extensions in /usr/local/lib/python3.6/dist-packages (from napari[pyqt5]>=0.3.0->amap) (3.7.4.3)\n",
      "Collecting appdirs>=1.4.4\n",
      "  Downloading https://files.pythonhosted.org/packages/3b/00/2344469e2084fb287c2e0b57b72910309874c3245463acd6cf5e3db69324/appdirs-1.4.4-py2.py3-none-any.whl\n",
      "Requirement already satisfied: importlib-metadata>=1.5.0; python_version < \"3.8\" in /usr/local/lib/python3.6/dist-packages (from napari[pyqt5]>=0.3.0->amap) (1.7.0)\n",
      "Collecting ipykernel>=5.1.1\n",
      "\u001b[?25l  Downloading https://files.pythonhosted.org/packages/52/19/c2812690d8b340987eecd2cbc18549b1d130b94c5d97fcbe49f5f8710edf/ipykernel-5.3.4-py3-none-any.whl (120kB)\n",
      "\u001b[K     |████████████████████████████████| 122kB 46.9MB/s \n",
      "\u001b[?25hRequirement already satisfied: PyOpenGL>=3.1.0 in /usr/local/lib/python3.6/dist-packages (from napari[pyqt5]>=0.3.0->amap) (3.1.5)\n",
      "Collecting PyQt5<5.15.0,>=5.12.3; extra == \"pyqt5\"\n",
      "\u001b[?25l  Downloading https://files.pythonhosted.org/packages/ce/18/81a91dab05831434d70a51bc5711fe83c4da5cc3bdbbfa798409ef3684c0/PyQt5-5.14.2-5.14.2-cp35.cp36.cp37.cp38-abi3-manylinux2014_x86_64.whl (63.6MB)\n",
      "\u001b[K     |████████████████████████████████| 63.6MB 76kB/s \n",
      "\u001b[?25hRequirement already satisfied: packaging in /usr/local/lib/python3.6/dist-packages (from fancylog->amap) (20.4)\n",
      "Collecting vtkplotter\n",
      "\u001b[?25l  Downloading https://files.pythonhosted.org/packages/a9/fa/0bed0508da904844b54d815c79520e0cc6ba9345a6eeefc3ca814ff4cdfc/vtkplotter-2020.3.1.tar.gz (18.4MB)\n",
      "\u001b[K     |████████████████████████████████| 18.4MB 244kB/s \n",
      "\u001b[?25hRequirement already satisfied: seaborn in /usr/local/lib/python3.6/dist-packages (from imlib>=0.0.25->amap) (0.10.1)\n",
      "Collecting k3d\n",
      "\u001b[?25l  Downloading https://files.pythonhosted.org/packages/66/36/6aa175a4ef76517653685b0c3ffde79defed6754557ba7a782fc73ef0259/K3D-2.9.0-py2.py3-none-any.whl (12.3MB)\n",
      "\u001b[K     |████████████████████████████████| 12.3MB 13.8MB/s \n",
      "\u001b[?25hCollecting vtk\n",
      "\u001b[?25l  Downloading https://files.pythonhosted.org/packages/f9/3e/fa760bdbcc20d9f2fedebace22ffc575335bb5f281e98ca9831475ff3f09/vtk-9.0.1-cp36-cp36m-manylinux2010_x86_64.whl (103.4MB)\n",
      "\u001b[K     |████████████████████████████████| 103.4MB 49kB/s \n",
      "\u001b[?25hRequirement already satisfied: msgpack in /usr/local/lib/python3.6/dist-packages (from brainrender==0.4.0.0->neuro>=0.0.13->amap) (1.0.0)\n",
      "Collecting allensdk\n",
      "\u001b[?25l  Downloading https://files.pythonhosted.org/packages/79/a5/2dd0b199e013e70f74b1fe4552aba20c8ca697680af639842f5fcd415776/allensdk-2.2.0-py3-none-any.whl (1.6MB)\n",
      "\u001b[K     |████████████████████████████████| 1.6MB 43.7MB/s \n",
      "\u001b[?25hRequirement already satisfied: sklearn in /usr/local/lib/python3.6/dist-packages (from brainrender==0.4.0.0->neuro>=0.0.13->amap) (0.0)\n",
      "Collecting morphapi\n",
      "\u001b[?25l  Downloading https://files.pythonhosted.org/packages/47/a1/081873297b0807978c9b2911b895719fd46bb41d108dce845dfb3836dc26/morphapi-0.1.1.8-py3-none-any.whl (49kB)\n",
      "\u001b[K     |████████████████████████████████| 51kB 6.3MB/s \n",
      "\u001b[?25hRequirement already satisfied: setuptools>=18.0 in /usr/local/lib/python3.6/dist-packages (from luddite->micrometa->amap) (50.3.0)\n",
      "Requirement already satisfied: decorator>=4.3.0 in /usr/local/lib/python3.6/dist-packages (from networkx>=2.0->scikit-image->amap) (4.4.2)\n",
      "Requirement already satisfied: pyparsing!=2.0.4,!=2.1.2,!=2.1.6,>=2.0.1 in /usr/local/lib/python3.6/dist-packages (from matplotlib!=3.0.0,>=2.0.0->scikit-image->amap) (2.4.7)\n",
      "Requirement already satisfied: cycler>=0.10 in /usr/local/lib/python3.6/dist-packages (from matplotlib!=3.0.0,>=2.0.0->scikit-image->amap) (0.10.0)\n",
      "Requirement already satisfied: kiwisolver>=1.0.1 in /usr/local/lib/python3.6/dist-packages (from matplotlib!=3.0.0,>=2.0.0->scikit-image->amap) (1.2.0)\n",
      "Requirement already satisfied: heapdict in /usr/local/lib/python3.6/dist-packages (from cachey>=0.2.1->napari[pyqt5]>=0.3.0->amap) (1.0.1)\n",
      "Collecting freetype-py\n",
      "\u001b[?25l  Downloading https://files.pythonhosted.org/packages/40/b5/56751e13f8b4a42f52c1b85ecce1446f83245190d820b42748eb8574ae43/freetype_py-2.2.0-py3-none-manylinux1_x86_64.whl (890kB)\n",
      "\u001b[K     |████████████████████████████████| 890kB 42.7MB/s \n",
      "\u001b[?25hRequirement already satisfied: pickleshare in /usr/local/lib/python3.6/dist-packages (from IPython>=7.7.0->napari[pyqt5]>=0.3.0->amap) (0.7.5)\n",
      "Requirement already satisfied: pygments in /usr/local/lib/python3.6/dist-packages (from IPython>=7.7.0->napari[pyqt5]>=0.3.0->amap) (2.6.1)\n",
      "Requirement already satisfied: pexpect; sys_platform != \"win32\" in /usr/local/lib/python3.6/dist-packages (from IPython>=7.7.0->napari[pyqt5]>=0.3.0->amap) (4.8.0)\n",
      "Requirement already satisfied: traitlets>=4.2 in /usr/local/lib/python3.6/dist-packages (from IPython>=7.7.0->napari[pyqt5]>=0.3.0->amap) (4.3.3)\n",
      "Requirement already satisfied: backcall in /usr/local/lib/python3.6/dist-packages (from IPython>=7.7.0->napari[pyqt5]>=0.3.0->amap) (0.2.0)\n",
      "Collecting prompt-toolkit!=3.0.0,!=3.0.1,<3.1.0,>=2.0.0\n",
      "\u001b[?25l  Downloading https://files.pythonhosted.org/packages/2b/c1/53ac685833200eb77ef485c2220dac5bfc255418e660790a9eb5cf3abf25/prompt_toolkit-3.0.7-py3-none-any.whl (355kB)\n",
      "\u001b[K     |████████████████████████████████| 358kB 46.1MB/s \n",
      "\u001b[?25hRequirement already satisfied: jedi>=0.10 in /usr/local/lib/python3.6/dist-packages (from IPython>=7.7.0->napari[pyqt5]>=0.3.0->amap) (0.17.2)\n",
      "Requirement already satisfied: sphinx>=1.6.5 in /usr/local/lib/python3.6/dist-packages (from numpydoc>=0.9.2->napari[pyqt5]>=0.3.0->amap) (1.8.5)\n",
      "Requirement already satisfied: Jinja2>=2.3 in /usr/local/lib/python3.6/dist-packages (from numpydoc>=0.9.2->napari[pyqt5]>=0.3.0->amap) (2.11.2)\n",
      "Requirement already satisfied: jupyter-core in /usr/local/lib/python3.6/dist-packages (from qtconsole>=4.5.1->napari[pyqt5]>=0.3.0->amap) (4.6.3)\n",
      "Requirement already satisfied: jupyter-client>=4.1 in /usr/local/lib/python3.6/dist-packages (from qtconsole>=4.5.1->napari[pyqt5]>=0.3.0->amap) (5.3.5)\n",
      "Requirement already satisfied: pyzmq>=17.1 in /usr/local/lib/python3.6/dist-packages (from qtconsole>=4.5.1->napari[pyqt5]>=0.3.0->amap) (19.0.2)\n",
      "Requirement already satisfied: ipython-genutils in /usr/local/lib/python3.6/dist-packages (from qtconsole>=4.5.1->napari[pyqt5]>=0.3.0->amap) (0.2.0)\n",
      "Requirement already satisfied: zipp>=0.5 in /usr/local/lib/python3.6/dist-packages (from importlib-metadata>=1.5.0; python_version < \"3.8\"->napari[pyqt5]>=0.3.0->amap) (3.1.0)\n",
      "Requirement already satisfied: tornado>=4.2 in /usr/local/lib/python3.6/dist-packages (from ipykernel>=5.1.1->napari[pyqt5]>=0.3.0->amap) (5.1.1)\n",
      "Collecting PyQt5-sip<13,>=12.7\n",
      "\u001b[?25l  Downloading https://files.pythonhosted.org/packages/f5/a7/3c52a17b065bcc69a6ca791b88901feeacd410235ec4b23441d975d0ecf4/PyQt5_sip-12.8.1-cp36-cp36m-manylinux1_x86_64.whl (278kB)\n",
      "\u001b[K     |████████████████████████████████| 286kB 49.8MB/s \n",
      "\u001b[?25hCollecting traittypes\n",
      "  Downloading https://files.pythonhosted.org/packages/9c/d1/8d5bd662703cc1764d986f6908a608777305946fa634d34c470cd4a1e729/traittypes-0.2.1-py2.py3-none-any.whl\n",
      "Requirement already satisfied: ipywidgets>=7.0.1 in /usr/local/lib/python3.6/dist-packages (from k3d->brainrender==0.4.0.0->neuro>=0.0.13->amap) (7.5.1)\n",
      "Collecting ipydatawidgets\n",
      "\u001b[?25l  Downloading https://files.pythonhosted.org/packages/3d/62/eb221e1efaebf42af438c109088fbeea00561e5567a202fc8425d7b9c34d/ipydatawidgets-4.0.1-py2.py3-none-any.whl (250kB)\n",
      "\u001b[K     |████████████████████████████████| 256kB 49.8MB/s \n",
      "\u001b[?25hCollecting glymur==0.8.19\n",
      "\u001b[?25l  Downloading https://files.pythonhosted.org/packages/d1/f9/01b464dd2b312c1f9bec26f985f2d0a9eef1a7390e407588578cc135fde0/Glymur-0.8.19.tar.gz (3.4MB)\n",
      "\u001b[K     |████████████████████████████████| 3.4MB 35.5MB/s \n",
      "\u001b[?25hCollecting simplejson<4.0.0,>=3.10.0\n",
      "\u001b[?25l  Downloading https://files.pythonhosted.org/packages/73/96/1e6b19045375890068d7342cbe280dd64ae73fd90b9735b5efb8d1e044a1/simplejson-3.17.2-cp36-cp36m-manylinux2010_x86_64.whl (127kB)\n",
      "\u001b[K     |████████████████████████████████| 133kB 48.1MB/s \n",
      "\u001b[?25hCollecting aiohttp==3.6.2\n",
      "\u001b[?25l  Downloading https://files.pythonhosted.org/packages/7c/39/7eb5f98d24904e0f6d3edb505d4aa60e3ef83c0a58d6fe18244a51757247/aiohttp-3.6.2-cp36-cp36m-manylinux1_x86_64.whl (1.2MB)\n",
      "\u001b[K     |████████████████████████████████| 1.2MB 42.7MB/s \n",
      "\u001b[?25hCollecting argschema<2.0.0\n",
      "  Downloading https://files.pythonhosted.org/packages/f0/ec/bd27b60a9fcbae7c56e40d87c268a58b75c83181779e78235b320462dba5/argschema-1.17.5-py2.py3-none-any.whl\n",
      "Collecting marshmallow==3.0.0rc6\n",
      "\u001b[?25l  Downloading https://files.pythonhosted.org/packages/dd/d6/b6b2b90a9e10edf99a8bea3bc5200619829f04c9d9c0c5b3839d68baf072/marshmallow-3.0.0rc6-py2.py3-none-any.whl (42kB)\n",
      "\u001b[K     |████████████████████████████████| 51kB 6.3MB/s \n",
      "\u001b[?25hCollecting tables==3.5.1\n",
      "\u001b[?25l  Downloading https://files.pythonhosted.org/packages/ab/79/4e1301a87f3b7f27aa6c9cb1aeba4875ff3edb62a6fe3872dc8f04983db4/tables-3.5.1-cp36-cp36m-manylinux1_x86_64.whl (4.3MB)\n",
      "\u001b[K     |████████████████████████████████| 4.3MB 34.8MB/s \n",
      "\u001b[?25hCollecting simpleitk<2.0.0\n",
      "\u001b[?25l  Downloading https://files.pythonhosted.org/packages/f8/d8/53338c34f71020725ffb3557846c80af96c29c03bc883551a2565aa68a7c/SimpleITK-1.2.4-cp36-cp36m-manylinux1_x86_64.whl (42.5MB)\n",
      "\u001b[K     |████████████████████████████████| 42.5MB 1.4MB/s \n",
      "\u001b[?25hCollecting statsmodels==0.9.0\n",
      "\u001b[?25l  Downloading https://files.pythonhosted.org/packages/85/d1/69ee7e757f657e7f527cbf500ec2d295396e5bcec873cf4eb68962c41024/statsmodels-0.9.0-cp36-cp36m-manylinux1_x86_64.whl (7.4MB)\n",
      "\u001b[K     |████████████████████████████████| 7.4MB 44.8MB/s \n",
      "\u001b[?25hRequirement already satisfied: xarray<0.16.0 in /usr/local/lib/python3.6/dist-packages (from allensdk->brainrender==0.4.0.0->neuro>=0.0.13->amap) (0.15.1)\n",
      "Requirement already satisfied: requests<3.0.0 in /usr/local/lib/python3.6/dist-packages (from allensdk->brainrender==0.4.0.0->neuro>=0.0.13->amap) (2.23.0)\n",
      "Collecting nest-asyncio==1.2.0\n",
      "  Downloading https://files.pythonhosted.org/packages/81/f3/e59eb5fa5c41c7e6ae9741ed18534dbfae15ad29040a3927396678934b28/nest_asyncio-1.2.0-py3-none-any.whl\n",
      "Requirement already satisfied: h5py<3.0.0,>=2.8 in /usr/local/lib/python3.6/dist-packages (from allensdk->brainrender==0.4.0.0->neuro>=0.0.13->amap) (2.10.0)\n",
      "Collecting psycopg2-binary<3.0.0,>=2.7\n",
      "\u001b[?25l  Downloading https://files.pythonhosted.org/packages/f2/1b/720b36697158113ca1b2221a8e96a470088ccf3770d182214689d1a96a07/psycopg2_binary-2.8.6-cp36-cp36m-manylinux1_x86_64.whl (3.0MB)\n",
      "\u001b[K     |████████████████████████████████| 3.0MB 42.4MB/s \n",
      "\u001b[?25hCollecting requests-toolbelt<1.0.0\n",
      "\u001b[?25l  Downloading https://files.pythonhosted.org/packages/60/ef/7681134338fc097acef8d9b2f8abe0458e4d87559c689a8c306d0957ece5/requests_toolbelt-0.9.1-py2.py3-none-any.whl (54kB)\n",
      "\u001b[K     |████████████████████████████████| 61kB 7.9MB/s \n",
      "\u001b[?25hRequirement already satisfied: future<1.0.0,>=0.14.3 in /usr/local/lib/python3.6/dist-packages (from allensdk->brainrender==0.4.0.0->neuro>=0.0.13->amap) (0.16.0)\n",
      "Collecting pynwb<2.0.0,>=1.3.2\n",
      "\u001b[?25l  Downloading https://files.pythonhosted.org/packages/6c/c8/5e0242557ba75e140cb1e076b434f8661702c98fedb949d99f7863342876/pynwb-1.4.0-py2.py3-none-any.whl (94kB)\n",
      "\u001b[K     |████████████████████████████████| 102kB 11.8MB/s \n",
      "\u001b[?25hCollecting scikit-build<1.0.0\n",
      "\u001b[?25l  Downloading https://files.pythonhosted.org/packages/78/c9/7c2c7397ea64e36ebb292446896edcdecbb8c1aa6b9a1a32f6f67984c3df/scikit_build-0.11.1-py2.py3-none-any.whl (72kB)\n",
      "\u001b[K     |████████████████████████████████| 81kB 8.2MB/s \n",
      "\u001b[?25hRequirement already satisfied: scikit-learn in /usr/local/lib/python3.6/dist-packages (from sklearn->brainrender==0.4.0.0->neuro>=0.0.13->amap) (0.22.2.post1)\n",
      "Collecting bg-atlasapi\n",
      "  Downloading https://files.pythonhosted.org/packages/c9/86/e9bcc8784499ae3bb0fcb4328b7a01ff47eaf6951b3fc365f2ef1fbe60f1/bg_atlasapi-0.2.0-py3-none-any.whl\n",
      "Collecting neurom\n",
      "\u001b[?25l  Downloading https://files.pythonhosted.org/packages/7c/e5/23f7731ad78659c57a5a49f2de8b551a08bf98838e45c0689b66fd289459/neurom-1.5.2.tar.gz (4.9MB)\n",
      "\u001b[K     |████████████████████████████████| 4.9MB 36.4MB/s \n",
      "\u001b[?25h  Installing build dependencies ... \u001b[?25l\u001b[?25hdone\n",
      "  Getting requirements to build wheel ... \u001b[?25l\u001b[?25hdone\n",
      "  Installing backend dependencies ... \u001b[?25l\u001b[?25hdone\n",
      "    Preparing wheel metadata ... \u001b[?25l\u001b[?25hdone\n",
      "Collecting vedo>=2020.3.3\n",
      "\u001b[?25l  Downloading https://files.pythonhosted.org/packages/09/b0/821fe86144ffbb6adc16ca768c9f64fae3738ae0996a0ac0fb04444e1449/vedo-2020.4.0.tar.gz (9.5MB)\n",
      "\u001b[K     |████████████████████████████████| 9.5MB 40.6MB/s \n",
      "\u001b[?25hRequirement already satisfied: ptyprocess>=0.5 in /usr/local/lib/python3.6/dist-packages (from pexpect; sys_platform != \"win32\"->IPython>=7.7.0->napari[pyqt5]>=0.3.0->amap) (0.6.0)\n",
      "Requirement already satisfied: wcwidth in /usr/local/lib/python3.6/dist-packages (from prompt-toolkit!=3.0.0,!=3.0.1,<3.1.0,>=2.0.0->IPython>=7.7.0->napari[pyqt5]>=0.3.0->amap) (0.2.5)\n",
      "Requirement already satisfied: parso<0.8.0,>=0.7.0 in /usr/local/lib/python3.6/dist-packages (from jedi>=0.10->IPython>=7.7.0->napari[pyqt5]>=0.3.0->amap) (0.7.1)\n",
      "Requirement already satisfied: babel!=2.0,>=1.3 in /usr/local/lib/python3.6/dist-packages (from sphinx>=1.6.5->numpydoc>=0.9.2->napari[pyqt5]>=0.3.0->amap) (2.8.0)\n",
      "Requirement already satisfied: alabaster<0.8,>=0.7 in /usr/local/lib/python3.6/dist-packages (from sphinx>=1.6.5->numpydoc>=0.9.2->napari[pyqt5]>=0.3.0->amap) (0.7.12)\n",
      "Requirement already satisfied: docutils>=0.11 in /usr/local/lib/python3.6/dist-packages (from sphinx>=1.6.5->numpydoc>=0.9.2->napari[pyqt5]>=0.3.0->amap) (0.15.2)\n",
      "Requirement already satisfied: sphinxcontrib-websupport in /usr/local/lib/python3.6/dist-packages (from sphinx>=1.6.5->numpydoc>=0.9.2->napari[pyqt5]>=0.3.0->amap) (1.2.4)\n",
      "Requirement already satisfied: imagesize in /usr/local/lib/python3.6/dist-packages (from sphinx>=1.6.5->numpydoc>=0.9.2->napari[pyqt5]>=0.3.0->amap) (1.2.0)\n",
      "Requirement already satisfied: snowballstemmer>=1.1 in /usr/local/lib/python3.6/dist-packages (from sphinx>=1.6.5->numpydoc>=0.9.2->napari[pyqt5]>=0.3.0->amap) (2.0.0)\n",
      "Requirement already satisfied: MarkupSafe>=0.23 in /usr/local/lib/python3.6/dist-packages (from Jinja2>=2.3->numpydoc>=0.9.2->napari[pyqt5]>=0.3.0->amap) (1.1.1)\n",
      "Requirement already satisfied: widgetsnbextension~=3.5.0 in /usr/local/lib/python3.6/dist-packages (from ipywidgets>=7.0.1->k3d->brainrender==0.4.0.0->neuro>=0.0.13->amap) (3.5.1)\n",
      "Requirement already satisfied: nbformat>=4.2.0 in /usr/local/lib/python3.6/dist-packages (from ipywidgets>=7.0.1->k3d->brainrender==0.4.0.0->neuro>=0.0.13->amap) (5.0.7)\n",
      "Requirement already satisfied: attrs>=17.3.0 in /usr/local/lib/python3.6/dist-packages (from aiohttp==3.6.2->allensdk->brainrender==0.4.0.0->neuro>=0.0.13->amap) (20.2.0)\n",
      "Collecting multidict<5.0,>=4.5\n",
      "\u001b[?25l  Downloading https://files.pythonhosted.org/packages/1a/95/f50352b5366e7d579e8b99631680a9e32e1b22adfa1629a8f23b1d22d5e2/multidict-4.7.6-cp36-cp36m-manylinux1_x86_64.whl (148kB)\n",
      "\u001b[K     |████████████████████████████████| 153kB 49.8MB/s \n",
      "\u001b[?25hRequirement already satisfied: chardet<4.0,>=2.0 in /usr/local/lib/python3.6/dist-packages (from aiohttp==3.6.2->allensdk->brainrender==0.4.0.0->neuro>=0.0.13->amap) (3.0.4)\n",
      "Collecting idna-ssl>=1.0; python_version < \"3.7\"\n",
      "  Downloading https://files.pythonhosted.org/packages/46/03/07c4894aae38b0de52b52586b24bf189bb83e4ddabfe2e2c8f2419eec6f4/idna-ssl-1.1.0.tar.gz\n",
      "Collecting async-timeout<4.0,>=3.0\n",
      "  Downloading https://files.pythonhosted.org/packages/e1/1e/5a4441be21b0726c4464f3f23c8b19628372f606755a9d2e46c187e65ec4/async_timeout-3.0.1-py3-none-any.whl\n",
      "Collecting yarl<2.0,>=1.0\n",
      "\u001b[?25l  Downloading https://files.pythonhosted.org/packages/a0/b4/2cbeaf2c3ea53865d9613b315fe24e78c66acedb1df7e4be4e064c87203b/yarl-1.5.1-cp36-cp36m-manylinux1_x86_64.whl (257kB)\n",
      "\u001b[K     |████████████████████████████████| 266kB 45.4MB/s \n",
      "\u001b[?25hRequirement already satisfied: numexpr>=2.6.2 in /usr/local/lib/python3.6/dist-packages (from tables==3.5.1->allensdk->brainrender==0.4.0.0->neuro>=0.0.13->amap) (2.7.1)\n",
      "Collecting mock>=2.0\n",
      "  Downloading https://files.pythonhosted.org/packages/cd/74/d72daf8dff5b6566db857cfd088907bb0355f5dd2914c4b3ef065c790735/mock-4.0.2-py3-none-any.whl\n",
      "Requirement already satisfied: patsy in /usr/local/lib/python3.6/dist-packages (from statsmodels==0.9.0->allensdk->brainrender==0.4.0.0->neuro>=0.0.13->amap) (0.5.1)\n",
      "Requirement already satisfied: idna<3,>=2.5 in /usr/local/lib/python3.6/dist-packages (from requests<3.0.0->allensdk->brainrender==0.4.0.0->neuro>=0.0.13->amap) (2.10)\n",
      "Requirement already satisfied: certifi>=2017.4.17 in /usr/local/lib/python3.6/dist-packages (from requests<3.0.0->allensdk->brainrender==0.4.0.0->neuro>=0.0.13->amap) (2020.6.20)\n",
      "Requirement already satisfied: urllib3!=1.25.0,!=1.25.1,<1.26,>=1.21.1 in /usr/local/lib/python3.6/dist-packages (from requests<3.0.0->allensdk->brainrender==0.4.0.0->neuro>=0.0.13->amap) (1.24.3)\n",
      "Collecting hdmf<3,>=2.1.0\n",
      "\u001b[?25l  Downloading https://files.pythonhosted.org/packages/8b/b8/1af8d22ed2706327f8495b49d6382d42eb250e86987f425d9bea0da1be60/hdmf-2.2.0-py2.py3-none-any.whl (132kB)\n",
      "\u001b[K     |████████████████████████████████| 133kB 44.9MB/s \n",
      "\u001b[?25hCollecting distro\n",
      "  Downloading https://files.pythonhosted.org/packages/25/b7/b3c4270a11414cb22c6352ebc7a83aaa3712043be29daa05018fd5a5c956/distro-1.5.0-py2.py3-none-any.whl\n",
      "Requirement already satisfied: wheel>=0.29.0 in /usr/local/lib/python3.6/dist-packages (from scikit-build<1.0.0->allensdk->brainrender==0.4.0.0->neuro>=0.0.13->amap) (0.35.1)\n",
      "Requirement already satisfied: joblib>=0.11 in /usr/local/lib/python3.6/dist-packages (from scikit-learn->sklearn->brainrender==0.4.0.0->neuro>=0.0.13->amap) (0.16.0)\n",
      "Requirement already satisfied: click in /usr/local/lib/python3.6/dist-packages (from bg-atlasapi->morphapi->brainrender==0.4.0.0->neuro>=0.0.13->amap) (7.1.2)\n",
      "Collecting treelib\n",
      "  Downloading https://files.pythonhosted.org/packages/04/b0/2269c328abffbb63979f7143351a24a066776b87526d79956aea5018b80a/treelib-1.6.1.tar.gz\n",
      "Collecting rich\n",
      "\u001b[?25l  Downloading https://files.pythonhosted.org/packages/58/2c/d04cb7fa7fdf8c89f3bc79b859b74f283369f78dc8caae3e1b91acc1d624/rich-6.2.0-py3-none-any.whl (150kB)\n",
      "\u001b[K     |████████████████████████████████| 153kB 46.5MB/s \n",
      "\u001b[?25hCollecting bg-space\n",
      "  Downloading https://files.pythonhosted.org/packages/b2/eb/b32a5c28b786b298af62261d202c2d1137b2a2c011e297fb783fa1ec74c8/bg_space-0.5.0.tar.gz\n",
      "  Installing build dependencies ... \u001b[?25l\u001b[?25hdone\n",
      "  Getting requirements to build wheel ... \u001b[?25l\u001b[?25hdone\n",
      "    Preparing wheel metadata ... \u001b[?25l\u001b[?25hdone\n",
      "Collecting meshio\n",
      "\u001b[?25l  Downloading https://files.pythonhosted.org/packages/da/16/6b97ab8ab52cefce95494623f45648ac5c19c07e29bc24bd5505633be388/meshio-4.2.0-py3-none-any.whl (142kB)\n",
      "\u001b[K     |████████████████████████████████| 143kB 48.4MB/s \n",
      "\u001b[?25hRequirement already satisfied: sphinxcontrib-serializinghtml in /usr/local/lib/python3.6/dist-packages (from sphinxcontrib-websupport->sphinx>=1.6.5->numpydoc>=0.9.2->napari[pyqt5]>=0.3.0->amap) (1.1.4)\n",
      "Requirement already satisfied: notebook>=4.4.1 in /usr/local/lib/python3.6/dist-packages (from widgetsnbextension~=3.5.0->ipywidgets>=7.0.1->k3d->brainrender==0.4.0.0->neuro>=0.0.13->amap) (5.3.1)\n",
      "Requirement already satisfied: jsonschema!=2.5.0,>=2.4 in /usr/local/lib/python3.6/dist-packages (from nbformat>=4.2.0->ipywidgets>=7.0.1->k3d->brainrender==0.4.0.0->neuro>=0.0.13->amap) (2.6.0)\n",
      "Collecting ruamel.yaml>=0.15\n",
      "\u001b[?25l  Downloading https://files.pythonhosted.org/packages/7e/39/186f14f3836ac5d2a6a042c8de69988770e8b9abb537610edc429e4914aa/ruamel.yaml-0.16.12-py2.py3-none-any.whl (111kB)\n",
      "\u001b[K     |████████████████████████████████| 112kB 44.5MB/s \n",
      "\u001b[?25hCollecting colorama<0.5.0,>=0.4.0\n",
      "  Downloading https://files.pythonhosted.org/packages/c9/dc/45cdef1b4d119eb96316b3117e6d5708a08029992b2fee2c143c7a0a5cc5/colorama-0.4.3-py2.py3-none-any.whl\n",
      "Requirement already satisfied: dataclasses<0.8,>=0.7; python_version >= \"3.6\" and python_version < \"3.7\" in /usr/local/lib/python3.6/dist-packages (from rich->bg-atlasapi->morphapi->brainrender==0.4.0.0->neuro>=0.0.13->amap) (0.7)\n",
      "Collecting commonmark<0.10.0,>=0.9.0\n",
      "\u001b[?25l  Downloading https://files.pythonhosted.org/packages/b1/92/dfd892312d822f36c55366118b95d914e5f16de11044a27cf10a7d71bbbf/commonmark-0.9.1-py2.py3-none-any.whl (51kB)\n",
      "\u001b[K     |████████████████████████████████| 51kB 6.7MB/s \n",
      "\u001b[?25hRequirement already satisfied: Send2Trash in /usr/local/lib/python3.6/dist-packages (from notebook>=4.4.1->widgetsnbextension~=3.5.0->ipywidgets>=7.0.1->k3d->brainrender==0.4.0.0->neuro>=0.0.13->amap) (1.5.0)\n",
      "Requirement already satisfied: nbconvert in /usr/local/lib/python3.6/dist-packages (from notebook>=4.4.1->widgetsnbextension~=3.5.0->ipywidgets>=7.0.1->k3d->brainrender==0.4.0.0->neuro>=0.0.13->amap) (5.6.1)\n",
      "Requirement already satisfied: terminado>=0.8.1 in /usr/local/lib/python3.6/dist-packages (from notebook>=4.4.1->widgetsnbextension~=3.5.0->ipywidgets>=7.0.1->k3d->brainrender==0.4.0.0->neuro>=0.0.13->amap) (0.8.3)\n",
      "Collecting ruamel.yaml.clib>=0.1.2; platform_python_implementation == \"CPython\" and python_version < \"3.9\"\n",
      "\u001b[?25l  Downloading https://files.pythonhosted.org/packages/88/ff/ec25dc01ef04232a9e68ff18492e37dfa01f1f58172e702ad4f38536d41b/ruamel.yaml.clib-0.2.2-cp36-cp36m-manylinux1_x86_64.whl (549kB)\n",
      "\u001b[K     |████████████████████████████████| 552kB 45.5MB/s \n",
      "\u001b[?25hRequirement already satisfied: entrypoints>=0.2.2 in /usr/local/lib/python3.6/dist-packages (from nbconvert->notebook>=4.4.1->widgetsnbextension~=3.5.0->ipywidgets>=7.0.1->k3d->brainrender==0.4.0.0->neuro>=0.0.13->amap) (0.3)\n",
      "Requirement already satisfied: defusedxml in /usr/local/lib/python3.6/dist-packages (from nbconvert->notebook>=4.4.1->widgetsnbextension~=3.5.0->ipywidgets>=7.0.1->k3d->brainrender==0.4.0.0->neuro>=0.0.13->amap) (0.6.0)\n",
      "Requirement already satisfied: mistune<2,>=0.8.1 in /usr/local/lib/python3.6/dist-packages (from nbconvert->notebook>=4.4.1->widgetsnbextension~=3.5.0->ipywidgets>=7.0.1->k3d->brainrender==0.4.0.0->neuro>=0.0.13->amap) (0.8.4)\n",
      "Requirement already satisfied: testpath in /usr/local/lib/python3.6/dist-packages (from nbconvert->notebook>=4.4.1->widgetsnbextension~=3.5.0->ipywidgets>=7.0.1->k3d->brainrender==0.4.0.0->neuro>=0.0.13->amap) (0.4.4)\n",
      "Requirement already satisfied: pandocfilters>=1.4.1 in /usr/local/lib/python3.6/dist-packages (from nbconvert->notebook>=4.4.1->widgetsnbextension~=3.5.0->ipywidgets>=7.0.1->k3d->brainrender==0.4.0.0->neuro>=0.0.13->amap) (1.4.2)\n",
      "Requirement already satisfied: bleach in /usr/local/lib/python3.6/dist-packages (from nbconvert->notebook>=4.4.1->widgetsnbextension~=3.5.0->ipywidgets>=7.0.1->k3d->brainrender==0.4.0.0->neuro>=0.0.13->amap) (3.1.5)\n",
      "Requirement already satisfied: webencodings in /usr/local/lib/python3.6/dist-packages (from bleach->nbconvert->notebook>=4.4.1->widgetsnbextension~=3.5.0->ipywidgets>=7.0.1->k3d->brainrender==0.4.0.0->neuro>=0.0.13->amap) (0.5.1)\n",
      "Building wheels for collected packages: neurom, bg-space\n",
      "  Building wheel for neurom (PEP 517) ... \u001b[?25l\u001b[?25hdone\n",
      "  Created wheel for neurom: filename=neurom-1.5.2-cp36-none-any.whl size=228671 sha256=7f5793ebb6b8877c0dc80b46216ef5c784b7317cac20291f158d82d90174e2c5\n",
      "  Stored in directory: /root/.cache/pip/wheels/ed/cb/a6/f71acbad061a25ee41b863aca2aa7060d45ebdb1836e2eb117\n",
      "  Building wheel for bg-space (PEP 517) ... \u001b[?25l\u001b[?25hdone\n",
      "  Created wheel for bg-space: filename=bg_space-0.5.0-cp36-none-any.whl size=10474 sha256=15dccb4183e7ef7a2ebe99cd86cf3180cae0e875d50f9d416cff597d391395bd\n",
      "  Stored in directory: /root/.cache/pip/wheels/34/4e/d5/3fba3e7861313be628bad4365d7757f4efb8aa1c857825e85f\n",
      "Successfully built neurom bg-space\n",
      "Building wheels for collected packages: configobj, napari-svg, vtkplotter, glymur, vedo, idna-ssl, treelib\n",
      "  Building wheel for configobj (setup.py) ... \u001b[?25l\u001b[?25hdone\n",
      "  Created wheel for configobj: filename=configobj-5.0.6-cp36-none-any.whl size=34547 sha256=e20f80826900fd098a9aaa86a4e087cbd0e1481eb3bc3a749497f8669f883418\n",
      "  Stored in directory: /root/.cache/pip/wheels/f1/e4/16/4981ca97c2d65106b49861e0b35e2660695be7219a2d351ee0\n",
      "  Building wheel for napari-svg (setup.py) ... \u001b[?25l\u001b[?25hdone\n",
      "  Created wheel for napari-svg: filename=napari_svg-0.1.4-cp36-none-any.whl size=12106 sha256=7c986b2c7abcef273f43d53767006adb4e8207f6b01c0c994b862c130953bd2d\n",
      "  Stored in directory: /root/.cache/pip/wheels/e3/08/24/2597f8434bff87e7063a4793d89d3122b44da0e49d35852015\n",
      "  Building wheel for vtkplotter (setup.py) ... \u001b[?25l\u001b[?25hdone\n",
      "  Created wheel for vtkplotter: filename=vtkplotter-2020.3.1-cp36-none-any.whl size=18588854 sha256=bfddfb40f7f374370e88bdfe625c1db2db0570de8e7061a321dfb87ea1eaba32\n",
      "  Stored in directory: /root/.cache/pip/wheels/a3/66/a6/471f5b098c664c614187bec2a584eae785fcd3416909651a0c\n",
      "  Building wheel for glymur (setup.py) ... \u001b[?25l\u001b[?25hdone\n",
      "  Created wheel for glymur: filename=Glymur-0.8.19-cp36-none-any.whl size=2722000 sha256=f5802b1cde2dab3e8997876f1a6c889d2af686f01d48e2bf2f6f35c42d2d0bea\n",
      "  Stored in directory: /root/.cache/pip/wheels/6a/c6/f6/918d148fb2aa6a13606af5475644e8116e9398485c36f0d995\n",
      "  Building wheel for vedo (setup.py) ... \u001b[?25l\u001b[?25hdone\n",
      "  Created wheel for vedo: filename=vedo-2020.4.0-cp36-none-any.whl size=9635309 sha256=e9fa4df83c8b2c55c70b3f96bb462dbf488cde9fbd5a689f4fdb447f993a2066\n",
      "  Stored in directory: /root/.cache/pip/wheels/c1/0c/bb/c0a048d766d6bc527f3f4ec0ece43421b9de6a85dbba75f646\n",
      "  Building wheel for idna-ssl (setup.py) ... \u001b[?25l\u001b[?25hdone\n",
      "  Created wheel for idna-ssl: filename=idna_ssl-1.1.0-cp36-none-any.whl size=3161 sha256=c7c281fee9ecaed8d521c2e7eeaf7f248aad00cf32d68221036ee556afdc415b\n",
      "  Stored in directory: /root/.cache/pip/wheels/d3/00/b3/32d613e19e08a739751dd6bf998cfed277728f8b2127ad4eb7\n",
      "  Building wheel for treelib (setup.py) ... \u001b[?25l\u001b[?25hdone\n",
      "  Created wheel for treelib: filename=treelib-1.6.1-cp36-none-any.whl size=18369 sha256=a34220c806e590a8980ec13ed0d246f83c75f318042f928da93ca71f929c229f\n",
      "  Stored in directory: /root/.cache/pip/wheels/68/1d/92/c50ec52951ccebafb40f3b8f0beb28fbaf745431c14a17c497\n",
      "Successfully built configobj napari-svg vtkplotter glymur vedo idna-ssl treelib\n",
      "\u001b[31mERROR: plotnine 0.6.0 has requirement matplotlib>=3.1.1, but you'll have matplotlib 3.0.3 which is incompatible.\u001b[0m\n",
      "\u001b[31mERROR: nbclient 0.5.0 has requirement jupyter-client>=6.1.5, but you'll have jupyter-client 5.3.5 which is incompatible.\u001b[0m\n",
      "\u001b[31mERROR: mizani 0.6.0 has requirement matplotlib>=3.1.1, but you'll have matplotlib 3.0.3 which is incompatible.\u001b[0m\n",
      "\u001b[31mERROR: jupyter-console 5.2.0 has requirement prompt-toolkit<2.0.0,>=1.0.0, but you'll have prompt-toolkit 3.0.7 which is incompatible.\u001b[0m\n",
      "\u001b[31mERROR: google-colab 1.0.0 has requirement ipykernel~=4.10, but you'll have ipykernel 5.3.4 which is incompatible.\u001b[0m\n",
      "\u001b[31mERROR: google-colab 1.0.0 has requirement ipython~=5.5.0, but you'll have ipython 7.16.1 which is incompatible.\u001b[0m\n",
      "\u001b[31mERROR: google-colab 1.0.0 has requirement pandas~=1.0.0; python_version >= \"3.0\", but you'll have pandas 0.25.3 which is incompatible.\u001b[0m\n",
      "\u001b[31mERROR: fbprophet 0.7.1 has requirement pandas>=1.0.4, but you'll have pandas 0.25.3 which is incompatible.\u001b[0m\n",
      "\u001b[31mERROR: napari-svg 0.1.4 has requirement imageio>=2.5.0, but you'll have imageio 2.4.1 which is incompatible.\u001b[0m\n",
      "\u001b[31mERROR: napari 0.3.7 has requirement imageio>=2.5.0, but you'll have imageio 2.4.1 which is incompatible.\u001b[0m\n",
      "\u001b[31mERROR: napari 0.3.7 has requirement PyYAML>=5.1, but you'll have pyyaml 3.13 which is incompatible.\u001b[0m\n",
      "\u001b[31mERROR: bg-atlasapi 0.2.0 has requirement tqdm>=4.46.1, but you'll have tqdm 4.41.1 which is incompatible.\u001b[0m\n",
      "\u001b[31mERROR: neurom 1.5.2 has requirement matplotlib>=3.2.1, but you'll have matplotlib 3.0.3 which is incompatible.\u001b[0m\n",
      "\u001b[31mERROR: neurom 1.5.2 has requirement pandas>=1.0.5, but you'll have pandas 0.25.3 which is incompatible.\u001b[0m\n",
      "\u001b[31mERROR: morphapi 0.1.1.8 has requirement pyyaml>=5.3, but you'll have pyyaml 3.13 which is incompatible.\u001b[0m\n",
      "\u001b[31mERROR: brainrender 0.4.0.0 has requirement pyyaml>=5.3, but you'll have pyyaml 3.13 which is incompatible.\u001b[0m\n",
      "Installing collected packages: dask, pandas, slurmio, pynrrd, vtk, vtkplotter, configobj, luddite, configparser, micrometa, imlib, brainio, multiprocessing-logging, cachey, freetype-py, vispy, prompt-toolkit, IPython, napari-plugin-engine, numpydoc, napari-svg, appdirs, ipykernel, PyQt5-sip, PyQt5, napari, traittypes, ipydatawidgets, k3d, glymur, simplejson, multidict, idna-ssl, async-timeout, yarl, aiohttp, marshmallow, argschema, mock, tables, simpleitk, statsmodels, nest-asyncio, psycopg2-binary, requests-toolbelt, ruamel.yaml.clib, ruamel.yaml, hdmf, pynwb, distro, scikit-build, allensdk, treelib, colorama, commonmark, rich, bg-space, meshio, bg-atlasapi, neurom, vedo, morphapi, brainrender, neuro, fancylog, amap\n",
      "  Found existing installation: dask 2.12.0\n",
      "    Uninstalling dask-2.12.0:\n",
      "      Successfully uninstalled dask-2.12.0\n",
      "  Found existing installation: pandas 1.0.5\n",
      "    Uninstalling pandas-1.0.5:\n",
      "      Successfully uninstalled pandas-1.0.5\n",
      "  Found existing installation: prompt-toolkit 1.0.18\n",
      "    Uninstalling prompt-toolkit-1.0.18:\n",
      "      Successfully uninstalled prompt-toolkit-1.0.18\n",
      "  Found existing installation: ipython 5.5.0\n",
      "    Uninstalling ipython-5.5.0:\n",
      "      Successfully uninstalled ipython-5.5.0\n",
      "  Found existing installation: ipykernel 4.10.1\n",
      "    Uninstalling ipykernel-4.10.1:\n",
      "      Successfully uninstalled ipykernel-4.10.1\n",
      "  Found existing installation: tables 3.4.4\n",
      "    Uninstalling tables-3.4.4:\n",
      "      Successfully uninstalled tables-3.4.4\n",
      "  Found existing installation: statsmodels 0.10.2\n",
      "    Uninstalling statsmodels-0.10.2:\n",
      "      Successfully uninstalled statsmodels-0.10.2\n",
      "  Found existing installation: nest-asyncio 1.4.0\n",
      "    Uninstalling nest-asyncio-1.4.0:\n",
      "      Successfully uninstalled nest-asyncio-1.4.0\n",
      "Successfully installed IPython-7.16.1 PyQt5-5.14.2 PyQt5-sip-12.8.1 aiohttp-3.6.2 allensdk-2.2.0 amap-0.1.26 appdirs-1.4.4 argschema-1.17.5 async-timeout-3.0.1 bg-atlasapi-0.2.0 bg-space-0.5.0 brainio-0.0.20 brainrender-0.4.0.0 cachey-0.2.1 colorama-0.4.3 commonmark-0.9.1 configobj-5.0.6 configparser-5.0.0 dask-2.26.0 distro-1.5.0 fancylog-0.0.8 freetype-py-2.2.0 glymur-0.8.19 hdmf-2.2.0 idna-ssl-1.1.0 imlib-0.0.26 ipydatawidgets-4.0.1 ipykernel-5.3.4 k3d-2.9.0 luddite-1.0.1 marshmallow-3.0.0rc6 meshio-4.2.0 micrometa-0.0.11 mock-4.0.2 morphapi-0.1.1.8 multidict-4.7.6 multiprocessing-logging-0.3.1 napari-0.3.7 napari-plugin-engine-0.1.8 napari-svg-0.1.4 nest-asyncio-1.2.0 neuro-0.0.20 neurom-1.5.2 numpydoc-1.1.0 pandas-0.25.3 prompt-toolkit-3.0.7 psycopg2-binary-2.8.6 pynrrd-0.4.2 pynwb-1.4.0 requests-toolbelt-0.9.1 rich-6.2.0 ruamel.yaml-0.16.12 ruamel.yaml.clib-0.2.2 scikit-build-0.11.1 simpleitk-1.2.4 simplejson-3.17.2 slurmio-0.0.5 statsmodels-0.9.0 tables-3.5.1 traittypes-0.2.1 treelib-1.6.1 vedo-2020.4.0 vispy-0.6.4 vtk-9.0.1 vtkplotter-2020.3.1 yarl-1.5.1\n"
     ]
    },
    {
     "data": {
      "application/vnd.colab-display-data+json": {
       "pip_warning": {
        "packages": [
         "IPython",
         "ipykernel",
         "pandas",
         "prompt_toolkit"
        ]
       }
      }
     },
     "metadata": {
      "tags": []
     },
     "output_type": "display_data"
    }
   ],
   "source": [
    "! pip install amap"
   ]
  },
  {
   "cell_type": "code",
   "execution_count": 24,
   "metadata": {
    "colab": {
     "base_uri": "https://localhost:8080/",
     "height": 134
    },
    "colab_type": "code",
    "id": "I2UcB0m6hmSg",
    "outputId": "54830b4d-778f-4b5f-bd73-7f508f2cd1c5"
   },
   "outputs": [
    {
     "name": "stdout",
     "output_type": "stream",
     "text": [
      "Requirement already satisfied: matplotlib in /usr/local/lib/python3.6/dist-packages (3.0.3)\n",
      "Requirement already satisfied: numpy>=1.10.0 in /usr/local/lib/python3.6/dist-packages (from matplotlib) (1.18.5)\n",
      "Requirement already satisfied: kiwisolver>=1.0.1 in /usr/local/lib/python3.6/dist-packages (from matplotlib) (1.2.0)\n",
      "Requirement already satisfied: pyparsing!=2.0.4,!=2.1.2,!=2.1.6,>=2.0.1 in /usr/local/lib/python3.6/dist-packages (from matplotlib) (2.4.7)\n",
      "Requirement already satisfied: python-dateutil>=2.1 in /usr/local/lib/python3.6/dist-packages (from matplotlib) (2.8.1)\n",
      "Requirement already satisfied: cycler>=0.10 in /usr/local/lib/python3.6/dist-packages (from matplotlib) (0.10.0)\n",
      "Requirement already satisfied: six>=1.5 in /usr/local/lib/python3.6/dist-packages (from python-dateutil>=2.1->matplotlib) (1.15.0)\n"
     ]
    }
   ],
   "source": [
    "! pip install matplotlib"
   ]
  },
  {
   "cell_type": "code",
   "execution_count": 25,
   "metadata": {
    "colab": {
     "base_uri": "https://localhost:8080/",
     "height": 70
    },
    "colab_type": "code",
    "id": "8p3EHd4qnxAC",
    "outputId": "428abf2d-8b7e-4b5a-c759-3914fe8dd3d4"
   },
   "outputs": [
    {
     "name": "stderr",
     "output_type": "stream",
     "text": [
      "/usr/local/lib/python3.6/dist-packages/statsmodels/tools/_testing.py:19: FutureWarning: pandas.util.testing is deprecated. Use the functions in the public API at pandas.testing instead.\n",
      "  import pandas.util.testing as tm\n"
     ]
    }
   ],
   "source": [
    "from sklearn import pipeline\n",
    "from sklearn import naive_bayes\n",
    "import numpy as np\n",
    "\n",
    "#%pylab inline\n",
    "import matplotlib.pyplot as plt\n",
    "import seaborn as sns"
   ]
  },
  {
   "cell_type": "code",
   "execution_count": 26,
   "metadata": {
    "colab": {},
    "colab_type": "code",
    "id": "ManAEc9n3Ipo"
   },
   "outputs": [],
   "source": [
    "clf = pipeline.Pipeline([\n",
    "    ('vctr', feature_extraction.text.TfidfVectorizer(ngram_range=(1, 2), analyzer='char')), #на какие фичи смотрим\n",
    "    ('clf', naive_bayes.MultinomialNB()) #параметр\n",
    "])"
   ]
  },
  {
   "cell_type": "code",
   "execution_count": 27,
   "metadata": {
    "colab": {},
    "colab_type": "code",
    "id": "P6h0iZMI3Ipq"
   },
   "outputs": [],
   "source": [
    "all_texts = []\n",
    "lang_indices = []\n",
    "for lang in wiki_texts:\n",
    "    all_texts.extend(wiki_texts[lang])\n",
    "    lang_indices.extend([lang]*len(wiki_texts[lang])) # массив с названиями языками"
   ]
  },
  {
   "cell_type": "markdown",
   "metadata": {
    "colab_type": "text",
    "id": "1G9qjvmYiC4y"
   },
   "source": [
    "Нужно объяснять что такое extend?"
   ]
  },
  {
   "cell_type": "code",
   "execution_count": 28,
   "metadata": {
    "colab": {
     "base_uri": "https://localhost:8080/",
     "height": 302
    },
    "colab_type": "code",
    "id": "cCvMe95v3Ips",
    "outputId": "3336b454-193e-427e-e8d2-9ff88d1d9913"
   },
   "outputs": [
    {
     "data": {
      "text/plain": [
       "Pipeline(memory=None,\n",
       "         steps=[('vctr',\n",
       "                 TfidfVectorizer(analyzer='char', binary=False,\n",
       "                                 decode_error='strict',\n",
       "                                 dtype=<class 'numpy.float64'>,\n",
       "                                 encoding='utf-8', input='content',\n",
       "                                 lowercase=True, max_df=1.0, max_features=None,\n",
       "                                 min_df=1, ngram_range=(1, 2), norm='l2',\n",
       "                                 preprocessor=None, smooth_idf=True,\n",
       "                                 stop_words=None, strip_accents=None,\n",
       "                                 sublinear_tf=False,\n",
       "                                 token_pattern='(?u)\\\\b\\\\w\\\\w+\\\\b',\n",
       "                                 tokenizer=None, use_idf=True,\n",
       "                                 vocabulary=None)),\n",
       "                ('clf',\n",
       "                 MultinomialNB(alpha=1.0, class_prior=None, fit_prior=True))],\n",
       "         verbose=False)"
      ]
     },
     "execution_count": 28,
     "metadata": {
      "tags": []
     },
     "output_type": "execute_result"
    }
   ],
   "source": [
    "# Обучаем классификатор\n",
    "clf.fit(np.array(all_texts), np.array(lang_indices))"
   ]
  },
  {
   "cell_type": "code",
   "execution_count": 29,
   "metadata": {
    "colab": {
     "base_uri": "https://localhost:8080/",
     "height": 470
    },
    "colab_type": "code",
    "id": "Vk-znp6f3Ipt",
    "outputId": "886267fc-3aee-409f-d373-406df564149a"
   },
   "outputs": [
    {
     "data": {
      "text/plain": [
       "array(['es', 'es', 'es', 'es', 'es', 'es', 'es', 'es', 'es', 'es', 'es',\n",
       "       'es', 'es', 'es', 'es', 'es', 'es', 'es', 'es', 'es', 'es', 'es',\n",
       "       'es', 'es', 'es', 'es', 'es', 'es', 'es', 'es', 'es', 'es', 'es',\n",
       "       'es', 'es', 'es', 'es', 'es', 'es', 'es', 'es', 'es', 'es', 'es',\n",
       "       'es', 'es', 'es', 'es', 'it', 'it', 'it', 'it', 'it', 'it', 'it',\n",
       "       'it', 'it', 'it', 'it', 'it', 'it', 'it', 'it', 'it', 'it', 'it',\n",
       "       'it', 'it', 'it', 'it', 'it', 'it', 'it', 'it', 'it', 'it', 'it',\n",
       "       'it', 'it', 'it', 'it', 'it', 'it', 'it', 'it', 'it', 'it', 'it',\n",
       "       'it', 'it', 'it', 'it', 'it', 'it', 'it', 'it', 'it', 'kk', 'kk',\n",
       "       'kk', 'kk', 'kk', 'kk', 'kk', 'kk', 'kk', 'kk', 'kk', 'kk', 'kk',\n",
       "       'kk', 'kk', 'kk', 'kk', 'kk', 'kk', 'kk', 'kk', 'kk', 'kk', 'kk',\n",
       "       'kk', 'kk', 'kk', 'kk', 'kk', 'kk', 'kk', 'kk', 'kk', 'kk', 'kk',\n",
       "       'kk', 'kk', 'kk', 'kk', 'kk', 'kk', 'kk', 'kk', 'kk', 'kk', 'kk',\n",
       "       'kk', 'kk', 'kk', 'kk', 'ru', 'ru', 'ru', 'ru', 'ru', 'ru', 'ru',\n",
       "       'ru', 'ru', 'ru', 'ru', 'ru', 'ru', 'ru', 'ru', 'ru', 'ru', 'ru',\n",
       "       'ru', 'ru', 'ru', 'ru', 'ru', 'ru', 'ru', 'ru', 'ru', 'ru', 'ru',\n",
       "       'ru', 'ru', 'ru', 'ru', 'ru', 'ru', 'ru', 'ru', 'ru', 'ru', 'ru',\n",
       "       'ru', 'ru', 'ru', 'ru', 'ru', 'ru', 'uk', 'uk', 'uk', 'uk', 'uk',\n",
       "       'uk', 'uk', 'uk', 'uk', 'uk', 'uk', 'uk', 'uk', 'uk', 'uk', 'uk',\n",
       "       'uk', 'uk', 'uk', 'uk', 'uk', 'uk', 'uk', 'uk', 'uk', 'uk', 'uk',\n",
       "       'uk', 'uk', 'uk', 'uk', 'uk', 'uk', 'uk', 'uk', 'uk', 'uk', 'uk',\n",
       "       'uk', 'uk', 'uk', 'uk', 'uk', 'uk', 'uk', 'uk', 'uk', 'uk', 'be',\n",
       "       'be', 'be', 'be', 'be', 'be', 'be', 'be', 'be', 'be', 'be', 'be',\n",
       "       'be', 'be', 'be', 'be', 'be', 'be', 'be', 'be', 'be', 'be', 'be',\n",
       "       'be', 'be', 'be', 'be', 'be', 'be', 'be', 'be', 'be', 'be', 'be',\n",
       "       'be', 'be', 'be', 'be', 'be', 'be', 'be', 'be', 'be', 'be', 'be',\n",
       "       'be', 'be'], dtype='<U2')"
      ]
     },
     "execution_count": 29,
     "metadata": {
      "tags": []
     },
     "output_type": "execute_result"
    }
   ],
   "source": [
    "# Предсказываем результаты для тех же текстов ( я так проверяю, что у нас всё работает - так, очевидно, что смысла предсказыыать на текстах, которые он знает бессмысленно)\n",
    "clf.predict(all_texts)"
   ]
  },
  {
   "cell_type": "code",
   "execution_count": 30,
   "metadata": {
    "colab": {
     "base_uri": "https://localhost:8080/",
     "height": 154
    },
    "colab_type": "code",
    "id": "bM-uxf993Ipv",
    "outputId": "2b1619b0-2e27-445c-affe-18b26e1c22dd"
   },
   "outputs": [
    {
     "name": "stderr",
     "output_type": "stream",
     "text": [
      "/usr/local/lib/python3.6/dist-packages/wikipedia/wikipedia.py:389: UserWarning: No parser was explicitly specified, so I'm using the best available HTML parser for this system (\"lxml\"). This usually isn't a problem, but if you run this code on another system, or in a different virtual environment, it may use a different parser and behave differently.\n",
      "\n",
      "The code that caused this warning is on line 389 of the file /usr/local/lib/python3.6/dist-packages/wikipedia/wikipedia.py. To get rid of this warning, pass the additional argument 'features=\"lxml\"' to the BeautifulSoup constructor.\n",
      "\n",
      "  lis = BeautifulSoup(html).find_all('li')\n"
     ]
    },
    {
     "name": "stdout",
     "output_type": "stream",
     "text": [
      "Skip Дубовікі\n"
     ]
    },
    {
     "data": {
      "text/plain": [
       "array(['be', 'be', 'be', 'be', 'be', 'be', 'be', 'be', 'be'], dtype='<U2')"
      ]
     },
     "execution_count": 30,
     "metadata": {
      "tags": []
     },
     "output_type": "execute_result"
    }
   ],
   "source": [
    "# Скачиваем новые тексты из вики и предсказываем еще раз\n",
    "clf.predict(get_texts_for_lang('be'))"
   ]
  },
  {
   "cell_type": "code",
   "execution_count": 31,
   "metadata": {
    "colab": {},
    "colab_type": "code",
    "id": "DeoUXwXe3Ipw"
   },
   "outputs": [],
   "source": [
    "# Поделим корпус на train и test\n",
    "from sklearn.model_selection import train_test_split\n",
    "from sklearn import metrics\n",
    "\n",
    "X_train, X_test, y_train, y_test = train_test_split(all_texts,\n",
    "                                                    lang_indices,\n",
    "                                                    test_size=0.2,\n",
    "                                                    random_state=0)\n",
    "clf.fit(X_train, y_train)\n",
    "y_predicted = clf.predict(X_test)\n",
    "cm = metrics.confusion_matrix(y_test, y_predicted)"
   ]
  },
  {
   "cell_type": "code",
   "execution_count": 32,
   "metadata": {
    "colab": {
     "base_uri": "https://localhost:8080/",
     "height": 138
    },
    "colab_type": "code",
    "id": "jJDrn7gp3Ipy",
    "outputId": "354332ce-b589-4108-c87c-46812e9621bb"
   },
   "outputs": [
    {
     "name": "stdout",
     "output_type": "stream",
     "text": [
      "['it' 'ru' 'it' 'uk' 'be' 'es' 'kk' 'uk' 'es' 'es' 'ru' 'be' 'es' 'it'\n",
      " 'it' 'be' 'uk' 'be' 'ru' 'kk' 'ru' 'uk' 'kk' 'uk' 'kk' 'kk' 'uk' 'uk'\n",
      " 'kk' 'ru' 'uk' 'es' 'es' 'uk' 'it' 'be' 'kk' 'kk' 'es' 'it' 'it' 'ru'\n",
      " 'be' 'uk' 'be' 'kk' 'ru' 'uk' 'it' 'be' 'it' 'be' 'be' 'uk' 'it' 'ru'\n",
      " 'uk' 'es']\n",
      "['it', 'ru', 'it', 'uk', 'be', 'es', 'kk', 'uk', 'es', 'es', 'ru', 'be', 'es', 'it', 'it', 'be', 'uk', 'be', 'ru', 'kk', 'ru', 'uk', 'kk', 'uk', 'kk', 'kk', 'uk', 'uk', 'kk', 'ru', 'uk', 'es', 'es', 'uk', 'it', 'be', 'kk', 'kk', 'es', 'it', 'it', 'ru', 'be', 'uk', 'be', 'kk', 'ru', 'uk', 'it', 'be', 'it', 'be', 'be', 'uk', 'it', 'ru', 'uk', 'es']\n"
     ]
    }
   ],
   "source": [
    "print(y_predicted)\n",
    "print(y_test)"
   ]
  },
  {
   "cell_type": "code",
   "execution_count": 33,
   "metadata": {
    "colab": {},
    "colab_type": "code",
    "id": "ZQKO9WDx3Ipz"
   },
   "outputs": [],
   "source": [
    "# Нарисуем confusion matrix и оценим качество\n",
    "def test_classify(y_test, y_predicted, label_names):\n",
    "    cm = metrics.confusion_matrix(y_test, y_predicted)\n",
    "    \n",
    "    plt.figure(figsize=(10, 10))\n",
    "    plt.ylim(10.5, -0.5)\n",
    "    sns.heatmap(cm, annot=True,  fmt='', xticklabels=label_names, yticklabels=label_names)\n",
    "    plt.title('Confusion Matrix')\n",
    "    \n",
    "    print(metrics.classification_report(y_test, y_predicted,\n",
    "                                        target_names=label_names))"
   ]
  },
  {
   "cell_type": "code",
   "execution_count": 34,
   "metadata": {
    "colab": {
     "base_uri": "https://localhost:8080/",
     "height": 826
    },
    "colab_type": "code",
    "id": "GvUkK9oz3Ip0",
    "outputId": "7f2973d8-1568-46f0-875a-f358c1902d62"
   },
   "outputs": [
    {
     "name": "stdout",
     "output_type": "stream",
     "text": [
      "              precision    recall  f1-score   support\n",
      "\n",
      "          be       1.00      1.00      1.00        10\n",
      "          es       1.00      1.00      1.00         8\n",
      "          it       1.00      1.00      1.00        10\n",
      "          kk       1.00      1.00      1.00         9\n",
      "          ru       1.00      1.00      1.00         8\n",
      "          uk       1.00      1.00      1.00        13\n",
      "\n",
      "    accuracy                           1.00        58\n",
      "   macro avg       1.00      1.00      1.00        58\n",
      "weighted avg       1.00      1.00      1.00        58\n",
      "\n"
     ]
    },
    {
     "data": {
      "image/png": "[encoded data removed]",
      "text/plain": [
       "<Figure size 720x720 with 2 Axes>"
      ]
     },
     "metadata": {
      "needs_background": "light",
      "tags": []
     },
     "output_type": "display_data"
    }
   ],
   "source": [
    "test_classify(y_test, y_predicted, clf.classes_)"
   ]
  },
  {
   "cell_type": "code",
   "execution_count": 35,
   "metadata": {
    "colab": {
     "base_uri": "https://localhost:8080/",
     "height": 826
    },
    "colab_type": "code",
    "id": "0VjSFWhX3Ip1",
    "outputId": "1f4d2213-6986-4497-a3d0-e9aff3d6d308"
   },
   "outputs": [
    {
     "name": "stdout",
     "output_type": "stream",
     "text": [
      "              precision    recall  f1-score   support\n",
      "\n",
      "          be       0.73      0.80      0.76        10\n",
      "          es       0.58      0.88      0.70         8\n",
      "          it       0.70      0.70      0.70        10\n",
      "          kk       0.86      0.67      0.75         9\n",
      "          ru       0.50      0.88      0.64         8\n",
      "          uk       0.75      0.23      0.35        13\n",
      "\n",
      "    accuracy                           0.66        58\n",
      "   macro avg       0.69      0.69      0.65        58\n",
      "weighted avg       0.70      0.66      0.63        58\n",
      "\n"
     ]
    },
    {
     "data": {
      "image/png": "[encoded data removed]",
      "text/plain": [
       "<Figure size 720x720 with 2 Axes>"
      ]
     },
     "metadata": {
      "needs_background": "light",
      "tags": []
     },
     "output_type": "display_data"
    }
   ],
   "source": [
    "# Проверим на случайных отрывках из тестовых текстов\n",
    "import random\n",
    "\n",
    "small_texts = []\n",
    "for text in X_test:\n",
    "    begin = random.randint(0, len(text) - 10)\n",
    "    small_texts.append(text[begin:begin+10])\n",
    "y_predicted_small = clf.predict(small_texts)\n",
    "test_classify(y_test, y_predicted_small, clf.classes_)"
   ]
  },
  {
   "cell_type": "code",
   "execution_count": null,
   "metadata": {
    "colab": {},
    "colab_type": "code",
    "id": "SMuJP3Tp3Ip3"
   },
   "outputs": [],
   "source": []
  }
 ],
 "metadata": {
  "colab": {
   "collapsed_sections": [],
   "name": "NLP2_language_detection_done.ipynb\"",
   "provenance": []
  },
  "kernelspec": {
   "display_name": "Python 3",
   "language": "python",
   "name": "python3"
  },
  "language_info": {
   "codemirror_mode": {
    "name": "ipython",
    "version": 3
   },
   "file_extension": ".py",
   "mimetype": "text/x-python",
   "name": "python",
   "nbconvert_exporter": "python",
   "pygments_lexer": "ipython3",
   "version": "3.9.4"
  }
 },
 "nbformat": 4,
 "nbformat_minor": 1
}
