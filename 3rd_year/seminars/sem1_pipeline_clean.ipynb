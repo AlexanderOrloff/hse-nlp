{
  "cells": [
    {
      "cell_type": "code",
      "execution_count": null,
      "metadata": {
        "id": "rKc92Eevlnyk"
      },
      "outputs": [],
      "source": [
        "!pip install wikipedia pymorphy2 textdistance -q"
      ]
    },
    {
      "cell_type": "markdown",
      "metadata": {
        "id": "blDFUuSxGaic"
      },
      "source": [
        "# Семинар 1. Базовый пайплайн работы с текстом. Создания простого спеллчекера с помощью NLTK, векторов и рассстояния Левенштейна."
      ]
    },
    {
      "cell_type": "markdown",
      "metadata": {
        "id": "K2GsLxb7TyKc"
      },
      "source": [
        "![picture](https://drive.google.com/uc?export=view&id=1Dh0iSF2AM-ApFQoMLigmDDBaNO978EAi)\n"
      ]
    },
    {
      "cell_type": "markdown",
      "metadata": {
        "id": "L5uuHtVSdY_C"
      },
      "source": [
        "## 1. Сбор данных"
      ]
    },
    {
      "cell_type": "markdown",
      "metadata": {
        "id": "Dh0CDmMmiScF"
      },
      "source": [
        "Под основные задачи было придумано огромное количество датасетов: [тональность](https://www.kaggle.com/datasets/abhi8923shriv/sentiment-analysis-dataset), [NER](https://github.com/juand-r/entity-recognition-datasets), [QA](https://rajpurkar.github.io/SQuAD-explorer/). Но... большинство данных на английском:)\n"
      ]
    },
    {
      "cell_type": "markdown",
      "metadata": {
        "id": "_PF9wrJlermY"
      },
      "source": [
        "### 1.1 Готовые корпуса"
      ]
    },
    {
      "cell_type": "code",
      "execution_count": null,
      "metadata": {
        "colab": {
          "base_uri": "https://localhost:8080/"
        },
        "collapsed": true,
        "id": "PCK9BaXbfOuN",
        "outputId": "43bec5c1-ae42-439e-e465-41aef1c90853"
      },
      "outputs": [
        {
          "name": "stderr",
          "output_type": "stream",
          "text": [
            "[nltk_data] Downloading collection 'book'\n",
            "[nltk_data]    | \n",
            "[nltk_data]    | Downloading package abc to /root/nltk_data...\n",
            "[nltk_data]    |   Package abc is already up-to-date!\n",
            "[nltk_data]    | Downloading package brown to /root/nltk_data...\n",
            "[nltk_data]    |   Package brown is already up-to-date!\n",
            "[nltk_data]    | Downloading package chat80 to /root/nltk_data...\n",
            "[nltk_data]    |   Package chat80 is already up-to-date!\n",
            "[nltk_data]    | Downloading package cmudict to /root/nltk_data...\n",
            "[nltk_data]    |   Package cmudict is already up-to-date!\n",
            "[nltk_data]    | Downloading package conll2000 to /root/nltk_data...\n",
            "[nltk_data]    |   Package conll2000 is already up-to-date!\n",
            "[nltk_data]    | Downloading package conll2002 to /root/nltk_data...\n",
            "[nltk_data]    |   Package conll2002 is already up-to-date!\n",
            "[nltk_data]    | Downloading package dependency_treebank to\n",
            "[nltk_data]    |     /root/nltk_data...\n",
            "[nltk_data]    |   Package dependency_treebank is already up-to-date!\n",
            "[nltk_data]    | Downloading package genesis to /root/nltk_data...\n",
            "[nltk_data]    |   Package genesis is already up-to-date!\n",
            "[nltk_data]    | Downloading package gutenberg to /root/nltk_data...\n",
            "[nltk_data]    |   Package gutenberg is already up-to-date!\n",
            "[nltk_data]    | Downloading package ieer to /root/nltk_data...\n",
            "[nltk_data]    |   Package ieer is already up-to-date!\n",
            "[nltk_data]    | Downloading package inaugural to /root/nltk_data...\n",
            "[nltk_data]    |   Package inaugural is already up-to-date!\n",
            "[nltk_data]    | Downloading package movie_reviews to\n",
            "[nltk_data]    |     /root/nltk_data...\n",
            "[nltk_data]    |   Package movie_reviews is already up-to-date!\n",
            "[nltk_data]    | Downloading package nps_chat to /root/nltk_data...\n",
            "[nltk_data]    |   Package nps_chat is already up-to-date!\n",
            "[nltk_data]    | Downloading package names to /root/nltk_data...\n",
            "[nltk_data]    |   Package names is already up-to-date!\n",
            "[nltk_data]    | Downloading package ppattach to /root/nltk_data...\n",
            "[nltk_data]    |   Package ppattach is already up-to-date!\n",
            "[nltk_data]    | Downloading package reuters to /root/nltk_data...\n",
            "[nltk_data]    |   Package reuters is already up-to-date!\n",
            "[nltk_data]    | Downloading package senseval to /root/nltk_data...\n",
            "[nltk_data]    |   Package senseval is already up-to-date!\n",
            "[nltk_data]    | Downloading package state_union to /root/nltk_data...\n",
            "[nltk_data]    |   Package state_union is already up-to-date!\n",
            "[nltk_data]    | Downloading package stopwords to /root/nltk_data...\n",
            "[nltk_data]    |   Package stopwords is already up-to-date!\n",
            "[nltk_data]    | Downloading package swadesh to /root/nltk_data...\n",
            "[nltk_data]    |   Package swadesh is already up-to-date!\n",
            "[nltk_data]    | Downloading package timit to /root/nltk_data...\n",
            "[nltk_data]    |   Package timit is already up-to-date!\n",
            "[nltk_data]    | Downloading package treebank to /root/nltk_data...\n",
            "[nltk_data]    |   Package treebank is already up-to-date!\n",
            "[nltk_data]    | Downloading package toolbox to /root/nltk_data...\n",
            "[nltk_data]    |   Package toolbox is already up-to-date!\n",
            "[nltk_data]    | Downloading package udhr to /root/nltk_data...\n",
            "[nltk_data]    |   Package udhr is already up-to-date!\n",
            "[nltk_data]    | Downloading package udhr2 to /root/nltk_data...\n",
            "[nltk_data]    |   Package udhr2 is already up-to-date!\n",
            "[nltk_data]    | Downloading package unicode_samples to\n",
            "[nltk_data]    |     /root/nltk_data...\n",
            "[nltk_data]    |   Package unicode_samples is already up-to-date!\n",
            "[nltk_data]    | Downloading package webtext to /root/nltk_data...\n",
            "[nltk_data]    |   Package webtext is already up-to-date!\n",
            "[nltk_data]    | Downloading package wordnet to /root/nltk_data...\n",
            "[nltk_data]    |   Package wordnet is already up-to-date!\n",
            "[nltk_data]    | Downloading package wordnet_ic to /root/nltk_data...\n",
            "[nltk_data]    |   Package wordnet_ic is already up-to-date!\n",
            "[nltk_data]    | Downloading package words to /root/nltk_data...\n",
            "[nltk_data]    |   Package words is already up-to-date!\n",
            "[nltk_data]    | Downloading package maxent_treebank_pos_tagger to\n",
            "[nltk_data]    |     /root/nltk_data...\n",
            "[nltk_data]    |   Package maxent_treebank_pos_tagger is already up-\n",
            "[nltk_data]    |       to-date!\n",
            "[nltk_data]    | Downloading package maxent_ne_chunker to\n",
            "[nltk_data]    |     /root/nltk_data...\n",
            "[nltk_data]    |   Package maxent_ne_chunker is already up-to-date!\n",
            "[nltk_data]    | Downloading package universal_tagset to\n",
            "[nltk_data]    |     /root/nltk_data...\n",
            "[nltk_data]    |   Package universal_tagset is already up-to-date!\n",
            "[nltk_data]    | Downloading package punkt to /root/nltk_data...\n",
            "[nltk_data]    |   Package punkt is already up-to-date!\n",
            "[nltk_data]    | Downloading package book_grammars to\n",
            "[nltk_data]    |     /root/nltk_data...\n",
            "[nltk_data]    |   Package book_grammars is already up-to-date!\n",
            "[nltk_data]    | Downloading package city_database to\n",
            "[nltk_data]    |     /root/nltk_data...\n",
            "[nltk_data]    |   Package city_database is already up-to-date!\n",
            "[nltk_data]    | Downloading package tagsets to /root/nltk_data...\n",
            "[nltk_data]    |   Package tagsets is already up-to-date!\n",
            "[nltk_data]    | Downloading package panlex_swadesh to\n",
            "[nltk_data]    |     /root/nltk_data...\n",
            "[nltk_data]    |   Package panlex_swadesh is already up-to-date!\n",
            "[nltk_data]    | Downloading package averaged_perceptron_tagger to\n",
            "[nltk_data]    |     /root/nltk_data...\n",
            "[nltk_data]    |   Package averaged_perceptron_tagger is already up-\n",
            "[nltk_data]    |       to-date!\n",
            "[nltk_data]    | \n",
            "[nltk_data]  Done downloading collection book\n",
            "[nltk_data] Downloading collection 'all-corpora'\n",
            "[nltk_data]    | \n",
            "[nltk_data]    | Downloading package abc to /root/nltk_data...\n",
            "[nltk_data]    |   Package abc is already up-to-date!\n",
            "[nltk_data]    | Downloading package alpino to /root/nltk_data...\n",
            "[nltk_data]    |   Package alpino is already up-to-date!\n",
            "[nltk_data]    | Downloading package bcp47 to /root/nltk_data...\n",
            "[nltk_data]    |   Package bcp47 is already up-to-date!\n",
            "[nltk_data]    | Downloading package biocreative_ppi to\n",
            "[nltk_data]    |     /root/nltk_data...\n",
            "[nltk_data]    |   Package biocreative_ppi is already up-to-date!\n",
            "[nltk_data]    | Downloading package brown to /root/nltk_data...\n",
            "[nltk_data]    |   Package brown is already up-to-date!\n",
            "[nltk_data]    | Downloading package brown_tei to /root/nltk_data...\n",
            "[nltk_data]    |   Package brown_tei is already up-to-date!\n",
            "[nltk_data]    | Downloading package cess_cat to /root/nltk_data...\n",
            "[nltk_data]    |   Package cess_cat is already up-to-date!\n",
            "[nltk_data]    | Downloading package cess_esp to /root/nltk_data...\n",
            "[nltk_data]    |   Package cess_esp is already up-to-date!\n",
            "[nltk_data]    | Downloading package chat80 to /root/nltk_data...\n",
            "[nltk_data]    |   Package chat80 is already up-to-date!\n",
            "[nltk_data]    | Downloading package city_database to\n",
            "[nltk_data]    |     /root/nltk_data...\n",
            "[nltk_data]    |   Package city_database is already up-to-date!\n",
            "[nltk_data]    | Downloading package cmudict to /root/nltk_data...\n",
            "[nltk_data]    |   Package cmudict is already up-to-date!\n",
            "[nltk_data]    | Downloading package comparative_sentences to\n",
            "[nltk_data]    |     /root/nltk_data...\n",
            "[nltk_data]    |   Package comparative_sentences is already up-to-\n",
            "[nltk_data]    |       date!\n",
            "[nltk_data]    | Downloading package comtrans to /root/nltk_data...\n",
            "[nltk_data]    |   Package comtrans is already up-to-date!\n",
            "[nltk_data]    | Downloading package conll2000 to /root/nltk_data...\n",
            "[nltk_data]    |   Package conll2000 is already up-to-date!\n",
            "[nltk_data]    | Downloading package conll2002 to /root/nltk_data...\n",
            "[nltk_data]    |   Package conll2002 is already up-to-date!\n",
            "[nltk_data]    | Downloading package conll2007 to /root/nltk_data...\n",
            "[nltk_data]    |   Package conll2007 is already up-to-date!\n",
            "[nltk_data]    | Downloading package crubadan to /root/nltk_data...\n",
            "[nltk_data]    |   Package crubadan is already up-to-date!\n",
            "[nltk_data]    | Downloading package dependency_treebank to\n",
            "[nltk_data]    |     /root/nltk_data...\n",
            "[nltk_data]    |   Package dependency_treebank is already up-to-date!\n",
            "[nltk_data]    | Downloading package dolch to /root/nltk_data...\n",
            "[nltk_data]    |   Package dolch is already up-to-date!\n",
            "[nltk_data]    | Downloading package europarl_raw to\n",
            "[nltk_data]    |     /root/nltk_data...\n",
            "[nltk_data]    |   Package europarl_raw is already up-to-date!\n",
            "[nltk_data]    | Downloading package extended_omw to\n",
            "[nltk_data]    |     /root/nltk_data...\n",
            "[nltk_data]    |   Package extended_omw is already up-to-date!\n",
            "[nltk_data]    | Downloading package floresta to /root/nltk_data...\n",
            "[nltk_data]    |   Package floresta is already up-to-date!\n",
            "[nltk_data]    | Downloading package framenet_v15 to\n",
            "[nltk_data]    |     /root/nltk_data...\n",
            "[nltk_data]    |   Package framenet_v15 is already up-to-date!\n",
            "[nltk_data]    | Downloading package framenet_v17 to\n",
            "[nltk_data]    |     /root/nltk_data...\n",
            "[nltk_data]    |   Package framenet_v17 is already up-to-date!\n",
            "[nltk_data]    | Downloading package gazetteers to /root/nltk_data...\n",
            "[nltk_data]    |   Package gazetteers is already up-to-date!\n",
            "[nltk_data]    | Downloading package genesis to /root/nltk_data...\n",
            "[nltk_data]    |   Package genesis is already up-to-date!\n",
            "[nltk_data]    | Downloading package gutenberg to /root/nltk_data...\n",
            "[nltk_data]    |   Package gutenberg is already up-to-date!\n",
            "[nltk_data]    | Downloading package ieer to /root/nltk_data...\n",
            "[nltk_data]    |   Package ieer is already up-to-date!\n",
            "[nltk_data]    | Downloading package inaugural to /root/nltk_data...\n",
            "[nltk_data]    |   Package inaugural is already up-to-date!\n",
            "[nltk_data]    | Downloading package indian to /root/nltk_data...\n",
            "[nltk_data]    |   Package indian is already up-to-date!\n",
            "[nltk_data]    | Downloading package jeita to /root/nltk_data...\n",
            "[nltk_data]    |   Package jeita is already up-to-date!\n",
            "[nltk_data]    | Downloading package kimmo to /root/nltk_data...\n",
            "[nltk_data]    |   Package kimmo is already up-to-date!\n",
            "[nltk_data]    | Downloading package knbc to /root/nltk_data...\n",
            "[nltk_data]    |   Package knbc is already up-to-date!\n",
            "[nltk_data]    | Downloading package lin_thesaurus to\n",
            "[nltk_data]    |     /root/nltk_data...\n",
            "[nltk_data]    |   Package lin_thesaurus is already up-to-date!\n",
            "[nltk_data]    | Downloading package mac_morpho to /root/nltk_data...\n",
            "[nltk_data]    |   Package mac_morpho is already up-to-date!\n",
            "[nltk_data]    | Downloading package machado to /root/nltk_data...\n",
            "[nltk_data]    |   Package machado is already up-to-date!\n",
            "[nltk_data]    | Downloading package masc_tagged to /root/nltk_data...\n",
            "[nltk_data]    |   Package masc_tagged is already up-to-date!\n",
            "[nltk_data]    | Downloading package movie_reviews to\n",
            "[nltk_data]    |     /root/nltk_data...\n",
            "[nltk_data]    |   Package movie_reviews is already up-to-date!\n",
            "[nltk_data]    | Downloading package mte_teip5 to /root/nltk_data...\n",
            "[nltk_data]    |   Package mte_teip5 is already up-to-date!\n",
            "[nltk_data]    | Downloading package names to /root/nltk_data...\n",
            "[nltk_data]    |   Package names is already up-to-date!\n",
            "[nltk_data]    | Downloading package nombank.1.0 to /root/nltk_data...\n",
            "[nltk_data]    |   Package nombank.1.0 is already up-to-date!\n",
            "[nltk_data]    | Downloading package nonbreaking_prefixes to\n",
            "[nltk_data]    |     /root/nltk_data...\n",
            "[nltk_data]    |   Package nonbreaking_prefixes is already up-to-date!\n",
            "[nltk_data]    | Downloading package nps_chat to /root/nltk_data...\n",
            "[nltk_data]    |   Package nps_chat is already up-to-date!\n",
            "[nltk_data]    | Downloading package omw to /root/nltk_data...\n",
            "[nltk_data]    |   Package omw is already up-to-date!\n",
            "[nltk_data]    | Downloading package omw-1.4 to /root/nltk_data...\n",
            "[nltk_data]    |   Package omw-1.4 is already up-to-date!\n",
            "[nltk_data]    | Downloading package opinion_lexicon to\n",
            "[nltk_data]    |     /root/nltk_data...\n",
            "[nltk_data]    |   Package opinion_lexicon is already up-to-date!\n",
            "[nltk_data]    | Downloading package panlex_swadesh to\n",
            "[nltk_data]    |     /root/nltk_data...\n",
            "[nltk_data]    |   Package panlex_swadesh is already up-to-date!\n",
            "[nltk_data]    | Downloading package paradigms to /root/nltk_data...\n",
            "[nltk_data]    |   Package paradigms is already up-to-date!\n",
            "[nltk_data]    | Downloading package pe08 to /root/nltk_data...\n",
            "[nltk_data]    |   Package pe08 is already up-to-date!\n",
            "[nltk_data]    | Downloading package pil to /root/nltk_data...\n",
            "[nltk_data]    |   Package pil is already up-to-date!\n",
            "[nltk_data]    | Downloading package pl196x to /root/nltk_data...\n",
            "[nltk_data]    |   Package pl196x is already up-to-date!\n",
            "[nltk_data]    | Downloading package ppattach to /root/nltk_data...\n",
            "[nltk_data]    |   Package ppattach is already up-to-date!\n",
            "[nltk_data]    | Downloading package problem_reports to\n",
            "[nltk_data]    |     /root/nltk_data...\n",
            "[nltk_data]    |   Package problem_reports is already up-to-date!\n",
            "[nltk_data]    | Downloading package product_reviews_1 to\n",
            "[nltk_data]    |     /root/nltk_data...\n",
            "[nltk_data]    |   Package product_reviews_1 is already up-to-date!\n",
            "[nltk_data]    | Downloading package product_reviews_2 to\n",
            "[nltk_data]    |     /root/nltk_data...\n",
            "[nltk_data]    |   Package product_reviews_2 is already up-to-date!\n",
            "[nltk_data]    | Downloading package propbank to /root/nltk_data...\n",
            "[nltk_data]    |   Package propbank is already up-to-date!\n",
            "[nltk_data]    | Downloading package pros_cons to /root/nltk_data...\n",
            "[nltk_data]    |   Package pros_cons is already up-to-date!\n",
            "[nltk_data]    | Downloading package ptb to /root/nltk_data...\n",
            "[nltk_data]    |   Package ptb is already up-to-date!\n",
            "[nltk_data]    | Downloading package qc to /root/nltk_data...\n",
            "[nltk_data]    |   Package qc is already up-to-date!\n",
            "[nltk_data]    | Downloading package reuters to /root/nltk_data...\n",
            "[nltk_data]    |   Package reuters is already up-to-date!\n",
            "[nltk_data]    | Downloading package rte to /root/nltk_data...\n",
            "[nltk_data]    |   Package rte is already up-to-date!\n",
            "[nltk_data]    | Downloading package semcor to /root/nltk_data...\n",
            "[nltk_data]    |   Package semcor is already up-to-date!\n",
            "[nltk_data]    | Downloading package senseval to /root/nltk_data...\n",
            "[nltk_data]    |   Package senseval is already up-to-date!\n",
            "[nltk_data]    | Downloading package sentence_polarity to\n",
            "[nltk_data]    |     /root/nltk_data...\n",
            "[nltk_data]    |   Package sentence_polarity is already up-to-date!\n",
            "[nltk_data]    | Downloading package sentiwordnet to\n",
            "[nltk_data]    |     /root/nltk_data...\n",
            "[nltk_data]    |   Package sentiwordnet is already up-to-date!\n",
            "[nltk_data]    | Downloading package shakespeare to /root/nltk_data...\n",
            "[nltk_data]    |   Package shakespeare is already up-to-date!\n",
            "[nltk_data]    | Downloading package sinica_treebank to\n",
            "[nltk_data]    |     /root/nltk_data...\n",
            "[nltk_data]    |   Package sinica_treebank is already up-to-date!\n",
            "[nltk_data]    | Downloading package smultron to /root/nltk_data...\n",
            "[nltk_data]    |   Package smultron is already up-to-date!\n",
            "[nltk_data]    | Downloading package state_union to /root/nltk_data...\n",
            "[nltk_data]    |   Package state_union is already up-to-date!\n",
            "[nltk_data]    | Downloading package stopwords to /root/nltk_data...\n",
            "[nltk_data]    |   Package stopwords is already up-to-date!\n",
            "[nltk_data]    | Downloading package subjectivity to\n",
            "[nltk_data]    |     /root/nltk_data...\n",
            "[nltk_data]    |   Package subjectivity is already up-to-date!\n",
            "[nltk_data]    | Downloading package swadesh to /root/nltk_data...\n",
            "[nltk_data]    |   Package swadesh is already up-to-date!\n",
            "[nltk_data]    | Downloading package switchboard to /root/nltk_data...\n",
            "[nltk_data]    |   Package switchboard is already up-to-date!\n",
            "[nltk_data]    | Downloading package timit to /root/nltk_data...\n",
            "[nltk_data]    |   Package timit is already up-to-date!\n",
            "[nltk_data]    | Downloading package toolbox to /root/nltk_data...\n",
            "[nltk_data]    |   Package toolbox is already up-to-date!\n",
            "[nltk_data]    | Downloading package treebank to /root/nltk_data...\n",
            "[nltk_data]    |   Package treebank is already up-to-date!\n",
            "[nltk_data]    | Downloading package twitter_samples to\n",
            "[nltk_data]    |     /root/nltk_data...\n",
            "[nltk_data]    |   Package twitter_samples is already up-to-date!\n",
            "[nltk_data]    | Downloading package udhr to /root/nltk_data...\n",
            "[nltk_data]    |   Package udhr is already up-to-date!\n",
            "[nltk_data]    | Downloading package udhr2 to /root/nltk_data...\n",
            "[nltk_data]    |   Package udhr2 is already up-to-date!\n",
            "[nltk_data]    | Downloading package unicode_samples to\n",
            "[nltk_data]    |     /root/nltk_data...\n",
            "[nltk_data]    |   Package unicode_samples is already up-to-date!\n",
            "[nltk_data]    | Downloading package universal_treebanks_v20 to\n",
            "[nltk_data]    |     /root/nltk_data...\n",
            "[nltk_data]    |   Package universal_treebanks_v20 is already up-to-\n",
            "[nltk_data]    |       date!\n",
            "[nltk_data]    | Downloading package verbnet to /root/nltk_data...\n",
            "[nltk_data]    |   Package verbnet is already up-to-date!\n",
            "[nltk_data]    | Downloading package verbnet3 to /root/nltk_data...\n",
            "[nltk_data]    |   Package verbnet3 is already up-to-date!\n",
            "[nltk_data]    | Downloading package webtext to /root/nltk_data...\n",
            "[nltk_data]    |   Package webtext is already up-to-date!\n",
            "[nltk_data]    | Downloading package wordnet to /root/nltk_data...\n",
            "[nltk_data]    |   Package wordnet is already up-to-date!\n",
            "[nltk_data]    | Downloading package wordnet2021 to /root/nltk_data...\n",
            "[nltk_data]    |   Package wordnet2021 is already up-to-date!\n",
            "[nltk_data]    | Downloading package wordnet2022 to /root/nltk_data...\n",
            "[nltk_data]    |   Package wordnet2022 is already up-to-date!\n",
            "[nltk_data]    | Downloading package wordnet31 to /root/nltk_data...\n",
            "[nltk_data]    |   Package wordnet31 is already up-to-date!\n",
            "[nltk_data]    | Downloading package wordnet_ic to /root/nltk_data...\n",
            "[nltk_data]    |   Package wordnet_ic is already up-to-date!\n",
            "[nltk_data]    | Downloading package words to /root/nltk_data...\n",
            "[nltk_data]    |   Package words is already up-to-date!\n",
            "[nltk_data]    | Downloading package ycoe to /root/nltk_data...\n",
            "[nltk_data]    |   Package ycoe is already up-to-date!\n",
            "[nltk_data]    | \n",
            "[nltk_data]  Done downloading collection all-corpora\n"
          ]
        },
        {
          "data": {
            "text/plain": [
              "True"
            ]
          },
          "execution_count": 2,
          "metadata": {},
          "output_type": "execute_result"
        }
      ],
      "source": [
        "import nltk\n",
        "nltk.download('book')\n",
        "nltk.download('all-corpora')"
      ]
    },
    {
      "cell_type": "code",
      "execution_count": null,
      "metadata": {
        "colab": {
          "base_uri": "https://localhost:8080/"
        },
        "id": "1QhD_tsxfRTj",
        "outputId": "717b1e41-9a12-4bd1-ae36-857f9f610fbc"
      },
      "outputs": [
        {
          "name": "stdout",
          "output_type": "stream",
          "text": [
            "*** Introductory Examples for the NLTK Book ***\n",
            "Loading text1, ..., text9 and sent1, ..., sent9\n",
            "Type the name of the text or sentence to view it.\n",
            "Type: 'texts()' or 'sents()' to list the materials.\n",
            "text1: Moby Dick by Herman Melville 1851\n",
            "text2: Sense and Sensibility by Jane Austen 1811\n",
            "text3: The Book of Genesis\n",
            "text4: Inaugural Address Corpus\n",
            "text5: Chat Corpus\n",
            "text6: Monty Python and the Holy Grail\n",
            "text7: Wall Street Journal\n",
            "text8: Personals Corpus\n",
            "text9: The Man Who Was Thursday by G . K . Chesterton 1908\n"
          ]
        }
      ],
      "source": [
        "from nltk.book import text1"
      ]
    },
    {
      "cell_type": "code",
      "execution_count": null,
      "metadata": {
        "colab": {
          "base_uri": "https://localhost:8080/"
        },
        "id": "r8rIGbJqfC8a",
        "outputId": "43f0451f-15fd-4417-a65e-1c2047590d1e"
      },
      "outputs": [
        {
          "data": {
            "text/plain": [
              "260819"
            ]
          },
          "execution_count": 4,
          "metadata": {},
          "output_type": "execute_result"
        }
      ],
      "source": [
        "len(text1)"
      ]
    },
    {
      "cell_type": "code",
      "execution_count": null,
      "metadata": {
        "id": "fHUUoGCTfmCP"
      },
      "outputs": [],
      "source": [
        "# text1[:100]"
      ]
    },
    {
      "cell_type": "code",
      "execution_count": null,
      "metadata": {
        "colab": {
          "base_uri": "https://localhost:8080/"
        },
        "id": "sFJBRBQvdzXV",
        "outputId": "ce62bef1-a928-4f65-e27e-77564e8a360b"
      },
      "outputs": [
        {
          "name": "stdout",
          "output_type": "stream",
          "text": [
            "Displaying 25 of 40 matches:\n",
            "t did those aboriginal whalemen , the Red - Men , first sally out in canoes to \n",
            " there . Further on , from the bright red windows of the \" Sword - Fish Inn ,\" \n",
            " Euroclydon ! says old Dives , in his red silken wrapper --( he had a redder on\n",
            "w Bedford , they bloom like their own red roses . But roses only bloom in summe\n",
            "ed the chapel with a handsome pair of red worsted man - ropes for this ladder ,\n",
            "of how this island was settled by the red - men . Thus goes the legend . In old\n",
            "n the porch of the inn , under a dull red lamp swinging there , that looked muc\n",
            " Quohog ! spring , thou chap with the red whiskers ; spring there , Scotch - ca\n",
            "ists the last remnant of a village of red men , which has long supplied the nei\n",
            "him from his mood . For , as when the red - cheeked , dancing girls , April and\n",
            "e benignity of age ; though among the Red Men of America the giving of the whit\n",
            "hen , with tornado brow , and eyes of red murder , and foam - glued lips , Ahab\n",
            "ir beaches to wild barbarians , whose red painted faces flash from out their pe\n",
            "down on the windlass ; his face fiery red , his eyes bloodshot , and wiping the\n",
            "ently floats , openly toying with his red - cheeked Cleopatra , ripening his ap\n",
            "ain , with some tatters of Radney ' s red woollen shirt , caught in the teeth t\n",
            "en ranging up for another fling . The red tide now poured from all sides of the\n",
            "at they all glowed to each other like red men . And all the while , jet after j\n",
            " At last , gush after gush of clotted red gore , as if it had been the purple l\n",
            " as if it had been the purple lees of red wine , shot into the frighted air ; a\n",
            " like hungry dogs round a table where red meat is being carved , ready to bolt \n",
            "ught we were offering up ten thousand red oxen to the sea gods . In the first p\n",
            "nd line - of - battle - ship loads of red - haired devils . What d ' ye say , T\n",
            "other passage up the Persian Gulf and Red Sea , such a supposition would involv\n",
            "ad of sparkling water , he now spouts red blood . \" That drove the spigot out o\n"
          ]
        }
      ],
      "source": [
        "text1.concordance('red')"
      ]
    },
    {
      "cell_type": "code",
      "execution_count": null,
      "metadata": {
        "id": "Am0LidP5hKbg"
      },
      "outputs": [],
      "source": [
        "from nltk.corpus import *"
      ]
    },
    {
      "cell_type": "code",
      "execution_count": null,
      "metadata": {
        "id": "UDdp0q21f9Ts"
      },
      "outputs": [],
      "source": [
        "?nltk.corpus"
      ]
    },
    {
      "cell_type": "code",
      "execution_count": null,
      "metadata": {
        "id": "T1c6cqJqcsvk"
      },
      "outputs": [],
      "source": [
        "# nltk.corpus.names.words('female.txt')"
      ]
    },
    {
      "cell_type": "markdown",
      "metadata": {
        "id": "H7JwdcXHFoPP"
      },
      "source": [
        "Ну и конечно, наше любимое, это стоп-слова."
      ]
    },
    {
      "cell_type": "code",
      "execution_count": null,
      "metadata": {
        "colab": {
          "base_uri": "https://localhost:8080/"
        },
        "collapsed": true,
        "id": "eLf269Qxg7JH",
        "outputId": "7ba69a3a-6a75-426f-bace-c9ab71f0aae3"
      },
      "outputs": [
        {
          "name": "stderr",
          "output_type": "stream",
          "text": [
            "[nltk_data] Downloading package stopwords to /root/nltk_data...\n",
            "[nltk_data]   Package stopwords is already up-to-date!\n"
          ]
        },
        {
          "data": {
            "text/plain": [
              "['и', 'в', 'во', 'не', 'что', 'он', 'на', 'я', 'с', 'со']"
            ]
          },
          "execution_count": 10,
          "metadata": {},
          "output_type": "execute_result"
        }
      ],
      "source": [
        "nltk.download(\"stopwords\")\n",
        "from nltk.corpus import stopwords\n",
        "\n",
        "russian_stopwords = stopwords.words(\"russian\")\n",
        "russian_stopwords[:10]"
      ]
    },
    {
      "cell_type": "markdown",
      "metadata": {
        "id": "0bDoyyV-h-7R"
      },
      "source": [
        "Существует и множество других встроенных библиотек с текстами (к примеру sklearn). Корпуса есть и на русском. Однако не редко встроенных текстов не достаточно и приходится пользоваться парсингом.\n",
        "\n",
        "Давайте подумаем, где мы можем взять данные для того, чтобы....\n",
        "- Обучить нейросеть определять тональность высказывания (проще говоря, является ли текст положительным/хвалебным, негативным или нейтральным)\n",
        "- Создать программу, которая будет определять, написан ли текст в формальном стиле или нет\n",
        "- Обучить нейросеть определять хейтспич?\n",
        "- Создать  функцию, которая убирает из текста стоп-слова?\n",
        "- Создать спеллчекер?"
      ]
    },
    {
      "cell_type": "markdown",
      "metadata": {
        "id": "BSID2k6_eHlp"
      },
      "source": [
        "### 1.2 Парсинг"
      ]
    },
    {
      "cell_type": "code",
      "execution_count": null,
      "metadata": {
        "id": "ZFKhqNl4GT57"
      },
      "outputs": [],
      "source": [
        "import urllib.request\n",
        "import re\n",
        "import os"
      ]
    },
    {
      "cell_type": "code",
      "execution_count": null,
      "metadata": {
        "id": "6GgNvmcKeesS"
      },
      "outputs": [],
      "source": [
        "def parcer(url):\n",
        "   page = urllib.request.urlopen(url)\n",
        "   text = page.read().decode('utf-8')\n",
        "   return text"
      ]
    },
    {
      "cell_type": "code",
      "execution_count": null,
      "metadata": {
        "id": "ESeIXBBBkxTU"
      },
      "outputs": [],
      "source": [
        "url = 'https://ru.wikipedia.org/wiki/%D0%9B%D0%B8%D0%BD%D0%B3%D0%B2%D0%B8%D1%81%D1%82%D0%B8%D0%BA%D0%B0'"
      ]
    },
    {
      "cell_type": "code",
      "execution_count": null,
      "metadata": {
        "id": "5Zu1Lqluk6ji"
      },
      "outputs": [],
      "source": [
        "text = parcer(url)"
      ]
    },
    {
      "cell_type": "code",
      "execution_count": null,
      "metadata": {
        "colab": {
          "base_uri": "https://localhost:8080/",
          "height": 143
        },
        "id": "O-uyTOclk_Wd",
        "outputId": "d76f85be-3ebb-4313-c917-b4982e5a90a8"
      },
      "outputs": [
        {
          "data": {
            "application/vnd.google.colaboratory.intrinsic+json": {
              "type": "string"
            },
            "text/plain": [
              "'<!DOCTYPE html>\\n<html class=\"client-nojs\" lang=\"ru\" dir=\"ltr\">\\n<head>\\n<meta charset=\"UTF-8\">\\n<title>Лингвистика — Википедия</title>\\n<script>(function(){var className=\"client-js\";var cookie=document.cookie.match(/(?:^|; )ruwikimwclientpreferences=([^;]+)/);if(cookie){cookie[1].split(\\'%2C\\').forEach(function(pref){className=className.replace(new RegExp(\\'(^| )\\'+pref.replace(/-clientpref-\\\\w+$|[^\\\\w-]+/g,\\'\\')+\\'-clientpref-\\\\\\\\w+( |$)\\'),\\'$1\\'+pref+\\'$2\\');});}document.documentElement.className=className;}());RLCONF={\"wgBreakFrames\":false,\"wgSeparatorTransformTable\":[\",\\\\t.\",\"\\xa0\\\\t,\"],\"wgDigitTransformTable\":[\"\",\"\"],\"wgDefaultDateFormat\":\"dmy\",\"wgMonthNames\":[\"\",\"январь\",\"февраль\",\"март\",\"апрель\",\"май\",\"июнь\",\"июль\",\"август\",\"сентябрь\",\"октябрь\",\"ноябрь\",\"декабрь\"],\"wgRequestId\":\"28cec913-e6b5-4924-a9ab-9a7f49f0e1d9\",\"wgCanonicalNamespace\":\"\",\"wgCanonicalSpecialPageName\":false,\"wgNamespaceNumber\":0,\"wgPageName\":\"Лингвистика\",\"wgTitle\":\"Лингвистика\",\"wgCurRevisionId\":139826574,\"wgRevisionId\":139826574,\"w'"
            ]
          },
          "execution_count": 15,
          "metadata": {},
          "output_type": "execute_result"
        }
      ],
      "source": [
        "text[:1000]"
      ]
    },
    {
      "cell_type": "markdown",
      "metadata": {
        "id": "TOdYDx9olRMG"
      },
      "source": [
        "#### Тренировка на регулярки!\n",
        "Как можно быстро убрать теги?\n",
        "Подсказка: сам текст страницы лежит после закрытия тега table.\n"
      ]
    },
    {
      "cell_type": "code",
      "execution_count": null,
      "metadata": {
        "colab": {
          "base_uri": "https://localhost:8080/",
          "height": 143
        },
        "id": "la4JobEip7D9",
        "outputId": "9bef28c1-2695-4e0a-ec4b-9a6af0b72613"
      },
      "outputs": [
        {
          "data": {
            "application/vnd.google.colaboratory.intrinsic+json": {
              "type": "string"
            },
            "text/plain": [
              "' Лингви́стика (от лат.lingua«язык»), языкозна́ние, языкове́дение— наука, изучающая язык. Это наука о естественном человеческом языке вообще и обо всех языках мира как его индивидуализированных представителях. В широком смысле слова лингвистика подразделяется на научную и практическую. Чаще всего под лингвистикой подразумевается именно научная лингвистика; профессионально ей занимаются учёные-лингвисты. Лингвистика связана с семиотикой как наукой о знаковых системах.  Содержание  1 Предмет лингвистики  1.1 Лингвистика в гносеологическом аспекте 1.2 Субъект и объект лингвистики   2 Разделы лингвистики  2.1 Теоретическая лингвистика 2.2 Прикладная лингвистика 2.3 Практическая лингвистика 2.4 Эмпирическая лингвистика 2.5 Одноязычная и сравнительная лингвистика 2.6 Внешняя и внутренняя лингвистика 2.7 Лингвистика языка и лингвистика речи 2.8 Статическая и динамическая лингвистика 2.9 Общая лингвистика   3 Лингвистика и смежные области знания 4 Лингвистическая терминология 5 История лингвистики 6 См. также 7 Примечания 8 Литература  8.1 Общие проблемы языкознания      Предмет лингвистики[править | править код] Лингвистика изучает не только существующие (существовавшие или возможные в будущем) языки, но и человеческий язык вообще. Язык не дан лингвисту в прямом наблюдении; непосредственно наблюдаемы лишь факты речи, или языковые явления, то есть речевые акты носителей живого языка вместе с их результатами (текстами) или языковой материал (ограниченное число письменных текстов на мёртвом языке, которым уже никто не пользуется в качестве основного средства общения).  Лингвистика в гносеологическом аспекте[править | править код] Лингвистика включает наблюдение; регистрацию и описание фактов речи; выдвижение гипотез для объяснения этих фактов; формулировку гипотез в виде теорий и моделей, описывающих язык; их экспериментальную проверку и опровержение; прогнозирование речевого поведения. Объяснение фактов бывает внутренним (через языковые же факты) либо внешним (через факты физиологические, психологические, логические или социальные). Кибернетические модели языка проверяются тем, насколько похоже они имитируют человеческую речь; адекватность описаний мёртвых языков проверяется в ходе раскопок, когда археологи обнаруживают новые тексты на древних языках.  Субъект и объект лингвистики[править | править код] Как дисциплина, имеющая ряд принципиальных черт гуманитарных наук, лингвистика не всегда отделяет субъект познания (то есть психику лингвиста) от объекта познания (то есть от изучаемого языка), особенно если лингвист изучает свой родной язык. Лингвистами часто становятся люди, совмещающие тонкую языковую интуицию (чутьё языка) с обострённой языковой рефлексией (способностью задумываться над своим языковым чутьём). Опора на рефлексию для получения языковых данных называется интроспекцией.  Разделы лингвистики[править | править код] Лингвистика в широком смысле слова (познание языка и передача результатов этого познания другим людям) подразделяется:  теоретическая лингвистика: научная, предполагающая построение лингвистических теорий; прикладная лингвистика: специализируется на решении практических задач, связанных с изучением языка, а также на практическом использовании лингвистической теории в других областях; практическая лингвистика: представляет собой ту сферу, где реально проводятся лингвистические эксперименты, имеющие целью верификацию положений теоретической лингвистики и проверку эффективности продуктов, создаваемых прикладной лингвистикой; эмпирическая лингвистика, получающая материал посредством экспериментального анализа текстов и речевых конструкций. Теоретическая лингвистика[править | править код] Теоретическая лингвистика исследует языковые законы и формулирует их как теории. Она бывает:  нормативной: указывающей, как «надо» говорить и писать (прескриптивная, предписательная). Можно говорить не только о «языках», но и о «Языке» вообще, поскольку языки мира имеют много общего. Поэтому выделяют:  общую лингвистику: изучает общие (статистически преобладающие) черты всех языков как эмпирически (индуктивно), так и дедуктивно, исследуя общие тенденции функционирования языка, разрабатывая методы его анализа и давая определение лингвистических понятий. Частью общей лингвистики является лингвистическая типология, сопоставляющая разные языки безотносительно к степени их родства и делающая выводы о Языке вообще. Она выявляет и формулирует языковые универсалии, то есть гипотезы, выполняющиеся для большинства описанных языков мира; частную лингвистику: изучает отдельный язык, группу родственных языков или пару контактирующих языков. В ней выделяются разделы либо по отдельному языку (например, русистика, японистика), либо по группе родственных языков (например, славистика, романистика, тюркология), либо по культурному ареалу, в который входят географически и/или типологически близкие языки (например, балканистика, кавказоведение). Прикладная лингвистика[править | править код] Прикладные сферы языкознания издавна отличались широким разнообразием. Наиболее древние из них— письмо (графика), методика обучения родному и неродному языкам, лексикография. В дальнейшем появились перевод, дешифровка, орфография, транслитерация, разработка терминологии. Одно из традиционных направлений прикладной лингвистики— участие в языковой политике государства.  Практическая лингвистика[править | править код] Практическая лингвистика, в отличие от научной, охватывает такие виды ненаучной деятельности, как обучение детей родному языку, изучение иностранного языка, перевод, преподавание родного и иностранного языка, литературное редактирование, корректура, практическая логопедия, восстановительное обучение речи, бытовое и художественное словотворчество, деловое и техническое изобретение товарных марок (см.номенклатура), научное терминотворчество, языковая политика, создание новых письменностей и обучение грамоте, лингвоконструирование. Большинство этих видов деятельности, подобно научной лингвистике, требуют некоторого таланта и некоторого уровня специальной профессиональной подготовки. Каждому из направлений практической лингвистики соответствует его отражение в сфере научной лингвистики. Так, перевод изучается переводоведением, преподавание родного языка в школе— методикой родного языка, преподавание иностранных языков— лингводидактикой, лингвоконструирование— интерлингвистикой ит.п. Эмпирическая лингвистика[править | править код] Эмпирическая лингвистика добывает языковые данные тремя путями:  Методом интроспекции, на котором основана интроспективная лингвистика. Методом эксперимента (см.: лингвистический эксперимент)— наблюдая над поведением носителей живых говоров, чем занимается экспериментальная лингвистика. В неё включаются в частности: полевая лингвистика, работающая с носителями говоров, которыми лингвист не владеет; инструментальная лингвистика, использующая приборы, в том числе звукозаписывающую технику; нейролингвистика, ставящая эксперименты непосредственно с человеческим мозгом. Филологическими методами, собирая материал мёртвых письменных языков и взаимодействуя с филологией, изучающей письменные памятники в их культурно-исторических связях. Описание может быть ориентировано на письменную и на устную речь; оно может либо ограничиваться только «правильным» языком (см.: языковая норма), либо учитывать также разнообразные отступления от него (см.: просторечие); может описывать либо лишь систему закономерностей, действующих во всех разновидностях языка, либо включать в себя также правила выбора между вариантами в зависимости от внеязыковых факторов.  Одноязычная и сравнительная лингвистика[править | править код] Одноязычная лингвистика (в более старой терминологии— описательная лингвистика) ограничивается описанием одного языка, но может выделять внутри него разные языковые подсистемы и изучать отношения сходств и различий между ними. Так, диахроническая лингвистика сопоставляет разные временны́е срезы в истории языка, выявляя утери и новации; диалектология сопоставляет его территориальные варианты, выявляя их отличительные черты; стилистика сопоставляет различные функциональные разновидности языка, фиксируя сходства и различия между ними ит.п. Сравнительная лингвистика сравнивает языки друг с другом. Она включает в себя: компаративистику (в узком смысле), или сравнительно-историческое языкознание, изучающую отношения между родственными языками; контактологию и ареальную лингвистику (ареалогию), изучающую взаимодействие соседних языков; сопоставительную (контрастивную, конфронтативную) лингвистику, изучающую сходства и различия языков (независимо от их родства и соседства). Сравнительно-историческое языкознание занимается изучением истории языков и выявлением их генеалогических связей (см.: генетическая классификация языков). Этот раздел лингвистики может описывать хронологический срез языка в определённую историческую эпоху, при жизни одного поколения (синхроническая лингвистика изучает язык как систему, ставит перед собой задачи установить принципы, лежащие в основе любой из систем, взятой в данный момент), (иногда также называется «синхронной»), или изучать сам процесс изменения языка при его передаче от поколения к поколению (историческая лингвистика, иногда также называемая «диахронной» или «диахронической»).  Внешняя и внутренняя лингвистика[править | править код] Внешняя лингвистика (социальная лингвистика, социолингвистика) описывает: язык во всём многообразии его социальных вариантов и их функций; зависимость выбора «кода» (то есть языковой системы) от общественной принадлежности носителя (классовый и профессиональный выбор, см.: арго, жаргон, сленг), от его региональной принадлежности (территориальный выбор: см.: диалект) и от коммуникативной ситуации собеседников (функционально стилистический выбор, см.: стиль). Внутренняя лингвистика (в другой терминологии— структурная лингвистика) от этой социальной обусловленности отвлекается, рассматривая язык как однородный код. Лингвистика языка и лингвистика речи[править | править код] Лингвистика языка изучает язык как код, то есть систему объективно существующих социально закреплённых знаков и правил их употребления и сочетаемости. Лингвистика речи изучает речевую деятельность, то есть процессы говорения и понимания, протекающие во времени (динамический аспект речи— предмет теории речевой деятельности), вместе с их результатами— речевыми произведениями (статический аспект речи— предмет лингвистики текста). Лингвистика речи включает лингвистику говорящего (изучающую активный аспект речи— деятельность отправителя сообщений, то есть кодирование— говорение, письмо, сочинение текстов) и лингвистику слушающего (изучающую пассивный аспект речи— деятельность получателя сообщений, то есть декодирование— слушание, чтение, понимание текстов). Статическая и динамическая лингвистика[править | править код] Статическая лингвистика изучает состояния языка (в том числе состояние языковой способности индивида— владение языком), а динамическая лингвистика— процессы (изменение языка во времени; возрастные фазы языковой способности: формирование речевой способности, овладение языком, забывание языка). Общая лингвистика[править | править код] Основная статья: Общее языкознание (общая лингвистика) В составе лингвистики выделяют разделы в соответствии с разными сторонами её предмета.  Так, фонетика и графика изучают «воспринимаемую» (слухом или зрением) сторону языковых знаков («план выражения»), а семантика— напротив, их «смысловую» (понимаемую и переводимую) сторону («план содержания»). Лексикология изучает индивидуальные свойства отдельных слов, а грамматика— общие правила комбинации отдельных языковых единиц, их употребления и понимания. Внутри грамматики принято выделять такие разделы, как морфология (наука о грамматических свойствах слова) и синтаксис (наука о грамматических свойствах предложения и словосочетания). Соответствующие дисциплины отличаются друг от друга ориентацией на изучение единиц разных уровней языка:  Предметом фонетики принято считать такие единицы, как звуки речи, их признаки и классы, фонемы и отношения между ними, а также явления просодики— структуру слога, структуру речевого такта и роль ударения в нём, правила интонации, то есть звукового оформления словосочетаний и предложений. Аналогичным образом графика изучает свойства элементарных единиц письменной речи— графем, букв, иероглифов. Единицами морфологии принято считать морфему и слово в их взаимоотношениях (правила построения номинативных единиц (словоформ) из простейших сигнификативных единиц (морфем) и, наоборот, членения словоформ на морфемы). Единицами синтаксиса принято считать структуру таких конструируемых единиц языка, как свободное словосочетание (докоммуникативная конструируемая единица) и свободное предложение (коммуникативная конструируемая единица), а в последнее время— также ССЦ (сложное синтаксическое целое) и, наконец, связный текст. Мельчайшая единица синтаксиса— словоформа с её синтактикой (то есть свойствами сочетаемости) есть инвентарная номинативная единица и в то же время максимальная единица морфологии. Единицами семантики принято считать, с одной стороны, более простые (или даже элементарные) единицы— значения с их компонентами и различительными признаками (семами), а с другой стороны— правила, по которым из этих более простых единиц строятся более сложные содержательные образования— смыслы. Единицами прагматики являются человеческие высказывания— конкретные речевые акты, производимые определёнными участниками общения в определённой обстановке, соотносимые с определённой реальностью, ориентированные на достижение определённых целей (в частности, на сообщение), а также общие универсальные правила создания и интерпретации высказываний. Лингвистика и смежные области знания[править | править код] На стыке лингвистики со смежными областями знания возник ряд пограничных дисциплин. Данные сведены в таблицу:   Формирование дисциплин, пограничных с лингвистикой   Раздел науки Смежная область знаний 1 Смежная область знаний 2 Новая дисциплина   Гуманитарные науки  Психология  Психолингвистика    Когнитивная лингвистика    Эмотиология    Экспериментальная лингвистика, (Эксперимент в лингвистике)   Социология  Социолингвистика    Анкетирование в лингвистике   Культурология Когнитивная лингвистика Лингвокультурология   Политология  Политическая лингвистика   Право  Юридическая лингвистика   Философия  Философия языка    Общая семантика   Литературоведение  Филология   История  Лингвистическая палеонтология    Историческая лингвистика   Генеалогия  Антропонимика   Методология науки  Методология лингвистики   Естественные науки  Физика Акустика Акустика речи   География  Топонимика    Ареальная лингвистика    Лингвистическая география (Лингвогеография)    Лингвистическое картографирование   Биология Физиология Артикуляционная фонетика   Перцептивная фонетика   Нейрофизиология Нейролингвистика   Точные науки  Дедуктивные науки Математика Математическая лингвистика   Логика Логическое направление в лингвистике, Логическая лингвистика   Эмпирические науки Статистика Квантитативная статистика   Лингвистическая статистика   Технические науки  Вычислительная техника  Вычислительная лингвистика    Компьютерная лингвистика    Машинный перевод   Инженерия  Инженерная лингвистика    Лингвоконструирование  Лингвистическая терминология[править | править код] Язык, изучаемый лингвистом,— это язык-объект; а язык, на котором формулируется теория (описание языка, напр., грамматика или словарь в соответствующих значениях)— это метаязык. Метаязык лингвистики имеет свою специфику: в него входят лингвистические термины, имена языков и языковых группировок, системы специального письма (транскрипции и транслитерации) и др. На метаязыке создаются метатексты (то есть тексты о языке); это грамматики, словари, лингвистические атласы, карты географического распространения языков, учебники языков, разговорники ит.п.  См. также: Словари лингвистических терминов История лингвистики[править | править код] Основная статья: История лингвистики В древности наука о языке («грамматика») изучала лишь родной язык учёного, но не чужие языки; только престижные языки духовной культуры, а живой разговорный язык народа (и уж тем более неграмотных бесписьменных народностей) не изучался. До XIXвека наука о языке была предписывающей (нормативной), стремясь не описать живой язык, на котором говорят, а дать правила, по которым «следует» говорить (и писать).  См. также[править | править код] .mw-parser-output .ts-Родственные_проекты{clear:right;float:right;width:19em;box-sizing:border-box;margin:0 0 .5em 1em;padding:.4em;background:var(--background-color-neutral-subtle,#f8f9fa);border:1px solid var(--border-color-base,#a2a9b1);font-size:90%}.mw-parser-output .ts-Родственные_проекты-header{margin-bottom:.2em;padding:.2em .6em;font-size:110%}.mw-parser-output .ts-Родственные_проекты-item{display:flex;padding:.2em .6em}.mw-parser-output .ts-Родственные_проекты-image{min-width:24px;display:inline-block;margin-right:.4em;flex:none;vertical-align:top;text-align:center}.mw-parser-output .ts-Родственные_проекты-image img{vertical-align:middle}.mw-parser-output .ts-Родственные_проекты-label{align-self:center}@media(max-width:719px){.mw-parser-output .ts-Родственные_проекты{clear:none;float:none;width:auto;margin-left:0;margin-right:0}}В родственных проектахЗначения вВикисловареМедиафайлы наВикискладе Любительская лингвистика Интерлингвистика Языковеды мира Категория:Лингвисты Примечания[править | править код]   ↑ «Языковедение» — статья в Малой советской энциклопедии; 2 издание; 1937—1947 гг.  ↑ ЯЗЫКОЗНАНИЕ/ Степанов Ю. С.//Большая российская энциклопедия [Электронный ресурс].— 2017.   Литература[править | править код] .mw-parser-output .ambox{border:1px solid var(--border-color-base,#a2a9b1);border-left:10px solid #36c;background:var(--background-color-neutral-subtle,#f8f9fa);box-sizing:border-box;margin:0 10%}html body.mediawiki.skin-minerva .mw-parser-output .ambox{border-width:0 0 0 4px}.mw-parser-output .ambox+link+.ambox,.mw-parser-output .ambox+link+style+.ambox,.mw-parser-output .ambox+link+link+.ambox,.mw-parser-output .ambox+.mw-empty-elt+link+.ambox,.mw-parser-output .ambox+.mw-empty-elt+link+style+.ambox,.mw-parser-output .ambox+.mw-empty-elt+link+link+.ambox{margin-top:-1px}html body.mediawiki .mw-parser-output .ambox.mbox-small-left{margin:4px 1em 4px 0;overflow:hidden;width:238px;border-collapse:collapse;font-size:88%;line-height:1.25em}.mw-parser-output .ambox-speedy{border-left:10px solid var(--border-color-error,#b32424);background-color:var(--background-color-error-subtle,#fee7e6)}.mw-parser-output .ambox-delete{border-left:10px solid var(--border-color-error,#b32424)}.mw-parser-output .ambox-content{border-left:10px solid #f28500}.mw-parser-output .ambox-style{border-left:10px solid var(--color-warning,#edab00)}.mw-parser-output .ambox-good{border-left:10px solid #66cc44}.mw-parser-output .ambox-discussion{border-left:10px solid #339966}.mw-parser-output .ambox-merge{border-left:10px solid #9932cc}.mw-parser-output .ambox-move{border-left:10px solid #9932cc}.mw-parser-output .ambox-protection{border-left:10px solid #a2a9b1}.mw-parser-output .ambox .mbox-text{border:none;padding:0.25em 0.5em;width:100%}.mw-parser-output .ambox .mbox-image{border:none;padding:2px 0 2px 0.5em;text-align:center}.mw-parser-output .ambox .mbox-imageright{border:none;padding:2px 0.5em 2px 0;text-align:center}.mw-parser-output .ambox .mbox-empty-cell{border:none;padding:0;width:1px}.mw-parser-output .ambox .mbox-image-div{width:52px}.mw-parser-output .ambox .mbox-textsmall-div{font-size:90%}html.client-js body.skin-minerva .mw-parser-output .mbox-text-span{margin-left:23px!important}@media(max-width:1366px){.mw-parser-output .ambox{margin-left:6%;margin-right:6%}}@media(max-width:719px){.mw-parser-output .ambox{margin-left:0;margin-right:0}}В этой статье литературные источники могут не соответствовать правилам Википедии. Вы можете улучшить эту статью, удалив из неё излишние и неприемлемые источники. Статьи  .mw-parser-output cite.citation{font-style:inherit;word-wrap:break-word}.mw-parser-output .citation q{quotes:\"\\\\\"\"\"\\\\\"\"\"\\'\"\"\\'\"}.mw-parser-output .citation:target{background-color:rgba(0,127,255,0.133)}.mw-parser-output .id-lock-free.id-lock-free a{background:url(\"//upload.wikimedia.org/wikipedia/commons/6/65/Lock-green.svg\")right 0.1em center/9px no-repeat}.mw-parser-output .id-lock-limited.id-lock-limited a,.mw-parser-output .id-lock-registration.id-lock-registration a{background:url(\"//upload.wikimedia.org/wikipedia/commons/d/d6/Lock-gray-alt-2.svg\")right 0.1em center/9px no-repeat}.mw-parser-output .id-lock-subscription.id-lock-subscription a{background:url(\"//upload.wikimedia.org/wikipedia/commons/a/aa/Lock-red-alt-2.svg\")right 0.1em center/9px no-repeat}.mw-parser-output .cs1-ws-icon a{background:url(\"//upload.wikimedia.org/wikipedia/commons/4/4c/Wikisource-logo.svg\")right 0.1em center/12px no-repeat}body:not(.skin-timeless):not(.skin-minerva) .mw-parser-output .id-lock-free a,body:not(.skin-timeless):not(.skin-minerva) .mw-parser-output .id-lock-limited a,body:not(.skin-timeless):not(.skin-minerva) .mw-parser-output .id-lock-registration a,body:not(.skin-timeless):not(.skin-minerva) .mw-parser-output .id-lock-subscription a,body:not(.skin-timeless):not(.skin-minerva) .mw-parser-output .cs1-ws-icon a{background-size:contain;padding:0 1em 0 0}.mw-parser-output .cs1-code{color:inherit;background:inherit;border:none;padding:inherit}.mw-parser-output .cs1-hidden-error{display:none;color:var(--color-error,#d33)}.mw-parser-output .cs1-visible-error{color:var(--color-error,#d33)}.mw-parser-output .cs1-maint{display:none;color:#085;margin-left:0.3em}.mw-parser-output .cs1-kern-left{padding-left:0.2em}.mw-parser-output .cs1-kern-right{padding-right:0.2em}.mw-parser-output .citation .mw-selflink{font-weight:inherit}@media screen{.mw-parser-output .cs1-format{font-size:95%}html.skin-theme-clientpref-night .mw-parser-output .cs1-maint{color:#18911f}}@media screen and (prefers-color-scheme:dark){html.skin-theme-clientpref-os .mw-parser-output .cs1-maint{color:#18911f}}ЯзыкознаниеБольшая российская энциклопедия. Том 35.— М., 2017.— С.653—656. Иванов Вяч. Вс. Языкознание // Лингвистический энциклопедический словарь, с. 618—623. КрыловС.А. Лингвистика // Энциклопедия «Кругосвет» («Россия on-line») МечковскаяН.Б. Игровое начало в современной лингвистике // Логический анализ языка. Концептуальные поля игры.— М.: Индрик, 2006, с. 30—41 Общие проблемы языкознания[править | править код] Балли Ш. Общая лингвистика и вопросы французского языка. Пер. с фр.— М.: ИИЛ, 1955.— 416 c. Бодуэн де КуртенэИ.А. Избранные труды по общему языкознанию.— М.: Издательство АН СССР, 1963.— 384 с. (т. 1), 392 с. (т. 2). Бюлер К. Теория языка.— М.: Прогресс, 1993.— 502 c. Вандриес Ж. Язык. Лингвистическое введение в историю.— М.: Соцэкгиз, 1937.— 410 c. ГакВ.Г. Языковые преобразования.— М.: Языки русской культуры, 1998.— 764 с. Гумбольдт В. Избранные труды по языкознанию.— М.: Прогресс, 1984.— 397 с. ЖелтовИ.М. Система языкознания по Гейзе (ученик школ Гегеля и Боппа) // Филологические записки.— Воронеж, 1864. Есперсен О. Философия грамматики. Пер. с англ.— М.: ИИЛ, 1958.— 404 с. ЗвегинцевВ.А. Очерки по общему языкознанию. М.: Изд. МГУ, 1962. ЗвегинцевВ.А. Теоретическая и прикладная лингвистика. М.: Просвещение, 1968. ЗвегинцевВ.А. Язык и лингвистическая теория. М.: Изд. МГУ, 1973. ЗвегинцевВ.А. Мысли о лингвистике. М.: Изд. МГУ, 1996. КацнельсонС.Д. Общее и типологическое языкознание.— М.: Наука, 1986.— 298 с. КрушевскийН.С. Очерк науки о языке (1883) // Крушевский Н.В.Избранные работы по языкознанию.— М.: Наследие, 1998.— Сс. 96—222. МасловЮ.С. Избранные труды. Аспектология. Общее языкознание.— М.: Языки славянской культуры, 2004.— 840 с. Пауль Г. Принципы истории языка. Пер. с нем.— М.: ИИЛ, 1960.— 500 с. ПоливановЕ.Д. Избранные работы. Труды по восточному и общему языкознанию.— М.: Наука, 1991.— 623 с. Сепир Э. Язык.— М.-Л.: Соцэкгиз, 1934.— 243 с. (Переиздание в: Сепир Э. Избранные труды по языкознанию и культурологии. Пер. с англ.— М.: Прогресс, Универс, 1993.— 655 с.) Сеше А. Программа и методы теоретической лингвистики. Психология языка. Пер. с фр.— М.: УРСС, 2003.— 264 с. Соссюр Ф. Труды по языкознанию.— М.: Прогресс, 1977.— 695 c. ТрубецкойН.С. Избранные труды по филологии.— М.: Прогресс, 1987.— 560 с. ЩербаЛ.В. Языковая система и речевая деятельность.— Л.: Наука, 1974.— 428 с. ШехтерИ.Ю. Живой язык.— М.: Ректор, 2005, ISBN 5-89464-010-5 ЯкобсонР.О. Избранные работы.— М.: Прогресс, 1985.— 456 с. Ссылки на внешние ресурсыТематические сайты Открытый каталог(рус.) Открытый каталог(англ.) Словари и энциклопедии Большая датская Большая норвежская Большая российская (старая версия) Большая советская (1 изд.) Брокгауза и Ефрона Брокгауза и Ефрона Канадская Корейской культуры Краткая еврейская Кругосвет Ларусса Малый Брокгауза и Ефрона Национальная (Латвия) Britannica (онлайн) PWN Universalis Universalis Universalis Швейцарский исторический .mw-parser-output .ts-navbox-plaintitle{font-size:100%!important;margin:0 6em!important}Вбиблиографических каталогах BNE: XX525047 BNF: 11932194d GND: 4074250-7 J9U: 987007529216105171 LCCN: sh85077222 LNB: 000047485 NDL: 00562334 NKC: ph115153  Язык и языки Языковая система Уровни языка Единицы языка Язык и речь Синтагма и парадигма Диахрония и синхрония Язык или диалект Естественный язык Искусственный язык Разновидности языка Языковое родство Языковая систематика Генетическая классификация языков Лингвистическая типология  Лингвистика Портал:Лингвистика  СемиотикаОсновное (Языковой) знак десигнат денотат референт коннотация План выражения и план содержания Означаемое Означающее Значение Значимость Семиозис Семиосфера Семантика Синтаксис Прагматика Персоналии Р. Барт А. Греймас Д. Дили Л. Ельмслев В. В. Иванов Р. Кевельзон К. Л. Кулль Ю. М. Лотман Ч. У. Моррис Ч. С. Пирс Ф. де Соссюр В. Н. Топоров Г. Фреге Т. Шебёк Ю. А. Шрейдер У. Эко Р. О. Якобсон Концепции Курс общей лингвистики Теория знака Гуссерля Парижская семиотическая школа Семиотический квадрат Московско-тартуская семиотическая школа  Прочее Биосемиотика Зоосемиотика Знаковая система Лингвистика Текст Социосемиотика Этносемиотика Семиотика культуры кино мода Язык Языковая система  Для улучшения этой статьи желательно: Проставить сноски, внести более точные указания на источники.После исправления проблемы исключите её из списка. Удалите шаблон, если устранены все недостатки. <!--  NewPP limit report Parsed by mw‐api‐int.eqiad.main‐844cff9c8b‐pbqv4 Cached time: 20240907231403 Cache expiry: 2592000 Reduced expiry: false Complications: [show‐toc] CPU time usage: 0.716 seconds Real time usage: 0.895 seconds Preprocessor visited node count: 2394/1000000 Post‐expand include size: 63916/2097152 bytes Template argument size: 5807/2097152 bytes Highest expansion depth: 14/100 Expensive parser function count: 7/500 Unstrip recursion depth: 0/20 Unstrip post‐expand size: 11336/5000000 bytes Lua time usage: 0.375/10.000 seconds Lua memory usage: 5272141/52428800 bytes Number of Wikibase entities loaded: 1/400 --> <!-- Transclusion expansion time report (%,ms,calls,template) 100.00%  725.009      1 -total  28.85%  209.135      1 Шаблон:Внешние_ссылки  19.38%  140.535      2 Шаблон:Ambox  17.02%  123.368      1 Шаблон:Родственные_проекты  16.14%  117.015      1 Шаблон:Лишняя_литература  10.63%   77.065      1 Шаблон:Книга   8.71%   63.119      1 Шаблон:Лингвистика   8.36%   60.602      1 Шаблон:Боковая_навигационная_таблица   7.11%   51.542      1 Шаблон:Примечания   5.82%   42.196      1 Шаблон:БРЭ -->  <!-- Saved in parser cache with key ruwiki:pcache:idhash:20-0!canonical and timestamp 20240907231403 and revision id 139826574. Rendering was triggered because: api-parse  -->  --> Источник — https://ru.wikipedia.org/w/index.php?title=Лингвистикаoldid=139826574 \\t\\tКатегории: Википедия:Статьи с проблемами в списке литературыЛингвистикаГуманитарные наукиСкрытые категории: Википедия:БРЭ (ссылки без архивной копии)Статьи со ссылками на ВикисловарьСтатьи со ссылками на ВикискладВикипедия:Статьи без сносокВикипедия:Статьи с шаблонами недостатков по алфавитуСтраницы, использующие волшебные ссылки ISBN \\t    \\tНавигация \\t \\t\\t  \\t<h3 \\t\\tid=\"p-personal-label\" \\t\\t \\t\\tclass=\"vector-menu-heading \" \\t> \\t\\tПерсональные инструменты \\t \\t \\t\\t \\t\\t \\t\\t\\t \\t\\t\\tВы не представились системеОбсуждениеВкладСоздать учётную записьВойти \\t\\t \\t\\t \\t   \\t\\t \\t\\t\\t  \\t<h3 \\t\\tid=\"p-namespaces-label\" \\t\\t \\t\\tclass=\"vector-menu-heading \" \\t> \\t\\tПространства имён \\t \\t \\t\\t \\t\\t \\t\\t\\t \\t\\t\\tСтатьяОбсуждение \\t\\t \\t\\t \\t   \\t\\t\\t  \\t<input type=\"checkbox\" \\t\\tid=\"p-variants-checkbox\" \\t\\trole=\"button\" \\t\\taria-haspopup=\"true\" \\t\\tdata-event-name=\"ui.dropdown-p-variants\" \\t\\tclass=\"vector-menu-checkbox\" \\t\\taria-labelledby=\"p-variants-label\" \\t> \\t<label \\t\\tid=\"p-variants-label\" \\t\\t \\t\\tclass=\"vector-menu-heading \" \\t> \\t\\tрусский \\t \\t \\t\\t \\t\\t \\t\\t\\t \\t\\t\\t \\t\\t \\t\\t \\t   \\t\\t \\t\\t \\t\\t\\t  \\t<h3 \\t\\tid=\"p-views-label\" \\t\\t \\t\\tclass=\"vector-menu-heading \" \\t> \\t\\tПросмотры \\t \\t \\t\\t \\t\\t \\t\\t\\t \\t\\t\\tЧитатьПравитьПравить кодИстория \\t\\t \\t\\t \\t   \\t\\t\\t  \\t<input type=\"checkbox\" \\t\\tid=\"p-cactions-checkbox\" \\t\\trole=\"button\" \\t\\taria-haspopup=\"true\" \\t\\tdata-event-name=\"ui.dropdown-p-cactions\" \\t\\tclass=\"vector-menu-checkbox\" \\t\\taria-labelledby=\"p-cactions-label\" \\t> \\t<label \\t\\tid=\"p-cactions-label\" \\t\\t \\t\\tclass=\"vector-menu-heading \" \\t> \\t\\tЕщё \\t \\t \\t\\t \\t\\t \\t\\t\\t \\t\\t\\t \\t\\t \\t\\t \\t   \\t\\t\\t  \\tПоиск \\t \\t\\t<div id=\"simpleSearch\" \\t\\t\\tclass=\"vector-search-box-inner\" \\t\\t\\t data-search-loc=\"header-navigation\"> \\t\\t\\t<input class=\"vector-search-box-input\" \\t\\t\\t\\t type=\"search\" name=\"search\" placeholder=\"Искать в Википедии\" aria-label=\"Искать в Википедии\" autocapitalize=\"sentences\" title=\"Искать в Википедии [f]\" accesskey=\"f\" id=\"searchInput\" \\t\\t\\t> \\t\\t\\t \\t\\t\\t<input id=\"mw-searchButton\" \\t\\t\\t\\t class=\"searchButton mw-fallbackSearchButton\" type=\"submit\" name=\"fulltext\" title=\"Найти страницы, содержащие указанный текст\" value=\"Найти\"> \\t\\t\\t<input id=\"searchButton\" \\t\\t\\t\\t class=\"searchButton\" type=\"submit\" name=\"go\" title=\"Перейти к странице, имеющей в точности такое название\" value=\"Перейти\"> \\t\\t \\t   \\t\\t \\t \\t  \\t \\t\\t<a class=\"mw-wiki-logo\" href=\"/wiki/%D0%97%D0%B0%D0%B3%D0%BB%D0%B0%D0%B2%D0%BD%D0%B0%D1%8F_%D1%81%D1%82%D1%80%D0%B0%D0%BD%D0%B8%D1%86%D0%B0\" \\t\\t\\ttitle=\"Перейти на заглавную страницу\"> \\t \\t  \\t<h3 \\t\\tid=\"p-navigation-label\" \\t\\t \\t\\tclass=\"vector-menu-heading \" \\t> \\t\\tНавигация \\t \\t \\t\\t \\t\\t \\t\\t\\t \\t\\t\\tЗаглавная страницаСодержаниеИзбранные статьиСлучайная статьяТекущие событияПожертвовать \\t\\t \\t\\t \\t   \\t  \\t<h3 \\t\\tid=\"p-participation-label\" \\t\\t \\t\\tclass=\"vector-menu-heading \" \\t> \\t\\tУчастие \\t \\t \\t\\t \\t\\t \\t\\t\\t \\t\\t\\tСообщить об\\xa0ошибкеКак править статьиСообществоФорумСвежие правкиНовые страницыСправка \\t\\t \\t\\t \\t    \\t<h3 \\t\\tid=\"p-tb-label\" \\t\\t \\t\\tclass=\"vector-menu-heading \" \\t> \\t\\tИнструменты \\t \\t \\t\\t \\t\\t \\t\\t\\t \\t\\t\\tСсылки сюдаСвязанные правкиСлужебные страницыПостоянная ссылкаСведения о\\xa0страницеЦитировать страницуПолучить короткий URLСкачать QR-кодЭлемент Викиданных \\t\\t \\t\\t \\t    \\t<h3 \\t\\tid=\"p-coll-print_export-label\" \\t\\t \\t\\tclass=\"vector-menu-heading \" \\t> \\t\\tПечать/экспорт \\t \\t \\t\\t \\t\\t \\t\\t\\t \\t\\t\\tСкачать как PDFВерсия для печати \\t\\t \\t\\t \\t    \\t<h3 \\t\\tid=\"p-wikibase-otherprojects-label\" \\t\\t \\t\\tclass=\"vector-menu-heading \" \\t> \\t\\tВ других проектах \\t \\t \\t\\t \\t\\t \\t\\t\\t \\t\\t\\tВикискладВикиновости \\t\\t \\t\\t \\t   \\t  \\t<h3 \\t\\tid=\"p-lang-label\" \\t\\t \\t\\tclass=\"vector-menu-heading \" \\t> \\t\\tНа других языках \\t \\t \\t\\t \\t\\t \\t\\t\\t \\t\\t\\tAfrikaansAlemannischአማርኛAragonésÆngliscالعربيةمصرىঅসমীয়াAsturianuKotavaAzərbaycancaتۆرکجهБашҡортсаBasa BaliŽemaitėškaBikol CentralБеларускаяБеларуская (тарашкевіца)БългарскиभोजपुरीBanjarပအိုဝ်ႏဘာႏသာႏBamanankanবাংলাབོད་ཡིགBrezhonegBosanskiBatak MandailingБуряадCatalà閩東語 / Mìng-dĕ̤ng-ngṳ̄НохчийнCebuanoکوردیCorsuČeštinaKaszëbscziСловѣньскъ / ⰔⰎⰑⰂⰡⰐⰠⰔⰍⰟЧӑвашлаCymraegDanskDeutschThuɔŋjäŋZazakiDolnoserbskiދިވެހިބަސްΕλληνικάEnglishEsperantoEspañolEestiEuskaraEstremeñuفارسیSuomiVõroNa Vosa VakavitiFøroysktFrançaisArpetanNordfriiskFurlanFryskGaeilgeKriyòl gwiyannenGàidhligGalegoAvañe\\'ẽWayuunaikiGaelgעבריתहिन्दीFiji HindiHrvatskiHornjoserbsceKreyòl ayisyenMagyarՀայերենԱրեւմտահայերէնInterlinguaBahasa IndonesiaInterlingueIlokanoГӀалгӀайIdoÍslenskaItalianoᐃᓄᒃᑎᑐᑦ / inuktitut日本語La .lojban.JawaქართულიTaqbaylitTyapҚазақшаភាសាខ្មែរಕನ್ನಡ한국어Къарачай-малкъарKurdîKernowekКыргызчаLatinaLadinoLëtzebuergeschLingua Franca NovaLimburgsLigureLadinLombardລາວLietuviųLatgaļuLatviešuМокшеньMalagasyОлык марийMinangkabauМакедонскиമലയാളംМонголꯃꯤꯇꯩ ꯂꯣꯟमराठीBahasa MelayuMaltiမြန်မာဘာသာNāhuatlPlattdüütschNedersaksiesनेपालीNederlandsNorsk nynorskNorsk bokmålNovialߒߞߏNouormandOccitanଓଡ଼ିଆИронਪੰਜਾਬੀKapampanganPapiamentuNorfuk / PitkernPolskiPiemontèisپنجابیΠοντιακάپښتوPortuguêsRuna SimiRomani čhibRomânăArmãneashtiРусиньскыйसंस्कृतम्Саха тылаᱥᱟᱱᱛᱟᱲᱤSarduSicilianuScotsسنڌيSrpskohrvatski / српскохрватскиසිංහලSimple EnglishSlovenčinaSlovenščinaAnarâškielâChiShonaShqipСрпски / srpskiSeelterskSundaSvenskaKiswahiliதமிழ்ТоҷикӣไทยTagalogTok PisinTürkçeSeediqТатарча / tatarçaئۇيغۇرچە / UyghurcheУкраїнськаاردوOʻzbekcha / ўзбекчаVènetoVepsän kel’Tiếng ViệtWalonWinaray吴语მარგალურიייִדישZeêuwsⵜⴰⵎⴰⵣⵉⵖⵜ ⵜⴰⵏⴰⵡⴰⵢⵜ中文文言閩南語 / Bân-lâm-gú粵語 \\t\\t \\t\\tПравить ссылки \\t        \\t \\t Эта страница в последний раз была отредактирована 26 августа 2024 в 19:26. \\tТекст доступен по лицензии Creative Commons «С указанием авторства — С сохранением условий» (CC BY-SA); в отдельных случаях могут действовать дополнительные условия. Подробнее см. Условия использования. Wikipedia®\\xa0— зарегистрированный товарный знак некоммерческой организации «Фонд Викимедиа» (Wikimedia Foundation, Inc.)   \\t \\tПолитика конфиденциальности \\tОписание Википедии \\tОтказ от ответственности \\tСвяжитесь с нами \\tКодекс поведения \\tРазработчики \\tСтатистика \\tЗаявление о куки \\tМобильная версия   \\t \\t \\t     (RLQ=window.RLQ||[]).push(function(){mw.log.warn(\"This page is using the deprecated ResourceLoader module \\\\\"codex-search-styles\\\\\".\\\\n[1.43] Use a CodexModule with codexComponents to set your specific components used: https://www.mediawiki.org/wiki/Codex#Using_a_limited_subset_of_components\");mw.config.set({\"wgHostname\":\"mw-web.codfw.main-6446775774-zwwt4\",\"wgBackendResponseTime\":178,\"wgPageParseReport\":{\"limitreport\":{\"cputime\":\"0.716\",\"walltime\":\"0.895\",\"ppvisitednodes\":{\"value\":2394,\"limit\":1000000},\"postexpandincludesize\":{\"value\":63916,\"limit\":2097152},\"templateargumentsize\":{\"value\":5807,\"limit\":2097152},\"expansiondepth\":{\"value\":14,\"limit\":100},\"expensivefunctioncount\":{\"value\":7,\"limit\":500},\"unstrip-depth\":{\"value\":0,\"limit\":20},\"unstrip-size\":{\"value\":11336,\"limit\":5000000},\"entityaccesscount\":{\"value\":1,\"limit\":400},\"timingprofile\":[\"100.00%  725.009      1 -total\",\" 28.85%  209.135      1 Шаблон:Внешние_ссылки\",\" 19.38%  140.535      2 Шаблон:Ambox\",\" 17.02%  123.368      1 Шаблон:Родственные_проекты\",\" 16.14%  117.015      1 Шаблон:Лишняя_литература\",\" 10.63%   77.065      1 Шаблон:Книга\",\"  8.71%   63.119      1 Шаблон:Лингвистика\",\"  8.36%   60.602      1 Шаблон:Боковая_навигационная_таблица\",\"  7.11%   51.542      1 Шаблон:Примечания\",\"  5.82%   42.196      1 Шаблон:БРЭ\"]},\"scribunto\":{\"limitreport-timeusage\":{\"value\":\"0.375\",\"limit\":\"10.000\"},\"limitreport-memusage\":{\"value\":5272141,\"limit\":52428800}},\"cachereport\":{\"origin\":\"mw-api-int.eqiad.main-844cff9c8b-pbqv4\",\"timestamp\":\"20240907231403\",\"ttl\":2592000,\"transientcontent\":false}}});}); {\"@context\":\"https:\\\\/\\\\/schema.org\",\"@type\":\"Article\",\"name\":\"\\\\u041b\\\\u0438\\\\u043d\\\\u0433\\\\u0432\\\\u0438\\\\u0441\\\\u0442\\\\u0438\\\\u043a\\\\u0430\",\"url\":\"https:\\\\/\\\\/ru.wikipedia.org\\\\/wiki\\\\/%D0%9B%D0%B8%D0%BD%D0%B3%D0%B2%D0%B8%D1%81%D1%82%D0%B8%D0%BA%D0%B0\",\"sameAs\":\"http:\\\\/\\\\/www.wikidata.org\\\\/entity\\\\/Q8162\",\"mainEntity\":\"http:\\\\/\\\\/www.wikidata.org\\\\/entity\\\\/Q8162\",\"author\":{\"@type\":\"Organization\",\"name\":\"Contributors to Wikimedia projects\"},\"publisher\":{\"@type\":\"Organization\",\"name\":\"\\\\u0424\\\\u043e\\\\u043d\\\\u0434 \\\\u0412\\\\u0438\\\\u043a\\\\u0438\\\\u043c\\\\u0435\\\\u0434\\\\u0438\\\\u0430\",\"logo\":{\"@type\":\"ImageObject\",\"url\":\"https:\\\\/\\\\/www.wikimedia.org\\\\/static\\\\/images\\\\/wmf-hor-googpub.png\"}},\"datePublished\":\"2002-12-04T14:30:18Z\",\"dateModified\":\"2024-08-26T19:26:29Z\",\"image\":\"https:\\\\/\\\\/upload.wikimedia.org\\\\/wikipedia\\\\/commons\\\\/6\\\\/65\\\\/Human_Language_Families_ru.png\",\"headline\":\"\\\\u043d\\\\u0430\\\\u0443\\\\u043a\\\\u0430, \\\\u0438\\\\u0437\\\\u0443\\\\u0447\\\\u0430\\\\u044e\\\\u0449\\\\u0430\\\\u044f \\\\u044f\\\\u0437\\\\u044b\\\\u043a\\\\u0438\"}  '"
            ]
          },
          "execution_count": 16,
          "metadata": {},
          "output_type": "execute_result"
        }
      ],
      "source": [
        "def cleanhtml(raw_html):\n",
        "    # ВАШ Код\n",
        "    pass\n",
        "\n",
        "clean_text = cleanhtml(parcer(url))\n",
        "clean_text"
      ]
    },
    {
      "cell_type": "markdown",
      "metadata": {
        "id": "prfaMIwxWr7_"
      },
      "source": [
        "Важно помнить, что каждый отдельный сайт имеет свою структуру, а следовательно, требует отдельных методов обработки. Поэтому, для сохранения нервов и времени, стоит брать сразу такие сайты, в которых есть достаточно данных для дальнейшей работы."
      ]
    },
    {
      "cell_type": "markdown",
      "metadata": {
        "id": "_-lONBKWlBJE"
      },
      "source": [
        "#### Автоматизация: BeautifulSoup"
      ]
    },
    {
      "cell_type": "code",
      "execution_count": null,
      "metadata": {
        "colab": {
          "base_uri": "https://localhost:8080/"
        },
        "id": "MJ8XuIjMlAmM",
        "outputId": "9d89a626-8f4a-43ef-ff12-37076be03aa4"
      },
      "outputs": [
        {
          "name": "stdout",
          "output_type": "stream",
          "text": [
            "Лингви́стика (от лат. lingua «язык»), языкозна́ние, языкове́дение — наука, изучающая язык[1][2].\n",
            "Это наука о естественном человеческом языке вообще и обо всех языках мира как его индивидуализированных представителях.\n",
            "В широком смысле слова лингвистика подразделяется на научную и практическую. Чаще всего под лингвистикой подразумевается \n"
          ]
        }
      ],
      "source": [
        "from bs4 import BeautifulSoup\n",
        "text = parcer(url)\n",
        "soup = BeautifulSoup(text, 'html.parser')\n",
        "print(soup.text.replace('\\n\\n\\n', ' ')[862:1200])"
      ]
    },
    {
      "cell_type": "markdown",
      "metadata": {
        "id": "JurjdwY849G7"
      },
      "source": [
        "#### Автоматизация: Wikipedia\n",
        "Многие крупные страницы уже имеют решения по автоматической обработке данных"
      ]
    },
    {
      "cell_type": "code",
      "execution_count": null,
      "metadata": {
        "id": "AJviRSt92Xpi"
      },
      "outputs": [],
      "source": [
        "import wikipedia as wpd"
      ]
    },
    {
      "cell_type": "code",
      "execution_count": null,
      "metadata": {
        "colab": {
          "base_uri": "https://localhost:8080/"
        },
        "id": "a6Ta0qnC5TKR",
        "outputId": "cb452e5d-987d-4f62-c8a7-099a93949fd7"
      },
      "outputs": [
        {
          "name": "stdout",
          "output_type": "stream",
          "text": [
            "Linguistics\n",
            "https://en.wikipedia.org/wiki/Linguistics\n"
          ]
        }
      ],
      "source": [
        "li = wpd.page(\"Linguistics\")\n",
        "print(li.title)\n",
        "print(li.url)"
      ]
    },
    {
      "cell_type": "code",
      "execution_count": null,
      "metadata": {
        "colab": {
          "base_uri": "https://localhost:8080/"
        },
        "collapsed": true,
        "id": "ctvY0K1fXYop",
        "outputId": "7c908e02-c598-4167-e3ec-af53ab8beb92"
      },
      "outputs": [
        {
          "data": {
            "text/plain": [
              "['Gemeinsame Normdatei',\n",
              " 'Акустика',\n",
              " 'Акустика речи',\n",
              " 'Анкетирование в лингвистике',\n",
              " 'Антропологическая лингвистика',\n",
              " 'Антропонимика',\n",
              " 'Арго',\n",
              " 'Ареалогия',\n",
              " 'Ареальная лингвистика',\n",
              " 'Артикуляционная фонетика']"
            ]
          },
          "execution_count": 20,
          "metadata": {},
          "output_type": "execute_result"
        }
      ],
      "source": [
        "wpd.set_lang(\"ru\")\n",
        "ly = wpd.page(\"Лингвистика\")\n",
        "\n",
        "ly.links[:10]"
      ]
    },
    {
      "cell_type": "code",
      "execution_count": null,
      "metadata": {
        "colab": {
          "base_uri": "https://localhost:8080/"
        },
        "id": "-pz1aLB05j5i",
        "outputId": "900c73bc-b33a-429c-8288-2a963c037f0d"
      },
      "outputs": [
        {
          "name": "stdout",
          "output_type": "stream",
          "text": [
            "Лингви́стика (от лат. lingua «язык»), языкозна́ние, языкове́дение — наука, изучающая язык.\n",
            "Это наука о естественном человеческом языке вообще и обо всех языках мира как его индивидуализированных представителях.\n",
            "В широком смысле слова лингвистика подразделяется на научную и практическую. Чаще всего под лингвистикой подразумевается именно научная лингвистика; профессионально ей занимаются учёные-лингвисты. Лингвистика связана с семиотикой как наукой о знаковых система\n"
          ]
        }
      ],
      "source": [
        "clean_text = ly.content\n",
        "print(clean_text[:470])"
      ]
    },
    {
      "cell_type": "markdown",
      "metadata": {
        "id": "LVA9OYwC5hp3"
      },
      "source": [
        "__Вопрос на подумать:__\n",
        "\n",
        "> Как из имеющихся команд можно быстро собрать большое количество, похожих по теме статей?\n",
        "\n",
        "---\n",
        "\n"
      ]
    },
    {
      "cell_type": "code",
      "execution_count": null,
      "metadata": {
        "collapsed": true,
        "id": "P0r-QEbGbEcW"
      },
      "outputs": [],
      "source": [
        "from tqdm import tqdm\n",
        "\n",
        "def get_similar_texts(lang, page_name, num=10):\n",
        "    wiki_content = []\n",
        "    wpd.set_lang(lang)\n",
        "    pbar = tqdm(total=num)\n",
        "\n",
        "    page = wpd.page(page_name)\n",
        "    wiki_content.append(\"%s\\n%s\" % (page.title, page.content.replace('=', '')))\n",
        "    pbar.update(1)\n",
        "\n",
        "    i = 0\n",
        "    while (len(wiki_content) != num) and (i < len(wiki_content)):\n",
        "        page_name = page.links[i]\n",
        "        try:\n",
        "            page = wpd.page(page_name)\n",
        "            wiki_content.append(\"%s\\n%s\" % (page.title, page.content.replace('=', '')))\n",
        "            pbar.update(1)\n",
        "        except wpd.exceptions.WikipediaException:\n",
        "            print(\"Skip %s\" % page_name)\n",
        "        i += 1\n",
        "\n",
        "    pbar.close()\n",
        "    return wiki_content"
      ]
    },
    {
      "cell_type": "code",
      "execution_count": null,
      "metadata": {
        "colab": {
          "base_uri": "https://localhost:8080/"
        },
        "id": "_eV12ualRGPW",
        "outputId": "28ab9807-47f0-40cb-d9ab-915f8d89d375"
      },
      "outputs": [
        {
          "name": "stderr",
          "output_type": "stream",
          "text": [
            "100%|██████████| 10/10 [00:24<00:00,  2.45s/it]\n"
          ]
        }
      ],
      "source": [
        "similar_texts = get_similar_texts('ru', 'Лингвистика')"
      ]
    },
    {
      "cell_type": "code",
      "execution_count": null,
      "metadata": {
        "id": "uq8-Hb7VIi1h"
      },
      "outputs": [],
      "source": [
        "# similar_texts[:2]"
      ]
    },
    {
      "cell_type": "markdown",
      "metadata": {
        "id": "eaUjks2Ywuht"
      },
      "source": [
        "На семинарах мы, как правило, будем работать на относительно небольшых объёмах данных -- так что сейчас мы не будем скачивать большой текст для нашего неумеющего в морфологию спеллчекера, а поработаем на относительно небольшом объёме данных -- на нашем тексте про лингвистику."
      ]
    },
    {
      "cell_type": "markdown",
      "metadata": {
        "id": "c-xiOVnQ59fH"
      },
      "source": [
        "## 2. Препроцессинг"
      ]
    },
    {
      "cell_type": "markdown",
      "metadata": {
        "id": "HHRHtOht6GQL"
      },
      "source": [
        "Существуют различные виды препроцессинга, подходящие для разных видов задач:\n",
        "\n",
        "1. Токенизация\n",
        "2. Нормализация/лемматизация\n",
        "3. POS-tagging\n",
        "4. Чанкинг\n",
        "5. Словари и множества для хранения данных\n",
        "\n",
        "А ещё синтаксические парсеры, деревья, поиск именованных сущностей и тд."
      ]
    },
    {
      "cell_type": "markdown",
      "metadata": {
        "id": "Sd4gb6xcCAqE"
      },
      "source": [
        "### 2.1 Токенизация"
      ]
    },
    {
      "cell_type": "markdown",
      "metadata": {
        "id": "YBZe6FwgTJkt"
      },
      "source": [
        "Какой может быть токенизация? Предложите свой вариант токенизации в ячейке ниже."
      ]
    },
    {
      "cell_type": "code",
      "execution_count": null,
      "metadata": {},
      "outputs": [],
      "source": [
        "from string import punctuation"
      ]
    },
    {
      "cell_type": "code",
      "execution_count": null,
      "metadata": {
        "id": "mOkW_iD6WDwM"
      },
      "outputs": [],
      "source": [
        "sent = 'Из-под стола выглянул рыжий кот, я удивился'"
      ]
    },
    {
      "cell_type": "markdown",
      "metadata": {
        "id": "wrS79G1ENX2Z"
      },
      "source": [
        "Обычно используется NLTK для токенизации"
      ]
    },
    {
      "cell_type": "code",
      "execution_count": null,
      "metadata": {
        "id": "_YOOfRGD8whJ"
      },
      "outputs": [],
      "source": [
        "tokens = nltk.word_tokenize(sent)\n",
        "tokens[:10]"
      ]
    },
    {
      "cell_type": "code",
      "execution_count": null,
      "metadata": {
        "id": "WPUANS3Dh_DB"
      },
      "outputs": [],
      "source": [
        "tokens = nltk.wordpunct_tokenize(sent)\n",
        "tokens[:10]"
      ]
    },
    {
      "cell_type": "markdown",
      "metadata": {
        "id": "3yuVfomYJUuG"
      },
      "source": [
        "### 2.2 Лемматизация"
      ]
    },
    {
      "cell_type": "markdown",
      "metadata": {
        "id": "dt_ScOpeNCqo"
      },
      "source": [
        "Разным языкам - разные лемматизаторы. Да и сами лемматизаторы разные:\n",
        "- pymorphy: большой словарь, которые подбирает форму слова на основе высчитанной статистики.\n",
        "    \n",
        "    \\+ работает быстро\n",
        "\n",
        "    \\- не всегда верно, так как не опирается на контекст\n",
        "- mystem: тоже основано на словарях, но при этом умеет в контекст и ещё может анализировать неизвестные слова на основе известной ей морфологии\n",
        "\n",
        "    \\+ умеет снимать однозначность\n",
        "\n",
        "    \\- работает медленнеее (хотя на больших текстах может и быстрее)\n",
        "\n",
        "И ещё много-много-много, но эти __база__."
      ]
    },
    {
      "cell_type": "code",
      "execution_count": null,
      "metadata": {
        "id": "JFjkj0sLJUM3"
      },
      "outputs": [],
      "source": [
        "from pymorphy2 import MorphAnalyzer\n",
        "morph = MorphAnalyzer(lang='ru')"
      ]
    },
    {
      "cell_type": "code",
      "execution_count": null,
      "metadata": {
        "colab": {
          "base_uri": "https://localhost:8080/"
        },
        "id": "PTDj-6IEPTea",
        "outputId": "009b640f-29f5-463e-ec07-7e9b5c43f75d"
      },
      "outputs": [
        {
          "data": {
            "text/plain": [
              "['Для', 'безе', 'надо', 'взбить', 'белки']"
            ]
          },
          "execution_count": 32,
          "metadata": {},
          "output_type": "execute_result"
        }
      ],
      "source": [
        "sent = 'Для безе надо взбить белки'\n",
        "tokens_pymorphy = nltk.word_tokenize(sent)\n",
        "tokens_pymorphy[:10]"
      ]
    },
    {
      "cell_type": "code",
      "execution_count": null,
      "metadata": {
        "colab": {
          "base_uri": "https://localhost:8080/"
        },
        "id": "ZZUtHMg8JeYb",
        "outputId": "03797629-2114-4d34-8ed8-bca7b558e456"
      },
      "outputs": [
        {
          "name": "stdout",
          "output_type": "stream",
          "text": [
            "Для\tдля\n",
            "безе\tбезе\n",
            "надо\tнадо\n",
            "взбить\tвзбить\n",
            "белки\tбелка\n"
          ]
        }
      ],
      "source": [
        "for token in tokens_pymorphy[:10]:\n",
        "    print(token, morph.parse(token)[0].normal_form, sep='\\t')"
      ]
    },
    {
      "cell_type": "code",
      "execution_count": null,
      "metadata": {
        "id": "-gbnYIZiINt9"
      },
      "outputs": [],
      "source": [
        "from pymystem3 import Mystem\n",
        "mystem = Mystem()"
      ]
    },
    {
      "cell_type": "code",
      "execution_count": null,
      "metadata": {
        "colab": {
          "base_uri": "https://localhost:8080/"
        },
        "id": "oJLeQtRqM6aq",
        "outputId": "46f379d1-6a3e-4cf7-f383-3f4681242c47"
      },
      "outputs": [
        {
          "name": "stdout",
          "output_type": "stream",
          "text": [
            "Для безе надо взбить белки\n",
            "для безе надо взбивать белок\n",
            "\n"
          ]
        }
      ],
      "source": [
        "lemmas = mystem.lemmatize(sent)\n",
        "print(sent)\n",
        "print(''.join(lemmas))"
      ]
    },
    {
      "cell_type": "markdown",
      "metadata": {
        "id": "Xd8_synkI0zL"
      },
      "source": [
        "### 2.3 POS-tagging"
      ]
    },
    {
      "cell_type": "markdown",
      "metadata": {
        "id": "RDlA9cKaRG0g"
      },
      "source": [
        "Например, NLTK"
      ]
    },
    {
      "cell_type": "code",
      "execution_count": null,
      "metadata": {
        "colab": {
          "base_uri": "https://localhost:8080/"
        },
        "id": "P-GoH0zA9wPJ",
        "outputId": "75f934a3-4c3d-4c92-a4bd-de98e859446f"
      },
      "outputs": [
        {
          "data": {
            "text/plain": [
              "[('At', 'IN'),\n",
              " ('eight', 'CD'),\n",
              " (\"o'clock\", 'NN'),\n",
              " ('on', 'IN'),\n",
              " ('Thursday', 'NNP'),\n",
              " ('morning', 'NN'),\n",
              " ('Arthur', 'NNP'),\n",
              " ('did', 'VBD'),\n",
              " (\"n't\", 'RB'),\n",
              " ('feel', 'VB'),\n",
              " ('very', 'RB'),\n",
              " ('good', 'JJ'),\n",
              " ('.', '.')]"
            ]
          },
          "execution_count": 36,
          "metadata": {},
          "output_type": "execute_result"
        }
      ],
      "source": [
        "sentence = \"At eight o'clock on Thursday morning Arthur didn't feel very good.\"\n",
        "tokens = nltk.word_tokenize(sentence)\n",
        "tagged = nltk.pos_tag(tokens)\n",
        "tagged"
      ]
    },
    {
      "cell_type": "markdown",
      "metadata": {
        "id": "I7nhS1CpuTVL"
      },
      "source": [
        "Но только на английском... Какие еще постеггеры вы знаете?"
      ]
    },
    {
      "cell_type": "code",
      "execution_count": null,
      "metadata": {
        "colab": {
          "base_uri": "https://localhost:8080/"
        },
        "collapsed": true,
        "id": "R9lKLAjZR8VE",
        "outputId": "7e79ca5a-f99d-4796-c32b-2e4ae2cda7cf"
      },
      "outputs": [
        {
          "name": "stdout",
          "output_type": "stream",
          "text": [
            "\u001b[2K     \u001b[90m━━━━━━━━━━━━━━━━━━━━━━━━━━━━━━━━━━━━━━━━\u001b[0m \u001b[32m15.3/15.3 MB\u001b[0m \u001b[31m48.9 MB/s\u001b[0m eta \u001b[36m0:00:00\u001b[0m\n",
            "\u001b[?25h\u001b[38;5;2m✔ Download and installation successful\u001b[0m\n",
            "You can now load the package via spacy.load('ru_core_news_sm')\n",
            "\u001b[38;5;3m⚠ Restart to reload dependencies\u001b[0m\n",
            "If you are in a Jupyter or Colab notebook, you may need to restart Python in\n",
            "order to load all the package's dependencies. You can do this by selecting the\n",
            "'Restart kernel' or 'Restart runtime' option.\n"
          ]
        }
      ],
      "source": [
        "!python3 -m spacy download ru_core_news_sm -q"
      ]
    },
    {
      "cell_type": "code",
      "execution_count": null,
      "metadata": {
        "colab": {
          "base_uri": "https://localhost:8080/"
        },
        "id": "N-1tpKQxo8Va",
        "outputId": "c4b955e9-40b6-459f-a5a6-a9c572a053d3"
      },
      "outputs": [
        {
          "name": "stdout",
          "output_type": "stream",
          "text": [
            "Для ADP\n",
            "безе NOUN\n",
            "надо ADV\n",
            "взбить VERB\n",
            "белки NOUN\n"
          ]
        }
      ],
      "source": [
        "import spacy\n",
        "nlp = spacy.load('ru_core_news_sm')\n",
        "\n",
        "doc = nlp(sent)\n",
        "for token in doc:\n",
        "    print(token.text, token.pos_)"
      ]
    },
    {
      "cell_type": "markdown",
      "metadata": {
        "id": "4-TIn9iiB6Zc"
      },
      "source": [
        "### 2.4 Chunking и более сложная синтаксическая обработка"
      ]
    },
    {
      "cell_type": "markdown",
      "metadata": {
        "id": "GG4hijQyJlt1"
      },
      "source": [
        "![picture](https://drive.google.com/uc?export=view&id=1bgUdg7vqbU4PgqiNoHbX81cz1fmIva5e)\n"
      ]
    },
    {
      "cell_type": "markdown",
      "metadata": {
        "id": "b66DYeQeLEMm"
      },
      "source": [
        "https://drive.google.com/file/d/1bgUdg7vqbU4PgqiNoHbX81cz1fmIva5e/view?usp=sharing"
      ]
    },
    {
      "cell_type": "markdown",
      "metadata": {
        "id": "Nt1vMbahLa2R"
      },
      "source": [
        "Давайте при думаем правила простого чанкинга линейных именных групп в английском посредством nltk"
      ]
    },
    {
      "cell_type": "code",
      "execution_count": null,
      "metadata": {
        "colab": {
          "base_uri": "https://localhost:8080/"
        },
        "id": "QjqbPsDcCctD",
        "outputId": "40412b0f-44f4-45f0-ff93-dae8f1376f02"
      },
      "outputs": [
        {
          "name": "stdout",
          "output_type": "stream",
          "text": [
            "(S\n",
            "  (NP the/DT little/JJ yellow/JJ dog/NN)\n",
            "  barked/VBD\n",
            "  at/IN\n",
            "  (NP the/DT cat/NN))\n"
          ]
        }
      ],
      "source": [
        "sentence = [\n",
        "    (\"the\", \"DT\"), (\"little\", \"JJ\"), (\"yellow\", \"JJ\"), (\"dog\", \"NN\"),\n",
        "    (\"barked\", \"VBD\"), (\"at\", \"IN\"),  (\"the\", \"DT\"), (\"cat\", \"NN\")\n",
        "]\n",
        "grammar = \"ВАШЕ ПРАВИЛО\"\n",
        "\n",
        "cp = nltk.RegexpParser(grammar)\n",
        "result = cp.parse(sentence)\n",
        "print(result)"
      ]
    },
    {
      "cell_type": "markdown",
      "metadata": {
        "id": "sgXllNzGmQBI"
      },
      "source": [
        "Можно ли для русского синтаксиса придумать подобные правила на основе частей речи? Возьмем предложение:\n",
        "\"Богатый мужчина дал золотых монет бедному\"\n",
        "\n",
        "1. Давайте попробуем разделить его на чанки.\n",
        "2. В каком формате это можно выводить?\n",
        "3. Напишите на основе наших размышлений код."
      ]
    },
    {
      "cell_type": "code",
      "execution_count": null,
      "metadata": {
        "id": "zm82vvYYlJpZ"
      },
      "outputs": [],
      "source": [
        "sent = 'Богатый мужчина дал золотых монет бедному'"
      ]
    },
    {
      "cell_type": "code",
      "execution_count": null,
      "metadata": {
        "id": "rJjPIdNBLxkn"
      },
      "outputs": [],
      "source": [
        "import pymorphy2\n",
        "morph = pymorphy2.MorphAnalyzer()"
      ]
    },
    {
      "cell_type": "code",
      "execution_count": null,
      "metadata": {
        "colab": {
          "base_uri": "https://localhost:8080/"
        },
        "id": "6Bz2_hI8L4BI",
        "outputId": "577bf053-bf8c-4405-b0d3-bf1ccdbfe4f2"
      },
      "outputs": [
        {
          "data": {
            "text/plain": [
              "OpencorporaTag('VERB,perf,intr plur,past,indc')"
            ]
          },
          "execution_count": 42,
          "metadata": {},
          "output_type": "execute_result"
        }
      ],
      "source": [
        "p = morph.parse('стали') [0]\n",
        "p.tag\n",
        "#p.tag.case\n",
        "#p.tag.gender\n",
        "#p.tag.number\n",
        "#p.tag.POS"
      ]
    },
    {
      "cell_type": "code",
      "execution_count": null,
      "metadata": {
        "id": "AKmwswXals8I"
      },
      "outputs": [],
      "source": [
        "ent = ('NOUN', 'ADJF', 'PRTF')\n",
        "\n",
        "def chunking(sent):\n",
        "    chunked_sent = []\n",
        "    chunk = []\n",
        "\n",
        "    # ВАШ КОД\n",
        "\n",
        "    return chunked_sent\n"
      ]
    },
    {
      "cell_type": "code",
      "execution_count": null,
      "metadata": {
        "colab": {
          "base_uri": "https://localhost:8080/"
        },
        "id": "3e0IxmZmp0TK",
        "outputId": "8fdcb580-c4b0-4d34-bf46-62bade93a4e2"
      },
      "outputs": [
        {
          "data": {
            "text/plain": [
              "[['Богатый', 'мужчина'], 'дал', ['золотых', 'монет'], ['бедному']]"
            ]
          },
          "execution_count": 44,
          "metadata": {},
          "output_type": "execute_result"
        }
      ],
      "source": [
        "chunked_sent = chunking(sent.split())\n",
        "chunked_sent"
      ]
    },
    {
      "cell_type": "markdown",
      "metadata": {
        "id": "5EM7DkRBs1D-"
      },
      "source": [
        "Однако, что делать с различного роди причастными оборотами или предложениями с \"который\"? Тут уже не обойтись без деревьев. В python есть библиотеки типа UD_Pipe, которые рисуют готовое дерево - мы рассмотрим их подробнее на следующих занятиях по теме.\n",
        "\n",
        "> Под \"чанкингом\" также часто имеют в виду разделение текста (или аудио, например) на куски, чтобы было проще обучать нейронные сети. Например, у BERT'а ограничен размер входного сообщения до 512 токенов, поэтому для обработки очень больших текстов требуется разделить его на куски, т.е. чанки\n",
        "\n"
      ]
    },
    {
      "cell_type": "markdown",
      "metadata": {
        "id": "Ctxh5Gxf_Lsz"
      },
      "source": [
        "### 2.4 Словари и сеты"
      ]
    },
    {
      "cell_type": "markdown",
      "metadata": {
        "id": "GhUDb2Swu5Uk"
      },
      "source": [
        "1. В чём принципиальная разница между множеством (сетом) и массивом из уникальных элементов?\n",
        "2. Существуют ли сценарии при которых нужно использовать массив из уникальных элементов?"
      ]
    },
    {
      "cell_type": "code",
      "execution_count": null,
      "metadata": {
        "colab": {
          "base_uri": "https://localhost:8080/"
        },
        "id": "m0CHnRmkxDQb",
        "outputId": "e5de2052-eff2-408d-dd55-f6529abcdef6"
      },
      "outputs": [
        {
          "data": {
            "text/plain": [
              "['Лингви́стика',\n",
              " 'от',\n",
              " 'лат',\n",
              " 'lingua',\n",
              " 'язык',\n",
              " 'языкозна́ние',\n",
              " 'языкове́дение',\n",
              " 'наука',\n",
              " 'изучающая',\n",
              " 'язык']"
            ]
          },
          "execution_count": 45,
          "metadata": {},
          "output_type": "execute_result"
        }
      ],
      "source": [
        "clean_text = clean_text.lower()\n",
        "\n",
        "no_accent = ['а', 'я', 'у', 'ю', 'о', 'е', 'э', 'и', 'ы', 'А', 'Я', 'У', 'Ю', 'О', 'Е', 'Э', 'И']\n",
        "accented = ['а́', 'я́', 'у́', 'ю́', 'о́', 'е́', 'э́', 'и́', 'ы́', 'А́', 'Я́', 'У́', 'Ю́', 'О́', 'Е́', 'Э́', 'И́']\n",
        "\n",
        "for acc, no_acc in zip(accented, no_accent):\n",
        "    clean_text = clean_text.replace(acc, no_acc)"
      ]
    },
    {
      "cell_type": "code",
      "execution_count": null,
      "metadata": {
        "colab": {
          "base_uri": "https://localhost:8080/"
        },
        "id": "orU6UPIo3Ff0",
        "outputId": "3abf69c5-c28f-45f1-8c56-6a8c99d3b4c5"
      },
      "outputs": [
        {
          "data": {
            "text/plain": [
              "2027"
            ]
          },
          "execution_count": 46,
          "metadata": {},
          "output_type": "execute_result"
        }
      ],
      "source": [
        "tokens = nltk.word_tokenize(clean_text)\n",
        "tokens = [token.strip(punctuation) for token in tokens if token.strip(punctuation)!='']\n",
        "tokens[:10]"
      ]
    },
    {
      "cell_type": "code",
      "execution_count": null,
      "metadata": {
        "id": "ZzM4DKD3z0oF"
      },
      "outputs": [],
      "source": [
        "from collections import Counter\n",
        "\n",
        "WORDS = Counter()\n",
        "WORDS.update(tokens)"
      ]
    },
    {
      "cell_type": "code",
      "execution_count": null,
      "metadata": {
        "id": "Q1auQCQRuxpE"
      },
      "outputs": [],
      "source": [
        "# WORDS"
      ]
    },
    {
      "cell_type": "markdown",
      "metadata": {
        "id": "knwOf4t20ZKL"
      },
      "source": [
        "## 3. Анализ и работа с данными\n",
        "\n",
        "Для работы с данными нет единого механизма - тут могут пригодиться и нейросети, и правила, стороннние библиотеки, и много чего еще - в рамках данного занятия посмотрим на вектора и расстояние Левенштейна."
      ]
    },
    {
      "cell_type": "code",
      "execution_count": null,
      "metadata": {
        "id": "3d11loGqyTJv"
      },
      "outputs": [],
      "source": [
        "from sklearn.feature_extraction.text import CountVectorizer, TfidfVectorizer\n",
        "from sklearn.metrics.pairwise import cosine_similarity, cosine_distances\n",
        "from collections import Counter\n",
        "import textdistance"
      ]
    },
    {
      "cell_type": "markdown",
      "metadata": {
        "id": "fFZj1nFd1LEo"
      },
      "source": [
        "### Векторные методы\n",
        "\n",
        "1. Какие методы преобразования тексты в вектора (векторайзеры) вы знаете?\n",
        "2. Можете описать как работает векторайзер?\n",
        "3. Как сравнить насколько вектора похожи?"
      ]
    },
    {
      "cell_type": "code",
      "execution_count": null,
      "metadata": {
        "id": "wzd_w_KdvJot"
      },
      "outputs": [],
      "source": [
        "vocab = list(WORDS.keys())\n",
        "id2word = {i:word for i, word in enumerate(vocab)}"
      ]
    },
    {
      "cell_type": "code",
      "execution_count": null,
      "metadata": {
        "colab": {
          "base_uri": "https://localhost:8080/"
        },
        "id": "_mfZTSLA1DaA",
        "outputId": "f640fed2-977e-4cba-dbcf-0b29e90b79c3"
      },
      "outputs": [
        {
          "data": {
            "text/plain": [
              "['основного', 'основана', 'иностранного', 'оно', 'но']"
            ]
          },
          "execution_count": 51,
          "metadata": {},
          "output_type": "execute_result"
        }
      ],
      "source": [
        "vec = CountVectorizer(analyzer='char', ngram_range=(1,1))\n",
        "X = vec.fit_transform(vocab)\n",
        "\n",
        "def get_closest_match_vec(text, X, vec, TOPN=5):\n",
        "    v = vec.transform([text])\n",
        "    similarities = cosine_distances(v, X)\n",
        "    topn = similarities.argsort()[0][:TOPN]\n",
        "\n",
        "    return [id2word[top] for top in topn]\n",
        "\n",
        "get_closest_match_vec('асновного', X, vec)"
      ]
    },
    {
      "cell_type": "markdown",
      "metadata": {
        "id": "jdKcrmtm1Z9N"
      },
      "source": [
        "### Расстояние Левенштейна\n",
        "\n",
        "1. Что такое расстояние Левенштейна?\n",
        "2. Какие у него плюсы и минусы?\n",
        "\n",
        "![Изображение с ресурса \"Системный Блокъ\"](https://sysblok.ru/wp-content/uploads/2020/12/image1-2.png)\n"
      ]
    },
    {
      "cell_type": "code",
      "execution_count": null,
      "metadata": {
        "id": "ohoY93kJ1DkM"
      },
      "outputs": [],
      "source": [
        "def get_closest_match_with_metric(text, X, vec, metric=textdistance.levenshtein):\n",
        "    similarities = Counter()\n",
        "    lookup = get_closest_match_vec(text, X, vec, TOPN=3)\n",
        "    for word in lookup:\n",
        "        similarities[word] = metric.normalized_similarity(text, word)\n",
        "\n",
        "    return similarities.most_common(1)[0]"
      ]
    },
    {
      "cell_type": "code",
      "execution_count": null,
      "metadata": {
        "colab": {
          "base_uri": "https://localhost:8080/"
        },
        "id": "ZJfFle3-yIeL",
        "outputId": "f3f5af5f-e9c8-41f1-f0a3-21477a42796d"
      },
      "outputs": [
        {
          "data": {
            "text/plain": [
              "('лингвистика', 0.9090909090909091)"
            ]
          },
          "execution_count": 53,
          "metadata": {},
          "output_type": "execute_result"
        }
      ],
      "source": [
        "get_closest_match_with_metric('ленгвистика', X, vec, textdistance.hamming)"
      ]
    },
    {
      "cell_type": "code",
      "execution_count": null,
      "metadata": {
        "colab": {
          "base_uri": "https://localhost:8080/"
        },
        "id": "olVt4Ka2zKx4",
        "outputId": "4f2f784a-6165-43f2-95a2-88f6478968a1"
      },
      "outputs": [
        {
          "data": {
            "text/plain": [
              "('Эмпирическая', 0.9166666666666666)"
            ]
          },
          "execution_count": 54,
          "metadata": {},
          "output_type": "execute_result"
        }
      ],
      "source": [
        "get_closest_match_with_metric('импирическая', X, vec, textdistance.hamming)"
      ]
    },
    {
      "cell_type": "code",
      "execution_count": null,
      "metadata": {
        "colab": {
          "base_uri": "https://localhost:8080/"
        },
        "id": "gXKVbW4azayt",
        "outputId": "a6d7e2ef-527a-44e7-8a4a-af7e8c3d6f2c"
      },
      "outputs": [
        {
          "data": {
            "text/plain": [
              "('моделей', 0.7142857142857143)"
            ]
          },
          "execution_count": 55,
          "metadata": {},
          "output_type": "execute_result"
        }
      ],
      "source": [
        "get_closest_match_with_metric('мадэлей', X, vec, textdistance.hamming)"
      ]
    },
    {
      "cell_type": "markdown",
      "metadata": {
        "id": "C2x3LOuf4mFt"
      },
      "source": [
        "При выборе модели решения задачи мы всегда осуществляем некий трейд-офф между эффективность и время- энерго- затратностью. Алгоритмы, которые работают \"качественнее\"/ \"эффективнее\" часто требуют больших мощностей или времени.\n",
        "\n",
        "А как кстати определить качество? И как его улучшить?"
      ]
    },
    {
      "cell_type": "markdown",
      "metadata": {
        "id": "7ZlNpRwH5JCH"
      },
      "source": [
        "### 4. Качество\n",
        "\n",
        "Для оценки качества подхода требуется большое количество данных и правильно подобранные метрики. Базовые метрики: __accuracy, precision, recall, f1__.\n",
        "\n",
        "![picture](https://encrypted-tbn0.gstatic.com/images?q=tbn:ANd9GcTZnX2JPyF9icH7XMlM4BIlgw74TH4yWNG3kA&s)\n",
        "\n",
        "Если картинка не открывается, она тут: https://drive.google.com/uc?export=view&id=1ibvBKRAy_mn-ln4iZfzJNFTm349HCTmT"
      ]
    },
    {
      "cell_type": "markdown",
      "metadata": {
        "id": "i6NRuEqEprYt"
      },
      "source": [
        "## $F_{1}=\\frac{2\\times\\text{Precision} \\times \\text{Recall}}{\\text{Precision} + \\text{Recall}}$\n",
        "\n",
        "## $Accuracy=\\frac{\\text{TP} + \\text{TN}}{\\text{TP} + \\text{TN} + \\text{FP} + \\text{FN}}$"
      ]
    },
    {
      "cell_type": "markdown",
      "metadata": {
        "id": "Z68G1I0_SBdo"
      },
      "source": [
        "Можно ли найти уже готовый текст, на котором мы можем проверить наш спеллчекер?\n",
        "\n",
        "На большой коллекции текстов с сайтов интернет-газет и размеченных тектов диалога получились следующие метрики:\n",
        "- precision ~ 40%,\n",
        "- recall ~ 60%\n",
        "\n",
        "Что значат эти показатели с точки зрения работы модели и имеющихся данных? Как улучшить эти показатели?\n",
        "\n",
        "Давайте посмотрим на ошибки."
      ]
    },
    {
      "cell_type": "markdown",
      "metadata": {
        "id": "gRAlYPj8TMNw"
      },
      "source": [
        "Так, среди ошибок\n",
        "\n",
        "['симпатичнейшое', 'пояним', 'полчатся', 'нащщот', 'основая', 'вобщем', 'как', 'вы', 'знаете', 'из', 'моего', 'не', 'давнего', 'ящека', 'хороше', 'патаму', 'шта', 'поффтыкав', 'соре', 'чтото', 'мошный', 'хороше', 'седня', 'вешать', 'эт', 'канешна', 'начальнег', 'павзрослому', 'подсаживаеться', 'какието', 'малолетки', 'монголоидом', 'баръер', 'коментариев', 'отвественный', 'расчитаны', 'обълись', 'распрашивая', 'зубодробительня', 'каааак', 'расщифровать', 'самойто', 'тул', 'ваще', 'тока', 'навернео', 'ооочень', 'както', 'мущщину', 'никада']"
      ]
    },
    {
      "cell_type": "code",
      "execution_count": null,
      "metadata": {
        "id": "o8sxhkk02o8s"
      },
      "outputs": [],
      "source": [
        "# get_closest_match_with_metric('выигрышь', X, vec, textdistance.hamming)"
      ]
    },
    {
      "cell_type": "code",
      "execution_count": null,
      "metadata": {
        "id": "IorxQvb9YrHW"
      },
      "outputs": [],
      "source": []
    }
  ],
  "metadata": {
    "colab": {
      "provenance": []
    },
    "kernelspec": {
      "display_name": "Python 3",
      "name": "python3"
    }
  },
  "nbformat": 4,
  "nbformat_minor": 0
}
