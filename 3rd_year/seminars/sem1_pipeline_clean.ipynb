{
  "cells": [
    {
      "cell_type": "code",
      "execution_count": null,
      "metadata": {
        "id": "rKc92Eevlnyk"
      },
      "outputs": [],
      "source": [
        "!pip install wikipedia pymorphy2 textdistance -q"
      ]
    },
    {
      "cell_type": "markdown",
      "metadata": {
        "id": "blDFUuSxGaic"
      },
      "source": [
        "# Семинар 1. Базовый пайплайн работы с текстом. Создания простого спеллчекера с помощью NLTK, векторов и рассстояния Левенштейна."
      ]
    },
    {
      "cell_type": "markdown",
      "metadata": {
        "id": "K2GsLxb7TyKc"
      },
      "source": [
        "![picture](https://drive.google.com/uc?export=view&id=1Dh0iSF2AM-ApFQoMLigmDDBaNO978EAi)\n"
      ]
    },
    {
      "cell_type": "markdown",
      "metadata": {
        "id": "L5uuHtVSdY_C"
      },
      "source": [
        "## 1. Сбор данных"
      ]
    },
    {
      "cell_type": "markdown",
      "metadata": {
        "id": "Dh0CDmMmiScF"
      },
      "source": [
        "Под основные задачи было придумано огромное количество датасетов: [тональность](https://www.kaggle.com/datasets/abhi8923shriv/sentiment-analysis-dataset), [NER](https://github.com/juand-r/entity-recognition-datasets), [QA](https://rajpurkar.github.io/SQuAD-explorer/). Но... большинство данных на английском:)\n"
      ]
    },
    {
      "cell_type": "markdown",
      "metadata": {
        "id": "_PF9wrJlermY"
      },
      "source": [
        "### 1.1 Готовые корпуса"
      ]
    },
    {
      "cell_type": "code",
      "execution_count": null,
      "metadata": {
        "colab": {
          "base_uri": "https://localhost:8080/"
        },
        "collapsed": true,
        "id": "PCK9BaXbfOuN",
        "outputId": "43bec5c1-ae42-439e-e465-41aef1c90853"
      },
      "outputs": [],
      "source": [
        "import nltk\n",
        "nltk.download('book')\n",
        "nltk.download('all-corpora')"
      ]
    },
    {
      "cell_type": "code",
      "execution_count": null,
      "metadata": {
        "colab": {
          "base_uri": "https://localhost:8080/"
        },
        "id": "1QhD_tsxfRTj",
        "outputId": "717b1e41-9a12-4bd1-ae36-857f9f610fbc"
      },
      "outputs": [
        {
          "name": "stdout",
          "output_type": "stream",
          "text": [
            "*** Introductory Examples for the NLTK Book ***\n",
            "Loading text1, ..., text9 and sent1, ..., sent9\n",
            "Type the name of the text or sentence to view it.\n",
            "Type: 'texts()' or 'sents()' to list the materials.\n",
            "text1: Moby Dick by Herman Melville 1851\n",
            "text2: Sense and Sensibility by Jane Austen 1811\n",
            "text3: The Book of Genesis\n",
            "text4: Inaugural Address Corpus\n",
            "text5: Chat Corpus\n",
            "text6: Monty Python and the Holy Grail\n",
            "text7: Wall Street Journal\n",
            "text8: Personals Corpus\n",
            "text9: The Man Who Was Thursday by G . K . Chesterton 1908\n"
          ]
        }
      ],
      "source": [
        "from nltk.book import text1"
      ]
    },
    {
      "cell_type": "code",
      "execution_count": null,
      "metadata": {
        "colab": {
          "base_uri": "https://localhost:8080/"
        },
        "id": "r8rIGbJqfC8a",
        "outputId": "43f0451f-15fd-4417-a65e-1c2047590d1e"
      },
      "outputs": [
        {
          "data": {
            "text/plain": [
              "260819"
            ]
          },
          "execution_count": 4,
          "metadata": {},
          "output_type": "execute_result"
        }
      ],
      "source": [
        "len(text1)"
      ]
    },
    {
      "cell_type": "code",
      "execution_count": null,
      "metadata": {
        "id": "fHUUoGCTfmCP"
      },
      "outputs": [],
      "source": [
        "# text1[:100]"
      ]
    },
    {
      "cell_type": "code",
      "execution_count": null,
      "metadata": {
        "colab": {
          "base_uri": "https://localhost:8080/"
        },
        "id": "sFJBRBQvdzXV",
        "outputId": "ce62bef1-a928-4f65-e27e-77564e8a360b"
      },
      "outputs": [
        {
          "name": "stdout",
          "output_type": "stream",
          "text": [
            "Displaying 25 of 40 matches:\n",
            "t did those aboriginal whalemen , the Red - Men , first sally out in canoes to \n",
            " there . Further on , from the bright red windows of the \" Sword - Fish Inn ,\" \n",
            " Euroclydon ! says old Dives , in his red silken wrapper --( he had a redder on\n",
            "w Bedford , they bloom like their own red roses . But roses only bloom in summe\n",
            "ed the chapel with a handsome pair of red worsted man - ropes for this ladder ,\n",
            "of how this island was settled by the red - men . Thus goes the legend . In old\n",
            "n the porch of the inn , under a dull red lamp swinging there , that looked muc\n",
            " Quohog ! spring , thou chap with the red whiskers ; spring there , Scotch - ca\n",
            "ists the last remnant of a village of red men , which has long supplied the nei\n",
            "him from his mood . For , as when the red - cheeked , dancing girls , April and\n",
            "e benignity of age ; though among the Red Men of America the giving of the whit\n",
            "hen , with tornado brow , and eyes of red murder , and foam - glued lips , Ahab\n",
            "ir beaches to wild barbarians , whose red painted faces flash from out their pe\n",
            "down on the windlass ; his face fiery red , his eyes bloodshot , and wiping the\n",
            "ently floats , openly toying with his red - cheeked Cleopatra , ripening his ap\n",
            "ain , with some tatters of Radney ' s red woollen shirt , caught in the teeth t\n",
            "en ranging up for another fling . The red tide now poured from all sides of the\n",
            "at they all glowed to each other like red men . And all the while , jet after j\n",
            " At last , gush after gush of clotted red gore , as if it had been the purple l\n",
            " as if it had been the purple lees of red wine , shot into the frighted air ; a\n",
            " like hungry dogs round a table where red meat is being carved , ready to bolt \n",
            "ught we were offering up ten thousand red oxen to the sea gods . In the first p\n",
            "nd line - of - battle - ship loads of red - haired devils . What d ' ye say , T\n",
            "other passage up the Persian Gulf and Red Sea , such a supposition would involv\n",
            "ad of sparkling water , he now spouts red blood . \" That drove the spigot out o\n"
          ]
        }
      ],
      "source": [
        "text1.concordance('red')"
      ]
    },
    {
      "cell_type": "code",
      "execution_count": null,
      "metadata": {
        "id": "Am0LidP5hKbg"
      },
      "outputs": [],
      "source": [
        "from nltk.corpus import *"
      ]
    },
    {
      "cell_type": "code",
      "execution_count": null,
      "metadata": {
        "id": "UDdp0q21f9Ts"
      },
      "outputs": [],
      "source": [
        "?nltk.corpus"
      ]
    },
    {
      "cell_type": "code",
      "execution_count": null,
      "metadata": {
        "id": "T1c6cqJqcsvk"
      },
      "outputs": [],
      "source": [
        "# nltk.corpus.names.words('female.txt')"
      ]
    },
    {
      "cell_type": "markdown",
      "metadata": {
        "id": "H7JwdcXHFoPP"
      },
      "source": [
        "Ну и конечно, наше любимое, это стоп-слова."
      ]
    },
    {
      "cell_type": "code",
      "execution_count": null,
      "metadata": {
        "colab": {
          "base_uri": "https://localhost:8080/"
        },
        "collapsed": true,
        "id": "eLf269Qxg7JH",
        "outputId": "7ba69a3a-6a75-426f-bace-c9ab71f0aae3"
      },
      "outputs": [
        {
          "name": "stderr",
          "output_type": "stream",
          "text": [
            "[nltk_data] Downloading package stopwords to /root/nltk_data...\n",
            "[nltk_data]   Package stopwords is already up-to-date!\n"
          ]
        },
        {
          "data": {
            "text/plain": [
              "['и', 'в', 'во', 'не', 'что', 'он', 'на', 'я', 'с', 'со']"
            ]
          },
          "execution_count": 10,
          "metadata": {},
          "output_type": "execute_result"
        }
      ],
      "source": [
        "nltk.download(\"stopwords\")\n",
        "from nltk.corpus import stopwords\n",
        "\n",
        "russian_stopwords = stopwords.words(\"russian\")\n",
        "russian_stopwords[:10]"
      ]
    },
    {
      "cell_type": "markdown",
      "metadata": {
        "id": "0bDoyyV-h-7R"
      },
      "source": [
        "Существует и множество других встроенных библиотек с текстами (к примеру sklearn). Корпуса есть и на русском. Однако не редко встроенных текстов не достаточно и приходится пользоваться парсингом.\n",
        "\n",
        "Давайте подумаем, где мы можем взять данные для того, чтобы....\n",
        "- Обучить нейросеть определять тональность высказывания (проще говоря, является ли текст положительным/хвалебным, негативным или нейтральным)\n",
        "- Создать программу, которая будет определять, написан ли текст в формальном стиле или нет\n",
        "- Обучить нейросеть определять хейтспич?\n",
        "- Создать  функцию, которая убирает из текста стоп-слова?\n",
        "- Создать спеллчекер?"
      ]
    },
    {
      "cell_type": "markdown",
      "metadata": {
        "id": "BSID2k6_eHlp"
      },
      "source": [
        "### 1.2 Парсинг"
      ]
    },
    {
      "cell_type": "code",
      "execution_count": null,
      "metadata": {
        "id": "ZFKhqNl4GT57"
      },
      "outputs": [],
      "source": [
        "import urllib.request\n",
        "import re\n",
        "import os"
      ]
    },
    {
      "cell_type": "code",
      "execution_count": null,
      "metadata": {
        "id": "6GgNvmcKeesS"
      },
      "outputs": [],
      "source": [
        "def parcer(url):\n",
        "   page = urllib.request.urlopen(url)\n",
        "   text = page.read().decode('utf-8')\n",
        "   return text"
      ]
    },
    {
      "cell_type": "code",
      "execution_count": null,
      "metadata": {
        "id": "ESeIXBBBkxTU"
      },
      "outputs": [],
      "source": [
        "url = 'https://ru.wikipedia.org/wiki/%D0%9B%D0%B8%D0%BD%D0%B3%D0%B2%D0%B8%D1%81%D1%82%D0%B8%D0%BA%D0%B0'"
      ]
    },
    {
      "cell_type": "code",
      "execution_count": null,
      "metadata": {
        "id": "5Zu1Lqluk6ji"
      },
      "outputs": [],
      "source": [
        "text = parcer(url)"
      ]
    },
    {
      "cell_type": "code",
      "execution_count": null,
      "metadata": {
        "colab": {
          "base_uri": "https://localhost:8080/",
          "height": 143
        },
        "id": "O-uyTOclk_Wd",
        "outputId": "d76f85be-3ebb-4313-c917-b4982e5a90a8"
      },
      "outputs": [
        {
          "data": {
            "application/vnd.google.colaboratory.intrinsic+json": {
              "type": "string"
            },
            "text/plain": [
              "'<!DOCTYPE html>\\n<html class=\"client-nojs\" lang=\"ru\" dir=\"ltr\">\\n<head>\\n<meta charset=\"UTF-8\">\\n<title>Лингвистика — Википедия</title>\\n<script>(function(){var className=\"client-js\";var cookie=document.cookie.match(/(?:^|; )ruwikimwclientpreferences=([^;]+)/);if(cookie){cookie[1].split(\\'%2C\\').forEach(function(pref){className=className.replace(new RegExp(\\'(^| )\\'+pref.replace(/-clientpref-\\\\w+$|[^\\\\w-]+/g,\\'\\')+\\'-clientpref-\\\\\\\\w+( |$)\\'),\\'$1\\'+pref+\\'$2\\');});}document.documentElement.className=className;}());RLCONF={\"wgBreakFrames\":false,\"wgSeparatorTransformTable\":[\",\\\\t.\",\"\\xa0\\\\t,\"],\"wgDigitTransformTable\":[\"\",\"\"],\"wgDefaultDateFormat\":\"dmy\",\"wgMonthNames\":[\"\",\"январь\",\"февраль\",\"март\",\"апрель\",\"май\",\"июнь\",\"июль\",\"август\",\"сентябрь\",\"октябрь\",\"ноябрь\",\"декабрь\"],\"wgRequestId\":\"28cec913-e6b5-4924-a9ab-9a7f49f0e1d9\",\"wgCanonicalNamespace\":\"\",\"wgCanonicalSpecialPageName\":false,\"wgNamespaceNumber\":0,\"wgPageName\":\"Лингвистика\",\"wgTitle\":\"Лингвистика\",\"wgCurRevisionId\":139826574,\"wgRevisionId\":139826574,\"w'"
            ]
          },
          "execution_count": 15,
          "metadata": {},
          "output_type": "execute_result"
        }
      ],
      "source": [
        "text[:1000]"
      ]
    },
    {
      "cell_type": "markdown",
      "metadata": {
        "id": "TOdYDx9olRMG"
      },
      "source": [
        "#### Тренировка на регулярки!\n",
        "Как можно быстро убрать теги?\n",
        "Подсказка: сам текст страницы лежит после закрытия тега table.\n"
      ]
    },
    {
      "cell_type": "code",
      "execution_count": null,
      "metadata": {
        "colab": {
          "base_uri": "https://localhost:8080/",
          "height": 143
        },
        "id": "la4JobEip7D9",
        "outputId": "9bef28c1-2695-4e0a-ec4b-9a6af0b72613"
      },
      "outputs": [],
      "source": [
        "def cleanhtml(raw_html):\n",
        "    # ВАШ Код\n",
        "    pass\n",
        "\n",
        "clean_text = cleanhtml(parcer(url))\n",
        "clean_text"
      ]
    },
    {
      "cell_type": "markdown",
      "metadata": {
        "id": "prfaMIwxWr7_"
      },
      "source": [
        "Важно помнить, что каждый отдельный сайт имеет свою структуру, а следовательно, требует отдельных методов обработки. Поэтому, для сохранения нервов и времени, стоит брать сразу такие сайты, в которых есть достаточно данных для дальнейшей работы."
      ]
    },
    {
      "cell_type": "markdown",
      "metadata": {
        "id": "_-lONBKWlBJE"
      },
      "source": [
        "#### Автоматизация: BeautifulSoup"
      ]
    },
    {
      "cell_type": "code",
      "execution_count": null,
      "metadata": {
        "colab": {
          "base_uri": "https://localhost:8080/"
        },
        "id": "MJ8XuIjMlAmM",
        "outputId": "9d89a626-8f4a-43ef-ff12-37076be03aa4"
      },
      "outputs": [
        {
          "name": "stdout",
          "output_type": "stream",
          "text": [
            "Лингви́стика (от лат. lingua «язык»), языкозна́ние, языкове́дение — наука, изучающая язык[1][2].\n",
            "Это наука о естественном человеческом языке вообще и обо всех языках мира как его индивидуализированных представителях.\n",
            "В широком смысле слова лингвистика подразделяется на научную и практическую. Чаще всего под лингвистикой подразумевается \n"
          ]
        }
      ],
      "source": [
        "from bs4 import BeautifulSoup\n",
        "text = parcer(url)\n",
        "soup = BeautifulSoup(text, 'html.parser')\n",
        "print(soup.text.replace('\\n\\n\\n', ' ')[862:1200])"
      ]
    },
    {
      "cell_type": "markdown",
      "metadata": {
        "id": "JurjdwY849G7"
      },
      "source": [
        "#### Автоматизация: Wikipedia\n",
        "Многие крупные страницы уже имеют решения по автоматической обработке данных"
      ]
    },
    {
      "cell_type": "code",
      "execution_count": null,
      "metadata": {
        "id": "AJviRSt92Xpi"
      },
      "outputs": [],
      "source": [
        "import wikipedia as wpd"
      ]
    },
    {
      "cell_type": "code",
      "execution_count": null,
      "metadata": {
        "colab": {
          "base_uri": "https://localhost:8080/"
        },
        "id": "a6Ta0qnC5TKR",
        "outputId": "cb452e5d-987d-4f62-c8a7-099a93949fd7"
      },
      "outputs": [
        {
          "name": "stdout",
          "output_type": "stream",
          "text": [
            "Linguistics\n",
            "https://en.wikipedia.org/wiki/Linguistics\n"
          ]
        }
      ],
      "source": [
        "li = wpd.page(\"Linguistics\")\n",
        "print(li.title)\n",
        "print(li.url)"
      ]
    },
    {
      "cell_type": "code",
      "execution_count": null,
      "metadata": {
        "colab": {
          "base_uri": "https://localhost:8080/"
        },
        "collapsed": true,
        "id": "ctvY0K1fXYop",
        "outputId": "7c908e02-c598-4167-e3ec-af53ab8beb92"
      },
      "outputs": [
        {
          "data": {
            "text/plain": [
              "['Gemeinsame Normdatei',\n",
              " 'Акустика',\n",
              " 'Акустика речи',\n",
              " 'Анкетирование в лингвистике',\n",
              " 'Антропологическая лингвистика',\n",
              " 'Антропонимика',\n",
              " 'Арго',\n",
              " 'Ареалогия',\n",
              " 'Ареальная лингвистика',\n",
              " 'Артикуляционная фонетика']"
            ]
          },
          "execution_count": 20,
          "metadata": {},
          "output_type": "execute_result"
        }
      ],
      "source": [
        "wpd.set_lang(\"ru\")\n",
        "ly = wpd.page(\"Лингвистика\")\n",
        "\n",
        "ly.links[:10]"
      ]
    },
    {
      "cell_type": "code",
      "execution_count": null,
      "metadata": {
        "colab": {
          "base_uri": "https://localhost:8080/"
        },
        "id": "-pz1aLB05j5i",
        "outputId": "900c73bc-b33a-429c-8288-2a963c037f0d"
      },
      "outputs": [
        {
          "name": "stdout",
          "output_type": "stream",
          "text": [
            "Лингви́стика (от лат. lingua «язык»), языкозна́ние, языкове́дение — наука, изучающая язык.\n",
            "Это наука о естественном человеческом языке вообще и обо всех языках мира как его индивидуализированных представителях.\n",
            "В широком смысле слова лингвистика подразделяется на научную и практическую. Чаще всего под лингвистикой подразумевается именно научная лингвистика; профессионально ей занимаются учёные-лингвисты. Лингвистика связана с семиотикой как наукой о знаковых система\n"
          ]
        }
      ],
      "source": [
        "clean_text = ly.content\n",
        "print(clean_text[:470])"
      ]
    },
    {
      "cell_type": "markdown",
      "metadata": {
        "id": "LVA9OYwC5hp3"
      },
      "source": [
        "__Вопрос на подумать:__\n",
        "\n",
        "> Как из имеющихся команд можно быстро собрать большое количество, похожих по теме статей?\n",
        "\n",
        "---\n",
        "\n"
      ]
    },
    {
      "cell_type": "code",
      "execution_count": null,
      "metadata": {
        "collapsed": true,
        "id": "P0r-QEbGbEcW"
      },
      "outputs": [],
      "source": [
        "from tqdm import tqdm\n",
        "\n",
        "def get_similar_texts(lang, page_name, num=10):\n",
        "    wiki_content = []\n",
        "    wpd.set_lang(lang)\n",
        "    pbar = tqdm(total=num)\n",
        "\n",
        "    page = wpd.page(page_name)\n",
        "    wiki_content.append(\"%s\\n%s\" % (page.title, page.content.replace('=', '')))\n",
        "    pbar.update(1)\n",
        "\n",
        "    i = 0\n",
        "    while (len(wiki_content) != num) and (i < len(wiki_content)):\n",
        "        page_name = page.links[i]\n",
        "        try:\n",
        "            page = wpd.page(page_name)\n",
        "            wiki_content.append(\"%s\\n%s\" % (page.title, page.content.replace('=', '')))\n",
        "            pbar.update(1)\n",
        "        except wpd.exceptions.WikipediaException:\n",
        "            print(\"Skip %s\" % page_name)\n",
        "        i += 1\n",
        "\n",
        "    pbar.close()\n",
        "    return wiki_content"
      ]
    },
    {
      "cell_type": "code",
      "execution_count": null,
      "metadata": {
        "colab": {
          "base_uri": "https://localhost:8080/"
        },
        "id": "_eV12ualRGPW",
        "outputId": "28ab9807-47f0-40cb-d9ab-915f8d89d375"
      },
      "outputs": [
        {
          "name": "stderr",
          "output_type": "stream",
          "text": [
            "100%|██████████| 10/10 [00:24<00:00,  2.45s/it]\n"
          ]
        }
      ],
      "source": [
        "similar_texts = get_similar_texts('ru', 'Лингвистика')"
      ]
    },
    {
      "cell_type": "code",
      "execution_count": null,
      "metadata": {
        "id": "uq8-Hb7VIi1h"
      },
      "outputs": [],
      "source": [
        "# similar_texts[:2]"
      ]
    },
    {
      "cell_type": "markdown",
      "metadata": {
        "id": "eaUjks2Ywuht"
      },
      "source": [
        "На семинарах мы, как правило, будем работать на относительно небольшых объёмах данных -- так что сейчас мы не будем скачивать большой текст для нашего неумеющего в морфологию спеллчекера, а поработаем на относительно небольшом объёме данных -- на нашем тексте про лингвистику."
      ]
    },
    {
      "cell_type": "markdown",
      "metadata": {
        "id": "c-xiOVnQ59fH"
      },
      "source": [
        "## 2. Препроцессинг"
      ]
    },
    {
      "cell_type": "markdown",
      "metadata": {
        "id": "HHRHtOht6GQL"
      },
      "source": [
        "Существуют различные виды препроцессинга, подходящие для разных видов задач:\n",
        "\n",
        "1. Токенизация\n",
        "2. Нормализация/лемматизация\n",
        "3. POS-tagging\n",
        "4. Чанкинг\n",
        "5. Словари и множества для хранения данных\n",
        "\n",
        "А ещё синтаксические парсеры, деревья, поиск именованных сущностей и тд."
      ]
    },
    {
      "cell_type": "markdown",
      "metadata": {
        "id": "Sd4gb6xcCAqE"
      },
      "source": [
        "### 2.1 Токенизация"
      ]
    },
    {
      "cell_type": "markdown",
      "metadata": {
        "id": "YBZe6FwgTJkt"
      },
      "source": [
        "Какой может быть токенизация? Предложите свой вариант токенизации в ячейке ниже."
      ]
    },
    {
      "cell_type": "code",
      "execution_count": null,
      "metadata": {},
      "outputs": [],
      "source": [
        "from string import punctuation"
      ]
    },
    {
      "cell_type": "code",
      "execution_count": null,
      "metadata": {
        "id": "mOkW_iD6WDwM"
      },
      "outputs": [],
      "source": [
        "sent = 'Из-под стола выглянул рыжий кот, я удивился'"
      ]
    },
    {
      "cell_type": "markdown",
      "metadata": {
        "id": "wrS79G1ENX2Z"
      },
      "source": [
        "Обычно используется NLTK для токенизации"
      ]
    },
    {
      "cell_type": "code",
      "execution_count": null,
      "metadata": {
        "id": "_YOOfRGD8whJ"
      },
      "outputs": [],
      "source": [
        "tokens = nltk.word_tokenize(sent)\n",
        "tokens[:10]"
      ]
    },
    {
      "cell_type": "code",
      "execution_count": null,
      "metadata": {
        "id": "WPUANS3Dh_DB"
      },
      "outputs": [],
      "source": [
        "tokens = nltk.wordpunct_tokenize(sent)\n",
        "tokens[:10]"
      ]
    },
    {
      "cell_type": "markdown",
      "metadata": {
        "id": "3yuVfomYJUuG"
      },
      "source": [
        "### 2.2 Лемматизация"
      ]
    },
    {
      "cell_type": "markdown",
      "metadata": {
        "id": "dt_ScOpeNCqo"
      },
      "source": [
        "Разным языкам - разные лемматизаторы. Да и сами лемматизаторы разные:\n",
        "- pymorphy: большой словарь, которые подбирает форму слова на основе высчитанной статистики.\n",
        "    \n",
        "    \\+ работает быстро\n",
        "\n",
        "    \\- не всегда верно, так как не опирается на контекст\n",
        "- mystem: тоже основано на словарях, но при этом умеет в контекст и ещё может анализировать неизвестные слова на основе известной ей морфологии\n",
        "\n",
        "    \\+ умеет снимать однозначность\n",
        "\n",
        "    \\- работает медленнеее (хотя на больших текстах может и быстрее)\n",
        "\n",
        "И ещё много-много-много, но эти __база__."
      ]
    },
    {
      "cell_type": "code",
      "execution_count": null,
      "metadata": {
        "id": "JFjkj0sLJUM3"
      },
      "outputs": [],
      "source": [
        "from pymorphy2 import MorphAnalyzer\n",
        "morph = MorphAnalyzer(lang='ru')"
      ]
    },
    {
      "cell_type": "code",
      "execution_count": null,
      "metadata": {
        "colab": {
          "base_uri": "https://localhost:8080/"
        },
        "id": "PTDj-6IEPTea",
        "outputId": "009b640f-29f5-463e-ec07-7e9b5c43f75d"
      },
      "outputs": [
        {
          "data": {
            "text/plain": [
              "['Для', 'безе', 'надо', 'взбить', 'белки']"
            ]
          },
          "execution_count": 32,
          "metadata": {},
          "output_type": "execute_result"
        }
      ],
      "source": [
        "sent = 'Для безе надо взбить белки'\n",
        "tokens_pymorphy = nltk.word_tokenize(sent)\n",
        "tokens_pymorphy[:10]"
      ]
    },
    {
      "cell_type": "code",
      "execution_count": null,
      "metadata": {
        "colab": {
          "base_uri": "https://localhost:8080/"
        },
        "id": "ZZUtHMg8JeYb",
        "outputId": "03797629-2114-4d34-8ed8-bca7b558e456"
      },
      "outputs": [
        {
          "name": "stdout",
          "output_type": "stream",
          "text": [
            "Для\tдля\n",
            "безе\tбезе\n",
            "надо\tнадо\n",
            "взбить\tвзбить\n",
            "белки\tбелка\n"
          ]
        }
      ],
      "source": [
        "for token in tokens_pymorphy[:10]:\n",
        "    print(token, morph.parse(token)[0].normal_form, sep='\\t')"
      ]
    },
    {
      "cell_type": "code",
      "execution_count": null,
      "metadata": {
        "id": "-gbnYIZiINt9"
      },
      "outputs": [],
      "source": [
        "from pymystem3 import Mystem\n",
        "mystem = Mystem()"
      ]
    },
    {
      "cell_type": "code",
      "execution_count": null,
      "metadata": {
        "colab": {
          "base_uri": "https://localhost:8080/"
        },
        "id": "oJLeQtRqM6aq",
        "outputId": "46f379d1-6a3e-4cf7-f383-3f4681242c47"
      },
      "outputs": [
        {
          "name": "stdout",
          "output_type": "stream",
          "text": [
            "Для безе надо взбить белки\n",
            "для безе надо взбивать белок\n",
            "\n"
          ]
        }
      ],
      "source": [
        "lemmas = mystem.lemmatize(sent)\n",
        "print(sent)\n",
        "print(''.join(lemmas))"
      ]
    },
    {
      "cell_type": "markdown",
      "metadata": {
        "id": "Xd8_synkI0zL"
      },
      "source": [
        "### 2.3 POS-tagging"
      ]
    },
    {
      "cell_type": "markdown",
      "metadata": {
        "id": "RDlA9cKaRG0g"
      },
      "source": [
        "Например, NLTK"
      ]
    },
    {
      "cell_type": "code",
      "execution_count": null,
      "metadata": {
        "colab": {
          "base_uri": "https://localhost:8080/"
        },
        "id": "P-GoH0zA9wPJ",
        "outputId": "75f934a3-4c3d-4c92-a4bd-de98e859446f"
      },
      "outputs": [
        {
          "data": {
            "text/plain": [
              "[('At', 'IN'),\n",
              " ('eight', 'CD'),\n",
              " (\"o'clock\", 'NN'),\n",
              " ('on', 'IN'),\n",
              " ('Thursday', 'NNP'),\n",
              " ('morning', 'NN'),\n",
              " ('Arthur', 'NNP'),\n",
              " ('did', 'VBD'),\n",
              " (\"n't\", 'RB'),\n",
              " ('feel', 'VB'),\n",
              " ('very', 'RB'),\n",
              " ('good', 'JJ'),\n",
              " ('.', '.')]"
            ]
          },
          "execution_count": 36,
          "metadata": {},
          "output_type": "execute_result"
        }
      ],
      "source": [
        "sentence = \"At eight o'clock on Thursday morning Arthur didn't feel very good.\"\n",
        "tokens = nltk.word_tokenize(sentence)\n",
        "tagged = nltk.pos_tag(tokens)\n",
        "tagged"
      ]
    },
    {
      "cell_type": "markdown",
      "metadata": {
        "id": "I7nhS1CpuTVL"
      },
      "source": [
        "Но только на английском... Какие еще постеггеры вы знаете?"
      ]
    },
    {
      "cell_type": "code",
      "execution_count": null,
      "metadata": {
        "colab": {
          "base_uri": "https://localhost:8080/"
        },
        "collapsed": true,
        "id": "R9lKLAjZR8VE",
        "outputId": "7e79ca5a-f99d-4796-c32b-2e4ae2cda7cf"
      },
      "outputs": [
        {
          "name": "stdout",
          "output_type": "stream",
          "text": [
            "\u001b[2K     \u001b[90m━━━━━━━━━━━━━━━━━━━━━━━━━━━━━━━━━━━━━━━━\u001b[0m \u001b[32m15.3/15.3 MB\u001b[0m \u001b[31m48.9 MB/s\u001b[0m eta \u001b[36m0:00:00\u001b[0m\n",
            "\u001b[?25h\u001b[38;5;2m✔ Download and installation successful\u001b[0m\n",
            "You can now load the package via spacy.load('ru_core_news_sm')\n",
            "\u001b[38;5;3m⚠ Restart to reload dependencies\u001b[0m\n",
            "If you are in a Jupyter or Colab notebook, you may need to restart Python in\n",
            "order to load all the package's dependencies. You can do this by selecting the\n",
            "'Restart kernel' or 'Restart runtime' option.\n"
          ]
        }
      ],
      "source": [
        "!python3 -m spacy download ru_core_news_sm -q"
      ]
    },
    {
      "cell_type": "code",
      "execution_count": null,
      "metadata": {
        "colab": {
          "base_uri": "https://localhost:8080/"
        },
        "id": "N-1tpKQxo8Va",
        "outputId": "c4b955e9-40b6-459f-a5a6-a9c572a053d3"
      },
      "outputs": [
        {
          "name": "stdout",
          "output_type": "stream",
          "text": [
            "Для ADP\n",
            "безе NOUN\n",
            "надо ADV\n",
            "взбить VERB\n",
            "белки NOUN\n"
          ]
        }
      ],
      "source": [
        "import spacy\n",
        "nlp = spacy.load('ru_core_news_sm')\n",
        "\n",
        "doc = nlp(sent)\n",
        "for token in doc:\n",
        "    print(token.text, token.pos_)"
      ]
    },
    {
      "cell_type": "markdown",
      "metadata": {
        "id": "4-TIn9iiB6Zc"
      },
      "source": [
        "### 2.4 Chunking и более сложная синтаксическая обработка"
      ]
    },
    {
      "cell_type": "markdown",
      "metadata": {
        "id": "GG4hijQyJlt1"
      },
      "source": [
        "![picture](https://drive.google.com/uc?export=view&id=1bgUdg7vqbU4PgqiNoHbX81cz1fmIva5e)\n"
      ]
    },
    {
      "cell_type": "markdown",
      "metadata": {
        "id": "b66DYeQeLEMm"
      },
      "source": [
        "https://drive.google.com/file/d/1bgUdg7vqbU4PgqiNoHbX81cz1fmIva5e/view?usp=sharing"
      ]
    },
    {
      "cell_type": "markdown",
      "metadata": {
        "id": "Nt1vMbahLa2R"
      },
      "source": [
        "Давайте при думаем правила простого чанкинга линейных именных групп в английском посредством nltk"
      ]
    },
    {
      "cell_type": "code",
      "execution_count": null,
      "metadata": {
        "colab": {
          "base_uri": "https://localhost:8080/"
        },
        "id": "QjqbPsDcCctD",
        "outputId": "40412b0f-44f4-45f0-ff93-dae8f1376f02"
      },
      "outputs": [
        {
          "name": "stdout",
          "output_type": "stream",
          "text": [
            "(S\n",
            "  (NP the/DT little/JJ yellow/JJ dog/NN)\n",
            "  barked/VBD\n",
            "  at/IN\n",
            "  (NP the/DT cat/NN))\n"
          ]
        }
      ],
      "source": [
        "sentence = [\n",
        "    (\"the\", \"DT\"), (\"little\", \"JJ\"), (\"yellow\", \"JJ\"), (\"dog\", \"NN\"),\n",
        "    (\"barked\", \"VBD\"), (\"at\", \"IN\"),  (\"the\", \"DT\"), (\"cat\", \"NN\")\n",
        "]\n",
        "grammar = \"ВАШЕ ПРАВИЛО\"\n",
        "\n",
        "cp = nltk.RegexpParser(grammar)\n",
        "result = cp.parse(sentence)\n",
        "print(result)"
      ]
    },
    {
      "cell_type": "markdown",
      "metadata": {
        "id": "sgXllNzGmQBI"
      },
      "source": [
        "Можно ли для русского синтаксиса придумать подобные правила на основе частей речи? Возьмем предложение:\n",
        "\"Богатый мужчина дал золотых монет бедному\"\n",
        "\n",
        "1. Давайте попробуем разделить его на чанки.\n",
        "2. В каком формате это можно выводить?\n",
        "3. Напишите на основе наших размышлений код."
      ]
    },
    {
      "cell_type": "code",
      "execution_count": null,
      "metadata": {
        "id": "zm82vvYYlJpZ"
      },
      "outputs": [],
      "source": [
        "sent = 'Богатый мужчина дал золотых монет бедному'"
      ]
    },
    {
      "cell_type": "code",
      "execution_count": null,
      "metadata": {
        "id": "rJjPIdNBLxkn"
      },
      "outputs": [],
      "source": [
        "import pymorphy2\n",
        "morph = pymorphy2.MorphAnalyzer()"
      ]
    },
    {
      "cell_type": "code",
      "execution_count": null,
      "metadata": {
        "colab": {
          "base_uri": "https://localhost:8080/"
        },
        "id": "6Bz2_hI8L4BI",
        "outputId": "577bf053-bf8c-4405-b0d3-bf1ccdbfe4f2"
      },
      "outputs": [
        {
          "data": {
            "text/plain": [
              "OpencorporaTag('VERB,perf,intr plur,past,indc')"
            ]
          },
          "execution_count": 42,
          "metadata": {},
          "output_type": "execute_result"
        }
      ],
      "source": [
        "p = morph.parse('стали') [0]\n",
        "p.tag\n",
        "#p.tag.case\n",
        "#p.tag.gender\n",
        "#p.tag.number\n",
        "#p.tag.POS"
      ]
    },
    {
      "cell_type": "code",
      "execution_count": null,
      "metadata": {
        "id": "AKmwswXals8I"
      },
      "outputs": [],
      "source": [
        "ent = ('NOUN', 'ADJF', 'PRTF')\n",
        "\n",
        "def chunking(sent):\n",
        "    chunked_sent = []\n",
        "    chunk = []\n",
        "\n",
        "    # ВАШ КОД\n",
        "\n",
        "    return chunked_sent\n"
      ]
    },
    {
      "cell_type": "code",
      "execution_count": null,
      "metadata": {
        "colab": {
          "base_uri": "https://localhost:8080/"
        },
        "id": "3e0IxmZmp0TK",
        "outputId": "8fdcb580-c4b0-4d34-bf46-62bade93a4e2"
      },
      "outputs": [
        {
          "data": {
            "text/plain": [
              "[['Богатый', 'мужчина'], 'дал', ['золотых', 'монет'], ['бедному']]"
            ]
          },
          "execution_count": 44,
          "metadata": {},
          "output_type": "execute_result"
        }
      ],
      "source": [
        "chunked_sent = chunking(sent.split())\n",
        "chunked_sent"
      ]
    },
    {
      "cell_type": "markdown",
      "metadata": {
        "id": "5EM7DkRBs1D-"
      },
      "source": [
        "Однако, что делать с различного роди причастными оборотами или предложениями с \"который\"? Тут уже не обойтись без деревьев. В python есть библиотеки типа UD_Pipe, которые рисуют готовое дерево - мы рассмотрим их подробнее на следующих занятиях по теме.\n",
        "\n",
        "> Под \"чанкингом\" также часто имеют в виду разделение текста (или аудио, например) на куски, чтобы было проще обучать нейронные сети. Например, у BERT'а ограничен размер входного сообщения до 512 токенов, поэтому для обработки очень больших текстов требуется разделить его на куски, т.е. чанки\n",
        "\n"
      ]
    },
    {
      "cell_type": "markdown",
      "metadata": {
        "id": "Ctxh5Gxf_Lsz"
      },
      "source": [
        "### 2.4 Словари и сеты"
      ]
    },
    {
      "cell_type": "markdown",
      "metadata": {
        "id": "GhUDb2Swu5Uk"
      },
      "source": [
        "1. В чём принципиальная разница между множеством (сетом) и массивом из уникальных элементов?\n",
        "2. Существуют ли сценарии при которых нужно использовать массив из уникальных элементов?"
      ]
    },
    {
      "cell_type": "code",
      "execution_count": null,
      "metadata": {
        "colab": {
          "base_uri": "https://localhost:8080/"
        },
        "id": "m0CHnRmkxDQb",
        "outputId": "e5de2052-eff2-408d-dd55-f6529abcdef6"
      },
      "outputs": [
        {
          "data": {
            "text/plain": [
              "['Лингви́стика',\n",
              " 'от',\n",
              " 'лат',\n",
              " 'lingua',\n",
              " 'язык',\n",
              " 'языкозна́ние',\n",
              " 'языкове́дение',\n",
              " 'наука',\n",
              " 'изучающая',\n",
              " 'язык']"
            ]
          },
          "execution_count": 45,
          "metadata": {},
          "output_type": "execute_result"
        }
      ],
      "source": [
        "clean_text = clean_text.lower()\n",
        "\n",
        "no_accent = ['а', 'я', 'у', 'ю', 'о', 'е', 'э', 'и', 'ы', 'А', 'Я', 'У', 'Ю', 'О', 'Е', 'Э', 'И']\n",
        "accented = ['а́', 'я́', 'у́', 'ю́', 'о́', 'е́', 'э́', 'и́', 'ы́', 'А́', 'Я́', 'У́', 'Ю́', 'О́', 'Е́', 'Э́', 'И́']\n",
        "\n",
        "for acc, no_acc in zip(accented, no_accent):\n",
        "    clean_text = clean_text.replace(acc, no_acc)"
      ]
    },
    {
      "cell_type": "code",
      "execution_count": null,
      "metadata": {
        "colab": {
          "base_uri": "https://localhost:8080/"
        },
        "id": "orU6UPIo3Ff0",
        "outputId": "3abf69c5-c28f-45f1-8c56-6a8c99d3b4c5"
      },
      "outputs": [
        {
          "data": {
            "text/plain": [
              "2027"
            ]
          },
          "execution_count": 46,
          "metadata": {},
          "output_type": "execute_result"
        }
      ],
      "source": [
        "tokens = nltk.word_tokenize(clean_text)\n",
        "tokens = [token.strip(punctuation) for token in tokens if token.strip(punctuation)!='']\n",
        "tokens[:10]"
      ]
    },
    {
      "cell_type": "code",
      "execution_count": null,
      "metadata": {
        "id": "ZzM4DKD3z0oF"
      },
      "outputs": [],
      "source": [
        "from collections import Counter\n",
        "\n",
        "WORDS = Counter()\n",
        "WORDS.update(tokens)"
      ]
    },
    {
      "cell_type": "code",
      "execution_count": null,
      "metadata": {
        "id": "Q1auQCQRuxpE"
      },
      "outputs": [],
      "source": [
        "# WORDS"
      ]
    },
    {
      "cell_type": "markdown",
      "metadata": {
        "id": "knwOf4t20ZKL"
      },
      "source": [
        "## 3. Анализ и работа с данными\n",
        "\n",
        "Для работы с данными нет единого механизма - тут могут пригодиться и нейросети, и правила, стороннние библиотеки, и много чего еще - в рамках данного занятия посмотрим на вектора и расстояние Левенштейна."
      ]
    },
    {
      "cell_type": "code",
      "execution_count": null,
      "metadata": {
        "id": "3d11loGqyTJv"
      },
      "outputs": [],
      "source": [
        "from sklearn.feature_extraction.text import CountVectorizer, TfidfVectorizer\n",
        "from sklearn.metrics.pairwise import cosine_similarity, cosine_distances\n",
        "from collections import Counter\n",
        "import textdistance"
      ]
    },
    {
      "cell_type": "markdown",
      "metadata": {
        "id": "fFZj1nFd1LEo"
      },
      "source": [
        "### Векторные методы\n",
        "\n",
        "1. Какие методы преобразования тексты в вектора (векторайзеры) вы знаете?\n",
        "2. Можете описать как работает векторайзер?\n",
        "3. Как сравнить насколько вектора похожи?"
      ]
    },
    {
      "cell_type": "code",
      "execution_count": null,
      "metadata": {
        "id": "wzd_w_KdvJot"
      },
      "outputs": [],
      "source": [
        "vocab = list(WORDS.keys())\n",
        "id2word = {i:word for i, word in enumerate(vocab)}"
      ]
    },
    {
      "cell_type": "code",
      "execution_count": null,
      "metadata": {
        "colab": {
          "base_uri": "https://localhost:8080/"
        },
        "id": "_mfZTSLA1DaA",
        "outputId": "f640fed2-977e-4cba-dbcf-0b29e90b79c3"
      },
      "outputs": [
        {
          "data": {
            "text/plain": [
              "['основного', 'основана', 'иностранного', 'оно', 'но']"
            ]
          },
          "execution_count": 51,
          "metadata": {},
          "output_type": "execute_result"
        }
      ],
      "source": [
        "vec = CountVectorizer(analyzer='char', ngram_range=(1,1))\n",
        "X = vec.fit_transform(vocab)\n",
        "\n",
        "def get_closest_match_vec(text, X, vec, TOPN=5):\n",
        "    v = vec.transform([text])\n",
        "    similarities = cosine_distances(v, X)\n",
        "    topn = similarities.argsort()[0][:TOPN]\n",
        "\n",
        "    return [id2word[top] for top in topn]\n",
        "\n",
        "get_closest_match_vec('асновного', X, vec)"
      ]
    },
    {
      "cell_type": "markdown",
      "metadata": {
        "id": "jdKcrmtm1Z9N"
      },
      "source": [
        "### Расстояние Левенштейна\n",
        "\n",
        "1. Что такое расстояние Левенштейна?\n",
        "2. Какие у него плюсы и минусы?\n",
        "\n",
        "![Изображение с ресурса \"Системный Блокъ\"](https://sysblok.ru/wp-content/uploads/2020/12/image1-2.png)\n"
      ]
    },
    {
      "cell_type": "code",
      "execution_count": null,
      "metadata": {
        "id": "ohoY93kJ1DkM"
      },
      "outputs": [],
      "source": [
        "def get_closest_match_with_metric(text, X, vec, metric=textdistance.levenshtein):\n",
        "    similarities = Counter()\n",
        "    lookup = get_closest_match_vec(text, X, vec, TOPN=3)\n",
        "    for word in lookup:\n",
        "        similarities[word] = metric.normalized_similarity(text, word)\n",
        "\n",
        "    return similarities.most_common(1)[0]"
      ]
    },
    {
      "cell_type": "code",
      "execution_count": null,
      "metadata": {
        "colab": {
          "base_uri": "https://localhost:8080/"
        },
        "id": "ZJfFle3-yIeL",
        "outputId": "f3f5af5f-e9c8-41f1-f0a3-21477a42796d"
      },
      "outputs": [
        {
          "data": {
            "text/plain": [
              "('лингвистика', 0.9090909090909091)"
            ]
          },
          "execution_count": 53,
          "metadata": {},
          "output_type": "execute_result"
        }
      ],
      "source": [
        "get_closest_match_with_metric('ленгвистика', X, vec, textdistance.hamming)"
      ]
    },
    {
      "cell_type": "code",
      "execution_count": null,
      "metadata": {
        "colab": {
          "base_uri": "https://localhost:8080/"
        },
        "id": "olVt4Ka2zKx4",
        "outputId": "4f2f784a-6165-43f2-95a2-88f6478968a1"
      },
      "outputs": [
        {
          "data": {
            "text/plain": [
              "('Эмпирическая', 0.9166666666666666)"
            ]
          },
          "execution_count": 54,
          "metadata": {},
          "output_type": "execute_result"
        }
      ],
      "source": [
        "get_closest_match_with_metric('импирическая', X, vec, textdistance.hamming)"
      ]
    },
    {
      "cell_type": "code",
      "execution_count": null,
      "metadata": {
        "colab": {
          "base_uri": "https://localhost:8080/"
        },
        "id": "gXKVbW4azayt",
        "outputId": "a6d7e2ef-527a-44e7-8a4a-af7e8c3d6f2c"
      },
      "outputs": [
        {
          "data": {
            "text/plain": [
              "('моделей', 0.7142857142857143)"
            ]
          },
          "execution_count": 55,
          "metadata": {},
          "output_type": "execute_result"
        }
      ],
      "source": [
        "get_closest_match_with_metric('мадэлей', X, vec, textdistance.hamming)"
      ]
    },
    {
      "cell_type": "markdown",
      "metadata": {
        "id": "C2x3LOuf4mFt"
      },
      "source": [
        "При выборе модели решения задачи мы всегда осуществляем некий трейд-офф между эффективность и время- энерго- затратностью. Алгоритмы, которые работают \"качественнее\"/ \"эффективнее\" часто требуют больших мощностей или времени.\n",
        "\n",
        "А как кстати определить качество? И как его улучшить?"
      ]
    },
    {
      "cell_type": "markdown",
      "metadata": {
        "id": "7ZlNpRwH5JCH"
      },
      "source": [
        "### 4. Качество\n",
        "\n",
        "Для оценки качества подхода требуется большое количество данных и правильно подобранные метрики. Базовые метрики: __accuracy, precision, recall, f1__.\n",
        "\n",
        "![picture](https://encrypted-tbn0.gstatic.com/images?q=tbn:ANd9GcTZnX2JPyF9icH7XMlM4BIlgw74TH4yWNG3kA&s)\n",
        "\n",
        "Если картинка не открывается, она тут: https://drive.google.com/uc?export=view&id=1ibvBKRAy_mn-ln4iZfzJNFTm349HCTmT"
      ]
    },
    {
      "cell_type": "markdown",
      "metadata": {
        "id": "i6NRuEqEprYt"
      },
      "source": [
        "## $F_{1}=\\frac{2\\times\\text{Precision} \\times \\text{Recall}}{\\text{Precision} + \\text{Recall}}$\n",
        "\n",
        "## $Accuracy=\\frac{\\text{TP} + \\text{TN}}{\\text{TP} + \\text{TN} + \\text{FP} + \\text{FN}}$"
      ]
    },
    {
      "cell_type": "markdown",
      "metadata": {
        "id": "Z68G1I0_SBdo"
      },
      "source": [
        "Можно ли найти уже готовый текст, на котором мы можем проверить наш спеллчекер?\n",
        "\n",
        "На большой коллекции текстов с сайтов интернет-газет и размеченных тектов диалога получились следующие метрики:\n",
        "- precision ~ 40%,\n",
        "- recall ~ 60%\n",
        "\n",
        "Что значат эти показатели с точки зрения работы модели и имеющихся данных? Как улучшить эти показатели?\n",
        "\n",
        "Давайте посмотрим на ошибки."
      ]
    },
    {
      "cell_type": "markdown",
      "metadata": {
        "id": "gRAlYPj8TMNw"
      },
      "source": [
        "Так, среди ошибок\n",
        "\n",
        "['симпатичнейшое', 'пояним', 'полчатся', 'нащщот', 'основая', 'вобщем', 'как', 'вы', 'знаете', 'из', 'моего', 'не', 'давнего', 'ящека', 'хороше', 'патаму', 'шта', 'поффтыкав', 'соре', 'чтото', 'мошный', 'хороше', 'седня', 'вешать', 'эт', 'канешна', 'начальнег', 'павзрослому', 'подсаживаеться', 'какието', 'малолетки', 'монголоидом', 'баръер', 'коментариев', 'отвественный', 'расчитаны', 'обълись', 'распрашивая', 'зубодробительня', 'каааак', 'расщифровать', 'самойто', 'тул', 'ваще', 'тока', 'навернео', 'ооочень', 'както', 'мущщину', 'никада']"
      ]
    },
    {
      "cell_type": "code",
      "execution_count": null,
      "metadata": {
        "id": "o8sxhkk02o8s"
      },
      "outputs": [],
      "source": [
        "# get_closest_match_with_metric('выигрышь', X, vec, textdistance.hamming)"
      ]
    },
    {
      "cell_type": "code",
      "execution_count": null,
      "metadata": {
        "id": "IorxQvb9YrHW"
      },
      "outputs": [],
      "source": []
    }
  ],
  "metadata": {
    "colab": {
      "provenance": []
    },
    "kernelspec": {
      "display_name": "Python 3",
      "name": "python3"
    }
  },
  "nbformat": 4,
  "nbformat_minor": 0
}
