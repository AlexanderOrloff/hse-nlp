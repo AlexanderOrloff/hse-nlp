{
 "cells": [
  {
   "cell_type": "markdown",
   "metadata": {},
   "source": [
    "По традиции начинаем с вопроса....\n",
    "\n",
    "У нас есть множество различных новостных статей на абсолютно разные темы. Нам нужно определить тему статьи (узкую) (найти в массе из 3000+ знаков какие-то самые значимые для этой статьи слова, которые делают её отличной от других статей и которые могут поступить в заголовок и составлять её  краткий пересказ) --- как нам это сделать? \n"
   ]
  },
  {
   "cell_type": "markdown",
   "metadata": {},
   "source": [
    "Очевидным образом, не все слова were created equal. Мы уже знакомы с рядос стоп слов, которые мы в лингвистике яростно выбрасываем из предложения, однако, и другие слова в тексте неравнознчны......."
   ]
  },
  {
   "cell_type": "markdown",
   "metadata": {},
   "source": [
    "# TF_IDF\n",
    "\n",
    "Что это? И зачем оно нужно? "
   ]
  },
  {
   "cell_type": "markdown",
   "metadata": {},
   "source": [
    "По сути, это метрика, которая показывает насколько важно/релевантно слово в заданном документе. используется для анализа темы и в поисковиках.\n",
    "\n",
    "В этом семинаре мы попытаемся создать с помощью неё наш собственный поисковик."
   ]
  },
  {
   "cell_type": "markdown",
   "metadata": {},
   "source": [
    "Представим, что нам на вход в поисковике поступило 'a brown cow'. У нас в мировой паутине лежит куча-куча-куча документов с множеством различных слов. Как по заданным словам понять, какой из них релевантнее? "
   ]
  },
  {
   "cell_type": "code",
   "execution_count": 1,
   "metadata": {},
   "outputs": [],
   "source": [
    "import pandas as pd # если нет pandas - не страшно - он тут для красоты\n",
    "from sklearn.feature_extraction.text import TfidfVectorizer"
   ]
  },
  {
   "cell_type": "code",
   "execution_count": 31,
   "metadata": {},
   "outputs": [],
   "source": [
    "inquery = 'the brown cows'\n",
    "\n",
    "documentA = 'the black man went out at night for a stroll past the brown cows he owned He also noticed a wolf on the stroll but did not pay attention ...'\n",
    "documentB = 'The brown children sat around the fire and sang the songs ...'\n",
    "documentC = 'Everything about brown cows.  Brown cows live in a harsh enviroment ... '\n",
    "documentD = 'Everything about cows. Cows live in different enviroments ...'"
   ]
  },
  {
   "cell_type": "markdown",
   "metadata": {},
   "source": [
    "Как мы можем, не залезая в семантику, узнать, какой текст выдать первым?"
   ]
  },
  {
   "cell_type": "markdown",
   "metadata": {},
   "source": [
    "tf\n",
    "\n",
    "\n",
    "idf\n",
    "\n",
    "\n",
    "term frequency–inverse document frequency"
   ]
  },
  {
   "cell_type": "code",
   "execution_count": 44,
   "metadata": {},
   "outputs": [
    {
     "name": "stderr",
     "output_type": "stream",
     "text": [
      "[nltk_data] Downloading package punkt to\n",
      "[nltk_data]     C:\\Users\\avorl\\AppData\\Roaming\\nltk_data...\n",
      "[nltk_data]   Package punkt is already up-to-date!\n"
     ]
    }
   ],
   "source": [
    "\n",
    "import nltk\n",
    "nltk.download('punkt')\n",
    "bagOfWordsA = nltk.word_tokenize(documentA)\n",
    "bagOfWordsB = nltk.word_tokenize(documentB)\n",
    "bagOfWordsC = nltk.word_tokenize(documentC)\n",
    "bagOfWordsD = nltk.word_tokenize(documentD)\n"
   ]
  },
  {
   "cell_type": "code",
   "execution_count": 45,
   "metadata": {},
   "outputs": [],
   "source": [
    "uniqueWords = set(bagOfWordsA).union(set(bagOfWordsB)).union(set(bagOfWordsC)).union(set(bagOfWordsD))"
   ]
  },
  {
   "cell_type": "code",
   "execution_count": 46,
   "metadata": {},
   "outputs": [
    {
     "data": {
      "text/plain": [
       "{',',\n",
       " '.',\n",
       " '...',\n",
       " 'Brown',\n",
       " 'Cows',\n",
       " 'Everything',\n",
       " 'He',\n",
       " 'The',\n",
       " 'a',\n",
       " 'about',\n",
       " 'also',\n",
       " 'ans',\n",
       " 'around',\n",
       " 'at',\n",
       " 'attention',\n",
       " 'black',\n",
       " 'brown',\n",
       " 'but',\n",
       " 'children',\n",
       " 'cows',\n",
       " 'did',\n",
       " 'different',\n",
       " 'enviroment',\n",
       " 'enviroments',\n",
       " 'fire',\n",
       " 'for',\n",
       " 'harsh',\n",
       " 'in',\n",
       " 'live',\n",
       " 'man',\n",
       " 'night',\n",
       " 'not',\n",
       " 'noticed',\n",
       " 'on',\n",
       " 'out',\n",
       " 'past',\n",
       " 'pay',\n",
       " 'sang',\n",
       " 'sat',\n",
       " 'songs',\n",
       " 'stroll',\n",
       " 'the',\n",
       " 'went',\n",
       " 'wolf'}"
      ]
     },
     "execution_count": 46,
     "metadata": {},
     "output_type": "execute_result"
    }
   ],
   "source": [
    "uniqueWords"
   ]
  },
  {
   "cell_type": "code",
   "execution_count": 47,
   "metadata": {},
   "outputs": [],
   "source": [
    "numOfWordsA = dict.fromkeys(uniqueWords, 0)\n",
    "for word in bagOfWordsA:\n",
    "    numOfWordsA[word] += 1\n",
    "\n",
    "numOfWordsB = dict.fromkeys(uniqueWords, 0)\n",
    "for word in bagOfWordsB:\n",
    "    numOfWordsB[word] += 1\n",
    "    \n",
    "numOfWordsC = dict.fromkeys(uniqueWords, 0)\n",
    "for word in bagOfWordsC:\n",
    "    numOfWordsC[word] += 1\n",
    "    \n",
    "numOfWordsD = dict.fromkeys(uniqueWords, 0)\n",
    "for word in bagOfWordsD:\n",
    "    numOfWordsD[word] += 1\n",
    "    \n",
    "df = pd.DataFrame([numOfWordsA, numOfWordsB,numOfWordsC, numOfWordsD ])    "
   ]
  },
  {
   "cell_type": "code",
   "execution_count": 48,
   "metadata": {
    "scrolled": true
   },
   "outputs": [
    {
     "data": {
      "text/html": [
       "<div>\n",
       "<style scoped>\n",
       "    .dataframe tbody tr th:only-of-type {\n",
       "        vertical-align: middle;\n",
       "    }\n",
       "\n",
       "    .dataframe tbody tr th {\n",
       "        vertical-align: top;\n",
       "    }\n",
       "\n",
       "    .dataframe thead th {\n",
       "        text-align: right;\n",
       "    }\n",
       "</style>\n",
       "<table border=\"1\" class=\"dataframe\">\n",
       "  <thead>\n",
       "    <tr style=\"text-align: right;\">\n",
       "      <th></th>\n",
       "      <th>noticed</th>\n",
       "      <th>...</th>\n",
       "      <th>.</th>\n",
       "      <th>did</th>\n",
       "      <th>Cows</th>\n",
       "      <th>not</th>\n",
       "      <th>a</th>\n",
       "      <th>He</th>\n",
       "      <th>stroll</th>\n",
       "      <th>fire</th>\n",
       "      <th>past</th>\n",
       "      <th>Brown</th>\n",
       "      <th>different</th>\n",
       "      <th>on</th>\n",
       "      <th>pay</th>\n",
       "      <th>out</th>\n",
       "      <th>around</th>\n",
       "      <th>Everything</th>\n",
       "      <th>attention</th>\n",
       "      <th>the</th>\n",
       "      <th>enviroment</th>\n",
       "      <th>black</th>\n",
       "      <th>man</th>\n",
       "      <th>night</th>\n",
       "      <th>harsh</th>\n",
       "      <th>cows</th>\n",
       "      <th>also</th>\n",
       "      <th>wolf</th>\n",
       "      <th>sang</th>\n",
       "      <th>enviroments</th>\n",
       "      <th>The</th>\n",
       "      <th>songs</th>\n",
       "      <th>children</th>\n",
       "      <th>live</th>\n",
       "      <th>in</th>\n",
       "      <th>went</th>\n",
       "      <th>,</th>\n",
       "      <th>about</th>\n",
       "      <th>but</th>\n",
       "      <th>for</th>\n",
       "      <th>sat</th>\n",
       "      <th>ans</th>\n",
       "      <th>brown</th>\n",
       "      <th>at</th>\n",
       "    </tr>\n",
       "  </thead>\n",
       "  <tbody>\n",
       "    <tr>\n",
       "      <th>0</th>\n",
       "      <td>1</td>\n",
       "      <td>1</td>\n",
       "      <td>0</td>\n",
       "      <td>1</td>\n",
       "      <td>0</td>\n",
       "      <td>1</td>\n",
       "      <td>4</td>\n",
       "      <td>1</td>\n",
       "      <td>2</td>\n",
       "      <td>0</td>\n",
       "      <td>1</td>\n",
       "      <td>0</td>\n",
       "      <td>0</td>\n",
       "      <td>1</td>\n",
       "      <td>1</td>\n",
       "      <td>1</td>\n",
       "      <td>0</td>\n",
       "      <td>0</td>\n",
       "      <td>1</td>\n",
       "      <td>0</td>\n",
       "      <td>0</td>\n",
       "      <td>1</td>\n",
       "      <td>1</td>\n",
       "      <td>1</td>\n",
       "      <td>0</td>\n",
       "      <td>1</td>\n",
       "      <td>1</td>\n",
       "      <td>1</td>\n",
       "      <td>0</td>\n",
       "      <td>0</td>\n",
       "      <td>0</td>\n",
       "      <td>0</td>\n",
       "      <td>0</td>\n",
       "      <td>0</td>\n",
       "      <td>0</td>\n",
       "      <td>1</td>\n",
       "      <td>1</td>\n",
       "      <td>0</td>\n",
       "      <td>1</td>\n",
       "      <td>1</td>\n",
       "      <td>0</td>\n",
       "      <td>0</td>\n",
       "      <td>1</td>\n",
       "      <td>1</td>\n",
       "    </tr>\n",
       "    <tr>\n",
       "      <th>1</th>\n",
       "      <td>0</td>\n",
       "      <td>1</td>\n",
       "      <td>0</td>\n",
       "      <td>0</td>\n",
       "      <td>0</td>\n",
       "      <td>0</td>\n",
       "      <td>0</td>\n",
       "      <td>0</td>\n",
       "      <td>0</td>\n",
       "      <td>1</td>\n",
       "      <td>0</td>\n",
       "      <td>0</td>\n",
       "      <td>0</td>\n",
       "      <td>0</td>\n",
       "      <td>0</td>\n",
       "      <td>0</td>\n",
       "      <td>1</td>\n",
       "      <td>0</td>\n",
       "      <td>0</td>\n",
       "      <td>1</td>\n",
       "      <td>0</td>\n",
       "      <td>0</td>\n",
       "      <td>0</td>\n",
       "      <td>0</td>\n",
       "      <td>0</td>\n",
       "      <td>0</td>\n",
       "      <td>0</td>\n",
       "      <td>0</td>\n",
       "      <td>1</td>\n",
       "      <td>0</td>\n",
       "      <td>1</td>\n",
       "      <td>1</td>\n",
       "      <td>1</td>\n",
       "      <td>0</td>\n",
       "      <td>0</td>\n",
       "      <td>0</td>\n",
       "      <td>0</td>\n",
       "      <td>0</td>\n",
       "      <td>0</td>\n",
       "      <td>0</td>\n",
       "      <td>1</td>\n",
       "      <td>1</td>\n",
       "      <td>1</td>\n",
       "      <td>0</td>\n",
       "    </tr>\n",
       "    <tr>\n",
       "      <th>2</th>\n",
       "      <td>0</td>\n",
       "      <td>1</td>\n",
       "      <td>1</td>\n",
       "      <td>0</td>\n",
       "      <td>0</td>\n",
       "      <td>0</td>\n",
       "      <td>1</td>\n",
       "      <td>0</td>\n",
       "      <td>0</td>\n",
       "      <td>0</td>\n",
       "      <td>0</td>\n",
       "      <td>1</td>\n",
       "      <td>0</td>\n",
       "      <td>0</td>\n",
       "      <td>0</td>\n",
       "      <td>0</td>\n",
       "      <td>0</td>\n",
       "      <td>1</td>\n",
       "      <td>0</td>\n",
       "      <td>0</td>\n",
       "      <td>1</td>\n",
       "      <td>0</td>\n",
       "      <td>0</td>\n",
       "      <td>0</td>\n",
       "      <td>1</td>\n",
       "      <td>2</td>\n",
       "      <td>0</td>\n",
       "      <td>0</td>\n",
       "      <td>0</td>\n",
       "      <td>0</td>\n",
       "      <td>0</td>\n",
       "      <td>0</td>\n",
       "      <td>0</td>\n",
       "      <td>1</td>\n",
       "      <td>1</td>\n",
       "      <td>0</td>\n",
       "      <td>0</td>\n",
       "      <td>1</td>\n",
       "      <td>0</td>\n",
       "      <td>0</td>\n",
       "      <td>0</td>\n",
       "      <td>0</td>\n",
       "      <td>1</td>\n",
       "      <td>0</td>\n",
       "    </tr>\n",
       "    <tr>\n",
       "      <th>3</th>\n",
       "      <td>0</td>\n",
       "      <td>1</td>\n",
       "      <td>1</td>\n",
       "      <td>0</td>\n",
       "      <td>1</td>\n",
       "      <td>0</td>\n",
       "      <td>0</td>\n",
       "      <td>0</td>\n",
       "      <td>0</td>\n",
       "      <td>0</td>\n",
       "      <td>0</td>\n",
       "      <td>0</td>\n",
       "      <td>1</td>\n",
       "      <td>0</td>\n",
       "      <td>0</td>\n",
       "      <td>0</td>\n",
       "      <td>0</td>\n",
       "      <td>1</td>\n",
       "      <td>0</td>\n",
       "      <td>0</td>\n",
       "      <td>0</td>\n",
       "      <td>0</td>\n",
       "      <td>0</td>\n",
       "      <td>0</td>\n",
       "      <td>0</td>\n",
       "      <td>1</td>\n",
       "      <td>0</td>\n",
       "      <td>0</td>\n",
       "      <td>0</td>\n",
       "      <td>1</td>\n",
       "      <td>0</td>\n",
       "      <td>0</td>\n",
       "      <td>0</td>\n",
       "      <td>1</td>\n",
       "      <td>1</td>\n",
       "      <td>0</td>\n",
       "      <td>0</td>\n",
       "      <td>1</td>\n",
       "      <td>0</td>\n",
       "      <td>0</td>\n",
       "      <td>0</td>\n",
       "      <td>0</td>\n",
       "      <td>0</td>\n",
       "      <td>0</td>\n",
       "    </tr>\n",
       "  </tbody>\n",
       "</table>\n",
       "</div>"
      ],
      "text/plain": [
       "   noticed  ...  .  did  Cows  not  a  He  stroll  fire  past  Brown  \\\n",
       "0        1    1  0    1     0    1  4   1       2     0     1      0   \n",
       "1        0    1  0    0     0    0  0   0       0     1     0      0   \n",
       "2        0    1  1    0     0    0  1   0       0     0     0      1   \n",
       "3        0    1  1    0     1    0  0   0       0     0     0      0   \n",
       "\n",
       "   different  on  pay  out  around  Everything  attention  the  enviroment  \\\n",
       "0          0   1    1    1       0           0          1    0           0   \n",
       "1          0   0    0    0       1           0          0    1           0   \n",
       "2          0   0    0    0       0           1          0    0           1   \n",
       "3          1   0    0    0       0           1          0    0           0   \n",
       "\n",
       "   black  man  night  harsh  cows  also  wolf  sang  enviroments  The  songs  \\\n",
       "0      1    1      1      0     1     1     1     0            0    0      0   \n",
       "1      0    0      0      0     0     0     0     1            0    1      1   \n",
       "2      0    0      0      1     2     0     0     0            0    0      0   \n",
       "3      0    0      0      0     1     0     0     0            1    0      0   \n",
       "\n",
       "   children  live  in  went  ,  about  but  for  sat  ans  brown  at  \n",
       "0         0     0   0     1  1      0    1    1    0    0      1   1  \n",
       "1         1     0   0     0  0      0    0    0    1    1      1   0  \n",
       "2         0     1   1     0  0      1    0    0    0    0      1   0  \n",
       "3         0     1   1     0  0      1    0    0    0    0      0   0  "
      ]
     },
     "execution_count": 48,
     "metadata": {},
     "output_type": "execute_result"
    }
   ],
   "source": [
    "pd.set_option('display.max_columns', None)\n",
    "df"
   ]
  },
  {
   "cell_type": "markdown",
   "metadata": {},
   "source": [
    "Почему иногда всё же но стоит выкидывать стоп-слова - предлоги, артикли и союзы?\n"
   ]
  },
  {
   "cell_type": "markdown",
   "metadata": {},
   "source": [
    "## TF"
   ]
  },
  {
   "cell_type": "markdown",
   "metadata": {},
   "source": [
    "Tf --- term frequency. В самом первом упрощении - это то, сколько раз слово встретилось в тексте (чем чаще искомое слово встретилось в заданном тексте по сравнению с другими, тем этот текст релевантнее запросу), в чём тут проблема? "
   ]
  },
  {
   "cell_type": "markdown",
   "metadata": {},
   "source": [
    "Поэтому есть всякие adjustments. Так часто tf слова в документе считается как количество раз, когда оно появилось в этом документе, деленное на общее число слов документе."
   ]
  },
  {
   "cell_type": "code",
   "execution_count": null,
   "metadata": {},
   "outputs": [],
   "source": [
    "def computeTF(wordDict, bagOfWords):\n",
    "    #напишите функцию, которая получает на ввход bagofwords, а возвращает словарь с tf-ами для каждого слова \n",
    "    tfDict = {}\n",
    "    bagOfWordsCount = len(bagOfWords)\n",
    "    for word, count in wordDict.items():\n",
    "        tfDict[word] = count / float(bagOfWordsCount)\n",
    "    return tfDict"
   ]
  },
  {
   "cell_type": "markdown",
   "metadata": {},
   "source": []
  },
  {
   "cell_type": "code",
   "execution_count": null,
   "metadata": {},
   "outputs": [],
   "source": []
  }
 ],
 "metadata": {
  "kernelspec": {
   "display_name": "Python 3",
   "language": "python",
   "name": "python3"
  },
  "language_info": {
   "codemirror_mode": {
    "name": "ipython",
    "version": 3
   },
   "file_extension": ".py",
   "mimetype": "text/x-python",
   "name": "python",
   "nbconvert_exporter": "python",
   "pygments_lexer": "ipython3",
   "version": "3.8.3"
  }
 },
 "nbformat": 4,
 "nbformat_minor": 4
}
